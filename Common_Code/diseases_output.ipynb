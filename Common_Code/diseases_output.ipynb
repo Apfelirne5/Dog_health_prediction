{
 "cells": [
  {
   "cell_type": "code",
   "execution_count": 66,
   "id": "58c2d5f1",
   "metadata": {},
   "outputs": [
    {
     "name": "stderr",
     "output_type": "stream",
     "text": [
      "/var/folders/fm/gppl2h2d0d10f3vj1qqnr3g00000gn/T/ipykernel_90401/3122565480.py:6: DtypeWarning: Columns (5,21,75,77,79,81,83,85,87,89,191,192,193,194,195,196,197,198,199,200,201,204,214,285,295,516,566) have mixed types. Specify dtype option on import or set low_memory=False.\n",
      "  dog_health_data = pd.read_csv(file_path, delimiter=',')  # Assuming tab-delimited format based on the file extension\n",
      "/var/folders/fm/gppl2h2d0d10f3vj1qqnr3g00000gn/T/ipykernel_90401/3122565480.py:7: DtypeWarning: Columns (5,21,75,77,79,81,83,85,87,89,191,192,193,194,195,196,197,198,199,200,201,204,214,285,295,516,566) have mixed types. Specify dtype option on import or set low_memory=False.\n",
      "  dog_health = pd.read_csv(file_path, delimiter=',')\n"
     ]
    },
    {
     "data": {
      "text/html": [
       "<div>\n",
       "<style scoped>\n",
       "    .dataframe tbody tr th:only-of-type {\n",
       "        vertical-align: middle;\n",
       "    }\n",
       "\n",
       "    .dataframe tbody tr th {\n",
       "        vertical-align: top;\n",
       "    }\n",
       "\n",
       "    .dataframe thead th {\n",
       "        text-align: right;\n",
       "    }\n",
       "</style>\n",
       "<table border=\"1\" class=\"dataframe\">\n",
       "  <thead>\n",
       "    <tr style=\"text-align: right;\">\n",
       "      <th></th>\n",
       "      <th>dog_id</th>\n",
       "      <th>owner_id</th>\n",
       "      <th>st_hles_completion_date</th>\n",
       "      <th>dd_breed_pure_or_mixed</th>\n",
       "      <th>dd_breed_pure</th>\n",
       "      <th>dd_breed_pure_non_akc</th>\n",
       "      <th>dd_breed_mixed_primary</th>\n",
       "      <th>dd_breed_mixed_secondary</th>\n",
       "      <th>dd_age_years</th>\n",
       "      <th>dd_age_basis</th>\n",
       "      <th>...</th>\n",
       "      <th>oc_primary_residence_state</th>\n",
       "      <th>oc_primary_residence_census_division</th>\n",
       "      <th>oc_primary_residence_ownership</th>\n",
       "      <th>oc_primary_residence_ownership_other_description</th>\n",
       "      <th>oc_primary_residence_time_percentage</th>\n",
       "      <th>oc_secondary_residence</th>\n",
       "      <th>oc_secondary_residence_state</th>\n",
       "      <th>oc_secondary_residence_ownership</th>\n",
       "      <th>oc_secondary_residence_ownership_other_description</th>\n",
       "      <th>oc_secondary_residence_time_percentage</th>\n",
       "    </tr>\n",
       "  </thead>\n",
       "  <tbody>\n",
       "    <tr>\n",
       "      <th>0</th>\n",
       "      <td>10509</td>\n",
       "      <td>14660</td>\n",
       "      <td>2020-10-17</td>\n",
       "      <td>2</td>\n",
       "      <td>NaN</td>\n",
       "      <td>NaN</td>\n",
       "      <td>16.0</td>\n",
       "      <td>999.0</td>\n",
       "      <td>16.333333</td>\n",
       "      <td>2</td>\n",
       "      <td>...</td>\n",
       "      <td>MO</td>\n",
       "      <td>4.0</td>\n",
       "      <td>2</td>\n",
       "      <td>NaN</td>\n",
       "      <td>NaN</td>\n",
       "      <td>False</td>\n",
       "      <td>NaN</td>\n",
       "      <td>NaN</td>\n",
       "      <td>NaN</td>\n",
       "      <td>NaN</td>\n",
       "    </tr>\n",
       "    <tr>\n",
       "      <th>1</th>\n",
       "      <td>74227</td>\n",
       "      <td>16755</td>\n",
       "      <td>2020-10-26</td>\n",
       "      <td>2</td>\n",
       "      <td>NaN</td>\n",
       "      <td>NaN</td>\n",
       "      <td>133.0</td>\n",
       "      <td>12.0</td>\n",
       "      <td>1.833333</td>\n",
       "      <td>1</td>\n",
       "      <td>...</td>\n",
       "      <td>MD</td>\n",
       "      <td>5.0</td>\n",
       "      <td>2</td>\n",
       "      <td>NaN</td>\n",
       "      <td>NaN</td>\n",
       "      <td>False</td>\n",
       "      <td>NaN</td>\n",
       "      <td>NaN</td>\n",
       "      <td>NaN</td>\n",
       "      <td>NaN</td>\n",
       "    </tr>\n",
       "    <tr>\n",
       "      <th>2</th>\n",
       "      <td>32487</td>\n",
       "      <td>8568</td>\n",
       "      <td>2020-09-07</td>\n",
       "      <td>1</td>\n",
       "      <td>159.0</td>\n",
       "      <td>NaN</td>\n",
       "      <td>NaN</td>\n",
       "      <td>NaN</td>\n",
       "      <td>13.000000</td>\n",
       "      <td>3</td>\n",
       "      <td>...</td>\n",
       "      <td>VA</td>\n",
       "      <td>5.0</td>\n",
       "      <td>1</td>\n",
       "      <td>NaN</td>\n",
       "      <td>NaN</td>\n",
       "      <td>False</td>\n",
       "      <td>NaN</td>\n",
       "      <td>NaN</td>\n",
       "      <td>NaN</td>\n",
       "      <td>NaN</td>\n",
       "    </tr>\n",
       "    <tr>\n",
       "      <th>3</th>\n",
       "      <td>63150</td>\n",
       "      <td>5380</td>\n",
       "      <td>2020-08-21</td>\n",
       "      <td>2</td>\n",
       "      <td>NaN</td>\n",
       "      <td>NaN</td>\n",
       "      <td>999.0</td>\n",
       "      <td>999.0</td>\n",
       "      <td>13.000000</td>\n",
       "      <td>3</td>\n",
       "      <td>...</td>\n",
       "      <td>CA</td>\n",
       "      <td>9.0</td>\n",
       "      <td>2</td>\n",
       "      <td>NaN</td>\n",
       "      <td>NaN</td>\n",
       "      <td>False</td>\n",
       "      <td>NaN</td>\n",
       "      <td>NaN</td>\n",
       "      <td>NaN</td>\n",
       "      <td>NaN</td>\n",
       "    </tr>\n",
       "    <tr>\n",
       "      <th>4</th>\n",
       "      <td>33369</td>\n",
       "      <td>15957</td>\n",
       "      <td>2020-10-23</td>\n",
       "      <td>2</td>\n",
       "      <td>NaN</td>\n",
       "      <td>NaN</td>\n",
       "      <td>230.0</td>\n",
       "      <td>82.0</td>\n",
       "      <td>2.166667</td>\n",
       "      <td>1</td>\n",
       "      <td>...</td>\n",
       "      <td>OH</td>\n",
       "      <td>3.0</td>\n",
       "      <td>2</td>\n",
       "      <td>NaN</td>\n",
       "      <td>NaN</td>\n",
       "      <td>False</td>\n",
       "      <td>NaN</td>\n",
       "      <td>NaN</td>\n",
       "      <td>NaN</td>\n",
       "      <td>NaN</td>\n",
       "    </tr>\n",
       "  </tbody>\n",
       "</table>\n",
       "<p>5 rows × 658 columns</p>\n",
       "</div>"
      ],
      "text/plain": [
       "   dog_id  owner_id st_hles_completion_date  dd_breed_pure_or_mixed  \\\n",
       "0   10509     14660              2020-10-17                       2   \n",
       "1   74227     16755              2020-10-26                       2   \n",
       "2   32487      8568              2020-09-07                       1   \n",
       "3   63150      5380              2020-08-21                       2   \n",
       "4   33369     15957              2020-10-23                       2   \n",
       "\n",
       "   dd_breed_pure dd_breed_pure_non_akc  dd_breed_mixed_primary  \\\n",
       "0            NaN                   NaN                    16.0   \n",
       "1            NaN                   NaN                   133.0   \n",
       "2          159.0                   NaN                     NaN   \n",
       "3            NaN                   NaN                   999.0   \n",
       "4            NaN                   NaN                   230.0   \n",
       "\n",
       "   dd_breed_mixed_secondary  dd_age_years  dd_age_basis  ...  \\\n",
       "0                     999.0     16.333333             2  ...   \n",
       "1                      12.0      1.833333             1  ...   \n",
       "2                       NaN     13.000000             3  ...   \n",
       "3                     999.0     13.000000             3  ...   \n",
       "4                      82.0      2.166667             1  ...   \n",
       "\n",
       "  oc_primary_residence_state oc_primary_residence_census_division  \\\n",
       "0                         MO                                  4.0   \n",
       "1                         MD                                  5.0   \n",
       "2                         VA                                  5.0   \n",
       "3                         CA                                  9.0   \n",
       "4                         OH                                  3.0   \n",
       "\n",
       "  oc_primary_residence_ownership  \\\n",
       "0                              2   \n",
       "1                              2   \n",
       "2                              1   \n",
       "3                              2   \n",
       "4                              2   \n",
       "\n",
       "  oc_primary_residence_ownership_other_description  \\\n",
       "0                                              NaN   \n",
       "1                                              NaN   \n",
       "2                                              NaN   \n",
       "3                                              NaN   \n",
       "4                                              NaN   \n",
       "\n",
       "  oc_primary_residence_time_percentage oc_secondary_residence  \\\n",
       "0                                  NaN                  False   \n",
       "1                                  NaN                  False   \n",
       "2                                  NaN                  False   \n",
       "3                                  NaN                  False   \n",
       "4                                  NaN                  False   \n",
       "\n",
       "  oc_secondary_residence_state oc_secondary_residence_ownership  \\\n",
       "0                          NaN                              NaN   \n",
       "1                          NaN                              NaN   \n",
       "2                          NaN                              NaN   \n",
       "3                          NaN                              NaN   \n",
       "4                          NaN                              NaN   \n",
       "\n",
       "  oc_secondary_residence_ownership_other_description  \\\n",
       "0                                                NaN   \n",
       "1                                                NaN   \n",
       "2                                                NaN   \n",
       "3                                                NaN   \n",
       "4                                                NaN   \n",
       "\n",
       "  oc_secondary_residence_time_percentage  \n",
       "0                                    NaN  \n",
       "1                                    NaN  \n",
       "2                                    NaN  \n",
       "3                                    NaN  \n",
       "4                                    NaN  \n",
       "\n",
       "[5 rows x 658 columns]"
      ]
     },
     "execution_count": 66,
     "metadata": {},
     "output_type": "execute_result"
    }
   ],
   "source": [
    "# First, let's load the provided dataset to understand its structure and content.\n",
    "import pandas as pd\n",
    "\n",
    "# Load the dataset\n",
    "file_path = '../../DS2/Dataset/SurveyData/SurveyData_CSV_DAP_2021_HLES_dog_owner_v1.0.csv'\n",
    "dog_health_data = pd.read_csv(file_path, delimiter=',')  # Assuming tab-delimited format based on the file extension\n",
    "dog_health = pd.read_csv(file_path, delimiter=',')\n",
    "\n",
    "dog_health_data.head()"
   ]
  },
  {
   "cell_type": "code",
   "execution_count": 67,
   "id": "55ed5e8f",
   "metadata": {},
   "outputs": [
    {
     "name": "stdout",
     "output_type": "stream",
     "text": [
      "   Code                                    Description\n",
      "0     0                                   No disorders\n",
      "1     1                      Only congenital disorders\n",
      "2     2                  Only non-congenital disorders\n",
      "3     3  Both congenital and non- congenital disorders\n"
     ]
    }
   ],
   "source": [
    "dog_health_condition_mapping = {\n",
    "     0: 'No disorders',\n",
    "     1: 'Only congenital disorders',\n",
    "     2: 'Only non-congenital disorders',\n",
    "     3: 'Both congenital and non- congenital disorders',\n",
    "     }\n",
    "\n",
    "# Convert the dictionary to a DataFrame\n",
    "df_dog_health_condition_mapping = pd.DataFrame(list(dog_health_condition_mapping.items()), columns=['Code', 'Description'])\n",
    "\n",
    "# Display the resulting DataFrame\n",
    "print(df_dog_health_condition_mapping)\n"
   ]
  },
  {
   "cell_type": "code",
   "execution_count": 68,
   "id": "d33e64e1",
   "metadata": {},
   "outputs": [
    {
     "name": "stdout",
     "output_type": "stream",
     "text": [
      "hs_health_conditions_eye\n",
      "0    28763\n",
      "2     4213\n",
      "3      126\n",
      "1       70\n",
      "Name: count, dtype: int64\n"
     ]
    }
   ],
   "source": [
    "eye_condition_counts = dog_health['hs_health_conditions_eye'].value_counts()\n",
    "\n",
    "# 显示结果\n",
    "print(eye_condition_counts)"
   ]
  },
  {
   "cell_type": "code",
   "execution_count": 69,
   "id": "7a1b4b72",
   "metadata": {},
   "outputs": [
    {
     "name": "stdout",
     "output_type": "stream",
     "text": [
      "   Code                                    Description  Count_eye\n",
      "0     0                                   No disorders      28763\n",
      "1     2                  Only non-congenital disorders       4213\n",
      "2     3  Both congenital and non- congenital disorders        126\n",
      "3     1                      Only congenital disorders         70\n"
     ]
    }
   ],
   "source": [
    "# Replace values in eye_condition_counts with descriptions\n",
    "eye_condition_counts_mapped = eye_condition_counts.index.map(df_dog_health_condition_mapping.set_index('Code')['Description'])\n",
    "eye_condition_counts_mapped = pd.Series(eye_condition_counts.values, index=eye_condition_counts_mapped)\n",
    "\n",
    "df_eye_condition = pd.DataFrame({\n",
    "    'Code': eye_condition_counts.index,\n",
    "    'Description': eye_condition_counts_mapped.index,\n",
    "    'Count_eye': eye_condition_counts_mapped.values})\n",
    "\n",
    "# Display the resulting dataframe\n",
    "print(df_eye_condition)"
   ]
  },
  {
   "cell_type": "code",
   "execution_count": 70,
   "id": "e395143f",
   "metadata": {},
   "outputs": [
    {
     "name": "stdout",
     "output_type": "stream",
     "text": [
      "                                     Description  Count_ear\n",
      "0                                   No disorders      28866\n",
      "1                  Only non-congenital disorders       4218\n",
      "2                      Only congenital disorders         70\n",
      "3  Both congenital and non- congenital disorders         18\n"
     ]
    }
   ],
   "source": [
    "ear_condition_counts = dog_health['hs_health_conditions_ear'].value_counts()\n",
    "ear_condition_counts_mapped = ear_condition_counts.index.map(df_dog_health_condition_mapping.set_index('Code')['Description'])\n",
    "ear_condition_counts_mapped = pd.Series(ear_condition_counts.values, index=ear_condition_counts_mapped)\n",
    "\n",
    "df_ear_condition = pd.DataFrame({'Description': ear_condition_counts_mapped.index, 'Count_ear': ear_condition_counts_mapped.values})\n",
    "print(df_ear_condition)"
   ]
  },
  {
   "cell_type": "code",
   "execution_count": 71,
   "id": "cff1481c",
   "metadata": {},
   "outputs": [
    {
     "name": "stdout",
     "output_type": "stream",
     "text": [
      "                                     Description  Count_oral\n",
      "0                                   No disorders       24011\n",
      "1                  Only non-congenital disorders        9053\n",
      "2  Both congenital and non- congenital disorders          68\n",
      "3                      Only congenital disorders          40\n"
     ]
    }
   ],
   "source": [
    "oral_condition_counts = dog_health['hs_health_conditions_oral'].value_counts()\n",
    "oral_condition_counts_mapped = oral_condition_counts.index.map(df_dog_health_condition_mapping.set_index('Code')['Description'])\n",
    "oral_condition_counts_mapped = pd.Series(oral_condition_counts.values, index=oral_condition_counts_mapped)\n",
    "\n",
    "df_oral_condition = pd.DataFrame({'Description': oral_condition_counts_mapped.index, 'Count_oral': oral_condition_counts_mapped.values})\n",
    "print(df_oral_condition)"
   ]
  },
  {
   "cell_type": "code",
   "execution_count": 72,
   "id": "cfdb9a04",
   "metadata": {},
   "outputs": [
    {
     "name": "stdout",
     "output_type": "stream",
     "text": [
      "                                     Description  Count_skin\n",
      "0                                   No disorders       23660\n",
      "1                  Only non-congenital disorders        9398\n",
      "2  Both congenital and non- congenital disorders          58\n",
      "3                      Only congenital disorders          56\n"
     ]
    }
   ],
   "source": [
    "skin_condition_counts = dog_health['hs_health_conditions_skin'].value_counts()\n",
    "skin_condition_counts_mapped = skin_condition_counts.index.map(df_dog_health_condition_mapping.set_index('Code')['Description'])\n",
    "skin_condition_counts_mapped = pd.Series(skin_condition_counts.values, index=skin_condition_counts_mapped)\n",
    "\n",
    "df_skin_condition = pd.DataFrame({'Description': skin_condition_counts_mapped.index, 'Count_skin': skin_condition_counts_mapped.values})\n",
    "print(df_skin_condition)"
   ]
  },
  {
   "cell_type": "code",
   "execution_count": 73,
   "id": "20d55010",
   "metadata": {},
   "outputs": [
    {
     "name": "stdout",
     "output_type": "stream",
     "text": [
      "                                     Description  Count_cardiac\n",
      "0                                   No disorders          31225\n",
      "1                  Only non-congenital disorders           1651\n",
      "2  Both congenital and non- congenital disorders            229\n",
      "3                      Only congenital disorders             67\n"
     ]
    }
   ],
   "source": [
    "cardiac_condition_counts = dog_health['hs_health_conditions_cardiac'].value_counts()\n",
    "cardiac_condition_counts_mapped = cardiac_condition_counts.index.map(df_dog_health_condition_mapping.set_index('Code')['Description'])\n",
    "cardiac_condition_counts_mapped = pd.Series(cardiac_condition_counts.values, index=cardiac_condition_counts_mapped)\n",
    "\n",
    "df_cardiac_condition = pd.DataFrame({'Description': cardiac_condition_counts_mapped.index, 'Count_cardiac': cardiac_condition_counts_mapped.values})\n",
    "print(df_cardiac_condition)\n"
   ]
  },
  {
   "cell_type": "code",
   "execution_count": 74,
   "id": "44c84cb2",
   "metadata": {},
   "outputs": [
    {
     "name": "stdout",
     "output_type": "stream",
     "text": [
      "                                     Description  Count_respiratory\n",
      "0                                   No disorders              32002\n",
      "1                  Only non-congenital disorders               1116\n",
      "2  Both congenital and non- congenital disorders                 37\n",
      "3                      Only congenital disorders                 17\n"
     ]
    }
   ],
   "source": [
    "respiratory_condition_counts = dog_health['hs_health_conditions_respiratory'].value_counts()\n",
    "respiratory_condition_counts_mapped = respiratory_condition_counts.index.map(df_dog_health_condition_mapping.set_index('Code')['Description'])\n",
    "respiratory_condition_counts_mapped = pd.Series(respiratory_condition_counts.values, index=respiratory_condition_counts_mapped)\n",
    "\n",
    "df_respiratory_condition = pd.DataFrame({'Description': respiratory_condition_counts_mapped.index, 'Count_respiratory': respiratory_condition_counts_mapped.values})\n",
    "print(df_respiratory_condition)\n",
    "\n"
   ]
  },
  {
   "cell_type": "code",
   "execution_count": 75,
   "id": "07a9e56a",
   "metadata": {},
   "outputs": [
    {
     "name": "stdout",
     "output_type": "stream",
     "text": [
      "                                     Description  Count_gastrointestinal\n",
      "0                                   No disorders                   28420\n",
      "1                  Only non-congenital disorders                    4620\n",
      "2                      Only congenital disorders                      94\n",
      "3  Both congenital and non- congenital disorders                      38\n"
     ]
    }
   ],
   "source": [
    "gastrointestinal_condition_counts = dog_health['hs_health_conditions_gastrointestinal'].value_counts()\n",
    "gastrointestinal_condition_counts_mapped = gastrointestinal_condition_counts.index.map(df_dog_health_condition_mapping.set_index('Code')['Description'])\n",
    "gastrointestinal_condition_counts_mapped = pd.Series(gastrointestinal_condition_counts.values, index=gastrointestinal_condition_counts_mapped)\n",
    "\n",
    "df_gastrointestinal_condition = pd.DataFrame({'Description': gastrointestinal_condition_counts_mapped.index, 'Count_gastrointestinal': gastrointestinal_condition_counts_mapped.values})\n",
    "print(df_gastrointestinal_condition)\n"
   ]
  },
  {
   "cell_type": "code",
   "execution_count": 76,
   "id": "e3855b2d",
   "metadata": {},
   "outputs": [
    {
     "name": "stdout",
     "output_type": "stream",
     "text": [
      "                                     Description  Count_liver\n",
      "0                                   No disorders        32018\n",
      "1                  Only non-congenital disorders         1120\n",
      "2  Both congenital and non- congenital disorders           21\n",
      "3                      Only congenital disorders           13\n"
     ]
    }
   ],
   "source": [
    "liver_condition_counts = dog_health['hs_health_conditions_liver'].value_counts()\n",
    "liver_condition_counts_mapped = liver_condition_counts.index.map(df_dog_health_condition_mapping.set_index('Code')['Description'])\n",
    "liver_condition_counts_mapped = pd.Series(liver_condition_counts.values, index=liver_condition_counts_mapped)\n",
    "\n",
    "df_liver_condition = pd.DataFrame({'Description': liver_condition_counts_mapped.index, 'Count_liver': liver_condition_counts_mapped.values})\n",
    "print(df_liver_condition)\n",
    "\n"
   ]
  },
  {
   "cell_type": "code",
   "execution_count": 77,
   "id": "c3d5c6d1",
   "metadata": {},
   "outputs": [
    {
     "name": "stdout",
     "output_type": "stream",
     "text": [
      "                                     Description  Count_kidney\n",
      "0                                   No disorders         30586\n",
      "1                  Only non-congenital disorders          2537\n",
      "2  Both congenital and non- congenital disorders            28\n",
      "3                      Only congenital disorders            21\n"
     ]
    }
   ],
   "source": [
    "kidney_condition_counts = dog_health['hs_health_conditions_kidney'].value_counts()\n",
    "kidney_condition_counts_mapped = kidney_condition_counts.index.map(df_dog_health_condition_mapping.set_index('Code')['Description'])\n",
    "kidney_condition_counts_mapped = pd.Series(kidney_condition_counts.values, index=kidney_condition_counts_mapped)\n",
    "\n",
    "df_kidney_condition = pd.DataFrame({'Description': kidney_condition_counts_mapped.index, 'Count_kidney': kidney_condition_counts_mapped.values})\n",
    "print(df_kidney_condition)\n",
    "\n"
   ]
  },
  {
   "cell_type": "code",
   "execution_count": 78,
   "id": "89896d41",
   "metadata": {},
   "outputs": [
    {
     "name": "stdout",
     "output_type": "stream",
     "text": [
      "                                     Description  Count_reproductive\n",
      "0                                   No disorders               32395\n",
      "1                  Only non-congenital disorders                 642\n",
      "2                      Only congenital disorders                 125\n",
      "3  Both congenital and non- congenital disorders                  10\n"
     ]
    }
   ],
   "source": [
    "reproductive_condition_counts = dog_health['hs_health_conditions_reproductive'].value_counts()\n",
    "reproductive_condition_counts_mapped = reproductive_condition_counts.index.map(df_dog_health_condition_mapping.set_index('Code')['Description'])\n",
    "reproductive_condition_counts_mapped = pd.Series(reproductive_condition_counts.values, index=reproductive_condition_counts_mapped)\n",
    "\n",
    "df_reproductive_condition = pd.DataFrame({'Description': reproductive_condition_counts_mapped.index, 'Count_reproductive': reproductive_condition_counts_mapped.values})\n",
    "print(df_reproductive_condition)\n",
    "\n",
    "\n"
   ]
  },
  {
   "cell_type": "code",
   "execution_count": 79,
   "id": "7767ba57",
   "metadata": {},
   "outputs": [
    {
     "name": "stdout",
     "output_type": "stream",
     "text": [
      "                                     Description  Count_orthopedic\n",
      "0                                   No disorders             26843\n",
      "1                  Only non-congenital disorders              6040\n",
      "2  Both congenital and non- congenital disorders               209\n",
      "3                      Only congenital disorders                80\n"
     ]
    }
   ],
   "source": [
    "orthopedic_condition_counts = dog_health['hs_health_conditions_orthopedic'].value_counts()\n",
    "orthopedic_condition_counts_mapped = orthopedic_condition_counts.index.map(df_dog_health_condition_mapping.set_index('Code')['Description'])\n",
    "orthopedic_condition_counts_mapped = pd.Series(orthopedic_condition_counts.values, index=orthopedic_condition_counts_mapped)\n",
    "\n",
    "df_orthopedic_condition = pd.DataFrame({'Description': orthopedic_condition_counts_mapped.index, 'Count_orthopedic': orthopedic_condition_counts_mapped.values})\n",
    "print(df_orthopedic_condition)\n",
    "\n"
   ]
  },
  {
   "cell_type": "code",
   "execution_count": 80,
   "id": "1b515798",
   "metadata": {},
   "outputs": [
    {
     "name": "stdout",
     "output_type": "stream",
     "text": [
      "                                     Description  Count_neurological\n",
      "0                                   No disorders               31566\n",
      "1                  Only non-congenital disorders                1562\n",
      "2  Both congenital and non- congenital disorders                  35\n",
      "3                      Only congenital disorders                   9\n"
     ]
    }
   ],
   "source": [
    "neurological_condition_counts = dog_health['hs_health_conditions_neurological'].value_counts()\n",
    "neurological_condition_counts_mapped = neurological_condition_counts.index.map(df_dog_health_condition_mapping.set_index('Code')['Description'])\n",
    "neurological_condition_counts_mapped = pd.Series(neurological_condition_counts.values, index=neurological_condition_counts_mapped)\n",
    "\n",
    "df_neurological_condition = pd.DataFrame({'Description': neurological_condition_counts_mapped.index, 'Count_neurological': neurological_condition_counts_mapped.values})\n",
    "print(df_neurological_condition)\n",
    "\n"
   ]
  },
  {
   "cell_type": "code",
   "execution_count": 81,
   "id": "cf3f6370",
   "metadata": {},
   "outputs": [
    {
     "name": "stdout",
     "output_type": "stream",
     "text": [
      "                                     Description  Count_endocrine\n",
      "0                                   No disorders            32074\n",
      "1                  Only non-congenital disorders             1075\n",
      "2  Both congenital and non- congenital disorders               20\n",
      "3                      Only congenital disorders                3\n"
     ]
    }
   ],
   "source": [
    "endocrine_condition_counts = dog_health['hs_health_conditions_endocrine'].value_counts()\n",
    "endocrine_condition_counts_mapped = endocrine_condition_counts.index.map(df_dog_health_condition_mapping.set_index('Code')['Description'])\n",
    "endocrine_condition_counts_mapped = pd.Series(endocrine_condition_counts.values, index=endocrine_condition_counts_mapped)\n",
    "\n",
    "df_endocrine_condition = pd.DataFrame({'Description': endocrine_condition_counts_mapped.index, 'Count_endocrine': endocrine_condition_counts_mapped.values})\n",
    "print(df_endocrine_condition)\n",
    "\n"
   ]
  },
  {
   "cell_type": "code",
   "execution_count": 82,
   "id": "bb2d3145",
   "metadata": {},
   "outputs": [
    {
     "name": "stdout",
     "output_type": "stream",
     "text": [
      "                                     Description  Count_hematologic\n",
      "0                                   No disorders              32990\n",
      "1                  Only non-congenital disorders                175\n",
      "2  Both congenital and non- congenital disorders                  5\n",
      "3                      Only congenital disorders                  2\n"
     ]
    }
   ],
   "source": [
    "hematologic_condition_counts = dog_health['hs_health_conditions_hematologic'].value_counts()\n",
    "hematologic_condition_counts_mapped = hematologic_condition_counts.index.map(df_dog_health_condition_mapping.set_index('Code')['Description'])\n",
    "hematologic_condition_counts_mapped = pd.Series(hematologic_condition_counts.values, index=hematologic_condition_counts_mapped)\n",
    "\n",
    "df_hematologic_condition = pd.DataFrame({'Description': hematologic_condition_counts_mapped.index, 'Count_hematologic': hematologic_condition_counts_mapped.values})\n",
    "print(df_hematologic_condition)\n",
    "\n"
   ]
  },
  {
   "cell_type": "code",
   "execution_count": 83,
   "id": "a1fc97cd",
   "metadata": {},
   "outputs": [
    {
     "name": "stdout",
     "output_type": "stream",
     "text": [
      "                     Description  Count_immune\n",
      "0                   No disorders         32902\n",
      "1  Only non-congenital disorders           270\n"
     ]
    }
   ],
   "source": [
    "immune_condition_counts = dog_health['hs_health_conditions_immune'].value_counts()\n",
    "immune_condition_counts_mapped = immune_condition_counts.index.map(df_dog_health_condition_mapping.set_index('Code')['Description'])\n",
    "immune_condition_counts_mapped = pd.Series(immune_condition_counts.values, index=immune_condition_counts_mapped)\n",
    "\n",
    "df_immune_condition = pd.DataFrame({'Description': immune_condition_counts_mapped.index, 'Count_immune': immune_condition_counts_mapped.values})\n",
    "print(df_immune_condition)\n",
    "\n"
   ]
  },
  {
   "cell_type": "code",
   "execution_count": 84,
   "id": "322f9ce2",
   "metadata": {},
   "outputs": [
    {
     "name": "stdout",
     "output_type": "stream",
     "text": [
      "                     Description  Count_infectious_disease\n",
      "0                   No disorders                     24318\n",
      "1  Only non-congenital disorders                      8854\n"
     ]
    }
   ],
   "source": [
    "infectious_disease_condition_counts = dog_health['hs_health_conditions_infectious_disease'].value_counts()\n",
    "infectious_disease_condition_counts_mapped = infectious_disease_condition_counts.index.map(df_dog_health_condition_mapping.set_index('Code')['Description'])\n",
    "infectious_disease_condition_counts_mapped = pd.Series(infectious_disease_condition_counts.values, index=infectious_disease_condition_counts_mapped)\n",
    "\n",
    "df_infectious_disease_condition = pd.DataFrame({'Description': infectious_disease_condition_counts_mapped.index, 'Count_infectious_disease': infectious_disease_condition_counts_mapped.values})\n",
    "print(df_infectious_disease_condition)\n",
    "\n",
    "\n"
   ]
  },
  {
   "cell_type": "code",
   "execution_count": 85,
   "id": "601b5611",
   "metadata": {},
   "outputs": [
    {
     "name": "stdout",
     "output_type": "stream",
     "text": [
      "                     Description  Count_toxin_consumption\n",
      "0                   No disorders                    29527\n",
      "1  Only non-congenital disorders                     3645\n"
     ]
    }
   ],
   "source": [
    "toxin_consumption_condition_counts = dog_health['hs_health_conditions_toxin_consumption'].value_counts()\n",
    "toxin_consumption_condition_counts_mapped = toxin_consumption_condition_counts.index.map(df_dog_health_condition_mapping.set_index('Code')['Description'])\n",
    "toxin_consumption_condition_counts_mapped = pd.Series(toxin_consumption_condition_counts.values, index=toxin_consumption_condition_counts_mapped)\n",
    "\n",
    "df_toxin_consumption_condition = pd.DataFrame({'Description': toxin_consumption_condition_counts_mapped.index, 'Count_toxin_consumption': toxin_consumption_condition_counts_mapped.values})\n",
    "print(df_toxin_consumption_condition)"
   ]
  },
  {
   "cell_type": "code",
   "execution_count": null,
   "id": "70e0bff4",
   "metadata": {},
   "outputs": [],
   "source": []
  },
  {
   "cell_type": "code",
   "execution_count": 86,
   "id": "0005545e",
   "metadata": {},
   "outputs": [
    {
     "name": "stdout",
     "output_type": "stream",
     "text": [
      "                     Description  Count_trauma\n",
      "0                   No disorders         23977\n",
      "1  Only non-congenital disorders          9195\n"
     ]
    }
   ],
   "source": [
    "trauma_condition_counts = dog_health['hs_health_conditions_trauma'].value_counts()\n",
    "trauma_condition_counts_mapped = trauma_condition_counts.index.map(df_dog_health_condition_mapping.set_index('Code')['Description'])\n",
    "trauma_condition_counts_mapped = pd.Series(trauma_condition_counts.values, index=trauma_condition_counts_mapped)\n",
    "\n",
    "df_trauma_condition = pd.DataFrame({'Description': trauma_condition_counts_mapped.index, 'Count_trauma': trauma_condition_counts_mapped.values})\n",
    "print(df_trauma_condition)\n"
   ]
  },
  {
   "cell_type": "code",
   "execution_count": 87,
   "id": "feb06630",
   "metadata": {},
   "outputs": [
    {
     "name": "stdout",
     "output_type": "stream",
     "text": [
      "                     Description  Count_cancer\n",
      "0                   No disorders         31071\n",
      "1  Only non-congenital disorders          2101\n"
     ]
    }
   ],
   "source": [
    "cancer_condition_counts = dog_health['hs_health_conditions_cancer'].value_counts()\n",
    "cancer_condition_counts_mapped = cancer_condition_counts.index.map(df_dog_health_condition_mapping.set_index('Code')['Description'])\n",
    "cancer_condition_counts_mapped = pd.Series(cancer_condition_counts.values, index=cancer_condition_counts_mapped)\n",
    "\n",
    "df_cancer_condition = pd.DataFrame({'Description': cancer_condition_counts_mapped.index, 'Count_cancer': cancer_condition_counts_mapped.values})\n",
    "print(df_cancer_condition)\n"
   ]
  },
  {
   "cell_type": "code",
   "execution_count": 88,
   "id": "ed7be343",
   "metadata": {},
   "outputs": [
    {
     "name": "stdout",
     "output_type": "stream",
     "text": [
      "                                     Description  Count_ear  Code  Count_eye  \\\n",
      "0                                   No disorders      28866     0      28763   \n",
      "1                  Only non-congenital disorders       4218     2       4213   \n",
      "2                      Only congenital disorders         70     1         70   \n",
      "3  Both congenital and non- congenital disorders         18     3        126   \n",
      "\n",
      "   Count_oral  Count_skin  Count_cardiac  Count_respiratory  \\\n",
      "0       24011       23660          31225              32002   \n",
      "1        9053        9398           1651               1116   \n",
      "2          40          56             67                 17   \n",
      "3          68          58            229                 37   \n",
      "\n",
      "   Count_gastrointestinal  Count_liver  ...  Count_reproductive  \\\n",
      "0                   28420        32018  ...               32395   \n",
      "1                    4620         1120  ...                 642   \n",
      "2                      94           13  ...                 125   \n",
      "3                      38           21  ...                  10   \n",
      "\n",
      "   Count_orthopedic  Count_neurological  Count_endocrine  Count_hematologic  \\\n",
      "0             26843               31566            32074              32990   \n",
      "1              6040                1562             1075                175   \n",
      "2                80                   9                3                  2   \n",
      "3               209                  35               20                  5   \n",
      "\n",
      "   Count_toxin_consumption  Count_infectious_disease  Count_immune  \\\n",
      "0                  29527.0                   24318.0       32902.0   \n",
      "1                   3645.0                    8854.0         270.0   \n",
      "2                      NaN                       NaN           NaN   \n",
      "3                      NaN                       NaN           NaN   \n",
      "\n",
      "   Count_trauma  Count_cancer  \n",
      "0       23977.0       31071.0  \n",
      "1        9195.0        2101.0  \n",
      "2           NaN           NaN  \n",
      "3           NaN           NaN  \n",
      "\n",
      "[4 rows x 21 columns]\n"
     ]
    }
   ],
   "source": [
    "# Merge all DataFrames on the 'Description' column\n",
    "merged_data = pd.merge(df_ear_condition, df_eye_condition, on='Description', how='outer')\n",
    "merged_data = pd.merge(merged_data, df_oral_condition, on='Description', how='outer')\n",
    "merged_data = pd.merge(merged_data, df_skin_condition, on='Description', how='outer')\n",
    "merged_data = pd.merge(merged_data, df_cardiac_condition, on='Description', how='outer')\n",
    "merged_data = pd.merge(merged_data, df_respiratory_condition, on='Description', how='outer')\n",
    "merged_data = pd.merge(merged_data, df_gastrointestinal_condition, on='Description', how='outer')\n",
    "merged_data = pd.merge(merged_data, df_liver_condition, on='Description', how='outer')\n",
    "merged_data = pd.merge(merged_data, df_kidney_condition, on='Description', how='outer')\n",
    "merged_data = pd.merge(merged_data, df_reproductive_condition, on='Description', how='outer')\n",
    "merged_data = pd.merge(merged_data, df_orthopedic_condition, on='Description', how='outer')\n",
    "merged_data = pd.merge(merged_data, df_neurological_condition, on='Description', how='outer')\n",
    "merged_data = pd.merge(merged_data, df_endocrine_condition, on='Description', how='outer')\n",
    "\n",
    "\n",
    "merged_data = pd.merge(merged_data, df_hematologic_condition, on='Description', how='outer')\n",
    "merged_data = pd.merge(merged_data, df_toxin_consumption_condition, on='Description', how='outer')\n",
    "merged_data = pd.merge(merged_data, df_infectious_disease_condition, on='Description', how='outer')\n",
    "merged_data = pd.merge(merged_data, df_immune_condition, on='Description', how='outer')\n",
    "merged_data = pd.merge(merged_data, df_trauma_condition, on='Description', how='outer')\n",
    "merged_data = pd.merge(merged_data, df_cancer_condition, on='Description', how='outer')\n",
    "print(merged_data)"
   ]
  },
  {
   "cell_type": "markdown",
   "id": "ec4eabb0",
   "metadata": {},
   "source": [
    "Extracted Data"
   ]
  },
  {
   "cell_type": "code",
   "execution_count": 90,
   "id": "ddd5e42a",
   "metadata": {},
   "outputs": [
    {
     "name": "stderr",
     "output_type": "stream",
     "text": [
      "/var/folders/fm/gppl2h2d0d10f3vj1qqnr3g00000gn/T/ipykernel_90401/1334152639.py:3: DtypeWarning: Columns (5,21,75,77,79,81,83,85,87,89,191,192,193,194,195,196,197,198,199,200,201,204,214,285,295,516,566) have mixed types. Specify dtype option on import or set low_memory=False.\n",
      "  dog_health = pd.read_csv(file_path, delimiter=',')\n"
     ]
    }
   ],
   "source": [
    "import pandas as pd\n",
    "\n",
    "dog_health = pd.read_csv(file_path, delimiter=',')\n",
    "\n",
    "def map_condition(value):\n",
    "    if value in [1, 2, 3]:\n",
    "        return 1\n",
    "    else:\n",
    "        return value\n",
    "\n",
    "columns_of_interest = ['hs_health_conditions_eye', \n",
    "                       'hs_health_conditions_ear', \n",
    "                       'hs_health_conditions_oral', \n",
    "                       'hs_health_conditions_skin', \n",
    "                       'hs_health_conditions_cardiac', \n",
    "                       'hs_health_conditions_respiratory', \n",
    "                       'hs_health_conditions_gastrointestinal', \n",
    "                       'hs_health_conditions_liver', \n",
    "                       'hs_health_conditions_kidney', \n",
    "                       'hs_health_conditions_reproductive', \n",
    "                       'hs_health_conditions_orthopedic', \n",
    "                       'hs_health_conditions_neurological', \n",
    "                       'hs_health_conditions_endocrine', \n",
    "                       'hs_health_conditions_hematologic', \n",
    "                       'hs_health_conditions_immune', \n",
    "                       'hs_health_conditions_infectious_disease', \n",
    "                       'hs_health_conditions_toxin_consumption', \n",
    "                       'hs_health_conditions_trauma', \n",
    "                       'hs_health_conditions_cancer']\n",
    "\n",
    "# reencode the values for output\n",
    "for column in columns_of_interest:\n",
    "    dog_health[column] = dog_health[column].apply(map_condition)\n",
    "\n",
    "\n",
    "extracted_data = dog_health[['dog_id'] + columns_of_interest]\n",
    "\n",
    "extracted_data.to_csv('disease_output_binary.csv', index=False)\n"
   ]
  },
  {
   "cell_type": "code",
   "execution_count": null,
   "id": "aa49d09d",
   "metadata": {},
   "outputs": [],
   "source": []
  }
 ],
 "metadata": {
  "kernelspec": {
   "display_name": "Python 3 (ipykernel)",
   "language": "python",
   "name": "python3"
  },
  "language_info": {
   "codemirror_mode": {
    "name": "ipython",
    "version": 3
   },
   "file_extension": ".py",
   "mimetype": "text/x-python",
   "name": "python",
   "nbconvert_exporter": "python",
   "pygments_lexer": "ipython3",
   "version": "3.11.5"
  }
 },
 "nbformat": 4,
 "nbformat_minor": 5
}
