{
 "cells": [
  {
   "cell_type": "code",
   "execution_count": 238,
   "metadata": {
    "collapsed": true
   },
   "outputs": [],
   "source": [
    "import pandas as pd\n",
    "import os\n",
    "import numpy as np\n",
    "import matplotlib.pyplot as plt\n",
    "from helper import *\n",
    "from sklearn.preprocessing import MultiLabelBinarizer\n",
    "from ast import literal_eval"
   ]
  },
  {
   "cell_type": "code",
   "execution_count": 239,
   "outputs": [
    {
     "name": "stderr",
     "output_type": "stream",
     "text": [
      "/var/folders/zd/3_6frj8s08b9zb1f3y0xqr2r0000gn/T/ipykernel_94793/3747774317.py:3: DtypeWarning: Columns (5,21,75,77,79,81,83,85,87,89,191,192,193,194,195,196,197,198,199,200,201,204,214,285,295,516,566) have mixed types. Specify dtype option on import or set low_memory=False.\n",
      "  df_HLES = pd.read_csv(file_path_HLES)\n"
     ]
    },
    {
     "data": {
      "text/plain": "       dog_id  owner_id st_hles_completion_date  dd_breed_pure_or_mixed  \\\n0       10509     14660              2020-10-17                       2   \n1       74227     16755              2020-10-26                       2   \n2       32487      8568              2020-09-07                       1   \n3       63150      5380              2020-08-21                       2   \n4       33369     15957              2020-10-23                       2   \n...       ...       ...                     ...                     ...   \n33167   91849     32736              2021-06-22                       2   \n33168   33783      9482              2020-09-15                       2   \n33169   98862     32312              2021-05-25                       2   \n33170   99462     32692              2021-06-18                       2   \n33171    6530     23713              2020-11-28                       2   \n\n       dd_breed_pure dd_breed_pure_non_akc  dd_breed_mixed_primary  \\\n0                NaN                   NaN                    16.0   \n1                NaN                   NaN                   133.0   \n2              159.0                   NaN                     NaN   \n3                NaN                   NaN                   999.0   \n4                NaN                   NaN                   230.0   \n...              ...                   ...                     ...   \n33167            NaN                   NaN                   276.0   \n33168            NaN                   NaN                   130.0   \n33169            NaN                   NaN                    60.0   \n33170            NaN                   NaN                   204.0   \n33171            NaN                   NaN                   261.0   \n\n       dd_breed_mixed_secondary  dd_age_years  dd_age_basis  ...  \\\n0                         999.0     16.333333             2  ...   \n1                          12.0      1.833333             1  ...   \n2                           NaN     13.000000             3  ...   \n3                         999.0     13.000000             3  ...   \n4                          82.0      2.166667             1  ...   \n...                         ...           ...           ...  ...   \n33167                       1.0     10.000000             3  ...   \n33168                     195.0      3.000000             3  ...   \n33169                      49.0      4.000000             3  ...   \n33170                      27.0      0.916667             1  ...   \n33171                     999.0     13.416667             2  ...   \n\n      oc_primary_residence_state oc_primary_residence_census_division  \\\n0                             MO                                  4.0   \n1                             MD                                  5.0   \n2                             VA                                  5.0   \n3                             CA                                  9.0   \n4                             OH                                  3.0   \n...                          ...                                  ...   \n33167                         CA                                  9.0   \n33168                         WA                                  9.0   \n33169                         AR                                  7.0   \n33170                         WA                                  9.0   \n33171                         IL                                  3.0   \n\n      oc_primary_residence_ownership  \\\n0                                  2   \n1                                  2   \n2                                  1   \n3                                  2   \n4                                  2   \n...                              ...   \n33167                              2   \n33168                              1   \n33169                              2   \n33170                              2   \n33171                              2   \n\n      oc_primary_residence_ownership_other_description  \\\n0                                                  NaN   \n1                                                  NaN   \n2                                                  NaN   \n3                                                  NaN   \n4                                                  NaN   \n...                                                ...   \n33167                                              NaN   \n33168                                              NaN   \n33169                                              NaN   \n33170                                              NaN   \n33171                                              NaN   \n\n      oc_primary_residence_time_percentage oc_secondary_residence  \\\n0                                      NaN                  False   \n1                                      NaN                  False   \n2                                      NaN                  False   \n3                                      NaN                  False   \n4                                      NaN                  False   \n...                                    ...                    ...   \n33167                                  5.0                   True   \n33168                                  NaN                  False   \n33169                                  NaN                  False   \n33170                                  NaN                  False   \n33171                                  NaN                  False   \n\n      oc_secondary_residence_state oc_secondary_residence_ownership  \\\n0                              NaN                              NaN   \n1                              NaN                              NaN   \n2                              NaN                              NaN   \n3                              NaN                              NaN   \n4                              NaN                              NaN   \n...                            ...                              ...   \n33167                           NH                              2.0   \n33168                          NaN                              NaN   \n33169                          NaN                              NaN   \n33170                          NaN                              NaN   \n33171                          NaN                              NaN   \n\n      oc_secondary_residence_ownership_other_description  \\\n0                                                    NaN   \n1                                                    NaN   \n2                                                    NaN   \n3                                                    NaN   \n4                                                    NaN   \n...                                                  ...   \n33167                                                NaN   \n33168                                                NaN   \n33169                                                NaN   \n33170                                                NaN   \n33171                                                NaN   \n\n      oc_secondary_residence_time_percentage  \n0                                        NaN  \n1                                        NaN  \n2                                        NaN  \n3                                        NaN  \n4                                        NaN  \n...                                      ...  \n33167                                    1.0  \n33168                                    NaN  \n33169                                    NaN  \n33170                                    NaN  \n33171                                    NaN  \n\n[33172 rows x 658 columns]",
      "text/html": "<div>\n<style scoped>\n    .dataframe tbody tr th:only-of-type {\n        vertical-align: middle;\n    }\n\n    .dataframe tbody tr th {\n        vertical-align: top;\n    }\n\n    .dataframe thead th {\n        text-align: right;\n    }\n</style>\n<table border=\"1\" class=\"dataframe\">\n  <thead>\n    <tr style=\"text-align: right;\">\n      <th></th>\n      <th>dog_id</th>\n      <th>owner_id</th>\n      <th>st_hles_completion_date</th>\n      <th>dd_breed_pure_or_mixed</th>\n      <th>dd_breed_pure</th>\n      <th>dd_breed_pure_non_akc</th>\n      <th>dd_breed_mixed_primary</th>\n      <th>dd_breed_mixed_secondary</th>\n      <th>dd_age_years</th>\n      <th>dd_age_basis</th>\n      <th>...</th>\n      <th>oc_primary_residence_state</th>\n      <th>oc_primary_residence_census_division</th>\n      <th>oc_primary_residence_ownership</th>\n      <th>oc_primary_residence_ownership_other_description</th>\n      <th>oc_primary_residence_time_percentage</th>\n      <th>oc_secondary_residence</th>\n      <th>oc_secondary_residence_state</th>\n      <th>oc_secondary_residence_ownership</th>\n      <th>oc_secondary_residence_ownership_other_description</th>\n      <th>oc_secondary_residence_time_percentage</th>\n    </tr>\n  </thead>\n  <tbody>\n    <tr>\n      <th>0</th>\n      <td>10509</td>\n      <td>14660</td>\n      <td>2020-10-17</td>\n      <td>2</td>\n      <td>NaN</td>\n      <td>NaN</td>\n      <td>16.0</td>\n      <td>999.0</td>\n      <td>16.333333</td>\n      <td>2</td>\n      <td>...</td>\n      <td>MO</td>\n      <td>4.0</td>\n      <td>2</td>\n      <td>NaN</td>\n      <td>NaN</td>\n      <td>False</td>\n      <td>NaN</td>\n      <td>NaN</td>\n      <td>NaN</td>\n      <td>NaN</td>\n    </tr>\n    <tr>\n      <th>1</th>\n      <td>74227</td>\n      <td>16755</td>\n      <td>2020-10-26</td>\n      <td>2</td>\n      <td>NaN</td>\n      <td>NaN</td>\n      <td>133.0</td>\n      <td>12.0</td>\n      <td>1.833333</td>\n      <td>1</td>\n      <td>...</td>\n      <td>MD</td>\n      <td>5.0</td>\n      <td>2</td>\n      <td>NaN</td>\n      <td>NaN</td>\n      <td>False</td>\n      <td>NaN</td>\n      <td>NaN</td>\n      <td>NaN</td>\n      <td>NaN</td>\n    </tr>\n    <tr>\n      <th>2</th>\n      <td>32487</td>\n      <td>8568</td>\n      <td>2020-09-07</td>\n      <td>1</td>\n      <td>159.0</td>\n      <td>NaN</td>\n      <td>NaN</td>\n      <td>NaN</td>\n      <td>13.000000</td>\n      <td>3</td>\n      <td>...</td>\n      <td>VA</td>\n      <td>5.0</td>\n      <td>1</td>\n      <td>NaN</td>\n      <td>NaN</td>\n      <td>False</td>\n      <td>NaN</td>\n      <td>NaN</td>\n      <td>NaN</td>\n      <td>NaN</td>\n    </tr>\n    <tr>\n      <th>3</th>\n      <td>63150</td>\n      <td>5380</td>\n      <td>2020-08-21</td>\n      <td>2</td>\n      <td>NaN</td>\n      <td>NaN</td>\n      <td>999.0</td>\n      <td>999.0</td>\n      <td>13.000000</td>\n      <td>3</td>\n      <td>...</td>\n      <td>CA</td>\n      <td>9.0</td>\n      <td>2</td>\n      <td>NaN</td>\n      <td>NaN</td>\n      <td>False</td>\n      <td>NaN</td>\n      <td>NaN</td>\n      <td>NaN</td>\n      <td>NaN</td>\n    </tr>\n    <tr>\n      <th>4</th>\n      <td>33369</td>\n      <td>15957</td>\n      <td>2020-10-23</td>\n      <td>2</td>\n      <td>NaN</td>\n      <td>NaN</td>\n      <td>230.0</td>\n      <td>82.0</td>\n      <td>2.166667</td>\n      <td>1</td>\n      <td>...</td>\n      <td>OH</td>\n      <td>3.0</td>\n      <td>2</td>\n      <td>NaN</td>\n      <td>NaN</td>\n      <td>False</td>\n      <td>NaN</td>\n      <td>NaN</td>\n      <td>NaN</td>\n      <td>NaN</td>\n    </tr>\n    <tr>\n      <th>...</th>\n      <td>...</td>\n      <td>...</td>\n      <td>...</td>\n      <td>...</td>\n      <td>...</td>\n      <td>...</td>\n      <td>...</td>\n      <td>...</td>\n      <td>...</td>\n      <td>...</td>\n      <td>...</td>\n      <td>...</td>\n      <td>...</td>\n      <td>...</td>\n      <td>...</td>\n      <td>...</td>\n      <td>...</td>\n      <td>...</td>\n      <td>...</td>\n      <td>...</td>\n      <td>...</td>\n    </tr>\n    <tr>\n      <th>33167</th>\n      <td>91849</td>\n      <td>32736</td>\n      <td>2021-06-22</td>\n      <td>2</td>\n      <td>NaN</td>\n      <td>NaN</td>\n      <td>276.0</td>\n      <td>1.0</td>\n      <td>10.000000</td>\n      <td>3</td>\n      <td>...</td>\n      <td>CA</td>\n      <td>9.0</td>\n      <td>2</td>\n      <td>NaN</td>\n      <td>5.0</td>\n      <td>True</td>\n      <td>NH</td>\n      <td>2.0</td>\n      <td>NaN</td>\n      <td>1.0</td>\n    </tr>\n    <tr>\n      <th>33168</th>\n      <td>33783</td>\n      <td>9482</td>\n      <td>2020-09-15</td>\n      <td>2</td>\n      <td>NaN</td>\n      <td>NaN</td>\n      <td>130.0</td>\n      <td>195.0</td>\n      <td>3.000000</td>\n      <td>3</td>\n      <td>...</td>\n      <td>WA</td>\n      <td>9.0</td>\n      <td>1</td>\n      <td>NaN</td>\n      <td>NaN</td>\n      <td>False</td>\n      <td>NaN</td>\n      <td>NaN</td>\n      <td>NaN</td>\n      <td>NaN</td>\n    </tr>\n    <tr>\n      <th>33169</th>\n      <td>98862</td>\n      <td>32312</td>\n      <td>2021-05-25</td>\n      <td>2</td>\n      <td>NaN</td>\n      <td>NaN</td>\n      <td>60.0</td>\n      <td>49.0</td>\n      <td>4.000000</td>\n      <td>3</td>\n      <td>...</td>\n      <td>AR</td>\n      <td>7.0</td>\n      <td>2</td>\n      <td>NaN</td>\n      <td>NaN</td>\n      <td>False</td>\n      <td>NaN</td>\n      <td>NaN</td>\n      <td>NaN</td>\n      <td>NaN</td>\n    </tr>\n    <tr>\n      <th>33170</th>\n      <td>99462</td>\n      <td>32692</td>\n      <td>2021-06-18</td>\n      <td>2</td>\n      <td>NaN</td>\n      <td>NaN</td>\n      <td>204.0</td>\n      <td>27.0</td>\n      <td>0.916667</td>\n      <td>1</td>\n      <td>...</td>\n      <td>WA</td>\n      <td>9.0</td>\n      <td>2</td>\n      <td>NaN</td>\n      <td>NaN</td>\n      <td>False</td>\n      <td>NaN</td>\n      <td>NaN</td>\n      <td>NaN</td>\n      <td>NaN</td>\n    </tr>\n    <tr>\n      <th>33171</th>\n      <td>6530</td>\n      <td>23713</td>\n      <td>2020-11-28</td>\n      <td>2</td>\n      <td>NaN</td>\n      <td>NaN</td>\n      <td>261.0</td>\n      <td>999.0</td>\n      <td>13.416667</td>\n      <td>2</td>\n      <td>...</td>\n      <td>IL</td>\n      <td>3.0</td>\n      <td>2</td>\n      <td>NaN</td>\n      <td>NaN</td>\n      <td>False</td>\n      <td>NaN</td>\n      <td>NaN</td>\n      <td>NaN</td>\n      <td>NaN</td>\n    </tr>\n  </tbody>\n</table>\n<p>33172 rows × 658 columns</p>\n</div>"
     },
     "execution_count": 239,
     "metadata": {},
     "output_type": "execute_result"
    }
   ],
   "source": [
    "# Assuming you have a DataFrame named df with the mentioned columns\n",
    "file_path_HLES = '../Dataset/SurveyData/SurveyData_CSV_DAP_2021_HLES_dog_owner_v1.0.csv'\n",
    "df_HLES = pd.read_csv(file_path_HLES)\n",
    "df_HLES"
   ],
   "metadata": {
    "collapsed": false
   }
  },
  {
   "cell_type": "code",
   "execution_count": 240,
   "outputs": [
    {
     "data": {
      "text/plain": "dd_breed_pure\n153.0    1985\n120.0    1728\n114.0     759\n195.0     547\n18.0      543\n         ... \n198.0       1\n58.0        1\n170.0       1\n35.0        1\n178.0       1\nName: count, Length: 248, dtype: int64"
     },
     "execution_count": 240,
     "metadata": {},
     "output_type": "execute_result"
    }
   ],
   "source": [
    "df_HLES['dd_breed_pure'].value_counts()"
   ],
   "metadata": {
    "collapsed": false
   }
  },
  {
   "cell_type": "code",
   "execution_count": 241,
   "outputs": [
    {
     "data": {
      "text/plain": "       dog_id dd_breed_pure_non_akc dd_breed_pure    dd_breed_mixed_primary  \\\n0       10509                   NaN           NaN     Australian Cattle Dog   \n1       74227                   NaN           NaN              Ibizan Hound   \n2       32487                   NaN    Lhasa Apso                       NaN   \n3       63150                   NaN           NaN                   Unknown   \n4       33369                   NaN           NaN            Siberian Husky   \n...       ...                   ...           ...                       ...   \n33167   91849                   NaN           NaN         Yorkshire Terrier   \n33168   33783                   NaN           NaN                  Havanese   \n33169   98862                   NaN           NaN              Bull Terrier   \n33170   99462                   NaN           NaN                       Pug   \n33171    6530                   NaN           NaN  Treeing Walker Coonhound   \n\n             dd_breed_mixed_secondary  \n0                             Unknown  \n1      American Staffordshire Terrier  \n2                                 NaN  \n3                             Unknown  \n4                              Collie  \n...                               ...  \n33167                   Affenpinscher  \n33168                          Poodle  \n33169                  Boston Terrier  \n33170                          Beagle  \n33171                         Unknown  \n\n[33172 rows x 5 columns]",
      "text/html": "<div>\n<style scoped>\n    .dataframe tbody tr th:only-of-type {\n        vertical-align: middle;\n    }\n\n    .dataframe tbody tr th {\n        vertical-align: top;\n    }\n\n    .dataframe thead th {\n        text-align: right;\n    }\n</style>\n<table border=\"1\" class=\"dataframe\">\n  <thead>\n    <tr style=\"text-align: right;\">\n      <th></th>\n      <th>dog_id</th>\n      <th>dd_breed_pure_non_akc</th>\n      <th>dd_breed_pure</th>\n      <th>dd_breed_mixed_primary</th>\n      <th>dd_breed_mixed_secondary</th>\n    </tr>\n  </thead>\n  <tbody>\n    <tr>\n      <th>0</th>\n      <td>10509</td>\n      <td>NaN</td>\n      <td>NaN</td>\n      <td>Australian Cattle Dog</td>\n      <td>Unknown</td>\n    </tr>\n    <tr>\n      <th>1</th>\n      <td>74227</td>\n      <td>NaN</td>\n      <td>NaN</td>\n      <td>Ibizan Hound</td>\n      <td>American Staffordshire Terrier</td>\n    </tr>\n    <tr>\n      <th>2</th>\n      <td>32487</td>\n      <td>NaN</td>\n      <td>Lhasa Apso</td>\n      <td>NaN</td>\n      <td>NaN</td>\n    </tr>\n    <tr>\n      <th>3</th>\n      <td>63150</td>\n      <td>NaN</td>\n      <td>NaN</td>\n      <td>Unknown</td>\n      <td>Unknown</td>\n    </tr>\n    <tr>\n      <th>4</th>\n      <td>33369</td>\n      <td>NaN</td>\n      <td>NaN</td>\n      <td>Siberian Husky</td>\n      <td>Collie</td>\n    </tr>\n    <tr>\n      <th>...</th>\n      <td>...</td>\n      <td>...</td>\n      <td>...</td>\n      <td>...</td>\n      <td>...</td>\n    </tr>\n    <tr>\n      <th>33167</th>\n      <td>91849</td>\n      <td>NaN</td>\n      <td>NaN</td>\n      <td>Yorkshire Terrier</td>\n      <td>Affenpinscher</td>\n    </tr>\n    <tr>\n      <th>33168</th>\n      <td>33783</td>\n      <td>NaN</td>\n      <td>NaN</td>\n      <td>Havanese</td>\n      <td>Poodle</td>\n    </tr>\n    <tr>\n      <th>33169</th>\n      <td>98862</td>\n      <td>NaN</td>\n      <td>NaN</td>\n      <td>Bull Terrier</td>\n      <td>Boston Terrier</td>\n    </tr>\n    <tr>\n      <th>33170</th>\n      <td>99462</td>\n      <td>NaN</td>\n      <td>NaN</td>\n      <td>Pug</td>\n      <td>Beagle</td>\n    </tr>\n    <tr>\n      <th>33171</th>\n      <td>6530</td>\n      <td>NaN</td>\n      <td>NaN</td>\n      <td>Treeing Walker Coonhound</td>\n      <td>Unknown</td>\n    </tr>\n  </tbody>\n</table>\n<p>33172 rows × 5 columns</p>\n</div>"
     },
     "execution_count": 241,
     "metadata": {},
     "output_type": "execute_result"
    }
   ],
   "source": [
    "# Map the classification dict in helper.py to the 'Breed' column\n",
    "df_HLES['dd_breed_mixed_primary'] = df_HLES['dd_breed_mixed_primary'].map(lambda x: pure_breed_mapping.get(x, x))\n",
    "df_HLES['dd_breed_mixed_secondary'] = df_HLES['dd_breed_mixed_secondary'].map(lambda x: pure_breed_mapping.get(x, x))\n",
    "df_HLES['dd_breed_pure'] = df_HLES['dd_breed_pure'].map(lambda x: pure_breed_mapping.get(x, x))\n",
    "df_HLES[['dog_id','dd_breed_pure_non_akc', 'dd_breed_pure' ,'dd_breed_mixed_primary', 'dd_breed_mixed_secondary']]"
   ],
   "metadata": {
    "collapsed": false
   }
  },
  {
   "cell_type": "code",
   "execution_count": 242,
   "outputs": [
    {
     "data": {
      "text/plain": "      dd_breed_pure    dd_breed_mixed_primary        dd_breed_mixed_secondary\n0               NaN     Australian Cattle Dog                         Unknown\n1               NaN              Ibizan Hound  American Staffordshire Terrier\n2        Lhasa Apso                       NaN                             NaN\n3               NaN                   Unknown                         Unknown\n4               NaN            Siberian Husky                          Collie\n...             ...                       ...                             ...\n33167           NaN         Yorkshire Terrier                   Affenpinscher\n33168           NaN                  Havanese                          Poodle\n33169           NaN              Bull Terrier                  Boston Terrier\n33170           NaN                       Pug                          Beagle\n33171           NaN  Treeing Walker Coonhound                         Unknown\n\n[33172 rows x 3 columns]",
      "text/html": "<div>\n<style scoped>\n    .dataframe tbody tr th:only-of-type {\n        vertical-align: middle;\n    }\n\n    .dataframe tbody tr th {\n        vertical-align: top;\n    }\n\n    .dataframe thead th {\n        text-align: right;\n    }\n</style>\n<table border=\"1\" class=\"dataframe\">\n  <thead>\n    <tr style=\"text-align: right;\">\n      <th></th>\n      <th>dd_breed_pure</th>\n      <th>dd_breed_mixed_primary</th>\n      <th>dd_breed_mixed_secondary</th>\n    </tr>\n  </thead>\n  <tbody>\n    <tr>\n      <th>0</th>\n      <td>NaN</td>\n      <td>Australian Cattle Dog</td>\n      <td>Unknown</td>\n    </tr>\n    <tr>\n      <th>1</th>\n      <td>NaN</td>\n      <td>Ibizan Hound</td>\n      <td>American Staffordshire Terrier</td>\n    </tr>\n    <tr>\n      <th>2</th>\n      <td>Lhasa Apso</td>\n      <td>NaN</td>\n      <td>NaN</td>\n    </tr>\n    <tr>\n      <th>3</th>\n      <td>NaN</td>\n      <td>Unknown</td>\n      <td>Unknown</td>\n    </tr>\n    <tr>\n      <th>4</th>\n      <td>NaN</td>\n      <td>Siberian Husky</td>\n      <td>Collie</td>\n    </tr>\n    <tr>\n      <th>...</th>\n      <td>...</td>\n      <td>...</td>\n      <td>...</td>\n    </tr>\n    <tr>\n      <th>33167</th>\n      <td>NaN</td>\n      <td>Yorkshire Terrier</td>\n      <td>Affenpinscher</td>\n    </tr>\n    <tr>\n      <th>33168</th>\n      <td>NaN</td>\n      <td>Havanese</td>\n      <td>Poodle</td>\n    </tr>\n    <tr>\n      <th>33169</th>\n      <td>NaN</td>\n      <td>Bull Terrier</td>\n      <td>Boston Terrier</td>\n    </tr>\n    <tr>\n      <th>33170</th>\n      <td>NaN</td>\n      <td>Pug</td>\n      <td>Beagle</td>\n    </tr>\n    <tr>\n      <th>33171</th>\n      <td>NaN</td>\n      <td>Treeing Walker Coonhound</td>\n      <td>Unknown</td>\n    </tr>\n  </tbody>\n</table>\n<p>33172 rows × 3 columns</p>\n</div>"
     },
     "execution_count": 242,
     "metadata": {},
     "output_type": "execute_result"
    }
   ],
   "source": [
    "condition = df_HLES['dd_breed_pure'] == \"My dog is a non-AKC purebred not listed here\"\n",
    "df_HLES.loc[condition, 'dd_breed_pure'] = df_HLES.loc[condition, 'dd_breed_pure_non_akc'].values\n",
    "df_HLES.loc[condition, 'dd_breed_pure'] = df_HLES.loc[condition, 'dd_breed_pure'].map(lambda x: classification_mapping_2.get(x, x) if x in classification_mapping_2 else x)\n",
    "df_HLES[['dd_breed_pure', 'dd_breed_mixed_primary', 'dd_breed_mixed_secondary']]"
   ],
   "metadata": {
    "collapsed": false
   }
  },
  {
   "cell_type": "code",
   "execution_count": 243,
   "outputs": [
    {
     "data": {
      "text/plain": "0                   NaN\n1                   NaN\n2            Lhasa Apso\n3                   NaN\n4                   NaN\n              ...      \n33167     Affenpinscher\n33168            Poodle\n33169    Boston Terrier\n33170            Beagle\n33171           Unknown\nLength: 99516, dtype: object"
     },
     "execution_count": 243,
     "metadata": {},
     "output_type": "execute_result"
    }
   ],
   "source": [
    "# Combine the values from the three breed columns into a single series\n",
    "combined_breeds = pd.concat([df_HLES['dd_breed_pure'], df_HLES['dd_breed_mixed_primary'], df_HLES['dd_breed_mixed_secondary']])\n",
    "combined_breeds"
   ],
   "metadata": {
    "collapsed": false
   }
  },
  {
   "cell_type": "code",
   "execution_count": 244,
   "outputs": [
    {
     "data": {
      "text/plain": "Labrador Retriever               5654\nUnknown                          3628\nGolden Retriever                 3115\nPoodle                           2644\nGerman Shepherd Dog              2261\n                                 ... \nAzawakh                             1\nPODENCO                             1\nLarge Muensterlaender               1\nBavarian Mountain Scent Hound       1\nCroatian Sheepdog                   1\nName: count, Length: 302, dtype: int64"
     },
     "execution_count": 244,
     "metadata": {},
     "output_type": "execute_result"
    }
   ],
   "source": [
    "combined_breeds.value_counts()"
   ],
   "metadata": {
    "collapsed": false
   }
  },
  {
   "cell_type": "code",
   "execution_count": 245,
   "outputs": [
    {
     "data": {
      "text/plain": "Labrador Retriever                5654\nUnknown                           3628\nGolden Retriever                  3115\nPoodle                            2644\nGerman Shepherd Dog               2261\nBorder Collie                     1584\nChihuahua                         1509\nAmerican Pitbull Terrier          1437\nAustralian Shepherd               1375\nBeagle                            1034\nAustralian Cattle Dog             1030\nDachshund                          951\nBoxer                              946\nAmerican Staffordshire Terrier     923\nSiberian Husky                     868\nJack Russell Terrier               715\nShih Tzu                           664\nPoodle (Toy)                       566\nYorkshire Terrier                  553\nCocker Spaniel                     519\nMiniature Schnauzer                470\nGreat Pyrenees                     467\nMaltese                            453\nPug                                435\nRottweiler                         393\nGreat Dane                         382\nRat Terrier                        380\nChow Chow                          375\nPembroke Welsh Corgi               371\nCavalier King Charles Spaniel      343\nBichon Frise                       341\nDoberman Pinscher                  340\nPomeranian                         326\nBoston Terrier                     325\nGerman Shorthaired Pointer         315\nGreyhound                          301\nEnglish Springer Spaniel           291\nBulldog                            285\nHavanese                           268\nCollie                             262\nShetland Sheepdog                  251\nBasset Hound                       250\nBernese Mountain Dog               249\nCairn Terrier                      234\nMiniature Pinscher                 225\nCatahoula Leopard Dog              224\nWest Highland White Terrier        222\nNewfoundland                       222\nRhodesian Ridgeback                222\nFrench Bulldog                     204\nName: count, dtype: int64"
     },
     "execution_count": 245,
     "metadata": {},
     "output_type": "execute_result"
    }
   ],
   "source": [
    "# Define the number of most common values to keep\n",
    "top_n_values = 50\n",
    "\n",
    "# Identify the 50 most common values in the column\n",
    "top_values = combined_breeds.value_counts().head(top_n_values)\n",
    "top_values"
   ],
   "metadata": {
    "collapsed": false
   }
  },
  {
   "cell_type": "code",
   "execution_count": 246,
   "outputs": [
    {
     "data": {
      "text/plain": "0                      [, Australian Cattle Dog, Unknown]\n1        [, Ibizan Hound, American Staffordshire Terrier]\n2                                        [Lhasa Apso, , ]\n3                                    [, Unknown, Unknown]\n4                              [, Siberian Husky, Collie]\n                               ...                       \n33167                [, Yorkshire Terrier, Affenpinscher]\n33168                                [, Havanese, Poodle]\n33169                    [, Bull Terrier, Boston Terrier]\n33170                                     [, Pug, Beagle]\n33171               [, Treeing Walker Coonhound, Unknown]\nName: breeds, Length: 33172, dtype: object"
     },
     "execution_count": 246,
     "metadata": {},
     "output_type": "execute_result"
    }
   ],
   "source": [
    "df_HLES['dd_breed_pure'].fillna('', inplace=True)\n",
    "df_HLES['dd_breed_mixed_primary'].fillna('', inplace=True)\n",
    "df_HLES['dd_breed_mixed_secondary'].fillna('', inplace=True)\n",
    "\n",
    "# Combine the breed columns into a single column for each row\n",
    "df_HLES['breeds'] = df_HLES.apply(lambda row: [row['dd_breed_pure'], row['dd_breed_mixed_primary'], row['dd_breed_mixed_secondary']], axis=1)\n",
    "df_HLES['breeds']"
   ],
   "metadata": {
    "collapsed": false
   }
  },
  {
   "cell_type": "code",
   "execution_count": 247,
   "outputs": [],
   "source": [
    "def classify_breed(weight_class):\n",
    "    if weight_class in [1, 2]:\n",
    "        return ['Mixed Breed Small (0 - 20lbs)']\n",
    "    elif weight_class in [3, 4, 5, 6]:\n",
    "        return ['Mixed Breed Medium (21 - 60lbs)']\n",
    "    elif weight_class in [7, 8, 9, 10, 11]:\n",
    "        return ['Mixed Breed Large (61lbs+)']\n",
    "    else:\n",
    "        return ['Unknown Mix']\n",
    "\n",
    "\n",
    "# Assuming df_HLES is your dataframe\n",
    "mask_unknown_breed = (df_HLES['dd_breed_mixed_primary'] == 'Unknown') & (df_HLES['dd_breed_mixed_secondary'] == 'Unknown')\n",
    "\n",
    "df_HLES.loc[mask_unknown_breed, 'breeds'] = df_HLES.loc[mask_unknown_breed, 'dd_weight_range'].apply(classify_breed)"
   ],
   "metadata": {
    "collapsed": false
   }
  },
  {
   "cell_type": "code",
   "execution_count": 248,
   "outputs": [
    {
     "data": {
      "text/plain": "breeds\n[Mixed Breed Medium (21 - 60lbs)]    335\n[Mixed Breed Large (61lbs+)]          76\n[Mixed Breed Small (0 - 20lbs)]       64\nName: count, dtype: int64"
     },
     "execution_count": 248,
     "metadata": {},
     "output_type": "execute_result"
    }
   ],
   "source": [
    "df_HLES.loc[mask_unknown_breed, 'breeds'].value_counts()"
   ],
   "metadata": {
    "collapsed": false
   }
  },
  {
   "cell_type": "code",
   "execution_count": 249,
   "outputs": [
    {
     "data": {
      "text/plain": "array([[1, 0, 0, ..., 0, 0, 0],\n       [1, 0, 0, ..., 0, 0, 0],\n       [1, 0, 0, ..., 0, 0, 0],\n       ...,\n       [1, 0, 0, ..., 0, 0, 0],\n       [1, 0, 0, ..., 0, 0, 0],\n       [1, 0, 0, ..., 0, 0, 0]])"
     },
     "execution_count": 249,
     "metadata": {},
     "output_type": "execute_result"
    }
   ],
   "source": [
    "# Create a MultiLabelBinarizer to one-hot encode the breeds\n",
    "mlb = MultiLabelBinarizer()\n",
    "mlb_df = mlb.fit_transform(df_HLES['breeds'])\n",
    "mlb_df"
   ],
   "metadata": {
    "collapsed": false
   }
  },
  {
   "cell_type": "code",
   "execution_count": 250,
   "outputs": [
    {
     "data": {
      "text/plain": "array(['', 'Affenpinscher', 'Afghan Hound', 'African Village Dog',\n       'Airedale Terrier', 'Akbash', 'Akita', 'Alaskan Klee Kai',\n       'Alaskan Malamute', 'American Bulldog', 'American Bully',\n       'American English (aka Redtick) Coonhound',\n       'American English Coonhound', 'American Eskimo Dog',\n       'American Foxhound', 'American Hairless Terrier',\n       'American Indian Dog', 'American Leopard Hound',\n       'American Pitbull Terrier', 'American Staffordshire Terrier',\n       'American Water Spaniel', 'Anatolian Shepherd Dog',\n       'Appenzeller Sennenhund', 'Aussie - Dor', 'Australian Cattle Dog',\n       'Australian Kelpie', 'Australian Labradoodle',\n       'Australian Shepherd', 'Australian Stumpy Tail Cattle Dog',\n       'Australian Terrier', 'Azawakh', 'Barbet', 'Basenji',\n       'Basset Fauve de Bretagne', 'Basset Hound',\n       'Bavarian Mountain Scent Hound', 'Beagle', 'Bearded Collie',\n       'Beauceron', 'Bedlington Terrier', 'Belgian Laekenois',\n       'Belgian Malinois', 'Belgian Sheepdog', 'Belgian Tervuren',\n       'Bergamasco', 'Berger Blanc Suisse', 'Berger Picard',\n       'Bernese Mountain Dog', 'Bichon Frise', 'Biewer Terrier',\n       'Black Mouth Cur', 'Black Russian Terrier',\n       'Black and Tan Coonhound', 'Bloodhound', 'Blue Lacey',\n       'Bluetick Coonhound', 'Boerboel', 'Bolognese', 'Border Collie',\n       'Border Terrier', 'Borzoi', 'Boston Terrier',\n       'Bouvier des Flandres', 'Boxer', 'Boykin Spaniel',\n       'Bracco Italiano', 'Braque Francais Pyrenean',\n       'Braque de Bourbonnais', 'Briard', 'Brittany', 'Broholmer',\n       'Brussels Griffon', 'Bull Terrier', 'Bulldog', 'Bullmastiff',\n       'Cairn Terrier', 'Canaan Dog', 'Cane Corso',\n       'Cardigan Welsh Corgi', 'Carolina Dog', 'Catahoula Leopard Dog',\n       'Caucasian Shepherd Dog', 'Cavalier King Charles Spaniel',\n       'Central Asian Shepherd Dog', 'Cesky Terrier',\n       'Chesapeake Bay Retriever', 'Chihuahua', 'Chinese Crested',\n       'Chinese Shar-Pei', 'Chinook', 'Chow Chow', 'Cimarron Uruguayo',\n       \"Cirneco Dell'Etna\", 'Clumber Spaniel', 'Cocker Spaniel', 'Collie',\n       'Coton De Tulear', 'Croatian Sheepdog', 'Curly-Coated Retriever',\n       'Czechoslovakian Vlack', 'Dachshund', 'Dalmatian',\n       'Dandie Dinmont Terrier', 'Decker terrier', 'Doberman Pinscher',\n       'Dogo Argentino', 'Dogue de Bordeaux', 'Drentsche Patrijshond',\n       'Dutch Shepherd', 'English Cocker Spaniel', 'English Foxhound',\n       'English Setter', 'English Shepherd', 'English Springer Spaniel',\n       'English Toy Spaniel', 'Entlebucher Mountain Dog', 'Eurasier',\n       'Field Spaniel', 'Finish Spitz', 'Finnish Lapphund',\n       'Flat-Coated Retriever', 'French Bulldog', 'French Spaniel',\n       'Galgo (Spanish Sighthound)', 'Galgo Espanol (Spanish greyhound)',\n       'German Longhaired Pointer', 'German Pinscher',\n       'German Shepherd Dog', 'German Shorthaired Pointer',\n       'German Spitz', 'German Wirehaired Pointer', 'Giant Schnauzer',\n       'Glen of Imaal Terrier', 'Golden Retriever', 'Goldendoodle',\n       'Gordon Setter', 'Grand Basset Griffon Vendeen', 'Great Dane',\n       'Great Pyrenees', 'Greater Swiss Mountain Dog', 'Greyhound',\n       'Hamiltonstovare', 'Harrier', 'Havanese', 'Hokkaido', 'Hovawart',\n       'Ibizan Hound', 'Icelandic Sheepdog', 'Indian Pariah',\n       'Irish Red and White Setter', 'Irish Setter', 'Irish Terrier',\n       'Irish Water Spaniel', 'Irish Wolfhound', 'Italian Greyhound',\n       'Jack Russell Terrier', 'Jagdterrier', 'Japanese Chin',\n       'Japanese Spitz', 'Jindo', 'Kai Ken', 'Karakachan',\n       'Karelian Bear Dog', 'Keeshond', 'Kerry Blue Terrier', 'Komondor',\n       'Kromfohrlander', 'Kuvasz', 'Labradoodle', 'Labrador Retriever',\n       'Lagotto Romagnolo', 'Lakeland Terrier', 'Lancashire Heeler',\n       'Lapponian Herder', 'Large Muensterlaender', 'Leonberger',\n       'Lhasa Apso', 'Llewellin Setter', 'Lowchen', 'Maltese',\n       'Manchester Terrier', 'Maremma', 'Maremma Sheepdog', 'Mastiff',\n       'McNab', 'Miki', 'Miniature American Shepherd',\n       'Miniature Bull Terrier', 'Miniature Dachshund',\n       'Miniature Pinscher', 'Miniature Poodle', 'Miniature Schnauzer',\n       'Mixed Breed Large (61lbs+)', 'Mixed Breed Medium (21 - 60lbs)',\n       'Mixed Breed Small (0 - 20lbs)', 'Mountain Cur', 'Mudi',\n       'Native American Village Dog', 'Neapolitan Mastiff',\n       'Nederlandse Kooikerhondje', 'New Guinea Singing Dog',\n       'Newfoundland', 'Norfolk Terrier', 'Norrbottenspets',\n       'Northeast African Village dog', 'Norwegian Buhund',\n       'Norwegian Elkhound', 'Norwegian Lundhund', 'Norwich Terrier',\n       'Nova Scotia Duck Tolling Retriever', 'Old English Bulldogge',\n       'Old English Sheepdog', 'Otterhound', 'PODENCO', 'Papillon',\n       'Parson Russell Terrier', 'Pekingese', 'Pembroke Welsh Corgi',\n       'Perro de Presa Canario', 'Peruvian Inca Orchid',\n       'Petit Basset Griffon Vendeen', 'Pharaoh Hound', 'Plott',\n       'Pointer', 'Polish Lowland Sheepdog',\n       'Polish Tatra Mountain Sheepdog', 'Pomeranian', 'Poodle',\n       'Poodle (Toy)', 'Portuguese Podengo', 'Portuguese Podengo Pequeno',\n       'Portuguese Water Dog', 'Prague Ratter', 'Pudelpointer', 'Pug',\n       'Puli', 'Pyrenean Mastiff', 'Pyrenean Shepherd', 'Rat Terrier',\n       'Redbone Coonhound', 'Rhodesian Ridgeback',\n       'Romanian Mioritic Shepherd Dog', 'Rottweiler', 'Russell Terrier',\n       'Russian Toy', 'Saluki', 'Samoyed', 'Schipperke',\n       'Scottish Deerhound', 'Scottish Terrier', 'Sealyham Terrier',\n       'Shetland Sheepdog', 'Shiba Inu', 'Shih Tzu', 'Shikoku',\n       'Shiloh Shepherd', 'Siberian Husky', 'Silken Windhound',\n       'Silky Terrier', 'Skye Terrier', 'Slovakian Wirehaired Pointer',\n       'Slovensky Cuvac', 'Small Musterlander Pointer',\n       'Smooth Fox Terrier', 'Soft Coated Wheaten Terrier',\n       'Spanish Mastiff', 'Spanish Water Dog', 'Spinone Italiano',\n       'St. Bernard', 'Stabyhoun', 'Staffordshire Bull Terrier',\n       'Standard Schnauzer', 'Sussex Spaniel', 'Swedish Lapphund',\n       'Swedish Vallhund', 'Taiwan Dog', 'Tamaskan',\n       'Teddy Roosevelt Terrier', 'Thai Ridgeback', 'Tibetan Mastiff',\n       'Tibetan Spaniel', 'Tibetan Terrier', 'Tosa',\n       'Toy Austrailan Shepherd', 'Toy Fox Terrier',\n       'Transylvanian Hound', 'Treeing Tennessee Brindle',\n       'Treeing Walker Coonhound', 'Unknown', 'Village Dog', 'Vizsla',\n       'Weimaraner', 'Welsh Springer Spaniel', 'Welsh Terrier',\n       'West Highland White Terrier', 'West Siberian Laika', 'Whippet',\n       'Windsprite', 'Wire Fox Terrier', 'Wirehaired Pointing Griffon',\n       'Wirehaired Vizsla', 'Wolf-hybrid', 'Working Kelpie',\n       'Xoloitzcuintli', 'Yorkshire Terrier', 'shiloh shepherd'],\n      dtype=object)"
     },
     "execution_count": 250,
     "metadata": {},
     "output_type": "execute_result"
    }
   ],
   "source": [
    "mlb.classes_"
   ],
   "metadata": {
    "collapsed": false
   }
  },
  {
   "cell_type": "code",
   "execution_count": 251,
   "outputs": [
    {
     "data": {
      "text/plain": "       dog_id dd_breed_pure    dd_breed_mixed_primary  \\\n0       10509                   Australian Cattle Dog   \n1       74227                            Ibizan Hound   \n2       32487    Lhasa Apso                             \n3       63150                                 Unknown   \n4       33369                          Siberian Husky   \n...       ...           ...                       ...   \n33167   91849                       Yorkshire Terrier   \n33168   33783                                Havanese   \n33169   98862                            Bull Terrier   \n33170   99462                                     Pug   \n33171    6530                Treeing Walker Coonhound   \n\n             dd_breed_mixed_secondary  breeds_Affenpinscher  \\\n0                             Unknown                     0   \n1      American Staffordshire Terrier                     0   \n2                                                         0   \n3                             Unknown                     0   \n4                              Collie                     0   \n...                               ...                   ...   \n33167                   Affenpinscher                     1   \n33168                          Poodle                     0   \n33169                  Boston Terrier                     0   \n33170                          Beagle                     0   \n33171                         Unknown                     0   \n\n       breeds_Afghan Hound  breeds_African Village Dog  \\\n0                        0                           0   \n1                        0                           0   \n2                        0                           0   \n3                        0                           0   \n4                        0                           0   \n...                    ...                         ...   \n33167                    0                           0   \n33168                    0                           0   \n33169                    0                           0   \n33170                    0                           0   \n33171                    0                           0   \n\n       breeds_Airedale Terrier  breeds_Akbash  breeds_Akita  ...  \\\n0                            0              0             0  ...   \n1                            0              0             0  ...   \n2                            0              0             0  ...   \n3                            0              0             0  ...   \n4                            0              0             0  ...   \n...                        ...            ...           ...  ...   \n33167                        0              0             0  ...   \n33168                        0              0             0  ...   \n33169                        0              0             0  ...   \n33170                        0              0             0  ...   \n33171                        0              0             0  ...   \n\n       breeds_Whippet  breeds_Windsprite  breeds_Wire Fox Terrier  \\\n0                   0                  0                        0   \n1                   0                  0                        0   \n2                   0                  0                        0   \n3                   0                  0                        0   \n4                   0                  0                        0   \n...               ...                ...                      ...   \n33167               0                  0                        0   \n33168               0                  0                        0   \n33169               0                  0                        0   \n33170               0                  0                        0   \n33171               0                  0                        0   \n\n       breeds_Wirehaired Pointing Griffon  breeds_Wirehaired Vizsla  \\\n0                                       0                         0   \n1                                       0                         0   \n2                                       0                         0   \n3                                       0                         0   \n4                                       0                         0   \n...                                   ...                       ...   \n33167                                   0                         0   \n33168                                   0                         0   \n33169                                   0                         0   \n33170                                   0                         0   \n33171                                   0                         0   \n\n       breeds_Wolf-hybrid  breeds_Working Kelpie  breeds_Xoloitzcuintli  \\\n0                       0                      0                      0   \n1                       0                      0                      0   \n2                       0                      0                      0   \n3                       0                      0                      0   \n4                       0                      0                      0   \n...                   ...                    ...                    ...   \n33167                   0                      0                      0   \n33168                   0                      0                      0   \n33169                   0                      0                      0   \n33170                   0                      0                      0   \n33171                   0                      0                      0   \n\n       breeds_Yorkshire Terrier  breeds_shiloh shepherd  \n0                             0                       0  \n1                             0                       0  \n2                             0                       0  \n3                             0                       0  \n4                             0                       0  \n...                         ...                     ...  \n33167                         1                       0  \n33168                         0                       0  \n33169                         0                       0  \n33170                         0                       0  \n33171                         0                       0  \n\n[33172 rows x 308 columns]",
      "text/html": "<div>\n<style scoped>\n    .dataframe tbody tr th:only-of-type {\n        vertical-align: middle;\n    }\n\n    .dataframe tbody tr th {\n        vertical-align: top;\n    }\n\n    .dataframe thead th {\n        text-align: right;\n    }\n</style>\n<table border=\"1\" class=\"dataframe\">\n  <thead>\n    <tr style=\"text-align: right;\">\n      <th></th>\n      <th>dog_id</th>\n      <th>dd_breed_pure</th>\n      <th>dd_breed_mixed_primary</th>\n      <th>dd_breed_mixed_secondary</th>\n      <th>breeds_Affenpinscher</th>\n      <th>breeds_Afghan Hound</th>\n      <th>breeds_African Village Dog</th>\n      <th>breeds_Airedale Terrier</th>\n      <th>breeds_Akbash</th>\n      <th>breeds_Akita</th>\n      <th>...</th>\n      <th>breeds_Whippet</th>\n      <th>breeds_Windsprite</th>\n      <th>breeds_Wire Fox Terrier</th>\n      <th>breeds_Wirehaired Pointing Griffon</th>\n      <th>breeds_Wirehaired Vizsla</th>\n      <th>breeds_Wolf-hybrid</th>\n      <th>breeds_Working Kelpie</th>\n      <th>breeds_Xoloitzcuintli</th>\n      <th>breeds_Yorkshire Terrier</th>\n      <th>breeds_shiloh shepherd</th>\n    </tr>\n  </thead>\n  <tbody>\n    <tr>\n      <th>0</th>\n      <td>10509</td>\n      <td></td>\n      <td>Australian Cattle Dog</td>\n      <td>Unknown</td>\n      <td>0</td>\n      <td>0</td>\n      <td>0</td>\n      <td>0</td>\n      <td>0</td>\n      <td>0</td>\n      <td>...</td>\n      <td>0</td>\n      <td>0</td>\n      <td>0</td>\n      <td>0</td>\n      <td>0</td>\n      <td>0</td>\n      <td>0</td>\n      <td>0</td>\n      <td>0</td>\n      <td>0</td>\n    </tr>\n    <tr>\n      <th>1</th>\n      <td>74227</td>\n      <td></td>\n      <td>Ibizan Hound</td>\n      <td>American Staffordshire Terrier</td>\n      <td>0</td>\n      <td>0</td>\n      <td>0</td>\n      <td>0</td>\n      <td>0</td>\n      <td>0</td>\n      <td>...</td>\n      <td>0</td>\n      <td>0</td>\n      <td>0</td>\n      <td>0</td>\n      <td>0</td>\n      <td>0</td>\n      <td>0</td>\n      <td>0</td>\n      <td>0</td>\n      <td>0</td>\n    </tr>\n    <tr>\n      <th>2</th>\n      <td>32487</td>\n      <td>Lhasa Apso</td>\n      <td></td>\n      <td></td>\n      <td>0</td>\n      <td>0</td>\n      <td>0</td>\n      <td>0</td>\n      <td>0</td>\n      <td>0</td>\n      <td>...</td>\n      <td>0</td>\n      <td>0</td>\n      <td>0</td>\n      <td>0</td>\n      <td>0</td>\n      <td>0</td>\n      <td>0</td>\n      <td>0</td>\n      <td>0</td>\n      <td>0</td>\n    </tr>\n    <tr>\n      <th>3</th>\n      <td>63150</td>\n      <td></td>\n      <td>Unknown</td>\n      <td>Unknown</td>\n      <td>0</td>\n      <td>0</td>\n      <td>0</td>\n      <td>0</td>\n      <td>0</td>\n      <td>0</td>\n      <td>...</td>\n      <td>0</td>\n      <td>0</td>\n      <td>0</td>\n      <td>0</td>\n      <td>0</td>\n      <td>0</td>\n      <td>0</td>\n      <td>0</td>\n      <td>0</td>\n      <td>0</td>\n    </tr>\n    <tr>\n      <th>4</th>\n      <td>33369</td>\n      <td></td>\n      <td>Siberian Husky</td>\n      <td>Collie</td>\n      <td>0</td>\n      <td>0</td>\n      <td>0</td>\n      <td>0</td>\n      <td>0</td>\n      <td>0</td>\n      <td>...</td>\n      <td>0</td>\n      <td>0</td>\n      <td>0</td>\n      <td>0</td>\n      <td>0</td>\n      <td>0</td>\n      <td>0</td>\n      <td>0</td>\n      <td>0</td>\n      <td>0</td>\n    </tr>\n    <tr>\n      <th>...</th>\n      <td>...</td>\n      <td>...</td>\n      <td>...</td>\n      <td>...</td>\n      <td>...</td>\n      <td>...</td>\n      <td>...</td>\n      <td>...</td>\n      <td>...</td>\n      <td>...</td>\n      <td>...</td>\n      <td>...</td>\n      <td>...</td>\n      <td>...</td>\n      <td>...</td>\n      <td>...</td>\n      <td>...</td>\n      <td>...</td>\n      <td>...</td>\n      <td>...</td>\n      <td>...</td>\n    </tr>\n    <tr>\n      <th>33167</th>\n      <td>91849</td>\n      <td></td>\n      <td>Yorkshire Terrier</td>\n      <td>Affenpinscher</td>\n      <td>1</td>\n      <td>0</td>\n      <td>0</td>\n      <td>0</td>\n      <td>0</td>\n      <td>0</td>\n      <td>...</td>\n      <td>0</td>\n      <td>0</td>\n      <td>0</td>\n      <td>0</td>\n      <td>0</td>\n      <td>0</td>\n      <td>0</td>\n      <td>0</td>\n      <td>1</td>\n      <td>0</td>\n    </tr>\n    <tr>\n      <th>33168</th>\n      <td>33783</td>\n      <td></td>\n      <td>Havanese</td>\n      <td>Poodle</td>\n      <td>0</td>\n      <td>0</td>\n      <td>0</td>\n      <td>0</td>\n      <td>0</td>\n      <td>0</td>\n      <td>...</td>\n      <td>0</td>\n      <td>0</td>\n      <td>0</td>\n      <td>0</td>\n      <td>0</td>\n      <td>0</td>\n      <td>0</td>\n      <td>0</td>\n      <td>0</td>\n      <td>0</td>\n    </tr>\n    <tr>\n      <th>33169</th>\n      <td>98862</td>\n      <td></td>\n      <td>Bull Terrier</td>\n      <td>Boston Terrier</td>\n      <td>0</td>\n      <td>0</td>\n      <td>0</td>\n      <td>0</td>\n      <td>0</td>\n      <td>0</td>\n      <td>...</td>\n      <td>0</td>\n      <td>0</td>\n      <td>0</td>\n      <td>0</td>\n      <td>0</td>\n      <td>0</td>\n      <td>0</td>\n      <td>0</td>\n      <td>0</td>\n      <td>0</td>\n    </tr>\n    <tr>\n      <th>33170</th>\n      <td>99462</td>\n      <td></td>\n      <td>Pug</td>\n      <td>Beagle</td>\n      <td>0</td>\n      <td>0</td>\n      <td>0</td>\n      <td>0</td>\n      <td>0</td>\n      <td>0</td>\n      <td>...</td>\n      <td>0</td>\n      <td>0</td>\n      <td>0</td>\n      <td>0</td>\n      <td>0</td>\n      <td>0</td>\n      <td>0</td>\n      <td>0</td>\n      <td>0</td>\n      <td>0</td>\n    </tr>\n    <tr>\n      <th>33171</th>\n      <td>6530</td>\n      <td></td>\n      <td>Treeing Walker Coonhound</td>\n      <td>Unknown</td>\n      <td>0</td>\n      <td>0</td>\n      <td>0</td>\n      <td>0</td>\n      <td>0</td>\n      <td>0</td>\n      <td>...</td>\n      <td>0</td>\n      <td>0</td>\n      <td>0</td>\n      <td>0</td>\n      <td>0</td>\n      <td>0</td>\n      <td>0</td>\n      <td>0</td>\n      <td>0</td>\n      <td>0</td>\n    </tr>\n  </tbody>\n</table>\n<p>33172 rows × 308 columns</p>\n</div>"
     },
     "execution_count": 251,
     "metadata": {},
     "output_type": "execute_result"
    }
   ],
   "source": [
    "# Fit and transform the 'breeds' column\n",
    "breed_encoded = pd.DataFrame(mlb.fit_transform(df_HLES['breeds']), columns=[f'breeds_{col}' for col in mlb.classes_])\n",
    "breed_encoded.drop(['breeds_', 'breeds_Unknown'], axis=1, inplace=True)\n",
    "\n",
    "# Concatenate the one-hot encoded breeds with the original dataframe\n",
    "df = pd.concat([df_HLES[['dog_id', 'dd_breed_pure', 'dd_breed_mixed_primary', 'dd_breed_mixed_secondary']], breed_encoded], axis=1)\n",
    "df"
   ],
   "metadata": {
    "collapsed": false
   }
  },
  {
   "cell_type": "code",
   "execution_count": 252,
   "outputs": [
    {
     "data": {
      "text/plain": "       dog_id  breeds_Affenpinscher  breeds_Afghan Hound  \\\n0       10509                     0                    0   \n1       74227                     0                    0   \n2       32487                     0                    0   \n3       63150                     0                    0   \n4       33369                     0                    0   \n...       ...                   ...                  ...   \n33167   91849                     1                    0   \n33168   33783                     0                    0   \n33169   98862                     0                    0   \n33170   99462                     0                    0   \n33171    6530                     0                    0   \n\n       breeds_African Village Dog  breeds_Airedale Terrier  breeds_Akbash  \\\n0                               0                        0              0   \n1                               0                        0              0   \n2                               0                        0              0   \n3                               0                        0              0   \n4                               0                        0              0   \n...                           ...                      ...            ...   \n33167                           0                        0              0   \n33168                           0                        0              0   \n33169                           0                        0              0   \n33170                           0                        0              0   \n33171                           0                        0              0   \n\n       breeds_Akita  breeds_Alaskan Klee Kai  breeds_Alaskan Malamute  \\\n0                 0                        0                        0   \n1                 0                        0                        0   \n2                 0                        0                        0   \n3                 0                        0                        0   \n4                 0                        0                        0   \n...             ...                      ...                      ...   \n33167             0                        0                        0   \n33168             0                        0                        0   \n33169             0                        0                        0   \n33170             0                        0                        0   \n33171             0                        0                        0   \n\n       breeds_American Bulldog  ...  breeds_Whippet  breeds_Windsprite  \\\n0                            0  ...               0                  0   \n1                            0  ...               0                  0   \n2                            0  ...               0                  0   \n3                            0  ...               0                  0   \n4                            0  ...               0                  0   \n...                        ...  ...             ...                ...   \n33167                        0  ...               0                  0   \n33168                        0  ...               0                  0   \n33169                        0  ...               0                  0   \n33170                        0  ...               0                  0   \n33171                        0  ...               0                  0   \n\n       breeds_Wire Fox Terrier  breeds_Wirehaired Pointing Griffon  \\\n0                            0                                   0   \n1                            0                                   0   \n2                            0                                   0   \n3                            0                                   0   \n4                            0                                   0   \n...                        ...                                 ...   \n33167                        0                                   0   \n33168                        0                                   0   \n33169                        0                                   0   \n33170                        0                                   0   \n33171                        0                                   0   \n\n       breeds_Wirehaired Vizsla  breeds_Wolf-hybrid  breeds_Working Kelpie  \\\n0                             0                   0                      0   \n1                             0                   0                      0   \n2                             0                   0                      0   \n3                             0                   0                      0   \n4                             0                   0                      0   \n...                         ...                 ...                    ...   \n33167                         0                   0                      0   \n33168                         0                   0                      0   \n33169                         0                   0                      0   \n33170                         0                   0                      0   \n33171                         0                   0                      0   \n\n       breeds_Xoloitzcuintli  breeds_Yorkshire Terrier  breeds_shiloh shepherd  \n0                          0                         0                       0  \n1                          0                         0                       0  \n2                          0                         0                       0  \n3                          0                         0                       0  \n4                          0                         0                       0  \n...                      ...                       ...                     ...  \n33167                      0                         1                       0  \n33168                      0                         0                       0  \n33169                      0                         0                       0  \n33170                      0                         0                       0  \n33171                      0                         0                       0  \n\n[33172 rows x 305 columns]",
      "text/html": "<div>\n<style scoped>\n    .dataframe tbody tr th:only-of-type {\n        vertical-align: middle;\n    }\n\n    .dataframe tbody tr th {\n        vertical-align: top;\n    }\n\n    .dataframe thead th {\n        text-align: right;\n    }\n</style>\n<table border=\"1\" class=\"dataframe\">\n  <thead>\n    <tr style=\"text-align: right;\">\n      <th></th>\n      <th>dog_id</th>\n      <th>breeds_Affenpinscher</th>\n      <th>breeds_Afghan Hound</th>\n      <th>breeds_African Village Dog</th>\n      <th>breeds_Airedale Terrier</th>\n      <th>breeds_Akbash</th>\n      <th>breeds_Akita</th>\n      <th>breeds_Alaskan Klee Kai</th>\n      <th>breeds_Alaskan Malamute</th>\n      <th>breeds_American Bulldog</th>\n      <th>...</th>\n      <th>breeds_Whippet</th>\n      <th>breeds_Windsprite</th>\n      <th>breeds_Wire Fox Terrier</th>\n      <th>breeds_Wirehaired Pointing Griffon</th>\n      <th>breeds_Wirehaired Vizsla</th>\n      <th>breeds_Wolf-hybrid</th>\n      <th>breeds_Working Kelpie</th>\n      <th>breeds_Xoloitzcuintli</th>\n      <th>breeds_Yorkshire Terrier</th>\n      <th>breeds_shiloh shepherd</th>\n    </tr>\n  </thead>\n  <tbody>\n    <tr>\n      <th>0</th>\n      <td>10509</td>\n      <td>0</td>\n      <td>0</td>\n      <td>0</td>\n      <td>0</td>\n      <td>0</td>\n      <td>0</td>\n      <td>0</td>\n      <td>0</td>\n      <td>0</td>\n      <td>...</td>\n      <td>0</td>\n      <td>0</td>\n      <td>0</td>\n      <td>0</td>\n      <td>0</td>\n      <td>0</td>\n      <td>0</td>\n      <td>0</td>\n      <td>0</td>\n      <td>0</td>\n    </tr>\n    <tr>\n      <th>1</th>\n      <td>74227</td>\n      <td>0</td>\n      <td>0</td>\n      <td>0</td>\n      <td>0</td>\n      <td>0</td>\n      <td>0</td>\n      <td>0</td>\n      <td>0</td>\n      <td>0</td>\n      <td>...</td>\n      <td>0</td>\n      <td>0</td>\n      <td>0</td>\n      <td>0</td>\n      <td>0</td>\n      <td>0</td>\n      <td>0</td>\n      <td>0</td>\n      <td>0</td>\n      <td>0</td>\n    </tr>\n    <tr>\n      <th>2</th>\n      <td>32487</td>\n      <td>0</td>\n      <td>0</td>\n      <td>0</td>\n      <td>0</td>\n      <td>0</td>\n      <td>0</td>\n      <td>0</td>\n      <td>0</td>\n      <td>0</td>\n      <td>...</td>\n      <td>0</td>\n      <td>0</td>\n      <td>0</td>\n      <td>0</td>\n      <td>0</td>\n      <td>0</td>\n      <td>0</td>\n      <td>0</td>\n      <td>0</td>\n      <td>0</td>\n    </tr>\n    <tr>\n      <th>3</th>\n      <td>63150</td>\n      <td>0</td>\n      <td>0</td>\n      <td>0</td>\n      <td>0</td>\n      <td>0</td>\n      <td>0</td>\n      <td>0</td>\n      <td>0</td>\n      <td>0</td>\n      <td>...</td>\n      <td>0</td>\n      <td>0</td>\n      <td>0</td>\n      <td>0</td>\n      <td>0</td>\n      <td>0</td>\n      <td>0</td>\n      <td>0</td>\n      <td>0</td>\n      <td>0</td>\n    </tr>\n    <tr>\n      <th>4</th>\n      <td>33369</td>\n      <td>0</td>\n      <td>0</td>\n      <td>0</td>\n      <td>0</td>\n      <td>0</td>\n      <td>0</td>\n      <td>0</td>\n      <td>0</td>\n      <td>0</td>\n      <td>...</td>\n      <td>0</td>\n      <td>0</td>\n      <td>0</td>\n      <td>0</td>\n      <td>0</td>\n      <td>0</td>\n      <td>0</td>\n      <td>0</td>\n      <td>0</td>\n      <td>0</td>\n    </tr>\n    <tr>\n      <th>...</th>\n      <td>...</td>\n      <td>...</td>\n      <td>...</td>\n      <td>...</td>\n      <td>...</td>\n      <td>...</td>\n      <td>...</td>\n      <td>...</td>\n      <td>...</td>\n      <td>...</td>\n      <td>...</td>\n      <td>...</td>\n      <td>...</td>\n      <td>...</td>\n      <td>...</td>\n      <td>...</td>\n      <td>...</td>\n      <td>...</td>\n      <td>...</td>\n      <td>...</td>\n      <td>...</td>\n    </tr>\n    <tr>\n      <th>33167</th>\n      <td>91849</td>\n      <td>1</td>\n      <td>0</td>\n      <td>0</td>\n      <td>0</td>\n      <td>0</td>\n      <td>0</td>\n      <td>0</td>\n      <td>0</td>\n      <td>0</td>\n      <td>...</td>\n      <td>0</td>\n      <td>0</td>\n      <td>0</td>\n      <td>0</td>\n      <td>0</td>\n      <td>0</td>\n      <td>0</td>\n      <td>0</td>\n      <td>1</td>\n      <td>0</td>\n    </tr>\n    <tr>\n      <th>33168</th>\n      <td>33783</td>\n      <td>0</td>\n      <td>0</td>\n      <td>0</td>\n      <td>0</td>\n      <td>0</td>\n      <td>0</td>\n      <td>0</td>\n      <td>0</td>\n      <td>0</td>\n      <td>...</td>\n      <td>0</td>\n      <td>0</td>\n      <td>0</td>\n      <td>0</td>\n      <td>0</td>\n      <td>0</td>\n      <td>0</td>\n      <td>0</td>\n      <td>0</td>\n      <td>0</td>\n    </tr>\n    <tr>\n      <th>33169</th>\n      <td>98862</td>\n      <td>0</td>\n      <td>0</td>\n      <td>0</td>\n      <td>0</td>\n      <td>0</td>\n      <td>0</td>\n      <td>0</td>\n      <td>0</td>\n      <td>0</td>\n      <td>...</td>\n      <td>0</td>\n      <td>0</td>\n      <td>0</td>\n      <td>0</td>\n      <td>0</td>\n      <td>0</td>\n      <td>0</td>\n      <td>0</td>\n      <td>0</td>\n      <td>0</td>\n    </tr>\n    <tr>\n      <th>33170</th>\n      <td>99462</td>\n      <td>0</td>\n      <td>0</td>\n      <td>0</td>\n      <td>0</td>\n      <td>0</td>\n      <td>0</td>\n      <td>0</td>\n      <td>0</td>\n      <td>0</td>\n      <td>...</td>\n      <td>0</td>\n      <td>0</td>\n      <td>0</td>\n      <td>0</td>\n      <td>0</td>\n      <td>0</td>\n      <td>0</td>\n      <td>0</td>\n      <td>0</td>\n      <td>0</td>\n    </tr>\n    <tr>\n      <th>33171</th>\n      <td>6530</td>\n      <td>0</td>\n      <td>0</td>\n      <td>0</td>\n      <td>0</td>\n      <td>0</td>\n      <td>0</td>\n      <td>0</td>\n      <td>0</td>\n      <td>0</td>\n      <td>...</td>\n      <td>0</td>\n      <td>0</td>\n      <td>0</td>\n      <td>0</td>\n      <td>0</td>\n      <td>0</td>\n      <td>0</td>\n      <td>0</td>\n      <td>0</td>\n      <td>0</td>\n    </tr>\n  </tbody>\n</table>\n<p>33172 rows × 305 columns</p>\n</div>"
     },
     "execution_count": 252,
     "metadata": {},
     "output_type": "execute_result"
    }
   ],
   "source": [
    "# Concatenate the one-hot encoded breeds with the original dataframe\n",
    "id_breed_onehot = pd.concat([df_HLES[['dog_id']], breed_encoded], axis=1)\n",
    "id_breed_onehot"
   ],
   "metadata": {
    "collapsed": false
   }
  },
  {
   "cell_type": "code",
   "execution_count": 219,
   "outputs": [],
   "source": [
    "id_breed_onehot.to_pickle('features/breed_v2.pkl')\n",
    "id_breed_onehot.to_csv('features/breed_v2.csv', index=False)"
   ],
   "metadata": {
    "collapsed": false
   }
  },
  {
   "cell_type": "code",
   "execution_count": 253,
   "outputs": [
    {
     "data": {
      "text/plain": "       dog_id  breeds_American Pitbull Terrier  \\\n0       10509                                0   \n1       74227                                0   \n2       32487                                0   \n3       63150                                0   \n4       33369                                0   \n...       ...                              ...   \n33167   91849                                0   \n33168   33783                                0   \n33169   98862                                0   \n33170   99462                                0   \n33171    6530                                0   \n\n       breeds_American Staffordshire Terrier  breeds_Australian Cattle Dog  \\\n0                                          0                             1   \n1                                          1                             0   \n2                                          0                             0   \n3                                          0                             0   \n4                                          0                             0   \n...                                      ...                           ...   \n33167                                      0                             0   \n33168                                      0                             0   \n33169                                      0                             0   \n33170                                      0                             0   \n33171                                      0                             0   \n\n       breeds_Australian Shepherd  breeds_Basset Hound  breeds_Beagle  \\\n0                               0                    0              0   \n1                               0                    0              0   \n2                               0                    0              0   \n3                               0                    0              0   \n4                               0                    0              0   \n...                           ...                  ...            ...   \n33167                           0                    0              0   \n33168                           0                    0              0   \n33169                           0                    0              0   \n33170                           0                    0              1   \n33171                           0                    0              0   \n\n       breeds_Bernese Mountain Dog  breeds_Bichon Frise  breeds_Border Collie  \\\n0                                0                    0                     0   \n1                                0                    0                     0   \n2                                0                    0                     0   \n3                                0                    0                     0   \n4                                0                    0                     0   \n...                            ...                  ...                   ...   \n33167                            0                    0                     0   \n33168                            0                    0                     0   \n33169                            0                    0                     0   \n33170                            0                    0                     0   \n33171                            0                    0                     0   \n\n       ...  breeds_Poodle (Toy)  breeds_Pug  breeds_Rat Terrier  \\\n0      ...                    0           0                   0   \n1      ...                    0           0                   0   \n2      ...                    0           0                   0   \n3      ...                    0           0                   0   \n4      ...                    0           0                   0   \n...    ...                  ...         ...                 ...   \n33167  ...                    0           0                   0   \n33168  ...                    0           0                   0   \n33169  ...                    0           0                   0   \n33170  ...                    0           1                   0   \n33171  ...                    0           0                   0   \n\n       breeds_Rhodesian Ridgeback  breeds_Rottweiler  \\\n0                               0                  0   \n1                               0                  0   \n2                               0                  0   \n3                               0                  0   \n4                               0                  0   \n...                           ...                ...   \n33167                           0                  0   \n33168                           0                  0   \n33169                           0                  0   \n33170                           0                  0   \n33171                           0                  0   \n\n       breeds_Shetland Sheepdog  breeds_Shih Tzu  breeds_Siberian Husky  \\\n0                             0                0                      0   \n1                             0                0                      0   \n2                             0                0                      0   \n3                             0                0                      0   \n4                             0                0                      1   \n...                         ...              ...                    ...   \n33167                         0                0                      0   \n33168                         0                0                      0   \n33169                         0                0                      0   \n33170                         0                0                      0   \n33171                         0                0                      0   \n\n       breeds_West Highland White Terrier  breeds_Yorkshire Terrier  \n0                                       0                         0  \n1                                       0                         0  \n2                                       0                         0  \n3                                       0                         0  \n4                                       0                         0  \n...                                   ...                       ...  \n33167                                   0                         1  \n33168                                   0                         0  \n33169                                   0                         0  \n33170                                   0                         0  \n33171                                   0                         0  \n\n[33172 rows x 51 columns]",
      "text/html": "<div>\n<style scoped>\n    .dataframe tbody tr th:only-of-type {\n        vertical-align: middle;\n    }\n\n    .dataframe tbody tr th {\n        vertical-align: top;\n    }\n\n    .dataframe thead th {\n        text-align: right;\n    }\n</style>\n<table border=\"1\" class=\"dataframe\">\n  <thead>\n    <tr style=\"text-align: right;\">\n      <th></th>\n      <th>dog_id</th>\n      <th>breeds_American Pitbull Terrier</th>\n      <th>breeds_American Staffordshire Terrier</th>\n      <th>breeds_Australian Cattle Dog</th>\n      <th>breeds_Australian Shepherd</th>\n      <th>breeds_Basset Hound</th>\n      <th>breeds_Beagle</th>\n      <th>breeds_Bernese Mountain Dog</th>\n      <th>breeds_Bichon Frise</th>\n      <th>breeds_Border Collie</th>\n      <th>...</th>\n      <th>breeds_Poodle (Toy)</th>\n      <th>breeds_Pug</th>\n      <th>breeds_Rat Terrier</th>\n      <th>breeds_Rhodesian Ridgeback</th>\n      <th>breeds_Rottweiler</th>\n      <th>breeds_Shetland Sheepdog</th>\n      <th>breeds_Shih Tzu</th>\n      <th>breeds_Siberian Husky</th>\n      <th>breeds_West Highland White Terrier</th>\n      <th>breeds_Yorkshire Terrier</th>\n    </tr>\n  </thead>\n  <tbody>\n    <tr>\n      <th>0</th>\n      <td>10509</td>\n      <td>0</td>\n      <td>0</td>\n      <td>1</td>\n      <td>0</td>\n      <td>0</td>\n      <td>0</td>\n      <td>0</td>\n      <td>0</td>\n      <td>0</td>\n      <td>...</td>\n      <td>0</td>\n      <td>0</td>\n      <td>0</td>\n      <td>0</td>\n      <td>0</td>\n      <td>0</td>\n      <td>0</td>\n      <td>0</td>\n      <td>0</td>\n      <td>0</td>\n    </tr>\n    <tr>\n      <th>1</th>\n      <td>74227</td>\n      <td>0</td>\n      <td>1</td>\n      <td>0</td>\n      <td>0</td>\n      <td>0</td>\n      <td>0</td>\n      <td>0</td>\n      <td>0</td>\n      <td>0</td>\n      <td>...</td>\n      <td>0</td>\n      <td>0</td>\n      <td>0</td>\n      <td>0</td>\n      <td>0</td>\n      <td>0</td>\n      <td>0</td>\n      <td>0</td>\n      <td>0</td>\n      <td>0</td>\n    </tr>\n    <tr>\n      <th>2</th>\n      <td>32487</td>\n      <td>0</td>\n      <td>0</td>\n      <td>0</td>\n      <td>0</td>\n      <td>0</td>\n      <td>0</td>\n      <td>0</td>\n      <td>0</td>\n      <td>0</td>\n      <td>...</td>\n      <td>0</td>\n      <td>0</td>\n      <td>0</td>\n      <td>0</td>\n      <td>0</td>\n      <td>0</td>\n      <td>0</td>\n      <td>0</td>\n      <td>0</td>\n      <td>0</td>\n    </tr>\n    <tr>\n      <th>3</th>\n      <td>63150</td>\n      <td>0</td>\n      <td>0</td>\n      <td>0</td>\n      <td>0</td>\n      <td>0</td>\n      <td>0</td>\n      <td>0</td>\n      <td>0</td>\n      <td>0</td>\n      <td>...</td>\n      <td>0</td>\n      <td>0</td>\n      <td>0</td>\n      <td>0</td>\n      <td>0</td>\n      <td>0</td>\n      <td>0</td>\n      <td>0</td>\n      <td>0</td>\n      <td>0</td>\n    </tr>\n    <tr>\n      <th>4</th>\n      <td>33369</td>\n      <td>0</td>\n      <td>0</td>\n      <td>0</td>\n      <td>0</td>\n      <td>0</td>\n      <td>0</td>\n      <td>0</td>\n      <td>0</td>\n      <td>0</td>\n      <td>...</td>\n      <td>0</td>\n      <td>0</td>\n      <td>0</td>\n      <td>0</td>\n      <td>0</td>\n      <td>0</td>\n      <td>0</td>\n      <td>1</td>\n      <td>0</td>\n      <td>0</td>\n    </tr>\n    <tr>\n      <th>...</th>\n      <td>...</td>\n      <td>...</td>\n      <td>...</td>\n      <td>...</td>\n      <td>...</td>\n      <td>...</td>\n      <td>...</td>\n      <td>...</td>\n      <td>...</td>\n      <td>...</td>\n      <td>...</td>\n      <td>...</td>\n      <td>...</td>\n      <td>...</td>\n      <td>...</td>\n      <td>...</td>\n      <td>...</td>\n      <td>...</td>\n      <td>...</td>\n      <td>...</td>\n      <td>...</td>\n    </tr>\n    <tr>\n      <th>33167</th>\n      <td>91849</td>\n      <td>0</td>\n      <td>0</td>\n      <td>0</td>\n      <td>0</td>\n      <td>0</td>\n      <td>0</td>\n      <td>0</td>\n      <td>0</td>\n      <td>0</td>\n      <td>...</td>\n      <td>0</td>\n      <td>0</td>\n      <td>0</td>\n      <td>0</td>\n      <td>0</td>\n      <td>0</td>\n      <td>0</td>\n      <td>0</td>\n      <td>0</td>\n      <td>1</td>\n    </tr>\n    <tr>\n      <th>33168</th>\n      <td>33783</td>\n      <td>0</td>\n      <td>0</td>\n      <td>0</td>\n      <td>0</td>\n      <td>0</td>\n      <td>0</td>\n      <td>0</td>\n      <td>0</td>\n      <td>0</td>\n      <td>...</td>\n      <td>0</td>\n      <td>0</td>\n      <td>0</td>\n      <td>0</td>\n      <td>0</td>\n      <td>0</td>\n      <td>0</td>\n      <td>0</td>\n      <td>0</td>\n      <td>0</td>\n    </tr>\n    <tr>\n      <th>33169</th>\n      <td>98862</td>\n      <td>0</td>\n      <td>0</td>\n      <td>0</td>\n      <td>0</td>\n      <td>0</td>\n      <td>0</td>\n      <td>0</td>\n      <td>0</td>\n      <td>0</td>\n      <td>...</td>\n      <td>0</td>\n      <td>0</td>\n      <td>0</td>\n      <td>0</td>\n      <td>0</td>\n      <td>0</td>\n      <td>0</td>\n      <td>0</td>\n      <td>0</td>\n      <td>0</td>\n    </tr>\n    <tr>\n      <th>33170</th>\n      <td>99462</td>\n      <td>0</td>\n      <td>0</td>\n      <td>0</td>\n      <td>0</td>\n      <td>0</td>\n      <td>1</td>\n      <td>0</td>\n      <td>0</td>\n      <td>0</td>\n      <td>...</td>\n      <td>0</td>\n      <td>1</td>\n      <td>0</td>\n      <td>0</td>\n      <td>0</td>\n      <td>0</td>\n      <td>0</td>\n      <td>0</td>\n      <td>0</td>\n      <td>0</td>\n    </tr>\n    <tr>\n      <th>33171</th>\n      <td>6530</td>\n      <td>0</td>\n      <td>0</td>\n      <td>0</td>\n      <td>0</td>\n      <td>0</td>\n      <td>0</td>\n      <td>0</td>\n      <td>0</td>\n      <td>0</td>\n      <td>...</td>\n      <td>0</td>\n      <td>0</td>\n      <td>0</td>\n      <td>0</td>\n      <td>0</td>\n      <td>0</td>\n      <td>0</td>\n      <td>0</td>\n      <td>0</td>\n      <td>0</td>\n    </tr>\n  </tbody>\n</table>\n<p>33172 rows × 51 columns</p>\n</div>"
     },
     "execution_count": 253,
     "metadata": {},
     "output_type": "execute_result"
    }
   ],
   "source": [
    "# Combine the values from the three breed columns into a single series\n",
    "combined_breeds = pd.concat([df_HLES['dd_breed_pure'], df_HLES['dd_breed_mixed_primary'], df_HLES['dd_breed_mixed_secondary']])\n",
    "\n",
    "# Define the number of most common values to keep\n",
    "top_n_values = 51\n",
    "\n",
    "# Identify the top 50 most common values in the column\n",
    "top_values = combined_breeds.value_counts().head(top_n_values).index\n",
    "\n",
    "# Fill NaN values with an empty string in the breed columns\n",
    "df_HLES['dd_breed_pure'].fillna('', inplace=True)\n",
    "df_HLES['dd_breed_mixed_primary'].fillna('', inplace=True)\n",
    "df_HLES['dd_breed_mixed_secondary'].fillna('', inplace=True)\n",
    "\n",
    "# Replace empty strings with a placeholder value\n",
    "#df_HLES['dd_breed_pure'].replace('', 'Unknown', inplace=True)\n",
    "#df_HLES['dd_breed_mixed_primary'].replace('', 'Unknown', inplace=True)\n",
    "#df_HLES['dd_breed_mixed_secondary'].replace('', 'Unknown', inplace=True)\n",
    "\n",
    "# Filter the breeds to include only the top 50 breeds\n",
    "df_HLES['dd_breed_pure'] = df_HLES['dd_breed_pure'].apply(lambda x: x if x in top_values else 'Other')\n",
    "df_HLES['dd_breed_mixed_primary'] = df_HLES['dd_breed_mixed_primary'].apply(lambda x: x if x in top_values else 'Other')\n",
    "df_HLES['dd_breed_mixed_secondary'] = df_HLES['dd_breed_mixed_secondary'].apply(lambda x: x if x in top_values else 'Other')\n",
    "\n",
    "# Combine the breed columns into a single column for each row\n",
    "df_HLES['breeds'] = df_HLES.apply(lambda row: [row['dd_breed_pure'], row['dd_breed_mixed_primary'], row['dd_breed_mixed_secondary']], axis=1)\n",
    "\n",
    "# Create a MultiLabelBinarizer to one-hot encode the breeds\n",
    "mlb = MultiLabelBinarizer()\n",
    "breed_encoded = pd.DataFrame(mlb.fit_transform(df_HLES['breeds']), columns=[f'breeds_{col}' for col in mlb.classes_])\n",
    "breed_encoded.drop(['breeds_', 'breeds_Unknown'], axis=1, inplace=True)\n",
    "\n",
    "# Concatenate the one-hot encoded breeds with the original dataframe\n",
    "id_breed_onehot_top50 = pd.concat([df_HLES[['dog_id']], breed_encoded], axis=1)\n",
    "id_breed_onehot_top50"
   ],
   "metadata": {
    "collapsed": false
   }
  },
  {
   "cell_type": "code",
   "execution_count": 254,
   "outputs": [],
   "source": [
    "id_breed_onehot_top50.to_pickle('features/breed_top50_v2.pkl')\n",
    "id_breed_onehot_top50.to_csv('features/breed_top50_v2.csv', index=False)"
   ],
   "metadata": {
    "collapsed": false
   }
  },
  {
   "cell_type": "markdown",
   "source": [
    "## Breed pure or mixed"
   ],
   "metadata": {
    "collapsed": false
   }
  },
  {
   "cell_type": "code",
   "execution_count": 255,
   "outputs": [
    {
     "data": {
      "text/plain": "       dog_id  owner_id st_hles_completion_date  dd_breed_pure_or_mixed  \\\n0       10509     14660              2020-10-17                       2   \n1       74227     16755              2020-10-26                       2   \n2       32487      8568              2020-09-07                       1   \n3       63150      5380              2020-08-21                       2   \n4       33369     15957              2020-10-23                       2   \n...       ...       ...                     ...                     ...   \n33167   91849     32736              2021-06-22                       2   \n33168   33783      9482              2020-09-15                       2   \n33169   98862     32312              2021-05-25                       2   \n33170   99462     32692              2021-06-18                       2   \n33171    6530     23713              2020-11-28                       2   \n\n      dd_breed_pure dd_breed_pure_non_akc dd_breed_mixed_primary  \\\n0                                     NaN  Australian Cattle Dog   \n1                                     NaN                  Other   \n2             Other                   NaN                          \n3                                     NaN                Unknown   \n4                                     NaN         Siberian Husky   \n...             ...                   ...                    ...   \n33167                                 NaN      Yorkshire Terrier   \n33168                                 NaN               Havanese   \n33169                                 NaN                  Other   \n33170                                 NaN                    Pug   \n33171                                 NaN                  Other   \n\n             dd_breed_mixed_secondary  dd_age_years  dd_age_basis  ...  \\\n0                             Unknown     16.333333             2  ...   \n1      American Staffordshire Terrier      1.833333             1  ...   \n2                                         13.000000             3  ...   \n3                             Unknown     13.000000             3  ...   \n4                              Collie      2.166667             1  ...   \n...                               ...           ...           ...  ...   \n33167                           Other     10.000000             3  ...   \n33168                          Poodle      3.000000             3  ...   \n33169                  Boston Terrier      4.000000             3  ...   \n33170                          Beagle      0.916667             1  ...   \n33171                         Unknown     13.416667             2  ...   \n\n      oc_primary_residence_census_division oc_primary_residence_ownership  \\\n0                                      4.0                              2   \n1                                      5.0                              2   \n2                                      5.0                              1   \n3                                      9.0                              2   \n4                                      3.0                              2   \n...                                    ...                            ...   \n33167                                  9.0                              2   \n33168                                  9.0                              1   \n33169                                  7.0                              2   \n33170                                  9.0                              2   \n33171                                  3.0                              2   \n\n      oc_primary_residence_ownership_other_description  \\\n0                                                  NaN   \n1                                                  NaN   \n2                                                  NaN   \n3                                                  NaN   \n4                                                  NaN   \n...                                                ...   \n33167                                              NaN   \n33168                                              NaN   \n33169                                              NaN   \n33170                                              NaN   \n33171                                              NaN   \n\n      oc_primary_residence_time_percentage oc_secondary_residence  \\\n0                                      NaN                  False   \n1                                      NaN                  False   \n2                                      NaN                  False   \n3                                      NaN                  False   \n4                                      NaN                  False   \n...                                    ...                    ...   \n33167                                  5.0                   True   \n33168                                  NaN                  False   \n33169                                  NaN                  False   \n33170                                  NaN                  False   \n33171                                  NaN                  False   \n\n      oc_secondary_residence_state oc_secondary_residence_ownership  \\\n0                              NaN                              NaN   \n1                              NaN                              NaN   \n2                              NaN                              NaN   \n3                              NaN                              NaN   \n4                              NaN                              NaN   \n...                            ...                              ...   \n33167                           NH                              2.0   \n33168                          NaN                              NaN   \n33169                          NaN                              NaN   \n33170                          NaN                              NaN   \n33171                          NaN                              NaN   \n\n      oc_secondary_residence_ownership_other_description  \\\n0                                                    NaN   \n1                                                    NaN   \n2                                                    NaN   \n3                                                    NaN   \n4                                                    NaN   \n...                                                  ...   \n33167                                                NaN   \n33168                                                NaN   \n33169                                                NaN   \n33170                                                NaN   \n33171                                                NaN   \n\n      oc_secondary_residence_time_percentage  \\\n0                                        NaN   \n1                                        NaN   \n2                                        NaN   \n3                                        NaN   \n4                                        NaN   \n...                                      ...   \n33167                                    1.0   \n33168                                    NaN   \n33169                                    NaN   \n33170                                    NaN   \n33171                                    NaN   \n\n                                          breeds  \n0             [, Australian Cattle Dog, Unknown]  \n1      [, Other, American Staffordshire Terrier]  \n2                                    [Other, , ]  \n3                           [, Unknown, Unknown]  \n4                     [, Siberian Husky, Collie]  \n...                                          ...  \n33167               [, Yorkshire Terrier, Other]  \n33168                       [, Havanese, Poodle]  \n33169                  [, Other, Boston Terrier]  \n33170                            [, Pug, Beagle]  \n33171                         [, Other, Unknown]  \n\n[33172 rows x 659 columns]",
      "text/html": "<div>\n<style scoped>\n    .dataframe tbody tr th:only-of-type {\n        vertical-align: middle;\n    }\n\n    .dataframe tbody tr th {\n        vertical-align: top;\n    }\n\n    .dataframe thead th {\n        text-align: right;\n    }\n</style>\n<table border=\"1\" class=\"dataframe\">\n  <thead>\n    <tr style=\"text-align: right;\">\n      <th></th>\n      <th>dog_id</th>\n      <th>owner_id</th>\n      <th>st_hles_completion_date</th>\n      <th>dd_breed_pure_or_mixed</th>\n      <th>dd_breed_pure</th>\n      <th>dd_breed_pure_non_akc</th>\n      <th>dd_breed_mixed_primary</th>\n      <th>dd_breed_mixed_secondary</th>\n      <th>dd_age_years</th>\n      <th>dd_age_basis</th>\n      <th>...</th>\n      <th>oc_primary_residence_census_division</th>\n      <th>oc_primary_residence_ownership</th>\n      <th>oc_primary_residence_ownership_other_description</th>\n      <th>oc_primary_residence_time_percentage</th>\n      <th>oc_secondary_residence</th>\n      <th>oc_secondary_residence_state</th>\n      <th>oc_secondary_residence_ownership</th>\n      <th>oc_secondary_residence_ownership_other_description</th>\n      <th>oc_secondary_residence_time_percentage</th>\n      <th>breeds</th>\n    </tr>\n  </thead>\n  <tbody>\n    <tr>\n      <th>0</th>\n      <td>10509</td>\n      <td>14660</td>\n      <td>2020-10-17</td>\n      <td>2</td>\n      <td></td>\n      <td>NaN</td>\n      <td>Australian Cattle Dog</td>\n      <td>Unknown</td>\n      <td>16.333333</td>\n      <td>2</td>\n      <td>...</td>\n      <td>4.0</td>\n      <td>2</td>\n      <td>NaN</td>\n      <td>NaN</td>\n      <td>False</td>\n      <td>NaN</td>\n      <td>NaN</td>\n      <td>NaN</td>\n      <td>NaN</td>\n      <td>[, Australian Cattle Dog, Unknown]</td>\n    </tr>\n    <tr>\n      <th>1</th>\n      <td>74227</td>\n      <td>16755</td>\n      <td>2020-10-26</td>\n      <td>2</td>\n      <td></td>\n      <td>NaN</td>\n      <td>Other</td>\n      <td>American Staffordshire Terrier</td>\n      <td>1.833333</td>\n      <td>1</td>\n      <td>...</td>\n      <td>5.0</td>\n      <td>2</td>\n      <td>NaN</td>\n      <td>NaN</td>\n      <td>False</td>\n      <td>NaN</td>\n      <td>NaN</td>\n      <td>NaN</td>\n      <td>NaN</td>\n      <td>[, Other, American Staffordshire Terrier]</td>\n    </tr>\n    <tr>\n      <th>2</th>\n      <td>32487</td>\n      <td>8568</td>\n      <td>2020-09-07</td>\n      <td>1</td>\n      <td>Other</td>\n      <td>NaN</td>\n      <td></td>\n      <td></td>\n      <td>13.000000</td>\n      <td>3</td>\n      <td>...</td>\n      <td>5.0</td>\n      <td>1</td>\n      <td>NaN</td>\n      <td>NaN</td>\n      <td>False</td>\n      <td>NaN</td>\n      <td>NaN</td>\n      <td>NaN</td>\n      <td>NaN</td>\n      <td>[Other, , ]</td>\n    </tr>\n    <tr>\n      <th>3</th>\n      <td>63150</td>\n      <td>5380</td>\n      <td>2020-08-21</td>\n      <td>2</td>\n      <td></td>\n      <td>NaN</td>\n      <td>Unknown</td>\n      <td>Unknown</td>\n      <td>13.000000</td>\n      <td>3</td>\n      <td>...</td>\n      <td>9.0</td>\n      <td>2</td>\n      <td>NaN</td>\n      <td>NaN</td>\n      <td>False</td>\n      <td>NaN</td>\n      <td>NaN</td>\n      <td>NaN</td>\n      <td>NaN</td>\n      <td>[, Unknown, Unknown]</td>\n    </tr>\n    <tr>\n      <th>4</th>\n      <td>33369</td>\n      <td>15957</td>\n      <td>2020-10-23</td>\n      <td>2</td>\n      <td></td>\n      <td>NaN</td>\n      <td>Siberian Husky</td>\n      <td>Collie</td>\n      <td>2.166667</td>\n      <td>1</td>\n      <td>...</td>\n      <td>3.0</td>\n      <td>2</td>\n      <td>NaN</td>\n      <td>NaN</td>\n      <td>False</td>\n      <td>NaN</td>\n      <td>NaN</td>\n      <td>NaN</td>\n      <td>NaN</td>\n      <td>[, Siberian Husky, Collie]</td>\n    </tr>\n    <tr>\n      <th>...</th>\n      <td>...</td>\n      <td>...</td>\n      <td>...</td>\n      <td>...</td>\n      <td>...</td>\n      <td>...</td>\n      <td>...</td>\n      <td>...</td>\n      <td>...</td>\n      <td>...</td>\n      <td>...</td>\n      <td>...</td>\n      <td>...</td>\n      <td>...</td>\n      <td>...</td>\n      <td>...</td>\n      <td>...</td>\n      <td>...</td>\n      <td>...</td>\n      <td>...</td>\n      <td>...</td>\n    </tr>\n    <tr>\n      <th>33167</th>\n      <td>91849</td>\n      <td>32736</td>\n      <td>2021-06-22</td>\n      <td>2</td>\n      <td></td>\n      <td>NaN</td>\n      <td>Yorkshire Terrier</td>\n      <td>Other</td>\n      <td>10.000000</td>\n      <td>3</td>\n      <td>...</td>\n      <td>9.0</td>\n      <td>2</td>\n      <td>NaN</td>\n      <td>5.0</td>\n      <td>True</td>\n      <td>NH</td>\n      <td>2.0</td>\n      <td>NaN</td>\n      <td>1.0</td>\n      <td>[, Yorkshire Terrier, Other]</td>\n    </tr>\n    <tr>\n      <th>33168</th>\n      <td>33783</td>\n      <td>9482</td>\n      <td>2020-09-15</td>\n      <td>2</td>\n      <td></td>\n      <td>NaN</td>\n      <td>Havanese</td>\n      <td>Poodle</td>\n      <td>3.000000</td>\n      <td>3</td>\n      <td>...</td>\n      <td>9.0</td>\n      <td>1</td>\n      <td>NaN</td>\n      <td>NaN</td>\n      <td>False</td>\n      <td>NaN</td>\n      <td>NaN</td>\n      <td>NaN</td>\n      <td>NaN</td>\n      <td>[, Havanese, Poodle]</td>\n    </tr>\n    <tr>\n      <th>33169</th>\n      <td>98862</td>\n      <td>32312</td>\n      <td>2021-05-25</td>\n      <td>2</td>\n      <td></td>\n      <td>NaN</td>\n      <td>Other</td>\n      <td>Boston Terrier</td>\n      <td>4.000000</td>\n      <td>3</td>\n      <td>...</td>\n      <td>7.0</td>\n      <td>2</td>\n      <td>NaN</td>\n      <td>NaN</td>\n      <td>False</td>\n      <td>NaN</td>\n      <td>NaN</td>\n      <td>NaN</td>\n      <td>NaN</td>\n      <td>[, Other, Boston Terrier]</td>\n    </tr>\n    <tr>\n      <th>33170</th>\n      <td>99462</td>\n      <td>32692</td>\n      <td>2021-06-18</td>\n      <td>2</td>\n      <td></td>\n      <td>NaN</td>\n      <td>Pug</td>\n      <td>Beagle</td>\n      <td>0.916667</td>\n      <td>1</td>\n      <td>...</td>\n      <td>9.0</td>\n      <td>2</td>\n      <td>NaN</td>\n      <td>NaN</td>\n      <td>False</td>\n      <td>NaN</td>\n      <td>NaN</td>\n      <td>NaN</td>\n      <td>NaN</td>\n      <td>[, Pug, Beagle]</td>\n    </tr>\n    <tr>\n      <th>33171</th>\n      <td>6530</td>\n      <td>23713</td>\n      <td>2020-11-28</td>\n      <td>2</td>\n      <td></td>\n      <td>NaN</td>\n      <td>Other</td>\n      <td>Unknown</td>\n      <td>13.416667</td>\n      <td>2</td>\n      <td>...</td>\n      <td>3.0</td>\n      <td>2</td>\n      <td>NaN</td>\n      <td>NaN</td>\n      <td>False</td>\n      <td>NaN</td>\n      <td>NaN</td>\n      <td>NaN</td>\n      <td>NaN</td>\n      <td>[, Other, Unknown]</td>\n    </tr>\n  </tbody>\n</table>\n<p>33172 rows × 659 columns</p>\n</div>"
     },
     "execution_count": 255,
     "metadata": {},
     "output_type": "execute_result"
    }
   ],
   "source": [
    "# dd_breed_pure_or_mixed\n",
    "# 2 -> mixed\n",
    "# 1 -> pure\n",
    "\n",
    "df_HLES"
   ],
   "metadata": {
    "collapsed": false
   }
  },
  {
   "cell_type": "code",
   "execution_count": 256,
   "outputs": [
    {
     "data": {
      "text/plain": "dd_breed_pure_or_mixed\n1    16619\n2    16553\nName: count, dtype: int64"
     },
     "execution_count": 256,
     "metadata": {},
     "output_type": "execute_result"
    }
   ],
   "source": [
    "df_HLES['dd_breed_pure_or_mixed'].value_counts()"
   ],
   "metadata": {
    "collapsed": false
   }
  },
  {
   "cell_type": "code",
   "execution_count": 257,
   "outputs": [],
   "source": [
    "df_HLES['dd_breed_pure_or_mixed'].replace({2: 1, 1: 0}, inplace=True)"
   ],
   "metadata": {
    "collapsed": false
   }
  },
  {
   "cell_type": "code",
   "execution_count": 258,
   "outputs": [
    {
     "data": {
      "text/plain": "       dog_id  dd_breed_pure_or_mixed\n0       10509                       1\n1       74227                       1\n2       32487                       0\n3       63150                       1\n4       33369                       1\n...       ...                     ...\n33167   91849                       1\n33168   33783                       1\n33169   98862                       1\n33170   99462                       1\n33171    6530                       1\n\n[33172 rows x 2 columns]",
      "text/html": "<div>\n<style scoped>\n    .dataframe tbody tr th:only-of-type {\n        vertical-align: middle;\n    }\n\n    .dataframe tbody tr th {\n        vertical-align: top;\n    }\n\n    .dataframe thead th {\n        text-align: right;\n    }\n</style>\n<table border=\"1\" class=\"dataframe\">\n  <thead>\n    <tr style=\"text-align: right;\">\n      <th></th>\n      <th>dog_id</th>\n      <th>dd_breed_pure_or_mixed</th>\n    </tr>\n  </thead>\n  <tbody>\n    <tr>\n      <th>0</th>\n      <td>10509</td>\n      <td>1</td>\n    </tr>\n    <tr>\n      <th>1</th>\n      <td>74227</td>\n      <td>1</td>\n    </tr>\n    <tr>\n      <th>2</th>\n      <td>32487</td>\n      <td>0</td>\n    </tr>\n    <tr>\n      <th>3</th>\n      <td>63150</td>\n      <td>1</td>\n    </tr>\n    <tr>\n      <th>4</th>\n      <td>33369</td>\n      <td>1</td>\n    </tr>\n    <tr>\n      <th>...</th>\n      <td>...</td>\n      <td>...</td>\n    </tr>\n    <tr>\n      <th>33167</th>\n      <td>91849</td>\n      <td>1</td>\n    </tr>\n    <tr>\n      <th>33168</th>\n      <td>33783</td>\n      <td>1</td>\n    </tr>\n    <tr>\n      <th>33169</th>\n      <td>98862</td>\n      <td>1</td>\n    </tr>\n    <tr>\n      <th>33170</th>\n      <td>99462</td>\n      <td>1</td>\n    </tr>\n    <tr>\n      <th>33171</th>\n      <td>6530</td>\n      <td>1</td>\n    </tr>\n  </tbody>\n</table>\n<p>33172 rows × 2 columns</p>\n</div>"
     },
     "execution_count": 258,
     "metadata": {},
     "output_type": "execute_result"
    }
   ],
   "source": [
    "id_pure_or_mixed = df_HLES[['dog_id', 'dd_breed_pure_or_mixed']]\n",
    "id_pure_or_mixed"
   ],
   "metadata": {
    "collapsed": false
   }
  },
  {
   "cell_type": "code",
   "execution_count": 260,
   "outputs": [],
   "source": [
    "id_pure_or_mixed.to_pickle('features/breed_pure_or_mix.pkl')\n",
    "id_pure_or_mixed.to_csv('features/breed_pure_or_mix.csv', index=False)"
   ],
   "metadata": {
    "collapsed": false
   }
  },
  {
   "cell_type": "code",
   "execution_count": null,
   "outputs": [],
   "source": [],
   "metadata": {
    "collapsed": false
   }
  }
 ],
 "metadata": {
  "kernelspec": {
   "display_name": "Python 3",
   "language": "python",
   "name": "python3"
  },
  "language_info": {
   "codemirror_mode": {
    "name": "ipython",
    "version": 2
   },
   "file_extension": ".py",
   "mimetype": "text/x-python",
   "name": "python",
   "nbconvert_exporter": "python",
   "pygments_lexer": "ipython2",
   "version": "2.7.6"
  }
 },
 "nbformat": 4,
 "nbformat_minor": 0
}
