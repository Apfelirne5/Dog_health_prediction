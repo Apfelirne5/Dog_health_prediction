{
 "cells": [
  {
   "cell_type": "code",
   "execution_count": 1,
   "id": "6c6b85c3",
   "metadata": {},
   "outputs": [],
   "source": [
    "import pandas as pd\n",
    "import numpy as np\n",
    "import matplotlib.pyplot as plt\n",
    "import seaborn as sns\n",
    "from sklearn.preprocessing import LabelEncoder"
   ]
  },
  {
   "cell_type": "code",
   "execution_count": 2,
   "id": "cb85f1c4",
   "metadata": {},
   "outputs": [],
   "source": [
    "file_path = '../Dataset/SurveyData/SurveyData_CSV_DAP_2021_HLES_dog_owner_v1.0.csv'"
   ]
  },
  {
   "cell_type": "code",
   "execution_count": 3,
   "id": "ecc55a2f",
   "metadata": {},
   "outputs": [
    {
     "name": "stderr",
     "output_type": "stream",
     "text": [
<<<<<<< HEAD
      "/var/folders/lf/7fvgcgnd1fx26qng25slv7tw0000gn/T/ipykernel_2019/2812562623.py:1: DtypeWarning: Columns (5,21,75,77,79,81,83,85,87,89,191,192,193,194,195,196,197,198,199,200,201,204,214,285,295,516,566) have mixed types. Specify dtype option on import or set low_memory=False.\n",
      "/var/folders/lf/7fvgcgnd1fx26qng25slv7tw0000gn/T/ipykernel_1181/2812562623.py:1: DtypeWarning: Columns (5,21,75,77,79,81,83,85,87,89,191,192,193,194,195,196,197,198,199,200,201,204,214,285,295,516,566) have mixed types. Specify dtype option on import or set low_memory=False.\n",
=======
      "/var/folders/zd/3_6frj8s08b9zb1f3y0xqr2r0000gn/T/ipykernel_6565/186637762.py:1: DtypeWarning: Columns (5,21,75,77,79,81,83,85,87,89,191,192,193,194,195,196,197,198,199,200,201,204,214,285,295,516,566) have mixed types. Specify dtype option on import or set low_memory=False.\n",
>>>>>>> 86d8834a709217a7aadbb549eb46cfd488efc9b4
      "  df = pd.read_csv(file_path)\n"
     ]
    },
    {
     "data": {
      "text/plain": "       dog_id  owner_id st_hles_completion_date  dd_breed_pure_or_mixed  \\\n0       10509     14660              2020-10-17                       2   \n1       74227     16755              2020-10-26                       2   \n2       32487      8568              2020-09-07                       1   \n3       63150      5380              2020-08-21                       2   \n4       33369     15957              2020-10-23                       2   \n...       ...       ...                     ...                     ...   \n33167   91849     32736              2021-06-22                       2   \n33168   33783      9482              2020-09-15                       2   \n33169   98862     32312              2021-05-25                       2   \n33170   99462     32692              2021-06-18                       2   \n33171    6530     23713              2020-11-28                       2   \n\n       dd_breed_pure dd_breed_pure_non_akc  dd_breed_mixed_primary  \\\n0                NaN                   NaN                    16.0   \n1                NaN                   NaN                   133.0   \n2              159.0                   NaN                     NaN   \n3                NaN                   NaN                   999.0   \n4                NaN                   NaN                   230.0   \n...              ...                   ...                     ...   \n33167            NaN                   NaN                   276.0   \n33168            NaN                   NaN                   130.0   \n33169            NaN                   NaN                    60.0   \n33170            NaN                   NaN                   204.0   \n33171            NaN                   NaN                   261.0   \n\n       dd_breed_mixed_secondary  dd_age_years  dd_age_basis  ...  \\\n0                         999.0     16.333333             2  ...   \n1                          12.0      1.833333             1  ...   \n2                           NaN     13.000000             3  ...   \n3                         999.0     13.000000             3  ...   \n4                          82.0      2.166667             1  ...   \n...                         ...           ...           ...  ...   \n33167                       1.0     10.000000             3  ...   \n33168                     195.0      3.000000             3  ...   \n33169                      49.0      4.000000             3  ...   \n33170                      27.0      0.916667             1  ...   \n33171                     999.0     13.416667             2  ...   \n\n      oc_primary_residence_state oc_primary_residence_census_division  \\\n0                             MO                                  4.0   \n1                             MD                                  5.0   \n2                             VA                                  5.0   \n3                             CA                                  9.0   \n4                             OH                                  3.0   \n...                          ...                                  ...   \n33167                         CA                                  9.0   \n33168                         WA                                  9.0   \n33169                         AR                                  7.0   \n33170                         WA                                  9.0   \n33171                         IL                                  3.0   \n\n      oc_primary_residence_ownership  \\\n0                                  2   \n1                                  2   \n2                                  1   \n3                                  2   \n4                                  2   \n...                              ...   \n33167                              2   \n33168                              1   \n33169                              2   \n33170                              2   \n33171                              2   \n\n      oc_primary_residence_ownership_other_description  \\\n0                                                  NaN   \n1                                                  NaN   \n2                                                  NaN   \n3                                                  NaN   \n4                                                  NaN   \n...                                                ...   \n33167                                              NaN   \n33168                                              NaN   \n33169                                              NaN   \n33170                                              NaN   \n33171                                              NaN   \n\n      oc_primary_residence_time_percentage oc_secondary_residence  \\\n0                                      NaN                  False   \n1                                      NaN                  False   \n2                                      NaN                  False   \n3                                      NaN                  False   \n4                                      NaN                  False   \n...                                    ...                    ...   \n33167                                  5.0                   True   \n33168                                  NaN                  False   \n33169                                  NaN                  False   \n33170                                  NaN                  False   \n33171                                  NaN                  False   \n\n      oc_secondary_residence_state oc_secondary_residence_ownership  \\\n0                              NaN                              NaN   \n1                              NaN                              NaN   \n2                              NaN                              NaN   \n3                              NaN                              NaN   \n4                              NaN                              NaN   \n...                            ...                              ...   \n33167                           NH                              2.0   \n33168                          NaN                              NaN   \n33169                          NaN                              NaN   \n33170                          NaN                              NaN   \n33171                          NaN                              NaN   \n\n      oc_secondary_residence_ownership_other_description  \\\n0                                                    NaN   \n1                                                    NaN   \n2                                                    NaN   \n3                                                    NaN   \n4                                                    NaN   \n...                                                  ...   \n33167                                                NaN   \n33168                                                NaN   \n33169                                                NaN   \n33170                                                NaN   \n33171                                                NaN   \n\n      oc_secondary_residence_time_percentage  \n0                                        NaN  \n1                                        NaN  \n2                                        NaN  \n3                                        NaN  \n4                                        NaN  \n...                                      ...  \n33167                                    1.0  \n33168                                    NaN  \n33169                                    NaN  \n33170                                    NaN  \n33171                                    NaN  \n\n[33172 rows x 658 columns]",
      "text/html": "<div>\n<style scoped>\n    .dataframe tbody tr th:only-of-type {\n        vertical-align: middle;\n    }\n\n    .dataframe tbody tr th {\n        vertical-align: top;\n    }\n\n    .dataframe thead th {\n        text-align: right;\n    }\n</style>\n<table border=\"1\" class=\"dataframe\">\n  <thead>\n    <tr style=\"text-align: right;\">\n      <th></th>\n      <th>dog_id</th>\n      <th>owner_id</th>\n      <th>st_hles_completion_date</th>\n      <th>dd_breed_pure_or_mixed</th>\n      <th>dd_breed_pure</th>\n      <th>dd_breed_pure_non_akc</th>\n      <th>dd_breed_mixed_primary</th>\n      <th>dd_breed_mixed_secondary</th>\n      <th>dd_age_years</th>\n      <th>dd_age_basis</th>\n      <th>...</th>\n      <th>oc_primary_residence_state</th>\n      <th>oc_primary_residence_census_division</th>\n      <th>oc_primary_residence_ownership</th>\n      <th>oc_primary_residence_ownership_other_description</th>\n      <th>oc_primary_residence_time_percentage</th>\n      <th>oc_secondary_residence</th>\n      <th>oc_secondary_residence_state</th>\n      <th>oc_secondary_residence_ownership</th>\n      <th>oc_secondary_residence_ownership_other_description</th>\n      <th>oc_secondary_residence_time_percentage</th>\n    </tr>\n  </thead>\n  <tbody>\n    <tr>\n      <th>0</th>\n      <td>10509</td>\n      <td>14660</td>\n      <td>2020-10-17</td>\n      <td>2</td>\n      <td>NaN</td>\n      <td>NaN</td>\n      <td>16.0</td>\n      <td>999.0</td>\n      <td>16.333333</td>\n      <td>2</td>\n      <td>...</td>\n      <td>MO</td>\n      <td>4.0</td>\n      <td>2</td>\n      <td>NaN</td>\n      <td>NaN</td>\n      <td>False</td>\n      <td>NaN</td>\n      <td>NaN</td>\n      <td>NaN</td>\n      <td>NaN</td>\n    </tr>\n    <tr>\n      <th>1</th>\n      <td>74227</td>\n      <td>16755</td>\n      <td>2020-10-26</td>\n      <td>2</td>\n      <td>NaN</td>\n      <td>NaN</td>\n      <td>133.0</td>\n      <td>12.0</td>\n      <td>1.833333</td>\n      <td>1</td>\n      <td>...</td>\n      <td>MD</td>\n      <td>5.0</td>\n      <td>2</td>\n      <td>NaN</td>\n      <td>NaN</td>\n      <td>False</td>\n      <td>NaN</td>\n      <td>NaN</td>\n      <td>NaN</td>\n      <td>NaN</td>\n    </tr>\n    <tr>\n      <th>2</th>\n      <td>32487</td>\n      <td>8568</td>\n      <td>2020-09-07</td>\n      <td>1</td>\n      <td>159.0</td>\n      <td>NaN</td>\n      <td>NaN</td>\n      <td>NaN</td>\n      <td>13.000000</td>\n      <td>3</td>\n      <td>...</td>\n      <td>VA</td>\n      <td>5.0</td>\n      <td>1</td>\n      <td>NaN</td>\n      <td>NaN</td>\n      <td>False</td>\n      <td>NaN</td>\n      <td>NaN</td>\n      <td>NaN</td>\n      <td>NaN</td>\n    </tr>\n    <tr>\n      <th>3</th>\n      <td>63150</td>\n      <td>5380</td>\n      <td>2020-08-21</td>\n      <td>2</td>\n      <td>NaN</td>\n      <td>NaN</td>\n      <td>999.0</td>\n      <td>999.0</td>\n      <td>13.000000</td>\n      <td>3</td>\n      <td>...</td>\n      <td>CA</td>\n      <td>9.0</td>\n      <td>2</td>\n      <td>NaN</td>\n      <td>NaN</td>\n      <td>False</td>\n      <td>NaN</td>\n      <td>NaN</td>\n      <td>NaN</td>\n      <td>NaN</td>\n    </tr>\n    <tr>\n      <th>4</th>\n      <td>33369</td>\n      <td>15957</td>\n      <td>2020-10-23</td>\n      <td>2</td>\n      <td>NaN</td>\n      <td>NaN</td>\n      <td>230.0</td>\n      <td>82.0</td>\n      <td>2.166667</td>\n      <td>1</td>\n      <td>...</td>\n      <td>OH</td>\n      <td>3.0</td>\n      <td>2</td>\n      <td>NaN</td>\n      <td>NaN</td>\n      <td>False</td>\n      <td>NaN</td>\n      <td>NaN</td>\n      <td>NaN</td>\n      <td>NaN</td>\n    </tr>\n    <tr>\n      <th>...</th>\n      <td>...</td>\n      <td>...</td>\n      <td>...</td>\n      <td>...</td>\n      <td>...</td>\n      <td>...</td>\n      <td>...</td>\n      <td>...</td>\n      <td>...</td>\n      <td>...</td>\n      <td>...</td>\n      <td>...</td>\n      <td>...</td>\n      <td>...</td>\n      <td>...</td>\n      <td>...</td>\n      <td>...</td>\n      <td>...</td>\n      <td>...</td>\n      <td>...</td>\n      <td>...</td>\n    </tr>\n    <tr>\n      <th>33167</th>\n      <td>91849</td>\n      <td>32736</td>\n      <td>2021-06-22</td>\n      <td>2</td>\n      <td>NaN</td>\n      <td>NaN</td>\n      <td>276.0</td>\n      <td>1.0</td>\n      <td>10.000000</td>\n      <td>3</td>\n      <td>...</td>\n      <td>CA</td>\n      <td>9.0</td>\n      <td>2</td>\n      <td>NaN</td>\n      <td>5.0</td>\n      <td>True</td>\n      <td>NH</td>\n      <td>2.0</td>\n      <td>NaN</td>\n      <td>1.0</td>\n    </tr>\n    <tr>\n      <th>33168</th>\n      <td>33783</td>\n      <td>9482</td>\n      <td>2020-09-15</td>\n      <td>2</td>\n      <td>NaN</td>\n      <td>NaN</td>\n      <td>130.0</td>\n      <td>195.0</td>\n      <td>3.000000</td>\n      <td>3</td>\n      <td>...</td>\n      <td>WA</td>\n      <td>9.0</td>\n      <td>1</td>\n      <td>NaN</td>\n      <td>NaN</td>\n      <td>False</td>\n      <td>NaN</td>\n      <td>NaN</td>\n      <td>NaN</td>\n      <td>NaN</td>\n    </tr>\n    <tr>\n      <th>33169</th>\n      <td>98862</td>\n      <td>32312</td>\n      <td>2021-05-25</td>\n      <td>2</td>\n      <td>NaN</td>\n      <td>NaN</td>\n      <td>60.0</td>\n      <td>49.0</td>\n      <td>4.000000</td>\n      <td>3</td>\n      <td>...</td>\n      <td>AR</td>\n      <td>7.0</td>\n      <td>2</td>\n      <td>NaN</td>\n      <td>NaN</td>\n      <td>False</td>\n      <td>NaN</td>\n      <td>NaN</td>\n      <td>NaN</td>\n      <td>NaN</td>\n    </tr>\n    <tr>\n      <th>33170</th>\n      <td>99462</td>\n      <td>32692</td>\n      <td>2021-06-18</td>\n      <td>2</td>\n      <td>NaN</td>\n      <td>NaN</td>\n      <td>204.0</td>\n      <td>27.0</td>\n      <td>0.916667</td>\n      <td>1</td>\n      <td>...</td>\n      <td>WA</td>\n      <td>9.0</td>\n      <td>2</td>\n      <td>NaN</td>\n      <td>NaN</td>\n      <td>False</td>\n      <td>NaN</td>\n      <td>NaN</td>\n      <td>NaN</td>\n      <td>NaN</td>\n    </tr>\n    <tr>\n      <th>33171</th>\n      <td>6530</td>\n      <td>23713</td>\n      <td>2020-11-28</td>\n      <td>2</td>\n      <td>NaN</td>\n      <td>NaN</td>\n      <td>261.0</td>\n      <td>999.0</td>\n      <td>13.416667</td>\n      <td>2</td>\n      <td>...</td>\n      <td>IL</td>\n      <td>3.0</td>\n      <td>2</td>\n      <td>NaN</td>\n      <td>NaN</td>\n      <td>False</td>\n      <td>NaN</td>\n      <td>NaN</td>\n      <td>NaN</td>\n      <td>NaN</td>\n    </tr>\n  </tbody>\n</table>\n<p>33172 rows × 658 columns</p>\n</div>"
     },
     "execution_count": 3,
     "metadata": {},
     "output_type": "execute_result"
    }
   ],
   "source": [
    "df = pd.read_csv(file_path)\n",
    "df"
   ]
  },
  {
   "cell_type": "code",
   "execution_count": 4,
   "id": "e9e77a10",
   "metadata": {},
   "outputs": [
    {
     "name": "stdout",
     "output_type": "stream",
     "text": [
      "hours:        pa_avg_daily_active_hours\n",
      "0                              5\n",
      "1                              1\n",
      "2                              3\n",
      "3                              0\n",
      "4                              3\n",
      "...                          ...\n",
      "33167                          5\n",
      "33168                          2\n",
      "33169                          0\n",
      "33170                          4\n",
      "33171                          2\n",
      "\n",
      "[33172 rows x 1 columns]\n",
      "minutes:        pa_avg_daily_active_minutes\n",
      "0                                1\n",
      "1                                3\n",
      "2                                0\n",
      "3                                4\n",
      "4                                3\n",
      "...                            ...\n",
      "33167                            0\n",
      "33168                            1\n",
      "33169                            3\n",
      "33170                            0\n",
      "33171                            0\n",
      "\n",
      "[33172 rows x 1 columns]\n",
      "       dog_id\n",
      "0       10509\n",
      "1       74227\n",
      "2       32487\n",
      "3       63150\n",
      "4       33369\n",
      "...       ...\n",
      "33167   91849\n",
      "33168   33783\n",
      "33169   98862\n",
      "33170   99462\n",
      "33171    6530\n",
      "\n",
      "[33172 rows x 1 columns]\n"
     ]
    }
   ],
   "source": [
    "# dog physically active time per day\n",
    "hours = df[['pa_avg_daily_active_hours']].dropna(subset=['pa_avg_daily_active_hours'])\n",
    "minutes = df[['pa_avg_daily_active_minutes']].dropna(subset=['pa_avg_daily_active_minutes'])\n",
    "dog_id = df[['dog_id']]\n",
    "\n",
    "print(\"hours:\", hours)\n",
    "print(\"minutes:\", minutes)\n",
    "print(dog_id)\n"
   ]
  },
  {
   "cell_type": "code",
   "execution_count": 5,
   "id": "69ab88ad",
   "metadata": {},
   "outputs": [
    {
     "name": "stdout",
     "output_type": "stream",
     "text": [
      "       dog_id  total_active_minutes\n",
      "0       10509                   301\n",
      "1       74227                    63\n",
      "2       32487                   180\n",
      "3       63150                     4\n",
      "4       33369                   183\n",
      "...       ...                   ...\n",
      "33167   91849                   300\n",
      "33168   33783                   121\n",
      "33169   98862                     3\n",
      "33170   99462                   240\n",
      "33171    6530                   120\n",
      "\n",
      "[33172 rows x 2 columns]\n"
     ]
    },
    {
     "name": "stderr",
     "output_type": "stream",
     "text": [
      "/var/folders/zd/3_6frj8s08b9zb1f3y0xqr2r0000gn/T/ipykernel_6565/2620002618.py:3: SettingWithCopyWarning: \n",
      "A value is trying to be set on a copy of a slice from a DataFrame.\n",
      "Try using .loc[row_indexer,col_indexer] = value instead\n",
      "\n",
      "See the caveats in the documentation: https://pandas.pydata.org/pandas-docs/stable/user_guide/indexing.html#returning-a-view-versus-a-copy\n",
      "  dog_id['total_active_minutes'] = total_active_minutes\n"
     ]
    }
   ],
   "source": [
    "if len(hours) == len(minutes):\n",
    "    total_active_minutes = hours['pa_avg_daily_active_hours'] * 60 + minutes['pa_avg_daily_active_minutes']\n",
    "    dog_id['total_active_minutes'] = total_active_minutes\n",
    "    print(dog_id)\n",
    "else:\n",
    "    print(\"DataFrames 'hours' and 'minutes' do not align in length.\")\n",
    "    "
   ]
  },
  {
   "cell_type": "code",
   "execution_count": 6,
   "id": "d07720d7",
   "metadata": {},
   "outputs": [
    {
     "data": {
      "text/plain": "       dog_id  total_active_minutes  pa_avg_daily_active_hours  \\\n0       10509                   301                          5   \n1       74227                    63                          1   \n2       32487                   180                          3   \n3       63150                     4                          0   \n4       33369                   183                          3   \n...       ...                   ...                        ...   \n33167   91849                   300                          5   \n33168   33783                   121                          2   \n33169   98862                     3                          0   \n33170   99462                   240                          4   \n33171    6530                   120                          2   \n\n       pa_avg_daily_active_minutes  \n0                                1  \n1                                3  \n2                                0  \n3                                4  \n4                                3  \n...                            ...  \n33167                            0  \n33168                            1  \n33169                            3  \n33170                            0  \n33171                            0  \n\n[33172 rows x 4 columns]",
      "text/html": "<div>\n<style scoped>\n    .dataframe tbody tr th:only-of-type {\n        vertical-align: middle;\n    }\n\n    .dataframe tbody tr th {\n        vertical-align: top;\n    }\n\n    .dataframe thead th {\n        text-align: right;\n    }\n</style>\n<table border=\"1\" class=\"dataframe\">\n  <thead>\n    <tr style=\"text-align: right;\">\n      <th></th>\n      <th>dog_id</th>\n      <th>total_active_minutes</th>\n      <th>pa_avg_daily_active_hours</th>\n      <th>pa_avg_daily_active_minutes</th>\n    </tr>\n  </thead>\n  <tbody>\n    <tr>\n      <th>0</th>\n      <td>10509</td>\n      <td>301</td>\n      <td>5</td>\n      <td>1</td>\n    </tr>\n    <tr>\n      <th>1</th>\n      <td>74227</td>\n      <td>63</td>\n      <td>1</td>\n      <td>3</td>\n    </tr>\n    <tr>\n      <th>2</th>\n      <td>32487</td>\n      <td>180</td>\n      <td>3</td>\n      <td>0</td>\n    </tr>\n    <tr>\n      <th>3</th>\n      <td>63150</td>\n      <td>4</td>\n      <td>0</td>\n      <td>4</td>\n    </tr>\n    <tr>\n      <th>4</th>\n      <td>33369</td>\n      <td>183</td>\n      <td>3</td>\n      <td>3</td>\n    </tr>\n    <tr>\n      <th>...</th>\n      <td>...</td>\n      <td>...</td>\n      <td>...</td>\n      <td>...</td>\n    </tr>\n    <tr>\n      <th>33167</th>\n      <td>91849</td>\n      <td>300</td>\n      <td>5</td>\n      <td>0</td>\n    </tr>\n    <tr>\n      <th>33168</th>\n      <td>33783</td>\n      <td>121</td>\n      <td>2</td>\n      <td>1</td>\n    </tr>\n    <tr>\n      <th>33169</th>\n      <td>98862</td>\n      <td>3</td>\n      <td>0</td>\n      <td>3</td>\n    </tr>\n    <tr>\n      <th>33170</th>\n      <td>99462</td>\n      <td>240</td>\n      <td>4</td>\n      <td>0</td>\n    </tr>\n    <tr>\n      <th>33171</th>\n      <td>6530</td>\n      <td>120</td>\n      <td>2</td>\n      <td>0</td>\n    </tr>\n  </tbody>\n</table>\n<p>33172 rows × 4 columns</p>\n</div>"
     },
     "execution_count": 6,
     "metadata": {},
     "output_type": "execute_result"
    }
   ],
   "source": [
    "whole_time = pd.concat([dog_id, hours, minutes], axis=1)\n",
    "whole_time\n"
   ]
  },
  {
   "cell_type": "code",
   "execution_count": 7,
   "id": "219088ff",
   "metadata": {},
   "outputs": [
    {
     "name": "stdout",
     "output_type": "stream",
     "text": [
      "       dog_id  total_active_minutes  total_active_hours\n",
      "0       10509                   301            5.016667\n",
      "1       74227                    63            1.050000\n",
      "2       32487                   180            3.000000\n",
      "3       63150                     4            0.066667\n",
      "4       33369                   183            3.050000\n",
      "...       ...                   ...                 ...\n",
      "33167   91849                   300            5.000000\n",
      "33168   33783                   121            2.016667\n",
      "33169   98862                     3            0.050000\n",
      "33170   99462                   240            4.000000\n",
      "33171    6530                   120            2.000000\n",
      "\n",
      "[33172 rows x 3 columns]\n"
     ]
    },
    {
     "name": "stderr",
     "output_type": "stream",
     "text": [
      "/var/folders/zd/3_6frj8s08b9zb1f3y0xqr2r0000gn/T/ipykernel_6565/1364612385.py:1: SettingWithCopyWarning: \n",
      "A value is trying to be set on a copy of a slice from a DataFrame.\n",
      "Try using .loc[row_indexer,col_indexer] = value instead\n",
      "\n",
      "See the caveats in the documentation: https://pandas.pydata.org/pandas-docs/stable/user_guide/indexing.html#returning-a-view-versus-a-copy\n",
      "  dog_id['total_active_hours'] = dog_id['total_active_minutes'] / 60\n"
     ]
    }
   ],
   "source": [
    "dog_id['total_active_hours'] = dog_id['total_active_minutes'] / 60\n",
    "\n",
    "print(dog_id)"
   ]
  },
  {
   "cell_type": "code",
   "execution_count": 8,
   "id": "11be8a2d",
   "metadata": {},
   "outputs": [],
   "source": [
    "extracted_data = dog_id[['dog_id', 'total_active_hours']]"
   ]
  },
  {
   "cell_type": "code",
   "execution_count": 9,
   "outputs": [
    {
     "name": "stderr",
     "output_type": "stream",
     "text": [
      "/var/folders/zd/3_6frj8s08b9zb1f3y0xqr2r0000gn/T/ipykernel_6565/1885413818.py:1: SettingWithCopyWarning: \n",
      "A value is trying to be set on a copy of a slice from a DataFrame.\n",
      "Try using .loc[row_indexer,col_indexer] = value instead\n",
      "\n",
      "See the caveats in the documentation: https://pandas.pydata.org/pandas-docs/stable/user_guide/indexing.html#returning-a-view-versus-a-copy\n",
      "  extracted_data['total_active_hours'] = extracted_data['total_active_hours'].round(decimals=1)\n"
     ]
    },
    {
     "data": {
      "text/plain": "       dog_id  total_active_hours\n0       10509                 5.0\n1       74227                 1.0\n2       32487                 3.0\n3       63150                 0.1\n4       33369                 3.0\n...       ...                 ...\n33167   91849                 5.0\n33168   33783                 2.0\n33169   98862                 0.0\n33170   99462                 4.0\n33171    6530                 2.0\n\n[33172 rows x 2 columns]",
      "text/html": "<div>\n<style scoped>\n    .dataframe tbody tr th:only-of-type {\n        vertical-align: middle;\n    }\n\n    .dataframe tbody tr th {\n        vertical-align: top;\n    }\n\n    .dataframe thead th {\n        text-align: right;\n    }\n</style>\n<table border=\"1\" class=\"dataframe\">\n  <thead>\n    <tr style=\"text-align: right;\">\n      <th></th>\n      <th>dog_id</th>\n      <th>total_active_hours</th>\n    </tr>\n  </thead>\n  <tbody>\n    <tr>\n      <th>0</th>\n      <td>10509</td>\n      <td>5.0</td>\n    </tr>\n    <tr>\n      <th>1</th>\n      <td>74227</td>\n      <td>1.0</td>\n    </tr>\n    <tr>\n      <th>2</th>\n      <td>32487</td>\n      <td>3.0</td>\n    </tr>\n    <tr>\n      <th>3</th>\n      <td>63150</td>\n      <td>0.1</td>\n    </tr>\n    <tr>\n      <th>4</th>\n      <td>33369</td>\n      <td>3.0</td>\n    </tr>\n    <tr>\n      <th>...</th>\n      <td>...</td>\n      <td>...</td>\n    </tr>\n    <tr>\n      <th>33167</th>\n      <td>91849</td>\n      <td>5.0</td>\n    </tr>\n    <tr>\n      <th>33168</th>\n      <td>33783</td>\n      <td>2.0</td>\n    </tr>\n    <tr>\n      <th>33169</th>\n      <td>98862</td>\n      <td>0.0</td>\n    </tr>\n    <tr>\n      <th>33170</th>\n      <td>99462</td>\n      <td>4.0</td>\n    </tr>\n    <tr>\n      <th>33171</th>\n      <td>6530</td>\n      <td>2.0</td>\n    </tr>\n  </tbody>\n</table>\n<p>33172 rows × 2 columns</p>\n</div>"
     },
     "execution_count": 9,
     "metadata": {},
     "output_type": "execute_result"
    }
   ],
   "source": [
    "extracted_data['total_active_hours'] = extracted_data['total_active_hours'].round(decimals=1)\n",
    "extracted_data"
   ],
   "metadata": {
    "collapsed": false
   }
  },
  {
   "cell_type": "code",
   "execution_count": 12,
   "outputs": [],
   "source": [
    "extracted_data.to_csv('features/PhysicalActivity_total_hours.csv', index=False)\n",
    "extracted_data.to_pickle('features/PhysicalActivity_total_hours.pkl')"
   ],
   "metadata": {
    "collapsed": false
   }
  },
  {
   "cell_type": "code",
   "execution_count": 13,
   "id": "adc6c80b",
   "metadata": {},
   "outputs": [],
   "source": [
    "# extracted_data = dog_id[['dog_id', 'total_active_hours']]\n",
    "# extracted_data.to_csv('PhysicalActivity_total_hours.csv', index=False)"
   ]
  },
  {
   "cell_type": "code",
   "execution_count": 13,
   "outputs": [],
   "source": [],
   "metadata": {
    "collapsed": false
   }
  },
  {
   "cell_type": "code",
   "execution_count": 14,
   "id": "3714a0fc",
   "metadata": {},
   "outputs": [
    {
     "name": "stdout",
     "output_type": "stream",
     "text": [
      "       dog_id  pa_hot_weather_daily_hours_outside\n",
      "0       10509                                 1.0\n",
      "1       74227                                 1.0\n",
      "2       32487                                 1.0\n",
      "4       33369                                 1.0\n",
      "5       72814                                 1.0\n",
      "...       ...                                 ...\n",
      "33165   12758                                 1.0\n",
      "33166    4024                                 1.0\n",
      "33168   33783                                 1.0\n",
      "33169   98862                                 1.0\n",
      "33171    6530                                 5.0\n",
      "\n",
      "[31177 rows x 2 columns]\n"
     ]
    },
    {
     "data": {
      "text/plain": "pa_hot_weather_daily_hours_outside\n1.0    24151\n5.0     3619\n2.0     3010\n3.0      282\n4.0      115\nName: count, dtype: int64"
     },
     "execution_count": 14,
     "metadata": {},
     "output_type": "execute_result"
    }
   ],
   "source": [
    "# hot wheather outdoor (over 85 degrees Fahrenheit)\n",
    "hot_weather_outside = df[['dog_id', 'pa_hot_weather_daily_hours_outside']]\n",
    "hot_weather_outside = hot_weather_outside.dropna()\n",
    "print(hot_weather_outside)\n",
    "# 1: less than 3 hours\n",
    "# 2: between 3-8 hours\n",
    "# 3: between 8-16 hours\n",
    "# 4: more than 16 hours\n",
    "hot_weather_outside['pa_hot_weather_daily_hours_outside'].value_counts()"
   ]
  },
  {
   "cell_type": "code",
   "execution_count": 15,
   "id": "6322f79f",
   "metadata": {},
   "outputs": [
    {
     "data": {
      "text/plain": "<Figure size 640x480 with 1 Axes>",
      "image/png": "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"
     },
     "metadata": {},
     "output_type": "display_data"
    }
   ],
   "source": [
    "hot_value_counts = hot_weather_outside['pa_hot_weather_daily_hours_outside'].value_counts()\n",
    "hot_value_counts.sort_index().plot(kind='bar')\n",
    "\n",
    "plt.title('Hot Weather Outdoor Time')\n",
    "plt.xlabel('Category')\n",
    "plt.ylabel('Count')\n",
    "\n",
    "plt.show()"
   ]
  },
  {
   "cell_type": "code",
   "execution_count": 16,
   "id": "149ce50c",
   "metadata": {},
   "outputs": [
    {
     "name": "stdout",
     "output_type": "stream",
     "text": [
      "       dog_id  hot_weather_1.0  hot_weather_2.0  hot_weather_3.0  \\\n",
      "0       10509             True            False            False   \n",
      "1       74227             True            False            False   \n",
      "2       32487             True            False            False   \n",
      "4       33369             True            False            False   \n",
      "5       72814             True            False            False   \n",
      "...       ...              ...              ...              ...   \n",
      "33165   12758             True            False            False   \n",
      "33166    4024             True            False            False   \n",
      "33168   33783             True            False            False   \n",
      "33169   98862             True            False            False   \n",
      "33171    6530            False            False            False   \n",
      "\n",
      "       hot_weather_4.0  hot_weather_5.0  \n",
      "0                False            False  \n",
      "1                False            False  \n",
      "2                False            False  \n",
      "4                False            False  \n",
      "5                False            False  \n",
      "...                ...              ...  \n",
      "33165            False            False  \n",
      "33166            False            False  \n",
      "33168            False            False  \n",
      "33169            False            False  \n",
      "33171            False             True  \n",
      "\n",
      "[31177 rows x 6 columns]\n"
     ]
    }
   ],
   "source": [
    "one_hot_encoded = pd.get_dummies(hot_weather_outside['pa_hot_weather_daily_hours_outside'], prefix='hot_weather')\n",
    "one_hot_encoded_HotWheater = hot_weather_outside['dog_id'].to_frame().join(one_hot_encoded)\n",
    "\n",
    "print(one_hot_encoded_HotWheater)"
   ]
  },
  {
   "cell_type": "code",
   "execution_count": 17,
   "id": "93027cc1",
   "metadata": {},
   "outputs": [],
   "source": [
    "# one_hot_encoded_HotWheater.to_csv('one_hot_encoded_HotWheater_with_id', index=False)"
   ]
  },
  {
   "cell_type": "code",
   "execution_count": 18,
   "id": "25ec287a",
   "metadata": {
    "scrolled": true
   },
   "outputs": [
    {
     "name": "stdout",
     "output_type": "stream",
     "text": [
      "       dog_id  pa_cold_weather_daily_hours_outside\n",
      "0       10509                                  1.0\n",
      "1       74227                                  1.0\n",
      "2       32487                                  1.0\n",
      "4       33369                                  2.0\n",
      "5       72814                                  1.0\n",
      "...       ...                                  ...\n",
      "33166    4024                                  1.0\n",
      "33168   33783                                  1.0\n",
      "33169   98862                                  3.0\n",
      "33170   99462                                  1.0\n",
      "33171    6530                                  1.0\n",
      "\n",
      "[27656 rows x 2 columns]\n"
     ]
    },
    {
     "data": {
      "text/plain": "pa_cold_weather_daily_hours_outside\n1.0    21707\n2.0     2833\n5.0     2756\n3.0      255\n4.0      105\nName: count, dtype: int64"
     },
     "execution_count": 18,
     "metadata": {},
     "output_type": "execute_result"
    }
   ],
   "source": [
    "# cold wheather outdoor (over 85 degrees Fahrenheit)\n",
    "cold_weather_outside = df[['dog_id', 'pa_cold_weather_daily_hours_outside']]\n",
    "cold_weather_outside = cold_weather_outside.dropna()\n",
    "print(cold_weather_outside)\n",
    "# 1: less than 3 hours\n",
    "# 2: between 3-8 hours\n",
    "# 3: between 8-16 hours\n",
    "# 4: more than 16 hours\n",
    "cold_weather_outside['pa_cold_weather_daily_hours_outside'].value_counts()"
   ]
  },
  {
   "cell_type": "code",
   "execution_count": 19,
   "id": "dbdc4aa2",
   "metadata": {},
   "outputs": [
    {
     "data": {
      "text/plain": "<Figure size 640x480 with 1 Axes>",
      "image/png": "iVBORw0KGgoAAAANSUhEUgAAAkgAAAHKCAYAAAD4jrThAAAAOXRFWHRTb2Z0d2FyZQBNYXRwbG90bGliIHZlcnNpb24zLjguMiwgaHR0cHM6Ly9tYXRwbG90bGliLm9yZy8g+/7EAAAACXBIWXMAAA9hAAAPYQGoP6dpAAA/JUlEQVR4nO3deVyVZf7/8fcBAlFEUJDcssRBDZFNcc8lK5ecTK3RMjXpm44o8yujQsst1AStXNBcU0crNRsrLTOXaXQ0dzE1C3FS3MFcY4f794fjmc6NGppwjvB6Ph48Hp77uu77fO77uuW8ue/rnGMxDMMQAAAArJzsXQAAAICjISABAACYEJAAAABMCEgAAAAmBCQAAAATAhIAAIAJAQkAAMCEgAQAAGBCQALg0Er7Z9mW9v0D7lYEJMDOvv/+e8XExKht27Zq1KiROnTooDfffFOpqam3vK3nnntOzz333E37TJs2TfXq1bthe8+ePdW9e/dCy9esWaN69eqpU6dOhdq+/vpr1atXTzt37rzlmm9m+fLlmjhxovXxp59+qnr16un48eN39HmK4vjx4xo1apQefvhhBQUFqVWrVho0aJA2b958W9s7ffq0XnzxRZ04ceKm/ey5z9LVc6pevXo3/Xn99dd/97wC7jYu9i4AKMuWLFmi8ePHq2nTpho2bJiqVq2qo0ePat68eVq7dq0WLlyo+vXrl2hNzZs31/z585WRkaHy5ctbl2/atEleXl46cuSITpw4oRo1aljbduzYoQoVKigkJOSO1jJz5kxFRETc0W3ejq1btyoqKkr33nuvXnjhBfn7++uXX37RqlWrFBkZqX79+mn48OG3tM0tW7bo22+/LaaK75xRo0bpypUr1sdjxoyxLr+mcuXKcnV1VevWrUu8PqC4EJAAO9m1a5fGjRunZ599ViNGjLAub9q0qTp06KBu3bpp+PDh+vTTT0u0rubNm2v27NlKSkpS8+bNrcs3b96sPn36aPbs2dq0aZN69eplbdu5c6ciIiLk4lL6fqWcOXNG0dHRCgsLU2Jiotzc3KxtHTt21IIFCzRhwgT96U9/0lNPPWXHSotH3bp1bR57eHhI0nXD8L333lsSJQElgltsgJ3MmzdPFStW1Msvv1yorXLlynr99df18MMPKyMjQ5KUn5+vJUuWqGvXrmrUqJHatm2rSZMmKTs7+4bPkZ2drQkTJqhly5YKDQ1VbGzsTftLUnh4uNzc3LR7927rsuTkZJ0+fVrt2rVTWFiYzW2ly5cv68cff1TLli2ty3766ScNHDhQYWFhCgsLU1RUVKFbhocOHdKQIUPUrFkzBQYGqnXr1oqLi1NWVpYkqX379jpx4oT+8Y9/FLrFlJSUpF69eikoKEht27bV3LlzC+13fHy82rRpo4YNG6pr16768ssvbfq0b99e48ePV79+/dSoUSObkPpbCxYsUEZGhuLi4mzC0TX9+/dXSEiIZs6caZ1P1L59e73++us2/X57q+zTTz9VbGysJOnhhx+29i0oKNCMGTPUtm1bBQcHa/Dgwbp48WKh5/z+++8VGRmppk2bKiwsTIMGDVJycrJNn7Nnzyo2NlZt2rRRo0aN1LNnT61fv96mT7169TR9+nR1795djRo10vTp0697DIrCfIvtueee08iRIzVjxgy1bt1awcHB+r//+z+lp6drxYoVeuSRRxQaGqr+/fsXun24bt06de/eXUFBQWrZsqXi4uKs/w+AkkJAAuzAMAxt3rxZzZs3l7u7+3X7dO7cWVFRUdbbXCNHjtSECRPUoUMHzZw5U88++6wWL16swYMH33Cib0xMjJYtW6aBAwfqvffe08WLF7VgwYKb1ubm5qbQ0FCbgLR582ZVrlxZgYGBatWqlbZu3aq8vDxJ0u7du1VQUGANSP/5z3/Uq1cvnTt3ThMnTtS4ceOUmpqq3r1769y5c5Kuvng/++yzyszM1Ntvv605c+aoS5cu+vvf/65FixZJkqZPny5fX1+1adNGS5cuVdWqVa31jB49Wl26dNHs2bMVGhqqhIQEbdy40Xpso6Ki9PHHH+v555/XzJkzFRoaqpdeekkrV6602dclS5YoKChIM2bMUM+ePa97PDZv3qwGDRrc9OpIp06ddOLECf3www83PbbXtG3bVn/961+t+zl48GBJUkJCghITE9WzZ09Nnz5dXl5emjx5ss263333nXr37i1JGj9+vOLi4nTq1Cn16tVLKSkpkqT09HT17NlTO3fu1EsvvaRp06apRo0aioqK0ueff26zvffff19du3bV1KlT9dhjjxWp/qJatWqVtm7dqnHjxmnEiBHaunWr+vTpo0WLFum1117T2LFjlZSUpLFjx1rX+eKLLxQVFaU6deooMTFRQ4YM0eeff37T8xwoFgaAEnfu3DkjICDASEhIKFL/5ORkIyAgwJg1a5bN8pUrVxoBAQHGP//5T8MwDKNPnz5Gnz59DMMwjJ9++skICAgwPvzwQ2v//Px8o3PnzkZAQMBNn2/mzJlGeHi4kZ+fbxiGYTz//PPGyy+/bBiGYRw8eNAICAgwtm/fbhiGYSQkJBht2rSxrvvyyy8bLVq0MC5fvmxddv78eSM8PNx4++23DcMwjE2bNhnPPvusTR/DMIzHH3/cGDBggPVxu3btjNdee836eMWKFYX2KSMjwwgMDDTGjx9vGIZhbN682QgICDBWr15ts+1XXnnFaNmypZGbm2vddocOHW56HAzDMEJCQozo6Oib9tmwYYMREBBgrF279rp1/7b21NTU6z6+ePGiERgYWOiciIyMtOnXs2dPo3PnzkZeXp61z8WLF42IiAhrnfHx8UZgYKBx/Phxm23169fPaNmypXVcAwICjH79+v3uMfit355jvzV16lSb86pPnz5GUFCQceHChUL7cuzYMeuysWPHGuHh4YZhGEZBQYHx0EMPGZGRkTbb3rJlixEQEGBs3LjxlmoF/giuIAF24OzsLOnqbbOi2L59uySpS5cuNsu7dOkiZ2dnbdu2rdA6195R1r59e+syJyenIl0laNGihS5fvqyffvpJWVlZ2rlzp3UCbv369eXj46MtW7ZYn6dFixbWdb/77jtFRESoXLlyysvLU15enjw8PNS4cWPrOq1atdLixYvl5uamw4cPa/369Zo5c6Z++eUX5eTk/G59jRs3tv7b3d1dPj4+unTpkqSrE6otFovatGljff68vDy1b99eaWlpNreiGjRo8LvPZRjG786tujaexh+4wrF3717l5uaqXbt2Nst/+67BjIwMff/99+rUqZP1OSXJ09NT7dq1s54n27dvV2hoqM1Eekn685//rLS0NB05csS6rCjH4Hb5+/urUqVK1sc+Pj7y9vZWrVq1rMu8vLx0+fJlSdKRI0d0+vRptW/f3mbsmjRpIg8PD/373/8utloBs9I3oxK4C1SqVEkVKlTQyZMnb9gnIyNDubm5qlSpknUeiq+vr00fFxcXeXt7W19gfuvaOt7e3jbLzdu4nsDAQFWsWFG7d+/WmTNnlJOTY72FZrFY1Lx5c23btk1ZWVnav3+/+vbta133woUL+vLLLwvN+ZGuzq2Srs61eeedd7RkyRJlZGSoWrVqatSo0XXn+FyP+bakk5OTNZxcuHBBhmEoLCzsuuuePXvWGgp++y69G6lRo8bvvhX/2vyq6tWr/+72bqQo43X58mUZhiEfH59C6/v4+FjPg4sXL9qEkN/2kWQNk1LRjsHtujah+7du9nwXLlyQdPWdctfeLfdbZ8+evWO1Ab+HgATYSatWrbRt2zZlZ2dfNxgsW7ZMEydO1CeffGL9KzwtLc3mqkBubq7Onz9f6EVV+t8LbXp6us0L97UXoZtxdnZWRESEkpKSlJqaqnr16tm8ULdq1UpvvPGGduzYoby8PDVr1szaVrFiRbVo0ULPP/98oe1euxIze/ZsLViwQGPGjNGjjz6qihUrStIN5wHdiooVK6p8+fLWuUxmtWvXvqXttW/fXvPnzy/00Qa/tWbNGlWrVk0PPvigdZn56uDvTTK+Nl7nzp1TnTp1rMt/O14VK1aUxWJRenp6ofXT0tLk5eUl6WoAT0tLu26f3z6Xo/H09JQkvfrqq9f9eIffXo0Cihu32AA7GTBggC5cuKD33nuvUFtaWprmz5+vunXrKjAw0PpisXr1apt+q1evVn5+vsLDwwtt41poWbNmjc3ya5OZf0+LFi20b98+7dixQ61atbJpa9mypXJzc7V8+XI9+OCD1itDkhQREaHDhw+rQYMGCgoKUlBQkBo2bKgFCxbom2++kXT1Iw7q1q2rHj16WMPRmTNn9NNPP6mgoMC6LSenW/8VFRERoYyMDBmGYX3+oKAg/fTTT0pMTLROLi+q5557Th4eHoqNjbW+w+63PvzwQ23fvl0DBw601uvh4aHTp0/b9Nu1a5fNY/O+hYaGqly5cjcdr/Lly6thw4b66quvbALY5cuX9c9//tN6HjRp0kR79uwpdOXr888/l6+v7y2HxJJSp04dValSRcePH7cZOz8/P02ePFkHDx60d4koQ7iCBNhJSEiI/va3v+m9995TSkqKunXrJm9vbyUnJ2vevHnKzs62hqe6devqySef1NSpU5WZmakmTZrohx9+0PTp09W0adPrfkBf7dq19Ze//EXvvvuu8vLy1KBBA3322Wf68ccfi1Rf8+bNFRcXJ2dnZw0bNsymzdfXVwEBAdqwYUOhK0WDBw9Wr169NHDgQPXu3Vtubm5aunSp1q1bp6lTp0qSGjVqpBkzZmj27NkKCQnR0aNHNWvWLOXk5CgzM9O6LU9PTx08eFDbt29Xo0aNilR3mzZt1KRJEw0ePFiDBw+Wv7+/9u3bp6lTp6p169Y2Ya4oqlatqilTpig6Olrdu3dX37595e/vr4sXL+qrr77S6tWr9eyzz1rfWSZJ7dq106xZszRr1iwFBwdrw4YN+u6772y2e+1qyTfffKOHHnpI/v7+Gjx4sN577z25u7urWbNm+vbbbwsF2mHDhikyMlIvvviinnnmGeXm5mr27NnKyclRVFSUJOn555/X559/rv79+2vIkCHy8vLSypUr9d1332n8+PG3FTxLgrOzs1566SWNHDlSzs7OateunS5duqQZM2bozJkzCgwMtHeJKEMISIAd/fWvf9WDDz5o/UTtixcvqlq1amrbtq0GDRqkatWqWfuOGzdOtWvX1ooVKzRnzhxVrVpVffv21eDBg2/4gjdq1Cj5+Pho8eLFunjxolq3bq1BgwZd96qVmb+/v3x9fXXlypXrXqFq1aqVfvrpJ5sJ2tLVSdxLlizRu+++q1dffVWGYSggIECJiYl6+OGHJUkDBw7U+fPntWjRIiUmJqpatWp64oknZLFYNGvWLF26dEmenp4aMGCAxo8fr8jISH3wwQdFOqZOTk6aPXu2pkyZolmzZuncuXPy8/PT888/bw0Qt6pZs2ZauXKlFixYoA8++ECnTp2Sp6engoKCNGfOnEIBdeDAgfrll180b9485ebmqm3btho3bpz1rf3S1Q8EbdGihSZPnqytW7dq9uzZGjhwoMqXL6+FCxdq4cKFCg0N1WuvvabRo0db12vevLk++OADTZ06VS+//LJcXV3VuHFjTZw4UX/6058kXQ2wH330kSZPnqy4uDjl5uaqfv36mjFjhnUMHNVTTz2lChUqaO7cuVq6dKnKly+vsLAwTZo06brzqoDiYjH+yNsuAAAASiHHvM4KAABgRwQkAAAAEwISAACACQEJAADAhIAEAABgQkACAAAwISABAACYEJAAAABM+CTtP+Dcucu6mz9m02KRqlSpeNfvR2nAWDgOxsJxMBaOo7SMxbX9KAoC0h9gGLqrT5RrSst+lAaMheNgLBwHY+E4ytJYcIsNAADAhIAEAABgQkACAAAwISABAACYEJAAAABMCEgAAAAmBCQAAAATAhIAAIAJAQkAAMCEgAQAAGBCQAIAADAhIAEAAJgQkAAAAExc7F0AbszJySInJ0uxP4+zc/Hl5IICQwUFZeSrnwEApQYByUE5OVlUyau8XIoxvFzj7V2h2Ladl1+gixcyCEkAgLsKAclBOTlZ5OLspL99vEeHz16xdzm3pW5VD03pFSonJwsBCQBwVyEgObjDZ6/owMlL9i4DAIAyhUnaAAAAJgQkAAAAEwISAACACQEJAADAhIAEAABgQkACAAAwISABAACYEJAAAABMCEgAAAAmBCQAAAATAhIAAIAJAQkAAMCEgAQAAGBCQAIAADAhIAEAAJgQkAAAAEwISAAAACYEJAAAABMCEgAAgAkBCQAAwMSuAenMmTOKjo5WRESEWrdurQkTJig7O1uSlJqaqv79+yskJESdO3fW5s2bbdbdsmWLHn/8cQUHB6tv375KTU21aV+wYIFat26t0NBQDR8+XJmZmda27OxsDR8+XI0bN1arVq00f/784t9ZAABw17BbQDIMQ9HR0crMzNSSJUv07rvvauPGjXrvvfdkGIaioqLk4+OjFStW6IknntCQIUN08uRJSdLJkycVFRWl7t2765NPPlHlypU1ePBgGYYhSfr66681ffp0jR07VgsXLlRSUpISEhKszx0fH6/9+/dr4cKFGjVqlKZPn641a9bY5TgAAADH42KvJz5y5Ij27t2rf//73/Lx8ZEkRUdHa+LEiXrooYeUmpqqjz/+WOXLl5e/v7+2bt2qFStWaOjQoVq+fLkaNmyoAQMGSJImTJigli1bavv27WratKkWLVqkfv36qV27dpKkMWPGKDIyUjExMTIMQ8uXL9ecOXMUGBiowMBAJScna8mSJerYsaO9DgcAAHAgdruC5Ovrq7lz51rD0TVXrlxRUlKSHnzwQZUvX966PDw8XHv37pUkJSUlqXHjxtY2d3d3BQYGau/evcrPz9f3339v0x4SEqLc3FwdOnRIhw4dUl5enkJDQ222nZSUpIKCgmLaWwAAcDex2xUkT09PtW7d2vq4oKBAixcvVrNmzZSWlqaqVava9K9SpYpOnz4tSTdtv3TpkrKzs23aXVxc5OXlpdOnT8vJyUne3t5ydXW1tvv4+Cg7O1sXLlxQ5cqVi7wPFsst7XKZxrG6uWvHh+Nkf4yF42AsHEdpGYtbqd9uAcksISFBBw8e1CeffKIFCxbYBBhJcnV1VU5OjiQpMzPzhu1ZWVnWx9drNwzjum2SrNsvqipVKt5S/7LK27uCvUu4a3BOOQ7GwnEwFo6jLI2FQwSkhIQELVy4UO+++64CAgLk5uamCxcu2PTJyclRuXLlJElubm6FwkxOTo48PT3l5uZmfWxud3d3V35+/nXbJFm3X1Tnzl3Wf+eF33HOzk6lJlicP/+r8vO5fXkzFsvVXzzFeU6haBgLx8FYOI7SMhbX9qMo7B6Q3nrrLX300UdKSEjQY489Jkny8/PT4cOHbfqlp6dbb5v5+fkpPT29UHuDBg3k5eUlNzc3paeny9/fX5KUl5enCxcuyNfXV4Zh6Pz588rLy5OLy9XdT0tLU7ly5eTp6XlLtRuG7uoTpSRxnIqGc8pxMBaOg7FwHGVpLOz6OUjTp0/Xxx9/rHfeeUddunSxLg8ODtaBAwest8skadeuXQoODra279q1y9qWmZmpgwcPKjg4WE5OTgoKCrJp37t3r1xcXFS/fn01aNBALi4u1gnf17YdFBQkJyc+NxMAANgxIKWkpGjGjBn6v//7P4WHhystLc36ExERoWrVqik2NlbJycmaPXu29u3bp549e0qSevTood27d2v27NlKTk5WbGysatasqaZNm0qSnnnmGc2bN0/r1q3Tvn37NHr0aD399NNyd3eXu7u7unXrptGjR2vfvn1at26d5s+fr759+9rrUAAAAAdjt1ts69evV35+vmbOnKmZM2fatP3444+aMWOGRowYoe7du6t27dpKTExU9erVJUk1a9bUtGnTNH78eCUmJio0NFSJiYmy/Hd6epcuXXTixAmNHDlSOTk5evTRRxUTE2PdfmxsrEaPHq1+/frJw8NDQ4cO1aOPPlpyOw8AAByaxTDKyt3EOy89vfgmq7m4XJ2k3WXqJh04eal4nqSYBVb31Oro1jp//lfl5TFJ+2YsFsnHp2KxnlMoGsbCcTAWjqO0jMW1/SgKJt0AAACYEJAAAABMCEgAAAAmBCQAAAATAhIAAIAJAQkAAMCEgAQAAGBCQAIAADAhIAEAAJgQkAAAAEwISAAAACYEJAAAABMCEgAAgAkBCQAAwISABAAAYEJAAgAAMCEgAQAAmBCQAAAATAhIAAAAJgQkAAAAEwISAACACQEJAADAhIAEAABgQkACAAAwISABAACYEJAAAABMCEgAAAAmBCQAAAATAhIAAIAJAQkAAMCEgAQAAGBCQAIAADAhIAEAAJgQkAAAAEwISAAAACYEJAAAABMCEgAAgAkBCQAAwISABAAAYEJAAgAAMCEgAQAAmBCQAAAATAhIAAAAJgQkAAAAEwISAACACQEJAADAhIAEAABgQkACAAAwISABAACYEJAAAABMCEgAAAAmBCQAAAATAhIAAIAJAQkAAMCEgAQAAGBCQAIAADAhIAEAAJgQkAAAAEwISAAAACYEJAAAABMCEgAAgAkBCQAAwISABAAAYEJAAgAAMCEgAQAAmBCQAAAATAhIAAAAJgQkAAAAEwISAACAiUMEpJycHD3++OPatm2bdVlcXJzq1atn87N48WJr+6pVq9ShQwcFBwcrKipKv/zyi7XNMAxNmjRJzZo1U0REhOLj41VQUGBtP3/+vIYOHarQ0FC1b99en332WcnsKAAAuCu42LuA7OxsDRs2TMnJyTbLU1JSNGzYMD355JPWZR4eHpKkffv2acSIERozZozq16+vcePGKTY2VrNmzZIkffDBB1q1apWmT5+uvLw8xcTEqEqVKoqMjJQkxcbGKisrS0uXLlVSUpLeeOMNPfDAA2rUqFEJ7TUAAHBkdg1Ihw8f1rBhw2QYRqG2lJQURUZGytfXt1Db4sWL1alTJ3Xr1k2SFB8fr3bt2ik1NVW1atXSokWLFB0drcaNG0uSXnnlFU2ZMkWRkZE6duyYNm7cqPXr16tmzZoKCAjQ3r179eGHHxKQAACAJDvfYtu+fbuaNm2qpUuX2iy/cuWKzpw5o/vvv/+66yUlJVnDjyRVq1ZN1atXV1JSks6cOaNTp06pSZMm1vbw8HCdOHFCZ8+eVVJSkqpVq6aaNWvatO/Zs+fO7hwAALhr2fUK0jPPPHPd5SkpKbJYLHr//ff1r3/9S15eXnr++eett9vOnj2rqlWr2qxTpUoVnT59WmlpaZJk0+7j4yNJ1vbrrXvmzJlbrt9iueVVyiyO1c1dOz4cJ/tjLBwHY+E4SstY3Er9dp+DdD1HjhyRxWJRnTp11KdPH+3YsUNvvvmmPDw89MgjjygrK0uurq4267i6uionJ0dZWVnWx79tk65OBs/MzLzhureqSpWKt7xOWeTtXcHeJdw1OKccB2PhOBgLx1GWxsIhA1K3bt3Url07eXl5SZLq16+vn3/+WR999JEeeeQRubm5FQo0OTk5cnd3twlDbm5u1n9Lkru7+w3XLVeu3C3Xee7cZV1n+tQd4ezsVGqCxfnzvyo/v+D3O5ZhFsvVXzzFeU6haBgLx8FYOI7SMhbX9qMoHDIgWSwWazi6pk6dOvruu+8kSX5+fkpPT7dpT09Pl6+vr/z8/CRJaWlp1nlG1267XWu/0bq3yjB0V58oJYnjVDScU46DsXAcjIXjKEtj4RCfg2Q2ZcoU9e/f32bZoUOHVKdOHUlScHCwdu3aZW07deqUTp06peDgYPn5+al69eo27bt27VL16tVVtWpVhYSE6MSJEzp9+rRNe0hISLHuEwAAuHs4ZEBq166dduzYoXnz5unYsWP68MMPtXLlSg0YMECS1Lt3b3322Wdavny5Dh06pFdffVVt27ZVrVq1rO2TJk3Stm3btG3bNk2ePFl9+/aVJNWqVUutWrVSTEyMDh06pOXLl2vVqlV69tln7ba/AADAsTjkLbZGjRppypQpmjp1qqZMmaIaNWpo8uTJCg0NlSSFhoZq7Nixmjp1qi5evKiWLVvqrbfesq4fGRmpc+fOaciQIXJ2dlbPnj1trkjFx8drxIgRevrpp+Xr66vx48fzGUgAAMDKYlzvUxpRJOnpxTdZzcXl6iTtLlM36cDJS8XzJMUssLqnVke31vnzvyovj0naN2OxSD4+FYv1nELRMBaOg7FwHKVlLK7tR1E45C02AAAAeyIgAQAAmBCQAAAATAhIAAAAJgQkAAAAEwISAACACQEJAADAhIAEAABgQkACAAAwISABAACYEJAAAABMCEgAAAAmBCQAAAATAhIAAIAJAQkAAMCEgAQAAGBCQAIAADAhIAEAAJgQkAAAAEwISAAAACYEJAAAABMCEgAAgAkBCQAAwISABAAAYEJAAgAAMCEgAQAAmBCQAAAATAhIAAAAJgQkAAAAEwISAACACQEJAADAhIAEAABgQkACAAAwISABAACYEJAAAABM7nhA+uWXX+70JgEAAErUbQWkBg0aXDcInThxQg8//PAfLgoAAMCeXIraceXKlfr0008lSYZhKCoqSvfcc49Nn7Nnz8rX1/fOVggAAFDCihyQHnnkER0/flyStH37doWEhKhChQo2fcqXL69HHnnkzlYIAABQwoockCpUqKAhQ4ZIkmrUqKHOnTvLzc2t2AoDAACwlyIHpN968skndfToUe3fv1+5ubmF2rt16/ZH6wIAALCb2wpIc+fO1aRJk1SpUqVCt9ksFgsBCQAA3NVuKyDNnz9fMTExioyMvNP1AAAA2N1tvc0/Oztbjz766J2uBQAAwCHcVkDq2rWrPvzwQxmGcafrAQAAsLvbusV25coVffLJJ1q1apVq1qxZ6POQFi1adEeKAwAAsIfbCkj333+/Bg0adKdrAQAAcAi3FZCufR4SAABAaXRbASk2Nvam7RMmTLitYgAAABzBbU3SNsvLy9N//vMfffnll6pcufKd2CQAAIDd3NYVpBtdIZo7d65++umnP1QQAACAvd2RK0jXdOzYUd98882d3CQAAECJu2MBKSMjQ8uWLZO3t/ed2iQAAIBd3NYttvr168tisRRa7ubmpri4uD9cFAAAgD3dVkAyfxCkxWLRPffco7p168rDw+OOFAYAAGAvtxWQIiIiJEk///yzUlJSVFBQoAceeIBwBAAASoXbCkiXLl1SbGys1q9fr0qVKik/P1+//vqrmjRposTERFWsWPFO1wkAAFBibmuSdlxcnE6fPq0vv/xS27Zt086dO/XFF18oIyODD4kEAAB3vdsKSBs2bNDo0aNVp04d67K6detq5MiRWr9+/R0rDgAAwB5uKyC5ubnJyanwqhaLRfn5+X+4KAAAAHu6rYDUvn17jRkzRseOHbMu+/nnnxUXF6c2bdrcseIAAADs4bYmacfExCgqKkqPPfaYPD09JUkXL17UQw89pDfffPOOFggAAFDSbjkgHT16VNWrV9ff//53/fjjj0pJSZGbm5vuv/9++fv7F0eNAAAAJarIt9gMw1BcXJw6deqkPXv2SJLq1aunzp07a8WKFXr88cf19ttvyzCMYisWAACgJBQ5IC1atEhffvmlEhMTrR8Uec2MGTOUmJiof/zjH/roo4/ueJEAAAAlqcgBadmyZXrzzTfVrl2767a3b99er7zyCgEJAADc9YockE6cOKFGjRrdtE+zZs2Umpr6h4sCAACwpyIHpCpVqujEiRM37XP69Gl5eXn90ZoAAADsqsgB6ZFHHtG0adOUm5t73fa8vDxNnz5drVq1umPFAQAA2EORA9LgwYN15swZde/eXcuWLdPBgweVmpqq/fv3a+nSpXryySeVmpqqoUOH3nIROTk5evzxx7Vt2zbrstTUVPXv318hISHq3LmzNm/ebLPOli1b9Pjjjys4OFh9+/YtdGtvwYIFat26tUJDQzV8+HBlZmZa27KzszV8+HA1btxYrVq10vz582+5ZgAAUHoVOSB5enpq2bJlCg4O1ttvv60ePXro0UcfVc+ePTVp0iSFhYVp2bJl8vPzu6UCsrOz9fLLLys5Odm6zDAMRUVFycfHRytWrNATTzyhIUOG6OTJk5KkkydPKioqSt27d9cnn3yiypUra/DgwdaPGPj66681ffp0jR07VgsXLlRSUpISEhKs24+Pj9f+/fu1cOFCjRo1StOnT9eaNWtuqW4AAFB63dIHRXp5eSkuLk4jR45UamqqLl26JC8vL913331ydna+5Sc/fPiwhg0bVuizk7777julpqbq448/Vvny5eXv76+tW7dqxYoVGjp0qJYvX66GDRtqwIABkqQJEyaoZcuW2r59u5o2bapFixapX79+1nfcjRkzRpGRkYqJiZFhGFq+fLnmzJmjwMBABQYGKjk5WUuWLFHHjh1veR8AAEDpc1vfxebq6ip/f3+FhobqgQceuK1wJMkaaJYuXWqzPCkpSQ8++KDKly9vXRYeHq69e/da2xs3bmxtc3d3V2BgoPbu3av8/Hx9//33Nu0hISHKzc3VoUOHdOjQIeXl5Sk0NNRm20lJSSooKLit/QAAAKXLbX0X253yzDPPXHd5WlqaqlatarOsSpUqOn369O+2X7p0SdnZ2TbtLi4u8vLy0unTp+Xk5CRvb2+5urpa2318fJSdna0LFy6ocuXKRa7fYily1zKPY3Vz144Px8n+GAvHwVg4jtIyFrdSv10D0o1kZmbaBBjp6lWrnJyc323PysqyPr5eu2EY122TZN1+UVWpUvGW+pdV3t4V7F3CXYNzynEwFo6DsXAcZWksHDIgubm56cKFCzbLcnJyVK5cOWu7Oczk5OTI09NTbm5u1sfmdnd3d+Xn51+3TZJ1+0V17txlFddXzzk7O5WaYHH+/K/Kz+f25c1YLFd/8RTnOYWiYSwcB2PhOErLWFzbj6JwyIDk5+enw4cP2yxLT0+33jbz8/NTenp6ofYGDRrIy8tLbm5uSk9Pl7+/v6Srn9F04cIF+fr6yjAMnT9/Xnl5eXJxubr7aWlpKleunDw9PW+pTsPQXX2ilCSOU9FwTjkOxsJxMBaOoyyNxW1N0i5uwcHBOnDggPV2mSTt2rVLwcHB1vZdu3ZZ2zIzM3Xw4EEFBwfLyclJQUFBNu179+6Vi4uL6tevrwYNGsjFxcU64fvatoOCguTk5JCHAwAAlDCHTAQRERGqVq2aYmNjlZycrNmzZ2vfvn3q2bOnJKlHjx7avXu3Zs+ereTkZMXGxqpmzZpq2rSppKuTv+fNm6d169Zp3759Gj16tJ5++mm5u7vL3d1d3bp10+jRo7Vv3z6tW7dO8+fPV9++fe25ywAAwIE45C02Z2dnzZgxQyNGjFD37t1Vu3ZtJSYmqnr16pKkmjVratq0aRo/frwSExMVGhqqxMREWf47Pb1Lly46ceKERo4cqZycHD366KOKiYmxbj82NlajR49Wv3795OHhoaFDh+rRRx+1y74CAADHYzHMn9KIIktPL77Jai4uVydpd5m6SQdOXiqeJylmgdU9tTq6tc6f/1V5eUzSvhmLRfLxqVis5xSKhrFwHIyF4ygtY3FtP4rCIW+xAQAA2BMBCQAAwISABAAAYEJAAgAAMCEgAQAAmBCQAAAATAhIAAAAJgQkAAAAEwISAACACQEJAADAhIAEAABgQkACAAAwISABAACYEJAAAABMCEgAAAAmBCQAAAATAhIAAIAJAQkAAMCEgAQAAGBCQAIAADAhIAEAAJgQkAAAAEwISAAAACYEJAAAABMCEgAAgAkBCQAAwISABAAAYEJAAgAAMCEgAQAAmBCQAAAATAhIAAAAJgQkAAAAEwISAACACQEJAADAhIAEAABgQkACAAAwISABAACYEJAAAABMCEgAAAAmBCQAAAATAhIAAIAJAQkAAMCEgAQAAGBCQAIAADAhIAEAAJgQkAAAAEwISAAAACYEJAAAABMCEgAAgAkBCQAAwISABAAAYEJAAgAAMCEgAQAAmBCQAAAATAhIAAAAJgQkAAAAEwISAACACQEJAADAhIAEAABgQkACAAAwISABAACYEJAAAABMCEgAAAAmBCQAAAATAhIAAIAJAQkAAMCEgAQAAGBCQAIAADAhIAEAAJg4dED65ptvVK9ePZuf6OhoSdLBgwf11FNPKTg4WD169ND+/ftt1l21apU6dOig4OBgRUVF6ZdffrG2GYahSZMmqVmzZoqIiFB8fLwKCgpKdN8AAIDjcuiAdPjwYbVr106bN2+2/sTFxSkjI0MvvviiGjdurE8//VShoaEaOHCgMjIyJEn79u3TiBEjNGTIEC1dulSXLl1SbGysdbsffPCBVq1apenTp2vq1Kn64osv9MEHH9hrNwEAgINx6ICUkpKigIAA+fr6Wn88PT315Zdfys3NTa+++qr8/f01YsQIVahQQWvWrJEkLV68WJ06dVK3bt1Uv359xcfH69tvv1VqaqokadGiRYqOjlbjxo3VrFkzvfLKK1qyZIk9dxUAADgQhw9I999/f6HlSUlJCg8Pl8VikSRZLBaFhYVp79691vbGjRtb+1erVk3Vq1dXUlKSzpw5o1OnTqlJkybW9vDwcJ04cUJnz54t1v0BAAB3Bxd7F3AjhmHoP//5jzZv3qxZs2YpPz9fHTt2VHR0tNLS0lS3bl2b/lWqVFFycrIk6ezZs6patWqh9tOnTystLU2SbNp9fHwkSadPny603s38N5+hCDhWN3ft+HCc7I+xcByMheMoLWNxK/U7bEA6efKkMjMz5erqqvfee0/Hjx9XXFycsrKyrMt/y9XVVTk5OZKkrKysG7ZnZWVZH/+2TZJ1/aKqUqXiLe9XWeTtXcHeJdw1OKccB2PhOBgLx1GWxsJhA1KNGjW0bds2VapUSRaLRQ0aNFBBQYFiYmIUERFRKMzk5OSoXLlykiQ3N7frtru7u9uEITc3N+u/Jcnd3f2Wajx37rIM47Z273c5OzuVmmBx/vyvys/nXYI3Y7Fc/cVTnOcUioaxcByMheMoLWNxbT+KwmEDkiR5eXnZPPb391d2drZ8fX2Vnp5u05aenm69Pebn53fddl9fX/n5+UmS0tLSVLNmTeu/JcnX1/eW6jMM3dUnSkniOBUN55TjYCwcB2PhOMrSWDjsJO1NmzapadOmyszMtC774Ycf5OXlpfDwcO3Zs0fGf0fJMAzt3r1bwcHBkqTg4GDt2rXLut6pU6d06tQpBQcHy8/PT9WrV7dp37Vrl6pXr35L848AAEDp5bABKTQ0VG5ubnrjjTd05MgRffvtt4qPj9cLL7ygjh076tKlSxo3bpwOHz6scePGKTMzU506dZIk9e7dW5999pmWL1+uQ4cO6dVXX1Xbtm1Vq1Yta/ukSZO0bds2bdu2TZMnT1bfvn3tubsAAMCBOOwtNg8PD82bN0/jx49Xjx49VKFCBfXq1UsvvPCCLBaLZs2apVGjRmnZsmWqV6+eZs+erfLly0u6Gq7Gjh2rqVOn6uLFi2rZsqXeeust67YjIyN17tw5DRkyRM7OzurZs6f69+9vpz0FAACOxmIYZeVu4p2Xnl58k9VcXK5O0u4ydZMOnLxUPE9SzAKre2p1dGudP/+r8vKYpH0zFovk41OxWM8pFA1j4TgYC8dRWsbi2n4UhcPeYgMAALAXAhIAAIAJAQkAAMCEgAQAAGBCQAIAADAhIAEAAJgQkAAAAEwISAAAACYEJAAAABMCEgAAgAkBCQAAwISABAAAYEJAAgAAMCEgAQAAmBCQAAAATAhIAAAAJgQkAAAAEwISAACACQEJAADAhIAEAABgQkACAAAwISABAACYEJAAAABMCEgAAAAmBCQAAAATAhIAAIAJAQkAAMDExd4FAHcDJyeLnJwsxf48zs7F+zdLQYGhggKjWJ8DAEoDAhLwO5ycLKrkVV4uxRxeJMnbu0Kxbj8vv0AXL2QQkgDgdxCQgN/h5GSRi7OT/vbxHh0+e8Xe5dy2ulU9NKVXqJycLAQkoBQqiSvdZekqNwEJKKLDZ6/owMlL9i4DAAopqSvdZekqNwEJAIC7XGm40u1oV7kJSAAAlBJc6b5zeJs/AACACQEJAADAhIAEAABgQkACAAAwISABAACYEJAAAABMCEgAAAAmBCQAAAATAhIAAIAJAQkAAMCEgAQAAGBCQAIAADAhIAEAAJgQkAAAAEwISAAAACYEJAAAABMCEgAAgAkBCQAAwISABAAAYEJAAgAAMCEgAQAAmBCQAAAATAhIAAAAJgQkAAAAEwISAACACQEJAADAhIAEAABgQkACAAAwISABAACYEJAAAABMCEgAAAAmBCQAAAATAhIAAIAJAQkAAMCEgAQAAGBCQAIAADBxsXcB9pKdna0xY8Zo7dq1KleunAYMGKABAwbYuywAv8PJySInJ0uxP4+zc/H+/VhQYKigwCjW5wBw+8psQIqPj9f+/fu1cOFCnTx5Uq+99pqqV6+ujh072rs0ADfg5GRRJa/ycinm8CJJ3t4VinX7efkFunghg5AEOKgyGZAyMjK0fPlyzZkzR4GBgQoMDFRycrKWLFlCQAIcmJOTRS7OTvrbx3t0+OwVe5dz2+pW9dCUXqFycrIQkAAHVSYD0qFDh5SXl6fQ0FDrsvDwcL3//vsqKCiQkxNTswBHdvjsFR04ecneZZR53O5EaVYmA1JaWpq8vb3l6upqXebj46Ps7GxduHBBlStXLtJ2nJwko5j/TwVW95S7q3PxPkkxqePzv1sUpSFz3s1jIZWu8WAs7M9iscizUum53XnpYoaM4v6FXgLu5v8bJfH/wnILed5ilIYz4hatXLlSU6ZM0caNG63LUlNT1aFDB3377be699577VgdAACwt7v0b5c/xs3NTTk5OTbLrj0uV66cPUoCAAAOpEwGJD8/P50/f155eXnWZWlpaSpXrpw8PT3tWBkAAHAEZTIgNWjQQC4uLtq7d6912a5duxQUFMQEbQAAUDYDkru7u7p166bRo0dr3759WrdunebPn6++ffvauzQAAOAAyuQkbUnKzMzU6NGjtXbtWnl4eCgyMlL9+/e3d1kAAMABlNmABAAAcCNl8hYbAADAzRCQAAAATAhIAAAAJgQkAAAAEwISAACACQEJAADAxMXeBQBlSVZWltasWaM9e/bozJkzysnJUbly5eTr66uQkBB16tSJ7wMsQYyH49ixY8cNxyEiIsLe5ZU5jAefg1Rm8EJgfwcOHNDAgQNVoUIFhYWFqUqVKnJ1dVVOTo7S09O1e/duZWZmas6cOapfv769yy31GA/HkJqaqqioKJ04cUIPPvigfHx8bMbh4MGDuu+++zR9+nTVqFHD3uWWeozH/xCQygBeCBzDU089pZCQEI0YMeKGfeLi4vT9999r6dKlJVhZ2cR4OIb+/fvL29tbEyZMuO4faZmZmYqNjdXly5c1b948O1RYtjAev2Gg1OvZs6cRFxd30z5vvfWW8fTTT5dQRWVTcHCwkZKSctM+hw8fNoKDg0umoDKO8XAMwcHBxuHDh2/aJzk52QgJCSmhiso2xuN/mKRdBiQnJ6t379437dO7d2/9+OOPJVRR2RQQEKAVK1bctM/SpUtVp06dEqqobGM8HEOtWrW0adOmm/bZuHGj/Pz8Sqiiso3x+B9usZUBTz/9tJo0aaKYmJgb9hk/frx27typTz/9tAQrK1sOHjyoF198Ue7u7goPD1fVqlWttzrT0tK0Z88eXb58We+//76CgoLsXW6px3g4hi1btigqKkpBQUFq0qRJoXHYvXu3du/erWnTpql169b2LrfUYzz+h4BUBvBC4DgyMzO1evVq7du3T2fPnlVWVpbc3Nzk5+en4OBgPfbYY/Lw8LB3mWUG4+EYTp06peXLlyspKem649CjR49SPyHYkTAeVxGQygheCAAAKDoCEuBAsrOz9dVXX6lbt272LgViPBxFbm6u9u7dqyZNmti7FKjsjAeTtCHp6gvBypUr7V1GmXf58mW9/vrr9i4D/8V4OIaLFy+qb9++9i4D/1VWxoMrSJAkpaenq1WrVjp06JC9SwHsKi8vT1euXJGXl5e9S8F/FRQU6NSpU2Vi3oujMgxDFy5ckLe3twzD0MmTJ0v9eHAFCZIkHx8fwlExy8nJUUJCgtq0aaOwsDANGTJEKSkpNn3S09PVoEEDO1VY9qxevVpjx47V119/LcMwFBcXp7CwMDVv3lwtW7bU4sWL7V1imRYWFqbU1FQ5OTmV+hdjR/G3v/1NV65csT7Ozc3V+PHjFRoaqhYtWqh58+b64IMPysR48F1sQAl55513tHHjRr366qsyDEOLFy9Wjx49NGnSJHXo0MHaj4u6JWPevHmaOXOmmjdvrlGjRmnlypX64YcflJCQoLp16+r777/XpEmTlJGRoRdffNHe5ZZasbGxN2y79kdFhQoVJEkTJkwoqbLKrLVr12rkyJHWN+1MnTpVa9euVXx8vPz9/XXw4EElJCQoKytLgwcPtnO1xYuAVAbs2LGjyH1L+6Q7e/rqq6/0zjvvKDw8XJLUpUsXxcfH6//9v/+nhIQEderUSZJksVjsWWaZsWTJEr3zzjt66KGHtGvXLvXp00fvv/++2rRpI0ny9/eXt7e33nzzTQJSMTp37pz+9a9/qVGjRvL397d3OWWe+Q+0NWvW6I033rD+Eefv7y9PT0+9+eabBCTc/caOHavDhw9LuvnVCYvFoh9++KGkyipzsrKybOa1WCwWvfbaa3JyclJMTIxcXFwUGhpqvwLLmPPnz+v++++XJIWHh6tatWry8fGx6VOzZk1lZmbaobqyY/bs2Vq9erUSEhLUvHlzRUVFydXVVdLVF+eYmBjVqlXLzlWWHRaLxeaPNCcnJ9WsWdOmz3333adff/21pEsrccxBKgNWrFihhx9+WPXq1VNSUpIOHTp03R/CUfFq2rSp4uPj9csvv9gsj4mJ0V/+8he99NJL+vDDD+1UXdkTFhamxMREZWRkSJI2bNigwMBAa/vZs2c1YcIENW/e3F4llhldunTRZ599prS0NHXt2lVbtmyxd0lllmEYeuONN/Tuu+9q5cqVatiwoRYtWmRtz87OVmJiokJCQuxXZAnhXWxlRE5Ojp5++mk1b95cr732mr3LKZPOnDmj6Oho7du3T3PnzlXLli1t2qdPn66ZM2eqoKCAsFoCjh07phdffFEPPvig3nnnHZu2devWaejQoWrYsKFmzJghX19fO1VZ9mzdulWjR49Ww4YNtX79en3xxRdcQSpB69at0+HDh5WSkqKUlBT95z//UVZWlrZt2yZPT081bdpU7u7umjdvXqm/JUpAKkNSUlK0ffv23/3iWhSvI0eOyNfXVxUrVizUlpKSovXr1zPnpYQYhqH09PRCAejcuXM6fvy4goKC5OTEhfaSlpOTo2nTpunLL7/U4sWLVa1aNXuXVKadPHlS1atXlyRt3rxZoaGh1onzpRkBCQAAwIQ/jQAAAEwISAAAACYEJAAAABMCEgAAgAkBCcBd4+LFi3r77bfVvn17BQcHq1OnTlqwYIEKCgqKtP7WrVsLff8dAFwPAQnAXeH8+fN66qmntH//fo0bN06rVq3S0KFDNWvWLI0bN65I2+jfv7/S09OLuVIApQFfNQLgrjB58mS5urpq3rx5cnNzkyTVqlVL5cqV0+DBg9WnTx898MADdq4SQGnBFSQADi8nJ0erV6/Ws88+aw1H17Rr104LFixQjRo1dPjwYUVGRio0NFRBQUF65plnrLfU2rdvL0nq27evpk2bJknauXOnunfvrkaNGqlr1676+uuvbba9YMECtW7dWmFhYYqLi9Nzzz2nTz/9VNLVr1xISEhQmzZtFBISokGDBunUqVOSpOPHj6tevXpKTExUkyZNNHz4cIWFhWnt2rXWbefm5qpp06baunVr8Rw0AH8IAQmAwzt27JgyMjIUFBRUqM1isahZs2ZycXHRoEGDVKNGDX322Wf6+OOPlZ+fr4SEBEnSJ598IkmaNm2aBgwYoLS0NA0cOFDdu3fXF198oRdeeEGvv/66du7cKUn6/PPPNXXqVA0fPlxLly7V8ePHtWPHDuvzjho1St98840mTpyojz/+WHl5eRo8eLDNfKjdu3drxYoVevHFF9WhQwebALZlyxa5uLgoIiKiWI4ZgD+GW2wAHN6lS5ck6bpfz3JNVlaWevXqpWeeeUbly5eXJD355JOaO3euJKly5cqSpEqVKqlChQqaM2eOWrRooT59+kiSateurR9++EELFy5U48aN9eGHH6pfv37q1KmTJGnixIlq06aNpKuTxT/77DPNmTNHzZo1kyRNmjRJbdu21b///W/rrb5+/frpvvvuk3T1C1lfeuklZWdny83NTWvWrFHHjh3l7Ox8R48VgDuDgATA4Xl5eUm6GkxupHz58urdu7dWrlyp/fv368iRIzp48KB8fHyu2//IkSPauHGjQkNDrctyc3Ot4ebHH3+0+U68SpUqWdt+/vlnFRQUKDg42KbGBx54QCkpKdZ+NWrUsLa3bNlSrq6u2rRpk9q0aaN169bp/fffv8UjAaCkEJAAOLz77rtPFStW1IEDB9SoUaNC7X/961/19NNPKz4+Xt7e3mrfvr0ef/xxHTlyRPPnz7/uNvPy8tS1a1cNGjTIZrmLy9Vfi87OzjJ/VeW1x+Z5UNfk5+fb3GL7bT8XFxc99thj+vrrr3XPPffIw8NDYWFhRdh7APbAHCQADs/FxUWdO3fWkiVLlJOTY9O2YcMGbdiwQampqTp79qwWLVqkF154QS1atNDJkycLhZxrHnjgAR09elS1a9e2/qxfv15ffPGFJKlu3bo6cOCAtf+VK1d09OhRSVffPefi4qK9e/da28+fP6+jR4/e9J10Xbt21b/+9S9t2LBBHTt2lMViud1DAqCYEZAA3BWGDh2qK1euKDIyUtu3b9exY8e0fPlyvf766+rbt6+CgoKUkZGhdevW6fjx41q+fHmhQFW+fHklJyfr8uXLeuaZZ7R//369++67+vnnn/XFF1/onXfeUfXq1SVJzz33nBYtWqS1a9cqJSVFw4cPV0ZGhiwWiypUqKCnnnpKb731lrZt26ZDhw4pJiZG9957r1q2bHnDfQgPD5e7u7v+8Y9/qEuXLsV+zADcPm6xAbgr+Pr66qOPPtK0adP0yiuv6MKFC7rvvvsUHR2t3r17y9nZWVFRURozZoyys7NVr149jRw5UiNGjNCZM2fk5+en5557TvHx8Tp27JiGDx+u999/X5MmTdK8efPk5+en119/XX/+858lXZ1UffToUY0aNUrZ2dn6y1/+oho1auiee+6RJL322muaOHGioqOjlZOToxYtWmjBggVydXW94T5YLBZ17NhRGzZsUMOGDUvkuAG4PRbjRtefAaAM2759u2rVqqVq1apJujpnqVmzZkpMTFTTpk1ve7vDhg1T7dq1FR0dfadKBVAMuIIEANexbt067dmzR2PGjFGFChW0aNEieXh4KCQk5La2t3fvXh04cEDr16/XqlWr7myxAO445iABwHVER0frgQce0PPPP68nnnhCR44c0dy5c2/4Drbfs2nTJk2aNEkvvfSSataseYerBXCncYsNAADAhCtIAAAAJgQkAAAAEwISAACACQEJAADAhIAEAABgQkACAAAwISABAACYEJAAAABM/j/1ljjJQGQEfgAAAABJRU5ErkJggg=="
     },
     "metadata": {},
     "output_type": "display_data"
    }
   ],
   "source": [
    "cold_value_counts = cold_weather_outside['pa_cold_weather_daily_hours_outside'].value_counts()\n",
    "cold_value_counts.sort_index().plot(kind='bar')\n",
    "\n",
    "plt.title('Cold Weather Outdoor Time')\n",
    "plt.xlabel('Category')\n",
    "plt.ylabel('Count')\n",
    "\n",
    "plt.show()"
   ]
  },
  {
   "cell_type": "code",
   "execution_count": 20,
   "id": "732621e3",
   "metadata": {},
   "outputs": [
    {
     "name": "stdout",
     "output_type": "stream",
     "text": [
      "       dog_id  cold_weather_1.0  cold_weather_2.0  cold_weather_3.0  \\\n",
      "0       10509              True             False             False   \n",
      "1       74227              True             False             False   \n",
      "2       32487              True             False             False   \n",
      "4       33369             False              True             False   \n",
      "5       72814              True             False             False   \n",
      "...       ...               ...               ...               ...   \n",
      "33166    4024              True             False             False   \n",
      "33168   33783              True             False             False   \n",
      "33169   98862             False             False              True   \n",
      "33170   99462              True             False             False   \n",
      "33171    6530              True             False             False   \n",
      "\n",
      "       cold_weather_4.0  cold_weather_5.0  \n",
      "0                 False             False  \n",
      "1                 False             False  \n",
      "2                 False             False  \n",
      "4                 False             False  \n",
      "5                 False             False  \n",
      "...                 ...               ...  \n",
      "33166             False             False  \n",
      "33168             False             False  \n",
      "33169             False             False  \n",
      "33170             False             False  \n",
      "33171             False             False  \n",
      "\n",
      "[27656 rows x 6 columns]\n"
     ]
    }
   ],
   "source": [
    "one_hot_encoded = pd.get_dummies(cold_weather_outside['pa_cold_weather_daily_hours_outside'], prefix='cold_weather')\n",
    "one_hot_encoded_ColdWheater = cold_weather_outside['dog_id'].to_frame().join(one_hot_encoded)\n",
    "\n",
    "print(one_hot_encoded_ColdWheater)"
   ]
  },
  {
   "cell_type": "code",
   "execution_count": 21,
   "id": "c9733231",
   "metadata": {},
   "outputs": [],
   "source": [
    "# one_hot_encoded_ColdWheater.to_csv('one_hot_encoded_ColdWheater_with_id', index=False)"
   ]
  },
  {
   "cell_type": "code",
   "execution_count": 22,
   "id": "3dc6bca2",
   "metadata": {},
   "outputs": [
    {
     "name": "stdout",
     "output_type": "stream",
     "text": [
      "       dog_id  pa_moderate_weather_daily_hours_outside\n",
      "0       10509                                      1.0\n",
      "1       74227                                      2.0\n",
      "2       32487                                      2.0\n",
      "3       63150                                      1.0\n",
      "4       33369                                      2.0\n",
      "...       ...                                      ...\n",
      "33167   91849                                      1.0\n",
      "33168   33783                                      1.0\n",
      "33169   98862                                      3.0\n",
      "33170   99462                                      1.0\n",
      "33171    6530                                      1.0\n",
      "\n",
      "[33156 rows x 2 columns]\n"
     ]
    },
    {
     "data": {
      "text/plain": "pa_moderate_weather_daily_hours_outside\n1.0    20744\n2.0    10943\n3.0      793\n5.0      484\n4.0      192\nName: count, dtype: int64"
     },
     "execution_count": 22,
     "metadata": {},
     "output_type": "execute_result"
    }
   ],
   "source": [
    "# moderate wheather outdoor (40-85 degrees Fahrenheit)\n",
    "moderate_weather_outside = df[['dog_id', 'pa_moderate_weather_daily_hours_outside']]\n",
    "moderate_weather_outside = moderate_weather_outside.dropna()\n",
    "print(moderate_weather_outside)\n",
    "# 1: less than 3 hours\n",
    "# 2: between 3-8 hours\n",
    "# 3: between 8-16 hours\n",
    "# 4: more than 16 hours\n",
    "moderate_weather_outside['pa_moderate_weather_daily_hours_outside'].value_counts()"
   ]
  },
  {
   "cell_type": "code",
   "execution_count": 23,
   "id": "5b05a83a",
   "metadata": {},
   "outputs": [
    {
     "data": {
      "text/plain": "<Figure size 640x480 with 1 Axes>",
      "image/png": "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"
     },
     "metadata": {},
     "output_type": "display_data"
    }
   ],
   "source": [
    "moderate_value_counts = moderate_weather_outside['pa_moderate_weather_daily_hours_outside'].value_counts()\n",
    "moderate_value_counts.sort_index().plot(kind='bar')\n",
    "\n",
    "plt.title('moderate Weather Outdoor Time')\n",
    "plt.xlabel('Category')\n",
    "plt.ylabel('Count')\n",
    "\n",
    "plt.show()"
   ]
  },
  {
   "cell_type": "code",
   "execution_count": 24,
   "id": "ede6bd94",
   "metadata": {},
   "outputs": [
    {
     "name": "stdout",
     "output_type": "stream",
     "text": [
      "       dog_id  moderate_weather_1.0  moderate_weather_2.0  \\\n",
      "0       10509                  True                 False   \n",
      "1       74227                 False                  True   \n",
      "2       32487                 False                  True   \n",
      "3       63150                  True                 False   \n",
      "4       33369                 False                  True   \n",
      "...       ...                   ...                   ...   \n",
      "33167   91849                  True                 False   \n",
      "33168   33783                  True                 False   \n",
      "33169   98862                 False                 False   \n",
      "33170   99462                  True                 False   \n",
      "33171    6530                  True                 False   \n",
      "\n",
      "       moderate_weather_3.0  moderate_weather_4.0  moderate_weather_5.0  \n",
      "0                     False                 False                 False  \n",
      "1                     False                 False                 False  \n",
      "2                     False                 False                 False  \n",
      "3                     False                 False                 False  \n",
      "4                     False                 False                 False  \n",
      "...                     ...                   ...                   ...  \n",
      "33167                 False                 False                 False  \n",
      "33168                 False                 False                 False  \n",
      "33169                  True                 False                 False  \n",
      "33170                 False                 False                 False  \n",
      "33171                 False                 False                 False  \n",
      "\n",
      "[33156 rows x 6 columns]\n"
     ]
    }
   ],
   "source": [
    "one_hot_encoded = pd.get_dummies(moderate_weather_outside['pa_moderate_weather_daily_hours_outside'], prefix='moderate_weather')\n",
    "one_hot_encoded_ModerateWheater = moderate_weather_outside['dog_id'].to_frame().join(one_hot_encoded)\n",
    "\n",
    "print(one_hot_encoded_ModerateWheater)"
   ]
  },
  {
   "cell_type": "code",
   "execution_count": 25,
   "id": "519d32b7",
   "metadata": {},
   "outputs": [],
   "source": [
    "# one_hot_encoded_ModerateWheater.to_csv('one_hot_encoded_ModerateWheather_with_id', index=False)"
   ]
  },
  {
   "cell_type": "code",
   "execution_count": 26,
   "id": "d44ae3e6",
   "metadata": {},
   "outputs": [
    {
     "name": "stdout",
     "output_type": "stream",
     "text": [
      "       dog_id  hot_weather_1.0  hot_weather_2.0  hot_weather_3.0  \\\n",
      "0       10509             True            False            False   \n",
      "1       74227             True            False            False   \n",
      "2       32487             True            False            False   \n",
      "3       33369             True            False            False   \n",
      "4       72814             True            False            False   \n",
      "...       ...              ...              ...              ...   \n",
      "26401   12758             True            False            False   \n",
      "26402    4024             True            False            False   \n",
      "26403   33783             True            False            False   \n",
      "26404   98862             True            False            False   \n",
      "26405    6530            False            False            False   \n",
      "\n",
      "       hot_weather_4.0  hot_weather_5.0  cold_weather_1.0  cold_weather_2.0  \\\n",
      "0                False            False              True             False   \n",
      "1                False            False              True             False   \n",
      "2                False            False              True             False   \n",
      "3                False            False             False              True   \n",
      "4                False            False              True             False   \n",
      "...                ...              ...               ...               ...   \n",
      "26401            False            False              True             False   \n",
      "26402            False            False              True             False   \n",
      "26403            False            False              True             False   \n",
      "26404            False            False             False             False   \n",
      "26405            False             True              True             False   \n",
      "\n",
      "       cold_weather_3.0  cold_weather_4.0  cold_weather_5.0  \\\n",
      "0                 False             False             False   \n",
      "1                 False             False             False   \n",
      "2                 False             False             False   \n",
      "3                 False             False             False   \n",
      "4                 False             False             False   \n",
      "...                 ...               ...               ...   \n",
      "26401             False             False             False   \n",
      "26402             False             False             False   \n",
      "26403             False             False             False   \n",
      "26404              True             False             False   \n",
      "26405             False             False             False   \n",
      "\n",
      "       moderate_weather_1.0  moderate_weather_2.0  moderate_weather_3.0  \\\n",
      "0                      True                 False                 False   \n",
      "1                     False                  True                 False   \n",
      "2                     False                  True                 False   \n",
      "3                     False                  True                 False   \n",
      "4                      True                 False                 False   \n",
      "...                     ...                   ...                   ...   \n",
      "26401                  True                 False                 False   \n",
      "26402                  True                 False                 False   \n",
      "26403                  True                 False                 False   \n",
      "26404                 False                 False                  True   \n",
      "26405                  True                 False                 False   \n",
      "\n",
      "       moderate_weather_4.0  moderate_weather_5.0  \n",
      "0                     False                 False  \n",
      "1                     False                 False  \n",
      "2                     False                 False  \n",
      "3                     False                 False  \n",
      "4                     False                 False  \n",
      "...                     ...                   ...  \n",
      "26401                 False                 False  \n",
      "26402                 False                 False  \n",
      "26403                 False                 False  \n",
      "26404                 False                 False  \n",
      "26405                 False                 False  \n",
      "\n",
      "[26406 rows x 16 columns]\n"
     ]
    }
   ],
   "source": [
    "one_hot_encoded_WheatherActivity = one_hot_encoded_HotWheater.merge(one_hot_encoded_ColdWheater, on='dog_id', how='inner').merge(one_hot_encoded_ModerateWheater, on='dog_id', how='inner')\n",
    "print(one_hot_encoded_WheatherActivity)"
   ]
  },
  {
   "cell_type": "code",
   "execution_count": 27,
   "id": "a428901c",
   "metadata": {},
   "outputs": [
    {
     "name": "stdout",
     "output_type": "stream",
     "text": [
      "       dog_id  pa_hot_weather_daily_hours_outside  \\\n",
      "0       10509                                 1.0   \n",
      "1       74227                                 1.0   \n",
      "2       32487                                 1.0   \n",
      "4       33369                                 1.0   \n",
      "5       72814                                 1.0   \n",
      "...       ...                                 ...   \n",
      "33165   12758                                 1.0   \n",
      "33166    4024                                 1.0   \n",
      "33168   33783                                 1.0   \n",
      "33169   98862                                 1.0   \n",
      "33171    6530                                 5.0   \n",
      "\n",
      "       pa_cold_weather_daily_hours_outside  \\\n",
      "0                                      1.0   \n",
      "1                                      1.0   \n",
      "2                                      1.0   \n",
      "4                                      2.0   \n",
      "5                                      1.0   \n",
      "...                                    ...   \n",
      "33165                                  1.0   \n",
      "33166                                  1.0   \n",
      "33168                                  1.0   \n",
      "33169                                  3.0   \n",
      "33171                                  1.0   \n",
      "\n",
      "       pa_moderate_weather_daily_hours_outside  \n",
      "0                                          1.0  \n",
      "1                                          2.0  \n",
      "2                                          2.0  \n",
      "4                                          2.0  \n",
      "5                                          1.0  \n",
      "...                                        ...  \n",
      "33165                                      1.0  \n",
      "33166                                      1.0  \n",
      "33168                                      1.0  \n",
      "33169                                      3.0  \n",
      "33171                                      1.0  \n",
      "\n",
      "[26406 rows x 4 columns]\n"
     ]
    }
   ],
   "source": [
    "PhysicalActivity_weather = df[['dog_id', 'pa_hot_weather_daily_hours_outside', 'pa_cold_weather_daily_hours_outside', 'pa_moderate_weather_daily_hours_outside']]\n",
    "PhysicalActivity_weather = PhysicalActivity_weather.dropna()\n",
    "print(PhysicalActivity_weather)"
   ]
  },
  {
   "cell_type": "code",
   "execution_count": 28,
   "outputs": [
    {
     "data": {
      "text/plain": "       dog_id  pa_hot_weather_daily_hours_outside  \\\n0       10509                                 1.0   \n1       74227                                 1.0   \n2       32487                                 1.0   \n4       33369                                 1.0   \n5       72814                                 1.0   \n...       ...                                 ...   \n33165   12758                                 1.0   \n33166    4024                                 1.0   \n33168   33783                                 1.0   \n33169   98862                                 1.0   \n33171    6530                                 5.0   \n\n       pa_cold_weather_daily_hours_outside  \\\n0                                      1.0   \n1                                      1.0   \n2                                      1.0   \n4                                      2.0   \n5                                      1.0   \n...                                    ...   \n33165                                  1.0   \n33166                                  1.0   \n33168                                  1.0   \n33169                                  3.0   \n33171                                  1.0   \n\n       pa_moderate_weather_daily_hours_outside  \n0                                          1.0  \n1                                          2.0  \n2                                          2.0  \n4                                          2.0  \n5                                          1.0  \n...                                        ...  \n33165                                      1.0  \n33166                                      1.0  \n33168                                      1.0  \n33169                                      3.0  \n33171                                      1.0  \n\n[26406 rows x 4 columns]",
      "text/html": "<div>\n<style scoped>\n    .dataframe tbody tr th:only-of-type {\n        vertical-align: middle;\n    }\n\n    .dataframe tbody tr th {\n        vertical-align: top;\n    }\n\n    .dataframe thead th {\n        text-align: right;\n    }\n</style>\n<table border=\"1\" class=\"dataframe\">\n  <thead>\n    <tr style=\"text-align: right;\">\n      <th></th>\n      <th>dog_id</th>\n      <th>pa_hot_weather_daily_hours_outside</th>\n      <th>pa_cold_weather_daily_hours_outside</th>\n      <th>pa_moderate_weather_daily_hours_outside</th>\n    </tr>\n  </thead>\n  <tbody>\n    <tr>\n      <th>0</th>\n      <td>10509</td>\n      <td>1.0</td>\n      <td>1.0</td>\n      <td>1.0</td>\n    </tr>\n    <tr>\n      <th>1</th>\n      <td>74227</td>\n      <td>1.0</td>\n      <td>1.0</td>\n      <td>2.0</td>\n    </tr>\n    <tr>\n      <th>2</th>\n      <td>32487</td>\n      <td>1.0</td>\n      <td>1.0</td>\n      <td>2.0</td>\n    </tr>\n    <tr>\n      <th>4</th>\n      <td>33369</td>\n      <td>1.0</td>\n      <td>2.0</td>\n      <td>2.0</td>\n    </tr>\n    <tr>\n      <th>5</th>\n      <td>72814</td>\n      <td>1.0</td>\n      <td>1.0</td>\n      <td>1.0</td>\n    </tr>\n    <tr>\n      <th>...</th>\n      <td>...</td>\n      <td>...</td>\n      <td>...</td>\n      <td>...</td>\n    </tr>\n    <tr>\n      <th>33165</th>\n      <td>12758</td>\n      <td>1.0</td>\n      <td>1.0</td>\n      <td>1.0</td>\n    </tr>\n    <tr>\n      <th>33166</th>\n      <td>4024</td>\n      <td>1.0</td>\n      <td>1.0</td>\n      <td>1.0</td>\n    </tr>\n    <tr>\n      <th>33168</th>\n      <td>33783</td>\n      <td>1.0</td>\n      <td>1.0</td>\n      <td>1.0</td>\n    </tr>\n    <tr>\n      <th>33169</th>\n      <td>98862</td>\n      <td>1.0</td>\n      <td>3.0</td>\n      <td>3.0</td>\n    </tr>\n    <tr>\n      <th>33171</th>\n      <td>6530</td>\n      <td>5.0</td>\n      <td>1.0</td>\n      <td>1.0</td>\n    </tr>\n  </tbody>\n</table>\n<p>26406 rows × 4 columns</p>\n</div>"
     },
     "execution_count": 28,
     "metadata": {},
     "output_type": "execute_result"
    }
   ],
   "source": [
    "PhysicalActivity_weather"
   ],
   "metadata": {
    "collapsed": false
   }
  },
  {
   "cell_type": "code",
   "execution_count": 31,
   "id": "174e073d",
   "metadata": {},
   "outputs": [],
   "source": [
    "PhysicalActivity_weather.to_csv('features/PhysicalActivity_wheather.csv', index=False)\n",
    "PhysicalActivity_weather.to_pickle('features/PhysicalActivity_wheather.pkl')"
   ]
  },
  {
   "cell_type": "code",
   "execution_count": 32,
   "id": "73eee6ac",
   "metadata": {},
   "outputs": [],
   "source": [
    "# one_hot_encoded_WheatherActivity.to_csv('one_hot_encoded_WheatherActivity', index=False)"
   ]
  },
  {
   "cell_type": "code",
   "execution_count": 33,
   "id": "4f65c5c1",
   "metadata": {},
   "outputs": [
    {
     "name": "stdout",
     "output_type": "stream",
     "text": [
      "0         True\n",
      "1         True\n",
      "2         True\n",
      "3         True\n",
      "4         True\n",
      "         ...  \n",
      "33167     True\n",
      "33168     True\n",
      "33169     True\n",
      "33170    False\n",
      "33171     True\n",
      "Name: combined, Length: 33172, dtype: bool\n",
      "0        False\n",
      "1        False\n",
      "2        False\n",
      "3        False\n",
      "4        False\n",
      "         ...  \n",
      "33167    False\n",
      "33168     True\n",
      "33169    False\n",
      "33170    False\n",
      "33171    False\n",
      "Name: combined, Length: 33172, dtype: bool\n",
      "0        False\n",
      "1         True\n",
      "2         True\n",
      "3         True\n",
      "4        False\n",
      "         ...  \n",
      "33167    False\n",
      "33168     True\n",
      "33169    False\n",
      "33170    False\n",
      "33171    False\n",
      "Name: combined, Length: 33172, dtype: bool\n",
      "0         True\n",
      "1         True\n",
      "2         True\n",
      "3        False\n",
      "4         True\n",
      "         ...  \n",
      "33167     True\n",
      "33168     True\n",
      "33169     True\n",
      "33170     True\n",
      "33171     True\n",
      "Name: combined, Length: 33172, dtype: bool\n",
      "0        False\n",
      "1         True\n",
      "2        False\n",
      "3        False\n",
      "4        False\n",
      "         ...  \n",
      "33167    False\n",
      "33168     True\n",
      "33169    False\n",
      "33170    False\n",
      "33171    False\n",
      "Name: combined, Length: 33172, dtype: bool\n",
      "0        False\n",
      "1        False\n",
      "2        False\n",
      "3        False\n",
      "4        False\n",
      "         ...  \n",
      "33167    False\n",
      "33168    False\n",
      "33169    False\n",
      "33170    False\n",
      "33171    False\n",
      "Name: combined, Length: 33172, dtype: bool\n",
      "0        False\n",
      "1        False\n",
      "2        False\n",
      "3        False\n",
      "4        False\n",
      "         ...  \n",
      "33167    False\n",
      "33168     True\n",
      "33169    False\n",
      "33170    False\n",
      "33171    False\n",
      "Name: combined, Length: 33172, dtype: bool\n"
     ]
    },
    {
     "name": "stderr",
     "output_type": "stream",
     "text": [
      "/var/folders/zd/3_6frj8s08b9zb1f3y0xqr2r0000gn/T/ipykernel_6565/1749764586.py:3: SettingWithCopyWarning: \n",
      "A value is trying to be set on a copy of a slice from a DataFrame.\n",
      "Try using .loc[row_indexer,col_indexer] = value instead\n",
      "\n",
      "See the caveats in the documentation: https://pandas.pydata.org/pandas-docs/stable/user_guide/indexing.html#returning-a-view-versus-a-copy\n",
      "  concrete['combined'] = concrete['pa_hot_weather_outdoor_concrete'] | concrete['pa_cold_weather_outdoor_concrete'] | concrete['pa_moderate_weather_outdoor_concrete']\n",
      "/var/folders/zd/3_6frj8s08b9zb1f3y0xqr2r0000gn/T/ipykernel_6565/1749764586.py:6: SettingWithCopyWarning: \n",
      "A value is trying to be set on a copy of a slice from a DataFrame.\n",
      "Try using .loc[row_indexer,col_indexer] = value instead\n",
      "\n",
      "See the caveats in the documentation: https://pandas.pydata.org/pandas-docs/stable/user_guide/indexing.html#returning-a-view-versus-a-copy\n",
      "  wood['combined'] = wood['pa_hot_weather_outdoor_wood'] | wood['pa_cold_weather_outdoor_wood'] | wood['pa_moderate_weather_outdoor_wood']\n",
      "/var/folders/zd/3_6frj8s08b9zb1f3y0xqr2r0000gn/T/ipykernel_6565/1749764586.py:9: SettingWithCopyWarning: \n",
      "A value is trying to be set on a copy of a slice from a DataFrame.\n",
      "Try using .loc[row_indexer,col_indexer] = value instead\n",
      "\n",
      "See the caveats in the documentation: https://pandas.pydata.org/pandas-docs/stable/user_guide/indexing.html#returning-a-view-versus-a-copy\n",
      "  hard['combined'] = hard['pa_hot_weather_outdoor_other_hard_surface'] | hard['pa_cold_weather_outdoor_other_hard_surface'] | hard['pa_moderate_weather_outdoor_other_hard_surface']\n",
      "/var/folders/zd/3_6frj8s08b9zb1f3y0xqr2r0000gn/T/ipykernel_6565/1749764586.py:12: SettingWithCopyWarning: \n",
      "A value is trying to be set on a copy of a slice from a DataFrame.\n",
      "Try using .loc[row_indexer,col_indexer] = value instead\n",
      "\n",
      "See the caveats in the documentation: https://pandas.pydata.org/pandas-docs/stable/user_guide/indexing.html#returning-a-view-versus-a-copy\n",
      "  grass_dirt['combined'] = grass_dirt['pa_hot_weather_outdoor_grass_or_dirt'] | grass_dirt['pa_cold_weather_outdoor_grass_or_dirt'] | grass_dirt['pa_moderate_weather_outdoor_grass_or_dirt']\n",
      "/var/folders/zd/3_6frj8s08b9zb1f3y0xqr2r0000gn/T/ipykernel_6565/1749764586.py:15: SettingWithCopyWarning: \n",
      "A value is trying to be set on a copy of a slice from a DataFrame.\n",
      "Try using .loc[row_indexer,col_indexer] = value instead\n",
      "\n",
      "See the caveats in the documentation: https://pandas.pydata.org/pandas-docs/stable/user_guide/indexing.html#returning-a-view-versus-a-copy\n",
      "  gravel['combined'] = gravel['pa_hot_weather_outdoor_gravel'] | gravel['pa_cold_weather_outdoor_gravel'] | gravel['pa_moderate_weather_outdoor_gravel']\n",
      "/var/folders/zd/3_6frj8s08b9zb1f3y0xqr2r0000gn/T/ipykernel_6565/1749764586.py:18: SettingWithCopyWarning: \n",
      "A value is trying to be set on a copy of a slice from a DataFrame.\n",
      "Try using .loc[row_indexer,col_indexer] = value instead\n",
      "\n",
      "See the caveats in the documentation: https://pandas.pydata.org/pandas-docs/stable/user_guide/indexing.html#returning-a-view-versus-a-copy\n",
      "  sand['combined'] = sand['pa_hot_weather_outdoor_sand'] | sand['pa_cold_weather_outdoor_sand'] | sand['pa_moderate_weather_outdoor_sand']\n",
      "/var/folders/zd/3_6frj8s08b9zb1f3y0xqr2r0000gn/T/ipykernel_6565/1749764586.py:21: SettingWithCopyWarning: \n",
      "A value is trying to be set on a copy of a slice from a DataFrame.\n",
      "Try using .loc[row_indexer,col_indexer] = value instead\n",
      "\n",
      "See the caveats in the documentation: https://pandas.pydata.org/pandas-docs/stable/user_guide/indexing.html#returning-a-view-versus-a-copy\n",
      "  astro_turf['combined'] = astro_turf['pa_hot_weather_outdoor_astroturf'] | astro_turf['pa_cold_weather_outdoor_astroturf'] | astro_turf['pa_moderate_weather_outdoor_astroturf']\n"
     ]
    }
   ],
   "source": [
    "# ground surfaces the dog regularly spending time outside\n",
    "concrete = df[['dog_id', 'pa_hot_weather_outdoor_concrete', 'pa_cold_weather_outdoor_concrete', 'pa_moderate_weather_outdoor_concrete']]\n",
    "concrete['combined'] = concrete['pa_hot_weather_outdoor_concrete'] | concrete['pa_cold_weather_outdoor_concrete'] | concrete['pa_moderate_weather_outdoor_concrete']\n",
    "\n",
    "wood = df[['dog_id', 'pa_hot_weather_outdoor_wood', 'pa_cold_weather_outdoor_wood', 'pa_moderate_weather_outdoor_wood']]\n",
    "wood['combined'] = wood['pa_hot_weather_outdoor_wood'] | wood['pa_cold_weather_outdoor_wood'] | wood['pa_moderate_weather_outdoor_wood']\n",
    "\n",
    "hard = df[['dog_id', 'pa_hot_weather_outdoor_other_hard_surface', 'pa_cold_weather_outdoor_other_hard_surface', 'pa_moderate_weather_outdoor_other_hard_surface']]\n",
    "hard['combined'] = hard['pa_hot_weather_outdoor_other_hard_surface'] | hard['pa_cold_weather_outdoor_other_hard_surface'] | hard['pa_moderate_weather_outdoor_other_hard_surface']\n",
    "\n",
    "grass_dirt = df[['dog_id', 'pa_hot_weather_outdoor_grass_or_dirt', 'pa_cold_weather_outdoor_grass_or_dirt', 'pa_moderate_weather_outdoor_grass_or_dirt']]\n",
    "grass_dirt['combined'] = grass_dirt['pa_hot_weather_outdoor_grass_or_dirt'] | grass_dirt['pa_cold_weather_outdoor_grass_or_dirt'] | grass_dirt['pa_moderate_weather_outdoor_grass_or_dirt']\n",
    "\n",
    "gravel = df[['dog_id', 'pa_hot_weather_outdoor_gravel', 'pa_cold_weather_outdoor_gravel', 'pa_moderate_weather_outdoor_gravel']]\n",
    "gravel['combined'] = gravel['pa_hot_weather_outdoor_gravel'] | gravel['pa_cold_weather_outdoor_gravel'] | gravel['pa_moderate_weather_outdoor_gravel']\n",
    "\n",
    "sand = df[['dog_id', 'pa_hot_weather_outdoor_sand', 'pa_cold_weather_outdoor_sand', 'pa_moderate_weather_outdoor_sand']]\n",
    "sand['combined'] = sand['pa_hot_weather_outdoor_sand'] | sand['pa_cold_weather_outdoor_sand'] | sand['pa_moderate_weather_outdoor_sand']\n",
    "\n",
    "astro_turf = df[['dog_id', 'pa_hot_weather_outdoor_astroturf', 'pa_cold_weather_outdoor_astroturf', 'pa_moderate_weather_outdoor_astroturf']]\n",
    "astro_turf['combined'] = astro_turf['pa_hot_weather_outdoor_astroturf'] | astro_turf['pa_cold_weather_outdoor_astroturf'] | astro_turf['pa_moderate_weather_outdoor_astroturf']\n",
    "\n",
    "# other = df[['dog_id', 'pa_hot_weather_outdoor_other_surface_description', 'pa_cold_weather_outdoor_other_surface_description', 'pa_moderate_weather_outdoor_other_surface_description']]\n",
    "\n",
    "\n",
    "print(concrete['combined'].dropna())\n",
    "print(wood['combined'].dropna())\n",
    "print(hard['combined'].dropna())\n",
    "print(grass_dirt['combined'].dropna())\n",
    "print(gravel['combined'].dropna())\n",
    "print(sand['combined'].dropna())\n",
    "print(astro_turf['combined'].dropna())\n",
    "# print(other.dropna())"
   ]
  },
  {
   "cell_type": "code",
   "execution_count": 34,
   "id": "d23af049",
   "metadata": {},
   "outputs": [
    {
     "data": {
      "text/plain": "       dog_id  concrete   wood  other_hard  grass_dirt  gravel   sand  \\\n0       10509      True  False       False        True   False  False   \n1       74227      True  False        True        True    True  False   \n2       32487      True  False        True        True   False  False   \n3       63150      True  False        True       False   False  False   \n4       33369      True  False       False        True   False  False   \n...       ...       ...    ...         ...         ...     ...    ...   \n33167   91849      True  False       False        True   False  False   \n33168   33783      True   True        True        True    True  False   \n33169   98862      True  False       False        True   False  False   \n33170   99462     False  False       False        True   False  False   \n33171    6530      True  False       False        True   False  False   \n\n       astroturf  \n0          False  \n1          False  \n2          False  \n3          False  \n4          False  \n...          ...  \n33167      False  \n33168       True  \n33169      False  \n33170      False  \n33171      False  \n\n[33172 rows x 8 columns]",
      "text/html": "<div>\n<style scoped>\n    .dataframe tbody tr th:only-of-type {\n        vertical-align: middle;\n    }\n\n    .dataframe tbody tr th {\n        vertical-align: top;\n    }\n\n    .dataframe thead th {\n        text-align: right;\n    }\n</style>\n<table border=\"1\" class=\"dataframe\">\n  <thead>\n    <tr style=\"text-align: right;\">\n      <th></th>\n      <th>dog_id</th>\n      <th>concrete</th>\n      <th>wood</th>\n      <th>other_hard</th>\n      <th>grass_dirt</th>\n      <th>gravel</th>\n      <th>sand</th>\n      <th>astroturf</th>\n    </tr>\n  </thead>\n  <tbody>\n    <tr>\n      <th>0</th>\n      <td>10509</td>\n      <td>True</td>\n      <td>False</td>\n      <td>False</td>\n      <td>True</td>\n      <td>False</td>\n      <td>False</td>\n      <td>False</td>\n    </tr>\n    <tr>\n      <th>1</th>\n      <td>74227</td>\n      <td>True</td>\n      <td>False</td>\n      <td>True</td>\n      <td>True</td>\n      <td>True</td>\n      <td>False</td>\n      <td>False</td>\n    </tr>\n    <tr>\n      <th>2</th>\n      <td>32487</td>\n      <td>True</td>\n      <td>False</td>\n      <td>True</td>\n      <td>True</td>\n      <td>False</td>\n      <td>False</td>\n      <td>False</td>\n    </tr>\n    <tr>\n      <th>3</th>\n      <td>63150</td>\n      <td>True</td>\n      <td>False</td>\n      <td>True</td>\n      <td>False</td>\n      <td>False</td>\n      <td>False</td>\n      <td>False</td>\n    </tr>\n    <tr>\n      <th>4</th>\n      <td>33369</td>\n      <td>True</td>\n      <td>False</td>\n      <td>False</td>\n      <td>True</td>\n      <td>False</td>\n      <td>False</td>\n      <td>False</td>\n    </tr>\n    <tr>\n      <th>...</th>\n      <td>...</td>\n      <td>...</td>\n      <td>...</td>\n      <td>...</td>\n      <td>...</td>\n      <td>...</td>\n      <td>...</td>\n      <td>...</td>\n    </tr>\n    <tr>\n      <th>33167</th>\n      <td>91849</td>\n      <td>True</td>\n      <td>False</td>\n      <td>False</td>\n      <td>True</td>\n      <td>False</td>\n      <td>False</td>\n      <td>False</td>\n    </tr>\n    <tr>\n      <th>33168</th>\n      <td>33783</td>\n      <td>True</td>\n      <td>True</td>\n      <td>True</td>\n      <td>True</td>\n      <td>True</td>\n      <td>False</td>\n      <td>True</td>\n    </tr>\n    <tr>\n      <th>33169</th>\n      <td>98862</td>\n      <td>True</td>\n      <td>False</td>\n      <td>False</td>\n      <td>True</td>\n      <td>False</td>\n      <td>False</td>\n      <td>False</td>\n    </tr>\n    <tr>\n      <th>33170</th>\n      <td>99462</td>\n      <td>False</td>\n      <td>False</td>\n      <td>False</td>\n      <td>True</td>\n      <td>False</td>\n      <td>False</td>\n      <td>False</td>\n    </tr>\n    <tr>\n      <th>33171</th>\n      <td>6530</td>\n      <td>True</td>\n      <td>False</td>\n      <td>False</td>\n      <td>True</td>\n      <td>False</td>\n      <td>False</td>\n      <td>False</td>\n    </tr>\n  </tbody>\n</table>\n<p>33172 rows × 8 columns</p>\n</div>"
     },
     "execution_count": 34,
     "metadata": {},
     "output_type": "execute_result"
    }
   ],
   "source": [
    "combined_data = concrete[['dog_id', 'combined']].merge(wood[['dog_id', 'combined']], on='dog_id', suffixes=('_concrete', '_wood'))\n",
    "combined_data = combined_data.merge(hard[['dog_id', 'combined']], on='dog_id', suffixes=('', '_other_hard'))\n",
    "combined_data = combined_data.merge(grass_dirt[['dog_id', 'combined']], on='dog_id', suffixes=('', '_grass_or_dirt'))\n",
    "combined_data = combined_data.merge(gravel[['dog_id', 'combined']], on='dog_id', suffixes=('', '_gravel'))\n",
    "combined_data = combined_data.merge(sand[['dog_id', 'combined']], on='dog_id', suffixes=('', '_sand'))\n",
    "combined_data = combined_data.merge(astro_turf[['dog_id', 'combined']], on='dog_id', suffixes=('', '_astroturf'))\n",
    "\n",
    "combined_data.columns = ['dog_id', 'concrete', 'wood', 'other_hard', 'grass_dirt', 'gravel', 'sand', 'astroturf']\n",
    "\n",
    "combined_data"
   ]
  },
  {
   "cell_type": "code",
   "execution_count": 36,
   "id": "632007f9",
   "metadata": {},
   "outputs": [],
   "source": [
    "combined_data.to_csv('features/PhysicalActivity_surface.csv', index=False)\n",
    "combined_data.to_pickle('features/PhysicalActivity_surface.pkl')"
   ]
  },
  {
   "cell_type": "code",
   "execution_count": null,
   "id": "90d30f8e",
   "metadata": {
    "pycharm": {
     "is_executing": true
    }
   },
   "outputs": [],
   "source": []
  },
  {
   "cell_type": "code",
   "execution_count": 43,
   "outputs": [],
   "source": [],
   "metadata": {
    "collapsed": false
   }
  }
 ],
 "metadata": {
  "kernelspec": {
   "display_name": "Python 3 (ipykernel)",
   "language": "python",
   "name": "python3"
  },
  "language_info": {
   "codemirror_mode": {
    "name": "ipython",
    "version": 3
   },
   "file_extension": ".py",
   "mimetype": "text/x-python",
   "name": "python",
   "nbconvert_exporter": "python",
   "pygments_lexer": "ipython3",
   "version": "3.9.12"
  }
 },
 "nbformat": 4,
 "nbformat_minor": 5
}
