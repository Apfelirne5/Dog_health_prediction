{
 "cells": [
  {
   "cell_type": "code",
   "execution_count": 258,
   "metadata": {
    "collapsed": true
   },
   "outputs": [],
   "source": [
    "import pandas as pd\n",
    "import os\n",
    "import numpy as np\n",
    "import matplotlib.pyplot as plt\n",
    "import seaborn as sns\n",
    "from sklearn.preprocessing import LabelEncoder"
   ]
  },
  {
   "cell_type": "code",
   "execution_count": 259,
   "outputs": [],
   "source": [
    "file_path_HLES = 'Dataset/SurveyData/SurveyData_CSV_DAP_2021_HLES_dog_owner_v1.0.csv'"
   ],
   "metadata": {
    "collapsed": false
   }
  },
  {
   "cell_type": "code",
   "execution_count": 260,
   "outputs": [
    {
     "name": "stderr",
     "output_type": "stream",
     "text": [
      "/var/folders/zd/3_6frj8s08b9zb1f3y0xqr2r0000gn/T/ipykernel_63733/3112864108.py:1: DtypeWarning: Columns (5,21,75,77,79,81,83,85,87,89,191,192,193,194,195,196,197,198,199,200,201,204,214,285,295,516,566) have mixed types. Specify dtype option on import or set low_memory=False.\n",
      "  df = pd.read_csv(file_path_HLES)\n"
     ]
    },
    {
     "data": {
      "text/plain": "       dog_id  owner_id st_hles_completion_date  dd_breed_pure_or_mixed  \\\n0       10509     14660              2020-10-17                       2   \n1       74227     16755              2020-10-26                       2   \n2       32487      8568              2020-09-07                       1   \n3       63150      5380              2020-08-21                       2   \n4       33369     15957              2020-10-23                       2   \n...       ...       ...                     ...                     ...   \n33167   91849     32736              2021-06-22                       2   \n33168   33783      9482              2020-09-15                       2   \n33169   98862     32312              2021-05-25                       2   \n33170   99462     32692              2021-06-18                       2   \n33171    6530     23713              2020-11-28                       2   \n\n       dd_breed_pure dd_breed_pure_non_akc  dd_breed_mixed_primary  \\\n0                NaN                   NaN                    16.0   \n1                NaN                   NaN                   133.0   \n2              159.0                   NaN                     NaN   \n3                NaN                   NaN                   999.0   \n4                NaN                   NaN                   230.0   \n...              ...                   ...                     ...   \n33167            NaN                   NaN                   276.0   \n33168            NaN                   NaN                   130.0   \n33169            NaN                   NaN                    60.0   \n33170            NaN                   NaN                   204.0   \n33171            NaN                   NaN                   261.0   \n\n       dd_breed_mixed_secondary  dd_age_years  dd_age_basis  ...  \\\n0                         999.0     16.333333             2  ...   \n1                          12.0      1.833333             1  ...   \n2                           NaN     13.000000             3  ...   \n3                         999.0     13.000000             3  ...   \n4                          82.0      2.166667             1  ...   \n...                         ...           ...           ...  ...   \n33167                       1.0     10.000000             3  ...   \n33168                     195.0      3.000000             3  ...   \n33169                      49.0      4.000000             3  ...   \n33170                      27.0      0.916667             1  ...   \n33171                     999.0     13.416667             2  ...   \n\n      oc_primary_residence_state oc_primary_residence_census_division  \\\n0                             MO                                  4.0   \n1                             MD                                  5.0   \n2                             VA                                  5.0   \n3                             CA                                  9.0   \n4                             OH                                  3.0   \n...                          ...                                  ...   \n33167                         CA                                  9.0   \n33168                         WA                                  9.0   \n33169                         AR                                  7.0   \n33170                         WA                                  9.0   \n33171                         IL                                  3.0   \n\n      oc_primary_residence_ownership  \\\n0                                  2   \n1                                  2   \n2                                  1   \n3                                  2   \n4                                  2   \n...                              ...   \n33167                              2   \n33168                              1   \n33169                              2   \n33170                              2   \n33171                              2   \n\n      oc_primary_residence_ownership_other_description  \\\n0                                                  NaN   \n1                                                  NaN   \n2                                                  NaN   \n3                                                  NaN   \n4                                                  NaN   \n...                                                ...   \n33167                                              NaN   \n33168                                              NaN   \n33169                                              NaN   \n33170                                              NaN   \n33171                                              NaN   \n\n      oc_primary_residence_time_percentage oc_secondary_residence  \\\n0                                      NaN                  False   \n1                                      NaN                  False   \n2                                      NaN                  False   \n3                                      NaN                  False   \n4                                      NaN                  False   \n...                                    ...                    ...   \n33167                                  5.0                   True   \n33168                                  NaN                  False   \n33169                                  NaN                  False   \n33170                                  NaN                  False   \n33171                                  NaN                  False   \n\n      oc_secondary_residence_state oc_secondary_residence_ownership  \\\n0                              NaN                              NaN   \n1                              NaN                              NaN   \n2                              NaN                              NaN   \n3                              NaN                              NaN   \n4                              NaN                              NaN   \n...                            ...                              ...   \n33167                           NH                              2.0   \n33168                          NaN                              NaN   \n33169                          NaN                              NaN   \n33170                          NaN                              NaN   \n33171                          NaN                              NaN   \n\n      oc_secondary_residence_ownership_other_description  \\\n0                                                    NaN   \n1                                                    NaN   \n2                                                    NaN   \n3                                                    NaN   \n4                                                    NaN   \n...                                                  ...   \n33167                                                NaN   \n33168                                                NaN   \n33169                                                NaN   \n33170                                                NaN   \n33171                                                NaN   \n\n      oc_secondary_residence_time_percentage  \n0                                        NaN  \n1                                        NaN  \n2                                        NaN  \n3                                        NaN  \n4                                        NaN  \n...                                      ...  \n33167                                    1.0  \n33168                                    NaN  \n33169                                    NaN  \n33170                                    NaN  \n33171                                    NaN  \n\n[33172 rows x 658 columns]",
      "text/html": "<div>\n<style scoped>\n    .dataframe tbody tr th:only-of-type {\n        vertical-align: middle;\n    }\n\n    .dataframe tbody tr th {\n        vertical-align: top;\n    }\n\n    .dataframe thead th {\n        text-align: right;\n    }\n</style>\n<table border=\"1\" class=\"dataframe\">\n  <thead>\n    <tr style=\"text-align: right;\">\n      <th></th>\n      <th>dog_id</th>\n      <th>owner_id</th>\n      <th>st_hles_completion_date</th>\n      <th>dd_breed_pure_or_mixed</th>\n      <th>dd_breed_pure</th>\n      <th>dd_breed_pure_non_akc</th>\n      <th>dd_breed_mixed_primary</th>\n      <th>dd_breed_mixed_secondary</th>\n      <th>dd_age_years</th>\n      <th>dd_age_basis</th>\n      <th>...</th>\n      <th>oc_primary_residence_state</th>\n      <th>oc_primary_residence_census_division</th>\n      <th>oc_primary_residence_ownership</th>\n      <th>oc_primary_residence_ownership_other_description</th>\n      <th>oc_primary_residence_time_percentage</th>\n      <th>oc_secondary_residence</th>\n      <th>oc_secondary_residence_state</th>\n      <th>oc_secondary_residence_ownership</th>\n      <th>oc_secondary_residence_ownership_other_description</th>\n      <th>oc_secondary_residence_time_percentage</th>\n    </tr>\n  </thead>\n  <tbody>\n    <tr>\n      <th>0</th>\n      <td>10509</td>\n      <td>14660</td>\n      <td>2020-10-17</td>\n      <td>2</td>\n      <td>NaN</td>\n      <td>NaN</td>\n      <td>16.0</td>\n      <td>999.0</td>\n      <td>16.333333</td>\n      <td>2</td>\n      <td>...</td>\n      <td>MO</td>\n      <td>4.0</td>\n      <td>2</td>\n      <td>NaN</td>\n      <td>NaN</td>\n      <td>False</td>\n      <td>NaN</td>\n      <td>NaN</td>\n      <td>NaN</td>\n      <td>NaN</td>\n    </tr>\n    <tr>\n      <th>1</th>\n      <td>74227</td>\n      <td>16755</td>\n      <td>2020-10-26</td>\n      <td>2</td>\n      <td>NaN</td>\n      <td>NaN</td>\n      <td>133.0</td>\n      <td>12.0</td>\n      <td>1.833333</td>\n      <td>1</td>\n      <td>...</td>\n      <td>MD</td>\n      <td>5.0</td>\n      <td>2</td>\n      <td>NaN</td>\n      <td>NaN</td>\n      <td>False</td>\n      <td>NaN</td>\n      <td>NaN</td>\n      <td>NaN</td>\n      <td>NaN</td>\n    </tr>\n    <tr>\n      <th>2</th>\n      <td>32487</td>\n      <td>8568</td>\n      <td>2020-09-07</td>\n      <td>1</td>\n      <td>159.0</td>\n      <td>NaN</td>\n      <td>NaN</td>\n      <td>NaN</td>\n      <td>13.000000</td>\n      <td>3</td>\n      <td>...</td>\n      <td>VA</td>\n      <td>5.0</td>\n      <td>1</td>\n      <td>NaN</td>\n      <td>NaN</td>\n      <td>False</td>\n      <td>NaN</td>\n      <td>NaN</td>\n      <td>NaN</td>\n      <td>NaN</td>\n    </tr>\n    <tr>\n      <th>3</th>\n      <td>63150</td>\n      <td>5380</td>\n      <td>2020-08-21</td>\n      <td>2</td>\n      <td>NaN</td>\n      <td>NaN</td>\n      <td>999.0</td>\n      <td>999.0</td>\n      <td>13.000000</td>\n      <td>3</td>\n      <td>...</td>\n      <td>CA</td>\n      <td>9.0</td>\n      <td>2</td>\n      <td>NaN</td>\n      <td>NaN</td>\n      <td>False</td>\n      <td>NaN</td>\n      <td>NaN</td>\n      <td>NaN</td>\n      <td>NaN</td>\n    </tr>\n    <tr>\n      <th>4</th>\n      <td>33369</td>\n      <td>15957</td>\n      <td>2020-10-23</td>\n      <td>2</td>\n      <td>NaN</td>\n      <td>NaN</td>\n      <td>230.0</td>\n      <td>82.0</td>\n      <td>2.166667</td>\n      <td>1</td>\n      <td>...</td>\n      <td>OH</td>\n      <td>3.0</td>\n      <td>2</td>\n      <td>NaN</td>\n      <td>NaN</td>\n      <td>False</td>\n      <td>NaN</td>\n      <td>NaN</td>\n      <td>NaN</td>\n      <td>NaN</td>\n    </tr>\n    <tr>\n      <th>...</th>\n      <td>...</td>\n      <td>...</td>\n      <td>...</td>\n      <td>...</td>\n      <td>...</td>\n      <td>...</td>\n      <td>...</td>\n      <td>...</td>\n      <td>...</td>\n      <td>...</td>\n      <td>...</td>\n      <td>...</td>\n      <td>...</td>\n      <td>...</td>\n      <td>...</td>\n      <td>...</td>\n      <td>...</td>\n      <td>...</td>\n      <td>...</td>\n      <td>...</td>\n      <td>...</td>\n    </tr>\n    <tr>\n      <th>33167</th>\n      <td>91849</td>\n      <td>32736</td>\n      <td>2021-06-22</td>\n      <td>2</td>\n      <td>NaN</td>\n      <td>NaN</td>\n      <td>276.0</td>\n      <td>1.0</td>\n      <td>10.000000</td>\n      <td>3</td>\n      <td>...</td>\n      <td>CA</td>\n      <td>9.0</td>\n      <td>2</td>\n      <td>NaN</td>\n      <td>5.0</td>\n      <td>True</td>\n      <td>NH</td>\n      <td>2.0</td>\n      <td>NaN</td>\n      <td>1.0</td>\n    </tr>\n    <tr>\n      <th>33168</th>\n      <td>33783</td>\n      <td>9482</td>\n      <td>2020-09-15</td>\n      <td>2</td>\n      <td>NaN</td>\n      <td>NaN</td>\n      <td>130.0</td>\n      <td>195.0</td>\n      <td>3.000000</td>\n      <td>3</td>\n      <td>...</td>\n      <td>WA</td>\n      <td>9.0</td>\n      <td>1</td>\n      <td>NaN</td>\n      <td>NaN</td>\n      <td>False</td>\n      <td>NaN</td>\n      <td>NaN</td>\n      <td>NaN</td>\n      <td>NaN</td>\n    </tr>\n    <tr>\n      <th>33169</th>\n      <td>98862</td>\n      <td>32312</td>\n      <td>2021-05-25</td>\n      <td>2</td>\n      <td>NaN</td>\n      <td>NaN</td>\n      <td>60.0</td>\n      <td>49.0</td>\n      <td>4.000000</td>\n      <td>3</td>\n      <td>...</td>\n      <td>AR</td>\n      <td>7.0</td>\n      <td>2</td>\n      <td>NaN</td>\n      <td>NaN</td>\n      <td>False</td>\n      <td>NaN</td>\n      <td>NaN</td>\n      <td>NaN</td>\n      <td>NaN</td>\n    </tr>\n    <tr>\n      <th>33170</th>\n      <td>99462</td>\n      <td>32692</td>\n      <td>2021-06-18</td>\n      <td>2</td>\n      <td>NaN</td>\n      <td>NaN</td>\n      <td>204.0</td>\n      <td>27.0</td>\n      <td>0.916667</td>\n      <td>1</td>\n      <td>...</td>\n      <td>WA</td>\n      <td>9.0</td>\n      <td>2</td>\n      <td>NaN</td>\n      <td>NaN</td>\n      <td>False</td>\n      <td>NaN</td>\n      <td>NaN</td>\n      <td>NaN</td>\n      <td>NaN</td>\n    </tr>\n    <tr>\n      <th>33171</th>\n      <td>6530</td>\n      <td>23713</td>\n      <td>2020-11-28</td>\n      <td>2</td>\n      <td>NaN</td>\n      <td>NaN</td>\n      <td>261.0</td>\n      <td>999.0</td>\n      <td>13.416667</td>\n      <td>2</td>\n      <td>...</td>\n      <td>IL</td>\n      <td>3.0</td>\n      <td>2</td>\n      <td>NaN</td>\n      <td>NaN</td>\n      <td>False</td>\n      <td>NaN</td>\n      <td>NaN</td>\n      <td>NaN</td>\n      <td>NaN</td>\n    </tr>\n  </tbody>\n</table>\n<p>33172 rows × 658 columns</p>\n</div>"
     },
     "execution_count": 260,
     "metadata": {},
     "output_type": "execute_result"
    }
   ],
   "source": [
    "df = pd.read_csv(file_path_HLES)\n",
    "df"
   ],
   "metadata": {
    "collapsed": false
   }
  },
  {
   "cell_type": "code",
   "execution_count": 261,
   "outputs": [
    {
     "data": {
      "text/plain": "      dog_id  owner_id st_hles_completion_date  dd_breed_pure_or_mixed  \\\n3078   48131     17703              2020-11-01                       1   \n\n      dd_breed_pure dd_breed_pure_non_akc  dd_breed_mixed_primary  \\\n3078          277.0              Klee Kai                     NaN   \n\n      dd_breed_mixed_secondary  dd_age_years  dd_age_basis  ...  \\\n3078                       NaN           1.5             1  ...   \n\n     oc_primary_residence_state oc_primary_residence_census_division  \\\n3078                         WA                                  9.0   \n\n     oc_primary_residence_ownership  \\\n3078                              2   \n\n     oc_primary_residence_ownership_other_description  \\\n3078                                              NaN   \n\n     oc_primary_residence_time_percentage oc_secondary_residence  \\\n3078                                  NaN                  False   \n\n     oc_secondary_residence_state oc_secondary_residence_ownership  \\\n3078                          NaN                              NaN   \n\n     oc_secondary_residence_ownership_other_description  \\\n3078                                                NaN   \n\n     oc_secondary_residence_time_percentage  \n3078                                    NaN  \n\n[1 rows x 658 columns]",
      "text/html": "<div>\n<style scoped>\n    .dataframe tbody tr th:only-of-type {\n        vertical-align: middle;\n    }\n\n    .dataframe tbody tr th {\n        vertical-align: top;\n    }\n\n    .dataframe thead th {\n        text-align: right;\n    }\n</style>\n<table border=\"1\" class=\"dataframe\">\n  <thead>\n    <tr style=\"text-align: right;\">\n      <th></th>\n      <th>dog_id</th>\n      <th>owner_id</th>\n      <th>st_hles_completion_date</th>\n      <th>dd_breed_pure_or_mixed</th>\n      <th>dd_breed_pure</th>\n      <th>dd_breed_pure_non_akc</th>\n      <th>dd_breed_mixed_primary</th>\n      <th>dd_breed_mixed_secondary</th>\n      <th>dd_age_years</th>\n      <th>dd_age_basis</th>\n      <th>...</th>\n      <th>oc_primary_residence_state</th>\n      <th>oc_primary_residence_census_division</th>\n      <th>oc_primary_residence_ownership</th>\n      <th>oc_primary_residence_ownership_other_description</th>\n      <th>oc_primary_residence_time_percentage</th>\n      <th>oc_secondary_residence</th>\n      <th>oc_secondary_residence_state</th>\n      <th>oc_secondary_residence_ownership</th>\n      <th>oc_secondary_residence_ownership_other_description</th>\n      <th>oc_secondary_residence_time_percentage</th>\n    </tr>\n  </thead>\n  <tbody>\n    <tr>\n      <th>3078</th>\n      <td>48131</td>\n      <td>17703</td>\n      <td>2020-11-01</td>\n      <td>1</td>\n      <td>277.0</td>\n      <td>Klee Kai</td>\n      <td>NaN</td>\n      <td>NaN</td>\n      <td>1.5</td>\n      <td>1</td>\n      <td>...</td>\n      <td>WA</td>\n      <td>9.0</td>\n      <td>2</td>\n      <td>NaN</td>\n      <td>NaN</td>\n      <td>False</td>\n      <td>NaN</td>\n      <td>NaN</td>\n      <td>NaN</td>\n      <td>NaN</td>\n    </tr>\n  </tbody>\n</table>\n<p>1 rows × 658 columns</p>\n</div>"
     },
     "execution_count": 261,
     "metadata": {},
     "output_type": "execute_result"
    }
   ],
   "source": [
    "df_3 = df[df[\"dog_id\"] == 48131]\n",
    "df_3"
   ],
   "metadata": {
    "collapsed": false
   }
  },
  {
   "cell_type": "code",
   "execution_count": 262,
   "outputs": [
    {
     "name": "stdout",
     "output_type": "stream",
     "text": [
      "File: EnvironmentData_CSV_DAP_2021_ENVIRONMENT_v1.0.csv, Number of Columns: 147\n"
     ]
    }
   ],
   "source": [
    "# Specify the folder path containing CSV files\n",
    "folder_path = 'Dataset/EnvironmentData'\n",
    "\n",
    "# Get a list of all CSV files in the folder\n",
    "csv_files = [file for file in os.listdir(folder_path) if file.endswith('.csv')]\n",
    "\n",
    "# Loop through each CSV file and print the number of columns\n",
    "for csv_file in csv_files:\n",
    "    file_path = os.path.join(folder_path, csv_file)\n",
    "    df = pd.read_csv(file_path)\n",
    "\n",
    "    # Print the file name and the number of columns\n",
    "    print(f\"File: {csv_file}, Number of Columns: {len(df.columns)}\")"
   ],
   "metadata": {
    "collapsed": false
   }
  },
  {
   "cell_type": "code",
   "execution_count": 263,
   "outputs": [
    {
     "name": "stderr",
     "output_type": "stream",
     "text": [
      "/var/folders/zd/3_6frj8s08b9zb1f3y0xqr2r0000gn/T/ipykernel_63733/3211992425.py:10: DtypeWarning: Columns (5,21,75,77,79,81,83,85,87,89,191,192,193,194,195,196,197,198,199,200,201,204,214,285,295,516,566) have mixed types. Specify dtype option on import or set low_memory=False.\n",
      "  df = pd.read_csv(file_path)\n"
     ]
    },
    {
     "name": "stdout",
     "output_type": "stream",
     "text": [
      "File: SurveyData_CSV_DAP_2021_HLES_dog_owner_v1.0.csv, Number of Columns: 658\n",
      "File: SurveyData_CSV_DAP_2021_EOLS_v1.0.csv, Number of Columns: 227\n",
      "File: SurveyData_CSV_DAP_2021_CSLB_v1.0.csv, Number of Columns: 18\n",
      "File: SurveyData_CSV_DAP_2021_AFUS_cancer_conditions_v1.0.csv, Number of Columns: 92\n"
     ]
    },
    {
     "name": "stderr",
     "output_type": "stream",
     "text": [
      "/var/folders/zd/3_6frj8s08b9zb1f3y0xqr2r0000gn/T/ipykernel_63733/3211992425.py:10: DtypeWarning: Columns (36,38,40,42,44,46,48,50,52,54,56,67,70,73,74,75,80,99,195,199,202,207,209,212,348,354,360,366,521,561,735,743) have mixed types. Specify dtype option on import or set low_memory=False.\n",
      "  df = pd.read_csv(file_path)\n"
     ]
    },
    {
     "name": "stdout",
     "output_type": "stream",
     "text": [
      "File: SurveyData_CSV_DAP_2021_AFUS_dog_owner_v1.0.csv, Number of Columns: 750\n",
      "File: SurveyData_CSV_DAP_2021_HLES_health_conditions_v1.0.csv, Number of Columns: 12\n",
      "File: SurveyData_CSV_DAP_2021_AFUS_health_conditions_v1.0.csv, Number of Columns: 14\n",
      "File: SurveyData_CSV_DAP_2021_HLES_cancer_conditions_v1.0.csv, Number of Columns: 90\n"
     ]
    }
   ],
   "source": [
    "# Specify the folder path containing CSV files\n",
    "folder_path = 'Dataset/SurveyData'\n",
    "\n",
    "# Get a list of all CSV files in the folder\n",
    "csv_files = [file for file in os.listdir(folder_path) if file.endswith('.csv')]\n",
    "\n",
    "# Loop through each CSV file and print the number of columns\n",
    "for csv_file in csv_files:\n",
    "    file_path = os.path.join(folder_path, csv_file)\n",
    "    df = pd.read_csv(file_path)\n",
    "\n",
    "    # Print the file name and the number of columns\n",
    "    print(f\"File: {csv_file}, Number of Columns: {len(df.columns)}\")"
   ],
   "metadata": {
    "collapsed": false
   }
  },
  {
   "cell_type": "code",
   "execution_count": 314,
   "outputs": [
    {
     "data": {
      "text/plain": "       dog_id DAP_Pack_Date    Cohort Cohort_Enroll_Date Estimated_DOB  \\\n0           8    2020-08-12  DAP Pack                NaN    2011-02-15   \n1           9    2020-10-28  DAP Pack                NaN    2008-04-15   \n2          11    2020-08-31  DAP Pack                NaN    2011-04-15   \n3          12    2020-09-15  DAP Pack                NaN    2013-08-15   \n4          13    2020-11-22  DAP Pack                NaN    2018-03-15   \n...       ...           ...       ...                ...           ...   \n33167  103633    2021-12-29  DAP Pack                NaN    2014-09-15   \n33168  103637    2021-12-29  DAP Pack                NaN    2019-12-15   \n33169  103643    2021-12-30  DAP Pack                NaN    2020-04-15   \n33170  103647    2021-12-31  DAP Pack                NaN    2016-08-15   \n33171  103658    2021-12-31  DAP Pack                NaN    2010-12-31   \n\n       Estimated_Age_Years_at_HLES  \\\n0                              9.5   \n1                             12.5   \n2                              9.4   \n3                              7.1   \n4                              2.7   \n...                            ...   \n33167                          7.3   \n33168                          2.0   \n33169                          1.7   \n33170                          5.4   \n33171                         11.0   \n\n                                AgeDOB_Estimation_Method  \\\n0      Estimated using owner-reported birth year and ...   \n1      Estimated using owner-reported birth year and ...   \n2      Estimated using owner-reported birth year and ...   \n3      Estimated using owner-reported birth year and ...   \n4      Estimated using owner-reported birth year and ...   \n...                                                  ...   \n33167  Estimated using owner-reported birth year and ...   \n33168  Estimated using owner-reported birth year and ...   \n33169  Estimated using owner-reported birth year and ...   \n33170  Estimated using owner-reported birth year and ...   \n33171                 Estimated using owner-reported age   \n\n      Dog_Reported_Deceased  DOD Breed_Status  ... LifeStage_Class_at_HLES  \\\n0                         N  NaN  Mixed breed  ...            Mature Adult   \n1                         N  NaN     Purebred  ...                  Senior   \n2                         N  NaN     Purebred  ...            Mature Adult   \n3                         N  NaN  Mixed breed  ...            Mature Adult   \n4                         N  NaN     Purebred  ...             Young Adult   \n...                     ...  ...          ...  ...                     ...   \n33167                     N  NaN     Purebred  ...            Mature Adult   \n33168                     N  NaN  Mixed breed  ...             Young Adult   \n33169                     N  NaN  Mixed breed  ...             Young Adult   \n33170                     N  NaN     Purebred  ...            Mature Adult   \n33171                     N  NaN  Mixed breed  ...            Mature Adult   \n\n      CSLB_2020_Complete CSLB_2021_Complete AFUS_2021_Complete EOLS_Complete  \\\n0                      N                  N        NNNNNNNNNNN             N   \n1                      N                  N        NNNNNNNNNNN             N   \n2                      N                  N        NNNNNNNNNNN             N   \n3                      Y                  N        NNNNNNNNNNN             N   \n4                      Y                  Y        NNNNNNNNNNN             N   \n...                  ...                ...                ...           ...   \n33167                  N                  N        NNNNNNNNNNN             N   \n33168                  N                  N        NNNNNNNNNNN             N   \n33169                  N                  N        NNNNNNNNNNN             N   \n33170                  N                  N        NNNNNNNNNNN             N   \n33171                  N                  N        NNNNNNNNNNN             N   \n\n      DNA_Swab_ID PrimaryAddress_HLES SecondaryAddress_HLES  \\\n0             NaN                   Y                     N   \n1             NaN                   Y                     N   \n2             NaN                   Y                     N   \n3             NaN                   Y                     N   \n4             NaN                   Y                     N   \n...           ...                 ...                   ...   \n33167         NaN                   N                     N   \n33168         NaN                   N                     N   \n33169         NaN                   N                     N   \n33170         NaN                   N                     N   \n33171         NaN                   N                     N   \n\n      PrimaryAddress_AFUS2021 SecondaryAddress_AFUS2021  \n0                           N                         N  \n1                           N                         N  \n2                           N                         N  \n3                           N                         N  \n4                           N                         N  \n...                       ...                       ...  \n33167                       N                         N  \n33168                       N                         N  \n33169                       N                         N  \n33170                       N                         N  \n33171                       N                         N  \n\n[33172 rows x 27 columns]",
      "text/html": "<div>\n<style scoped>\n    .dataframe tbody tr th:only-of-type {\n        vertical-align: middle;\n    }\n\n    .dataframe tbody tr th {\n        vertical-align: top;\n    }\n\n    .dataframe thead th {\n        text-align: right;\n    }\n</style>\n<table border=\"1\" class=\"dataframe\">\n  <thead>\n    <tr style=\"text-align: right;\">\n      <th></th>\n      <th>dog_id</th>\n      <th>DAP_Pack_Date</th>\n      <th>Cohort</th>\n      <th>Cohort_Enroll_Date</th>\n      <th>Estimated_DOB</th>\n      <th>Estimated_Age_Years_at_HLES</th>\n      <th>AgeDOB_Estimation_Method</th>\n      <th>Dog_Reported_Deceased</th>\n      <th>DOD</th>\n      <th>Breed_Status</th>\n      <th>...</th>\n      <th>LifeStage_Class_at_HLES</th>\n      <th>CSLB_2020_Complete</th>\n      <th>CSLB_2021_Complete</th>\n      <th>AFUS_2021_Complete</th>\n      <th>EOLS_Complete</th>\n      <th>DNA_Swab_ID</th>\n      <th>PrimaryAddress_HLES</th>\n      <th>SecondaryAddress_HLES</th>\n      <th>PrimaryAddress_AFUS2021</th>\n      <th>SecondaryAddress_AFUS2021</th>\n    </tr>\n  </thead>\n  <tbody>\n    <tr>\n      <th>0</th>\n      <td>8</td>\n      <td>2020-08-12</td>\n      <td>DAP Pack</td>\n      <td>NaN</td>\n      <td>2011-02-15</td>\n      <td>9.5</td>\n      <td>Estimated using owner-reported birth year and ...</td>\n      <td>N</td>\n      <td>NaN</td>\n      <td>Mixed breed</td>\n      <td>...</td>\n      <td>Mature Adult</td>\n      <td>N</td>\n      <td>N</td>\n      <td>NNNNNNNNNNN</td>\n      <td>N</td>\n      <td>NaN</td>\n      <td>Y</td>\n      <td>N</td>\n      <td>N</td>\n      <td>N</td>\n    </tr>\n    <tr>\n      <th>1</th>\n      <td>9</td>\n      <td>2020-10-28</td>\n      <td>DAP Pack</td>\n      <td>NaN</td>\n      <td>2008-04-15</td>\n      <td>12.5</td>\n      <td>Estimated using owner-reported birth year and ...</td>\n      <td>N</td>\n      <td>NaN</td>\n      <td>Purebred</td>\n      <td>...</td>\n      <td>Senior</td>\n      <td>N</td>\n      <td>N</td>\n      <td>NNNNNNNNNNN</td>\n      <td>N</td>\n      <td>NaN</td>\n      <td>Y</td>\n      <td>N</td>\n      <td>N</td>\n      <td>N</td>\n    </tr>\n    <tr>\n      <th>2</th>\n      <td>11</td>\n      <td>2020-08-31</td>\n      <td>DAP Pack</td>\n      <td>NaN</td>\n      <td>2011-04-15</td>\n      <td>9.4</td>\n      <td>Estimated using owner-reported birth year and ...</td>\n      <td>N</td>\n      <td>NaN</td>\n      <td>Purebred</td>\n      <td>...</td>\n      <td>Mature Adult</td>\n      <td>N</td>\n      <td>N</td>\n      <td>NNNNNNNNNNN</td>\n      <td>N</td>\n      <td>NaN</td>\n      <td>Y</td>\n      <td>N</td>\n      <td>N</td>\n      <td>N</td>\n    </tr>\n    <tr>\n      <th>3</th>\n      <td>12</td>\n      <td>2020-09-15</td>\n      <td>DAP Pack</td>\n      <td>NaN</td>\n      <td>2013-08-15</td>\n      <td>7.1</td>\n      <td>Estimated using owner-reported birth year and ...</td>\n      <td>N</td>\n      <td>NaN</td>\n      <td>Mixed breed</td>\n      <td>...</td>\n      <td>Mature Adult</td>\n      <td>Y</td>\n      <td>N</td>\n      <td>NNNNNNNNNNN</td>\n      <td>N</td>\n      <td>NaN</td>\n      <td>Y</td>\n      <td>N</td>\n      <td>N</td>\n      <td>N</td>\n    </tr>\n    <tr>\n      <th>4</th>\n      <td>13</td>\n      <td>2020-11-22</td>\n      <td>DAP Pack</td>\n      <td>NaN</td>\n      <td>2018-03-15</td>\n      <td>2.7</td>\n      <td>Estimated using owner-reported birth year and ...</td>\n      <td>N</td>\n      <td>NaN</td>\n      <td>Purebred</td>\n      <td>...</td>\n      <td>Young Adult</td>\n      <td>Y</td>\n      <td>Y</td>\n      <td>NNNNNNNNNNN</td>\n      <td>N</td>\n      <td>NaN</td>\n      <td>Y</td>\n      <td>N</td>\n      <td>N</td>\n      <td>N</td>\n    </tr>\n    <tr>\n      <th>...</th>\n      <td>...</td>\n      <td>...</td>\n      <td>...</td>\n      <td>...</td>\n      <td>...</td>\n      <td>...</td>\n      <td>...</td>\n      <td>...</td>\n      <td>...</td>\n      <td>...</td>\n      <td>...</td>\n      <td>...</td>\n      <td>...</td>\n      <td>...</td>\n      <td>...</td>\n      <td>...</td>\n      <td>...</td>\n      <td>...</td>\n      <td>...</td>\n      <td>...</td>\n      <td>...</td>\n    </tr>\n    <tr>\n      <th>33167</th>\n      <td>103633</td>\n      <td>2021-12-29</td>\n      <td>DAP Pack</td>\n      <td>NaN</td>\n      <td>2014-09-15</td>\n      <td>7.3</td>\n      <td>Estimated using owner-reported birth year and ...</td>\n      <td>N</td>\n      <td>NaN</td>\n      <td>Purebred</td>\n      <td>...</td>\n      <td>Mature Adult</td>\n      <td>N</td>\n      <td>N</td>\n      <td>NNNNNNNNNNN</td>\n      <td>N</td>\n      <td>NaN</td>\n      <td>N</td>\n      <td>N</td>\n      <td>N</td>\n      <td>N</td>\n    </tr>\n    <tr>\n      <th>33168</th>\n      <td>103637</td>\n      <td>2021-12-29</td>\n      <td>DAP Pack</td>\n      <td>NaN</td>\n      <td>2019-12-15</td>\n      <td>2.0</td>\n      <td>Estimated using owner-reported birth year and ...</td>\n      <td>N</td>\n      <td>NaN</td>\n      <td>Mixed breed</td>\n      <td>...</td>\n      <td>Young Adult</td>\n      <td>N</td>\n      <td>N</td>\n      <td>NNNNNNNNNNN</td>\n      <td>N</td>\n      <td>NaN</td>\n      <td>N</td>\n      <td>N</td>\n      <td>N</td>\n      <td>N</td>\n    </tr>\n    <tr>\n      <th>33169</th>\n      <td>103643</td>\n      <td>2021-12-30</td>\n      <td>DAP Pack</td>\n      <td>NaN</td>\n      <td>2020-04-15</td>\n      <td>1.7</td>\n      <td>Estimated using owner-reported birth year and ...</td>\n      <td>N</td>\n      <td>NaN</td>\n      <td>Mixed breed</td>\n      <td>...</td>\n      <td>Young Adult</td>\n      <td>N</td>\n      <td>N</td>\n      <td>NNNNNNNNNNN</td>\n      <td>N</td>\n      <td>NaN</td>\n      <td>N</td>\n      <td>N</td>\n      <td>N</td>\n      <td>N</td>\n    </tr>\n    <tr>\n      <th>33170</th>\n      <td>103647</td>\n      <td>2021-12-31</td>\n      <td>DAP Pack</td>\n      <td>NaN</td>\n      <td>2016-08-15</td>\n      <td>5.4</td>\n      <td>Estimated using owner-reported birth year and ...</td>\n      <td>N</td>\n      <td>NaN</td>\n      <td>Purebred</td>\n      <td>...</td>\n      <td>Mature Adult</td>\n      <td>N</td>\n      <td>N</td>\n      <td>NNNNNNNNNNN</td>\n      <td>N</td>\n      <td>NaN</td>\n      <td>N</td>\n      <td>N</td>\n      <td>N</td>\n      <td>N</td>\n    </tr>\n    <tr>\n      <th>33171</th>\n      <td>103658</td>\n      <td>2021-12-31</td>\n      <td>DAP Pack</td>\n      <td>NaN</td>\n      <td>2010-12-31</td>\n      <td>11.0</td>\n      <td>Estimated using owner-reported age</td>\n      <td>N</td>\n      <td>NaN</td>\n      <td>Mixed breed</td>\n      <td>...</td>\n      <td>Mature Adult</td>\n      <td>N</td>\n      <td>N</td>\n      <td>NNNNNNNNNNN</td>\n      <td>N</td>\n      <td>NaN</td>\n      <td>N</td>\n      <td>N</td>\n      <td>N</td>\n      <td>N</td>\n    </tr>\n  </tbody>\n</table>\n<p>33172 rows × 27 columns</p>\n</div>"
     },
     "execution_count": 314,
     "metadata": {},
     "output_type": "execute_result"
    }
   ],
   "source": [
    "file_path_DogOverview = \"Dataset/DogOverview/DogOverview_CSV_DAP_2021_DogOverview_v1.0.csv\"\n",
    "df_DogOV = pd.read_csv(file_path_DogOverview)\n",
    "df_DogOV"
   ],
   "metadata": {
    "collapsed": false
   }
  },
  {
   "cell_type": "code",
   "execution_count": 317,
   "outputs": [
    {
     "data": {
      "text/plain": "       dog_id DAP_Pack_Date    Cohort Cohort_Enroll_Date Estimated_DOB  \\\n21169   74227    2020-10-26  DAP Pack                NaN    2018-12-15   \n\n       Estimated_Age_Years_at_HLES  \\\n21169                          1.9   \n\n                                AgeDOB_Estimation_Method  \\\n21169  Estimated using owner-reported birth year and ...   \n\n      Dog_Reported_Deceased  DOD Breed_Status  ... LifeStage_Class_at_HLES  \\\n21169                     N  NaN  Mixed breed  ...             Young Adult   \n\n      CSLB_2020_Complete CSLB_2021_Complete AFUS_2021_Complete EOLS_Complete  \\\n21169                  Y                  Y        YYYYYYYYYYY             N   \n\n      DNA_Swab_ID PrimaryAddress_HLES SecondaryAddress_HLES  \\\n21169         NaN                   Y                     N   \n\n      PrimaryAddress_AFUS2021 SecondaryAddress_AFUS2021  \n21169                       N                         N  \n\n[1 rows x 27 columns]",
      "text/html": "<div>\n<style scoped>\n    .dataframe tbody tr th:only-of-type {\n        vertical-align: middle;\n    }\n\n    .dataframe tbody tr th {\n        vertical-align: top;\n    }\n\n    .dataframe thead th {\n        text-align: right;\n    }\n</style>\n<table border=\"1\" class=\"dataframe\">\n  <thead>\n    <tr style=\"text-align: right;\">\n      <th></th>\n      <th>dog_id</th>\n      <th>DAP_Pack_Date</th>\n      <th>Cohort</th>\n      <th>Cohort_Enroll_Date</th>\n      <th>Estimated_DOB</th>\n      <th>Estimated_Age_Years_at_HLES</th>\n      <th>AgeDOB_Estimation_Method</th>\n      <th>Dog_Reported_Deceased</th>\n      <th>DOD</th>\n      <th>Breed_Status</th>\n      <th>...</th>\n      <th>LifeStage_Class_at_HLES</th>\n      <th>CSLB_2020_Complete</th>\n      <th>CSLB_2021_Complete</th>\n      <th>AFUS_2021_Complete</th>\n      <th>EOLS_Complete</th>\n      <th>DNA_Swab_ID</th>\n      <th>PrimaryAddress_HLES</th>\n      <th>SecondaryAddress_HLES</th>\n      <th>PrimaryAddress_AFUS2021</th>\n      <th>SecondaryAddress_AFUS2021</th>\n    </tr>\n  </thead>\n  <tbody>\n    <tr>\n      <th>21169</th>\n      <td>74227</td>\n      <td>2020-10-26</td>\n      <td>DAP Pack</td>\n      <td>NaN</td>\n      <td>2018-12-15</td>\n      <td>1.9</td>\n      <td>Estimated using owner-reported birth year and ...</td>\n      <td>N</td>\n      <td>NaN</td>\n      <td>Mixed breed</td>\n      <td>...</td>\n      <td>Young Adult</td>\n      <td>Y</td>\n      <td>Y</td>\n      <td>YYYYYYYYYYY</td>\n      <td>N</td>\n      <td>NaN</td>\n      <td>Y</td>\n      <td>N</td>\n      <td>N</td>\n      <td>N</td>\n    </tr>\n  </tbody>\n</table>\n<p>1 rows × 27 columns</p>\n</div>"
     },
     "execution_count": 317,
     "metadata": {},
     "output_type": "execute_result"
    }
   ],
   "source": [
    "df_1 = df_DogOV[df_DogOV[\"dog_id\"] == 74227]\n",
    "df_1"
   ],
   "metadata": {
    "collapsed": false
   }
  },
  {
   "cell_type": "code",
   "execution_count": 318,
   "outputs": [
    {
     "data": {
      "text/plain": "0           Labrador Retriever\n1            Italian Greyhound\n2           Labrador Retriever\n3               Siberian Husky\n4             Golden Retriever\n                 ...          \n33167    Australian Cattle Dog\n33168         Golden Retriever\n33169                   Poodle\n33170            Border Collie\n33171            Border Collie\nName: Breed, Length: 33172, dtype: object"
     },
     "execution_count": 318,
     "metadata": {},
     "output_type": "execute_result"
    }
   ],
   "source": [
    "# added Step of taking the first breed label if 2 are given with a / inbetween\n",
    "df_DogOV['Breed'] = df_DogOV['Breed'].str.split('/').str[0]\n",
    "df_DogOV['Breed']"
   ],
   "metadata": {
    "collapsed": false
   }
  },
  {
   "cell_type": "code",
   "execution_count": 319,
   "outputs": [
    {
     "data": {
      "text/plain": "       dog_id DAP_Pack_Date      Cohort Cohort_Enroll_Date Estimated_DOB  \\\n13398   48131    2020-11-01  Foundation         2021-06-23    2019-04-15   \n\n       Estimated_Age_Years_at_HLES  \\\n13398                          1.5   \n\n                                AgeDOB_Estimation_Method  \\\n13398  Estimated using owner-reported birth year and ...   \n\n      Dog_Reported_Deceased  DOD Breed_Status  ... LifeStage_Class_at_HLES  \\\n13398                     N  NaN     Purebred  ...             Young Adult   \n\n      CSLB_2020_Complete CSLB_2021_Complete AFUS_2021_Complete EOLS_Complete  \\\n13398                  Y                  Y        YYYYYYYYYYY             N   \n\n        DNA_Swab_ID PrimaryAddress_HLES SecondaryAddress_HLES  \\\n13398  3.102006e+13                   Y                     N   \n\n      PrimaryAddress_AFUS2021 SecondaryAddress_AFUS2021  \n13398                       N                         N  \n\n[1 rows x 27 columns]",
      "text/html": "<div>\n<style scoped>\n    .dataframe tbody tr th:only-of-type {\n        vertical-align: middle;\n    }\n\n    .dataframe tbody tr th {\n        vertical-align: top;\n    }\n\n    .dataframe thead th {\n        text-align: right;\n    }\n</style>\n<table border=\"1\" class=\"dataframe\">\n  <thead>\n    <tr style=\"text-align: right;\">\n      <th></th>\n      <th>dog_id</th>\n      <th>DAP_Pack_Date</th>\n      <th>Cohort</th>\n      <th>Cohort_Enroll_Date</th>\n      <th>Estimated_DOB</th>\n      <th>Estimated_Age_Years_at_HLES</th>\n      <th>AgeDOB_Estimation_Method</th>\n      <th>Dog_Reported_Deceased</th>\n      <th>DOD</th>\n      <th>Breed_Status</th>\n      <th>...</th>\n      <th>LifeStage_Class_at_HLES</th>\n      <th>CSLB_2020_Complete</th>\n      <th>CSLB_2021_Complete</th>\n      <th>AFUS_2021_Complete</th>\n      <th>EOLS_Complete</th>\n      <th>DNA_Swab_ID</th>\n      <th>PrimaryAddress_HLES</th>\n      <th>SecondaryAddress_HLES</th>\n      <th>PrimaryAddress_AFUS2021</th>\n      <th>SecondaryAddress_AFUS2021</th>\n    </tr>\n  </thead>\n  <tbody>\n    <tr>\n      <th>13398</th>\n      <td>48131</td>\n      <td>2020-11-01</td>\n      <td>Foundation</td>\n      <td>2021-06-23</td>\n      <td>2019-04-15</td>\n      <td>1.5</td>\n      <td>Estimated using owner-reported birth year and ...</td>\n      <td>N</td>\n      <td>NaN</td>\n      <td>Purebred</td>\n      <td>...</td>\n      <td>Young Adult</td>\n      <td>Y</td>\n      <td>Y</td>\n      <td>YYYYYYYYYYY</td>\n      <td>N</td>\n      <td>3.102006e+13</td>\n      <td>Y</td>\n      <td>N</td>\n      <td>N</td>\n      <td>N</td>\n    </tr>\n  </tbody>\n</table>\n<p>1 rows × 27 columns</p>\n</div>"
     },
     "execution_count": 319,
     "metadata": {},
     "output_type": "execute_result"
    }
   ],
   "source": [
    "df_2 = df_DogOV[df_DogOV[\"Breed\"] == \"Klee Kai\"]\n",
    "df_2"
   ],
   "metadata": {
    "collapsed": false
   }
  },
  {
   "cell_type": "code",
   "execution_count": 320,
   "outputs": [
    {
     "data": {
      "text/plain": "dog_id\n8         1\n77173     1\n77269     1\n77267     1\n77263     1\n         ..\n39855     1\n39851     1\n39846     1\n39845     1\n103658    1\nName: count, Length: 33172, dtype: int64"
     },
     "execution_count": 320,
     "metadata": {},
     "output_type": "execute_result"
    }
   ],
   "source": [
    "df_DogOV[\"dog_id\"].value_counts()"
   ],
   "metadata": {
    "collapsed": false
   }
  },
  {
   "cell_type": "code",
   "execution_count": 321,
   "outputs": [
    {
     "data": {
      "text/plain": "       Breed Type         Sub Breed Breed Group                    Breed\n529  Working dogs          Shepherd    Shepherd          German Pinscher\n530  Working dogs          Shepherd    Shepherd          German Shepherd\n531  Working dogs          Shepherd    Shepherd      German Shepherd Dog\n532  Working dogs          Shepherd    Shepherd      German Shepherd Mix\n533  Working dogs          Shepherd    Shepherd                 Hovawart\n534  Working dogs          Shepherd    Shepherd                 Malinois\n535  Working dogs  Shepherd - Other    Shepherd  American White Shepherd\n536  Working dogs  Shepherd - Other    Shepherd                Beauceron\n537  Working dogs  Shepherd - Other    Shepherd                Blue Lacy\n538  Working dogs  Shepherd - Other    Shepherd               Blue Lacey\n539  Working dogs  Shepherd - Other    Shepherd      Caucasian Ovtcharka\n540  Working dogs  Shepherd - Other    Shepherd  Central Asian Ovtcharka\n541  Working dogs  Shepherd - Other    Shepherd           Dutch Shepherd\n542  Working dogs  Shepherd - Other    Shepherd              Groenendael\n543  Working dogs  Shepherd - Other    Shepherd            King Shepherd\n544  Working dogs  Shepherd - Other    Shepherd              Sarplaninac\n545  Working dogs  Shepherd - Other    Shepherd          Shiloh Shepherd\n546  Working dogs  Shepherd - Other    Shepherd          shiloh shepherd\n547  Working dogs  Shepherd - Other    Shepherd      Shiloh Shepherd Mix\n548  Working dogs  Shepherd - Other    Shepherd                 Tervuren",
      "text/html": "<div>\n<style scoped>\n    .dataframe tbody tr th:only-of-type {\n        vertical-align: middle;\n    }\n\n    .dataframe tbody tr th {\n        vertical-align: top;\n    }\n\n    .dataframe thead th {\n        text-align: right;\n    }\n</style>\n<table border=\"1\" class=\"dataframe\">\n  <thead>\n    <tr style=\"text-align: right;\">\n      <th></th>\n      <th>Breed Type</th>\n      <th>Sub Breed</th>\n      <th>Breed Group</th>\n      <th>Breed</th>\n    </tr>\n  </thead>\n  <tbody>\n    <tr>\n      <th>529</th>\n      <td>Working dogs</td>\n      <td>Shepherd</td>\n      <td>Shepherd</td>\n      <td>German Pinscher</td>\n    </tr>\n    <tr>\n      <th>530</th>\n      <td>Working dogs</td>\n      <td>Shepherd</td>\n      <td>Shepherd</td>\n      <td>German Shepherd</td>\n    </tr>\n    <tr>\n      <th>531</th>\n      <td>Working dogs</td>\n      <td>Shepherd</td>\n      <td>Shepherd</td>\n      <td>German Shepherd Dog</td>\n    </tr>\n    <tr>\n      <th>532</th>\n      <td>Working dogs</td>\n      <td>Shepherd</td>\n      <td>Shepherd</td>\n      <td>German Shepherd Mix</td>\n    </tr>\n    <tr>\n      <th>533</th>\n      <td>Working dogs</td>\n      <td>Shepherd</td>\n      <td>Shepherd</td>\n      <td>Hovawart</td>\n    </tr>\n    <tr>\n      <th>534</th>\n      <td>Working dogs</td>\n      <td>Shepherd</td>\n      <td>Shepherd</td>\n      <td>Malinois</td>\n    </tr>\n    <tr>\n      <th>535</th>\n      <td>Working dogs</td>\n      <td>Shepherd - Other</td>\n      <td>Shepherd</td>\n      <td>American White Shepherd</td>\n    </tr>\n    <tr>\n      <th>536</th>\n      <td>Working dogs</td>\n      <td>Shepherd - Other</td>\n      <td>Shepherd</td>\n      <td>Beauceron</td>\n    </tr>\n    <tr>\n      <th>537</th>\n      <td>Working dogs</td>\n      <td>Shepherd - Other</td>\n      <td>Shepherd</td>\n      <td>Blue Lacy</td>\n    </tr>\n    <tr>\n      <th>538</th>\n      <td>Working dogs</td>\n      <td>Shepherd - Other</td>\n      <td>Shepherd</td>\n      <td>Blue Lacey</td>\n    </tr>\n    <tr>\n      <th>539</th>\n      <td>Working dogs</td>\n      <td>Shepherd - Other</td>\n      <td>Shepherd</td>\n      <td>Caucasian Ovtcharka</td>\n    </tr>\n    <tr>\n      <th>540</th>\n      <td>Working dogs</td>\n      <td>Shepherd - Other</td>\n      <td>Shepherd</td>\n      <td>Central Asian Ovtcharka</td>\n    </tr>\n    <tr>\n      <th>541</th>\n      <td>Working dogs</td>\n      <td>Shepherd - Other</td>\n      <td>Shepherd</td>\n      <td>Dutch Shepherd</td>\n    </tr>\n    <tr>\n      <th>542</th>\n      <td>Working dogs</td>\n      <td>Shepherd - Other</td>\n      <td>Shepherd</td>\n      <td>Groenendael</td>\n    </tr>\n    <tr>\n      <th>543</th>\n      <td>Working dogs</td>\n      <td>Shepherd - Other</td>\n      <td>Shepherd</td>\n      <td>King Shepherd</td>\n    </tr>\n    <tr>\n      <th>544</th>\n      <td>Working dogs</td>\n      <td>Shepherd - Other</td>\n      <td>Shepherd</td>\n      <td>Sarplaninac</td>\n    </tr>\n    <tr>\n      <th>545</th>\n      <td>Working dogs</td>\n      <td>Shepherd - Other</td>\n      <td>Shepherd</td>\n      <td>Shiloh Shepherd</td>\n    </tr>\n    <tr>\n      <th>546</th>\n      <td>Working dogs</td>\n      <td>Shepherd - Other</td>\n      <td>Shepherd</td>\n      <td>shiloh shepherd</td>\n    </tr>\n    <tr>\n      <th>547</th>\n      <td>Working dogs</td>\n      <td>Shepherd - Other</td>\n      <td>Shepherd</td>\n      <td>Shiloh Shepherd Mix</td>\n    </tr>\n    <tr>\n      <th>548</th>\n      <td>Working dogs</td>\n      <td>Shepherd - Other</td>\n      <td>Shepherd</td>\n      <td>Tervuren</td>\n    </tr>\n  </tbody>\n</table>\n</div>"
     },
     "execution_count": 321,
     "metadata": {},
     "output_type": "execute_result"
    }
   ],
   "source": [
    "file_path_breeds = \"breed_grouping.csv\"\n",
    "df_breeds = pd.read_csv(\"Dataset/Supplementary_data/breed_grouping.csv\", delimiter=\";\", encoding=\"ISO-8859-1\")\n",
    "df_breeds.tail(20)"
   ],
   "metadata": {
    "collapsed": false
   }
  },
  {
   "cell_type": "code",
   "execution_count": 322,
   "outputs": [],
   "source": [
    "#df_breeds[\"Breed Type\"].value_counts()\n",
    "#df_breeds[\"Sub Breed\"].value_counts()\n",
    "#df_breeds[\"Breed Group\"].value_counts()"
   ],
   "metadata": {
    "collapsed": false
   }
  },
  {
   "cell_type": "code",
   "execution_count": 324,
   "outputs": [
    {
     "data": {
      "text/plain": "       dog_id DAP_Pack_Date    Cohort Cohort_Enroll_Date Estimated_DOB  \\\n0           8    2020-08-12  DAP Pack                NaN    2011-02-15   \n1           9    2020-10-28  DAP Pack                NaN    2008-04-15   \n2          11    2020-08-31  DAP Pack                NaN    2011-04-15   \n3          12    2020-09-15  DAP Pack                NaN    2013-08-15   \n4          13    2020-11-22  DAP Pack                NaN    2018-03-15   \n...       ...           ...       ...                ...           ...   \n33172  103633    2021-12-29  DAP Pack                NaN    2014-09-15   \n33173  103637    2021-12-29  DAP Pack                NaN    2019-12-15   \n33174  103643    2021-12-30  DAP Pack                NaN    2020-04-15   \n33175  103647    2021-12-31  DAP Pack                NaN    2016-08-15   \n33176  103658    2021-12-31  DAP Pack                NaN    2010-12-31   \n\n       Estimated_Age_Years_at_HLES  \\\n0                              9.5   \n1                             12.5   \n2                              9.4   \n3                              7.1   \n4                              2.7   \n...                            ...   \n33172                          7.3   \n33173                          2.0   \n33174                          1.7   \n33175                          5.4   \n33176                         11.0   \n\n                                AgeDOB_Estimation_Method  \\\n0      Estimated using owner-reported birth year and ...   \n1      Estimated using owner-reported birth year and ...   \n2      Estimated using owner-reported birth year and ...   \n3      Estimated using owner-reported birth year and ...   \n4      Estimated using owner-reported birth year and ...   \n...                                                  ...   \n33172  Estimated using owner-reported birth year and ...   \n33173  Estimated using owner-reported birth year and ...   \n33174  Estimated using owner-reported birth year and ...   \n33175  Estimated using owner-reported birth year and ...   \n33176                 Estimated using owner-reported age   \n\n      Dog_Reported_Deceased  DOD Breed_Status  ... AFUS_2021_Complete  \\\n0                         N  NaN  Mixed breed  ...        NNNNNNNNNNN   \n1                         N  NaN     Purebred  ...        NNNNNNNNNNN   \n2                         N  NaN     Purebred  ...        NNNNNNNNNNN   \n3                         N  NaN  Mixed breed  ...        NNNNNNNNNNN   \n4                         N  NaN     Purebred  ...        NNNNNNNNNNN   \n...                     ...  ...          ...  ...                ...   \n33172                     N  NaN     Purebred  ...        NNNNNNNNNNN   \n33173                     N  NaN  Mixed breed  ...        NNNNNNNNNNN   \n33174                     N  NaN  Mixed breed  ...        NNNNNNNNNNN   \n33175                     N  NaN     Purebred  ...        NNNNNNNNNNN   \n33176                     N  NaN  Mixed breed  ...        NNNNNNNNNNN   \n\n      EOLS_Complete DNA_Swab_ID PrimaryAddress_HLES SecondaryAddress_HLES  \\\n0                 N         NaN                   Y                     N   \n1                 N         NaN                   Y                     N   \n2                 N         NaN                   Y                     N   \n3                 N         NaN                   Y                     N   \n4                 N         NaN                   Y                     N   \n...             ...         ...                 ...                   ...   \n33172             N         NaN                   N                     N   \n33173             N         NaN                   N                     N   \n33174             N         NaN                   N                     N   \n33175             N         NaN                   N                     N   \n33176             N         NaN                   N                     N   \n\n      PrimaryAddress_AFUS2021 SecondaryAddress_AFUS2021         Breed Type  \\\n0                           N                         N          Retriever   \n1                           N                         N       Herding dogs   \n2                           N                         N          Retriever   \n3                           N                         N  Ancient and Spitz   \n4                           N                         N          Retriever   \n...                       ...                       ...                ...   \n33172                       N                         N       Herding dogs   \n33173                       N                         N          Retriever   \n33174                       N                         N       Working dogs   \n33175                       N                         N       Herding dogs   \n33176                       N                         N       Herding dogs   \n\n                     Sub Breed               Breed Group  \n0                         Labs                      Labs  \n1                 Sight Hounds      Herding dogs - Other  \n2                         Labs                      Labs  \n3            Ancient and Spitz         Ancient and Spitz  \n4                       Golden                    Golden  \n...                        ...                       ...  \n33172               Australian           Australian-like  \n33173                   Golden                    Golden  \n33174                Non-sport  Working dogs - Non-sport  \n33175  Collie, Corgi, Sheepdog           Australian-like  \n33176  Collie, Corgi, Sheepdog           Australian-like  \n\n[33177 rows x 30 columns]",
      "text/html": "<div>\n<style scoped>\n    .dataframe tbody tr th:only-of-type {\n        vertical-align: middle;\n    }\n\n    .dataframe tbody tr th {\n        vertical-align: top;\n    }\n\n    .dataframe thead th {\n        text-align: right;\n    }\n</style>\n<table border=\"1\" class=\"dataframe\">\n  <thead>\n    <tr style=\"text-align: right;\">\n      <th></th>\n      <th>dog_id</th>\n      <th>DAP_Pack_Date</th>\n      <th>Cohort</th>\n      <th>Cohort_Enroll_Date</th>\n      <th>Estimated_DOB</th>\n      <th>Estimated_Age_Years_at_HLES</th>\n      <th>AgeDOB_Estimation_Method</th>\n      <th>Dog_Reported_Deceased</th>\n      <th>DOD</th>\n      <th>Breed_Status</th>\n      <th>...</th>\n      <th>AFUS_2021_Complete</th>\n      <th>EOLS_Complete</th>\n      <th>DNA_Swab_ID</th>\n      <th>PrimaryAddress_HLES</th>\n      <th>SecondaryAddress_HLES</th>\n      <th>PrimaryAddress_AFUS2021</th>\n      <th>SecondaryAddress_AFUS2021</th>\n      <th>Breed Type</th>\n      <th>Sub Breed</th>\n      <th>Breed Group</th>\n    </tr>\n  </thead>\n  <tbody>\n    <tr>\n      <th>0</th>\n      <td>8</td>\n      <td>2020-08-12</td>\n      <td>DAP Pack</td>\n      <td>NaN</td>\n      <td>2011-02-15</td>\n      <td>9.5</td>\n      <td>Estimated using owner-reported birth year and ...</td>\n      <td>N</td>\n      <td>NaN</td>\n      <td>Mixed breed</td>\n      <td>...</td>\n      <td>NNNNNNNNNNN</td>\n      <td>N</td>\n      <td>NaN</td>\n      <td>Y</td>\n      <td>N</td>\n      <td>N</td>\n      <td>N</td>\n      <td>Retriever</td>\n      <td>Labs</td>\n      <td>Labs</td>\n    </tr>\n    <tr>\n      <th>1</th>\n      <td>9</td>\n      <td>2020-10-28</td>\n      <td>DAP Pack</td>\n      <td>NaN</td>\n      <td>2008-04-15</td>\n      <td>12.5</td>\n      <td>Estimated using owner-reported birth year and ...</td>\n      <td>N</td>\n      <td>NaN</td>\n      <td>Purebred</td>\n      <td>...</td>\n      <td>NNNNNNNNNNN</td>\n      <td>N</td>\n      <td>NaN</td>\n      <td>Y</td>\n      <td>N</td>\n      <td>N</td>\n      <td>N</td>\n      <td>Herding dogs</td>\n      <td>Sight Hounds</td>\n      <td>Herding dogs - Other</td>\n    </tr>\n    <tr>\n      <th>2</th>\n      <td>11</td>\n      <td>2020-08-31</td>\n      <td>DAP Pack</td>\n      <td>NaN</td>\n      <td>2011-04-15</td>\n      <td>9.4</td>\n      <td>Estimated using owner-reported birth year and ...</td>\n      <td>N</td>\n      <td>NaN</td>\n      <td>Purebred</td>\n      <td>...</td>\n      <td>NNNNNNNNNNN</td>\n      <td>N</td>\n      <td>NaN</td>\n      <td>Y</td>\n      <td>N</td>\n      <td>N</td>\n      <td>N</td>\n      <td>Retriever</td>\n      <td>Labs</td>\n      <td>Labs</td>\n    </tr>\n    <tr>\n      <th>3</th>\n      <td>12</td>\n      <td>2020-09-15</td>\n      <td>DAP Pack</td>\n      <td>NaN</td>\n      <td>2013-08-15</td>\n      <td>7.1</td>\n      <td>Estimated using owner-reported birth year and ...</td>\n      <td>N</td>\n      <td>NaN</td>\n      <td>Mixed breed</td>\n      <td>...</td>\n      <td>NNNNNNNNNNN</td>\n      <td>N</td>\n      <td>NaN</td>\n      <td>Y</td>\n      <td>N</td>\n      <td>N</td>\n      <td>N</td>\n      <td>Ancient and Spitz</td>\n      <td>Ancient and Spitz</td>\n      <td>Ancient and Spitz</td>\n    </tr>\n    <tr>\n      <th>4</th>\n      <td>13</td>\n      <td>2020-11-22</td>\n      <td>DAP Pack</td>\n      <td>NaN</td>\n      <td>2018-03-15</td>\n      <td>2.7</td>\n      <td>Estimated using owner-reported birth year and ...</td>\n      <td>N</td>\n      <td>NaN</td>\n      <td>Purebred</td>\n      <td>...</td>\n      <td>NNNNNNNNNNN</td>\n      <td>N</td>\n      <td>NaN</td>\n      <td>Y</td>\n      <td>N</td>\n      <td>N</td>\n      <td>N</td>\n      <td>Retriever</td>\n      <td>Golden</td>\n      <td>Golden</td>\n    </tr>\n    <tr>\n      <th>...</th>\n      <td>...</td>\n      <td>...</td>\n      <td>...</td>\n      <td>...</td>\n      <td>...</td>\n      <td>...</td>\n      <td>...</td>\n      <td>...</td>\n      <td>...</td>\n      <td>...</td>\n      <td>...</td>\n      <td>...</td>\n      <td>...</td>\n      <td>...</td>\n      <td>...</td>\n      <td>...</td>\n      <td>...</td>\n      <td>...</td>\n      <td>...</td>\n      <td>...</td>\n      <td>...</td>\n    </tr>\n    <tr>\n      <th>33172</th>\n      <td>103633</td>\n      <td>2021-12-29</td>\n      <td>DAP Pack</td>\n      <td>NaN</td>\n      <td>2014-09-15</td>\n      <td>7.3</td>\n      <td>Estimated using owner-reported birth year and ...</td>\n      <td>N</td>\n      <td>NaN</td>\n      <td>Purebred</td>\n      <td>...</td>\n      <td>NNNNNNNNNNN</td>\n      <td>N</td>\n      <td>NaN</td>\n      <td>N</td>\n      <td>N</td>\n      <td>N</td>\n      <td>N</td>\n      <td>Herding dogs</td>\n      <td>Australian</td>\n      <td>Australian-like</td>\n    </tr>\n    <tr>\n      <th>33173</th>\n      <td>103637</td>\n      <td>2021-12-29</td>\n      <td>DAP Pack</td>\n      <td>NaN</td>\n      <td>2019-12-15</td>\n      <td>2.0</td>\n      <td>Estimated using owner-reported birth year and ...</td>\n      <td>N</td>\n      <td>NaN</td>\n      <td>Mixed breed</td>\n      <td>...</td>\n      <td>NNNNNNNNNNN</td>\n      <td>N</td>\n      <td>NaN</td>\n      <td>N</td>\n      <td>N</td>\n      <td>N</td>\n      <td>N</td>\n      <td>Retriever</td>\n      <td>Golden</td>\n      <td>Golden</td>\n    </tr>\n    <tr>\n      <th>33174</th>\n      <td>103643</td>\n      <td>2021-12-30</td>\n      <td>DAP Pack</td>\n      <td>NaN</td>\n      <td>2020-04-15</td>\n      <td>1.7</td>\n      <td>Estimated using owner-reported birth year and ...</td>\n      <td>N</td>\n      <td>NaN</td>\n      <td>Mixed breed</td>\n      <td>...</td>\n      <td>NNNNNNNNNNN</td>\n      <td>N</td>\n      <td>NaN</td>\n      <td>N</td>\n      <td>N</td>\n      <td>N</td>\n      <td>N</td>\n      <td>Working dogs</td>\n      <td>Non-sport</td>\n      <td>Working dogs - Non-sport</td>\n    </tr>\n    <tr>\n      <th>33175</th>\n      <td>103647</td>\n      <td>2021-12-31</td>\n      <td>DAP Pack</td>\n      <td>NaN</td>\n      <td>2016-08-15</td>\n      <td>5.4</td>\n      <td>Estimated using owner-reported birth year and ...</td>\n      <td>N</td>\n      <td>NaN</td>\n      <td>Purebred</td>\n      <td>...</td>\n      <td>NNNNNNNNNNN</td>\n      <td>N</td>\n      <td>NaN</td>\n      <td>N</td>\n      <td>N</td>\n      <td>N</td>\n      <td>N</td>\n      <td>Herding dogs</td>\n      <td>Collie, Corgi, Sheepdog</td>\n      <td>Australian-like</td>\n    </tr>\n    <tr>\n      <th>33176</th>\n      <td>103658</td>\n      <td>2021-12-31</td>\n      <td>DAP Pack</td>\n      <td>NaN</td>\n      <td>2010-12-31</td>\n      <td>11.0</td>\n      <td>Estimated using owner-reported age</td>\n      <td>N</td>\n      <td>NaN</td>\n      <td>Mixed breed</td>\n      <td>...</td>\n      <td>NNNNNNNNNNN</td>\n      <td>N</td>\n      <td>NaN</td>\n      <td>N</td>\n      <td>N</td>\n      <td>N</td>\n      <td>N</td>\n      <td>Herding dogs</td>\n      <td>Collie, Corgi, Sheepdog</td>\n      <td>Australian-like</td>\n    </tr>\n  </tbody>\n</table>\n<p>33177 rows × 30 columns</p>\n</div>"
     },
     "execution_count": 324,
     "metadata": {},
     "output_type": "execute_result"
    }
   ],
   "source": [
    "# Merge the two DataFrames based on the 'breed' column\n",
    "merged_DogOV_breeds = pd.merge(df_DogOV, df_breeds, on='Breed', how='left')\n",
    "merged_DogOV_breeds"
   ],
   "metadata": {
    "collapsed": false
   }
  },
  {
   "cell_type": "code",
   "execution_count": 335,
   "outputs": [
    {
     "data": {
      "text/plain": "       dog_id DAP_Pack_Date    Cohort Cohort_Enroll_Date Estimated_DOB  \\\n0           8    2020-08-12  DAP Pack                NaN    2011-02-15   \n1           9    2020-10-28  DAP Pack                NaN    2008-04-15   \n2          11    2020-08-31  DAP Pack                NaN    2011-04-15   \n3          12    2020-09-15  DAP Pack                NaN    2013-08-15   \n4          13    2020-11-22  DAP Pack                NaN    2018-03-15   \n...       ...           ...       ...                ...           ...   \n33172  103633    2021-12-29  DAP Pack                NaN    2014-09-15   \n33173  103637    2021-12-29  DAP Pack                NaN    2019-12-15   \n33174  103643    2021-12-30  DAP Pack                NaN    2020-04-15   \n33175  103647    2021-12-31  DAP Pack                NaN    2016-08-15   \n33176  103658    2021-12-31  DAP Pack                NaN    2010-12-31   \n\n       Estimated_Age_Years_at_HLES  \\\n0                              9.5   \n1                             12.5   \n2                              9.4   \n3                              7.1   \n4                              2.7   \n...                            ...   \n33172                          7.3   \n33173                          2.0   \n33174                          1.7   \n33175                          5.4   \n33176                         11.0   \n\n                                AgeDOB_Estimation_Method  \\\n0      Estimated using owner-reported birth year and ...   \n1      Estimated using owner-reported birth year and ...   \n2      Estimated using owner-reported birth year and ...   \n3      Estimated using owner-reported birth year and ...   \n4      Estimated using owner-reported birth year and ...   \n...                                                  ...   \n33172  Estimated using owner-reported birth year and ...   \n33173  Estimated using owner-reported birth year and ...   \n33174  Estimated using owner-reported birth year and ...   \n33175  Estimated using owner-reported birth year and ...   \n33176                 Estimated using owner-reported age   \n\n      Dog_Reported_Deceased  DOD Breed_Status  ... AFUS_2021_Complete  \\\n0                         N  NaN  Mixed breed  ...        NNNNNNNNNNN   \n1                         N  NaN     Purebred  ...        NNNNNNNNNNN   \n2                         N  NaN     Purebred  ...        NNNNNNNNNNN   \n3                         N  NaN  Mixed breed  ...        NNNNNNNNNNN   \n4                         N  NaN     Purebred  ...        NNNNNNNNNNN   \n...                     ...  ...          ...  ...                ...   \n33172                     N  NaN     Purebred  ...        NNNNNNNNNNN   \n33173                     N  NaN  Mixed breed  ...        NNNNNNNNNNN   \n33174                     N  NaN  Mixed breed  ...        NNNNNNNNNNN   \n33175                     N  NaN     Purebred  ...        NNNNNNNNNNN   \n33176                     N  NaN  Mixed breed  ...        NNNNNNNNNNN   \n\n      EOLS_Complete DNA_Swab_ID PrimaryAddress_HLES SecondaryAddress_HLES  \\\n0                 N         NaN                   Y                     N   \n1                 N         NaN                   Y                     N   \n2                 N         NaN                   Y                     N   \n3                 N         NaN                   Y                     N   \n4                 N         NaN                   Y                     N   \n...             ...         ...                 ...                   ...   \n33172             N         NaN                   N                     N   \n33173             N         NaN                   N                     N   \n33174             N         NaN                   N                     N   \n33175             N         NaN                   N                     N   \n33176             N         NaN                   N                     N   \n\n      PrimaryAddress_AFUS2021 SecondaryAddress_AFUS2021         Breed Type  \\\n0                           N                         N          Retriever   \n1                           N                         N       Herding dogs   \n2                           N                         N          Retriever   \n3                           N                         N  Ancient and Spitz   \n4                           N                         N          Retriever   \n...                       ...                       ...                ...   \n33172                       N                         N       Herding dogs   \n33173                       N                         N          Retriever   \n33174                       N                         N       Working dogs   \n33175                       N                         N       Herding dogs   \n33176                       N                         N       Herding dogs   \n\n                     Sub Breed               Breed Group  \n0                         Labs                      Labs  \n1                 Sight Hounds      Herding dogs - Other  \n2                         Labs                      Labs  \n3            Ancient and Spitz         Ancient and Spitz  \n4                       Golden                    Golden  \n...                        ...                       ...  \n33172               Australian           Australian-like  \n33173                   Golden                    Golden  \n33174                Non-sport  Working dogs - Non-sport  \n33175  Collie, Corgi, Sheepdog           Australian-like  \n33176  Collie, Corgi, Sheepdog           Australian-like  \n\n[33172 rows x 30 columns]",
      "text/html": "<div>\n<style scoped>\n    .dataframe tbody tr th:only-of-type {\n        vertical-align: middle;\n    }\n\n    .dataframe tbody tr th {\n        vertical-align: top;\n    }\n\n    .dataframe thead th {\n        text-align: right;\n    }\n</style>\n<table border=\"1\" class=\"dataframe\">\n  <thead>\n    <tr style=\"text-align: right;\">\n      <th></th>\n      <th>dog_id</th>\n      <th>DAP_Pack_Date</th>\n      <th>Cohort</th>\n      <th>Cohort_Enroll_Date</th>\n      <th>Estimated_DOB</th>\n      <th>Estimated_Age_Years_at_HLES</th>\n      <th>AgeDOB_Estimation_Method</th>\n      <th>Dog_Reported_Deceased</th>\n      <th>DOD</th>\n      <th>Breed_Status</th>\n      <th>...</th>\n      <th>AFUS_2021_Complete</th>\n      <th>EOLS_Complete</th>\n      <th>DNA_Swab_ID</th>\n      <th>PrimaryAddress_HLES</th>\n      <th>SecondaryAddress_HLES</th>\n      <th>PrimaryAddress_AFUS2021</th>\n      <th>SecondaryAddress_AFUS2021</th>\n      <th>Breed Type</th>\n      <th>Sub Breed</th>\n      <th>Breed Group</th>\n    </tr>\n  </thead>\n  <tbody>\n    <tr>\n      <th>0</th>\n      <td>8</td>\n      <td>2020-08-12</td>\n      <td>DAP Pack</td>\n      <td>NaN</td>\n      <td>2011-02-15</td>\n      <td>9.5</td>\n      <td>Estimated using owner-reported birth year and ...</td>\n      <td>N</td>\n      <td>NaN</td>\n      <td>Mixed breed</td>\n      <td>...</td>\n      <td>NNNNNNNNNNN</td>\n      <td>N</td>\n      <td>NaN</td>\n      <td>Y</td>\n      <td>N</td>\n      <td>N</td>\n      <td>N</td>\n      <td>Retriever</td>\n      <td>Labs</td>\n      <td>Labs</td>\n    </tr>\n    <tr>\n      <th>1</th>\n      <td>9</td>\n      <td>2020-10-28</td>\n      <td>DAP Pack</td>\n      <td>NaN</td>\n      <td>2008-04-15</td>\n      <td>12.5</td>\n      <td>Estimated using owner-reported birth year and ...</td>\n      <td>N</td>\n      <td>NaN</td>\n      <td>Purebred</td>\n      <td>...</td>\n      <td>NNNNNNNNNNN</td>\n      <td>N</td>\n      <td>NaN</td>\n      <td>Y</td>\n      <td>N</td>\n      <td>N</td>\n      <td>N</td>\n      <td>Herding dogs</td>\n      <td>Sight Hounds</td>\n      <td>Herding dogs - Other</td>\n    </tr>\n    <tr>\n      <th>2</th>\n      <td>11</td>\n      <td>2020-08-31</td>\n      <td>DAP Pack</td>\n      <td>NaN</td>\n      <td>2011-04-15</td>\n      <td>9.4</td>\n      <td>Estimated using owner-reported birth year and ...</td>\n      <td>N</td>\n      <td>NaN</td>\n      <td>Purebred</td>\n      <td>...</td>\n      <td>NNNNNNNNNNN</td>\n      <td>N</td>\n      <td>NaN</td>\n      <td>Y</td>\n      <td>N</td>\n      <td>N</td>\n      <td>N</td>\n      <td>Retriever</td>\n      <td>Labs</td>\n      <td>Labs</td>\n    </tr>\n    <tr>\n      <th>3</th>\n      <td>12</td>\n      <td>2020-09-15</td>\n      <td>DAP Pack</td>\n      <td>NaN</td>\n      <td>2013-08-15</td>\n      <td>7.1</td>\n      <td>Estimated using owner-reported birth year and ...</td>\n      <td>N</td>\n      <td>NaN</td>\n      <td>Mixed breed</td>\n      <td>...</td>\n      <td>NNNNNNNNNNN</td>\n      <td>N</td>\n      <td>NaN</td>\n      <td>Y</td>\n      <td>N</td>\n      <td>N</td>\n      <td>N</td>\n      <td>Ancient and Spitz</td>\n      <td>Ancient and Spitz</td>\n      <td>Ancient and Spitz</td>\n    </tr>\n    <tr>\n      <th>4</th>\n      <td>13</td>\n      <td>2020-11-22</td>\n      <td>DAP Pack</td>\n      <td>NaN</td>\n      <td>2018-03-15</td>\n      <td>2.7</td>\n      <td>Estimated using owner-reported birth year and ...</td>\n      <td>N</td>\n      <td>NaN</td>\n      <td>Purebred</td>\n      <td>...</td>\n      <td>NNNNNNNNNNN</td>\n      <td>N</td>\n      <td>NaN</td>\n      <td>Y</td>\n      <td>N</td>\n      <td>N</td>\n      <td>N</td>\n      <td>Retriever</td>\n      <td>Golden</td>\n      <td>Golden</td>\n    </tr>\n    <tr>\n      <th>...</th>\n      <td>...</td>\n      <td>...</td>\n      <td>...</td>\n      <td>...</td>\n      <td>...</td>\n      <td>...</td>\n      <td>...</td>\n      <td>...</td>\n      <td>...</td>\n      <td>...</td>\n      <td>...</td>\n      <td>...</td>\n      <td>...</td>\n      <td>...</td>\n      <td>...</td>\n      <td>...</td>\n      <td>...</td>\n      <td>...</td>\n      <td>...</td>\n      <td>...</td>\n      <td>...</td>\n    </tr>\n    <tr>\n      <th>33172</th>\n      <td>103633</td>\n      <td>2021-12-29</td>\n      <td>DAP Pack</td>\n      <td>NaN</td>\n      <td>2014-09-15</td>\n      <td>7.3</td>\n      <td>Estimated using owner-reported birth year and ...</td>\n      <td>N</td>\n      <td>NaN</td>\n      <td>Purebred</td>\n      <td>...</td>\n      <td>NNNNNNNNNNN</td>\n      <td>N</td>\n      <td>NaN</td>\n      <td>N</td>\n      <td>N</td>\n      <td>N</td>\n      <td>N</td>\n      <td>Herding dogs</td>\n      <td>Australian</td>\n      <td>Australian-like</td>\n    </tr>\n    <tr>\n      <th>33173</th>\n      <td>103637</td>\n      <td>2021-12-29</td>\n      <td>DAP Pack</td>\n      <td>NaN</td>\n      <td>2019-12-15</td>\n      <td>2.0</td>\n      <td>Estimated using owner-reported birth year and ...</td>\n      <td>N</td>\n      <td>NaN</td>\n      <td>Mixed breed</td>\n      <td>...</td>\n      <td>NNNNNNNNNNN</td>\n      <td>N</td>\n      <td>NaN</td>\n      <td>N</td>\n      <td>N</td>\n      <td>N</td>\n      <td>N</td>\n      <td>Retriever</td>\n      <td>Golden</td>\n      <td>Golden</td>\n    </tr>\n    <tr>\n      <th>33174</th>\n      <td>103643</td>\n      <td>2021-12-30</td>\n      <td>DAP Pack</td>\n      <td>NaN</td>\n      <td>2020-04-15</td>\n      <td>1.7</td>\n      <td>Estimated using owner-reported birth year and ...</td>\n      <td>N</td>\n      <td>NaN</td>\n      <td>Mixed breed</td>\n      <td>...</td>\n      <td>NNNNNNNNNNN</td>\n      <td>N</td>\n      <td>NaN</td>\n      <td>N</td>\n      <td>N</td>\n      <td>N</td>\n      <td>N</td>\n      <td>Working dogs</td>\n      <td>Non-sport</td>\n      <td>Working dogs - Non-sport</td>\n    </tr>\n    <tr>\n      <th>33175</th>\n      <td>103647</td>\n      <td>2021-12-31</td>\n      <td>DAP Pack</td>\n      <td>NaN</td>\n      <td>2016-08-15</td>\n      <td>5.4</td>\n      <td>Estimated using owner-reported birth year and ...</td>\n      <td>N</td>\n      <td>NaN</td>\n      <td>Purebred</td>\n      <td>...</td>\n      <td>NNNNNNNNNNN</td>\n      <td>N</td>\n      <td>NaN</td>\n      <td>N</td>\n      <td>N</td>\n      <td>N</td>\n      <td>N</td>\n      <td>Herding dogs</td>\n      <td>Collie, Corgi, Sheepdog</td>\n      <td>Australian-like</td>\n    </tr>\n    <tr>\n      <th>33176</th>\n      <td>103658</td>\n      <td>2021-12-31</td>\n      <td>DAP Pack</td>\n      <td>NaN</td>\n      <td>2010-12-31</td>\n      <td>11.0</td>\n      <td>Estimated using owner-reported age</td>\n      <td>N</td>\n      <td>NaN</td>\n      <td>Mixed breed</td>\n      <td>...</td>\n      <td>NNNNNNNNNNN</td>\n      <td>N</td>\n      <td>NaN</td>\n      <td>N</td>\n      <td>N</td>\n      <td>N</td>\n      <td>N</td>\n      <td>Herding dogs</td>\n      <td>Collie, Corgi, Sheepdog</td>\n      <td>Australian-like</td>\n    </tr>\n  </tbody>\n</table>\n<p>33172 rows × 30 columns</p>\n</div>"
     },
     "execution_count": 335,
     "metadata": {},
     "output_type": "execute_result"
    }
   ],
   "source": [
    "merged_DogOV_breeds.drop_duplicates(inplace=True)\n",
    "merged_DogOV_breeds"
   ],
   "metadata": {
    "collapsed": false
   }
  },
  {
   "cell_type": "code",
   "execution_count": 336,
   "outputs": [
    {
     "data": {
      "text/plain": "dog_id\n8         1\n77173     1\n77269     1\n77267     1\n77263     1\n         ..\n39855     1\n39851     1\n39846     1\n39845     1\n103658    1\nName: count, Length: 33172, dtype: int64"
     },
     "execution_count": 336,
     "metadata": {},
     "output_type": "execute_result"
    }
   ],
   "source": [
    "merged_DogOV_breeds[\"dog_id\"].value_counts()"
   ],
   "metadata": {
    "collapsed": false
   }
  },
  {
   "cell_type": "code",
   "execution_count": 356,
   "outputs": [
    {
     "data": {
      "text/plain": "Breed Group\nMastiff-like Group 1        4850\nLabs                        4604\nAustralian-like             3151\nTerriers                    2662\nGolden                      2496\nToy - Other                 2483\nSpaniels                    2067\nShepherd                    1996\nWorking dogs - Non-sport    1778\nAncient and Spitz           1710\nHound                       1542\nHerding dogs - Other        1322\nChihuahua                   1064\nDachshund                    689\nMastiff-like Group 2           3\nMixed Lab and Golden           3\nName: count, dtype: int64"
     },
     "execution_count": 356,
     "metadata": {},
     "output_type": "execute_result"
    }
   ],
   "source": [
    "merged_DogOV_breeds[\"Breed Group\"].value_counts()"
   ],
   "metadata": {
    "collapsed": false
   }
  },
  {
   "cell_type": "code",
   "execution_count": 337,
   "outputs": [
    {
     "data": {
      "text/plain": "       dog_id DAP_Pack_Date      Cohort Cohort_Enroll_Date Estimated_DOB  \\\n6054    21583    2020-09-09    DAP Pack                NaN    2007-11-15   \n8132    29557    2020-09-09    DAP Pack                NaN    2018-03-15   \n9925    35704    2020-10-22  Foundation         2021-06-09    2012-11-15   \n19986   70528    2020-08-03    DAP Pack                NaN    2019-01-15   \n29737   94025    2021-02-26    DAP Pack                NaN    2011-02-15   \n\n       Estimated_Age_Years_at_HLES  \\\n6054                          12.8   \n8132                           2.5   \n9925                           7.9   \n19986                          1.5   \n29737                         10.0   \n\n                                AgeDOB_Estimation_Method  \\\n6054   Estimated using owner-reported birth year and ...   \n8132   Estimated using owner-reported birth year and ...   \n9925   Estimated using owner-reported birth year and ...   \n19986  Estimated using owner-reported birth year and ...   \n29737  Estimated using owner-reported birth year and ...   \n\n      Dog_Reported_Deceased  DOD Breed_Status  ... AFUS_2021_Complete  \\\n6054                      N  NaN     Purebred  ...        YYYYYYYYYYY   \n8132                      N  NaN     Purebred  ...        YYYYYYYYYYY   \n9925                      N  NaN     Purebred  ...        YYYYYYYYYYY   \n19986                     N  NaN     Purebred  ...        YYYYYYYYYYY   \n29737                     N  NaN     Purebred  ...        NNNNNNNNNNN   \n\n      EOLS_Complete   DNA_Swab_ID PrimaryAddress_HLES SecondaryAddress_HLES  \\\n6054              N           NaN                   Y                     N   \n8132              N           NaN                   Y                     N   \n9925              N  3.102006e+13                   Y                     N   \n19986             N           NaN                   Y                     N   \n29737             N           NaN                   Y                     N   \n\n      PrimaryAddress_AFUS2021 SecondaryAddress_AFUS2021         Breed Type  \\\n6054                        N                         N  Ancient and Spitz   \n8132                        N                         N  Ancient and Spitz   \n9925                        N                         N  Ancient and Spitz   \n19986                       N                         N  Ancient and Spitz   \n29737                       N                         N  Ancient and Spitz   \n\n               Sub Breed        Breed Group  \n6054   Ancient and Spitz  Ancient and Spitz  \n8132   Ancient and Spitz  Ancient and Spitz  \n9925   Ancient and Spitz  Ancient and Spitz  \n19986  Ancient and Spitz  Ancient and Spitz  \n29737  Ancient and Spitz  Ancient and Spitz  \n\n[5 rows x 30 columns]",
      "text/html": "<div>\n<style scoped>\n    .dataframe tbody tr th:only-of-type {\n        vertical-align: middle;\n    }\n\n    .dataframe tbody tr th {\n        vertical-align: top;\n    }\n\n    .dataframe thead th {\n        text-align: right;\n    }\n</style>\n<table border=\"1\" class=\"dataframe\">\n  <thead>\n    <tr style=\"text-align: right;\">\n      <th></th>\n      <th>dog_id</th>\n      <th>DAP_Pack_Date</th>\n      <th>Cohort</th>\n      <th>Cohort_Enroll_Date</th>\n      <th>Estimated_DOB</th>\n      <th>Estimated_Age_Years_at_HLES</th>\n      <th>AgeDOB_Estimation_Method</th>\n      <th>Dog_Reported_Deceased</th>\n      <th>DOD</th>\n      <th>Breed_Status</th>\n      <th>...</th>\n      <th>AFUS_2021_Complete</th>\n      <th>EOLS_Complete</th>\n      <th>DNA_Swab_ID</th>\n      <th>PrimaryAddress_HLES</th>\n      <th>SecondaryAddress_HLES</th>\n      <th>PrimaryAddress_AFUS2021</th>\n      <th>SecondaryAddress_AFUS2021</th>\n      <th>Breed Type</th>\n      <th>Sub Breed</th>\n      <th>Breed Group</th>\n    </tr>\n  </thead>\n  <tbody>\n    <tr>\n      <th>6054</th>\n      <td>21583</td>\n      <td>2020-09-09</td>\n      <td>DAP Pack</td>\n      <td>NaN</td>\n      <td>2007-11-15</td>\n      <td>12.8</td>\n      <td>Estimated using owner-reported birth year and ...</td>\n      <td>N</td>\n      <td>NaN</td>\n      <td>Purebred</td>\n      <td>...</td>\n      <td>YYYYYYYYYYY</td>\n      <td>N</td>\n      <td>NaN</td>\n      <td>Y</td>\n      <td>N</td>\n      <td>N</td>\n      <td>N</td>\n      <td>Ancient and Spitz</td>\n      <td>Ancient and Spitz</td>\n      <td>Ancient and Spitz</td>\n    </tr>\n    <tr>\n      <th>8132</th>\n      <td>29557</td>\n      <td>2020-09-09</td>\n      <td>DAP Pack</td>\n      <td>NaN</td>\n      <td>2018-03-15</td>\n      <td>2.5</td>\n      <td>Estimated using owner-reported birth year and ...</td>\n      <td>N</td>\n      <td>NaN</td>\n      <td>Purebred</td>\n      <td>...</td>\n      <td>YYYYYYYYYYY</td>\n      <td>N</td>\n      <td>NaN</td>\n      <td>Y</td>\n      <td>N</td>\n      <td>N</td>\n      <td>N</td>\n      <td>Ancient and Spitz</td>\n      <td>Ancient and Spitz</td>\n      <td>Ancient and Spitz</td>\n    </tr>\n    <tr>\n      <th>9925</th>\n      <td>35704</td>\n      <td>2020-10-22</td>\n      <td>Foundation</td>\n      <td>2021-06-09</td>\n      <td>2012-11-15</td>\n      <td>7.9</td>\n      <td>Estimated using owner-reported birth year and ...</td>\n      <td>N</td>\n      <td>NaN</td>\n      <td>Purebred</td>\n      <td>...</td>\n      <td>YYYYYYYYYYY</td>\n      <td>N</td>\n      <td>3.102006e+13</td>\n      <td>Y</td>\n      <td>N</td>\n      <td>N</td>\n      <td>N</td>\n      <td>Ancient and Spitz</td>\n      <td>Ancient and Spitz</td>\n      <td>Ancient and Spitz</td>\n    </tr>\n    <tr>\n      <th>19986</th>\n      <td>70528</td>\n      <td>2020-08-03</td>\n      <td>DAP Pack</td>\n      <td>NaN</td>\n      <td>2019-01-15</td>\n      <td>1.5</td>\n      <td>Estimated using owner-reported birth year and ...</td>\n      <td>N</td>\n      <td>NaN</td>\n      <td>Purebred</td>\n      <td>...</td>\n      <td>YYYYYYYYYYY</td>\n      <td>N</td>\n      <td>NaN</td>\n      <td>Y</td>\n      <td>N</td>\n      <td>N</td>\n      <td>N</td>\n      <td>Ancient and Spitz</td>\n      <td>Ancient and Spitz</td>\n      <td>Ancient and Spitz</td>\n    </tr>\n    <tr>\n      <th>29737</th>\n      <td>94025</td>\n      <td>2021-02-26</td>\n      <td>DAP Pack</td>\n      <td>NaN</td>\n      <td>2011-02-15</td>\n      <td>10.0</td>\n      <td>Estimated using owner-reported birth year and ...</td>\n      <td>N</td>\n      <td>NaN</td>\n      <td>Purebred</td>\n      <td>...</td>\n      <td>NNNNNNNNNNN</td>\n      <td>N</td>\n      <td>NaN</td>\n      <td>Y</td>\n      <td>N</td>\n      <td>N</td>\n      <td>N</td>\n      <td>Ancient and Spitz</td>\n      <td>Ancient and Spitz</td>\n      <td>Ancient and Spitz</td>\n    </tr>\n  </tbody>\n</table>\n<p>5 rows × 30 columns</p>\n</div>"
     },
     "execution_count": 337,
     "metadata": {},
     "output_type": "execute_result"
    }
   ],
   "source": [
    "df_1 = merged_DogOV_breeds[merged_DogOV_breeds[\"dog_id\"].isin([29557, 94025, 21583, 35704, 70528])]\n",
    "df_1"
   ],
   "metadata": {
    "collapsed": false
   }
  },
  {
   "cell_type": "code",
   "execution_count": 338,
   "outputs": [
    {
     "data": {
      "text/plain": "       dog_id DAP_Pack_Date      Cohort Cohort_Enroll_Date Estimated_DOB  \\\n6054    21583    2020-09-09    DAP Pack                NaN    2007-11-15   \n8131    29557    2020-09-09    DAP Pack                NaN    2018-03-15   \n9923    35704    2020-10-22  Foundation         2021-06-09    2012-11-15   \n19983   70528    2020-08-03    DAP Pack                NaN    2019-01-15   \n29733   94025    2021-02-26    DAP Pack                NaN    2011-02-15   \n\n       Estimated_Age_Years_at_HLES  \\\n6054                          12.8   \n8131                           2.5   \n9923                           7.9   \n19983                          1.5   \n29733                         10.0   \n\n                                AgeDOB_Estimation_Method  \\\n6054   Estimated using owner-reported birth year and ...   \n8131   Estimated using owner-reported birth year and ...   \n9923   Estimated using owner-reported birth year and ...   \n19983  Estimated using owner-reported birth year and ...   \n29733  Estimated using owner-reported birth year and ...   \n\n      Dog_Reported_Deceased  DOD Breed_Status  ... LifeStage_Class_at_HLES  \\\n6054                      N  NaN     Purebred  ...                  Senior   \n8131                      N  NaN     Purebred  ...             Young Adult   \n9923                      N  NaN     Purebred  ...            Mature Adult   \n19983                     N  NaN     Purebred  ...             Young Adult   \n29733                     N  NaN     Purebred  ...            Mature Adult   \n\n      CSLB_2020_Complete CSLB_2021_Complete AFUS_2021_Complete EOLS_Complete  \\\n6054                   Y                  Y        YYYYYYYYYYY             N   \n8131                   Y                  Y        YYYYYYYYYYY             N   \n9923                   Y                  Y        YYYYYYYYYYY             N   \n19983                  Y                  Y        YYYYYYYYYYY             N   \n29733                  N                  Y        NNNNNNNNNNN             N   \n\n        DNA_Swab_ID PrimaryAddress_HLES SecondaryAddress_HLES  \\\n6054            NaN                   Y                     N   \n8131            NaN                   Y                     N   \n9923   3.102006e+13                   Y                     N   \n19983           NaN                   Y                     N   \n29733           NaN                   Y                     N   \n\n      PrimaryAddress_AFUS2021 SecondaryAddress_AFUS2021  \n6054                        N                         N  \n8131                        N                         N  \n9923                        N                         N  \n19983                       N                         N  \n29733                       N                         N  \n\n[5 rows x 27 columns]",
      "text/html": "<div>\n<style scoped>\n    .dataframe tbody tr th:only-of-type {\n        vertical-align: middle;\n    }\n\n    .dataframe tbody tr th {\n        vertical-align: top;\n    }\n\n    .dataframe thead th {\n        text-align: right;\n    }\n</style>\n<table border=\"1\" class=\"dataframe\">\n  <thead>\n    <tr style=\"text-align: right;\">\n      <th></th>\n      <th>dog_id</th>\n      <th>DAP_Pack_Date</th>\n      <th>Cohort</th>\n      <th>Cohort_Enroll_Date</th>\n      <th>Estimated_DOB</th>\n      <th>Estimated_Age_Years_at_HLES</th>\n      <th>AgeDOB_Estimation_Method</th>\n      <th>Dog_Reported_Deceased</th>\n      <th>DOD</th>\n      <th>Breed_Status</th>\n      <th>...</th>\n      <th>LifeStage_Class_at_HLES</th>\n      <th>CSLB_2020_Complete</th>\n      <th>CSLB_2021_Complete</th>\n      <th>AFUS_2021_Complete</th>\n      <th>EOLS_Complete</th>\n      <th>DNA_Swab_ID</th>\n      <th>PrimaryAddress_HLES</th>\n      <th>SecondaryAddress_HLES</th>\n      <th>PrimaryAddress_AFUS2021</th>\n      <th>SecondaryAddress_AFUS2021</th>\n    </tr>\n  </thead>\n  <tbody>\n    <tr>\n      <th>6054</th>\n      <td>21583</td>\n      <td>2020-09-09</td>\n      <td>DAP Pack</td>\n      <td>NaN</td>\n      <td>2007-11-15</td>\n      <td>12.8</td>\n      <td>Estimated using owner-reported birth year and ...</td>\n      <td>N</td>\n      <td>NaN</td>\n      <td>Purebred</td>\n      <td>...</td>\n      <td>Senior</td>\n      <td>Y</td>\n      <td>Y</td>\n      <td>YYYYYYYYYYY</td>\n      <td>N</td>\n      <td>NaN</td>\n      <td>Y</td>\n      <td>N</td>\n      <td>N</td>\n      <td>N</td>\n    </tr>\n    <tr>\n      <th>8131</th>\n      <td>29557</td>\n      <td>2020-09-09</td>\n      <td>DAP Pack</td>\n      <td>NaN</td>\n      <td>2018-03-15</td>\n      <td>2.5</td>\n      <td>Estimated using owner-reported birth year and ...</td>\n      <td>N</td>\n      <td>NaN</td>\n      <td>Purebred</td>\n      <td>...</td>\n      <td>Young Adult</td>\n      <td>Y</td>\n      <td>Y</td>\n      <td>YYYYYYYYYYY</td>\n      <td>N</td>\n      <td>NaN</td>\n      <td>Y</td>\n      <td>N</td>\n      <td>N</td>\n      <td>N</td>\n    </tr>\n    <tr>\n      <th>9923</th>\n      <td>35704</td>\n      <td>2020-10-22</td>\n      <td>Foundation</td>\n      <td>2021-06-09</td>\n      <td>2012-11-15</td>\n      <td>7.9</td>\n      <td>Estimated using owner-reported birth year and ...</td>\n      <td>N</td>\n      <td>NaN</td>\n      <td>Purebred</td>\n      <td>...</td>\n      <td>Mature Adult</td>\n      <td>Y</td>\n      <td>Y</td>\n      <td>YYYYYYYYYYY</td>\n      <td>N</td>\n      <td>3.102006e+13</td>\n      <td>Y</td>\n      <td>N</td>\n      <td>N</td>\n      <td>N</td>\n    </tr>\n    <tr>\n      <th>19983</th>\n      <td>70528</td>\n      <td>2020-08-03</td>\n      <td>DAP Pack</td>\n      <td>NaN</td>\n      <td>2019-01-15</td>\n      <td>1.5</td>\n      <td>Estimated using owner-reported birth year and ...</td>\n      <td>N</td>\n      <td>NaN</td>\n      <td>Purebred</td>\n      <td>...</td>\n      <td>Young Adult</td>\n      <td>Y</td>\n      <td>Y</td>\n      <td>YYYYYYYYYYY</td>\n      <td>N</td>\n      <td>NaN</td>\n      <td>Y</td>\n      <td>N</td>\n      <td>N</td>\n      <td>N</td>\n    </tr>\n    <tr>\n      <th>29733</th>\n      <td>94025</td>\n      <td>2021-02-26</td>\n      <td>DAP Pack</td>\n      <td>NaN</td>\n      <td>2011-02-15</td>\n      <td>10.0</td>\n      <td>Estimated using owner-reported birth year and ...</td>\n      <td>N</td>\n      <td>NaN</td>\n      <td>Purebred</td>\n      <td>...</td>\n      <td>Mature Adult</td>\n      <td>N</td>\n      <td>Y</td>\n      <td>NNNNNNNNNNN</td>\n      <td>N</td>\n      <td>NaN</td>\n      <td>Y</td>\n      <td>N</td>\n      <td>N</td>\n      <td>N</td>\n    </tr>\n  </tbody>\n</table>\n<p>5 rows × 27 columns</p>\n</div>"
     },
     "execution_count": 338,
     "metadata": {},
     "output_type": "execute_result"
    }
   ],
   "source": [
    "df_1 = df_DogOV[df_DogOV[\"dog_id\"].isin([29557, 94025, 21583, 35704, 70528])]\n",
    "df_1"
   ],
   "metadata": {
    "collapsed": false
   }
  },
  {
   "cell_type": "code",
   "execution_count": 339,
   "outputs": [
    {
     "data": {
      "text/plain": "                       Breed               Breed Group\n0         Labrador Retriever                      Labs\n1          Italian Greyhound      Herding dogs - Other\n2         Labrador Retriever                      Labs\n3             Siberian Husky         Ancient and Spitz\n4           Golden Retriever                    Golden\n...                      ...                       ...\n33172  Australian Cattle Dog           Australian-like\n33173       Golden Retriever                    Golden\n33174                 Poodle  Working dogs - Non-sport\n33175          Border Collie           Australian-like\n33176          Border Collie           Australian-like\n\n[33172 rows x 2 columns]",
      "text/html": "<div>\n<style scoped>\n    .dataframe tbody tr th:only-of-type {\n        vertical-align: middle;\n    }\n\n    .dataframe tbody tr th {\n        vertical-align: top;\n    }\n\n    .dataframe thead th {\n        text-align: right;\n    }\n</style>\n<table border=\"1\" class=\"dataframe\">\n  <thead>\n    <tr style=\"text-align: right;\">\n      <th></th>\n      <th>Breed</th>\n      <th>Breed Group</th>\n    </tr>\n  </thead>\n  <tbody>\n    <tr>\n      <th>0</th>\n      <td>Labrador Retriever</td>\n      <td>Labs</td>\n    </tr>\n    <tr>\n      <th>1</th>\n      <td>Italian Greyhound</td>\n      <td>Herding dogs - Other</td>\n    </tr>\n    <tr>\n      <th>2</th>\n      <td>Labrador Retriever</td>\n      <td>Labs</td>\n    </tr>\n    <tr>\n      <th>3</th>\n      <td>Siberian Husky</td>\n      <td>Ancient and Spitz</td>\n    </tr>\n    <tr>\n      <th>4</th>\n      <td>Golden Retriever</td>\n      <td>Golden</td>\n    </tr>\n    <tr>\n      <th>...</th>\n      <td>...</td>\n      <td>...</td>\n    </tr>\n    <tr>\n      <th>33172</th>\n      <td>Australian Cattle Dog</td>\n      <td>Australian-like</td>\n    </tr>\n    <tr>\n      <th>33173</th>\n      <td>Golden Retriever</td>\n      <td>Golden</td>\n    </tr>\n    <tr>\n      <th>33174</th>\n      <td>Poodle</td>\n      <td>Working dogs - Non-sport</td>\n    </tr>\n    <tr>\n      <th>33175</th>\n      <td>Border Collie</td>\n      <td>Australian-like</td>\n    </tr>\n    <tr>\n      <th>33176</th>\n      <td>Border Collie</td>\n      <td>Australian-like</td>\n    </tr>\n  </tbody>\n</table>\n<p>33172 rows × 2 columns</p>\n</div>"
     },
     "execution_count": 339,
     "metadata": {},
     "output_type": "execute_result"
    }
   ],
   "source": [
    "merged_DogOV_breeds[[\"Breed\", \"Breed Group\"]]"
   ],
   "metadata": {
    "collapsed": false
   }
  },
  {
   "cell_type": "code",
   "execution_count": 340,
   "outputs": [
    {
     "data": {
      "text/plain": "32420"
     },
     "execution_count": 340,
     "metadata": {},
     "output_type": "execute_result"
    }
   ],
   "source": [
    "merged_DogOV_breeds[\"Breed Group\"].value_counts().sum()"
   ],
   "metadata": {
    "collapsed": false
   }
  },
  {
   "cell_type": "code",
   "execution_count": 341,
   "outputs": [
    {
     "data": {
      "text/plain": "752"
     },
     "execution_count": 341,
     "metadata": {},
     "output_type": "execute_result"
    }
   ],
   "source": [
    "merged_DogOV_breeds[\"Breed Group\"].isna().sum()"
   ],
   "metadata": {
    "collapsed": false
   }
  },
  {
   "cell_type": "code",
   "execution_count": 342,
   "outputs": [
    {
     "data": {
      "text/plain": "       dog_id                        Breed Breed Group Breed Type\n55        190                      Unknown         NaN        NaN\n233       718                      Unknown         NaN        NaN\n404      1221                      Unknown         NaN        NaN\n411      1242                  Village Dog         NaN        NaN\n439      1318                      PODENCO         NaN        NaN\n...       ...                          ...         ...        ...\n33072  103257                      Unknown         NaN        NaN\n33081  103289                      Unknown         NaN        NaN\n33119  103422                      Unknown         NaN        NaN\n33121  103425                      Unknown         NaN        NaN\n33171  103626  Miniature American Shepherd         NaN        NaN\n\n[752 rows x 4 columns]",
      "text/html": "<div>\n<style scoped>\n    .dataframe tbody tr th:only-of-type {\n        vertical-align: middle;\n    }\n\n    .dataframe tbody tr th {\n        vertical-align: top;\n    }\n\n    .dataframe thead th {\n        text-align: right;\n    }\n</style>\n<table border=\"1\" class=\"dataframe\">\n  <thead>\n    <tr style=\"text-align: right;\">\n      <th></th>\n      <th>dog_id</th>\n      <th>Breed</th>\n      <th>Breed Group</th>\n      <th>Breed Type</th>\n    </tr>\n  </thead>\n  <tbody>\n    <tr>\n      <th>55</th>\n      <td>190</td>\n      <td>Unknown</td>\n      <td>NaN</td>\n      <td>NaN</td>\n    </tr>\n    <tr>\n      <th>233</th>\n      <td>718</td>\n      <td>Unknown</td>\n      <td>NaN</td>\n      <td>NaN</td>\n    </tr>\n    <tr>\n      <th>404</th>\n      <td>1221</td>\n      <td>Unknown</td>\n      <td>NaN</td>\n      <td>NaN</td>\n    </tr>\n    <tr>\n      <th>411</th>\n      <td>1242</td>\n      <td>Village Dog</td>\n      <td>NaN</td>\n      <td>NaN</td>\n    </tr>\n    <tr>\n      <th>439</th>\n      <td>1318</td>\n      <td>PODENCO</td>\n      <td>NaN</td>\n      <td>NaN</td>\n    </tr>\n    <tr>\n      <th>...</th>\n      <td>...</td>\n      <td>...</td>\n      <td>...</td>\n      <td>...</td>\n    </tr>\n    <tr>\n      <th>33072</th>\n      <td>103257</td>\n      <td>Unknown</td>\n      <td>NaN</td>\n      <td>NaN</td>\n    </tr>\n    <tr>\n      <th>33081</th>\n      <td>103289</td>\n      <td>Unknown</td>\n      <td>NaN</td>\n      <td>NaN</td>\n    </tr>\n    <tr>\n      <th>33119</th>\n      <td>103422</td>\n      <td>Unknown</td>\n      <td>NaN</td>\n      <td>NaN</td>\n    </tr>\n    <tr>\n      <th>33121</th>\n      <td>103425</td>\n      <td>Unknown</td>\n      <td>NaN</td>\n      <td>NaN</td>\n    </tr>\n    <tr>\n      <th>33171</th>\n      <td>103626</td>\n      <td>Miniature American Shepherd</td>\n      <td>NaN</td>\n      <td>NaN</td>\n    </tr>\n  </tbody>\n</table>\n<p>752 rows × 4 columns</p>\n</div>"
     },
     "execution_count": 342,
     "metadata": {},
     "output_type": "execute_result"
    }
   ],
   "source": [
    "filtered_df = merged_DogOV_breeds[merged_DogOV_breeds[\"Breed Type\"].isna()]\n",
    "filtered_df[[\"dog_id\", \"Breed\", \"Breed Group\", \"Breed Type\"]]"
   ],
   "metadata": {
    "collapsed": false
   }
  },
  {
   "cell_type": "code",
   "execution_count": 343,
   "outputs": [
    {
     "data": {
      "text/plain": "Breed\nUnknown                           530\nMiniature American Shepherd       100\nBelgian Sheepdog                   19\nVillage Dog                        14\nCaucasian Shepherd Dog              6\n                                 ... \nCimarron Uruguayo                   1\nBraque de Bourbonnais               1\nRomanian Mioritic Shepherd Dog      1\nLarge Munsterlander                 1\nKromfohrlander                      1\nName: count, Length: 65, dtype: int64"
     },
     "execution_count": 343,
     "metadata": {},
     "output_type": "execute_result"
    }
   ],
   "source": [
    "filtered_df[\"Breed\"].value_counts()"
   ],
   "metadata": {
    "collapsed": false
   }
  },
  {
   "cell_type": "code",
   "execution_count": 344,
   "outputs": [
    {
     "data": {
      "text/plain": "Breed Type\nRetriever            7100\nMastiff-Like         4853\nHerding dogs         4473\nWorking dogs         3774\nToy dogs             3547\nTerriers             2662\nScent Hounds         2231\nSpaniels             2067\nAncient and Spitz    1710\nMixed                   3\nName: count, dtype: int64"
     },
     "execution_count": 344,
     "metadata": {},
     "output_type": "execute_result"
    }
   ],
   "source": [
    "merged_DogOV_breeds[\"Breed Type\"].value_counts()"
   ],
   "metadata": {
    "collapsed": false
   }
  },
  {
   "cell_type": "code",
   "execution_count": 345,
   "outputs": [
    {
     "data": {
      "text/plain": "Breed_Status\nPurebred       16592\nMixed breed    16526\nName: count, dtype: int64"
     },
     "execution_count": 345,
     "metadata": {},
     "output_type": "execute_result"
    }
   ],
   "source": [
    "df[\"Breed_Status\"].value_counts()"
   ],
   "metadata": {
    "collapsed": false
   }
  },
  {
   "cell_type": "code",
   "execution_count": 346,
   "outputs": [
    {
     "data": {
      "text/plain": "       dog_id DAP_Pack_Date    Cohort Cohort_Enroll_Date Estimated_DOB  \\\n0           8    2020-08-12  DAP Pack                NaN    2011-02-15   \n1           9    2020-10-28  DAP Pack                NaN    2008-04-15   \n2          11    2020-08-31  DAP Pack                NaN    2011-04-15   \n3          12    2020-09-15  DAP Pack                NaN    2013-08-15   \n4          13    2020-11-22  DAP Pack                NaN    2018-03-15   \n...       ...           ...       ...                ...           ...   \n33172  103633    2021-12-29  DAP Pack                NaN    2014-09-15   \n33173  103637    2021-12-29  DAP Pack                NaN    2019-12-15   \n33174  103643    2021-12-30  DAP Pack                NaN    2020-04-15   \n33175  103647    2021-12-31  DAP Pack                NaN    2016-08-15   \n33176  103658    2021-12-31  DAP Pack                NaN    2010-12-31   \n\n       Estimated_Age_Years_at_HLES  \\\n0                              9.5   \n1                             12.5   \n2                              9.4   \n3                              7.1   \n4                              2.7   \n...                            ...   \n33172                          7.3   \n33173                          2.0   \n33174                          1.7   \n33175                          5.4   \n33176                         11.0   \n\n                                AgeDOB_Estimation_Method  \\\n0      Estimated using owner-reported birth year and ...   \n1      Estimated using owner-reported birth year and ...   \n2      Estimated using owner-reported birth year and ...   \n3      Estimated using owner-reported birth year and ...   \n4      Estimated using owner-reported birth year and ...   \n...                                                  ...   \n33172  Estimated using owner-reported birth year and ...   \n33173  Estimated using owner-reported birth year and ...   \n33174  Estimated using owner-reported birth year and ...   \n33175  Estimated using owner-reported birth year and ...   \n33176                 Estimated using owner-reported age   \n\n      Dog_Reported_Deceased  DOD Breed_Status  ... AFUS_2021_Complete  \\\n0                         N  NaN  Mixed breed  ...        NNNNNNNNNNN   \n1                         N  NaN     Purebred  ...        NNNNNNNNNNN   \n2                         N  NaN     Purebred  ...        NNNNNNNNNNN   \n3                         N  NaN  Mixed breed  ...        NNNNNNNNNNN   \n4                         N  NaN     Purebred  ...        NNNNNNNNNNN   \n...                     ...  ...          ...  ...                ...   \n33172                     N  NaN     Purebred  ...        NNNNNNNNNNN   \n33173                     N  NaN  Mixed breed  ...        NNNNNNNNNNN   \n33174                     N  NaN  Mixed breed  ...        NNNNNNNNNNN   \n33175                     N  NaN     Purebred  ...        NNNNNNNNNNN   \n33176                     N  NaN  Mixed breed  ...        NNNNNNNNNNN   \n\n      EOLS_Complete DNA_Swab_ID PrimaryAddress_HLES SecondaryAddress_HLES  \\\n0                 N         NaN                   Y                     N   \n1                 N         NaN                   Y                     N   \n2                 N         NaN                   Y                     N   \n3                 N         NaN                   Y                     N   \n4                 N         NaN                   Y                     N   \n...             ...         ...                 ...                   ...   \n33172             N         NaN                   N                     N   \n33173             N         NaN                   N                     N   \n33174             N         NaN                   N                     N   \n33175             N         NaN                   N                     N   \n33176             N         NaN                   N                     N   \n\n      PrimaryAddress_AFUS2021 SecondaryAddress_AFUS2021         Breed Type  \\\n0                           N                         N          Retriever   \n1                           N                         N       Herding dogs   \n2                           N                         N          Retriever   \n3                           N                         N  Ancient and Spitz   \n4                           N                         N          Retriever   \n...                       ...                       ...                ...   \n33172                       N                         N       Herding dogs   \n33173                       N                         N          Retriever   \n33174                       N                         N       Working dogs   \n33175                       N                         N       Herding dogs   \n33176                       N                         N       Herding dogs   \n\n                     Sub Breed               Breed Group  \n0                         Labs                      Labs  \n1                 Sight Hounds      Herding dogs - Other  \n2                         Labs                      Labs  \n3            Ancient and Spitz         Ancient and Spitz  \n4                       Golden                    Golden  \n...                        ...                       ...  \n33172               Australian           Australian-like  \n33173                   Golden                    Golden  \n33174                Non-sport  Working dogs - Non-sport  \n33175  Collie, Corgi, Sheepdog           Australian-like  \n33176  Collie, Corgi, Sheepdog           Australian-like  \n\n[33172 rows x 30 columns]",
      "text/html": "<div>\n<style scoped>\n    .dataframe tbody tr th:only-of-type {\n        vertical-align: middle;\n    }\n\n    .dataframe tbody tr th {\n        vertical-align: top;\n    }\n\n    .dataframe thead th {\n        text-align: right;\n    }\n</style>\n<table border=\"1\" class=\"dataframe\">\n  <thead>\n    <tr style=\"text-align: right;\">\n      <th></th>\n      <th>dog_id</th>\n      <th>DAP_Pack_Date</th>\n      <th>Cohort</th>\n      <th>Cohort_Enroll_Date</th>\n      <th>Estimated_DOB</th>\n      <th>Estimated_Age_Years_at_HLES</th>\n      <th>AgeDOB_Estimation_Method</th>\n      <th>Dog_Reported_Deceased</th>\n      <th>DOD</th>\n      <th>Breed_Status</th>\n      <th>...</th>\n      <th>AFUS_2021_Complete</th>\n      <th>EOLS_Complete</th>\n      <th>DNA_Swab_ID</th>\n      <th>PrimaryAddress_HLES</th>\n      <th>SecondaryAddress_HLES</th>\n      <th>PrimaryAddress_AFUS2021</th>\n      <th>SecondaryAddress_AFUS2021</th>\n      <th>Breed Type</th>\n      <th>Sub Breed</th>\n      <th>Breed Group</th>\n    </tr>\n  </thead>\n  <tbody>\n    <tr>\n      <th>0</th>\n      <td>8</td>\n      <td>2020-08-12</td>\n      <td>DAP Pack</td>\n      <td>NaN</td>\n      <td>2011-02-15</td>\n      <td>9.5</td>\n      <td>Estimated using owner-reported birth year and ...</td>\n      <td>N</td>\n      <td>NaN</td>\n      <td>Mixed breed</td>\n      <td>...</td>\n      <td>NNNNNNNNNNN</td>\n      <td>N</td>\n      <td>NaN</td>\n      <td>Y</td>\n      <td>N</td>\n      <td>N</td>\n      <td>N</td>\n      <td>Retriever</td>\n      <td>Labs</td>\n      <td>Labs</td>\n    </tr>\n    <tr>\n      <th>1</th>\n      <td>9</td>\n      <td>2020-10-28</td>\n      <td>DAP Pack</td>\n      <td>NaN</td>\n      <td>2008-04-15</td>\n      <td>12.5</td>\n      <td>Estimated using owner-reported birth year and ...</td>\n      <td>N</td>\n      <td>NaN</td>\n      <td>Purebred</td>\n      <td>...</td>\n      <td>NNNNNNNNNNN</td>\n      <td>N</td>\n      <td>NaN</td>\n      <td>Y</td>\n      <td>N</td>\n      <td>N</td>\n      <td>N</td>\n      <td>Herding dogs</td>\n      <td>Sight Hounds</td>\n      <td>Herding dogs - Other</td>\n    </tr>\n    <tr>\n      <th>2</th>\n      <td>11</td>\n      <td>2020-08-31</td>\n      <td>DAP Pack</td>\n      <td>NaN</td>\n      <td>2011-04-15</td>\n      <td>9.4</td>\n      <td>Estimated using owner-reported birth year and ...</td>\n      <td>N</td>\n      <td>NaN</td>\n      <td>Purebred</td>\n      <td>...</td>\n      <td>NNNNNNNNNNN</td>\n      <td>N</td>\n      <td>NaN</td>\n      <td>Y</td>\n      <td>N</td>\n      <td>N</td>\n      <td>N</td>\n      <td>Retriever</td>\n      <td>Labs</td>\n      <td>Labs</td>\n    </tr>\n    <tr>\n      <th>3</th>\n      <td>12</td>\n      <td>2020-09-15</td>\n      <td>DAP Pack</td>\n      <td>NaN</td>\n      <td>2013-08-15</td>\n      <td>7.1</td>\n      <td>Estimated using owner-reported birth year and ...</td>\n      <td>N</td>\n      <td>NaN</td>\n      <td>Mixed breed</td>\n      <td>...</td>\n      <td>NNNNNNNNNNN</td>\n      <td>N</td>\n      <td>NaN</td>\n      <td>Y</td>\n      <td>N</td>\n      <td>N</td>\n      <td>N</td>\n      <td>Ancient and Spitz</td>\n      <td>Ancient and Spitz</td>\n      <td>Ancient and Spitz</td>\n    </tr>\n    <tr>\n      <th>4</th>\n      <td>13</td>\n      <td>2020-11-22</td>\n      <td>DAP Pack</td>\n      <td>NaN</td>\n      <td>2018-03-15</td>\n      <td>2.7</td>\n      <td>Estimated using owner-reported birth year and ...</td>\n      <td>N</td>\n      <td>NaN</td>\n      <td>Purebred</td>\n      <td>...</td>\n      <td>NNNNNNNNNNN</td>\n      <td>N</td>\n      <td>NaN</td>\n      <td>Y</td>\n      <td>N</td>\n      <td>N</td>\n      <td>N</td>\n      <td>Retriever</td>\n      <td>Golden</td>\n      <td>Golden</td>\n    </tr>\n    <tr>\n      <th>...</th>\n      <td>...</td>\n      <td>...</td>\n      <td>...</td>\n      <td>...</td>\n      <td>...</td>\n      <td>...</td>\n      <td>...</td>\n      <td>...</td>\n      <td>...</td>\n      <td>...</td>\n      <td>...</td>\n      <td>...</td>\n      <td>...</td>\n      <td>...</td>\n      <td>...</td>\n      <td>...</td>\n      <td>...</td>\n      <td>...</td>\n      <td>...</td>\n      <td>...</td>\n      <td>...</td>\n    </tr>\n    <tr>\n      <th>33172</th>\n      <td>103633</td>\n      <td>2021-12-29</td>\n      <td>DAP Pack</td>\n      <td>NaN</td>\n      <td>2014-09-15</td>\n      <td>7.3</td>\n      <td>Estimated using owner-reported birth year and ...</td>\n      <td>N</td>\n      <td>NaN</td>\n      <td>Purebred</td>\n      <td>...</td>\n      <td>NNNNNNNNNNN</td>\n      <td>N</td>\n      <td>NaN</td>\n      <td>N</td>\n      <td>N</td>\n      <td>N</td>\n      <td>N</td>\n      <td>Herding dogs</td>\n      <td>Australian</td>\n      <td>Australian-like</td>\n    </tr>\n    <tr>\n      <th>33173</th>\n      <td>103637</td>\n      <td>2021-12-29</td>\n      <td>DAP Pack</td>\n      <td>NaN</td>\n      <td>2019-12-15</td>\n      <td>2.0</td>\n      <td>Estimated using owner-reported birth year and ...</td>\n      <td>N</td>\n      <td>NaN</td>\n      <td>Mixed breed</td>\n      <td>...</td>\n      <td>NNNNNNNNNNN</td>\n      <td>N</td>\n      <td>NaN</td>\n      <td>N</td>\n      <td>N</td>\n      <td>N</td>\n      <td>N</td>\n      <td>Retriever</td>\n      <td>Golden</td>\n      <td>Golden</td>\n    </tr>\n    <tr>\n      <th>33174</th>\n      <td>103643</td>\n      <td>2021-12-30</td>\n      <td>DAP Pack</td>\n      <td>NaN</td>\n      <td>2020-04-15</td>\n      <td>1.7</td>\n      <td>Estimated using owner-reported birth year and ...</td>\n      <td>N</td>\n      <td>NaN</td>\n      <td>Mixed breed</td>\n      <td>...</td>\n      <td>NNNNNNNNNNN</td>\n      <td>N</td>\n      <td>NaN</td>\n      <td>N</td>\n      <td>N</td>\n      <td>N</td>\n      <td>N</td>\n      <td>Working dogs</td>\n      <td>Non-sport</td>\n      <td>Working dogs - Non-sport</td>\n    </tr>\n    <tr>\n      <th>33175</th>\n      <td>103647</td>\n      <td>2021-12-31</td>\n      <td>DAP Pack</td>\n      <td>NaN</td>\n      <td>2016-08-15</td>\n      <td>5.4</td>\n      <td>Estimated using owner-reported birth year and ...</td>\n      <td>N</td>\n      <td>NaN</td>\n      <td>Purebred</td>\n      <td>...</td>\n      <td>NNNNNNNNNNN</td>\n      <td>N</td>\n      <td>NaN</td>\n      <td>N</td>\n      <td>N</td>\n      <td>N</td>\n      <td>N</td>\n      <td>Herding dogs</td>\n      <td>Collie, Corgi, Sheepdog</td>\n      <td>Australian-like</td>\n    </tr>\n    <tr>\n      <th>33176</th>\n      <td>103658</td>\n      <td>2021-12-31</td>\n      <td>DAP Pack</td>\n      <td>NaN</td>\n      <td>2010-12-31</td>\n      <td>11.0</td>\n      <td>Estimated using owner-reported age</td>\n      <td>N</td>\n      <td>NaN</td>\n      <td>Mixed breed</td>\n      <td>...</td>\n      <td>NNNNNNNNNNN</td>\n      <td>N</td>\n      <td>NaN</td>\n      <td>N</td>\n      <td>N</td>\n      <td>N</td>\n      <td>N</td>\n      <td>Herding dogs</td>\n      <td>Collie, Corgi, Sheepdog</td>\n      <td>Australian-like</td>\n    </tr>\n  </tbody>\n</table>\n<p>33172 rows × 30 columns</p>\n</div>"
     },
     "execution_count": 346,
     "metadata": {},
     "output_type": "execute_result"
    }
   ],
   "source": [
    "merged_DogOV_breeds"
   ],
   "metadata": {
    "collapsed": false
   }
  },
  {
   "cell_type": "markdown",
   "source": [
    "## Merge DogOverview extended with Breed Type, Sub Breed, Breed Group, Breed with AFUS"
   ],
   "metadata": {
    "collapsed": false
   }
  },
  {
   "cell_type": "code",
   "execution_count": 357,
   "outputs": [
    {
     "name": "stderr",
     "output_type": "stream",
     "text": [
      "/var/folders/zd/3_6frj8s08b9zb1f3y0xqr2r0000gn/T/ipykernel_63733/3492692570.py:2: DtypeWarning: Columns (36,38,40,42,44,46,48,50,52,54,56,67,70,73,74,75,80,99,195,199,202,207,209,212,348,354,360,366,521,561,735,743) have mixed types. Specify dtype option on import or set low_memory=False.\n",
      "  df_AFUSdo = pd.read_csv(file_path_AFUSdo)\n"
     ]
    },
    {
     "data": {
      "text/plain": "       dog_id  owner_id afus_complete_date  afus_dd_dog_weight_lbs  \\\n0       68063      9427         2021-10-24                    14.0   \n1       54147     10321         2021-10-15                   110.0   \n2       58831     18537         2021-11-07                    72.0   \n3       80304     23529         2021-12-28                    18.0   \n4       51443     20124         2021-12-06                    16.0   \n...       ...       ...                ...                     ...   \n15715   29649      3198         2021-08-19                    76.0   \n15716   79295     19482                NaN                    63.0   \n15717    6474     12365         2021-10-13                    76.0   \n15718   78391     16866                NaN                     NaN   \n15719    2375      1764         2021-08-11                    15.0   \n\n      afus_dd_insurance_yn  afus_dd_insurance_company  \\\n0                     True                        6.0   \n1                    False                        NaN   \n2                    False                        NaN   \n3                    False                        NaN   \n4                    False                        NaN   \n...                    ...                        ...   \n15715                 True                        6.0   \n15716                False                        NaN   \n15717                 True                       99.0   \n15718                  NaN                        NaN   \n15719                False                        NaN   \n\n      afus_dd_insurance_company_other  afus_dd_activities_companion_animal  \\\n0                                 NaN                                  1.0   \n1                                 NaN                                  1.0   \n2                                 NaN                                  1.0   \n3                                 NaN                                  1.0   \n4                                 NaN                                  1.0   \n...                               ...                                  ...   \n15715                             NaN                                  1.0   \n15716                             NaN                                  1.0   \n15717                             NaN                                  1.0   \n15718                             NaN                                  NaN   \n15719                             NaN                                  1.0   \n\n       afus_dd_activities_obedience  afus_dd_activities_show  ...  \\\n0                               NaN                      NaN  ...   \n1                               2.0                      NaN  ...   \n2                               NaN                      NaN  ...   \n3                               NaN                      NaN  ...   \n4                               NaN                      NaN  ...   \n...                             ...                      ...  ...   \n15715                           NaN                      NaN  ...   \n15716                           2.0                      NaN  ...   \n15717                           NaN                      NaN  ...   \n15718                           NaN                      NaN  ...   \n15719                           NaN                      NaN  ...   \n\n       afus_oc_secondary_residence_change  \\\n0                                     NaN   \n1                                     NaN   \n2                                     NaN   \n3                                     NaN   \n4                                     NaN   \n...                                   ...   \n15715                                 NaN   \n15716                                 NaN   \n15717                                 NaN   \n15718                                 NaN   \n15719                                 NaN   \n\n       afus_oc_secondary_residence_change_date  \\\n0                                          NaN   \n1                                          NaN   \n2                                          NaN   \n3                                          NaN   \n4                                          NaN   \n...                                        ...   \n15715                                      NaN   \n15716                                      NaN   \n15717                                      NaN   \n15718                                      NaN   \n15719                                      NaN   \n\n       afus_oc_secondary_residence_ownership  \\\n0                                        NaN   \n1                                        NaN   \n2                                        NaN   \n3                                        NaN   \n4                                        NaN   \n...                                      ...   \n15715                                    NaN   \n15716                                    NaN   \n15717                                    NaN   \n15718                                    NaN   \n15719                                    NaN   \n\n       afus_oc_secondary_residence_ownership_other_description  \\\n0                                                    NaN         \n1                                                    NaN         \n2                                                    NaN         \n3                                                    NaN         \n4                                                    NaN         \n...                                                  ...         \n15715                                                NaN         \n15716                                                NaN         \n15717                                                NaN         \n15718                                                NaN         \n15719                                                NaN         \n\n       afus_oc_secondary_residence_state  \\\n0                                    NaN   \n1                                    NaN   \n2                                    NaN   \n3                                    NaN   \n4                                    NaN   \n...                                  ...   \n15715                                NaN   \n15716                                NaN   \n15717                                NaN   \n15718                                NaN   \n15719                                NaN   \n\n       afus_oc_secondary_residence_time_percentage  afus_od_age_range_years  \\\n0                                              NaN                      3.0   \n1                                              NaN                      5.0   \n2                                              NaN                      6.0   \n3                                              NaN                      6.0   \n4                                              NaN                      6.0   \n...                                            ...                      ...   \n15715                                          NaN                      6.0   \n15716                                          NaN                      NaN   \n15717                                          NaN                      5.0   \n15718                                          NaN                      NaN   \n15719                                          NaN                      6.0   \n\n       afus_od_max_education  \\\n0                       98.0   \n1                        5.0   \n2                       98.0   \n3                       98.0   \n4                        8.0   \n...                      ...   \n15715                    5.0   \n15716                    NaN   \n15717                    8.0   \n15718                    NaN   \n15719                    7.0   \n\n                 afus_od_max_education_other_description  \\\n0                                 I prefer not to answer   \n1                                                    NaN   \n2                                   Registered dietitian   \n3      Registered Nursing license, and religious ordi...   \n4                                                    NaN   \n...                                                  ...   \n15715                                                NaN   \n15716                                                NaN   \n15717                                                NaN   \n15718                                                NaN   \n15719                                                NaN   \n\n      afus_od_annual_income_range_usd  \n0                                98.0  \n1                                 7.0  \n2                                 5.0  \n3                                98.0  \n4                                 1.0  \n...                               ...  \n15715                             5.0  \n15716                             NaN  \n15717                             4.0  \n15718                             NaN  \n15719                             3.0  \n\n[15720 rows x 750 columns]",
      "text/html": "<div>\n<style scoped>\n    .dataframe tbody tr th:only-of-type {\n        vertical-align: middle;\n    }\n\n    .dataframe tbody tr th {\n        vertical-align: top;\n    }\n\n    .dataframe thead th {\n        text-align: right;\n    }\n</style>\n<table border=\"1\" class=\"dataframe\">\n  <thead>\n    <tr style=\"text-align: right;\">\n      <th></th>\n      <th>dog_id</th>\n      <th>owner_id</th>\n      <th>afus_complete_date</th>\n      <th>afus_dd_dog_weight_lbs</th>\n      <th>afus_dd_insurance_yn</th>\n      <th>afus_dd_insurance_company</th>\n      <th>afus_dd_insurance_company_other</th>\n      <th>afus_dd_activities_companion_animal</th>\n      <th>afus_dd_activities_obedience</th>\n      <th>afus_dd_activities_show</th>\n      <th>...</th>\n      <th>afus_oc_secondary_residence_change</th>\n      <th>afus_oc_secondary_residence_change_date</th>\n      <th>afus_oc_secondary_residence_ownership</th>\n      <th>afus_oc_secondary_residence_ownership_other_description</th>\n      <th>afus_oc_secondary_residence_state</th>\n      <th>afus_oc_secondary_residence_time_percentage</th>\n      <th>afus_od_age_range_years</th>\n      <th>afus_od_max_education</th>\n      <th>afus_od_max_education_other_description</th>\n      <th>afus_od_annual_income_range_usd</th>\n    </tr>\n  </thead>\n  <tbody>\n    <tr>\n      <th>0</th>\n      <td>68063</td>\n      <td>9427</td>\n      <td>2021-10-24</td>\n      <td>14.0</td>\n      <td>True</td>\n      <td>6.0</td>\n      <td>NaN</td>\n      <td>1.0</td>\n      <td>NaN</td>\n      <td>NaN</td>\n      <td>...</td>\n      <td>NaN</td>\n      <td>NaN</td>\n      <td>NaN</td>\n      <td>NaN</td>\n      <td>NaN</td>\n      <td>NaN</td>\n      <td>3.0</td>\n      <td>98.0</td>\n      <td>I prefer not to answer</td>\n      <td>98.0</td>\n    </tr>\n    <tr>\n      <th>1</th>\n      <td>54147</td>\n      <td>10321</td>\n      <td>2021-10-15</td>\n      <td>110.0</td>\n      <td>False</td>\n      <td>NaN</td>\n      <td>NaN</td>\n      <td>1.0</td>\n      <td>2.0</td>\n      <td>NaN</td>\n      <td>...</td>\n      <td>NaN</td>\n      <td>NaN</td>\n      <td>NaN</td>\n      <td>NaN</td>\n      <td>NaN</td>\n      <td>NaN</td>\n      <td>5.0</td>\n      <td>5.0</td>\n      <td>NaN</td>\n      <td>7.0</td>\n    </tr>\n    <tr>\n      <th>2</th>\n      <td>58831</td>\n      <td>18537</td>\n      <td>2021-11-07</td>\n      <td>72.0</td>\n      <td>False</td>\n      <td>NaN</td>\n      <td>NaN</td>\n      <td>1.0</td>\n      <td>NaN</td>\n      <td>NaN</td>\n      <td>...</td>\n      <td>NaN</td>\n      <td>NaN</td>\n      <td>NaN</td>\n      <td>NaN</td>\n      <td>NaN</td>\n      <td>NaN</td>\n      <td>6.0</td>\n      <td>98.0</td>\n      <td>Registered dietitian</td>\n      <td>5.0</td>\n    </tr>\n    <tr>\n      <th>3</th>\n      <td>80304</td>\n      <td>23529</td>\n      <td>2021-12-28</td>\n      <td>18.0</td>\n      <td>False</td>\n      <td>NaN</td>\n      <td>NaN</td>\n      <td>1.0</td>\n      <td>NaN</td>\n      <td>NaN</td>\n      <td>...</td>\n      <td>NaN</td>\n      <td>NaN</td>\n      <td>NaN</td>\n      <td>NaN</td>\n      <td>NaN</td>\n      <td>NaN</td>\n      <td>6.0</td>\n      <td>98.0</td>\n      <td>Registered Nursing license, and religious ordi...</td>\n      <td>98.0</td>\n    </tr>\n    <tr>\n      <th>4</th>\n      <td>51443</td>\n      <td>20124</td>\n      <td>2021-12-06</td>\n      <td>16.0</td>\n      <td>False</td>\n      <td>NaN</td>\n      <td>NaN</td>\n      <td>1.0</td>\n      <td>NaN</td>\n      <td>NaN</td>\n      <td>...</td>\n      <td>NaN</td>\n      <td>NaN</td>\n      <td>NaN</td>\n      <td>NaN</td>\n      <td>NaN</td>\n      <td>NaN</td>\n      <td>6.0</td>\n      <td>8.0</td>\n      <td>NaN</td>\n      <td>1.0</td>\n    </tr>\n    <tr>\n      <th>...</th>\n      <td>...</td>\n      <td>...</td>\n      <td>...</td>\n      <td>...</td>\n      <td>...</td>\n      <td>...</td>\n      <td>...</td>\n      <td>...</td>\n      <td>...</td>\n      <td>...</td>\n      <td>...</td>\n      <td>...</td>\n      <td>...</td>\n      <td>...</td>\n      <td>...</td>\n      <td>...</td>\n      <td>...</td>\n      <td>...</td>\n      <td>...</td>\n      <td>...</td>\n      <td>...</td>\n    </tr>\n    <tr>\n      <th>15715</th>\n      <td>29649</td>\n      <td>3198</td>\n      <td>2021-08-19</td>\n      <td>76.0</td>\n      <td>True</td>\n      <td>6.0</td>\n      <td>NaN</td>\n      <td>1.0</td>\n      <td>NaN</td>\n      <td>NaN</td>\n      <td>...</td>\n      <td>NaN</td>\n      <td>NaN</td>\n      <td>NaN</td>\n      <td>NaN</td>\n      <td>NaN</td>\n      <td>NaN</td>\n      <td>6.0</td>\n      <td>5.0</td>\n      <td>NaN</td>\n      <td>5.0</td>\n    </tr>\n    <tr>\n      <th>15716</th>\n      <td>79295</td>\n      <td>19482</td>\n      <td>NaN</td>\n      <td>63.0</td>\n      <td>False</td>\n      <td>NaN</td>\n      <td>NaN</td>\n      <td>1.0</td>\n      <td>2.0</td>\n      <td>NaN</td>\n      <td>...</td>\n      <td>NaN</td>\n      <td>NaN</td>\n      <td>NaN</td>\n      <td>NaN</td>\n      <td>NaN</td>\n      <td>NaN</td>\n      <td>NaN</td>\n      <td>NaN</td>\n      <td>NaN</td>\n      <td>NaN</td>\n    </tr>\n    <tr>\n      <th>15717</th>\n      <td>6474</td>\n      <td>12365</td>\n      <td>2021-10-13</td>\n      <td>76.0</td>\n      <td>True</td>\n      <td>99.0</td>\n      <td>NaN</td>\n      <td>1.0</td>\n      <td>NaN</td>\n      <td>NaN</td>\n      <td>...</td>\n      <td>NaN</td>\n      <td>NaN</td>\n      <td>NaN</td>\n      <td>NaN</td>\n      <td>NaN</td>\n      <td>NaN</td>\n      <td>5.0</td>\n      <td>8.0</td>\n      <td>NaN</td>\n      <td>4.0</td>\n    </tr>\n    <tr>\n      <th>15718</th>\n      <td>78391</td>\n      <td>16866</td>\n      <td>NaN</td>\n      <td>NaN</td>\n      <td>NaN</td>\n      <td>NaN</td>\n      <td>NaN</td>\n      <td>NaN</td>\n      <td>NaN</td>\n      <td>NaN</td>\n      <td>...</td>\n      <td>NaN</td>\n      <td>NaN</td>\n      <td>NaN</td>\n      <td>NaN</td>\n      <td>NaN</td>\n      <td>NaN</td>\n      <td>NaN</td>\n      <td>NaN</td>\n      <td>NaN</td>\n      <td>NaN</td>\n    </tr>\n    <tr>\n      <th>15719</th>\n      <td>2375</td>\n      <td>1764</td>\n      <td>2021-08-11</td>\n      <td>15.0</td>\n      <td>False</td>\n      <td>NaN</td>\n      <td>NaN</td>\n      <td>1.0</td>\n      <td>NaN</td>\n      <td>NaN</td>\n      <td>...</td>\n      <td>NaN</td>\n      <td>NaN</td>\n      <td>NaN</td>\n      <td>NaN</td>\n      <td>NaN</td>\n      <td>NaN</td>\n      <td>6.0</td>\n      <td>7.0</td>\n      <td>NaN</td>\n      <td>3.0</td>\n    </tr>\n  </tbody>\n</table>\n<p>15720 rows × 750 columns</p>\n</div>"
     },
     "execution_count": 357,
     "metadata": {},
     "output_type": "execute_result"
    }
   ],
   "source": [
    "file_path_AFUSdo = 'Dataset/SurveyData/SurveyData_CSV_DAP_2021_AFUS_dog_owner_v1.0.csv'\n",
    "df_AFUSdo = pd.read_csv(file_path_AFUSdo)\n",
    "df_AFUSdo"
   ],
   "metadata": {
    "collapsed": false
   }
  },
  {
   "cell_type": "code",
   "execution_count": 360,
   "outputs": [
    {
     "data": {
      "text/plain": "       dog_id  owner_id afus_complete_date  afus_dd_dog_weight_lbs  \\\n0       68063      9427         2021-10-24                    14.0   \n1       54147     10321         2021-10-15                   110.0   \n2       58831     18537         2021-11-07                    72.0   \n3       80304     23529         2021-12-28                    18.0   \n4       51443     20124         2021-12-06                    16.0   \n...       ...       ...                ...                     ...   \n15715   29649      3198         2021-08-19                    76.0   \n15716   79295     19482                NaN                    63.0   \n15717    6474     12365         2021-10-13                    76.0   \n15718   78391     16866                NaN                     NaN   \n15719    2375      1764         2021-08-11                    15.0   \n\n      afus_dd_insurance_yn  afus_dd_insurance_company  \\\n0                     True                        6.0   \n1                    False                        NaN   \n2                    False                        NaN   \n3                    False                        NaN   \n4                    False                        NaN   \n...                    ...                        ...   \n15715                 True                        6.0   \n15716                False                        NaN   \n15717                 True                       99.0   \n15718                  NaN                        NaN   \n15719                False                        NaN   \n\n      afus_dd_insurance_company_other  afus_dd_activities_companion_animal  \\\n0                                 NaN                                  1.0   \n1                                 NaN                                  1.0   \n2                                 NaN                                  1.0   \n3                                 NaN                                  1.0   \n4                                 NaN                                  1.0   \n...                               ...                                  ...   \n15715                             NaN                                  1.0   \n15716                             NaN                                  1.0   \n15717                             NaN                                  1.0   \n15718                             NaN                                  NaN   \n15719                             NaN                                  1.0   \n\n       afus_dd_activities_obedience  afus_dd_activities_show  ...  \\\n0                               NaN                      NaN  ...   \n1                               2.0                      NaN  ...   \n2                               NaN                      NaN  ...   \n3                               NaN                      NaN  ...   \n4                               NaN                      NaN  ...   \n...                             ...                      ...  ...   \n15715                           NaN                      NaN  ...   \n15716                           2.0                      NaN  ...   \n15717                           NaN                      NaN  ...   \n15718                           NaN                      NaN  ...   \n15719                           NaN                      NaN  ...   \n\n       AFUS_2021_Complete  EOLS_Complete   DNA_Swab_ID  PrimaryAddress_HLES  \\\n0             YYYYYYYYYYY              N           NaN                    Y   \n1             YYYYYYYYYYY              N           NaN                    Y   \n2             YYYYYYYYYYY              N           NaN                    Y   \n3             YYYYYYYYYYY              N           NaN                    Y   \n4             YYYYYYYYYYY              N           NaN                    Y   \n...                   ...            ...           ...                  ...   \n15715         YYYYYYYYYYY              N  3.102006e+13                    Y   \n15716         NYNNNNNNNYN              N           NaN                    Y   \n15717         YYYYYYYYYYY              N           NaN                    Y   \n15718         YNNNNNNNNNN              Y           NaN                    Y   \n15719         YYYYYYYYYYY              N           NaN                    Y   \n\n       SecondaryAddress_HLES  PrimaryAddress_AFUS2021  \\\n0                          N                        Y   \n1                          N                        N   \n2                          N                        N   \n3                          N                        N   \n4                          N                        N   \n...                      ...                      ...   \n15715                      N                        N   \n15716                      N                        N   \n15717                      N                        N   \n15718                      N                        N   \n15719                      N                        N   \n\n       SecondaryAddress_AFUS2021         Breed Type              Sub Breed  \\\n0                              N                NaN                    NaN   \n1                              N       Mastiff-Like  Similar to retrievers   \n2                              N          Retriever                 Golden   \n3                              N       Mastiff-Like               Bulldogs   \n4                              N  Ancient and Spitz      Ancient and Spitz   \n...                          ...                ...                    ...   \n15715                          N          Retriever                   Labs   \n15716                          N       Mastiff-Like               Bulldogs   \n15717                          N       Mastiff-Like               Bulldogs   \n15718                          N       Mastiff-Like  Similar to retrievers   \n15719                          N           Toy dogs               Shih Tzu   \n\n                Breed Group  \n0                       NaN  \n1      Mastiff-like Group 1  \n2                    Golden  \n3      Mastiff-like Group 1  \n4         Ancient and Spitz  \n...                     ...  \n15715                  Labs  \n15716  Mastiff-like Group 1  \n15717  Mastiff-like Group 1  \n15718  Mastiff-like Group 1  \n15719           Toy - Other  \n\n[15720 rows x 779 columns]",
      "text/html": "<div>\n<style scoped>\n    .dataframe tbody tr th:only-of-type {\n        vertical-align: middle;\n    }\n\n    .dataframe tbody tr th {\n        vertical-align: top;\n    }\n\n    .dataframe thead th {\n        text-align: right;\n    }\n</style>\n<table border=\"1\" class=\"dataframe\">\n  <thead>\n    <tr style=\"text-align: right;\">\n      <th></th>\n      <th>dog_id</th>\n      <th>owner_id</th>\n      <th>afus_complete_date</th>\n      <th>afus_dd_dog_weight_lbs</th>\n      <th>afus_dd_insurance_yn</th>\n      <th>afus_dd_insurance_company</th>\n      <th>afus_dd_insurance_company_other</th>\n      <th>afus_dd_activities_companion_animal</th>\n      <th>afus_dd_activities_obedience</th>\n      <th>afus_dd_activities_show</th>\n      <th>...</th>\n      <th>AFUS_2021_Complete</th>\n      <th>EOLS_Complete</th>\n      <th>DNA_Swab_ID</th>\n      <th>PrimaryAddress_HLES</th>\n      <th>SecondaryAddress_HLES</th>\n      <th>PrimaryAddress_AFUS2021</th>\n      <th>SecondaryAddress_AFUS2021</th>\n      <th>Breed Type</th>\n      <th>Sub Breed</th>\n      <th>Breed Group</th>\n    </tr>\n  </thead>\n  <tbody>\n    <tr>\n      <th>0</th>\n      <td>68063</td>\n      <td>9427</td>\n      <td>2021-10-24</td>\n      <td>14.0</td>\n      <td>True</td>\n      <td>6.0</td>\n      <td>NaN</td>\n      <td>1.0</td>\n      <td>NaN</td>\n      <td>NaN</td>\n      <td>...</td>\n      <td>YYYYYYYYYYY</td>\n      <td>N</td>\n      <td>NaN</td>\n      <td>Y</td>\n      <td>N</td>\n      <td>Y</td>\n      <td>N</td>\n      <td>NaN</td>\n      <td>NaN</td>\n      <td>NaN</td>\n    </tr>\n    <tr>\n      <th>1</th>\n      <td>54147</td>\n      <td>10321</td>\n      <td>2021-10-15</td>\n      <td>110.0</td>\n      <td>False</td>\n      <td>NaN</td>\n      <td>NaN</td>\n      <td>1.0</td>\n      <td>2.0</td>\n      <td>NaN</td>\n      <td>...</td>\n      <td>YYYYYYYYYYY</td>\n      <td>N</td>\n      <td>NaN</td>\n      <td>Y</td>\n      <td>N</td>\n      <td>N</td>\n      <td>N</td>\n      <td>Mastiff-Like</td>\n      <td>Similar to retrievers</td>\n      <td>Mastiff-like Group 1</td>\n    </tr>\n    <tr>\n      <th>2</th>\n      <td>58831</td>\n      <td>18537</td>\n      <td>2021-11-07</td>\n      <td>72.0</td>\n      <td>False</td>\n      <td>NaN</td>\n      <td>NaN</td>\n      <td>1.0</td>\n      <td>NaN</td>\n      <td>NaN</td>\n      <td>...</td>\n      <td>YYYYYYYYYYY</td>\n      <td>N</td>\n      <td>NaN</td>\n      <td>Y</td>\n      <td>N</td>\n      <td>N</td>\n      <td>N</td>\n      <td>Retriever</td>\n      <td>Golden</td>\n      <td>Golden</td>\n    </tr>\n    <tr>\n      <th>3</th>\n      <td>80304</td>\n      <td>23529</td>\n      <td>2021-12-28</td>\n      <td>18.0</td>\n      <td>False</td>\n      <td>NaN</td>\n      <td>NaN</td>\n      <td>1.0</td>\n      <td>NaN</td>\n      <td>NaN</td>\n      <td>...</td>\n      <td>YYYYYYYYYYY</td>\n      <td>N</td>\n      <td>NaN</td>\n      <td>Y</td>\n      <td>N</td>\n      <td>N</td>\n      <td>N</td>\n      <td>Mastiff-Like</td>\n      <td>Bulldogs</td>\n      <td>Mastiff-like Group 1</td>\n    </tr>\n    <tr>\n      <th>4</th>\n      <td>51443</td>\n      <td>20124</td>\n      <td>2021-12-06</td>\n      <td>16.0</td>\n      <td>False</td>\n      <td>NaN</td>\n      <td>NaN</td>\n      <td>1.0</td>\n      <td>NaN</td>\n      <td>NaN</td>\n      <td>...</td>\n      <td>YYYYYYYYYYY</td>\n      <td>N</td>\n      <td>NaN</td>\n      <td>Y</td>\n      <td>N</td>\n      <td>N</td>\n      <td>N</td>\n      <td>Ancient and Spitz</td>\n      <td>Ancient and Spitz</td>\n      <td>Ancient and Spitz</td>\n    </tr>\n    <tr>\n      <th>...</th>\n      <td>...</td>\n      <td>...</td>\n      <td>...</td>\n      <td>...</td>\n      <td>...</td>\n      <td>...</td>\n      <td>...</td>\n      <td>...</td>\n      <td>...</td>\n      <td>...</td>\n      <td>...</td>\n      <td>...</td>\n      <td>...</td>\n      <td>...</td>\n      <td>...</td>\n      <td>...</td>\n      <td>...</td>\n      <td>...</td>\n      <td>...</td>\n      <td>...</td>\n      <td>...</td>\n    </tr>\n    <tr>\n      <th>15715</th>\n      <td>29649</td>\n      <td>3198</td>\n      <td>2021-08-19</td>\n      <td>76.0</td>\n      <td>True</td>\n      <td>6.0</td>\n      <td>NaN</td>\n      <td>1.0</td>\n      <td>NaN</td>\n      <td>NaN</td>\n      <td>...</td>\n      <td>YYYYYYYYYYY</td>\n      <td>N</td>\n      <td>3.102006e+13</td>\n      <td>Y</td>\n      <td>N</td>\n      <td>N</td>\n      <td>N</td>\n      <td>Retriever</td>\n      <td>Labs</td>\n      <td>Labs</td>\n    </tr>\n    <tr>\n      <th>15716</th>\n      <td>79295</td>\n      <td>19482</td>\n      <td>NaN</td>\n      <td>63.0</td>\n      <td>False</td>\n      <td>NaN</td>\n      <td>NaN</td>\n      <td>1.0</td>\n      <td>2.0</td>\n      <td>NaN</td>\n      <td>...</td>\n      <td>NYNNNNNNNYN</td>\n      <td>N</td>\n      <td>NaN</td>\n      <td>Y</td>\n      <td>N</td>\n      <td>N</td>\n      <td>N</td>\n      <td>Mastiff-Like</td>\n      <td>Bulldogs</td>\n      <td>Mastiff-like Group 1</td>\n    </tr>\n    <tr>\n      <th>15717</th>\n      <td>6474</td>\n      <td>12365</td>\n      <td>2021-10-13</td>\n      <td>76.0</td>\n      <td>True</td>\n      <td>99.0</td>\n      <td>NaN</td>\n      <td>1.0</td>\n      <td>NaN</td>\n      <td>NaN</td>\n      <td>...</td>\n      <td>YYYYYYYYYYY</td>\n      <td>N</td>\n      <td>NaN</td>\n      <td>Y</td>\n      <td>N</td>\n      <td>N</td>\n      <td>N</td>\n      <td>Mastiff-Like</td>\n      <td>Bulldogs</td>\n      <td>Mastiff-like Group 1</td>\n    </tr>\n    <tr>\n      <th>15718</th>\n      <td>78391</td>\n      <td>16866</td>\n      <td>NaN</td>\n      <td>NaN</td>\n      <td>NaN</td>\n      <td>NaN</td>\n      <td>NaN</td>\n      <td>NaN</td>\n      <td>NaN</td>\n      <td>NaN</td>\n      <td>...</td>\n      <td>YNNNNNNNNNN</td>\n      <td>Y</td>\n      <td>NaN</td>\n      <td>Y</td>\n      <td>N</td>\n      <td>N</td>\n      <td>N</td>\n      <td>Mastiff-Like</td>\n      <td>Similar to retrievers</td>\n      <td>Mastiff-like Group 1</td>\n    </tr>\n    <tr>\n      <th>15719</th>\n      <td>2375</td>\n      <td>1764</td>\n      <td>2021-08-11</td>\n      <td>15.0</td>\n      <td>False</td>\n      <td>NaN</td>\n      <td>NaN</td>\n      <td>1.0</td>\n      <td>NaN</td>\n      <td>NaN</td>\n      <td>...</td>\n      <td>YYYYYYYYYYY</td>\n      <td>N</td>\n      <td>NaN</td>\n      <td>Y</td>\n      <td>N</td>\n      <td>N</td>\n      <td>N</td>\n      <td>Toy dogs</td>\n      <td>Shih Tzu</td>\n      <td>Toy - Other</td>\n    </tr>\n  </tbody>\n</table>\n<p>15720 rows × 779 columns</p>\n</div>"
     },
     "execution_count": 360,
     "metadata": {},
     "output_type": "execute_result"
    }
   ],
   "source": [
    "merged_DogOV_breeds_AFUSdo = pd.merge(df_AFUSdo, merged_DogOV_breeds, on='dog_id', how='left')\n",
    "merged_DogOV_breeds_AFUSdo"
   ],
   "metadata": {
    "collapsed": false
   }
  },
  {
   "cell_type": "code",
   "execution_count": 361,
   "outputs": [
    {
     "data": {
      "text/plain": "dog_id\n68063    1\n83968    1\n84389    1\n14042    1\n81014    1\n        ..\n24224    1\n30572    1\n71268    1\n49035    1\n2375     1\nName: count, Length: 15720, dtype: int64"
     },
     "execution_count": 361,
     "metadata": {},
     "output_type": "execute_result"
    }
   ],
   "source": [
    "merged_DogOV_breeds_AFUSdo[\"dog_id\"].value_counts()"
   ],
   "metadata": {
    "collapsed": false
   }
  },
  {
   "cell_type": "code",
   "execution_count": 362,
   "outputs": [
    {
     "data": {
      "text/plain": "                Breed Group                           Breed  \\\n0                       NaN                         Unknown   \n1      Mastiff-like Group 1                    Newfoundland   \n2                    Golden                Golden Retriever   \n3      Mastiff-like Group 1  American Staffordshire Terrier   \n4         Ancient and Spitz                 Coton De Tulear   \n...                     ...                             ...   \n15715                  Labs              Labrador Retriever   \n15716  Mastiff-like Group 1  American Staffordshire Terrier   \n15717  Mastiff-like Group 1  American Staffordshire Terrier   \n15718  Mastiff-like Group 1                      Great Dane   \n15719           Toy - Other                        Shih Tzu   \n\n              Breed Type              Sub Breed  \n0                    NaN                    NaN  \n1           Mastiff-Like  Similar to retrievers  \n2              Retriever                 Golden  \n3           Mastiff-Like               Bulldogs  \n4      Ancient and Spitz      Ancient and Spitz  \n...                  ...                    ...  \n15715          Retriever                   Labs  \n15716       Mastiff-Like               Bulldogs  \n15717       Mastiff-Like               Bulldogs  \n15718       Mastiff-Like  Similar to retrievers  \n15719           Toy dogs               Shih Tzu  \n\n[15720 rows x 4 columns]",
      "text/html": "<div>\n<style scoped>\n    .dataframe tbody tr th:only-of-type {\n        vertical-align: middle;\n    }\n\n    .dataframe tbody tr th {\n        vertical-align: top;\n    }\n\n    .dataframe thead th {\n        text-align: right;\n    }\n</style>\n<table border=\"1\" class=\"dataframe\">\n  <thead>\n    <tr style=\"text-align: right;\">\n      <th></th>\n      <th>Breed Group</th>\n      <th>Breed</th>\n      <th>Breed Type</th>\n      <th>Sub Breed</th>\n    </tr>\n  </thead>\n  <tbody>\n    <tr>\n      <th>0</th>\n      <td>NaN</td>\n      <td>Unknown</td>\n      <td>NaN</td>\n      <td>NaN</td>\n    </tr>\n    <tr>\n      <th>1</th>\n      <td>Mastiff-like Group 1</td>\n      <td>Newfoundland</td>\n      <td>Mastiff-Like</td>\n      <td>Similar to retrievers</td>\n    </tr>\n    <tr>\n      <th>2</th>\n      <td>Golden</td>\n      <td>Golden Retriever</td>\n      <td>Retriever</td>\n      <td>Golden</td>\n    </tr>\n    <tr>\n      <th>3</th>\n      <td>Mastiff-like Group 1</td>\n      <td>American Staffordshire Terrier</td>\n      <td>Mastiff-Like</td>\n      <td>Bulldogs</td>\n    </tr>\n    <tr>\n      <th>4</th>\n      <td>Ancient and Spitz</td>\n      <td>Coton De Tulear</td>\n      <td>Ancient and Spitz</td>\n      <td>Ancient and Spitz</td>\n    </tr>\n    <tr>\n      <th>...</th>\n      <td>...</td>\n      <td>...</td>\n      <td>...</td>\n      <td>...</td>\n    </tr>\n    <tr>\n      <th>15715</th>\n      <td>Labs</td>\n      <td>Labrador Retriever</td>\n      <td>Retriever</td>\n      <td>Labs</td>\n    </tr>\n    <tr>\n      <th>15716</th>\n      <td>Mastiff-like Group 1</td>\n      <td>American Staffordshire Terrier</td>\n      <td>Mastiff-Like</td>\n      <td>Bulldogs</td>\n    </tr>\n    <tr>\n      <th>15717</th>\n      <td>Mastiff-like Group 1</td>\n      <td>American Staffordshire Terrier</td>\n      <td>Mastiff-Like</td>\n      <td>Bulldogs</td>\n    </tr>\n    <tr>\n      <th>15718</th>\n      <td>Mastiff-like Group 1</td>\n      <td>Great Dane</td>\n      <td>Mastiff-Like</td>\n      <td>Similar to retrievers</td>\n    </tr>\n    <tr>\n      <th>15719</th>\n      <td>Toy - Other</td>\n      <td>Shih Tzu</td>\n      <td>Toy dogs</td>\n      <td>Shih Tzu</td>\n    </tr>\n  </tbody>\n</table>\n<p>15720 rows × 4 columns</p>\n</div>"
     },
     "execution_count": 362,
     "metadata": {},
     "output_type": "execute_result"
    }
   ],
   "source": [
    "merged_DogOV_breeds_AFUSdo[[\"Breed Group\", \"Breed\", \"Breed Type\", \"Sub Breed\"]]"
   ],
   "metadata": {
    "collapsed": false
   }
  },
  {
   "cell_type": "code",
   "execution_count": 363,
   "outputs": [
    {
     "data": {
      "text/plain": "Breed Group\nLabs                        2256\nMastiff-like Group 1        2138\nAustralian-like             1527\nTerriers                    1244\nGolden                      1223\nToy - Other                 1165\nSpaniels                     976\nShepherd                     911\nWorking dogs - Non-sport     896\nAncient and Spitz            813\nHound                        760\nHerding dogs - Other         645\nChihuahua                    500\nDachshund                    319\nMixed Lab and Golden           3\nName: count, dtype: int64"
     },
     "execution_count": 363,
     "metadata": {},
     "output_type": "execute_result"
    }
   ],
   "source": [
    "merged_DogOV_breeds_AFUSdo[\"Breed Group\"].value_counts()"
   ],
   "metadata": {
    "collapsed": false
   }
  },
  {
   "cell_type": "code",
   "execution_count": null,
   "outputs": [],
   "source": [],
   "metadata": {
    "collapsed": false
   }
  }
 ],
 "metadata": {
  "kernelspec": {
   "display_name": "Python 3",
   "language": "python",
   "name": "python3"
  },
  "language_info": {
   "codemirror_mode": {
    "name": "ipython",
    "version": 2
   },
   "file_extension": ".py",
   "mimetype": "text/x-python",
   "name": "python",
   "nbconvert_exporter": "python",
   "pygments_lexer": "ipython2",
   "version": "2.7.6"
  }
 },
 "nbformat": 4,
 "nbformat_minor": 0
}
