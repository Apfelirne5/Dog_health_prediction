{
 "cells": [
  {
   "cell_type": "code",
   "execution_count": 11,
   "metadata": {
    "collapsed": true
   },
   "outputs": [],
   "source": [
    "import pandas as pd\n",
    "import matplotlib.pyplot as plt\n",
    "import seaborn as sns\n",
    "import numpy as np"
   ]
  },
  {
   "cell_type": "code",
   "execution_count": 12,
   "outputs": [
    {
     "name": "stderr",
     "output_type": "stream",
     "text": [
      "/var/folders/zd/3_6frj8s08b9zb1f3y0xqr2r0000gn/T/ipykernel_23816/1766648619.py:2: DtypeWarning: Columns (5,21,75,77,79,81,83,85,87,89,191,192,193,194,195,196,197,198,199,200,201,204,214,285,295,516,566) have mixed types. Specify dtype option on import or set low_memory=False.\n",
      "  df_HLES = pd.read_csv(file_path_HLES)\n"
     ]
    },
    {
     "data": {
      "text/plain": "       dog_id  owner_id st_hles_completion_date  dd_breed_pure_or_mixed  \\\n0       10509     14660              2020-10-17                       2   \n1       74227     16755              2020-10-26                       2   \n2       32487      8568              2020-09-07                       1   \n3       63150      5380              2020-08-21                       2   \n4       33369     15957              2020-10-23                       2   \n...       ...       ...                     ...                     ...   \n33167   91849     32736              2021-06-22                       2   \n33168   33783      9482              2020-09-15                       2   \n33169   98862     32312              2021-05-25                       2   \n33170   99462     32692              2021-06-18                       2   \n33171    6530     23713              2020-11-28                       2   \n\n       dd_breed_pure dd_breed_pure_non_akc  dd_breed_mixed_primary  \\\n0                NaN                   NaN                    16.0   \n1                NaN                   NaN                   133.0   \n2              159.0                   NaN                     NaN   \n3                NaN                   NaN                   999.0   \n4                NaN                   NaN                   230.0   \n...              ...                   ...                     ...   \n33167            NaN                   NaN                   276.0   \n33168            NaN                   NaN                   130.0   \n33169            NaN                   NaN                    60.0   \n33170            NaN                   NaN                   204.0   \n33171            NaN                   NaN                   261.0   \n\n       dd_breed_mixed_secondary  dd_age_years  dd_age_basis  ...  \\\n0                         999.0     16.333333             2  ...   \n1                          12.0      1.833333             1  ...   \n2                           NaN     13.000000             3  ...   \n3                         999.0     13.000000             3  ...   \n4                          82.0      2.166667             1  ...   \n...                         ...           ...           ...  ...   \n33167                       1.0     10.000000             3  ...   \n33168                     195.0      3.000000             3  ...   \n33169                      49.0      4.000000             3  ...   \n33170                      27.0      0.916667             1  ...   \n33171                     999.0     13.416667             2  ...   \n\n      oc_primary_residence_state oc_primary_residence_census_division  \\\n0                             MO                                  4.0   \n1                             MD                                  5.0   \n2                             VA                                  5.0   \n3                             CA                                  9.0   \n4                             OH                                  3.0   \n...                          ...                                  ...   \n33167                         CA                                  9.0   \n33168                         WA                                  9.0   \n33169                         AR                                  7.0   \n33170                         WA                                  9.0   \n33171                         IL                                  3.0   \n\n      oc_primary_residence_ownership  \\\n0                                  2   \n1                                  2   \n2                                  1   \n3                                  2   \n4                                  2   \n...                              ...   \n33167                              2   \n33168                              1   \n33169                              2   \n33170                              2   \n33171                              2   \n\n      oc_primary_residence_ownership_other_description  \\\n0                                                  NaN   \n1                                                  NaN   \n2                                                  NaN   \n3                                                  NaN   \n4                                                  NaN   \n...                                                ...   \n33167                                              NaN   \n33168                                              NaN   \n33169                                              NaN   \n33170                                              NaN   \n33171                                              NaN   \n\n      oc_primary_residence_time_percentage oc_secondary_residence  \\\n0                                      NaN                  False   \n1                                      NaN                  False   \n2                                      NaN                  False   \n3                                      NaN                  False   \n4                                      NaN                  False   \n...                                    ...                    ...   \n33167                                  5.0                   True   \n33168                                  NaN                  False   \n33169                                  NaN                  False   \n33170                                  NaN                  False   \n33171                                  NaN                  False   \n\n      oc_secondary_residence_state oc_secondary_residence_ownership  \\\n0                              NaN                              NaN   \n1                              NaN                              NaN   \n2                              NaN                              NaN   \n3                              NaN                              NaN   \n4                              NaN                              NaN   \n...                            ...                              ...   \n33167                           NH                              2.0   \n33168                          NaN                              NaN   \n33169                          NaN                              NaN   \n33170                          NaN                              NaN   \n33171                          NaN                              NaN   \n\n      oc_secondary_residence_ownership_other_description  \\\n0                                                    NaN   \n1                                                    NaN   \n2                                                    NaN   \n3                                                    NaN   \n4                                                    NaN   \n...                                                  ...   \n33167                                                NaN   \n33168                                                NaN   \n33169                                                NaN   \n33170                                                NaN   \n33171                                                NaN   \n\n      oc_secondary_residence_time_percentage  \n0                                        NaN  \n1                                        NaN  \n2                                        NaN  \n3                                        NaN  \n4                                        NaN  \n...                                      ...  \n33167                                    1.0  \n33168                                    NaN  \n33169                                    NaN  \n33170                                    NaN  \n33171                                    NaN  \n\n[33172 rows x 658 columns]",
      "text/html": "<div>\n<style scoped>\n    .dataframe tbody tr th:only-of-type {\n        vertical-align: middle;\n    }\n\n    .dataframe tbody tr th {\n        vertical-align: top;\n    }\n\n    .dataframe thead th {\n        text-align: right;\n    }\n</style>\n<table border=\"1\" class=\"dataframe\">\n  <thead>\n    <tr style=\"text-align: right;\">\n      <th></th>\n      <th>dog_id</th>\n      <th>owner_id</th>\n      <th>st_hles_completion_date</th>\n      <th>dd_breed_pure_or_mixed</th>\n      <th>dd_breed_pure</th>\n      <th>dd_breed_pure_non_akc</th>\n      <th>dd_breed_mixed_primary</th>\n      <th>dd_breed_mixed_secondary</th>\n      <th>dd_age_years</th>\n      <th>dd_age_basis</th>\n      <th>...</th>\n      <th>oc_primary_residence_state</th>\n      <th>oc_primary_residence_census_division</th>\n      <th>oc_primary_residence_ownership</th>\n      <th>oc_primary_residence_ownership_other_description</th>\n      <th>oc_primary_residence_time_percentage</th>\n      <th>oc_secondary_residence</th>\n      <th>oc_secondary_residence_state</th>\n      <th>oc_secondary_residence_ownership</th>\n      <th>oc_secondary_residence_ownership_other_description</th>\n      <th>oc_secondary_residence_time_percentage</th>\n    </tr>\n  </thead>\n  <tbody>\n    <tr>\n      <th>0</th>\n      <td>10509</td>\n      <td>14660</td>\n      <td>2020-10-17</td>\n      <td>2</td>\n      <td>NaN</td>\n      <td>NaN</td>\n      <td>16.0</td>\n      <td>999.0</td>\n      <td>16.333333</td>\n      <td>2</td>\n      <td>...</td>\n      <td>MO</td>\n      <td>4.0</td>\n      <td>2</td>\n      <td>NaN</td>\n      <td>NaN</td>\n      <td>False</td>\n      <td>NaN</td>\n      <td>NaN</td>\n      <td>NaN</td>\n      <td>NaN</td>\n    </tr>\n    <tr>\n      <th>1</th>\n      <td>74227</td>\n      <td>16755</td>\n      <td>2020-10-26</td>\n      <td>2</td>\n      <td>NaN</td>\n      <td>NaN</td>\n      <td>133.0</td>\n      <td>12.0</td>\n      <td>1.833333</td>\n      <td>1</td>\n      <td>...</td>\n      <td>MD</td>\n      <td>5.0</td>\n      <td>2</td>\n      <td>NaN</td>\n      <td>NaN</td>\n      <td>False</td>\n      <td>NaN</td>\n      <td>NaN</td>\n      <td>NaN</td>\n      <td>NaN</td>\n    </tr>\n    <tr>\n      <th>2</th>\n      <td>32487</td>\n      <td>8568</td>\n      <td>2020-09-07</td>\n      <td>1</td>\n      <td>159.0</td>\n      <td>NaN</td>\n      <td>NaN</td>\n      <td>NaN</td>\n      <td>13.000000</td>\n      <td>3</td>\n      <td>...</td>\n      <td>VA</td>\n      <td>5.0</td>\n      <td>1</td>\n      <td>NaN</td>\n      <td>NaN</td>\n      <td>False</td>\n      <td>NaN</td>\n      <td>NaN</td>\n      <td>NaN</td>\n      <td>NaN</td>\n    </tr>\n    <tr>\n      <th>3</th>\n      <td>63150</td>\n      <td>5380</td>\n      <td>2020-08-21</td>\n      <td>2</td>\n      <td>NaN</td>\n      <td>NaN</td>\n      <td>999.0</td>\n      <td>999.0</td>\n      <td>13.000000</td>\n      <td>3</td>\n      <td>...</td>\n      <td>CA</td>\n      <td>9.0</td>\n      <td>2</td>\n      <td>NaN</td>\n      <td>NaN</td>\n      <td>False</td>\n      <td>NaN</td>\n      <td>NaN</td>\n      <td>NaN</td>\n      <td>NaN</td>\n    </tr>\n    <tr>\n      <th>4</th>\n      <td>33369</td>\n      <td>15957</td>\n      <td>2020-10-23</td>\n      <td>2</td>\n      <td>NaN</td>\n      <td>NaN</td>\n      <td>230.0</td>\n      <td>82.0</td>\n      <td>2.166667</td>\n      <td>1</td>\n      <td>...</td>\n      <td>OH</td>\n      <td>3.0</td>\n      <td>2</td>\n      <td>NaN</td>\n      <td>NaN</td>\n      <td>False</td>\n      <td>NaN</td>\n      <td>NaN</td>\n      <td>NaN</td>\n      <td>NaN</td>\n    </tr>\n    <tr>\n      <th>...</th>\n      <td>...</td>\n      <td>...</td>\n      <td>...</td>\n      <td>...</td>\n      <td>...</td>\n      <td>...</td>\n      <td>...</td>\n      <td>...</td>\n      <td>...</td>\n      <td>...</td>\n      <td>...</td>\n      <td>...</td>\n      <td>...</td>\n      <td>...</td>\n      <td>...</td>\n      <td>...</td>\n      <td>...</td>\n      <td>...</td>\n      <td>...</td>\n      <td>...</td>\n      <td>...</td>\n    </tr>\n    <tr>\n      <th>33167</th>\n      <td>91849</td>\n      <td>32736</td>\n      <td>2021-06-22</td>\n      <td>2</td>\n      <td>NaN</td>\n      <td>NaN</td>\n      <td>276.0</td>\n      <td>1.0</td>\n      <td>10.000000</td>\n      <td>3</td>\n      <td>...</td>\n      <td>CA</td>\n      <td>9.0</td>\n      <td>2</td>\n      <td>NaN</td>\n      <td>5.0</td>\n      <td>True</td>\n      <td>NH</td>\n      <td>2.0</td>\n      <td>NaN</td>\n      <td>1.0</td>\n    </tr>\n    <tr>\n      <th>33168</th>\n      <td>33783</td>\n      <td>9482</td>\n      <td>2020-09-15</td>\n      <td>2</td>\n      <td>NaN</td>\n      <td>NaN</td>\n      <td>130.0</td>\n      <td>195.0</td>\n      <td>3.000000</td>\n      <td>3</td>\n      <td>...</td>\n      <td>WA</td>\n      <td>9.0</td>\n      <td>1</td>\n      <td>NaN</td>\n      <td>NaN</td>\n      <td>False</td>\n      <td>NaN</td>\n      <td>NaN</td>\n      <td>NaN</td>\n      <td>NaN</td>\n    </tr>\n    <tr>\n      <th>33169</th>\n      <td>98862</td>\n      <td>32312</td>\n      <td>2021-05-25</td>\n      <td>2</td>\n      <td>NaN</td>\n      <td>NaN</td>\n      <td>60.0</td>\n      <td>49.0</td>\n      <td>4.000000</td>\n      <td>3</td>\n      <td>...</td>\n      <td>AR</td>\n      <td>7.0</td>\n      <td>2</td>\n      <td>NaN</td>\n      <td>NaN</td>\n      <td>False</td>\n      <td>NaN</td>\n      <td>NaN</td>\n      <td>NaN</td>\n      <td>NaN</td>\n    </tr>\n    <tr>\n      <th>33170</th>\n      <td>99462</td>\n      <td>32692</td>\n      <td>2021-06-18</td>\n      <td>2</td>\n      <td>NaN</td>\n      <td>NaN</td>\n      <td>204.0</td>\n      <td>27.0</td>\n      <td>0.916667</td>\n      <td>1</td>\n      <td>...</td>\n      <td>WA</td>\n      <td>9.0</td>\n      <td>2</td>\n      <td>NaN</td>\n      <td>NaN</td>\n      <td>False</td>\n      <td>NaN</td>\n      <td>NaN</td>\n      <td>NaN</td>\n      <td>NaN</td>\n    </tr>\n    <tr>\n      <th>33171</th>\n      <td>6530</td>\n      <td>23713</td>\n      <td>2020-11-28</td>\n      <td>2</td>\n      <td>NaN</td>\n      <td>NaN</td>\n      <td>261.0</td>\n      <td>999.0</td>\n      <td>13.416667</td>\n      <td>2</td>\n      <td>...</td>\n      <td>IL</td>\n      <td>3.0</td>\n      <td>2</td>\n      <td>NaN</td>\n      <td>NaN</td>\n      <td>False</td>\n      <td>NaN</td>\n      <td>NaN</td>\n      <td>NaN</td>\n      <td>NaN</td>\n    </tr>\n  </tbody>\n</table>\n<p>33172 rows × 658 columns</p>\n</div>"
     },
     "execution_count": 12,
     "metadata": {},
     "output_type": "execute_result"
    }
   ],
   "source": [
    "file_path_HLES = '../Dataset/SurveyData/SurveyData_CSV_DAP_2021_HLES_dog_owner_v1.0.csv'\n",
    "df_HLES = pd.read_csv(file_path_HLES)\n",
    "df_HLES"
   ],
   "metadata": {
    "collapsed": false
   }
  },
  {
   "cell_type": "code",
   "execution_count": 13,
   "outputs": [
    {
     "data": {
      "text/plain": "       od_annual_income_range_usd  od_max_education\n0                               4                 5\n1                              10                10\n2                              10                10\n3                               5                11\n4                               7                 8\n...                           ...               ...\n33167                          98                 8\n33168                           4                 5\n33169                           3                 8\n33170                           5                 8\n33171                          98                 8\n\n[33172 rows x 2 columns]",
      "text/html": "<div>\n<style scoped>\n    .dataframe tbody tr th:only-of-type {\n        vertical-align: middle;\n    }\n\n    .dataframe tbody tr th {\n        vertical-align: top;\n    }\n\n    .dataframe thead th {\n        text-align: right;\n    }\n</style>\n<table border=\"1\" class=\"dataframe\">\n  <thead>\n    <tr style=\"text-align: right;\">\n      <th></th>\n      <th>od_annual_income_range_usd</th>\n      <th>od_max_education</th>\n    </tr>\n  </thead>\n  <tbody>\n    <tr>\n      <th>0</th>\n      <td>4</td>\n      <td>5</td>\n    </tr>\n    <tr>\n      <th>1</th>\n      <td>10</td>\n      <td>10</td>\n    </tr>\n    <tr>\n      <th>2</th>\n      <td>10</td>\n      <td>10</td>\n    </tr>\n    <tr>\n      <th>3</th>\n      <td>5</td>\n      <td>11</td>\n    </tr>\n    <tr>\n      <th>4</th>\n      <td>7</td>\n      <td>8</td>\n    </tr>\n    <tr>\n      <th>...</th>\n      <td>...</td>\n      <td>...</td>\n    </tr>\n    <tr>\n      <th>33167</th>\n      <td>98</td>\n      <td>8</td>\n    </tr>\n    <tr>\n      <th>33168</th>\n      <td>4</td>\n      <td>5</td>\n    </tr>\n    <tr>\n      <th>33169</th>\n      <td>3</td>\n      <td>8</td>\n    </tr>\n    <tr>\n      <th>33170</th>\n      <td>5</td>\n      <td>8</td>\n    </tr>\n    <tr>\n      <th>33171</th>\n      <td>98</td>\n      <td>8</td>\n    </tr>\n  </tbody>\n</table>\n<p>33172 rows × 2 columns</p>\n</div>"
     },
     "execution_count": 13,
     "metadata": {},
     "output_type": "execute_result"
    }
   ],
   "source": [
    "df_HLES[[\"od_annual_income_range_usd\", \"od_max_education\"]]"
   ],
   "metadata": {
    "collapsed": false
   }
  },
  {
   "cell_type": "code",
   "execution_count": 22,
   "outputs": [
    {
     "data": {
      "text/plain": "od_max_education\n8     11474\n9      9340\n5      3102\n10     2916\n11     2627\n7      2065\n6       848\n3       624\n4       118\n2        54\n1         2\n0         2\nName: count, dtype: int64"
     },
     "execution_count": 22,
     "metadata": {},
     "output_type": "execute_result"
    }
   ],
   "source": [
    "df_HLES[\"od_max_education\"].value_counts()"
   ],
   "metadata": {
    "collapsed": false
   }
  },
  {
   "cell_type": "code",
   "execution_count": 15,
   "outputs": [
    {
     "data": {
      "text/plain": "32       98\n39       98\n47       98\n49       98\n58       98\n         ..\n33146    98\n33151    98\n33160    98\n33167    98\n33171    98\nName: od_annual_income_range_usd, Length: 4076, dtype: int64"
     },
     "execution_count": 15,
     "metadata": {},
     "output_type": "execute_result"
    }
   ],
   "source": [
    "df_HLES['od_annual_income_range_usd'][df_HLES['od_annual_income_range_usd'] == 98]"
   ],
   "metadata": {
    "collapsed": false
   }
  },
  {
   "cell_type": "code",
   "execution_count": 16,
   "outputs": [
    {
     "data": {
      "text/plain": "od_annual_income_range_usd\n10    6089\n98    4076\n6     3712\n4     3703\n5     3576\n3     3192\n7     2574\n8     2192\n2     1939\n9     1519\n1      600\nName: count, dtype: int64"
     },
     "execution_count": 16,
     "metadata": {},
     "output_type": "execute_result"
    }
   ],
   "source": [
    "df_HLES['od_annual_income_range_usd'].value_counts()"
   ],
   "metadata": {
    "collapsed": false
   }
  },
  {
   "cell_type": "code",
   "execution_count": 17,
   "outputs": [],
   "source": [
    "# Impute missing values with the most frequent category (mode)\n",
    "\n",
    "# most_frequent_category = df_HLES['annual_income_range'].mode().iloc[0]\n",
    "# df_HLES['annual_income_range'].replace(98, most_frequent_category, inplace=True)"
   ],
   "metadata": {
    "collapsed": false
   }
  },
  {
   "cell_type": "code",
   "execution_count": 18,
   "outputs": [],
   "source": [
    "df_HLES['od_annual_income_range_usd'].replace(98, np.nan, inplace=True)"
   ],
   "metadata": {
    "collapsed": false
   }
  },
  {
   "cell_type": "code",
   "execution_count": 40,
   "outputs": [
    {
     "data": {
      "text/plain": "       dog_id  od_annual_income_range_usd\n0       10509                         4.0\n1       74227                        10.0\n2       32487                        10.0\n3       63150                         5.0\n4       33369                         7.0\n...       ...                         ...\n33167   91849                         NaN\n33168   33783                         4.0\n33169   98862                         3.0\n33170   99462                         5.0\n33171    6530                         NaN\n\n[33172 rows x 2 columns]",
      "text/html": "<div>\n<style scoped>\n    .dataframe tbody tr th:only-of-type {\n        vertical-align: middle;\n    }\n\n    .dataframe tbody tr th {\n        vertical-align: top;\n    }\n\n    .dataframe thead th {\n        text-align: right;\n    }\n</style>\n<table border=\"1\" class=\"dataframe\">\n  <thead>\n    <tr style=\"text-align: right;\">\n      <th></th>\n      <th>dog_id</th>\n      <th>od_annual_income_range_usd</th>\n    </tr>\n  </thead>\n  <tbody>\n    <tr>\n      <th>0</th>\n      <td>10509</td>\n      <td>4.0</td>\n    </tr>\n    <tr>\n      <th>1</th>\n      <td>74227</td>\n      <td>10.0</td>\n    </tr>\n    <tr>\n      <th>2</th>\n      <td>32487</td>\n      <td>10.0</td>\n    </tr>\n    <tr>\n      <th>3</th>\n      <td>63150</td>\n      <td>5.0</td>\n    </tr>\n    <tr>\n      <th>4</th>\n      <td>33369</td>\n      <td>7.0</td>\n    </tr>\n    <tr>\n      <th>...</th>\n      <td>...</td>\n      <td>...</td>\n    </tr>\n    <tr>\n      <th>33167</th>\n      <td>91849</td>\n      <td>NaN</td>\n    </tr>\n    <tr>\n      <th>33168</th>\n      <td>33783</td>\n      <td>4.0</td>\n    </tr>\n    <tr>\n      <th>33169</th>\n      <td>98862</td>\n      <td>3.0</td>\n    </tr>\n    <tr>\n      <th>33170</th>\n      <td>99462</td>\n      <td>5.0</td>\n    </tr>\n    <tr>\n      <th>33171</th>\n      <td>6530</td>\n      <td>NaN</td>\n    </tr>\n  </tbody>\n</table>\n<p>33172 rows × 2 columns</p>\n</div>"
     },
     "execution_count": 40,
     "metadata": {},
     "output_type": "execute_result"
    }
   ],
   "source": [
    "# important to do this!Please keep the dog_id in combined_data, easy for checking\n",
    "id_owner_demographics = df_HLES[['dog_id', 'od_annual_income_range_usd']]\n",
    "id_owner_demographics"
   ],
   "metadata": {
    "collapsed": false
   }
  },
  {
   "cell_type": "code",
   "execution_count": 41,
   "outputs": [],
   "source": [
    "# make a new pickle file can load by our model.ipynb\n",
    "id_owner_demographics.to_pickle('features/od_income.pkl')\n",
    "id_owner_demographics.to_csv('features/od_income.csv', index=False)"
   ],
   "metadata": {
    "collapsed": false
   }
  },
  {
   "cell_type": "code",
   "execution_count": null,
   "outputs": [],
   "source": [],
   "metadata": {
    "collapsed": false,
    "pycharm": {
     "is_executing": true
    }
   }
  },
  {
   "cell_type": "markdown",
   "source": [
    "## Education level"
   ],
   "metadata": {
    "collapsed": false
   }
  },
  {
   "cell_type": "code",
   "execution_count": 24,
   "outputs": [
    {
     "data": {
      "text/plain": "       dog_id  od_max_education\n0       10509                 5\n1       74227                10\n2       32487                10\n3       63150                11\n4       33369                 8\n...       ...               ...\n33167   91849                 8\n33168   33783                 5\n33169   98862                 8\n33170   99462                 8\n33171    6530                 8\n\n[33172 rows x 2 columns]",
      "text/html": "<div>\n<style scoped>\n    .dataframe tbody tr th:only-of-type {\n        vertical-align: middle;\n    }\n\n    .dataframe tbody tr th {\n        vertical-align: top;\n    }\n\n    .dataframe thead th {\n        text-align: right;\n    }\n</style>\n<table border=\"1\" class=\"dataframe\">\n  <thead>\n    <tr style=\"text-align: right;\">\n      <th></th>\n      <th>dog_id</th>\n      <th>od_max_education</th>\n    </tr>\n  </thead>\n  <tbody>\n    <tr>\n      <th>0</th>\n      <td>10509</td>\n      <td>5</td>\n    </tr>\n    <tr>\n      <th>1</th>\n      <td>74227</td>\n      <td>10</td>\n    </tr>\n    <tr>\n      <th>2</th>\n      <td>32487</td>\n      <td>10</td>\n    </tr>\n    <tr>\n      <th>3</th>\n      <td>63150</td>\n      <td>11</td>\n    </tr>\n    <tr>\n      <th>4</th>\n      <td>33369</td>\n      <td>8</td>\n    </tr>\n    <tr>\n      <th>...</th>\n      <td>...</td>\n      <td>...</td>\n    </tr>\n    <tr>\n      <th>33167</th>\n      <td>91849</td>\n      <td>8</td>\n    </tr>\n    <tr>\n      <th>33168</th>\n      <td>33783</td>\n      <td>5</td>\n    </tr>\n    <tr>\n      <th>33169</th>\n      <td>98862</td>\n      <td>8</td>\n    </tr>\n    <tr>\n      <th>33170</th>\n      <td>99462</td>\n      <td>8</td>\n    </tr>\n    <tr>\n      <th>33171</th>\n      <td>6530</td>\n      <td>8</td>\n    </tr>\n  </tbody>\n</table>\n<p>33172 rows × 2 columns</p>\n</div>"
     },
     "execution_count": 24,
     "metadata": {},
     "output_type": "execute_result"
    }
   ],
   "source": [
    "# important to do this!Please keep the dog_id in combined_data, easy for checking\n",
    "id_education = df_HLES[['dog_id', 'od_max_education']]\n",
    "id_education"
   ],
   "metadata": {
    "collapsed": false
   }
  },
  {
   "cell_type": "code",
   "execution_count": 25,
   "outputs": [],
   "source": [
    "# make a new pickle file can load by our model.ipynb\n",
    "id_education.to_pickle('features/od_education.pkl')\n",
    "id_education.to_csv('features/od_education.csv', index=False)"
   ],
   "metadata": {
    "collapsed": false
   }
  },
  {
   "cell_type": "code",
   "execution_count": null,
   "outputs": [],
   "source": [],
   "metadata": {
    "collapsed": false
   }
  }
 ],
 "metadata": {
  "kernelspec": {
   "display_name": "Python 3",
   "language": "python",
   "name": "python3"
  },
  "language_info": {
   "codemirror_mode": {
    "name": "ipython",
    "version": 2
   },
   "file_extension": ".py",
   "mimetype": "text/x-python",
   "name": "python",
   "nbconvert_exporter": "python",
   "pygments_lexer": "ipython2",
   "version": "2.7.6"
  }
 },
 "nbformat": 4,
 "nbformat_minor": 0
}
