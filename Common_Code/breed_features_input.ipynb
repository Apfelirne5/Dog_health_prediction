{
 "cells": [
  {
   "cell_type": "code",
   "execution_count": 37,
   "metadata": {
    "collapsed": true
   },
   "outputs": [],
   "source": [
    "import pandas as pd\n",
    "import os\n",
    "import numpy as np\n",
    "import matplotlib.pyplot as plt\n",
    "from helper import *"
   ]
  },
  {
   "cell_type": "code",
   "execution_count": 38,
   "outputs": [
    {
     "data": {
      "text/plain": "       dog_id DAP_Pack_Date    Cohort Cohort_Enroll_Date Estimated_DOB  \\\n0           8    2020-08-12  DAP Pack                NaN    2011-02-15   \n1           9    2020-10-28  DAP Pack                NaN    2008-04-15   \n2          11    2020-08-31  DAP Pack                NaN    2011-04-15   \n3          12    2020-09-15  DAP Pack                NaN    2013-08-15   \n4          13    2020-11-22  DAP Pack                NaN    2018-03-15   \n...       ...           ...       ...                ...           ...   \n33167  103633    2021-12-29  DAP Pack                NaN    2014-09-15   \n33168  103637    2021-12-29  DAP Pack                NaN    2019-12-15   \n33169  103643    2021-12-30  DAP Pack                NaN    2020-04-15   \n33170  103647    2021-12-31  DAP Pack                NaN    2016-08-15   \n33171  103658    2021-12-31  DAP Pack                NaN    2010-12-31   \n\n       Estimated_Age_Years_at_HLES  \\\n0                              9.5   \n1                             12.5   \n2                              9.4   \n3                              7.1   \n4                              2.7   \n...                            ...   \n33167                          7.3   \n33168                          2.0   \n33169                          1.7   \n33170                          5.4   \n33171                         11.0   \n\n                                AgeDOB_Estimation_Method  \\\n0      Estimated using owner-reported birth year and ...   \n1      Estimated using owner-reported birth year and ...   \n2      Estimated using owner-reported birth year and ...   \n3      Estimated using owner-reported birth year and ...   \n4      Estimated using owner-reported birth year and ...   \n...                                                  ...   \n33167  Estimated using owner-reported birth year and ...   \n33168  Estimated using owner-reported birth year and ...   \n33169  Estimated using owner-reported birth year and ...   \n33170  Estimated using owner-reported birth year and ...   \n33171                 Estimated using owner-reported age   \n\n      Dog_Reported_Deceased  DOD Breed_Status  ... LifeStage_Class_at_HLES  \\\n0                         N  NaN  Mixed breed  ...            Mature Adult   \n1                         N  NaN     Purebred  ...                  Senior   \n2                         N  NaN     Purebred  ...            Mature Adult   \n3                         N  NaN  Mixed breed  ...            Mature Adult   \n4                         N  NaN     Purebred  ...             Young Adult   \n...                     ...  ...          ...  ...                     ...   \n33167                     N  NaN     Purebred  ...            Mature Adult   \n33168                     N  NaN  Mixed breed  ...             Young Adult   \n33169                     N  NaN  Mixed breed  ...             Young Adult   \n33170                     N  NaN     Purebred  ...            Mature Adult   \n33171                     N  NaN  Mixed breed  ...            Mature Adult   \n\n      CSLB_2020_Complete CSLB_2021_Complete AFUS_2021_Complete EOLS_Complete  \\\n0                      N                  N        NNNNNNNNNNN             N   \n1                      N                  N        NNNNNNNNNNN             N   \n2                      N                  N        NNNNNNNNNNN             N   \n3                      Y                  N        NNNNNNNNNNN             N   \n4                      Y                  Y        NNNNNNNNNNN             N   \n...                  ...                ...                ...           ...   \n33167                  N                  N        NNNNNNNNNNN             N   \n33168                  N                  N        NNNNNNNNNNN             N   \n33169                  N                  N        NNNNNNNNNNN             N   \n33170                  N                  N        NNNNNNNNNNN             N   \n33171                  N                  N        NNNNNNNNNNN             N   \n\n      DNA_Swab_ID PrimaryAddress_HLES SecondaryAddress_HLES  \\\n0             NaN                   Y                     N   \n1             NaN                   Y                     N   \n2             NaN                   Y                     N   \n3             NaN                   Y                     N   \n4             NaN                   Y                     N   \n...           ...                 ...                   ...   \n33167         NaN                   N                     N   \n33168         NaN                   N                     N   \n33169         NaN                   N                     N   \n33170         NaN                   N                     N   \n33171         NaN                   N                     N   \n\n      PrimaryAddress_AFUS2021 SecondaryAddress_AFUS2021  \n0                           N                         N  \n1                           N                         N  \n2                           N                         N  \n3                           N                         N  \n4                           N                         N  \n...                       ...                       ...  \n33167                       N                         N  \n33168                       N                         N  \n33169                       N                         N  \n33170                       N                         N  \n33171                       N                         N  \n\n[33172 rows x 27 columns]",
      "text/html": "<div>\n<style scoped>\n    .dataframe tbody tr th:only-of-type {\n        vertical-align: middle;\n    }\n\n    .dataframe tbody tr th {\n        vertical-align: top;\n    }\n\n    .dataframe thead th {\n        text-align: right;\n    }\n</style>\n<table border=\"1\" class=\"dataframe\">\n  <thead>\n    <tr style=\"text-align: right;\">\n      <th></th>\n      <th>dog_id</th>\n      <th>DAP_Pack_Date</th>\n      <th>Cohort</th>\n      <th>Cohort_Enroll_Date</th>\n      <th>Estimated_DOB</th>\n      <th>Estimated_Age_Years_at_HLES</th>\n      <th>AgeDOB_Estimation_Method</th>\n      <th>Dog_Reported_Deceased</th>\n      <th>DOD</th>\n      <th>Breed_Status</th>\n      <th>...</th>\n      <th>LifeStage_Class_at_HLES</th>\n      <th>CSLB_2020_Complete</th>\n      <th>CSLB_2021_Complete</th>\n      <th>AFUS_2021_Complete</th>\n      <th>EOLS_Complete</th>\n      <th>DNA_Swab_ID</th>\n      <th>PrimaryAddress_HLES</th>\n      <th>SecondaryAddress_HLES</th>\n      <th>PrimaryAddress_AFUS2021</th>\n      <th>SecondaryAddress_AFUS2021</th>\n    </tr>\n  </thead>\n  <tbody>\n    <tr>\n      <th>0</th>\n      <td>8</td>\n      <td>2020-08-12</td>\n      <td>DAP Pack</td>\n      <td>NaN</td>\n      <td>2011-02-15</td>\n      <td>9.5</td>\n      <td>Estimated using owner-reported birth year and ...</td>\n      <td>N</td>\n      <td>NaN</td>\n      <td>Mixed breed</td>\n      <td>...</td>\n      <td>Mature Adult</td>\n      <td>N</td>\n      <td>N</td>\n      <td>NNNNNNNNNNN</td>\n      <td>N</td>\n      <td>NaN</td>\n      <td>Y</td>\n      <td>N</td>\n      <td>N</td>\n      <td>N</td>\n    </tr>\n    <tr>\n      <th>1</th>\n      <td>9</td>\n      <td>2020-10-28</td>\n      <td>DAP Pack</td>\n      <td>NaN</td>\n      <td>2008-04-15</td>\n      <td>12.5</td>\n      <td>Estimated using owner-reported birth year and ...</td>\n      <td>N</td>\n      <td>NaN</td>\n      <td>Purebred</td>\n      <td>...</td>\n      <td>Senior</td>\n      <td>N</td>\n      <td>N</td>\n      <td>NNNNNNNNNNN</td>\n      <td>N</td>\n      <td>NaN</td>\n      <td>Y</td>\n      <td>N</td>\n      <td>N</td>\n      <td>N</td>\n    </tr>\n    <tr>\n      <th>2</th>\n      <td>11</td>\n      <td>2020-08-31</td>\n      <td>DAP Pack</td>\n      <td>NaN</td>\n      <td>2011-04-15</td>\n      <td>9.4</td>\n      <td>Estimated using owner-reported birth year and ...</td>\n      <td>N</td>\n      <td>NaN</td>\n      <td>Purebred</td>\n      <td>...</td>\n      <td>Mature Adult</td>\n      <td>N</td>\n      <td>N</td>\n      <td>NNNNNNNNNNN</td>\n      <td>N</td>\n      <td>NaN</td>\n      <td>Y</td>\n      <td>N</td>\n      <td>N</td>\n      <td>N</td>\n    </tr>\n    <tr>\n      <th>3</th>\n      <td>12</td>\n      <td>2020-09-15</td>\n      <td>DAP Pack</td>\n      <td>NaN</td>\n      <td>2013-08-15</td>\n      <td>7.1</td>\n      <td>Estimated using owner-reported birth year and ...</td>\n      <td>N</td>\n      <td>NaN</td>\n      <td>Mixed breed</td>\n      <td>...</td>\n      <td>Mature Adult</td>\n      <td>Y</td>\n      <td>N</td>\n      <td>NNNNNNNNNNN</td>\n      <td>N</td>\n      <td>NaN</td>\n      <td>Y</td>\n      <td>N</td>\n      <td>N</td>\n      <td>N</td>\n    </tr>\n    <tr>\n      <th>4</th>\n      <td>13</td>\n      <td>2020-11-22</td>\n      <td>DAP Pack</td>\n      <td>NaN</td>\n      <td>2018-03-15</td>\n      <td>2.7</td>\n      <td>Estimated using owner-reported birth year and ...</td>\n      <td>N</td>\n      <td>NaN</td>\n      <td>Purebred</td>\n      <td>...</td>\n      <td>Young Adult</td>\n      <td>Y</td>\n      <td>Y</td>\n      <td>NNNNNNNNNNN</td>\n      <td>N</td>\n      <td>NaN</td>\n      <td>Y</td>\n      <td>N</td>\n      <td>N</td>\n      <td>N</td>\n    </tr>\n    <tr>\n      <th>...</th>\n      <td>...</td>\n      <td>...</td>\n      <td>...</td>\n      <td>...</td>\n      <td>...</td>\n      <td>...</td>\n      <td>...</td>\n      <td>...</td>\n      <td>...</td>\n      <td>...</td>\n      <td>...</td>\n      <td>...</td>\n      <td>...</td>\n      <td>...</td>\n      <td>...</td>\n      <td>...</td>\n      <td>...</td>\n      <td>...</td>\n      <td>...</td>\n      <td>...</td>\n      <td>...</td>\n    </tr>\n    <tr>\n      <th>33167</th>\n      <td>103633</td>\n      <td>2021-12-29</td>\n      <td>DAP Pack</td>\n      <td>NaN</td>\n      <td>2014-09-15</td>\n      <td>7.3</td>\n      <td>Estimated using owner-reported birth year and ...</td>\n      <td>N</td>\n      <td>NaN</td>\n      <td>Purebred</td>\n      <td>...</td>\n      <td>Mature Adult</td>\n      <td>N</td>\n      <td>N</td>\n      <td>NNNNNNNNNNN</td>\n      <td>N</td>\n      <td>NaN</td>\n      <td>N</td>\n      <td>N</td>\n      <td>N</td>\n      <td>N</td>\n    </tr>\n    <tr>\n      <th>33168</th>\n      <td>103637</td>\n      <td>2021-12-29</td>\n      <td>DAP Pack</td>\n      <td>NaN</td>\n      <td>2019-12-15</td>\n      <td>2.0</td>\n      <td>Estimated using owner-reported birth year and ...</td>\n      <td>N</td>\n      <td>NaN</td>\n      <td>Mixed breed</td>\n      <td>...</td>\n      <td>Young Adult</td>\n      <td>N</td>\n      <td>N</td>\n      <td>NNNNNNNNNNN</td>\n      <td>N</td>\n      <td>NaN</td>\n      <td>N</td>\n      <td>N</td>\n      <td>N</td>\n      <td>N</td>\n    </tr>\n    <tr>\n      <th>33169</th>\n      <td>103643</td>\n      <td>2021-12-30</td>\n      <td>DAP Pack</td>\n      <td>NaN</td>\n      <td>2020-04-15</td>\n      <td>1.7</td>\n      <td>Estimated using owner-reported birth year and ...</td>\n      <td>N</td>\n      <td>NaN</td>\n      <td>Mixed breed</td>\n      <td>...</td>\n      <td>Young Adult</td>\n      <td>N</td>\n      <td>N</td>\n      <td>NNNNNNNNNNN</td>\n      <td>N</td>\n      <td>NaN</td>\n      <td>N</td>\n      <td>N</td>\n      <td>N</td>\n      <td>N</td>\n    </tr>\n    <tr>\n      <th>33170</th>\n      <td>103647</td>\n      <td>2021-12-31</td>\n      <td>DAP Pack</td>\n      <td>NaN</td>\n      <td>2016-08-15</td>\n      <td>5.4</td>\n      <td>Estimated using owner-reported birth year and ...</td>\n      <td>N</td>\n      <td>NaN</td>\n      <td>Purebred</td>\n      <td>...</td>\n      <td>Mature Adult</td>\n      <td>N</td>\n      <td>N</td>\n      <td>NNNNNNNNNNN</td>\n      <td>N</td>\n      <td>NaN</td>\n      <td>N</td>\n      <td>N</td>\n      <td>N</td>\n      <td>N</td>\n    </tr>\n    <tr>\n      <th>33171</th>\n      <td>103658</td>\n      <td>2021-12-31</td>\n      <td>DAP Pack</td>\n      <td>NaN</td>\n      <td>2010-12-31</td>\n      <td>11.0</td>\n      <td>Estimated using owner-reported age</td>\n      <td>N</td>\n      <td>NaN</td>\n      <td>Mixed breed</td>\n      <td>...</td>\n      <td>Mature Adult</td>\n      <td>N</td>\n      <td>N</td>\n      <td>NNNNNNNNNNN</td>\n      <td>N</td>\n      <td>NaN</td>\n      <td>N</td>\n      <td>N</td>\n      <td>N</td>\n      <td>N</td>\n    </tr>\n  </tbody>\n</table>\n<p>33172 rows × 27 columns</p>\n</div>"
     },
     "execution_count": 38,
     "metadata": {},
     "output_type": "execute_result"
    }
   ],
   "source": [
    "file_path_DogOverview = \"../Dataset/DogOverview/DogOverview_CSV_DAP_2021_DogOverview_v1.0.csv\"\n",
    "df_DogOV = pd.read_csv(file_path_DogOverview)\n",
    "df_DogOV"
   ],
   "metadata": {
    "collapsed": false
   }
  },
  {
   "cell_type": "code",
   "execution_count": 39,
   "outputs": [
    {
     "data": {
      "text/plain": "       dog_id                              Breed\n0           8     Labrador Retriever/Village Dog\n1           9                  Italian Greyhound\n2          11                 Labrador Retriever\n3          12  Siberian Husky/Labrador Retriever\n4          13                   Golden Retriever\n...       ...                                ...\n33167  103633              Australian Cattle Dog\n33168  103637            Golden Retriever/Poodle\n33169  103643                Poodle/Bichon Frise\n33170  103647                      Border Collie\n33171  103658  Border Collie/Australian Shepherd\n\n[33172 rows x 2 columns]",
      "text/html": "<div>\n<style scoped>\n    .dataframe tbody tr th:only-of-type {\n        vertical-align: middle;\n    }\n\n    .dataframe tbody tr th {\n        vertical-align: top;\n    }\n\n    .dataframe thead th {\n        text-align: right;\n    }\n</style>\n<table border=\"1\" class=\"dataframe\">\n  <thead>\n    <tr style=\"text-align: right;\">\n      <th></th>\n      <th>dog_id</th>\n      <th>Breed</th>\n    </tr>\n  </thead>\n  <tbody>\n    <tr>\n      <th>0</th>\n      <td>8</td>\n      <td>Labrador Retriever/Village Dog</td>\n    </tr>\n    <tr>\n      <th>1</th>\n      <td>9</td>\n      <td>Italian Greyhound</td>\n    </tr>\n    <tr>\n      <th>2</th>\n      <td>11</td>\n      <td>Labrador Retriever</td>\n    </tr>\n    <tr>\n      <th>3</th>\n      <td>12</td>\n      <td>Siberian Husky/Labrador Retriever</td>\n    </tr>\n    <tr>\n      <th>4</th>\n      <td>13</td>\n      <td>Golden Retriever</td>\n    </tr>\n    <tr>\n      <th>...</th>\n      <td>...</td>\n      <td>...</td>\n    </tr>\n    <tr>\n      <th>33167</th>\n      <td>103633</td>\n      <td>Australian Cattle Dog</td>\n    </tr>\n    <tr>\n      <th>33168</th>\n      <td>103637</td>\n      <td>Golden Retriever/Poodle</td>\n    </tr>\n    <tr>\n      <th>33169</th>\n      <td>103643</td>\n      <td>Poodle/Bichon Frise</td>\n    </tr>\n    <tr>\n      <th>33170</th>\n      <td>103647</td>\n      <td>Border Collie</td>\n    </tr>\n    <tr>\n      <th>33171</th>\n      <td>103658</td>\n      <td>Border Collie/Australian Shepherd</td>\n    </tr>\n  </tbody>\n</table>\n<p>33172 rows × 2 columns</p>\n</div>"
     },
     "execution_count": 39,
     "metadata": {},
     "output_type": "execute_result"
    }
   ],
   "source": [
    "df_DogOV[['dog_id', 'Breed']]"
   ],
   "metadata": {
    "collapsed": false
   }
  },
  {
   "cell_type": "code",
   "execution_count": 40,
   "outputs": [
    {
     "data": {
      "text/plain": "Breed\nLabrador Retriever                          1985\nGolden Retriever                            1728\nGerman Shepherd Dog                          759\nPoodle                                       547\nAustralian Shepherd                          543\n                                            ... \nTreeing Walker Coonhound/Russell Terrier       1\nPlott/German Shorthaired Pointer               1\nPekingese/Border Terrier                       1\nGreat Dane/Boerboel                            1\nAustralian Cattle Dog/Russell Terrier          1\nName: count, Length: 3514, dtype: int64"
     },
     "execution_count": 40,
     "metadata": {},
     "output_type": "execute_result"
    }
   ],
   "source": [
    "df_DogOV[\"Breed\"].value_counts()"
   ],
   "metadata": {
    "collapsed": false
   }
  },
  {
   "cell_type": "code",
   "execution_count": 41,
   "outputs": [
    {
     "data": {
      "text/plain": "Weight_Class_5KGBin_at_HLES\n5-9.9                                   5384\n25-29.9                                 4937\n20-24.9                                 4909\n30-34.9                                 3821\n15-19.9                                 3439\n10-14.9                                 3157\n35-39.9                                 2548\n0-4.9                                   1832\n45+                                     1755\n40-44.9                                 1321\nInsufficient information to classify      15\nName: count, dtype: int64"
     },
     "execution_count": 41,
     "metadata": {},
     "output_type": "execute_result"
    }
   ],
   "source": [
    "df_DogOV[\"Weight_Class_5KGBin_at_HLES\"].value_counts()"
   ],
   "metadata": {
    "collapsed": false
   }
  },
  {
   "cell_type": "code",
   "execution_count": 42,
   "outputs": [
    {
     "data": {
      "text/plain": "0           Labrador Retriever/Village Dog\n1                        Italian Greyhound\n2                       Labrador Retriever\n3        Siberian Husky/Labrador Retriever\n4                         Golden Retriever\n                       ...                \n33167                Australian Cattle Dog\n33168                         Goldendoodle\n33169                  Poodle/Bichon Frise\n33170                        Border Collie\n33171    Border Collie/Australian Shepherd\nName: Breed, Length: 33172, dtype: object"
     },
     "execution_count": 42,
     "metadata": {},
     "output_type": "execute_result"
    }
   ],
   "source": [
    "# Map the classification dict in helper.py to the 'Breed' column\n",
    "df_DogOV['Breed'] = df_DogOV['Breed'].map(lambda x: classification_mapping.get(x, x))\n",
    "df_DogOV['Breed']"
   ],
   "metadata": {
    "collapsed": false
   }
  },
  {
   "cell_type": "code",
   "execution_count": 43,
   "outputs": [
    {
     "data": {
      "text/plain": "Breed\nGoldendoodle                               623\nLabradoodle                                496\nLabrador Mix                               494\nUnknown/Unknown                            474\nTerrier Mix                                361\n                                          ... \nJack Russell Terrier/Collie                  1\nBoston Terrier/Samoyed                       1\nAnatolian Shepherd Dog/Chow Chow             1\nAmerican Water Spaniel/Golden Retriever      1\nAustralian Cattle Dog/Russell Terrier        1\nName: count, Length: 3074, dtype: int64"
     },
     "execution_count": 43,
     "metadata": {},
     "output_type": "execute_result"
    }
   ],
   "source": [
    "df_DogOV[\"Breed\"][df_DogOV[\"Breed_Status\"] == \"Mixed breed\"].value_counts()"
   ],
   "metadata": {
    "collapsed": false
   }
  },
  {
   "cell_type": "code",
   "execution_count": 44,
   "outputs": [
    {
     "data": {
      "text/plain": "Breed                               \nUnknown/Unknown                         475\nGolden Retriever/Unknown                 48\nCatahoula Leopard Dog/Unknown            37\nMiniature Schnauzer/Unknown              34\nRat Terrier/Unknown                      32\n                                       ... \nSlovakian Wirehaired Pointer/Unknown      1\nSkye Terrier/Unknown                      1\nEnglish Setter/Unknown                    1\nShikoku/Unknown                           1\nAffenpinscher/Unknown                     1\nName: count, Length: 174, dtype: int64"
     },
     "execution_count": 44,
     "metadata": {},
     "output_type": "execute_result"
    }
   ],
   "source": [
    "df_DogOV[[\"Breed\"]][df_DogOV[\"Breed\"].str.contains(\"Unknown\")].value_counts()"
   ],
   "metadata": {
    "collapsed": false
   }
  },
  {
   "cell_type": "markdown",
   "source": [
    "## If Unknown/Unknown -> mixed differentiated by size categories"
   ],
   "metadata": {
    "collapsed": false
   }
  },
  {
   "cell_type": "code",
   "execution_count": 45,
   "outputs": [
    {
     "data": {
      "text/plain": "Breed            Weight_Class_5KGBin_at_HLES\nUnknown/Unknown  15-19.9                        100\n                 20-24.9                        100\n                 10-14.9                         84\n                 5-9.9                           66\n                 25-29.9                         63\n                 30-34.9                         26\n                 35-39.9                         19\n                 0-4.9                            7\n                 45+                              5\n                 40-44.9                          4\nName: count, dtype: int64"
     },
     "execution_count": 45,
     "metadata": {},
     "output_type": "execute_result"
    }
   ],
   "source": [
    "df_DogOV[[\"Breed\", \"Weight_Class_5KGBin_at_HLES\"]][df_DogOV[\"Breed\"].str.contains(\"Unknown/Unknown\")].value_counts()"
   ],
   "metadata": {
    "collapsed": false
   }
  },
  {
   "cell_type": "code",
   "execution_count": 46,
   "outputs": [],
   "source": [
    "def classify_breed(weight_class):\n",
    "    if weight_class in ['0-4.9', '5-9.9', '10-14.9']:\n",
    "        return 'Mixed Breed Small (0 - 14.9kg)'\n",
    "    elif weight_class in ['15-19.9', '20-24.9', '25-29.9']:\n",
    "        return 'Mixed Breed Medium (15 - 29.9kg)'\n",
    "    elif weight_class in ['30-34.9', '35-39.9', '40-44.9', '45+']:\n",
    "        return 'Mixed Breed Large (30kg +)'\n",
    "    else:\n",
    "        return 'Unknown/Unknown'\n",
    "\n",
    "# Apply the classification function only to rows where \"Breed\" contains \"Unknown/Unknown\"\n",
    "mask = df_DogOV['Breed'].str.contains(\"Unknown/Unknown\")\n",
    "df_DogOV.loc[mask, 'Breed'] = df_DogOV.loc[mask, 'Weight_Class_5KGBin_at_HLES'].apply(classify_breed)"
   ],
   "metadata": {
    "collapsed": false
   }
  },
  {
   "cell_type": "code",
   "execution_count": 47,
   "outputs": [
    {
     "data": {
      "text/plain": "                                  Breed  dog_id\n55     Mixed Breed Medium (15 - 29.9kg)     190\n532    Mixed Breed Medium (15 - 29.9kg)    1582\n653    Mixed Breed Medium (15 - 29.9kg)    1916\n902    Mixed Breed Medium (15 - 29.9kg)    2683\n1113   Mixed Breed Medium (15 - 29.9kg)    3407\n...                                 ...     ...\n32995  Mixed Breed Medium (15 - 29.9kg)  102981\n33021  Mixed Breed Medium (15 - 29.9kg)  103087\n33067  Mixed Breed Medium (15 - 29.9kg)  103257\n33076  Mixed Breed Medium (15 - 29.9kg)  103289\n33116  Mixed Breed Medium (15 - 29.9kg)  103425\n\n[263 rows x 2 columns]",
      "text/html": "<div>\n<style scoped>\n    .dataframe tbody tr th:only-of-type {\n        vertical-align: middle;\n    }\n\n    .dataframe tbody tr th {\n        vertical-align: top;\n    }\n\n    .dataframe thead th {\n        text-align: right;\n    }\n</style>\n<table border=\"1\" class=\"dataframe\">\n  <thead>\n    <tr style=\"text-align: right;\">\n      <th></th>\n      <th>Breed</th>\n      <th>dog_id</th>\n    </tr>\n  </thead>\n  <tbody>\n    <tr>\n      <th>55</th>\n      <td>Mixed Breed Medium (15 - 29.9kg)</td>\n      <td>190</td>\n    </tr>\n    <tr>\n      <th>532</th>\n      <td>Mixed Breed Medium (15 - 29.9kg)</td>\n      <td>1582</td>\n    </tr>\n    <tr>\n      <th>653</th>\n      <td>Mixed Breed Medium (15 - 29.9kg)</td>\n      <td>1916</td>\n    </tr>\n    <tr>\n      <th>902</th>\n      <td>Mixed Breed Medium (15 - 29.9kg)</td>\n      <td>2683</td>\n    </tr>\n    <tr>\n      <th>1113</th>\n      <td>Mixed Breed Medium (15 - 29.9kg)</td>\n      <td>3407</td>\n    </tr>\n    <tr>\n      <th>...</th>\n      <td>...</td>\n      <td>...</td>\n    </tr>\n    <tr>\n      <th>32995</th>\n      <td>Mixed Breed Medium (15 - 29.9kg)</td>\n      <td>102981</td>\n    </tr>\n    <tr>\n      <th>33021</th>\n      <td>Mixed Breed Medium (15 - 29.9kg)</td>\n      <td>103087</td>\n    </tr>\n    <tr>\n      <th>33067</th>\n      <td>Mixed Breed Medium (15 - 29.9kg)</td>\n      <td>103257</td>\n    </tr>\n    <tr>\n      <th>33076</th>\n      <td>Mixed Breed Medium (15 - 29.9kg)</td>\n      <td>103289</td>\n    </tr>\n    <tr>\n      <th>33116</th>\n      <td>Mixed Breed Medium (15 - 29.9kg)</td>\n      <td>103425</td>\n    </tr>\n  </tbody>\n</table>\n<p>263 rows × 2 columns</p>\n</div>"
     },
     "execution_count": 47,
     "metadata": {},
     "output_type": "execute_result"
    }
   ],
   "source": [
    "df_DogOV[['Breed', 'dog_id']][df_DogOV[\"Breed\"]=='Mixed Breed Medium (15 - 29.9kg)']"
   ],
   "metadata": {
    "collapsed": false
   }
  },
  {
   "cell_type": "code",
   "execution_count": 48,
   "outputs": [
    {
     "data": {
      "text/plain": "0        Labrador Retriever Mix\n1             Italian Greyhound\n2            Labrador Retriever\n3            Siberian Husky Mix\n4              Golden Retriever\n                  ...          \n33167     Australian Cattle Dog\n33168              Goldendoodle\n33169                Poodle Mix\n33170             Border Collie\n33171         Border Collie Mix\nName: Breed, Length: 33172, dtype: object"
     },
     "execution_count": 48,
     "metadata": {},
     "output_type": "execute_result"
    }
   ],
   "source": [
    "# added Step of taking the first breed label if 2 are given with a / inbetween\n",
    "\n",
    "# Function to process the 'Breed' column\n",
    "def process_breed(breed):\n",
    "    if breed.startswith(\"Unknown\"):\n",
    "        # Split the breed with '/' and take what's after the '/'\n",
    "        parts = breed.split('/')\n",
    "        if len(parts) > 1:\n",
    "            return parts[1].strip() + \" Mix\"\n",
    "    elif '/' in breed:\n",
    "        # If the breed contains '/', split and append ' Mix'\n",
    "        return breed.split('/')[0].strip() + \" Mix\"\n",
    "    else:\n",
    "        return breed\n",
    "\n",
    "# Apply the function to the 'Breed' column\n",
    "df_DogOV['Breed'] = df_DogOV['Breed'].apply(process_breed)\n",
    "df_DogOV['Breed']"
   ],
   "metadata": {
    "collapsed": false
   }
  },
  {
   "cell_type": "code",
   "execution_count": 49,
   "outputs": [
    {
     "data": {
      "text/plain": "0                 Labrador Mix\n1            Italian Greyhound\n2           Labrador Retriever\n3           Siberian Husky Mix\n4             Golden Retriever\n                 ...          \n33167    Australian Cattle Dog\n33168             Goldendoodle\n33169               Poodle Mix\n33170            Border Collie\n33171        Border Collie Mix\nName: Breed, Length: 33172, dtype: object"
     },
     "execution_count": 49,
     "metadata": {},
     "output_type": "execute_result"
    }
   ],
   "source": [
    "# Map the classification_2 dictionary to the 'Breed' column\n",
    "df_DogOV['Breed'] = df_DogOV['Breed'].map(lambda x: classification_mapping_2.get(x, x))\n",
    "df_DogOV['Breed']"
   ],
   "metadata": {
    "collapsed": false
   }
  },
  {
   "cell_type": "markdown",
   "source": [
    "## Merge with Breed_grouping extended"
   ],
   "metadata": {
    "collapsed": false
   }
  },
  {
   "cell_type": "code",
   "execution_count": 50,
   "outputs": [
    {
     "data": {
      "text/plain": "     Unnamed: 0         Breed Type          Sub Breed        Breed Group  \\\n0             0  Ancient and Spitz  Ancient and Spitz  Ancient and Spitz   \n1             1  Ancient and Spitz  Ancient and Spitz  Ancient and Spitz   \n2             2  Ancient and Spitz  Ancient and Spitz  Ancient and Spitz   \n3             3  Ancient and Spitz  Ancient and Spitz  Ancient and Spitz   \n4             5  Ancient and Spitz  Ancient and Spitz  Ancient and Spitz   \n..          ...                ...                ...                ...   \n947        1018       Working dogs   Shepherd - Other           Shepherd   \n948        1019       Working dogs   Shepherd - Other           Shepherd   \n949        1020       Working dogs   Shepherd - Other           Shepherd   \n950        1022       Working dogs   Shepherd - Other           Shepherd   \n951        1023       Working dogs   Shepherd - Other           Shepherd   \n\n                   Breed  \n0               Ainu Dog  \n1           Ainu Dog Mix  \n2                  Akita  \n3              Akita Mix  \n4          Alaskan Husky  \n..                   ...  \n947  Shiloh Shepherd Mix  \n948      shiloh shepherd  \n949  shiloh shepherd Mix  \n950             Tervuren  \n951         Tervuren Mix  \n\n[952 rows x 5 columns]",
      "text/html": "<div>\n<style scoped>\n    .dataframe tbody tr th:only-of-type {\n        vertical-align: middle;\n    }\n\n    .dataframe tbody tr th {\n        vertical-align: top;\n    }\n\n    .dataframe thead th {\n        text-align: right;\n    }\n</style>\n<table border=\"1\" class=\"dataframe\">\n  <thead>\n    <tr style=\"text-align: right;\">\n      <th></th>\n      <th>Unnamed: 0</th>\n      <th>Breed Type</th>\n      <th>Sub Breed</th>\n      <th>Breed Group</th>\n      <th>Breed</th>\n    </tr>\n  </thead>\n  <tbody>\n    <tr>\n      <th>0</th>\n      <td>0</td>\n      <td>Ancient and Spitz</td>\n      <td>Ancient and Spitz</td>\n      <td>Ancient and Spitz</td>\n      <td>Ainu Dog</td>\n    </tr>\n    <tr>\n      <th>1</th>\n      <td>1</td>\n      <td>Ancient and Spitz</td>\n      <td>Ancient and Spitz</td>\n      <td>Ancient and Spitz</td>\n      <td>Ainu Dog Mix</td>\n    </tr>\n    <tr>\n      <th>2</th>\n      <td>2</td>\n      <td>Ancient and Spitz</td>\n      <td>Ancient and Spitz</td>\n      <td>Ancient and Spitz</td>\n      <td>Akita</td>\n    </tr>\n    <tr>\n      <th>3</th>\n      <td>3</td>\n      <td>Ancient and Spitz</td>\n      <td>Ancient and Spitz</td>\n      <td>Ancient and Spitz</td>\n      <td>Akita Mix</td>\n    </tr>\n    <tr>\n      <th>4</th>\n      <td>5</td>\n      <td>Ancient and Spitz</td>\n      <td>Ancient and Spitz</td>\n      <td>Ancient and Spitz</td>\n      <td>Alaskan Husky</td>\n    </tr>\n    <tr>\n      <th>...</th>\n      <td>...</td>\n      <td>...</td>\n      <td>...</td>\n      <td>...</td>\n      <td>...</td>\n    </tr>\n    <tr>\n      <th>947</th>\n      <td>1018</td>\n      <td>Working dogs</td>\n      <td>Shepherd - Other</td>\n      <td>Shepherd</td>\n      <td>Shiloh Shepherd Mix</td>\n    </tr>\n    <tr>\n      <th>948</th>\n      <td>1019</td>\n      <td>Working dogs</td>\n      <td>Shepherd - Other</td>\n      <td>Shepherd</td>\n      <td>shiloh shepherd</td>\n    </tr>\n    <tr>\n      <th>949</th>\n      <td>1020</td>\n      <td>Working dogs</td>\n      <td>Shepherd - Other</td>\n      <td>Shepherd</td>\n      <td>shiloh shepherd Mix</td>\n    </tr>\n    <tr>\n      <th>950</th>\n      <td>1022</td>\n      <td>Working dogs</td>\n      <td>Shepherd - Other</td>\n      <td>Shepherd</td>\n      <td>Tervuren</td>\n    </tr>\n    <tr>\n      <th>951</th>\n      <td>1023</td>\n      <td>Working dogs</td>\n      <td>Shepherd - Other</td>\n      <td>Shepherd</td>\n      <td>Tervuren Mix</td>\n    </tr>\n  </tbody>\n</table>\n<p>952 rows × 5 columns</p>\n</div>"
     },
     "execution_count": 50,
     "metadata": {},
     "output_type": "execute_result"
    }
   ],
   "source": [
    "file_path_breeds = \"../Dataset/Supplementary_data/breed_grouping_extended.csv\"\n",
    "df_breeds = pd.read_csv(file_path_breeds, delimiter=\";\", encoding=\"ISO-8859-1\")\n",
    "df_breeds"
   ],
   "metadata": {
    "collapsed": false
   }
  },
  {
   "cell_type": "code",
   "execution_count": 15,
   "outputs": [],
   "source": [
    "# Merge the two DataFrames based on the 'breed' column\n",
    "merged_DogOV_breeds = pd.merge(df_DogOV, df_breeds, on='Breed', how='left')"
   ],
   "metadata": {
    "collapsed": false
   }
  },
  {
   "cell_type": "code",
   "execution_count": 16,
   "outputs": [
    {
     "data": {
      "text/plain": "       dog_id DAP_Pack_Date    Cohort Cohort_Enroll_Date Estimated_DOB  \\\n0           8    2020-08-12  DAP Pack                NaN    2011-02-15   \n1           9    2020-10-28  DAP Pack                NaN    2008-04-15   \n2          11    2020-08-31  DAP Pack                NaN    2011-04-15   \n3          12    2020-09-15  DAP Pack                NaN    2013-08-15   \n4          13    2020-11-22  DAP Pack                NaN    2018-03-15   \n...       ...           ...       ...                ...           ...   \n33953  103637    2021-12-29  DAP Pack                NaN    2019-12-15   \n33954  103643    2021-12-30  DAP Pack                NaN    2020-04-15   \n33955  103643    2021-12-30  DAP Pack                NaN    2020-04-15   \n33956  103647    2021-12-31  DAP Pack                NaN    2016-08-15   \n33957  103658    2021-12-31  DAP Pack                NaN    2010-12-31   \n\n       Estimated_Age_Years_at_HLES  \\\n0                              9.5   \n1                             12.5   \n2                              9.4   \n3                              7.1   \n4                              2.7   \n...                            ...   \n33953                          2.0   \n33954                          1.7   \n33955                          1.7   \n33956                          5.4   \n33957                         11.0   \n\n                                AgeDOB_Estimation_Method  \\\n0      Estimated using owner-reported birth year and ...   \n1      Estimated using owner-reported birth year and ...   \n2      Estimated using owner-reported birth year and ...   \n3      Estimated using owner-reported birth year and ...   \n4      Estimated using owner-reported birth year and ...   \n...                                                  ...   \n33953  Estimated using owner-reported birth year and ...   \n33954  Estimated using owner-reported birth year and ...   \n33955  Estimated using owner-reported birth year and ...   \n33956  Estimated using owner-reported birth year and ...   \n33957                 Estimated using owner-reported age   \n\n      Dog_Reported_Deceased  DOD Breed_Status  ... EOLS_Complete DNA_Swab_ID  \\\n0                         N  NaN  Mixed breed  ...             N         NaN   \n1                         N  NaN     Purebred  ...             N         NaN   \n2                         N  NaN     Purebred  ...             N         NaN   \n3                         N  NaN  Mixed breed  ...             N         NaN   \n4                         N  NaN     Purebred  ...             N         NaN   \n...                     ...  ...          ...  ...           ...         ...   \n33953                     N  NaN  Mixed breed  ...             N         NaN   \n33954                     N  NaN  Mixed breed  ...             N         NaN   \n33955                     N  NaN  Mixed breed  ...             N         NaN   \n33956                     N  NaN     Purebred  ...             N         NaN   \n33957                     N  NaN  Mixed breed  ...             N         NaN   \n\n      PrimaryAddress_HLES SecondaryAddress_HLES PrimaryAddress_AFUS2021  \\\n0                       Y                     N                       N   \n1                       Y                     N                       N   \n2                       Y                     N                       N   \n3                       Y                     N                       N   \n4                       Y                     N                       N   \n...                   ...                   ...                     ...   \n33953                   N                     N                       N   \n33954                   N                     N                       N   \n33955                   N                     N                       N   \n33956                   N                     N                       N   \n33957                   N                     N                       N   \n\n      SecondaryAddress_AFUS2021 Unnamed: 0         Breed Type  \\\n0                             N      434.0              Mixed   \n1                             N      238.0       Herding dogs   \n2                             N      450.0          Retriever   \n3                             N       94.0  Ancient and Spitz   \n4                             N      443.0          Retriever   \n...                         ...        ...                ...   \n33953                         N      422.0              Mixed   \n33954                         N      916.0       Working dogs   \n33955                         N      920.0       Working dogs   \n33956                         N      134.0       Herding dogs   \n33957                         N      135.0       Herding dogs   \n\n                     Sub Breed               Breed Group  \n0                      Lab mix               Mixed Other  \n1                 Sight Hounds      Herding dogs - Other  \n2                         Labs                      Labs  \n3            Ancient and Spitz         Ancient and Spitz  \n4                       Golden                    Golden  \n...                        ...                       ...  \n33953               Golden mix      Mixed Lab and Golden  \n33954                Non-sport               Mixed Small  \n33955                Non-sport  Working dogs - Non-sport  \n33956  Collie, Corgi, Sheepdog           Australian-like  \n33957  Collie, Corgi, Sheepdog           Australian-like  \n\n[33958 rows x 31 columns]",
      "text/html": "<div>\n<style scoped>\n    .dataframe tbody tr th:only-of-type {\n        vertical-align: middle;\n    }\n\n    .dataframe tbody tr th {\n        vertical-align: top;\n    }\n\n    .dataframe thead th {\n        text-align: right;\n    }\n</style>\n<table border=\"1\" class=\"dataframe\">\n  <thead>\n    <tr style=\"text-align: right;\">\n      <th></th>\n      <th>dog_id</th>\n      <th>DAP_Pack_Date</th>\n      <th>Cohort</th>\n      <th>Cohort_Enroll_Date</th>\n      <th>Estimated_DOB</th>\n      <th>Estimated_Age_Years_at_HLES</th>\n      <th>AgeDOB_Estimation_Method</th>\n      <th>Dog_Reported_Deceased</th>\n      <th>DOD</th>\n      <th>Breed_Status</th>\n      <th>...</th>\n      <th>EOLS_Complete</th>\n      <th>DNA_Swab_ID</th>\n      <th>PrimaryAddress_HLES</th>\n      <th>SecondaryAddress_HLES</th>\n      <th>PrimaryAddress_AFUS2021</th>\n      <th>SecondaryAddress_AFUS2021</th>\n      <th>Unnamed: 0</th>\n      <th>Breed Type</th>\n      <th>Sub Breed</th>\n      <th>Breed Group</th>\n    </tr>\n  </thead>\n  <tbody>\n    <tr>\n      <th>0</th>\n      <td>8</td>\n      <td>2020-08-12</td>\n      <td>DAP Pack</td>\n      <td>NaN</td>\n      <td>2011-02-15</td>\n      <td>9.5</td>\n      <td>Estimated using owner-reported birth year and ...</td>\n      <td>N</td>\n      <td>NaN</td>\n      <td>Mixed breed</td>\n      <td>...</td>\n      <td>N</td>\n      <td>NaN</td>\n      <td>Y</td>\n      <td>N</td>\n      <td>N</td>\n      <td>N</td>\n      <td>434.0</td>\n      <td>Mixed</td>\n      <td>Lab mix</td>\n      <td>Mixed Other</td>\n    </tr>\n    <tr>\n      <th>1</th>\n      <td>9</td>\n      <td>2020-10-28</td>\n      <td>DAP Pack</td>\n      <td>NaN</td>\n      <td>2008-04-15</td>\n      <td>12.5</td>\n      <td>Estimated using owner-reported birth year and ...</td>\n      <td>N</td>\n      <td>NaN</td>\n      <td>Purebred</td>\n      <td>...</td>\n      <td>N</td>\n      <td>NaN</td>\n      <td>Y</td>\n      <td>N</td>\n      <td>N</td>\n      <td>N</td>\n      <td>238.0</td>\n      <td>Herding dogs</td>\n      <td>Sight Hounds</td>\n      <td>Herding dogs - Other</td>\n    </tr>\n    <tr>\n      <th>2</th>\n      <td>11</td>\n      <td>2020-08-31</td>\n      <td>DAP Pack</td>\n      <td>NaN</td>\n      <td>2011-04-15</td>\n      <td>9.4</td>\n      <td>Estimated using owner-reported birth year and ...</td>\n      <td>N</td>\n      <td>NaN</td>\n      <td>Purebred</td>\n      <td>...</td>\n      <td>N</td>\n      <td>NaN</td>\n      <td>Y</td>\n      <td>N</td>\n      <td>N</td>\n      <td>N</td>\n      <td>450.0</td>\n      <td>Retriever</td>\n      <td>Labs</td>\n      <td>Labs</td>\n    </tr>\n    <tr>\n      <th>3</th>\n      <td>12</td>\n      <td>2020-09-15</td>\n      <td>DAP Pack</td>\n      <td>NaN</td>\n      <td>2013-08-15</td>\n      <td>7.1</td>\n      <td>Estimated using owner-reported birth year and ...</td>\n      <td>N</td>\n      <td>NaN</td>\n      <td>Mixed breed</td>\n      <td>...</td>\n      <td>N</td>\n      <td>NaN</td>\n      <td>Y</td>\n      <td>N</td>\n      <td>N</td>\n      <td>N</td>\n      <td>94.0</td>\n      <td>Ancient and Spitz</td>\n      <td>Ancient and Spitz</td>\n      <td>Ancient and Spitz</td>\n    </tr>\n    <tr>\n      <th>4</th>\n      <td>13</td>\n      <td>2020-11-22</td>\n      <td>DAP Pack</td>\n      <td>NaN</td>\n      <td>2018-03-15</td>\n      <td>2.7</td>\n      <td>Estimated using owner-reported birth year and ...</td>\n      <td>N</td>\n      <td>NaN</td>\n      <td>Purebred</td>\n      <td>...</td>\n      <td>N</td>\n      <td>NaN</td>\n      <td>Y</td>\n      <td>N</td>\n      <td>N</td>\n      <td>N</td>\n      <td>443.0</td>\n      <td>Retriever</td>\n      <td>Golden</td>\n      <td>Golden</td>\n    </tr>\n    <tr>\n      <th>...</th>\n      <td>...</td>\n      <td>...</td>\n      <td>...</td>\n      <td>...</td>\n      <td>...</td>\n      <td>...</td>\n      <td>...</td>\n      <td>...</td>\n      <td>...</td>\n      <td>...</td>\n      <td>...</td>\n      <td>...</td>\n      <td>...</td>\n      <td>...</td>\n      <td>...</td>\n      <td>...</td>\n      <td>...</td>\n      <td>...</td>\n      <td>...</td>\n      <td>...</td>\n      <td>...</td>\n    </tr>\n    <tr>\n      <th>33953</th>\n      <td>103637</td>\n      <td>2021-12-29</td>\n      <td>DAP Pack</td>\n      <td>NaN</td>\n      <td>2019-12-15</td>\n      <td>2.0</td>\n      <td>Estimated using owner-reported birth year and ...</td>\n      <td>N</td>\n      <td>NaN</td>\n      <td>Mixed breed</td>\n      <td>...</td>\n      <td>N</td>\n      <td>NaN</td>\n      <td>N</td>\n      <td>N</td>\n      <td>N</td>\n      <td>N</td>\n      <td>422.0</td>\n      <td>Mixed</td>\n      <td>Golden mix</td>\n      <td>Mixed Lab and Golden</td>\n    </tr>\n    <tr>\n      <th>33954</th>\n      <td>103643</td>\n      <td>2021-12-30</td>\n      <td>DAP Pack</td>\n      <td>NaN</td>\n      <td>2020-04-15</td>\n      <td>1.7</td>\n      <td>Estimated using owner-reported birth year and ...</td>\n      <td>N</td>\n      <td>NaN</td>\n      <td>Mixed breed</td>\n      <td>...</td>\n      <td>N</td>\n      <td>NaN</td>\n      <td>N</td>\n      <td>N</td>\n      <td>N</td>\n      <td>N</td>\n      <td>916.0</td>\n      <td>Working dogs</td>\n      <td>Non-sport</td>\n      <td>Mixed Small</td>\n    </tr>\n    <tr>\n      <th>33955</th>\n      <td>103643</td>\n      <td>2021-12-30</td>\n      <td>DAP Pack</td>\n      <td>NaN</td>\n      <td>2020-04-15</td>\n      <td>1.7</td>\n      <td>Estimated using owner-reported birth year and ...</td>\n      <td>N</td>\n      <td>NaN</td>\n      <td>Mixed breed</td>\n      <td>...</td>\n      <td>N</td>\n      <td>NaN</td>\n      <td>N</td>\n      <td>N</td>\n      <td>N</td>\n      <td>N</td>\n      <td>920.0</td>\n      <td>Working dogs</td>\n      <td>Non-sport</td>\n      <td>Working dogs - Non-sport</td>\n    </tr>\n    <tr>\n      <th>33956</th>\n      <td>103647</td>\n      <td>2021-12-31</td>\n      <td>DAP Pack</td>\n      <td>NaN</td>\n      <td>2016-08-15</td>\n      <td>5.4</td>\n      <td>Estimated using owner-reported birth year and ...</td>\n      <td>N</td>\n      <td>NaN</td>\n      <td>Purebred</td>\n      <td>...</td>\n      <td>N</td>\n      <td>NaN</td>\n      <td>N</td>\n      <td>N</td>\n      <td>N</td>\n      <td>N</td>\n      <td>134.0</td>\n      <td>Herding dogs</td>\n      <td>Collie, Corgi, Sheepdog</td>\n      <td>Australian-like</td>\n    </tr>\n    <tr>\n      <th>33957</th>\n      <td>103658</td>\n      <td>2021-12-31</td>\n      <td>DAP Pack</td>\n      <td>NaN</td>\n      <td>2010-12-31</td>\n      <td>11.0</td>\n      <td>Estimated using owner-reported age</td>\n      <td>N</td>\n      <td>NaN</td>\n      <td>Mixed breed</td>\n      <td>...</td>\n      <td>N</td>\n      <td>NaN</td>\n      <td>N</td>\n      <td>N</td>\n      <td>N</td>\n      <td>N</td>\n      <td>135.0</td>\n      <td>Herding dogs</td>\n      <td>Collie, Corgi, Sheepdog</td>\n      <td>Australian-like</td>\n    </tr>\n  </tbody>\n</table>\n<p>33958 rows × 31 columns</p>\n</div>"
     },
     "execution_count": 16,
     "metadata": {},
     "output_type": "execute_result"
    }
   ],
   "source": [
    "merged_DogOV_breeds.drop_duplicates(inplace=True)\n",
    "merged_DogOV_breeds"
   ],
   "metadata": {
    "collapsed": false
   }
  },
  {
   "cell_type": "code",
   "execution_count": 17,
   "outputs": [
    {
     "data": {
      "text/plain": "      Breed Group          Breed\n98      Dachshund  Dachshund Mix\n195     Dachshund  Dachshund Mix\n389     Dachshund  Dachshund Mix\n455     Dachshund  Dachshund Mix\n504     Dachshund  Dachshund Mix\n...           ...            ...\n33533   Dachshund  Dachshund Mix\n33692   Dachshund  Dachshund Mix\n33715   Dachshund  Dachshund Mix\n33798   Dachshund  Dachshund Mix\n33900   Dachshund  Dachshund Mix\n\n[264 rows x 2 columns]",
      "text/html": "<div>\n<style scoped>\n    .dataframe tbody tr th:only-of-type {\n        vertical-align: middle;\n    }\n\n    .dataframe tbody tr th {\n        vertical-align: top;\n    }\n\n    .dataframe thead th {\n        text-align: right;\n    }\n</style>\n<table border=\"1\" class=\"dataframe\">\n  <thead>\n    <tr style=\"text-align: right;\">\n      <th></th>\n      <th>Breed Group</th>\n      <th>Breed</th>\n    </tr>\n  </thead>\n  <tbody>\n    <tr>\n      <th>98</th>\n      <td>Dachshund</td>\n      <td>Dachshund Mix</td>\n    </tr>\n    <tr>\n      <th>195</th>\n      <td>Dachshund</td>\n      <td>Dachshund Mix</td>\n    </tr>\n    <tr>\n      <th>389</th>\n      <td>Dachshund</td>\n      <td>Dachshund Mix</td>\n    </tr>\n    <tr>\n      <th>455</th>\n      <td>Dachshund</td>\n      <td>Dachshund Mix</td>\n    </tr>\n    <tr>\n      <th>504</th>\n      <td>Dachshund</td>\n      <td>Dachshund Mix</td>\n    </tr>\n    <tr>\n      <th>...</th>\n      <td>...</td>\n      <td>...</td>\n    </tr>\n    <tr>\n      <th>33533</th>\n      <td>Dachshund</td>\n      <td>Dachshund Mix</td>\n    </tr>\n    <tr>\n      <th>33692</th>\n      <td>Dachshund</td>\n      <td>Dachshund Mix</td>\n    </tr>\n    <tr>\n      <th>33715</th>\n      <td>Dachshund</td>\n      <td>Dachshund Mix</td>\n    </tr>\n    <tr>\n      <th>33798</th>\n      <td>Dachshund</td>\n      <td>Dachshund Mix</td>\n    </tr>\n    <tr>\n      <th>33900</th>\n      <td>Dachshund</td>\n      <td>Dachshund Mix</td>\n    </tr>\n  </tbody>\n</table>\n<p>264 rows × 2 columns</p>\n</div>"
     },
     "execution_count": 17,
     "metadata": {},
     "output_type": "execute_result"
    }
   ],
   "source": [
    "merged_DogOV_breeds[['Breed Group', 'Breed']][merged_DogOV_breeds['Breed'] == 'Dachshund Mix']"
   ],
   "metadata": {
    "collapsed": false
   }
  },
  {
   "cell_type": "code",
   "execution_count": 18,
   "outputs": [
    {
     "data": {
      "text/plain": "33958"
     },
     "execution_count": 18,
     "metadata": {},
     "output_type": "execute_result"
    }
   ],
   "source": [
    "merged_DogOV_breeds['Breed Group'].value_counts().sum() + merged_DogOV_breeds['Breed Group'].isna().sum()"
   ],
   "metadata": {
    "collapsed": false
   }
  },
  {
   "cell_type": "code",
   "execution_count": 19,
   "outputs": [
    {
     "data": {
      "text/plain": "76"
     },
     "execution_count": 19,
     "metadata": {},
     "output_type": "execute_result"
    }
   ],
   "source": [
    "merged_DogOV_breeds['Breed Group'].isna().sum()"
   ],
   "metadata": {
    "collapsed": false
   }
  },
  {
   "cell_type": "code",
   "execution_count": 20,
   "outputs": [
    {
     "data": {
      "text/plain": "Breed\nVillage Dog Mix                             16\nWolf Mix                                     5\nDrentsche Patrijshond Mix                    2\nLowchen                                      2\nAustralian Labradoddle                       2\nWorking Kelpie                               2\nJagdterrier                                  2\nTransylvanian Hound Mix                      2\nAustralian Labradoodle                       2\nAustrailian Labradoodle                      1\nRussian Toy Mix                              1\nDecker terrier                               1\nCzechoslovakian Vlack                        1\nNative American Village Dog                  1\nAfrican Village Dog                          1\nWest Siberian Laika                          1\nNorrbottenspets                              1\nKarakachan                                   1\nAmerican English (aka Redtick) Coonhound     1\nNew Guinea Singing Dog                       1\nGalgo (Spanish Sighthound)                   1\nLarge Munsterlander                          1\nToy Austrailan Shepherd                      1\nWindsprite                                   1\nLapponian Herder Mix                         1\nGalgo Espanol (Spanish greyhound)            1\nMaremma                                      1\nRed Setter                                   1\nTamaskan                                     1\nRomanian Mioritic Shepherd Dog               1\nSlovensky Cuvac                              1\nAmerican Leopard Hound Mix                   1\nUnknown Mix                                  1\nHamiltonstovare                              1\nPrague Ratter                                1\nBavarian Mountain Scent Hound                1\nSlovakian Wirehaired Pointer Mix             1\nPolish Tatra Mountain Sheepdog               1\nAussie - Dor                                 1\nSlovensky Cuvac Mix                          1\nBraque de Bourbonnais                        1\nBroholmer                                    1\nBraque Francais Pyrenean                     1\nJagdterrier Mix                              1\nMcNab                                        1\nTransylvanian Hound                          1\nNortheast African Village dog                1\nPODENCO                                      1\nCimarron Uruguayo                            1\nKromfohrlander Mix                           1\nName: count, dtype: int64"
     },
     "execution_count": 20,
     "metadata": {},
     "output_type": "execute_result"
    }
   ],
   "source": [
    "merged_DogOV_breeds['Breed'][merged_DogOV_breeds['Breed Group'].isna()].value_counts()"
   ],
   "metadata": {
    "collapsed": false
   }
  },
  {
   "cell_type": "code",
   "execution_count": 21,
   "outputs": [
    {
     "data": {
      "text/plain": "Empty DataFrame\nColumns: [dog_id, Breed, Breed Group, Weight_Class_5KGBin_at_HLES]\nIndex: []",
      "text/html": "<div>\n<style scoped>\n    .dataframe tbody tr th:only-of-type {\n        vertical-align: middle;\n    }\n\n    .dataframe tbody tr th {\n        vertical-align: top;\n    }\n\n    .dataframe thead th {\n        text-align: right;\n    }\n</style>\n<table border=\"1\" class=\"dataframe\">\n  <thead>\n    <tr style=\"text-align: right;\">\n      <th></th>\n      <th>dog_id</th>\n      <th>Breed</th>\n      <th>Breed Group</th>\n      <th>Weight_Class_5KGBin_at_HLES</th>\n    </tr>\n  </thead>\n  <tbody>\n  </tbody>\n</table>\n</div>"
     },
     "execution_count": 21,
     "metadata": {},
     "output_type": "execute_result"
    }
   ],
   "source": [
    "merged_DogOV_breeds[[\"dog_id\", \"Breed\", \"Breed Group\", \"Weight_Class_5KGBin_at_HLES\"]][merged_DogOV_breeds['Breed'] == 'Australian Shepherd - miniature']"
   ],
   "metadata": {
    "collapsed": false
   }
  },
  {
   "cell_type": "code",
   "execution_count": 22,
   "outputs": [
    {
     "data": {
      "text/plain": "32"
     },
     "execution_count": 22,
     "metadata": {},
     "output_type": "execute_result"
    }
   ],
   "source": [
    "merged_DogOV_breeds[\"Breed Group\"][merged_DogOV_breeds[\"Breed_Status\"] == \"Mixed breed\"].isna().sum()"
   ],
   "metadata": {
    "collapsed": false
   }
  },
  {
   "cell_type": "code",
   "execution_count": 23,
   "outputs": [
    {
     "data": {
      "text/plain": "43"
     },
     "execution_count": 23,
     "metadata": {},
     "output_type": "execute_result"
    }
   ],
   "source": [
    "merged_DogOV_breeds[\"Breed Group\"][merged_DogOV_breeds[\"Breed_Status\"] == \"Purebred\"].isna().sum()"
   ],
   "metadata": {
    "collapsed": false
   }
  },
  {
   "cell_type": "code",
   "execution_count": 24,
   "outputs": [
    {
     "data": {
      "text/plain": "      dog_id DAP_Pack_Date    Cohort Cohort_Enroll_Date Estimated_DOB  \\\n2749    8948    2020-11-13  DAP Pack                NaN           NaN   \n\n      Estimated_Age_Years_at_HLES  \\\n2749                          NaN   \n\n                               AgeDOB_Estimation_Method Dog_Reported_Deceased  \\\n2749  Estimated using owner-reported birth year and ...                     N   \n\n      DOD Breed_Status  ... EOLS_Complete DNA_Swab_ID PrimaryAddress_HLES  \\\n2749  NaN          NaN  ...             N         NaN                   Y   \n\n     SecondaryAddress_HLES PrimaryAddress_AFUS2021 SecondaryAddress_AFUS2021  \\\n2749                     N                       N                         N   \n\n     Unnamed: 0 Breed Type Sub Breed Breed Group  \n2749        NaN        NaN       NaN         NaN  \n\n[1 rows x 31 columns]",
      "text/html": "<div>\n<style scoped>\n    .dataframe tbody tr th:only-of-type {\n        vertical-align: middle;\n    }\n\n    .dataframe tbody tr th {\n        vertical-align: top;\n    }\n\n    .dataframe thead th {\n        text-align: right;\n    }\n</style>\n<table border=\"1\" class=\"dataframe\">\n  <thead>\n    <tr style=\"text-align: right;\">\n      <th></th>\n      <th>dog_id</th>\n      <th>DAP_Pack_Date</th>\n      <th>Cohort</th>\n      <th>Cohort_Enroll_Date</th>\n      <th>Estimated_DOB</th>\n      <th>Estimated_Age_Years_at_HLES</th>\n      <th>AgeDOB_Estimation_Method</th>\n      <th>Dog_Reported_Deceased</th>\n      <th>DOD</th>\n      <th>Breed_Status</th>\n      <th>...</th>\n      <th>EOLS_Complete</th>\n      <th>DNA_Swab_ID</th>\n      <th>PrimaryAddress_HLES</th>\n      <th>SecondaryAddress_HLES</th>\n      <th>PrimaryAddress_AFUS2021</th>\n      <th>SecondaryAddress_AFUS2021</th>\n      <th>Unnamed: 0</th>\n      <th>Breed Type</th>\n      <th>Sub Breed</th>\n      <th>Breed Group</th>\n    </tr>\n  </thead>\n  <tbody>\n    <tr>\n      <th>2749</th>\n      <td>8948</td>\n      <td>2020-11-13</td>\n      <td>DAP Pack</td>\n      <td>NaN</td>\n      <td>NaN</td>\n      <td>NaN</td>\n      <td>Estimated using owner-reported birth year and ...</td>\n      <td>N</td>\n      <td>NaN</td>\n      <td>NaN</td>\n      <td>...</td>\n      <td>N</td>\n      <td>NaN</td>\n      <td>Y</td>\n      <td>N</td>\n      <td>N</td>\n      <td>N</td>\n      <td>NaN</td>\n      <td>NaN</td>\n      <td>NaN</td>\n      <td>NaN</td>\n    </tr>\n  </tbody>\n</table>\n<p>1 rows × 31 columns</p>\n</div>"
     },
     "execution_count": 24,
     "metadata": {},
     "output_type": "execute_result"
    }
   ],
   "source": [
    "# Assuming merged_DogOV_breeds is your DataFrame\n",
    "condition = merged_DogOV_breeds['Breed Group'].isna() & merged_DogOV_breeds['Breed Group'][merged_DogOV_breeds['Breed_Status'] != 'Mixed breed'].isna() & merged_DogOV_breeds['Breed Group'][merged_DogOV_breeds['Breed_Status'] != 'Purebred'].isna()\n",
    "\n",
    "# Applying the condition to filter the DataFrame\n",
    "filtered_data = merged_DogOV_breeds[condition]\n",
    "\n",
    "# Printing the full dataset\n",
    "filtered_data"
   ],
   "metadata": {
    "collapsed": false
   }
  },
  {
   "cell_type": "code",
   "execution_count": 25,
   "outputs": [
    {
     "data": {
      "text/plain": "      dog_id DAP_Pack_Date    Cohort Cohort_Enroll_Date Estimated_DOB  \\\n2749    8948    2020-11-13  DAP Pack                NaN           NaN   \n\n      Estimated_Age_Years_at_HLES  \\\n2749                          NaN   \n\n                               AgeDOB_Estimation_Method Dog_Reported_Deceased  \\\n2749  Estimated using owner-reported birth year and ...                     N   \n\n      DOD Breed_Status  ... EOLS_Complete DNA_Swab_ID PrimaryAddress_HLES  \\\n2749  NaN          NaN  ...             N         NaN                   Y   \n\n     SecondaryAddress_HLES PrimaryAddress_AFUS2021 SecondaryAddress_AFUS2021  \\\n2749                     N                       N                         N   \n\n     Unnamed: 0 Breed Type Sub Breed Breed Group  \n2749        NaN        NaN       NaN         NaN  \n\n[1 rows x 31 columns]",
      "text/html": "<div>\n<style scoped>\n    .dataframe tbody tr th:only-of-type {\n        vertical-align: middle;\n    }\n\n    .dataframe tbody tr th {\n        vertical-align: top;\n    }\n\n    .dataframe thead th {\n        text-align: right;\n    }\n</style>\n<table border=\"1\" class=\"dataframe\">\n  <thead>\n    <tr style=\"text-align: right;\">\n      <th></th>\n      <th>dog_id</th>\n      <th>DAP_Pack_Date</th>\n      <th>Cohort</th>\n      <th>Cohort_Enroll_Date</th>\n      <th>Estimated_DOB</th>\n      <th>Estimated_Age_Years_at_HLES</th>\n      <th>AgeDOB_Estimation_Method</th>\n      <th>Dog_Reported_Deceased</th>\n      <th>DOD</th>\n      <th>Breed_Status</th>\n      <th>...</th>\n      <th>EOLS_Complete</th>\n      <th>DNA_Swab_ID</th>\n      <th>PrimaryAddress_HLES</th>\n      <th>SecondaryAddress_HLES</th>\n      <th>PrimaryAddress_AFUS2021</th>\n      <th>SecondaryAddress_AFUS2021</th>\n      <th>Unnamed: 0</th>\n      <th>Breed Type</th>\n      <th>Sub Breed</th>\n      <th>Breed Group</th>\n    </tr>\n  </thead>\n  <tbody>\n    <tr>\n      <th>2749</th>\n      <td>8948</td>\n      <td>2020-11-13</td>\n      <td>DAP Pack</td>\n      <td>NaN</td>\n      <td>NaN</td>\n      <td>NaN</td>\n      <td>Estimated using owner-reported birth year and ...</td>\n      <td>N</td>\n      <td>NaN</td>\n      <td>NaN</td>\n      <td>...</td>\n      <td>N</td>\n      <td>NaN</td>\n      <td>Y</td>\n      <td>N</td>\n      <td>N</td>\n      <td>N</td>\n      <td>NaN</td>\n      <td>NaN</td>\n      <td>NaN</td>\n      <td>NaN</td>\n    </tr>\n  </tbody>\n</table>\n<p>1 rows × 31 columns</p>\n</div>"
     },
     "execution_count": 25,
     "metadata": {},
     "output_type": "execute_result"
    }
   ],
   "source": [
    "merged_DogOV_breeds[merged_DogOV_breeds[[\"Breed Group\", \"Breed_Status\"]].isna().all(axis=1)]"
   ],
   "metadata": {
    "collapsed": false
   }
  },
  {
   "cell_type": "code",
   "execution_count": 26,
   "outputs": [
    {
     "data": {
      "text/plain": "Breed_Status\nMixed breed    17312\nPurebred       16592\nName: count, dtype: int64"
     },
     "execution_count": 26,
     "metadata": {},
     "output_type": "execute_result"
    }
   ],
   "source": [
    "merged_DogOV_breeds[\"Breed_Status\"].value_counts()"
   ],
   "metadata": {
    "collapsed": false
   }
  },
  {
   "cell_type": "code",
   "execution_count": 27,
   "outputs": [
    {
     "data": {
      "text/plain": "54"
     },
     "execution_count": 27,
     "metadata": {},
     "output_type": "execute_result"
    }
   ],
   "source": [
    "merged_DogOV_breeds[\"Breed_Status\"].isna().sum()"
   ],
   "metadata": {
    "collapsed": false
   }
  },
  {
   "cell_type": "code",
   "execution_count": 28,
   "outputs": [
    {
     "data": {
      "text/plain": "       breed_group_Ancient and Spitz  breed_group_Australian-like  \\\n0                              False                        False   \n1                              False                        False   \n2                              False                        False   \n3                               True                        False   \n4                              False                        False   \n...                              ...                          ...   \n33953                          False                        False   \n33954                          False                        False   \n33955                          False                        False   \n33956                          False                         True   \n33957                          False                         True   \n\n       breed_group_Chihuahua  breed_group_Dachshund  breed_group_Golden  \\\n0                      False                  False               False   \n1                      False                  False               False   \n2                      False                  False               False   \n3                      False                  False               False   \n4                      False                  False                True   \n...                      ...                    ...                 ...   \n33953                  False                  False               False   \n33954                  False                  False               False   \n33955                  False                  False               False   \n33956                  False                  False               False   \n33957                  False                  False               False   \n\n       breed_group_Herding dogs - Other  breed_group_Hound  breed_group_Labs  \\\n0                                 False              False             False   \n1                                  True              False             False   \n2                                 False              False              True   \n3                                 False              False             False   \n4                                 False              False             False   \n...                                 ...                ...               ...   \n33953                             False              False             False   \n33954                             False              False             False   \n33955                             False              False             False   \n33956                             False              False             False   \n33957                             False              False             False   \n\n       breed_group_Mastiff-like Group 1  breed_group_Mastiff-like Group 2  \\\n0                                 False                             False   \n1                                 False                             False   \n2                                 False                             False   \n3                                 False                             False   \n4                                 False                             False   \n...                                 ...                               ...   \n33953                             False                             False   \n33954                             False                             False   \n33955                             False                             False   \n33956                             False                             False   \n33957                             False                             False   \n\n       breed_group_Mixed Lab and Golden  breed_group_Mixed Large  \\\n0                                 False                    False   \n1                                 False                    False   \n2                                 False                    False   \n3                                 False                    False   \n4                                 False                    False   \n...                                 ...                      ...   \n33953                              True                    False   \n33954                             False                    False   \n33955                             False                    False   \n33956                             False                    False   \n33957                             False                    False   \n\n       breed_group_Mixed Medium  breed_group_Mixed Other  \\\n0                         False                     True   \n1                         False                    False   \n2                         False                    False   \n3                         False                    False   \n4                         False                    False   \n...                         ...                      ...   \n33953                     False                    False   \n33954                     False                    False   \n33955                     False                    False   \n33956                     False                    False   \n33957                     False                    False   \n\n       breed_group_Mixed Small  breed_group_Shepherd  breed_group_Spaniels  \\\n0                        False                 False                 False   \n1                        False                 False                 False   \n2                        False                 False                 False   \n3                        False                 False                 False   \n4                        False                 False                 False   \n...                        ...                   ...                   ...   \n33953                    False                 False                 False   \n33954                     True                 False                 False   \n33955                    False                 False                 False   \n33956                    False                 False                 False   \n33957                    False                 False                 False   \n\n       breed_group_Terriers  breed_group_Toy - Other  \\\n0                     False                    False   \n1                     False                    False   \n2                     False                    False   \n3                     False                    False   \n4                     False                    False   \n...                     ...                      ...   \n33953                 False                    False   \n33954                 False                    False   \n33955                 False                    False   \n33956                 False                    False   \n33957                 False                    False   \n\n       breed_group_Working dogs - Non-sport  \n0                                     False  \n1                                     False  \n2                                     False  \n3                                     False  \n4                                     False  \n...                                     ...  \n33953                                 False  \n33954                                 False  \n33955                                  True  \n33956                                 False  \n33957                                 False  \n\n[33958 rows x 20 columns]",
      "text/html": "<div>\n<style scoped>\n    .dataframe tbody tr th:only-of-type {\n        vertical-align: middle;\n    }\n\n    .dataframe tbody tr th {\n        vertical-align: top;\n    }\n\n    .dataframe thead th {\n        text-align: right;\n    }\n</style>\n<table border=\"1\" class=\"dataframe\">\n  <thead>\n    <tr style=\"text-align: right;\">\n      <th></th>\n      <th>breed_group_Ancient and Spitz</th>\n      <th>breed_group_Australian-like</th>\n      <th>breed_group_Chihuahua</th>\n      <th>breed_group_Dachshund</th>\n      <th>breed_group_Golden</th>\n      <th>breed_group_Herding dogs - Other</th>\n      <th>breed_group_Hound</th>\n      <th>breed_group_Labs</th>\n      <th>breed_group_Mastiff-like Group 1</th>\n      <th>breed_group_Mastiff-like Group 2</th>\n      <th>breed_group_Mixed Lab and Golden</th>\n      <th>breed_group_Mixed Large</th>\n      <th>breed_group_Mixed Medium</th>\n      <th>breed_group_Mixed Other</th>\n      <th>breed_group_Mixed Small</th>\n      <th>breed_group_Shepherd</th>\n      <th>breed_group_Spaniels</th>\n      <th>breed_group_Terriers</th>\n      <th>breed_group_Toy - Other</th>\n      <th>breed_group_Working dogs - Non-sport</th>\n    </tr>\n  </thead>\n  <tbody>\n    <tr>\n      <th>0</th>\n      <td>False</td>\n      <td>False</td>\n      <td>False</td>\n      <td>False</td>\n      <td>False</td>\n      <td>False</td>\n      <td>False</td>\n      <td>False</td>\n      <td>False</td>\n      <td>False</td>\n      <td>False</td>\n      <td>False</td>\n      <td>False</td>\n      <td>True</td>\n      <td>False</td>\n      <td>False</td>\n      <td>False</td>\n      <td>False</td>\n      <td>False</td>\n      <td>False</td>\n    </tr>\n    <tr>\n      <th>1</th>\n      <td>False</td>\n      <td>False</td>\n      <td>False</td>\n      <td>False</td>\n      <td>False</td>\n      <td>True</td>\n      <td>False</td>\n      <td>False</td>\n      <td>False</td>\n      <td>False</td>\n      <td>False</td>\n      <td>False</td>\n      <td>False</td>\n      <td>False</td>\n      <td>False</td>\n      <td>False</td>\n      <td>False</td>\n      <td>False</td>\n      <td>False</td>\n      <td>False</td>\n    </tr>\n    <tr>\n      <th>2</th>\n      <td>False</td>\n      <td>False</td>\n      <td>False</td>\n      <td>False</td>\n      <td>False</td>\n      <td>False</td>\n      <td>False</td>\n      <td>True</td>\n      <td>False</td>\n      <td>False</td>\n      <td>False</td>\n      <td>False</td>\n      <td>False</td>\n      <td>False</td>\n      <td>False</td>\n      <td>False</td>\n      <td>False</td>\n      <td>False</td>\n      <td>False</td>\n      <td>False</td>\n    </tr>\n    <tr>\n      <th>3</th>\n      <td>True</td>\n      <td>False</td>\n      <td>False</td>\n      <td>False</td>\n      <td>False</td>\n      <td>False</td>\n      <td>False</td>\n      <td>False</td>\n      <td>False</td>\n      <td>False</td>\n      <td>False</td>\n      <td>False</td>\n      <td>False</td>\n      <td>False</td>\n      <td>False</td>\n      <td>False</td>\n      <td>False</td>\n      <td>False</td>\n      <td>False</td>\n      <td>False</td>\n    </tr>\n    <tr>\n      <th>4</th>\n      <td>False</td>\n      <td>False</td>\n      <td>False</td>\n      <td>False</td>\n      <td>True</td>\n      <td>False</td>\n      <td>False</td>\n      <td>False</td>\n      <td>False</td>\n      <td>False</td>\n      <td>False</td>\n      <td>False</td>\n      <td>False</td>\n      <td>False</td>\n      <td>False</td>\n      <td>False</td>\n      <td>False</td>\n      <td>False</td>\n      <td>False</td>\n      <td>False</td>\n    </tr>\n    <tr>\n      <th>...</th>\n      <td>...</td>\n      <td>...</td>\n      <td>...</td>\n      <td>...</td>\n      <td>...</td>\n      <td>...</td>\n      <td>...</td>\n      <td>...</td>\n      <td>...</td>\n      <td>...</td>\n      <td>...</td>\n      <td>...</td>\n      <td>...</td>\n      <td>...</td>\n      <td>...</td>\n      <td>...</td>\n      <td>...</td>\n      <td>...</td>\n      <td>...</td>\n      <td>...</td>\n    </tr>\n    <tr>\n      <th>33953</th>\n      <td>False</td>\n      <td>False</td>\n      <td>False</td>\n      <td>False</td>\n      <td>False</td>\n      <td>False</td>\n      <td>False</td>\n      <td>False</td>\n      <td>False</td>\n      <td>False</td>\n      <td>True</td>\n      <td>False</td>\n      <td>False</td>\n      <td>False</td>\n      <td>False</td>\n      <td>False</td>\n      <td>False</td>\n      <td>False</td>\n      <td>False</td>\n      <td>False</td>\n    </tr>\n    <tr>\n      <th>33954</th>\n      <td>False</td>\n      <td>False</td>\n      <td>False</td>\n      <td>False</td>\n      <td>False</td>\n      <td>False</td>\n      <td>False</td>\n      <td>False</td>\n      <td>False</td>\n      <td>False</td>\n      <td>False</td>\n      <td>False</td>\n      <td>False</td>\n      <td>False</td>\n      <td>True</td>\n      <td>False</td>\n      <td>False</td>\n      <td>False</td>\n      <td>False</td>\n      <td>False</td>\n    </tr>\n    <tr>\n      <th>33955</th>\n      <td>False</td>\n      <td>False</td>\n      <td>False</td>\n      <td>False</td>\n      <td>False</td>\n      <td>False</td>\n      <td>False</td>\n      <td>False</td>\n      <td>False</td>\n      <td>False</td>\n      <td>False</td>\n      <td>False</td>\n      <td>False</td>\n      <td>False</td>\n      <td>False</td>\n      <td>False</td>\n      <td>False</td>\n      <td>False</td>\n      <td>False</td>\n      <td>True</td>\n    </tr>\n    <tr>\n      <th>33956</th>\n      <td>False</td>\n      <td>True</td>\n      <td>False</td>\n      <td>False</td>\n      <td>False</td>\n      <td>False</td>\n      <td>False</td>\n      <td>False</td>\n      <td>False</td>\n      <td>False</td>\n      <td>False</td>\n      <td>False</td>\n      <td>False</td>\n      <td>False</td>\n      <td>False</td>\n      <td>False</td>\n      <td>False</td>\n      <td>False</td>\n      <td>False</td>\n      <td>False</td>\n    </tr>\n    <tr>\n      <th>33957</th>\n      <td>False</td>\n      <td>True</td>\n      <td>False</td>\n      <td>False</td>\n      <td>False</td>\n      <td>False</td>\n      <td>False</td>\n      <td>False</td>\n      <td>False</td>\n      <td>False</td>\n      <td>False</td>\n      <td>False</td>\n      <td>False</td>\n      <td>False</td>\n      <td>False</td>\n      <td>False</td>\n      <td>False</td>\n      <td>False</td>\n      <td>False</td>\n      <td>False</td>\n    </tr>\n  </tbody>\n</table>\n<p>33958 rows × 20 columns</p>\n</div>"
     },
     "execution_count": 28,
     "metadata": {},
     "output_type": "execute_result"
    }
   ],
   "source": [
    "one_hot_encoded_breed_group = pd.get_dummies(merged_DogOV_breeds['Breed Group'], prefix='breed_group')\n",
    "one_hot_encoded_breed_group"
   ],
   "metadata": {
    "collapsed": false
   }
  },
  {
   "cell_type": "code",
   "execution_count": 29,
   "outputs": [
    {
     "data": {
      "text/plain": "       dog_id  breed_group_Ancient and Spitz  breed_group_Australian-like  \\\n0           8                          False                        False   \n1           9                          False                        False   \n2          11                          False                        False   \n3          12                           True                        False   \n4          13                          False                        False   \n...       ...                            ...                          ...   \n33953  103637                          False                        False   \n33954  103643                          False                        False   \n33955  103643                          False                        False   \n33956  103647                          False                         True   \n33957  103658                          False                         True   \n\n       breed_group_Chihuahua  breed_group_Dachshund  breed_group_Golden  \\\n0                      False                  False               False   \n1                      False                  False               False   \n2                      False                  False               False   \n3                      False                  False               False   \n4                      False                  False                True   \n...                      ...                    ...                 ...   \n33953                  False                  False               False   \n33954                  False                  False               False   \n33955                  False                  False               False   \n33956                  False                  False               False   \n33957                  False                  False               False   \n\n       breed_group_Herding dogs - Other  breed_group_Hound  breed_group_Labs  \\\n0                                 False              False             False   \n1                                  True              False             False   \n2                                 False              False              True   \n3                                 False              False             False   \n4                                 False              False             False   \n...                                 ...                ...               ...   \n33953                             False              False             False   \n33954                             False              False             False   \n33955                             False              False             False   \n33956                             False              False             False   \n33957                             False              False             False   \n\n       breed_group_Mastiff-like Group 1  ...  \\\n0                                 False  ...   \n1                                 False  ...   \n2                                 False  ...   \n3                                 False  ...   \n4                                 False  ...   \n...                                 ...  ...   \n33953                             False  ...   \n33954                             False  ...   \n33955                             False  ...   \n33956                             False  ...   \n33957                             False  ...   \n\n       breed_group_Mixed Lab and Golden  breed_group_Mixed Large  \\\n0                                 False                    False   \n1                                 False                    False   \n2                                 False                    False   \n3                                 False                    False   \n4                                 False                    False   \n...                                 ...                      ...   \n33953                              True                    False   \n33954                             False                    False   \n33955                             False                    False   \n33956                             False                    False   \n33957                             False                    False   \n\n       breed_group_Mixed Medium  breed_group_Mixed Other  \\\n0                         False                     True   \n1                         False                    False   \n2                         False                    False   \n3                         False                    False   \n4                         False                    False   \n...                         ...                      ...   \n33953                     False                    False   \n33954                     False                    False   \n33955                     False                    False   \n33956                     False                    False   \n33957                     False                    False   \n\n       breed_group_Mixed Small  breed_group_Shepherd  breed_group_Spaniels  \\\n0                        False                 False                 False   \n1                        False                 False                 False   \n2                        False                 False                 False   \n3                        False                 False                 False   \n4                        False                 False                 False   \n...                        ...                   ...                   ...   \n33953                    False                 False                 False   \n33954                     True                 False                 False   \n33955                    False                 False                 False   \n33956                    False                 False                 False   \n33957                    False                 False                 False   \n\n       breed_group_Terriers  breed_group_Toy - Other  \\\n0                     False                    False   \n1                     False                    False   \n2                     False                    False   \n3                     False                    False   \n4                     False                    False   \n...                     ...                      ...   \n33953                 False                    False   \n33954                 False                    False   \n33955                 False                    False   \n33956                 False                    False   \n33957                 False                    False   \n\n       breed_group_Working dogs - Non-sport  \n0                                     False  \n1                                     False  \n2                                     False  \n3                                     False  \n4                                     False  \n...                                     ...  \n33953                                 False  \n33954                                 False  \n33955                                  True  \n33956                                 False  \n33957                                 False  \n\n[33958 rows x 21 columns]",
      "text/html": "<div>\n<style scoped>\n    .dataframe tbody tr th:only-of-type {\n        vertical-align: middle;\n    }\n\n    .dataframe tbody tr th {\n        vertical-align: top;\n    }\n\n    .dataframe thead th {\n        text-align: right;\n    }\n</style>\n<table border=\"1\" class=\"dataframe\">\n  <thead>\n    <tr style=\"text-align: right;\">\n      <th></th>\n      <th>dog_id</th>\n      <th>breed_group_Ancient and Spitz</th>\n      <th>breed_group_Australian-like</th>\n      <th>breed_group_Chihuahua</th>\n      <th>breed_group_Dachshund</th>\n      <th>breed_group_Golden</th>\n      <th>breed_group_Herding dogs - Other</th>\n      <th>breed_group_Hound</th>\n      <th>breed_group_Labs</th>\n      <th>breed_group_Mastiff-like Group 1</th>\n      <th>...</th>\n      <th>breed_group_Mixed Lab and Golden</th>\n      <th>breed_group_Mixed Large</th>\n      <th>breed_group_Mixed Medium</th>\n      <th>breed_group_Mixed Other</th>\n      <th>breed_group_Mixed Small</th>\n      <th>breed_group_Shepherd</th>\n      <th>breed_group_Spaniels</th>\n      <th>breed_group_Terriers</th>\n      <th>breed_group_Toy - Other</th>\n      <th>breed_group_Working dogs - Non-sport</th>\n    </tr>\n  </thead>\n  <tbody>\n    <tr>\n      <th>0</th>\n      <td>8</td>\n      <td>False</td>\n      <td>False</td>\n      <td>False</td>\n      <td>False</td>\n      <td>False</td>\n      <td>False</td>\n      <td>False</td>\n      <td>False</td>\n      <td>False</td>\n      <td>...</td>\n      <td>False</td>\n      <td>False</td>\n      <td>False</td>\n      <td>True</td>\n      <td>False</td>\n      <td>False</td>\n      <td>False</td>\n      <td>False</td>\n      <td>False</td>\n      <td>False</td>\n    </tr>\n    <tr>\n      <th>1</th>\n      <td>9</td>\n      <td>False</td>\n      <td>False</td>\n      <td>False</td>\n      <td>False</td>\n      <td>False</td>\n      <td>True</td>\n      <td>False</td>\n      <td>False</td>\n      <td>False</td>\n      <td>...</td>\n      <td>False</td>\n      <td>False</td>\n      <td>False</td>\n      <td>False</td>\n      <td>False</td>\n      <td>False</td>\n      <td>False</td>\n      <td>False</td>\n      <td>False</td>\n      <td>False</td>\n    </tr>\n    <tr>\n      <th>2</th>\n      <td>11</td>\n      <td>False</td>\n      <td>False</td>\n      <td>False</td>\n      <td>False</td>\n      <td>False</td>\n      <td>False</td>\n      <td>False</td>\n      <td>True</td>\n      <td>False</td>\n      <td>...</td>\n      <td>False</td>\n      <td>False</td>\n      <td>False</td>\n      <td>False</td>\n      <td>False</td>\n      <td>False</td>\n      <td>False</td>\n      <td>False</td>\n      <td>False</td>\n      <td>False</td>\n    </tr>\n    <tr>\n      <th>3</th>\n      <td>12</td>\n      <td>True</td>\n      <td>False</td>\n      <td>False</td>\n      <td>False</td>\n      <td>False</td>\n      <td>False</td>\n      <td>False</td>\n      <td>False</td>\n      <td>False</td>\n      <td>...</td>\n      <td>False</td>\n      <td>False</td>\n      <td>False</td>\n      <td>False</td>\n      <td>False</td>\n      <td>False</td>\n      <td>False</td>\n      <td>False</td>\n      <td>False</td>\n      <td>False</td>\n    </tr>\n    <tr>\n      <th>4</th>\n      <td>13</td>\n      <td>False</td>\n      <td>False</td>\n      <td>False</td>\n      <td>False</td>\n      <td>True</td>\n      <td>False</td>\n      <td>False</td>\n      <td>False</td>\n      <td>False</td>\n      <td>...</td>\n      <td>False</td>\n      <td>False</td>\n      <td>False</td>\n      <td>False</td>\n      <td>False</td>\n      <td>False</td>\n      <td>False</td>\n      <td>False</td>\n      <td>False</td>\n      <td>False</td>\n    </tr>\n    <tr>\n      <th>...</th>\n      <td>...</td>\n      <td>...</td>\n      <td>...</td>\n      <td>...</td>\n      <td>...</td>\n      <td>...</td>\n      <td>...</td>\n      <td>...</td>\n      <td>...</td>\n      <td>...</td>\n      <td>...</td>\n      <td>...</td>\n      <td>...</td>\n      <td>...</td>\n      <td>...</td>\n      <td>...</td>\n      <td>...</td>\n      <td>...</td>\n      <td>...</td>\n      <td>...</td>\n      <td>...</td>\n    </tr>\n    <tr>\n      <th>33953</th>\n      <td>103637</td>\n      <td>False</td>\n      <td>False</td>\n      <td>False</td>\n      <td>False</td>\n      <td>False</td>\n      <td>False</td>\n      <td>False</td>\n      <td>False</td>\n      <td>False</td>\n      <td>...</td>\n      <td>True</td>\n      <td>False</td>\n      <td>False</td>\n      <td>False</td>\n      <td>False</td>\n      <td>False</td>\n      <td>False</td>\n      <td>False</td>\n      <td>False</td>\n      <td>False</td>\n    </tr>\n    <tr>\n      <th>33954</th>\n      <td>103643</td>\n      <td>False</td>\n      <td>False</td>\n      <td>False</td>\n      <td>False</td>\n      <td>False</td>\n      <td>False</td>\n      <td>False</td>\n      <td>False</td>\n      <td>False</td>\n      <td>...</td>\n      <td>False</td>\n      <td>False</td>\n      <td>False</td>\n      <td>False</td>\n      <td>True</td>\n      <td>False</td>\n      <td>False</td>\n      <td>False</td>\n      <td>False</td>\n      <td>False</td>\n    </tr>\n    <tr>\n      <th>33955</th>\n      <td>103643</td>\n      <td>False</td>\n      <td>False</td>\n      <td>False</td>\n      <td>False</td>\n      <td>False</td>\n      <td>False</td>\n      <td>False</td>\n      <td>False</td>\n      <td>False</td>\n      <td>...</td>\n      <td>False</td>\n      <td>False</td>\n      <td>False</td>\n      <td>False</td>\n      <td>False</td>\n      <td>False</td>\n      <td>False</td>\n      <td>False</td>\n      <td>False</td>\n      <td>True</td>\n    </tr>\n    <tr>\n      <th>33956</th>\n      <td>103647</td>\n      <td>False</td>\n      <td>True</td>\n      <td>False</td>\n      <td>False</td>\n      <td>False</td>\n      <td>False</td>\n      <td>False</td>\n      <td>False</td>\n      <td>False</td>\n      <td>...</td>\n      <td>False</td>\n      <td>False</td>\n      <td>False</td>\n      <td>False</td>\n      <td>False</td>\n      <td>False</td>\n      <td>False</td>\n      <td>False</td>\n      <td>False</td>\n      <td>False</td>\n    </tr>\n    <tr>\n      <th>33957</th>\n      <td>103658</td>\n      <td>False</td>\n      <td>True</td>\n      <td>False</td>\n      <td>False</td>\n      <td>False</td>\n      <td>False</td>\n      <td>False</td>\n      <td>False</td>\n      <td>False</td>\n      <td>...</td>\n      <td>False</td>\n      <td>False</td>\n      <td>False</td>\n      <td>False</td>\n      <td>False</td>\n      <td>False</td>\n      <td>False</td>\n      <td>False</td>\n      <td>False</td>\n      <td>False</td>\n    </tr>\n  </tbody>\n</table>\n<p>33958 rows × 21 columns</p>\n</div>"
     },
     "execution_count": 29,
     "metadata": {},
     "output_type": "execute_result"
    }
   ],
   "source": [
    "id_breed_group_one_hot = pd.concat([merged_DogOV_breeds[['dog_id']], one_hot_encoded_breed_group], axis=1)\n",
    "id_breed_group_one_hot"
   ],
   "metadata": {
    "collapsed": false
   }
  },
  {
   "cell_type": "code",
   "execution_count": 30,
   "outputs": [],
   "source": [
    "id_breed_group_one_hot.to_pickle('one_hot_encoded_breed_group_with_id.pkl')\n",
    "id_breed_group_one_hot.to_csv('one_hot_encoded_breed_group_with_id.csv', index=False)"
   ],
   "metadata": {
    "collapsed": false
   }
  },
  {
   "cell_type": "code",
   "execution_count": 31,
   "outputs": [
    {
     "data": {
      "text/plain": "       breed_Affenpinscher  breed_Affenpinscher Mix  breed_Afghan Hound  \\\n0                    False                    False               False   \n1                    False                    False               False   \n2                    False                    False               False   \n3                    False                    False               False   \n4                    False                    False               False   \n...                    ...                      ...                 ...   \n33953                False                    False               False   \n33954                False                    False               False   \n33955                False                    False               False   \n33956                False                    False               False   \n33957                False                    False               False   \n\n       breed_African Village Dog  breed_Ainu Dog  breed_Airedale Terrier  \\\n0                          False           False                   False   \n1                          False           False                   False   \n2                          False           False                   False   \n3                          False           False                   False   \n4                          False           False                   False   \n...                          ...             ...                     ...   \n33953                      False           False                   False   \n33954                      False           False                   False   \n33955                      False           False                   False   \n33956                      False           False                   False   \n33957                      False           False                   False   \n\n       breed_Airedale Terrier Mix  breed_Akbash  breed_Akita  breed_Akita Mix  \\\n0                           False         False        False            False   \n1                           False         False        False            False   \n2                           False         False        False            False   \n3                           False         False        False            False   \n4                           False         False        False            False   \n...                           ...           ...          ...              ...   \n33953                       False         False        False            False   \n33954                       False         False        False            False   \n33955                       False         False        False            False   \n33956                       False         False        False            False   \n33957                       False         False        False            False   \n\n       ...  breed_Wirehaired Pointing Griffon Mix  \\\n0      ...                                  False   \n1      ...                                  False   \n2      ...                                  False   \n3      ...                                  False   \n4      ...                                  False   \n...    ...                                    ...   \n33953  ...                                  False   \n33954  ...                                  False   \n33955  ...                                  False   \n33956  ...                                  False   \n33957  ...                                  False   \n\n       breed_Wirehaired Vizsla Mix  breed_Wolf Mix  breed_Working Kelpie  \\\n0                            False           False                 False   \n1                            False           False                 False   \n2                            False           False                 False   \n3                            False           False                 False   \n4                            False           False                 False   \n...                            ...             ...                   ...   \n33953                        False           False                 False   \n33954                        False           False                 False   \n33955                        False           False                 False   \n33956                        False           False                 False   \n33957                        False           False                 False   \n\n       breed_Xoloitzcuintli  breed_Xoloitzcuintli Mix  \\\n0                     False                     False   \n1                     False                     False   \n2                     False                     False   \n3                     False                     False   \n4                     False                     False   \n...                     ...                       ...   \n33953                 False                     False   \n33954                 False                     False   \n33955                 False                     False   \n33956                 False                     False   \n33957                 False                     False   \n\n       breed_Yorkshire Terrier  breed_Yorkshire Terrier Mix  \\\n0                        False                        False   \n1                        False                        False   \n2                        False                        False   \n3                        False                        False   \n4                        False                        False   \n...                        ...                          ...   \n33953                    False                        False   \n33954                    False                        False   \n33955                    False                        False   \n33956                    False                        False   \n33957                    False                        False   \n\n       breed_labradoodle  breed_shiloh shepherd  \n0                  False                  False  \n1                  False                  False  \n2                  False                  False  \n3                  False                  False  \n4                  False                  False  \n...                  ...                    ...  \n33953              False                  False  \n33954              False                  False  \n33955              False                  False  \n33956              False                  False  \n33957              False                  False  \n\n[33958 rows x 506 columns]",
      "text/html": "<div>\n<style scoped>\n    .dataframe tbody tr th:only-of-type {\n        vertical-align: middle;\n    }\n\n    .dataframe tbody tr th {\n        vertical-align: top;\n    }\n\n    .dataframe thead th {\n        text-align: right;\n    }\n</style>\n<table border=\"1\" class=\"dataframe\">\n  <thead>\n    <tr style=\"text-align: right;\">\n      <th></th>\n      <th>breed_Affenpinscher</th>\n      <th>breed_Affenpinscher Mix</th>\n      <th>breed_Afghan Hound</th>\n      <th>breed_African Village Dog</th>\n      <th>breed_Ainu Dog</th>\n      <th>breed_Airedale Terrier</th>\n      <th>breed_Airedale Terrier Mix</th>\n      <th>breed_Akbash</th>\n      <th>breed_Akita</th>\n      <th>breed_Akita Mix</th>\n      <th>...</th>\n      <th>breed_Wirehaired Pointing Griffon Mix</th>\n      <th>breed_Wirehaired Vizsla Mix</th>\n      <th>breed_Wolf Mix</th>\n      <th>breed_Working Kelpie</th>\n      <th>breed_Xoloitzcuintli</th>\n      <th>breed_Xoloitzcuintli Mix</th>\n      <th>breed_Yorkshire Terrier</th>\n      <th>breed_Yorkshire Terrier Mix</th>\n      <th>breed_labradoodle</th>\n      <th>breed_shiloh shepherd</th>\n    </tr>\n  </thead>\n  <tbody>\n    <tr>\n      <th>0</th>\n      <td>False</td>\n      <td>False</td>\n      <td>False</td>\n      <td>False</td>\n      <td>False</td>\n      <td>False</td>\n      <td>False</td>\n      <td>False</td>\n      <td>False</td>\n      <td>False</td>\n      <td>...</td>\n      <td>False</td>\n      <td>False</td>\n      <td>False</td>\n      <td>False</td>\n      <td>False</td>\n      <td>False</td>\n      <td>False</td>\n      <td>False</td>\n      <td>False</td>\n      <td>False</td>\n    </tr>\n    <tr>\n      <th>1</th>\n      <td>False</td>\n      <td>False</td>\n      <td>False</td>\n      <td>False</td>\n      <td>False</td>\n      <td>False</td>\n      <td>False</td>\n      <td>False</td>\n      <td>False</td>\n      <td>False</td>\n      <td>...</td>\n      <td>False</td>\n      <td>False</td>\n      <td>False</td>\n      <td>False</td>\n      <td>False</td>\n      <td>False</td>\n      <td>False</td>\n      <td>False</td>\n      <td>False</td>\n      <td>False</td>\n    </tr>\n    <tr>\n      <th>2</th>\n      <td>False</td>\n      <td>False</td>\n      <td>False</td>\n      <td>False</td>\n      <td>False</td>\n      <td>False</td>\n      <td>False</td>\n      <td>False</td>\n      <td>False</td>\n      <td>False</td>\n      <td>...</td>\n      <td>False</td>\n      <td>False</td>\n      <td>False</td>\n      <td>False</td>\n      <td>False</td>\n      <td>False</td>\n      <td>False</td>\n      <td>False</td>\n      <td>False</td>\n      <td>False</td>\n    </tr>\n    <tr>\n      <th>3</th>\n      <td>False</td>\n      <td>False</td>\n      <td>False</td>\n      <td>False</td>\n      <td>False</td>\n      <td>False</td>\n      <td>False</td>\n      <td>False</td>\n      <td>False</td>\n      <td>False</td>\n      <td>...</td>\n      <td>False</td>\n      <td>False</td>\n      <td>False</td>\n      <td>False</td>\n      <td>False</td>\n      <td>False</td>\n      <td>False</td>\n      <td>False</td>\n      <td>False</td>\n      <td>False</td>\n    </tr>\n    <tr>\n      <th>4</th>\n      <td>False</td>\n      <td>False</td>\n      <td>False</td>\n      <td>False</td>\n      <td>False</td>\n      <td>False</td>\n      <td>False</td>\n      <td>False</td>\n      <td>False</td>\n      <td>False</td>\n      <td>...</td>\n      <td>False</td>\n      <td>False</td>\n      <td>False</td>\n      <td>False</td>\n      <td>False</td>\n      <td>False</td>\n      <td>False</td>\n      <td>False</td>\n      <td>False</td>\n      <td>False</td>\n    </tr>\n    <tr>\n      <th>...</th>\n      <td>...</td>\n      <td>...</td>\n      <td>...</td>\n      <td>...</td>\n      <td>...</td>\n      <td>...</td>\n      <td>...</td>\n      <td>...</td>\n      <td>...</td>\n      <td>...</td>\n      <td>...</td>\n      <td>...</td>\n      <td>...</td>\n      <td>...</td>\n      <td>...</td>\n      <td>...</td>\n      <td>...</td>\n      <td>...</td>\n      <td>...</td>\n      <td>...</td>\n      <td>...</td>\n    </tr>\n    <tr>\n      <th>33953</th>\n      <td>False</td>\n      <td>False</td>\n      <td>False</td>\n      <td>False</td>\n      <td>False</td>\n      <td>False</td>\n      <td>False</td>\n      <td>False</td>\n      <td>False</td>\n      <td>False</td>\n      <td>...</td>\n      <td>False</td>\n      <td>False</td>\n      <td>False</td>\n      <td>False</td>\n      <td>False</td>\n      <td>False</td>\n      <td>False</td>\n      <td>False</td>\n      <td>False</td>\n      <td>False</td>\n    </tr>\n    <tr>\n      <th>33954</th>\n      <td>False</td>\n      <td>False</td>\n      <td>False</td>\n      <td>False</td>\n      <td>False</td>\n      <td>False</td>\n      <td>False</td>\n      <td>False</td>\n      <td>False</td>\n      <td>False</td>\n      <td>...</td>\n      <td>False</td>\n      <td>False</td>\n      <td>False</td>\n      <td>False</td>\n      <td>False</td>\n      <td>False</td>\n      <td>False</td>\n      <td>False</td>\n      <td>False</td>\n      <td>False</td>\n    </tr>\n    <tr>\n      <th>33955</th>\n      <td>False</td>\n      <td>False</td>\n      <td>False</td>\n      <td>False</td>\n      <td>False</td>\n      <td>False</td>\n      <td>False</td>\n      <td>False</td>\n      <td>False</td>\n      <td>False</td>\n      <td>...</td>\n      <td>False</td>\n      <td>False</td>\n      <td>False</td>\n      <td>False</td>\n      <td>False</td>\n      <td>False</td>\n      <td>False</td>\n      <td>False</td>\n      <td>False</td>\n      <td>False</td>\n    </tr>\n    <tr>\n      <th>33956</th>\n      <td>False</td>\n      <td>False</td>\n      <td>False</td>\n      <td>False</td>\n      <td>False</td>\n      <td>False</td>\n      <td>False</td>\n      <td>False</td>\n      <td>False</td>\n      <td>False</td>\n      <td>...</td>\n      <td>False</td>\n      <td>False</td>\n      <td>False</td>\n      <td>False</td>\n      <td>False</td>\n      <td>False</td>\n      <td>False</td>\n      <td>False</td>\n      <td>False</td>\n      <td>False</td>\n    </tr>\n    <tr>\n      <th>33957</th>\n      <td>False</td>\n      <td>False</td>\n      <td>False</td>\n      <td>False</td>\n      <td>False</td>\n      <td>False</td>\n      <td>False</td>\n      <td>False</td>\n      <td>False</td>\n      <td>False</td>\n      <td>...</td>\n      <td>False</td>\n      <td>False</td>\n      <td>False</td>\n      <td>False</td>\n      <td>False</td>\n      <td>False</td>\n      <td>False</td>\n      <td>False</td>\n      <td>False</td>\n      <td>False</td>\n    </tr>\n  </tbody>\n</table>\n<p>33958 rows × 506 columns</p>\n</div>"
     },
     "execution_count": 31,
     "metadata": {},
     "output_type": "execute_result"
    }
   ],
   "source": [
    "one_hot_encoded_breed = pd.get_dummies(merged_DogOV_breeds['Breed'], prefix='breed')\n",
    "one_hot_encoded_breed"
   ],
   "metadata": {
    "collapsed": false
   }
  },
  {
   "cell_type": "code",
   "execution_count": 32,
   "outputs": [
    {
     "data": {
      "text/plain": "       dog_id  breed_Affenpinscher  breed_Affenpinscher Mix  \\\n0           8                False                    False   \n1           9                False                    False   \n2          11                False                    False   \n3          12                False                    False   \n4          13                False                    False   \n...       ...                  ...                      ...   \n33953  103637                False                    False   \n33954  103643                False                    False   \n33955  103643                False                    False   \n33956  103647                False                    False   \n33957  103658                False                    False   \n\n       breed_Afghan Hound  breed_African Village Dog  breed_Ainu Dog  \\\n0                   False                      False           False   \n1                   False                      False           False   \n2                   False                      False           False   \n3                   False                      False           False   \n4                   False                      False           False   \n...                   ...                        ...             ...   \n33953               False                      False           False   \n33954               False                      False           False   \n33955               False                      False           False   \n33956               False                      False           False   \n33957               False                      False           False   \n\n       breed_Airedale Terrier  breed_Airedale Terrier Mix  breed_Akbash  \\\n0                       False                       False         False   \n1                       False                       False         False   \n2                       False                       False         False   \n3                       False                       False         False   \n4                       False                       False         False   \n...                       ...                         ...           ...   \n33953                   False                       False         False   \n33954                   False                       False         False   \n33955                   False                       False         False   \n33956                   False                       False         False   \n33957                   False                       False         False   \n\n       breed_Akita  ...  breed_Wirehaired Pointing Griffon Mix  \\\n0            False  ...                                  False   \n1            False  ...                                  False   \n2            False  ...                                  False   \n3            False  ...                                  False   \n4            False  ...                                  False   \n...            ...  ...                                    ...   \n33953        False  ...                                  False   \n33954        False  ...                                  False   \n33955        False  ...                                  False   \n33956        False  ...                                  False   \n33957        False  ...                                  False   \n\n       breed_Wirehaired Vizsla Mix  breed_Wolf Mix  breed_Working Kelpie  \\\n0                            False           False                 False   \n1                            False           False                 False   \n2                            False           False                 False   \n3                            False           False                 False   \n4                            False           False                 False   \n...                            ...             ...                   ...   \n33953                        False           False                 False   \n33954                        False           False                 False   \n33955                        False           False                 False   \n33956                        False           False                 False   \n33957                        False           False                 False   \n\n       breed_Xoloitzcuintli  breed_Xoloitzcuintli Mix  \\\n0                     False                     False   \n1                     False                     False   \n2                     False                     False   \n3                     False                     False   \n4                     False                     False   \n...                     ...                       ...   \n33953                 False                     False   \n33954                 False                     False   \n33955                 False                     False   \n33956                 False                     False   \n33957                 False                     False   \n\n       breed_Yorkshire Terrier  breed_Yorkshire Terrier Mix  \\\n0                        False                        False   \n1                        False                        False   \n2                        False                        False   \n3                        False                        False   \n4                        False                        False   \n...                        ...                          ...   \n33953                    False                        False   \n33954                    False                        False   \n33955                    False                        False   \n33956                    False                        False   \n33957                    False                        False   \n\n       breed_labradoodle  breed_shiloh shepherd  \n0                  False                  False  \n1                  False                  False  \n2                  False                  False  \n3                  False                  False  \n4                  False                  False  \n...                  ...                    ...  \n33953              False                  False  \n33954              False                  False  \n33955              False                  False  \n33956              False                  False  \n33957              False                  False  \n\n[33958 rows x 507 columns]",
      "text/html": "<div>\n<style scoped>\n    .dataframe tbody tr th:only-of-type {\n        vertical-align: middle;\n    }\n\n    .dataframe tbody tr th {\n        vertical-align: top;\n    }\n\n    .dataframe thead th {\n        text-align: right;\n    }\n</style>\n<table border=\"1\" class=\"dataframe\">\n  <thead>\n    <tr style=\"text-align: right;\">\n      <th></th>\n      <th>dog_id</th>\n      <th>breed_Affenpinscher</th>\n      <th>breed_Affenpinscher Mix</th>\n      <th>breed_Afghan Hound</th>\n      <th>breed_African Village Dog</th>\n      <th>breed_Ainu Dog</th>\n      <th>breed_Airedale Terrier</th>\n      <th>breed_Airedale Terrier Mix</th>\n      <th>breed_Akbash</th>\n      <th>breed_Akita</th>\n      <th>...</th>\n      <th>breed_Wirehaired Pointing Griffon Mix</th>\n      <th>breed_Wirehaired Vizsla Mix</th>\n      <th>breed_Wolf Mix</th>\n      <th>breed_Working Kelpie</th>\n      <th>breed_Xoloitzcuintli</th>\n      <th>breed_Xoloitzcuintli Mix</th>\n      <th>breed_Yorkshire Terrier</th>\n      <th>breed_Yorkshire Terrier Mix</th>\n      <th>breed_labradoodle</th>\n      <th>breed_shiloh shepherd</th>\n    </tr>\n  </thead>\n  <tbody>\n    <tr>\n      <th>0</th>\n      <td>8</td>\n      <td>False</td>\n      <td>False</td>\n      <td>False</td>\n      <td>False</td>\n      <td>False</td>\n      <td>False</td>\n      <td>False</td>\n      <td>False</td>\n      <td>False</td>\n      <td>...</td>\n      <td>False</td>\n      <td>False</td>\n      <td>False</td>\n      <td>False</td>\n      <td>False</td>\n      <td>False</td>\n      <td>False</td>\n      <td>False</td>\n      <td>False</td>\n      <td>False</td>\n    </tr>\n    <tr>\n      <th>1</th>\n      <td>9</td>\n      <td>False</td>\n      <td>False</td>\n      <td>False</td>\n      <td>False</td>\n      <td>False</td>\n      <td>False</td>\n      <td>False</td>\n      <td>False</td>\n      <td>False</td>\n      <td>...</td>\n      <td>False</td>\n      <td>False</td>\n      <td>False</td>\n      <td>False</td>\n      <td>False</td>\n      <td>False</td>\n      <td>False</td>\n      <td>False</td>\n      <td>False</td>\n      <td>False</td>\n    </tr>\n    <tr>\n      <th>2</th>\n      <td>11</td>\n      <td>False</td>\n      <td>False</td>\n      <td>False</td>\n      <td>False</td>\n      <td>False</td>\n      <td>False</td>\n      <td>False</td>\n      <td>False</td>\n      <td>False</td>\n      <td>...</td>\n      <td>False</td>\n      <td>False</td>\n      <td>False</td>\n      <td>False</td>\n      <td>False</td>\n      <td>False</td>\n      <td>False</td>\n      <td>False</td>\n      <td>False</td>\n      <td>False</td>\n    </tr>\n    <tr>\n      <th>3</th>\n      <td>12</td>\n      <td>False</td>\n      <td>False</td>\n      <td>False</td>\n      <td>False</td>\n      <td>False</td>\n      <td>False</td>\n      <td>False</td>\n      <td>False</td>\n      <td>False</td>\n      <td>...</td>\n      <td>False</td>\n      <td>False</td>\n      <td>False</td>\n      <td>False</td>\n      <td>False</td>\n      <td>False</td>\n      <td>False</td>\n      <td>False</td>\n      <td>False</td>\n      <td>False</td>\n    </tr>\n    <tr>\n      <th>4</th>\n      <td>13</td>\n      <td>False</td>\n      <td>False</td>\n      <td>False</td>\n      <td>False</td>\n      <td>False</td>\n      <td>False</td>\n      <td>False</td>\n      <td>False</td>\n      <td>False</td>\n      <td>...</td>\n      <td>False</td>\n      <td>False</td>\n      <td>False</td>\n      <td>False</td>\n      <td>False</td>\n      <td>False</td>\n      <td>False</td>\n      <td>False</td>\n      <td>False</td>\n      <td>False</td>\n    </tr>\n    <tr>\n      <th>...</th>\n      <td>...</td>\n      <td>...</td>\n      <td>...</td>\n      <td>...</td>\n      <td>...</td>\n      <td>...</td>\n      <td>...</td>\n      <td>...</td>\n      <td>...</td>\n      <td>...</td>\n      <td>...</td>\n      <td>...</td>\n      <td>...</td>\n      <td>...</td>\n      <td>...</td>\n      <td>...</td>\n      <td>...</td>\n      <td>...</td>\n      <td>...</td>\n      <td>...</td>\n      <td>...</td>\n    </tr>\n    <tr>\n      <th>33953</th>\n      <td>103637</td>\n      <td>False</td>\n      <td>False</td>\n      <td>False</td>\n      <td>False</td>\n      <td>False</td>\n      <td>False</td>\n      <td>False</td>\n      <td>False</td>\n      <td>False</td>\n      <td>...</td>\n      <td>False</td>\n      <td>False</td>\n      <td>False</td>\n      <td>False</td>\n      <td>False</td>\n      <td>False</td>\n      <td>False</td>\n      <td>False</td>\n      <td>False</td>\n      <td>False</td>\n    </tr>\n    <tr>\n      <th>33954</th>\n      <td>103643</td>\n      <td>False</td>\n      <td>False</td>\n      <td>False</td>\n      <td>False</td>\n      <td>False</td>\n      <td>False</td>\n      <td>False</td>\n      <td>False</td>\n      <td>False</td>\n      <td>...</td>\n      <td>False</td>\n      <td>False</td>\n      <td>False</td>\n      <td>False</td>\n      <td>False</td>\n      <td>False</td>\n      <td>False</td>\n      <td>False</td>\n      <td>False</td>\n      <td>False</td>\n    </tr>\n    <tr>\n      <th>33955</th>\n      <td>103643</td>\n      <td>False</td>\n      <td>False</td>\n      <td>False</td>\n      <td>False</td>\n      <td>False</td>\n      <td>False</td>\n      <td>False</td>\n      <td>False</td>\n      <td>False</td>\n      <td>...</td>\n      <td>False</td>\n      <td>False</td>\n      <td>False</td>\n      <td>False</td>\n      <td>False</td>\n      <td>False</td>\n      <td>False</td>\n      <td>False</td>\n      <td>False</td>\n      <td>False</td>\n    </tr>\n    <tr>\n      <th>33956</th>\n      <td>103647</td>\n      <td>False</td>\n      <td>False</td>\n      <td>False</td>\n      <td>False</td>\n      <td>False</td>\n      <td>False</td>\n      <td>False</td>\n      <td>False</td>\n      <td>False</td>\n      <td>...</td>\n      <td>False</td>\n      <td>False</td>\n      <td>False</td>\n      <td>False</td>\n      <td>False</td>\n      <td>False</td>\n      <td>False</td>\n      <td>False</td>\n      <td>False</td>\n      <td>False</td>\n    </tr>\n    <tr>\n      <th>33957</th>\n      <td>103658</td>\n      <td>False</td>\n      <td>False</td>\n      <td>False</td>\n      <td>False</td>\n      <td>False</td>\n      <td>False</td>\n      <td>False</td>\n      <td>False</td>\n      <td>False</td>\n      <td>...</td>\n      <td>False</td>\n      <td>False</td>\n      <td>False</td>\n      <td>False</td>\n      <td>False</td>\n      <td>False</td>\n      <td>False</td>\n      <td>False</td>\n      <td>False</td>\n      <td>False</td>\n    </tr>\n  </tbody>\n</table>\n<p>33958 rows × 507 columns</p>\n</div>"
     },
     "execution_count": 32,
     "metadata": {},
     "output_type": "execute_result"
    }
   ],
   "source": [
    "id_breed_one_hot = pd.concat([merged_DogOV_breeds[['dog_id']], one_hot_encoded_breed], axis=1)\n",
    "id_breed_one_hot"
   ],
   "metadata": {
    "collapsed": false
   }
  },
  {
   "cell_type": "code",
   "execution_count": 33,
   "outputs": [],
   "source": [
    "id_breed_one_hot.to_pickle('one_hot_encoded_breed_with_id.pkl')"
   ],
   "metadata": {
    "collapsed": false
   }
  },
  {
   "cell_type": "code",
   "execution_count": 34,
   "outputs": [],
   "source": [
    "id_breed_one_hot.to_csv('one_hot_encoded_breed_with_id.csv', index=False)"
   ],
   "metadata": {
    "collapsed": false
   }
  },
  {
   "cell_type": "code",
   "execution_count": null,
   "outputs": [],
   "source": [],
   "metadata": {
    "collapsed": false
   }
  },
  {
   "cell_type": "code",
   "execution_count": null,
   "outputs": [],
   "source": [],
   "metadata": {
    "collapsed": false
   }
  },
  {
   "cell_type": "code",
   "execution_count": 38,
   "outputs": [],
   "source": [],
   "metadata": {
    "collapsed": false
   }
  }
 ],
 "metadata": {
  "kernelspec": {
   "display_name": "Python 3",
   "language": "python",
   "name": "python3"
  },
  "language_info": {
   "codemirror_mode": {
    "name": "ipython",
    "version": 2
   },
   "file_extension": ".py",
   "mimetype": "text/x-python",
   "name": "python",
   "nbconvert_exporter": "python",
   "pygments_lexer": "ipython2",
   "version": "2.7.6"
  }
 },
 "nbformat": 4,
 "nbformat_minor": 0
}
