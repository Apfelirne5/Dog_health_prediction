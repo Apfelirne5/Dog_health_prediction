{
 "cells": [
  {
   "cell_type": "code",
   "execution_count": 529,
   "metadata": {
    "collapsed": true
   },
   "outputs": [
    {
     "name": "stderr",
     "output_type": "stream",
     "text": [
      "/var/folders/zd/3_6frj8s08b9zb1f3y0xqr2r0000gn/T/ipykernel_76105/1518017642.py:10: DtypeWarning: Columns (5,21,75,77,79,81,83,85,87,89,191,192,193,194,195,196,197,198,199,200,201,204,214,285,295,516,566) have mixed types. Specify dtype option on import or set low_memory=False.\n",
      "  df_HLES_do = pd.read_csv(file_path_HLES_do, delimiter=',')\n"
     ]
    }
   ],
   "source": [
    "import pandas as pd\n",
    "import numpy as np\n",
    "\n",
    "file_path_HLES_hc = '../Dataset/SurveyData/SurveyData_CSV_DAP_2021_HLES_health_conditions_v1.0.csv'\n",
    "file_path_HLES_do = '../Dataset/SurveyData/SurveyData_CSV_DAP_2021_HLES_dog_owner_v1.0.csv'\n",
    "file_path_DO = '../Dataset/DogOverview/DogOverview_CSV_DAP_2021_DogOverview_v1.0.csv'\n",
    "file_path_EOLS = '../Dataset/SurveyData/SurveyData_CSV_DAP_2021_EOLS_v1.0.csv'\n",
    "\n",
    "df_HLES_hc_uncleaned = pd.read_csv(file_path_HLES_hc, delimiter=',')\n",
    "df_HLES_do = pd.read_csv(file_path_HLES_do, delimiter=',')\n",
    "df_DO = pd.read_csv(file_path_DO, delimiter=',')\n",
    "df_ELOS = pd.read_csv(file_path_EOLS, delimiter=',')"
   ]
  },
  {
   "cell_type": "code",
   "execution_count": 530,
   "outputs": [],
   "source": [
    "df_HLES_hc = df_HLES_hc_uncleaned[df_HLES_hc_uncleaned['hs_diagnosis_month'].notna()]"
   ],
   "metadata": {
    "collapsed": false
   }
  },
  {
   "cell_type": "code",
   "execution_count": 531,
   "outputs": [
    {
     "data": {
      "text/plain": "       dog_id  hs_diagnosis_year  hs_diagnosis_month  hs_condition_type  \\\n0      100001             2021.0                 1.0                  3   \n1      100001             2021.0                 1.0                  3   \n2      100001             2021.0                 1.0                  3   \n3      100004             2018.0                 9.0                 16   \n4      100005             2021.0                 2.0                  1   \n...       ...                ...                 ...                ...   \n92995   99999             2020.0                 6.0                 13   \n92996   99999             2018.0                 6.0                 16   \n92997   99999             2015.0                10.0                 16   \n92998   82743             2013.0                 7.0                  4   \n92999   82743             2015.0                 7.0                 17   \n\n       hs_condition  \n0             304.0  \n1             305.0  \n2             306.0  \n3            1617.0  \n4             102.0  \n...             ...  \n92995        1306.0  \n92996        1627.0  \n92997        1634.0  \n92998         404.0  \n92999        1798.0  \n\n[92449 rows x 5 columns]",
      "text/html": "<div>\n<style scoped>\n    .dataframe tbody tr th:only-of-type {\n        vertical-align: middle;\n    }\n\n    .dataframe tbody tr th {\n        vertical-align: top;\n    }\n\n    .dataframe thead th {\n        text-align: right;\n    }\n</style>\n<table border=\"1\" class=\"dataframe\">\n  <thead>\n    <tr style=\"text-align: right;\">\n      <th></th>\n      <th>dog_id</th>\n      <th>hs_diagnosis_year</th>\n      <th>hs_diagnosis_month</th>\n      <th>hs_condition_type</th>\n      <th>hs_condition</th>\n    </tr>\n  </thead>\n  <tbody>\n    <tr>\n      <th>0</th>\n      <td>100001</td>\n      <td>2021.0</td>\n      <td>1.0</td>\n      <td>3</td>\n      <td>304.0</td>\n    </tr>\n    <tr>\n      <th>1</th>\n      <td>100001</td>\n      <td>2021.0</td>\n      <td>1.0</td>\n      <td>3</td>\n      <td>305.0</td>\n    </tr>\n    <tr>\n      <th>2</th>\n      <td>100001</td>\n      <td>2021.0</td>\n      <td>1.0</td>\n      <td>3</td>\n      <td>306.0</td>\n    </tr>\n    <tr>\n      <th>3</th>\n      <td>100004</td>\n      <td>2018.0</td>\n      <td>9.0</td>\n      <td>16</td>\n      <td>1617.0</td>\n    </tr>\n    <tr>\n      <th>4</th>\n      <td>100005</td>\n      <td>2021.0</td>\n      <td>2.0</td>\n      <td>1</td>\n      <td>102.0</td>\n    </tr>\n    <tr>\n      <th>...</th>\n      <td>...</td>\n      <td>...</td>\n      <td>...</td>\n      <td>...</td>\n      <td>...</td>\n    </tr>\n    <tr>\n      <th>92995</th>\n      <td>99999</td>\n      <td>2020.0</td>\n      <td>6.0</td>\n      <td>13</td>\n      <td>1306.0</td>\n    </tr>\n    <tr>\n      <th>92996</th>\n      <td>99999</td>\n      <td>2018.0</td>\n      <td>6.0</td>\n      <td>16</td>\n      <td>1627.0</td>\n    </tr>\n    <tr>\n      <th>92997</th>\n      <td>99999</td>\n      <td>2015.0</td>\n      <td>10.0</td>\n      <td>16</td>\n      <td>1634.0</td>\n    </tr>\n    <tr>\n      <th>92998</th>\n      <td>82743</td>\n      <td>2013.0</td>\n      <td>7.0</td>\n      <td>4</td>\n      <td>404.0</td>\n    </tr>\n    <tr>\n      <th>92999</th>\n      <td>82743</td>\n      <td>2015.0</td>\n      <td>7.0</td>\n      <td>17</td>\n      <td>1798.0</td>\n    </tr>\n  </tbody>\n</table>\n<p>92449 rows × 5 columns</p>\n</div>"
     },
     "execution_count": 531,
     "metadata": {},
     "output_type": "execute_result"
    }
   ],
   "source": [
    "df_HLES_hc[['dog_id', 'hs_diagnosis_year', 'hs_diagnosis_month', 'hs_condition_type', 'hs_condition']]"
   ],
   "metadata": {
    "collapsed": false
   }
  },
  {
   "cell_type": "code",
   "execution_count": 532,
   "outputs": [
    {
     "data": {
      "text/plain": "      st_hles_completion_date\n0                  2020-10-17\n1                  2020-10-26\n2                  2020-09-07\n3                  2020-08-21\n4                  2020-10-23\n...                       ...\n33167              2021-06-22\n33168              2020-09-15\n33169              2021-05-25\n33170              2021-06-18\n33171              2020-11-28\n\n[33172 rows x 1 columns]",
      "text/html": "<div>\n<style scoped>\n    .dataframe tbody tr th:only-of-type {\n        vertical-align: middle;\n    }\n\n    .dataframe tbody tr th {\n        vertical-align: top;\n    }\n\n    .dataframe thead th {\n        text-align: right;\n    }\n</style>\n<table border=\"1\" class=\"dataframe\">\n  <thead>\n    <tr style=\"text-align: right;\">\n      <th></th>\n      <th>st_hles_completion_date</th>\n    </tr>\n  </thead>\n  <tbody>\n    <tr>\n      <th>0</th>\n      <td>2020-10-17</td>\n    </tr>\n    <tr>\n      <th>1</th>\n      <td>2020-10-26</td>\n    </tr>\n    <tr>\n      <th>2</th>\n      <td>2020-09-07</td>\n    </tr>\n    <tr>\n      <th>3</th>\n      <td>2020-08-21</td>\n    </tr>\n    <tr>\n      <th>4</th>\n      <td>2020-10-23</td>\n    </tr>\n    <tr>\n      <th>...</th>\n      <td>...</td>\n    </tr>\n    <tr>\n      <th>33167</th>\n      <td>2021-06-22</td>\n    </tr>\n    <tr>\n      <th>33168</th>\n      <td>2020-09-15</td>\n    </tr>\n    <tr>\n      <th>33169</th>\n      <td>2021-05-25</td>\n    </tr>\n    <tr>\n      <th>33170</th>\n      <td>2021-06-18</td>\n    </tr>\n    <tr>\n      <th>33171</th>\n      <td>2020-11-28</td>\n    </tr>\n  </tbody>\n</table>\n<p>33172 rows × 1 columns</p>\n</div>"
     },
     "execution_count": 532,
     "metadata": {},
     "output_type": "execute_result"
    }
   ],
   "source": [
    "df_HLES_do[['st_hles_completion_date']]"
   ],
   "metadata": {
    "collapsed": false
   }
  },
  {
   "cell_type": "code",
   "execution_count": 533,
   "outputs": [
    {
     "data": {
      "text/plain": "      dog_id eol_death_date\n0      30845     2021-09-15\n1      26197     2021-06-14\n2      58788     2021-07-15\n3      72028     2020-12-31\n4      34475     2021-01-19\n...      ...            ...\n2565   81081     2021-08-30\n2566   88345     2021-01-20\n2567   88018     2021-07-01\n2568   17367     2021-03-19\n2569   52365     2021-03-30\n\n[2570 rows x 2 columns]",
      "text/html": "<div>\n<style scoped>\n    .dataframe tbody tr th:only-of-type {\n        vertical-align: middle;\n    }\n\n    .dataframe tbody tr th {\n        vertical-align: top;\n    }\n\n    .dataframe thead th {\n        text-align: right;\n    }\n</style>\n<table border=\"1\" class=\"dataframe\">\n  <thead>\n    <tr style=\"text-align: right;\">\n      <th></th>\n      <th>dog_id</th>\n      <th>eol_death_date</th>\n    </tr>\n  </thead>\n  <tbody>\n    <tr>\n      <th>0</th>\n      <td>30845</td>\n      <td>2021-09-15</td>\n    </tr>\n    <tr>\n      <th>1</th>\n      <td>26197</td>\n      <td>2021-06-14</td>\n    </tr>\n    <tr>\n      <th>2</th>\n      <td>58788</td>\n      <td>2021-07-15</td>\n    </tr>\n    <tr>\n      <th>3</th>\n      <td>72028</td>\n      <td>2020-12-31</td>\n    </tr>\n    <tr>\n      <th>4</th>\n      <td>34475</td>\n      <td>2021-01-19</td>\n    </tr>\n    <tr>\n      <th>...</th>\n      <td>...</td>\n      <td>...</td>\n    </tr>\n    <tr>\n      <th>2565</th>\n      <td>81081</td>\n      <td>2021-08-30</td>\n    </tr>\n    <tr>\n      <th>2566</th>\n      <td>88345</td>\n      <td>2021-01-20</td>\n    </tr>\n    <tr>\n      <th>2567</th>\n      <td>88018</td>\n      <td>2021-07-01</td>\n    </tr>\n    <tr>\n      <th>2568</th>\n      <td>17367</td>\n      <td>2021-03-19</td>\n    </tr>\n    <tr>\n      <th>2569</th>\n      <td>52365</td>\n      <td>2021-03-30</td>\n    </tr>\n  </tbody>\n</table>\n<p>2570 rows × 2 columns</p>\n</div>"
     },
     "execution_count": 533,
     "metadata": {},
     "output_type": "execute_result"
    }
   ],
   "source": [
    "df_ELOS[['dog_id', 'eol_death_date']]"
   ],
   "metadata": {
    "collapsed": false
   }
  },
  {
   "cell_type": "code",
   "execution_count": 534,
   "outputs": [
    {
     "data": {
      "text/plain": "dog_id                                       int64\neol_willing_to_complete                       bool\neol_exact_death_date_known                    bool\neol_death_date                              object\neol_cause_of_death_primary                   int64\n                                            ...   \neol_illness_other_diagnosis                 object\neol_illness_other_diagnosis_description     object\neol_illness_awareness_timeframe            float64\neol_illness_treatment                      float64\neol_illness_treatment_other_description     object\nLength: 227, dtype: object"
     },
     "execution_count": 534,
     "metadata": {},
     "output_type": "execute_result"
    }
   ],
   "source": [
    "df_ELOS.dtypes"
   ],
   "metadata": {
    "collapsed": false
   }
  },
  {
   "cell_type": "code",
   "execution_count": 535,
   "outputs": [
    {
     "data": {
      "text/plain": "       dog_id         DOD\n10         32  2021-07-22\n13         42  2021-04-16\n34        105  2020-12-04\n72        232  2021-06-25\n87        267  2021-01-08\n...       ...         ...\n32628  101854  2021-12-02\n32657  101960  2021-11-24\n32695  102075  2021-12-04\n32811  102359  2021-12-04\n33088  103337  2021-12-30\n\n[2570 rows x 2 columns]",
      "text/html": "<div>\n<style scoped>\n    .dataframe tbody tr th:only-of-type {\n        vertical-align: middle;\n    }\n\n    .dataframe tbody tr th {\n        vertical-align: top;\n    }\n\n    .dataframe thead th {\n        text-align: right;\n    }\n</style>\n<table border=\"1\" class=\"dataframe\">\n  <thead>\n    <tr style=\"text-align: right;\">\n      <th></th>\n      <th>dog_id</th>\n      <th>DOD</th>\n    </tr>\n  </thead>\n  <tbody>\n    <tr>\n      <th>10</th>\n      <td>32</td>\n      <td>2021-07-22</td>\n    </tr>\n    <tr>\n      <th>13</th>\n      <td>42</td>\n      <td>2021-04-16</td>\n    </tr>\n    <tr>\n      <th>34</th>\n      <td>105</td>\n      <td>2020-12-04</td>\n    </tr>\n    <tr>\n      <th>72</th>\n      <td>232</td>\n      <td>2021-06-25</td>\n    </tr>\n    <tr>\n      <th>87</th>\n      <td>267</td>\n      <td>2021-01-08</td>\n    </tr>\n    <tr>\n      <th>...</th>\n      <td>...</td>\n      <td>...</td>\n    </tr>\n    <tr>\n      <th>32628</th>\n      <td>101854</td>\n      <td>2021-12-02</td>\n    </tr>\n    <tr>\n      <th>32657</th>\n      <td>101960</td>\n      <td>2021-11-24</td>\n    </tr>\n    <tr>\n      <th>32695</th>\n      <td>102075</td>\n      <td>2021-12-04</td>\n    </tr>\n    <tr>\n      <th>32811</th>\n      <td>102359</td>\n      <td>2021-12-04</td>\n    </tr>\n    <tr>\n      <th>33088</th>\n      <td>103337</td>\n      <td>2021-12-30</td>\n    </tr>\n  </tbody>\n</table>\n<p>2570 rows × 2 columns</p>\n</div>"
     },
     "execution_count": 535,
     "metadata": {},
     "output_type": "execute_result"
    }
   ],
   "source": [
    "df_DO[['dog_id', 'DOD']][df_DO['DOD'].notna()]"
   ],
   "metadata": {
    "collapsed": false
   }
  },
  {
   "cell_type": "code",
   "execution_count": 536,
   "outputs": [
    {
     "data": {
      "text/plain": "       dog_id eol_death_date st_hles_completion_date\n33      30845     2021-09-15              2020-10-22\n43      26197     2021-06-14              2020-09-19\n51      58788     2021-07-15              2020-09-02\n68      72028     2020-12-31              2020-11-03\n85      34475     2021-01-19              2020-10-23\n...       ...            ...                     ...\n33130   81081     2021-08-30              2021-02-03\n33136   88345     2021-01-20              2020-11-30\n33151   88018     2021-07-01              2020-11-09\n33153   17367     2021-03-19              2020-11-04\n33162   52365     2021-03-30              2020-10-28\n\n[2570 rows x 3 columns]",
      "text/html": "<div>\n<style scoped>\n    .dataframe tbody tr th:only-of-type {\n        vertical-align: middle;\n    }\n\n    .dataframe tbody tr th {\n        vertical-align: top;\n    }\n\n    .dataframe thead th {\n        text-align: right;\n    }\n</style>\n<table border=\"1\" class=\"dataframe\">\n  <thead>\n    <tr style=\"text-align: right;\">\n      <th></th>\n      <th>dog_id</th>\n      <th>eol_death_date</th>\n      <th>st_hles_completion_date</th>\n    </tr>\n  </thead>\n  <tbody>\n    <tr>\n      <th>33</th>\n      <td>30845</td>\n      <td>2021-09-15</td>\n      <td>2020-10-22</td>\n    </tr>\n    <tr>\n      <th>43</th>\n      <td>26197</td>\n      <td>2021-06-14</td>\n      <td>2020-09-19</td>\n    </tr>\n    <tr>\n      <th>51</th>\n      <td>58788</td>\n      <td>2021-07-15</td>\n      <td>2020-09-02</td>\n    </tr>\n    <tr>\n      <th>68</th>\n      <td>72028</td>\n      <td>2020-12-31</td>\n      <td>2020-11-03</td>\n    </tr>\n    <tr>\n      <th>85</th>\n      <td>34475</td>\n      <td>2021-01-19</td>\n      <td>2020-10-23</td>\n    </tr>\n    <tr>\n      <th>...</th>\n      <td>...</td>\n      <td>...</td>\n      <td>...</td>\n    </tr>\n    <tr>\n      <th>33130</th>\n      <td>81081</td>\n      <td>2021-08-30</td>\n      <td>2021-02-03</td>\n    </tr>\n    <tr>\n      <th>33136</th>\n      <td>88345</td>\n      <td>2021-01-20</td>\n      <td>2020-11-30</td>\n    </tr>\n    <tr>\n      <th>33151</th>\n      <td>88018</td>\n      <td>2021-07-01</td>\n      <td>2020-11-09</td>\n    </tr>\n    <tr>\n      <th>33153</th>\n      <td>17367</td>\n      <td>2021-03-19</td>\n      <td>2020-11-04</td>\n    </tr>\n    <tr>\n      <th>33162</th>\n      <td>52365</td>\n      <td>2021-03-30</td>\n      <td>2020-10-28</td>\n    </tr>\n  </tbody>\n</table>\n<p>2570 rows × 3 columns</p>\n</div>"
     },
     "execution_count": 536,
     "metadata": {},
     "output_type": "execute_result"
    }
   ],
   "source": [
    "df_HLES_do_eol = df_HLES_do.merge(df_ELOS[['dog_id', 'eol_death_date']], on='dog_id', how='left')\n",
    "df_HLES_do_eol[['dog_id', 'eol_death_date', 'st_hles_completion_date']][df_HLES_do_eol['eol_death_date'].notna()]"
   ],
   "metadata": {
    "collapsed": false
   }
  },
  {
   "cell_type": "code",
   "execution_count": 537,
   "outputs": [],
   "source": [
    "#df_HLES_do_eol[['dog_id', 'eol_death_date', 'st_hles_completion_date']]\n",
    "df_HLES_do_eol['end_of_diagnosis_date'] = df_HLES_do_eol['st_hles_completion_date']"
   ],
   "metadata": {
    "collapsed": false
   }
  },
  {
   "cell_type": "code",
   "execution_count": 538,
   "outputs": [
    {
     "data": {
      "text/plain": "Series([], Name: st_hles_completion_date, dtype: object)"
     },
     "execution_count": 538,
     "metadata": {},
     "output_type": "execute_result"
    }
   ],
   "source": [
    "df_HLES_do_eol['st_hles_completion_date'][df_HLES_do_eol['st_hles_completion_date'].isna()]"
   ],
   "metadata": {
    "collapsed": false
   }
  },
  {
   "cell_type": "code",
   "execution_count": 539,
   "outputs": [],
   "source": [
    "df_HLES_do_eol.loc[df_HLES_do_eol['eol_death_date'] < df_HLES_do_eol['st_hles_completion_date'], 'end_of_diagnosis_date'] = df_HLES_do_eol['eol_death_date']"
   ],
   "metadata": {
    "collapsed": false
   }
  },
  {
   "cell_type": "code",
   "execution_count": 540,
   "outputs": [
    {
     "data": {
      "text/plain": "       dog_id end_of_diagnosis_date eol_death_date st_hles_completion_date\n460     63657            2020-06-22     2020-06-22              2020-08-25\n773     67635            2020-05-23     2020-05-23              2020-08-06\n1942    43224            2020-02-18     2020-02-18              2020-10-28\n3658    72133            2020-01-01     2020-01-01              2020-10-20\n4091    26709            2020-05-03     2020-05-03              2020-11-05\n5464    57044            2020-03-20     2020-03-20              2020-08-17\n5934    43609            2020-04-08     2020-04-08              2020-07-31\n6050     7490            2019-05-17     2019-05-17              2020-01-07\n6326    34086            2020-05-17     2020-05-17              2020-11-29\n6483    26623            2020-08-25     2020-08-25              2020-11-30\n6867    43441            2020-10-12     2020-10-12              2020-10-13\n6947    12987            2020-06-13     2020-06-13              2020-07-25\n7011     2229            2020-08-12     2020-08-12              2020-09-23\n7683    70354            2020-03-15     2020-03-15              2020-09-15\n8481    23616            2020-05-15     2020-05-15              2020-09-27\n8938    71226            2020-07-08     2020-07-08              2020-11-03\n9099    62119            2020-02-12     2020-02-12              2020-08-04\n10522   44410            2020-09-01     2020-09-01              2020-09-24\n10542   42856            2011-11-11     2011-11-11              2020-07-24\n12040   16197            2020-05-31     2020-05-31              2020-10-24\n12105   67280            2020-08-11     2020-08-11              2020-12-07\n13992   76452            2020-07-14     2020-07-14              2020-08-07\n14241   64080            2020-07-12     2020-07-12              2020-07-28\n14716   31442            2019-12-06     2019-12-06              2020-07-24\n15664   61005            2020-09-13     2020-09-13              2020-10-13\n15912   91430            2020-02-20     2020-02-20              2020-12-05\n16352   21397            2020-06-15     2020-06-15              2020-09-17\n16664   43401            2020-05-05     2020-05-05              2020-12-02\n17097   33733            2020-03-29     2020-03-29              2020-08-31\n17151    9798            2020-08-27     2020-08-27              2020-08-31\n17244   28741            2020-08-12     2020-08-12              2020-08-21\n17896   35623            2020-04-15     2020-04-15              2020-08-24\n19226   30928            2020-03-24     2020-03-24              2020-08-05\n21034   39648            2020-08-22     2020-08-22              2020-09-24\n21618   10094            2020-07-02     2020-07-02              2020-08-30\n21972   53965            2020-09-30     2020-09-30              2020-10-04\n22111   50242            2020-11-25     2020-11-25              2020-11-30\n22155   27020            2020-11-18     2020-11-18              2020-11-29\n22584   30247            2019-12-14     2019-12-14              2020-09-25\n22774   90060            2020-11-01     2020-11-01              2020-11-11\n22785   56919            2020-09-16     2020-09-16              2020-10-19\n22799   75249            2020-06-26     2020-06-26              2020-09-25\n22988   60430            2010-08-15     2010-08-15              2020-08-18\n23353    5850            2020-01-30     2020-01-30              2020-08-26\n23364   19554            2020-09-15     2020-09-15              2020-09-23\n23875   84382            2020-07-07     2020-07-07              2020-11-25\n24903    2457            2020-11-09     2020-11-09              2020-11-18\n25298   60101            2021-06-16     2021-06-16              2021-06-25\n25477   15423            2020-01-07     2020-01-07              2020-08-29\n26057   13621            2020-01-05     2020-01-05              2020-10-14\n26534   70185            2020-07-15     2020-07-15              2020-12-10\n27483   81967            2020-12-24     2020-12-24              2020-12-27\n27990   60479            2020-04-26     2020-04-26              2020-11-13\n28925   94735            2021-03-30     2021-03-30              2021-04-21\n29846    2680            2020-08-28     2020-08-28              2020-09-08\n30444    7059            2020-10-01     2020-10-01              2020-10-22\n31368   51869            2020-06-23     2020-06-23              2020-09-23\n31507   32709            2020-03-08     2020-03-08              2020-11-25\n31581   34706            2020-09-01     2020-09-01              2020-11-22\n32670   62984            2020-01-23     2020-01-23              2020-10-03",
      "text/html": "<div>\n<style scoped>\n    .dataframe tbody tr th:only-of-type {\n        vertical-align: middle;\n    }\n\n    .dataframe tbody tr th {\n        vertical-align: top;\n    }\n\n    .dataframe thead th {\n        text-align: right;\n    }\n</style>\n<table border=\"1\" class=\"dataframe\">\n  <thead>\n    <tr style=\"text-align: right;\">\n      <th></th>\n      <th>dog_id</th>\n      <th>end_of_diagnosis_date</th>\n      <th>eol_death_date</th>\n      <th>st_hles_completion_date</th>\n    </tr>\n  </thead>\n  <tbody>\n    <tr>\n      <th>460</th>\n      <td>63657</td>\n      <td>2020-06-22</td>\n      <td>2020-06-22</td>\n      <td>2020-08-25</td>\n    </tr>\n    <tr>\n      <th>773</th>\n      <td>67635</td>\n      <td>2020-05-23</td>\n      <td>2020-05-23</td>\n      <td>2020-08-06</td>\n    </tr>\n    <tr>\n      <th>1942</th>\n      <td>43224</td>\n      <td>2020-02-18</td>\n      <td>2020-02-18</td>\n      <td>2020-10-28</td>\n    </tr>\n    <tr>\n      <th>3658</th>\n      <td>72133</td>\n      <td>2020-01-01</td>\n      <td>2020-01-01</td>\n      <td>2020-10-20</td>\n    </tr>\n    <tr>\n      <th>4091</th>\n      <td>26709</td>\n      <td>2020-05-03</td>\n      <td>2020-05-03</td>\n      <td>2020-11-05</td>\n    </tr>\n    <tr>\n      <th>5464</th>\n      <td>57044</td>\n      <td>2020-03-20</td>\n      <td>2020-03-20</td>\n      <td>2020-08-17</td>\n    </tr>\n    <tr>\n      <th>5934</th>\n      <td>43609</td>\n      <td>2020-04-08</td>\n      <td>2020-04-08</td>\n      <td>2020-07-31</td>\n    </tr>\n    <tr>\n      <th>6050</th>\n      <td>7490</td>\n      <td>2019-05-17</td>\n      <td>2019-05-17</td>\n      <td>2020-01-07</td>\n    </tr>\n    <tr>\n      <th>6326</th>\n      <td>34086</td>\n      <td>2020-05-17</td>\n      <td>2020-05-17</td>\n      <td>2020-11-29</td>\n    </tr>\n    <tr>\n      <th>6483</th>\n      <td>26623</td>\n      <td>2020-08-25</td>\n      <td>2020-08-25</td>\n      <td>2020-11-30</td>\n    </tr>\n    <tr>\n      <th>6867</th>\n      <td>43441</td>\n      <td>2020-10-12</td>\n      <td>2020-10-12</td>\n      <td>2020-10-13</td>\n    </tr>\n    <tr>\n      <th>6947</th>\n      <td>12987</td>\n      <td>2020-06-13</td>\n      <td>2020-06-13</td>\n      <td>2020-07-25</td>\n    </tr>\n    <tr>\n      <th>7011</th>\n      <td>2229</td>\n      <td>2020-08-12</td>\n      <td>2020-08-12</td>\n      <td>2020-09-23</td>\n    </tr>\n    <tr>\n      <th>7683</th>\n      <td>70354</td>\n      <td>2020-03-15</td>\n      <td>2020-03-15</td>\n      <td>2020-09-15</td>\n    </tr>\n    <tr>\n      <th>8481</th>\n      <td>23616</td>\n      <td>2020-05-15</td>\n      <td>2020-05-15</td>\n      <td>2020-09-27</td>\n    </tr>\n    <tr>\n      <th>8938</th>\n      <td>71226</td>\n      <td>2020-07-08</td>\n      <td>2020-07-08</td>\n      <td>2020-11-03</td>\n    </tr>\n    <tr>\n      <th>9099</th>\n      <td>62119</td>\n      <td>2020-02-12</td>\n      <td>2020-02-12</td>\n      <td>2020-08-04</td>\n    </tr>\n    <tr>\n      <th>10522</th>\n      <td>44410</td>\n      <td>2020-09-01</td>\n      <td>2020-09-01</td>\n      <td>2020-09-24</td>\n    </tr>\n    <tr>\n      <th>10542</th>\n      <td>42856</td>\n      <td>2011-11-11</td>\n      <td>2011-11-11</td>\n      <td>2020-07-24</td>\n    </tr>\n    <tr>\n      <th>12040</th>\n      <td>16197</td>\n      <td>2020-05-31</td>\n      <td>2020-05-31</td>\n      <td>2020-10-24</td>\n    </tr>\n    <tr>\n      <th>12105</th>\n      <td>67280</td>\n      <td>2020-08-11</td>\n      <td>2020-08-11</td>\n      <td>2020-12-07</td>\n    </tr>\n    <tr>\n      <th>13992</th>\n      <td>76452</td>\n      <td>2020-07-14</td>\n      <td>2020-07-14</td>\n      <td>2020-08-07</td>\n    </tr>\n    <tr>\n      <th>14241</th>\n      <td>64080</td>\n      <td>2020-07-12</td>\n      <td>2020-07-12</td>\n      <td>2020-07-28</td>\n    </tr>\n    <tr>\n      <th>14716</th>\n      <td>31442</td>\n      <td>2019-12-06</td>\n      <td>2019-12-06</td>\n      <td>2020-07-24</td>\n    </tr>\n    <tr>\n      <th>15664</th>\n      <td>61005</td>\n      <td>2020-09-13</td>\n      <td>2020-09-13</td>\n      <td>2020-10-13</td>\n    </tr>\n    <tr>\n      <th>15912</th>\n      <td>91430</td>\n      <td>2020-02-20</td>\n      <td>2020-02-20</td>\n      <td>2020-12-05</td>\n    </tr>\n    <tr>\n      <th>16352</th>\n      <td>21397</td>\n      <td>2020-06-15</td>\n      <td>2020-06-15</td>\n      <td>2020-09-17</td>\n    </tr>\n    <tr>\n      <th>16664</th>\n      <td>43401</td>\n      <td>2020-05-05</td>\n      <td>2020-05-05</td>\n      <td>2020-12-02</td>\n    </tr>\n    <tr>\n      <th>17097</th>\n      <td>33733</td>\n      <td>2020-03-29</td>\n      <td>2020-03-29</td>\n      <td>2020-08-31</td>\n    </tr>\n    <tr>\n      <th>17151</th>\n      <td>9798</td>\n      <td>2020-08-27</td>\n      <td>2020-08-27</td>\n      <td>2020-08-31</td>\n    </tr>\n    <tr>\n      <th>17244</th>\n      <td>28741</td>\n      <td>2020-08-12</td>\n      <td>2020-08-12</td>\n      <td>2020-08-21</td>\n    </tr>\n    <tr>\n      <th>17896</th>\n      <td>35623</td>\n      <td>2020-04-15</td>\n      <td>2020-04-15</td>\n      <td>2020-08-24</td>\n    </tr>\n    <tr>\n      <th>19226</th>\n      <td>30928</td>\n      <td>2020-03-24</td>\n      <td>2020-03-24</td>\n      <td>2020-08-05</td>\n    </tr>\n    <tr>\n      <th>21034</th>\n      <td>39648</td>\n      <td>2020-08-22</td>\n      <td>2020-08-22</td>\n      <td>2020-09-24</td>\n    </tr>\n    <tr>\n      <th>21618</th>\n      <td>10094</td>\n      <td>2020-07-02</td>\n      <td>2020-07-02</td>\n      <td>2020-08-30</td>\n    </tr>\n    <tr>\n      <th>21972</th>\n      <td>53965</td>\n      <td>2020-09-30</td>\n      <td>2020-09-30</td>\n      <td>2020-10-04</td>\n    </tr>\n    <tr>\n      <th>22111</th>\n      <td>50242</td>\n      <td>2020-11-25</td>\n      <td>2020-11-25</td>\n      <td>2020-11-30</td>\n    </tr>\n    <tr>\n      <th>22155</th>\n      <td>27020</td>\n      <td>2020-11-18</td>\n      <td>2020-11-18</td>\n      <td>2020-11-29</td>\n    </tr>\n    <tr>\n      <th>22584</th>\n      <td>30247</td>\n      <td>2019-12-14</td>\n      <td>2019-12-14</td>\n      <td>2020-09-25</td>\n    </tr>\n    <tr>\n      <th>22774</th>\n      <td>90060</td>\n      <td>2020-11-01</td>\n      <td>2020-11-01</td>\n      <td>2020-11-11</td>\n    </tr>\n    <tr>\n      <th>22785</th>\n      <td>56919</td>\n      <td>2020-09-16</td>\n      <td>2020-09-16</td>\n      <td>2020-10-19</td>\n    </tr>\n    <tr>\n      <th>22799</th>\n      <td>75249</td>\n      <td>2020-06-26</td>\n      <td>2020-06-26</td>\n      <td>2020-09-25</td>\n    </tr>\n    <tr>\n      <th>22988</th>\n      <td>60430</td>\n      <td>2010-08-15</td>\n      <td>2010-08-15</td>\n      <td>2020-08-18</td>\n    </tr>\n    <tr>\n      <th>23353</th>\n      <td>5850</td>\n      <td>2020-01-30</td>\n      <td>2020-01-30</td>\n      <td>2020-08-26</td>\n    </tr>\n    <tr>\n      <th>23364</th>\n      <td>19554</td>\n      <td>2020-09-15</td>\n      <td>2020-09-15</td>\n      <td>2020-09-23</td>\n    </tr>\n    <tr>\n      <th>23875</th>\n      <td>84382</td>\n      <td>2020-07-07</td>\n      <td>2020-07-07</td>\n      <td>2020-11-25</td>\n    </tr>\n    <tr>\n      <th>24903</th>\n      <td>2457</td>\n      <td>2020-11-09</td>\n      <td>2020-11-09</td>\n      <td>2020-11-18</td>\n    </tr>\n    <tr>\n      <th>25298</th>\n      <td>60101</td>\n      <td>2021-06-16</td>\n      <td>2021-06-16</td>\n      <td>2021-06-25</td>\n    </tr>\n    <tr>\n      <th>25477</th>\n      <td>15423</td>\n      <td>2020-01-07</td>\n      <td>2020-01-07</td>\n      <td>2020-08-29</td>\n    </tr>\n    <tr>\n      <th>26057</th>\n      <td>13621</td>\n      <td>2020-01-05</td>\n      <td>2020-01-05</td>\n      <td>2020-10-14</td>\n    </tr>\n    <tr>\n      <th>26534</th>\n      <td>70185</td>\n      <td>2020-07-15</td>\n      <td>2020-07-15</td>\n      <td>2020-12-10</td>\n    </tr>\n    <tr>\n      <th>27483</th>\n      <td>81967</td>\n      <td>2020-12-24</td>\n      <td>2020-12-24</td>\n      <td>2020-12-27</td>\n    </tr>\n    <tr>\n      <th>27990</th>\n      <td>60479</td>\n      <td>2020-04-26</td>\n      <td>2020-04-26</td>\n      <td>2020-11-13</td>\n    </tr>\n    <tr>\n      <th>28925</th>\n      <td>94735</td>\n      <td>2021-03-30</td>\n      <td>2021-03-30</td>\n      <td>2021-04-21</td>\n    </tr>\n    <tr>\n      <th>29846</th>\n      <td>2680</td>\n      <td>2020-08-28</td>\n      <td>2020-08-28</td>\n      <td>2020-09-08</td>\n    </tr>\n    <tr>\n      <th>30444</th>\n      <td>7059</td>\n      <td>2020-10-01</td>\n      <td>2020-10-01</td>\n      <td>2020-10-22</td>\n    </tr>\n    <tr>\n      <th>31368</th>\n      <td>51869</td>\n      <td>2020-06-23</td>\n      <td>2020-06-23</td>\n      <td>2020-09-23</td>\n    </tr>\n    <tr>\n      <th>31507</th>\n      <td>32709</td>\n      <td>2020-03-08</td>\n      <td>2020-03-08</td>\n      <td>2020-11-25</td>\n    </tr>\n    <tr>\n      <th>31581</th>\n      <td>34706</td>\n      <td>2020-09-01</td>\n      <td>2020-09-01</td>\n      <td>2020-11-22</td>\n    </tr>\n    <tr>\n      <th>32670</th>\n      <td>62984</td>\n      <td>2020-01-23</td>\n      <td>2020-01-23</td>\n      <td>2020-10-03</td>\n    </tr>\n  </tbody>\n</table>\n</div>"
     },
     "execution_count": 540,
     "metadata": {},
     "output_type": "execute_result"
    }
   ],
   "source": [
    "df_HLES_do_eol[['dog_id', 'end_of_diagnosis_date', 'eol_death_date', 'st_hles_completion_date']][df_HLES_do_eol['eol_death_date'].notna() & (df_HLES_do_eol['eol_death_date'] < df_HLES_do_eol['st_hles_completion_date'])]"
   ],
   "metadata": {
    "collapsed": false
   }
  },
  {
   "cell_type": "code",
   "execution_count": 541,
   "outputs": [
    {
     "data": {
      "text/plain": "Series([], Name: end_of_diagnosis_date, dtype: object)"
     },
     "execution_count": 541,
     "metadata": {},
     "output_type": "execute_result"
    }
   ],
   "source": [
    "df_HLES_do_eol['end_of_diagnosis_date'][~df_HLES_do_eol['end_of_diagnosis_date'].notna()]"
   ],
   "metadata": {
    "collapsed": false
   }
  },
  {
   "cell_type": "code",
   "execution_count": 562,
   "outputs": [],
   "source": [
    "year_mapping = {\n",
    "    1.0: 2001,\n",
    "    2.0: 2002,\n",
    "    3.0: 2003,\n",
    "    4.0: 2004,\n",
    "    5.0: 2005,\n",
    "    6.0: 2006,\n",
    "    7.0: 2007,\n",
    "    8.0: 2008,\n",
    "    9.0: 2009,\n",
    "    10.0: 2010,\n",
    "    11.0: 2011,\n",
    "    12.0: 2012,\n",
    "    13.0: 2013,\n",
    "    14.0: 2014,\n",
    "    15.0: 2015,\n",
    "    16.0: 2016,\n",
    "    17.0: 2017,\n",
    "    18.0: 2018,\n",
    "    19.0: 2019,\n",
    "    20.0: 2020,\n",
    "    21.0: 2021,\n",
    "\n",
    "    ## other\n",
    "    1.989: 1989,\n",
    "    1.99: 1990,\n",
    "    1.990e+03: 1990,\n",
    "    1.991: 1991,\n",
    "    2.002000: 2002,\n",
    "    2.0032: 2003,\n",
    "    2.008300e+04: 2008,\n",
    "    200909: 2009,\n",
    "    2.200990: 2009,\n",
    "    2.010201: 2010,\n",
    "    1.620152: 2015,\n",
    "    2.0111: 2011,\n",
    "    2.011111: 2011,\n",
    "    1.62015: 2015,\n",
    "    1.520150: 2015,\n",
    "    2.015150e+05: 2015,\n",
    "    2.016202e+07: 2016,\n",
    "    2.016202: 2016,\n",
    "    2.2016: 2016,\n",
    "    6.201600: 2016,\n",
    "    6.201600e+04: 2016,\n",
    "    2.016160: 2016,\n",
    "    1.620162: 2016,\n",
    "    2.017202: 2017,\n",
    "    2.017700: 2017,\n",
    "    20188: 2018,\n",
    "    2.018300e+04: 2018,\n",
    "    2.018400e+04: 2018,\n",
    "    1.1919: 2019,\n",
    "    2819: 2019,\n",
    "    201919: 2019,\n",
    "    2.020190e+05: 2019,\n",
    "    2.020182: 2020,\n",
    "    2.020202: 2020,\n",
    "    2.202000: 2020,\n",
    "    2.2020: 2020,\n",
    "    2820: 2020,\n",
    "    2028: 2020,\n",
    "    2.020002: 2020,\n",
    "    202020.0: 2020,\n",
    "    20202020: 2020,\n",
    "    2.020020: 2020,\n",
    "    2.020190: 2020,\n",
    "    2.020203: 2020,\n",
    "    2.020220: 2020,\n",
    "    1.420212: 2021,\n",
    "    1.202016e+06: 2016,\n",
    "    2.003200e+09: 2003,\n",
    "    2.002000e+04: 2002,\n",
    "    2.017700e+04: 2017,\n",
    "    2.020203e+11: 2020,\n",
    "    2.016160e+05: 2016,\n",
    "    2.005050e+05: 2005,\n",
    "    8.202000e+04: 2020,\n",
    "    2.201702e+07: 2017,\n",
    "    2.019019e+10: 2019,\n",
    "    1.990000e+02: 1990,\n",
    "    2.011100e+04: 2011,\n",
    "    8.201800e+04: 2018,\n",
    "    2.010000e+02: 2010,\n",
    "    2.014014e+06: 2014,\n",
    "    2.010800e+04: 2010,\n",
    "    1.020100e+05: 2010,\n",
    "    1.620152e+07: 2015,\n",
    "    2.200990e+09: 2009,\n",
    "    2.017202e+12: 2017,\n",
    "    1.520150e+05: 2015,\n",
    "}"
   ],
   "metadata": {
    "collapsed": false
   }
  },
  {
   "cell_type": "code",
   "execution_count": 563,
   "outputs": [
    {
     "name": "stderr",
     "output_type": "stream",
     "text": [
      "/var/folders/zd/3_6frj8s08b9zb1f3y0xqr2r0000gn/T/ipykernel_76105/3683109219.py:2: SettingWithCopyWarning: \n",
      "A value is trying to be set on a copy of a slice from a DataFrame.\n",
      "Try using .loc[row_indexer,col_indexer] = value instead\n",
      "\n",
      "See the caveats in the documentation: https://pandas.pydata.org/pandas-docs/stable/user_guide/indexing.html#returning-a-view-versus-a-copy\n",
      "  df_HLES_hc['hs_diagnosis_year'] = df_HLES_hc['hs_diagnosis_year'].apply(lambda x: year_mapping[x] if x in year_mapping else x)\n"
     ]
    },
    {
     "data": {
      "text/plain": "       dog_id  hs_condition_type  hs_condition hs_condition_other_description  \\\n0      100001                  3         304.0                            NaN   \n1      100001                  3         305.0                            NaN   \n2      100001                  3         306.0                            NaN   \n3      100004                 16        1617.0                            NaN   \n4      100005                  1         102.0                            NaN   \n...       ...                ...           ...                            ...   \n92995   99999                 13        1306.0                            NaN   \n92996   99999                 16        1627.0                            NaN   \n92997   99999                 16        1634.0                            NaN   \n92998   82743                  4         404.0                            NaN   \n92999   82743                 17        1798.0                        Unknown   \n\n       hs_condition_is_congenital  hs_eye_condition_cause  \\\n0                           False                     NaN   \n1                           False                     NaN   \n2                           False                     NaN   \n3                           False                     NaN   \n4                           False                     NaN   \n...                           ...                     ...   \n92995                       False                     NaN   \n92996                       False                     NaN   \n92997                       False                     NaN   \n92998                       False                     NaN   \n92999                       False                     NaN   \n\n      hs_condition_cause_other_description  \\\n0                                      NaN   \n1                                      NaN   \n2                                      NaN   \n3                                      NaN   \n4                                      NaN   \n...                                    ...   \n92995                                  NaN   \n92996                                  NaN   \n92997                                  NaN   \n92998                                  NaN   \n92999                                  NaN   \n\n       hs_neurological_condition_vestibular_disease_type  hs_diagnosis_year  \\\n0                                                    NaN             2021.0   \n1                                                    NaN             2021.0   \n2                                                    NaN             2021.0   \n3                                                    NaN             2018.0   \n4                                                    NaN             2021.0   \n...                                                  ...                ...   \n92995                                                NaN             2020.0   \n92996                                                NaN             2018.0   \n92997                                                NaN             2015.0   \n92998                                                NaN             2013.0   \n92999                                                NaN             2015.0   \n\n       hs_diagnosis_month  hs_required_surgery_or_hospitalization  \\\n0                     1.0                                     1.0   \n1                     1.0                                     1.0   \n2                     1.0                                     1.0   \n3                     9.0                                     4.0   \n4                     2.0                                     4.0   \n...                   ...                                     ...   \n92995                 6.0                                     4.0   \n92996                 6.0                                     4.0   \n92997                10.0                                     4.0   \n92998                 7.0                                     4.0   \n92999                 7.0                                     4.0   \n\n      hs_follow_up_ongoing  hs_diagnosis_year_alt  hs_diagnosis_month_alt  \\\n0                    False                   2021                       1   \n1                     True                   2021                       1   \n2                     True                   2021                       1   \n3                    False                   2018                       9   \n4                    False                   2021                       2   \n...                    ...                    ...                     ...   \n92995                 True                   2020                       6   \n92996                False                   2018                       6   \n92997                 True                   2015                      10   \n92998                False                   2013                       7   \n92999                False                   2015                       7   \n\n      Diagnosis_Date  \n0         2021-01-15  \n1         2021-01-15  \n2         2021-01-15  \n3         2018-09-15  \n4         2021-02-15  \n...              ...  \n92995     2020-06-15  \n92996     2018-06-15  \n92997     2015-10-15  \n92998     2013-07-15  \n92999     2015-07-15  \n\n[92449 rows x 15 columns]",
      "text/html": "<div>\n<style scoped>\n    .dataframe tbody tr th:only-of-type {\n        vertical-align: middle;\n    }\n\n    .dataframe tbody tr th {\n        vertical-align: top;\n    }\n\n    .dataframe thead th {\n        text-align: right;\n    }\n</style>\n<table border=\"1\" class=\"dataframe\">\n  <thead>\n    <tr style=\"text-align: right;\">\n      <th></th>\n      <th>dog_id</th>\n      <th>hs_condition_type</th>\n      <th>hs_condition</th>\n      <th>hs_condition_other_description</th>\n      <th>hs_condition_is_congenital</th>\n      <th>hs_eye_condition_cause</th>\n      <th>hs_condition_cause_other_description</th>\n      <th>hs_neurological_condition_vestibular_disease_type</th>\n      <th>hs_diagnosis_year</th>\n      <th>hs_diagnosis_month</th>\n      <th>hs_required_surgery_or_hospitalization</th>\n      <th>hs_follow_up_ongoing</th>\n      <th>hs_diagnosis_year_alt</th>\n      <th>hs_diagnosis_month_alt</th>\n      <th>Diagnosis_Date</th>\n    </tr>\n  </thead>\n  <tbody>\n    <tr>\n      <th>0</th>\n      <td>100001</td>\n      <td>3</td>\n      <td>304.0</td>\n      <td>NaN</td>\n      <td>False</td>\n      <td>NaN</td>\n      <td>NaN</td>\n      <td>NaN</td>\n      <td>2021.0</td>\n      <td>1.0</td>\n      <td>1.0</td>\n      <td>False</td>\n      <td>2021</td>\n      <td>1</td>\n      <td>2021-01-15</td>\n    </tr>\n    <tr>\n      <th>1</th>\n      <td>100001</td>\n      <td>3</td>\n      <td>305.0</td>\n      <td>NaN</td>\n      <td>False</td>\n      <td>NaN</td>\n      <td>NaN</td>\n      <td>NaN</td>\n      <td>2021.0</td>\n      <td>1.0</td>\n      <td>1.0</td>\n      <td>True</td>\n      <td>2021</td>\n      <td>1</td>\n      <td>2021-01-15</td>\n    </tr>\n    <tr>\n      <th>2</th>\n      <td>100001</td>\n      <td>3</td>\n      <td>306.0</td>\n      <td>NaN</td>\n      <td>False</td>\n      <td>NaN</td>\n      <td>NaN</td>\n      <td>NaN</td>\n      <td>2021.0</td>\n      <td>1.0</td>\n      <td>1.0</td>\n      <td>True</td>\n      <td>2021</td>\n      <td>1</td>\n      <td>2021-01-15</td>\n    </tr>\n    <tr>\n      <th>3</th>\n      <td>100004</td>\n      <td>16</td>\n      <td>1617.0</td>\n      <td>NaN</td>\n      <td>False</td>\n      <td>NaN</td>\n      <td>NaN</td>\n      <td>NaN</td>\n      <td>2018.0</td>\n      <td>9.0</td>\n      <td>4.0</td>\n      <td>False</td>\n      <td>2018</td>\n      <td>9</td>\n      <td>2018-09-15</td>\n    </tr>\n    <tr>\n      <th>4</th>\n      <td>100005</td>\n      <td>1</td>\n      <td>102.0</td>\n      <td>NaN</td>\n      <td>False</td>\n      <td>NaN</td>\n      <td>NaN</td>\n      <td>NaN</td>\n      <td>2021.0</td>\n      <td>2.0</td>\n      <td>4.0</td>\n      <td>False</td>\n      <td>2021</td>\n      <td>2</td>\n      <td>2021-02-15</td>\n    </tr>\n    <tr>\n      <th>...</th>\n      <td>...</td>\n      <td>...</td>\n      <td>...</td>\n      <td>...</td>\n      <td>...</td>\n      <td>...</td>\n      <td>...</td>\n      <td>...</td>\n      <td>...</td>\n      <td>...</td>\n      <td>...</td>\n      <td>...</td>\n      <td>...</td>\n      <td>...</td>\n      <td>...</td>\n    </tr>\n    <tr>\n      <th>92995</th>\n      <td>99999</td>\n      <td>13</td>\n      <td>1306.0</td>\n      <td>NaN</td>\n      <td>False</td>\n      <td>NaN</td>\n      <td>NaN</td>\n      <td>NaN</td>\n      <td>2020.0</td>\n      <td>6.0</td>\n      <td>4.0</td>\n      <td>True</td>\n      <td>2020</td>\n      <td>6</td>\n      <td>2020-06-15</td>\n    </tr>\n    <tr>\n      <th>92996</th>\n      <td>99999</td>\n      <td>16</td>\n      <td>1627.0</td>\n      <td>NaN</td>\n      <td>False</td>\n      <td>NaN</td>\n      <td>NaN</td>\n      <td>NaN</td>\n      <td>2018.0</td>\n      <td>6.0</td>\n      <td>4.0</td>\n      <td>False</td>\n      <td>2018</td>\n      <td>6</td>\n      <td>2018-06-15</td>\n    </tr>\n    <tr>\n      <th>92997</th>\n      <td>99999</td>\n      <td>16</td>\n      <td>1634.0</td>\n      <td>NaN</td>\n      <td>False</td>\n      <td>NaN</td>\n      <td>NaN</td>\n      <td>NaN</td>\n      <td>2015.0</td>\n      <td>10.0</td>\n      <td>4.0</td>\n      <td>True</td>\n      <td>2015</td>\n      <td>10</td>\n      <td>2015-10-15</td>\n    </tr>\n    <tr>\n      <th>92998</th>\n      <td>82743</td>\n      <td>4</td>\n      <td>404.0</td>\n      <td>NaN</td>\n      <td>False</td>\n      <td>NaN</td>\n      <td>NaN</td>\n      <td>NaN</td>\n      <td>2013.0</td>\n      <td>7.0</td>\n      <td>4.0</td>\n      <td>False</td>\n      <td>2013</td>\n      <td>7</td>\n      <td>2013-07-15</td>\n    </tr>\n    <tr>\n      <th>92999</th>\n      <td>82743</td>\n      <td>17</td>\n      <td>1798.0</td>\n      <td>Unknown</td>\n      <td>False</td>\n      <td>NaN</td>\n      <td>NaN</td>\n      <td>NaN</td>\n      <td>2015.0</td>\n      <td>7.0</td>\n      <td>4.0</td>\n      <td>False</td>\n      <td>2015</td>\n      <td>7</td>\n      <td>2015-07-15</td>\n    </tr>\n  </tbody>\n</table>\n<p>92449 rows × 15 columns</p>\n</div>"
     },
     "execution_count": 563,
     "metadata": {},
     "output_type": "execute_result"
    }
   ],
   "source": [
    "# Apply the mapping to the dataframe\n",
    "df_HLES_hc['hs_diagnosis_year'] = df_HLES_hc['hs_diagnosis_year'].apply(lambda x: year_mapping[x] if x in year_mapping else x)\n",
    "df_HLES_hc"
   ],
   "metadata": {
    "collapsed": false
   }
  },
  {
   "cell_type": "code",
   "execution_count": 564,
   "outputs": [
    {
     "data": {
      "text/plain": "hs_diagnosis_year\n2020.0      20812\n2019.0      16362\n2018.0      12828\n2017.0       8539\n2016.0       6811\n            ...  \n20200.0         1\n1918.0          1\n29.0            1\n151915.0        1\n1010.0          1\nName: count, Length: 102, dtype: int64"
     },
     "execution_count": 564,
     "metadata": {},
     "output_type": "execute_result"
    }
   ],
   "source": [
    "df_HLES_hc['hs_diagnosis_year'].value_counts()"
   ],
   "metadata": {
    "collapsed": false
   }
  },
  {
   "cell_type": "code",
   "execution_count": 565,
   "outputs": [
    {
     "data": {
      "text/plain": "dog_id                                                   0\nhs_condition_type                                        0\nhs_condition                                             0\nhs_condition_other_description                       82851\nhs_condition_is_congenital                               0\nhs_eye_condition_cause                               92177\nhs_condition_cause_other_description                 91969\nhs_neurological_condition_vestibular_disease_type    92275\nhs_diagnosis_year                                        0\nhs_diagnosis_month                                       0\nhs_required_surgery_or_hospitalization                   1\nhs_follow_up_ongoing                                     0\nhs_diagnosis_year_alt                                    0\nhs_diagnosis_month_alt                                   0\nDiagnosis_Date                                          90\ndtype: int64"
     },
     "execution_count": 565,
     "metadata": {},
     "output_type": "execute_result"
    }
   ],
   "source": [
    "df_HLES_hc.isna().sum()"
   ],
   "metadata": {
    "collapsed": false
   }
  },
  {
   "cell_type": "code",
   "execution_count": 566,
   "outputs": [
    {
     "data": {
      "text/plain": "       dog_id  hs_diagnosis_month  hs_diagnosis_year  hs_condition  \\\n0      100001                 1.0             2021.0         304.0   \n1      100001                 1.0             2021.0         305.0   \n2      100001                 1.0             2021.0         306.0   \n3      100004                 9.0             2018.0        1617.0   \n4      100005                 2.0             2021.0         102.0   \n...       ...                 ...                ...           ...   \n92995   99999                 6.0             2020.0        1306.0   \n92996   99999                 6.0             2018.0        1627.0   \n92997   99999                10.0             2015.0        1634.0   \n92998   82743                 7.0             2013.0         404.0   \n92999   82743                 7.0             2015.0        1798.0   \n\n       hs_condition_type  \n0                      3  \n1                      3  \n2                      3  \n3                     16  \n4                      1  \n...                  ...  \n92995                 13  \n92996                 16  \n92997                 16  \n92998                  4  \n92999                 17  \n\n[92449 rows x 5 columns]",
      "text/html": "<div>\n<style scoped>\n    .dataframe tbody tr th:only-of-type {\n        vertical-align: middle;\n    }\n\n    .dataframe tbody tr th {\n        vertical-align: top;\n    }\n\n    .dataframe thead th {\n        text-align: right;\n    }\n</style>\n<table border=\"1\" class=\"dataframe\">\n  <thead>\n    <tr style=\"text-align: right;\">\n      <th></th>\n      <th>dog_id</th>\n      <th>hs_diagnosis_month</th>\n      <th>hs_diagnosis_year</th>\n      <th>hs_condition</th>\n      <th>hs_condition_type</th>\n    </tr>\n  </thead>\n  <tbody>\n    <tr>\n      <th>0</th>\n      <td>100001</td>\n      <td>1.0</td>\n      <td>2021.0</td>\n      <td>304.0</td>\n      <td>3</td>\n    </tr>\n    <tr>\n      <th>1</th>\n      <td>100001</td>\n      <td>1.0</td>\n      <td>2021.0</td>\n      <td>305.0</td>\n      <td>3</td>\n    </tr>\n    <tr>\n      <th>2</th>\n      <td>100001</td>\n      <td>1.0</td>\n      <td>2021.0</td>\n      <td>306.0</td>\n      <td>3</td>\n    </tr>\n    <tr>\n      <th>3</th>\n      <td>100004</td>\n      <td>9.0</td>\n      <td>2018.0</td>\n      <td>1617.0</td>\n      <td>16</td>\n    </tr>\n    <tr>\n      <th>4</th>\n      <td>100005</td>\n      <td>2.0</td>\n      <td>2021.0</td>\n      <td>102.0</td>\n      <td>1</td>\n    </tr>\n    <tr>\n      <th>...</th>\n      <td>...</td>\n      <td>...</td>\n      <td>...</td>\n      <td>...</td>\n      <td>...</td>\n    </tr>\n    <tr>\n      <th>92995</th>\n      <td>99999</td>\n      <td>6.0</td>\n      <td>2020.0</td>\n      <td>1306.0</td>\n      <td>13</td>\n    </tr>\n    <tr>\n      <th>92996</th>\n      <td>99999</td>\n      <td>6.0</td>\n      <td>2018.0</td>\n      <td>1627.0</td>\n      <td>16</td>\n    </tr>\n    <tr>\n      <th>92997</th>\n      <td>99999</td>\n      <td>10.0</td>\n      <td>2015.0</td>\n      <td>1634.0</td>\n      <td>16</td>\n    </tr>\n    <tr>\n      <th>92998</th>\n      <td>82743</td>\n      <td>7.0</td>\n      <td>2013.0</td>\n      <td>404.0</td>\n      <td>4</td>\n    </tr>\n    <tr>\n      <th>92999</th>\n      <td>82743</td>\n      <td>7.0</td>\n      <td>2015.0</td>\n      <td>1798.0</td>\n      <td>17</td>\n    </tr>\n  </tbody>\n</table>\n<p>92449 rows × 5 columns</p>\n</div>"
     },
     "execution_count": 566,
     "metadata": {},
     "output_type": "execute_result"
    }
   ],
   "source": [
    "df_HLES_hc[['dog_id', 'hs_diagnosis_month', 'hs_diagnosis_year', 'hs_condition', 'hs_condition_type']]"
   ],
   "metadata": {
    "collapsed": false
   }
  },
  {
   "cell_type": "code",
   "execution_count": 567,
   "outputs": [
    {
     "name": "stderr",
     "output_type": "stream",
     "text": [
      "/var/folders/zd/3_6frj8s08b9zb1f3y0xqr2r0000gn/T/ipykernel_76105/477946892.py:5: SettingWithCopyWarning: \n",
      "A value is trying to be set on a copy of a slice from a DataFrame.\n",
      "Try using .loc[row_indexer,col_indexer] = value instead\n",
      "\n",
      "See the caveats in the documentation: https://pandas.pydata.org/pandas-docs/stable/user_guide/indexing.html#returning-a-view-versus-a-copy\n",
      "  df_HLES_hc['hs_diagnosis_year_alt'] = df_HLES_hc['hs_diagnosis_year'].astype(int)\n",
      "/var/folders/zd/3_6frj8s08b9zb1f3y0xqr2r0000gn/T/ipykernel_76105/477946892.py:6: SettingWithCopyWarning: \n",
      "A value is trying to be set on a copy of a slice from a DataFrame.\n",
      "Try using .loc[row_indexer,col_indexer] = value instead\n",
      "\n",
      "See the caveats in the documentation: https://pandas.pydata.org/pandas-docs/stable/user_guide/indexing.html#returning-a-view-versus-a-copy\n",
      "  df_HLES_hc['hs_diagnosis_month_alt'] = df_HLES_hc['hs_diagnosis_month'].astype(int)\n",
      "/var/folders/zd/3_6frj8s08b9zb1f3y0xqr2r0000gn/T/ipykernel_76105/477946892.py:9: SettingWithCopyWarning: \n",
      "A value is trying to be set on a copy of a slice from a DataFrame.\n",
      "Try using .loc[row_indexer,col_indexer] = value instead\n",
      "\n",
      "See the caveats in the documentation: https://pandas.pydata.org/pandas-docs/stable/user_guide/indexing.html#returning-a-view-versus-a-copy\n",
      "  df_HLES_hc['Diagnosis_Date'] = pd.to_datetime(df_HLES_hc['hs_diagnosis_year_alt'].astype(str) + '-' + df_HLES_hc['hs_diagnosis_month_alt'].astype(str) + '-15', errors='coerce')\n"
     ]
    },
    {
     "data": {
      "text/plain": "       dog_id  age_diagnosis_month  age_diagnosis_days  age_diagnosis_years\n0      100001            70.066667              2102.0                  5.0\n1      100001            70.066667              2102.0                  5.0\n2      100001            70.066667              2102.0                  5.0\n3      100004             4.100000               123.0                  0.0\n4      100005           153.266667              4598.0                 12.0\n...       ...                  ...                 ...                  ...\n92444   99999            57.833333              1735.0                  4.0\n92445   99999            33.466667              1004.0                  2.0\n92446   99999             1.000000                30.0                  0.0\n92447   82743                  NaN                 NaN                  NaN\n92448   82743                  NaN                 NaN                  NaN\n\n[92449 rows x 4 columns]",
      "text/html": "<div>\n<style scoped>\n    .dataframe tbody tr th:only-of-type {\n        vertical-align: middle;\n    }\n\n    .dataframe tbody tr th {\n        vertical-align: top;\n    }\n\n    .dataframe thead th {\n        text-align: right;\n    }\n</style>\n<table border=\"1\" class=\"dataframe\">\n  <thead>\n    <tr style=\"text-align: right;\">\n      <th></th>\n      <th>dog_id</th>\n      <th>age_diagnosis_month</th>\n      <th>age_diagnosis_days</th>\n      <th>age_diagnosis_years</th>\n    </tr>\n  </thead>\n  <tbody>\n    <tr>\n      <th>0</th>\n      <td>100001</td>\n      <td>70.066667</td>\n      <td>2102.0</td>\n      <td>5.0</td>\n    </tr>\n    <tr>\n      <th>1</th>\n      <td>100001</td>\n      <td>70.066667</td>\n      <td>2102.0</td>\n      <td>5.0</td>\n    </tr>\n    <tr>\n      <th>2</th>\n      <td>100001</td>\n      <td>70.066667</td>\n      <td>2102.0</td>\n      <td>5.0</td>\n    </tr>\n    <tr>\n      <th>3</th>\n      <td>100004</td>\n      <td>4.100000</td>\n      <td>123.0</td>\n      <td>0.0</td>\n    </tr>\n    <tr>\n      <th>4</th>\n      <td>100005</td>\n      <td>153.266667</td>\n      <td>4598.0</td>\n      <td>12.0</td>\n    </tr>\n    <tr>\n      <th>...</th>\n      <td>...</td>\n      <td>...</td>\n      <td>...</td>\n      <td>...</td>\n    </tr>\n    <tr>\n      <th>92444</th>\n      <td>99999</td>\n      <td>57.833333</td>\n      <td>1735.0</td>\n      <td>4.0</td>\n    </tr>\n    <tr>\n      <th>92445</th>\n      <td>99999</td>\n      <td>33.466667</td>\n      <td>1004.0</td>\n      <td>2.0</td>\n    </tr>\n    <tr>\n      <th>92446</th>\n      <td>99999</td>\n      <td>1.000000</td>\n      <td>30.0</td>\n      <td>0.0</td>\n    </tr>\n    <tr>\n      <th>92447</th>\n      <td>82743</td>\n      <td>NaN</td>\n      <td>NaN</td>\n      <td>NaN</td>\n    </tr>\n    <tr>\n      <th>92448</th>\n      <td>82743</td>\n      <td>NaN</td>\n      <td>NaN</td>\n      <td>NaN</td>\n    </tr>\n  </tbody>\n</table>\n<p>92449 rows × 4 columns</p>\n</div>"
     },
     "execution_count": 567,
     "metadata": {},
     "output_type": "execute_result"
    }
   ],
   "source": [
    "# Sample df_DO\n",
    "df_DO['Estimated_DOB'] = pd.to_datetime(df_DO['Estimated_DOB'])\n",
    "\n",
    "# Handle NaN values and convert floats to integers for year and month\n",
    "df_HLES_hc['hs_diagnosis_year_alt'] = df_HLES_hc['hs_diagnosis_year'].astype(int)\n",
    "df_HLES_hc['hs_diagnosis_month_alt'] = df_HLES_hc['hs_diagnosis_month'].astype(int)\n",
    "\n",
    "# Create Diagnosis_Date column\n",
    "df_HLES_hc['Diagnosis_Date'] = pd.to_datetime(df_HLES_hc['hs_diagnosis_year_alt'].astype(str) + '-' + df_HLES_hc['hs_diagnosis_month_alt'].astype(str) + '-15', errors='coerce')\n",
    "\n",
    "# Merge DataFrames on 'dog_id'\n",
    "df_hc_do = df_HLES_hc.merge(df_DO, on='dog_id', how='left')\n",
    "\n",
    "# Calculate time difference\n",
    "df_hc_do['age_diagnosis_days'] = (df_hc_do['Diagnosis_Date'] - df_hc_do['Estimated_DOB']).dt.days\n",
    "df_hc_do['age_diagnosis_month'] = (df_hc_do['Diagnosis_Date'] - df_hc_do['Estimated_DOB']) / pd.Timedelta(days=30)\n",
    "df_hc_do['age_diagnosis_years'] = (df_hc_do['Diagnosis_Date'] - df_hc_do['Estimated_DOB']) / pd.Timedelta(days=365.25)\n",
    "df_hc_do['age_diagnosis_years'] = np.floor((df_hc_do['Diagnosis_Date'] - df_hc_do['Estimated_DOB']) / pd.Timedelta(days=365.25))\n",
    "\n",
    "\n",
    "# Display the result\n",
    "df_hc_do[['dog_id', 'age_diagnosis_month', 'age_diagnosis_days', 'age_diagnosis_years']]"
   ],
   "metadata": {
    "collapsed": false
   }
  },
  {
   "cell_type": "code",
   "execution_count": 568,
   "outputs": [],
   "source": [
    "df_hc_do_eol = df_hc_do.merge(df_HLES_do_eol[['dog_id', 'end_of_diagnosis_date']], on='dog_id', how='left')"
   ],
   "metadata": {
    "collapsed": false
   }
  },
  {
   "cell_type": "code",
   "execution_count": 569,
   "outputs": [
    {
     "data": {
      "text/plain": "       dog_id end_of_diagnosis_date Estimated_DOB\n0      100001            2021-08-11    2015-04-15\n1      100001            2021-08-11    2015-04-15\n2      100001            2021-08-11    2015-04-15\n3      100004            2021-07-23    2018-05-15\n4      100005            2021-07-21    2008-07-15\n...       ...                   ...           ...\n92444   99999            2021-07-20    2015-09-15\n92445   99999            2021-07-20    2015-09-15\n92446   99999            2021-07-20    2015-09-15\n92447   82743            2020-12-19           NaT\n92448   82743            2020-12-19           NaT\n\n[92449 rows x 3 columns]",
      "text/html": "<div>\n<style scoped>\n    .dataframe tbody tr th:only-of-type {\n        vertical-align: middle;\n    }\n\n    .dataframe tbody tr th {\n        vertical-align: top;\n    }\n\n    .dataframe thead th {\n        text-align: right;\n    }\n</style>\n<table border=\"1\" class=\"dataframe\">\n  <thead>\n    <tr style=\"text-align: right;\">\n      <th></th>\n      <th>dog_id</th>\n      <th>end_of_diagnosis_date</th>\n      <th>Estimated_DOB</th>\n    </tr>\n  </thead>\n  <tbody>\n    <tr>\n      <th>0</th>\n      <td>100001</td>\n      <td>2021-08-11</td>\n      <td>2015-04-15</td>\n    </tr>\n    <tr>\n      <th>1</th>\n      <td>100001</td>\n      <td>2021-08-11</td>\n      <td>2015-04-15</td>\n    </tr>\n    <tr>\n      <th>2</th>\n      <td>100001</td>\n      <td>2021-08-11</td>\n      <td>2015-04-15</td>\n    </tr>\n    <tr>\n      <th>3</th>\n      <td>100004</td>\n      <td>2021-07-23</td>\n      <td>2018-05-15</td>\n    </tr>\n    <tr>\n      <th>4</th>\n      <td>100005</td>\n      <td>2021-07-21</td>\n      <td>2008-07-15</td>\n    </tr>\n    <tr>\n      <th>...</th>\n      <td>...</td>\n      <td>...</td>\n      <td>...</td>\n    </tr>\n    <tr>\n      <th>92444</th>\n      <td>99999</td>\n      <td>2021-07-20</td>\n      <td>2015-09-15</td>\n    </tr>\n    <tr>\n      <th>92445</th>\n      <td>99999</td>\n      <td>2021-07-20</td>\n      <td>2015-09-15</td>\n    </tr>\n    <tr>\n      <th>92446</th>\n      <td>99999</td>\n      <td>2021-07-20</td>\n      <td>2015-09-15</td>\n    </tr>\n    <tr>\n      <th>92447</th>\n      <td>82743</td>\n      <td>2020-12-19</td>\n      <td>NaT</td>\n    </tr>\n    <tr>\n      <th>92448</th>\n      <td>82743</td>\n      <td>2020-12-19</td>\n      <td>NaT</td>\n    </tr>\n  </tbody>\n</table>\n<p>92449 rows × 3 columns</p>\n</div>"
     },
     "execution_count": 569,
     "metadata": {},
     "output_type": "execute_result"
    }
   ],
   "source": [
    "df_hc_do_eol[['dog_id', 'end_of_diagnosis_date', 'Estimated_DOB']]"
   ],
   "metadata": {
    "collapsed": false
   }
  },
  {
   "cell_type": "code",
   "execution_count": 570,
   "outputs": [
    {
     "data": {
      "text/plain": "       dog_id  end_of_diagnosis_year end_of_diagnosis_date Estimated_DOB\n0      100001                    6.0            2021-08-11    2015-04-15\n1      100001                    6.0            2021-08-11    2015-04-15\n2      100001                    6.0            2021-08-11    2015-04-15\n3      100004                    3.0            2021-07-23    2018-05-15\n4      100005                   13.0            2021-07-21    2008-07-15\n...       ...                    ...                   ...           ...\n92444   99999                    5.0            2021-07-20    2015-09-15\n92445   99999                    5.0            2021-07-20    2015-09-15\n92446   99999                    5.0            2021-07-20    2015-09-15\n92447   82743                    NaN            2020-12-19           NaT\n92448   82743                    NaN            2020-12-19           NaT\n\n[92449 rows x 4 columns]",
      "text/html": "<div>\n<style scoped>\n    .dataframe tbody tr th:only-of-type {\n        vertical-align: middle;\n    }\n\n    .dataframe tbody tr th {\n        vertical-align: top;\n    }\n\n    .dataframe thead th {\n        text-align: right;\n    }\n</style>\n<table border=\"1\" class=\"dataframe\">\n  <thead>\n    <tr style=\"text-align: right;\">\n      <th></th>\n      <th>dog_id</th>\n      <th>end_of_diagnosis_year</th>\n      <th>end_of_diagnosis_date</th>\n      <th>Estimated_DOB</th>\n    </tr>\n  </thead>\n  <tbody>\n    <tr>\n      <th>0</th>\n      <td>100001</td>\n      <td>6.0</td>\n      <td>2021-08-11</td>\n      <td>2015-04-15</td>\n    </tr>\n    <tr>\n      <th>1</th>\n      <td>100001</td>\n      <td>6.0</td>\n      <td>2021-08-11</td>\n      <td>2015-04-15</td>\n    </tr>\n    <tr>\n      <th>2</th>\n      <td>100001</td>\n      <td>6.0</td>\n      <td>2021-08-11</td>\n      <td>2015-04-15</td>\n    </tr>\n    <tr>\n      <th>3</th>\n      <td>100004</td>\n      <td>3.0</td>\n      <td>2021-07-23</td>\n      <td>2018-05-15</td>\n    </tr>\n    <tr>\n      <th>4</th>\n      <td>100005</td>\n      <td>13.0</td>\n      <td>2021-07-21</td>\n      <td>2008-07-15</td>\n    </tr>\n    <tr>\n      <th>...</th>\n      <td>...</td>\n      <td>...</td>\n      <td>...</td>\n      <td>...</td>\n    </tr>\n    <tr>\n      <th>92444</th>\n      <td>99999</td>\n      <td>5.0</td>\n      <td>2021-07-20</td>\n      <td>2015-09-15</td>\n    </tr>\n    <tr>\n      <th>92445</th>\n      <td>99999</td>\n      <td>5.0</td>\n      <td>2021-07-20</td>\n      <td>2015-09-15</td>\n    </tr>\n    <tr>\n      <th>92446</th>\n      <td>99999</td>\n      <td>5.0</td>\n      <td>2021-07-20</td>\n      <td>2015-09-15</td>\n    </tr>\n    <tr>\n      <th>92447</th>\n      <td>82743</td>\n      <td>NaN</td>\n      <td>2020-12-19</td>\n      <td>NaT</td>\n    </tr>\n    <tr>\n      <th>92448</th>\n      <td>82743</td>\n      <td>NaN</td>\n      <td>2020-12-19</td>\n      <td>NaT</td>\n    </tr>\n  </tbody>\n</table>\n<p>92449 rows × 4 columns</p>\n</div>"
     },
     "execution_count": 570,
     "metadata": {},
     "output_type": "execute_result"
    }
   ],
   "source": [
    "# Turn end_of_diagnosis_date into the age of when end_of_diagnosis_date is\n",
    "df_hc_do_eol['end_of_diagnosis_date'] = pd.to_datetime(df_hc_do_eol['end_of_diagnosis_date'])\n",
    "df_hc_do_eol['end_of_diagnosis_year'] = np.floor((df_hc_do_eol['end_of_diagnosis_date'] - df_hc_do_eol['Estimated_DOB']) / pd.Timedelta(days=365.25))\n",
    "df_hc_do_eol[['dog_id', 'end_of_diagnosis_year', 'end_of_diagnosis_date', 'Estimated_DOB']]"
   ],
   "metadata": {
    "collapsed": false
   }
  },
  {
   "cell_type": "code",
   "execution_count": 571,
   "outputs": [
    {
     "data": {
      "text/plain": "       dog_id  age_diagnosis_years  hs_diagnosis_year Diagnosis_Date  \\\n85     100097                  NaN             2020.0     2020-07-15   \n86     100097                  NaN             2020.0     2020-07-15   \n839    100767                  NaN         20212111.0            NaT   \n1983   102519                  NaN         20202021.0            NaT   \n2228   102776                  NaN             2016.0     2016-12-15   \n...       ...                  ...                ...            ...   \n90546   98148                  NaN             2015.0     2015-08-15   \n90747   98325                  NaN             2021.0     2021-04-15   \n91381   99006                  NaN             1010.0            NaT   \n92447   82743                  NaN             2013.0     2013-07-15   \n92448   82743                  NaN             2015.0     2015-07-15   \n\n       end_of_diagnosis_year end_of_diagnosis_date Estimated_DOB  \n85                       NaN            2021-07-28           NaT  \n86                       NaN            2021-07-28           NaT  \n839                      0.0            2021-09-12    2020-10-15  \n1983                     5.0            2021-11-25    2016-05-15  \n2228                     NaN            2021-12-14           NaT  \n...                      ...                   ...           ...  \n90546                    NaN            2021-05-13           NaT  \n90747                    NaN            2021-05-17           NaT  \n91381                   15.0            2021-05-31    2006-02-15  \n92447                    NaN            2020-12-19           NaT  \n92448                    NaN            2020-12-19           NaT  \n\n[191 rows x 7 columns]",
      "text/html": "<div>\n<style scoped>\n    .dataframe tbody tr th:only-of-type {\n        vertical-align: middle;\n    }\n\n    .dataframe tbody tr th {\n        vertical-align: top;\n    }\n\n    .dataframe thead th {\n        text-align: right;\n    }\n</style>\n<table border=\"1\" class=\"dataframe\">\n  <thead>\n    <tr style=\"text-align: right;\">\n      <th></th>\n      <th>dog_id</th>\n      <th>age_diagnosis_years</th>\n      <th>hs_diagnosis_year</th>\n      <th>Diagnosis_Date</th>\n      <th>end_of_diagnosis_year</th>\n      <th>end_of_diagnosis_date</th>\n      <th>Estimated_DOB</th>\n    </tr>\n  </thead>\n  <tbody>\n    <tr>\n      <th>85</th>\n      <td>100097</td>\n      <td>NaN</td>\n      <td>2020.0</td>\n      <td>2020-07-15</td>\n      <td>NaN</td>\n      <td>2021-07-28</td>\n      <td>NaT</td>\n    </tr>\n    <tr>\n      <th>86</th>\n      <td>100097</td>\n      <td>NaN</td>\n      <td>2020.0</td>\n      <td>2020-07-15</td>\n      <td>NaN</td>\n      <td>2021-07-28</td>\n      <td>NaT</td>\n    </tr>\n    <tr>\n      <th>839</th>\n      <td>100767</td>\n      <td>NaN</td>\n      <td>20212111.0</td>\n      <td>NaT</td>\n      <td>0.0</td>\n      <td>2021-09-12</td>\n      <td>2020-10-15</td>\n    </tr>\n    <tr>\n      <th>1983</th>\n      <td>102519</td>\n      <td>NaN</td>\n      <td>20202021.0</td>\n      <td>NaT</td>\n      <td>5.0</td>\n      <td>2021-11-25</td>\n      <td>2016-05-15</td>\n    </tr>\n    <tr>\n      <th>2228</th>\n      <td>102776</td>\n      <td>NaN</td>\n      <td>2016.0</td>\n      <td>2016-12-15</td>\n      <td>NaN</td>\n      <td>2021-12-14</td>\n      <td>NaT</td>\n    </tr>\n    <tr>\n      <th>...</th>\n      <td>...</td>\n      <td>...</td>\n      <td>...</td>\n      <td>...</td>\n      <td>...</td>\n      <td>...</td>\n      <td>...</td>\n    </tr>\n    <tr>\n      <th>90546</th>\n      <td>98148</td>\n      <td>NaN</td>\n      <td>2015.0</td>\n      <td>2015-08-15</td>\n      <td>NaN</td>\n      <td>2021-05-13</td>\n      <td>NaT</td>\n    </tr>\n    <tr>\n      <th>90747</th>\n      <td>98325</td>\n      <td>NaN</td>\n      <td>2021.0</td>\n      <td>2021-04-15</td>\n      <td>NaN</td>\n      <td>2021-05-17</td>\n      <td>NaT</td>\n    </tr>\n    <tr>\n      <th>91381</th>\n      <td>99006</td>\n      <td>NaN</td>\n      <td>1010.0</td>\n      <td>NaT</td>\n      <td>15.0</td>\n      <td>2021-05-31</td>\n      <td>2006-02-15</td>\n    </tr>\n    <tr>\n      <th>92447</th>\n      <td>82743</td>\n      <td>NaN</td>\n      <td>2013.0</td>\n      <td>2013-07-15</td>\n      <td>NaN</td>\n      <td>2020-12-19</td>\n      <td>NaT</td>\n    </tr>\n    <tr>\n      <th>92448</th>\n      <td>82743</td>\n      <td>NaN</td>\n      <td>2015.0</td>\n      <td>2015-07-15</td>\n      <td>NaN</td>\n      <td>2020-12-19</td>\n      <td>NaT</td>\n    </tr>\n  </tbody>\n</table>\n<p>191 rows × 7 columns</p>\n</div>"
     },
     "execution_count": 571,
     "metadata": {},
     "output_type": "execute_result"
    }
   ],
   "source": [
    "df_hc_do_eol[['dog_id', 'age_diagnosis_years', 'hs_diagnosis_year', 'Diagnosis_Date', 'end_of_diagnosis_year', 'end_of_diagnosis_date', 'Estimated_DOB']][df_hc_do_eol['age_diagnosis_years'].isna()]"
   ],
   "metadata": {
    "collapsed": false
   }
  },
  {
   "cell_type": "code",
   "execution_count": 572,
   "outputs": [
    {
     "data": {
      "text/plain": "       dog_id  hs_condition_type  hs_condition hs_condition_other_description  \\\n0      100001                  3         304.0                            NaN   \n1      100001                  3         305.0                            NaN   \n2      100001                  3         306.0                            NaN   \n3      100004                 16        1617.0                            NaN   \n4      100005                  1         102.0                            NaN   \n...       ...                ...           ...                            ...   \n92442   99998                 11        1198.0                Osteochondrosis   \n92443   99999                 11        1113.0                            NaN   \n92444   99999                 13        1306.0                            NaN   \n92445   99999                 16        1627.0                            NaN   \n92446   99999                 16        1634.0                            NaN   \n\n       hs_condition_is_congenital  hs_eye_condition_cause  \\\n0                           False                     NaN   \n1                           False                     NaN   \n2                           False                     NaN   \n3                           False                     NaN   \n4                           False                     NaN   \n...                           ...                     ...   \n92442                       False                     NaN   \n92443                       False                     NaN   \n92444                       False                     NaN   \n92445                       False                     NaN   \n92446                       False                     NaN   \n\n      hs_condition_cause_other_description  \\\n0                                      NaN   \n1                                      NaN   \n2                                      NaN   \n3                                      NaN   \n4                                      NaN   \n...                                    ...   \n92442                                  NaN   \n92443                                  NaN   \n92444                                  NaN   \n92445                                  NaN   \n92446                                  NaN   \n\n       hs_neurological_condition_vestibular_disease_type  hs_diagnosis_year  \\\n0                                                    NaN             2021.0   \n1                                                    NaN             2021.0   \n2                                                    NaN             2021.0   \n3                                                    NaN             2018.0   \n4                                                    NaN             2021.0   \n...                                                  ...                ...   \n92442                                                NaN             2019.0   \n92443                                                NaN             2019.0   \n92444                                                NaN             2020.0   \n92445                                                NaN             2018.0   \n92446                                                NaN             2015.0   \n\n       hs_diagnosis_month  ...  DNA_Swab_ID PrimaryAddress_HLES  \\\n0                     1.0  ...          NaN                   Y   \n1                     1.0  ...          NaN                   Y   \n2                     1.0  ...          NaN                   Y   \n3                     9.0  ...          NaN                   Y   \n4                     2.0  ...          NaN                   Y   \n...                   ...  ...          ...                 ...   \n92442                12.0  ...          NaN                   Y   \n92443                 3.0  ...          NaN                   Y   \n92444                 6.0  ...          NaN                   Y   \n92445                 6.0  ...          NaN                   Y   \n92446                10.0  ...          NaN                   Y   \n\n       SecondaryAddress_HLES  PrimaryAddress_AFUS2021  \\\n0                          N                        N   \n1                          N                        N   \n2                          N                        N   \n3                          N                        N   \n4                          N                        N   \n...                      ...                      ...   \n92442                      N                        N   \n92443                      N                        N   \n92444                      N                        N   \n92445                      N                        N   \n92446                      N                        N   \n\n      SecondaryAddress_AFUS2021 age_diagnosis_days age_diagnosis_month  \\\n0                             N             2102.0           70.066667   \n1                             N             2102.0           70.066667   \n2                             N             2102.0           70.066667   \n3                             N              123.0            4.100000   \n4                             N             4598.0          153.266667   \n...                         ...                ...                 ...   \n92442                         N              365.0           12.166667   \n92443                         N             1277.0           42.566667   \n92444                         N             1735.0           57.833333   \n92445                         N             1004.0           33.466667   \n92446                         N               30.0            1.000000   \n\n      age_diagnosis_years end_of_diagnosis_date  end_of_diagnosis_year  \n0                     5.0            2021-08-11                    6.0  \n1                     5.0            2021-08-11                    6.0  \n2                     5.0            2021-08-11                    6.0  \n3                     0.0            2021-07-23                    3.0  \n4                    12.0            2021-07-21                   13.0  \n...                   ...                   ...                    ...  \n92442                 0.0            2021-07-20                    2.0  \n92443                 3.0            2021-07-20                    5.0  \n92444                 4.0            2021-07-20                    5.0  \n92445                 2.0            2021-07-20                    5.0  \n92446                 0.0            2021-07-20                    5.0  \n\n[92258 rows x 46 columns]",
      "text/html": "<div>\n<style scoped>\n    .dataframe tbody tr th:only-of-type {\n        vertical-align: middle;\n    }\n\n    .dataframe tbody tr th {\n        vertical-align: top;\n    }\n\n    .dataframe thead th {\n        text-align: right;\n    }\n</style>\n<table border=\"1\" class=\"dataframe\">\n  <thead>\n    <tr style=\"text-align: right;\">\n      <th></th>\n      <th>dog_id</th>\n      <th>hs_condition_type</th>\n      <th>hs_condition</th>\n      <th>hs_condition_other_description</th>\n      <th>hs_condition_is_congenital</th>\n      <th>hs_eye_condition_cause</th>\n      <th>hs_condition_cause_other_description</th>\n      <th>hs_neurological_condition_vestibular_disease_type</th>\n      <th>hs_diagnosis_year</th>\n      <th>hs_diagnosis_month</th>\n      <th>...</th>\n      <th>DNA_Swab_ID</th>\n      <th>PrimaryAddress_HLES</th>\n      <th>SecondaryAddress_HLES</th>\n      <th>PrimaryAddress_AFUS2021</th>\n      <th>SecondaryAddress_AFUS2021</th>\n      <th>age_diagnosis_days</th>\n      <th>age_diagnosis_month</th>\n      <th>age_diagnosis_years</th>\n      <th>end_of_diagnosis_date</th>\n      <th>end_of_diagnosis_year</th>\n    </tr>\n  </thead>\n  <tbody>\n    <tr>\n      <th>0</th>\n      <td>100001</td>\n      <td>3</td>\n      <td>304.0</td>\n      <td>NaN</td>\n      <td>False</td>\n      <td>NaN</td>\n      <td>NaN</td>\n      <td>NaN</td>\n      <td>2021.0</td>\n      <td>1.0</td>\n      <td>...</td>\n      <td>NaN</td>\n      <td>Y</td>\n      <td>N</td>\n      <td>N</td>\n      <td>N</td>\n      <td>2102.0</td>\n      <td>70.066667</td>\n      <td>5.0</td>\n      <td>2021-08-11</td>\n      <td>6.0</td>\n    </tr>\n    <tr>\n      <th>1</th>\n      <td>100001</td>\n      <td>3</td>\n      <td>305.0</td>\n      <td>NaN</td>\n      <td>False</td>\n      <td>NaN</td>\n      <td>NaN</td>\n      <td>NaN</td>\n      <td>2021.0</td>\n      <td>1.0</td>\n      <td>...</td>\n      <td>NaN</td>\n      <td>Y</td>\n      <td>N</td>\n      <td>N</td>\n      <td>N</td>\n      <td>2102.0</td>\n      <td>70.066667</td>\n      <td>5.0</td>\n      <td>2021-08-11</td>\n      <td>6.0</td>\n    </tr>\n    <tr>\n      <th>2</th>\n      <td>100001</td>\n      <td>3</td>\n      <td>306.0</td>\n      <td>NaN</td>\n      <td>False</td>\n      <td>NaN</td>\n      <td>NaN</td>\n      <td>NaN</td>\n      <td>2021.0</td>\n      <td>1.0</td>\n      <td>...</td>\n      <td>NaN</td>\n      <td>Y</td>\n      <td>N</td>\n      <td>N</td>\n      <td>N</td>\n      <td>2102.0</td>\n      <td>70.066667</td>\n      <td>5.0</td>\n      <td>2021-08-11</td>\n      <td>6.0</td>\n    </tr>\n    <tr>\n      <th>3</th>\n      <td>100004</td>\n      <td>16</td>\n      <td>1617.0</td>\n      <td>NaN</td>\n      <td>False</td>\n      <td>NaN</td>\n      <td>NaN</td>\n      <td>NaN</td>\n      <td>2018.0</td>\n      <td>9.0</td>\n      <td>...</td>\n      <td>NaN</td>\n      <td>Y</td>\n      <td>N</td>\n      <td>N</td>\n      <td>N</td>\n      <td>123.0</td>\n      <td>4.100000</td>\n      <td>0.0</td>\n      <td>2021-07-23</td>\n      <td>3.0</td>\n    </tr>\n    <tr>\n      <th>4</th>\n      <td>100005</td>\n      <td>1</td>\n      <td>102.0</td>\n      <td>NaN</td>\n      <td>False</td>\n      <td>NaN</td>\n      <td>NaN</td>\n      <td>NaN</td>\n      <td>2021.0</td>\n      <td>2.0</td>\n      <td>...</td>\n      <td>NaN</td>\n      <td>Y</td>\n      <td>N</td>\n      <td>N</td>\n      <td>N</td>\n      <td>4598.0</td>\n      <td>153.266667</td>\n      <td>12.0</td>\n      <td>2021-07-21</td>\n      <td>13.0</td>\n    </tr>\n    <tr>\n      <th>...</th>\n      <td>...</td>\n      <td>...</td>\n      <td>...</td>\n      <td>...</td>\n      <td>...</td>\n      <td>...</td>\n      <td>...</td>\n      <td>...</td>\n      <td>...</td>\n      <td>...</td>\n      <td>...</td>\n      <td>...</td>\n      <td>...</td>\n      <td>...</td>\n      <td>...</td>\n      <td>...</td>\n      <td>...</td>\n      <td>...</td>\n      <td>...</td>\n      <td>...</td>\n      <td>...</td>\n    </tr>\n    <tr>\n      <th>92442</th>\n      <td>99998</td>\n      <td>11</td>\n      <td>1198.0</td>\n      <td>Osteochondrosis</td>\n      <td>False</td>\n      <td>NaN</td>\n      <td>NaN</td>\n      <td>NaN</td>\n      <td>2019.0</td>\n      <td>12.0</td>\n      <td>...</td>\n      <td>NaN</td>\n      <td>Y</td>\n      <td>N</td>\n      <td>N</td>\n      <td>N</td>\n      <td>365.0</td>\n      <td>12.166667</td>\n      <td>0.0</td>\n      <td>2021-07-20</td>\n      <td>2.0</td>\n    </tr>\n    <tr>\n      <th>92443</th>\n      <td>99999</td>\n      <td>11</td>\n      <td>1113.0</td>\n      <td>NaN</td>\n      <td>False</td>\n      <td>NaN</td>\n      <td>NaN</td>\n      <td>NaN</td>\n      <td>2019.0</td>\n      <td>3.0</td>\n      <td>...</td>\n      <td>NaN</td>\n      <td>Y</td>\n      <td>N</td>\n      <td>N</td>\n      <td>N</td>\n      <td>1277.0</td>\n      <td>42.566667</td>\n      <td>3.0</td>\n      <td>2021-07-20</td>\n      <td>5.0</td>\n    </tr>\n    <tr>\n      <th>92444</th>\n      <td>99999</td>\n      <td>13</td>\n      <td>1306.0</td>\n      <td>NaN</td>\n      <td>False</td>\n      <td>NaN</td>\n      <td>NaN</td>\n      <td>NaN</td>\n      <td>2020.0</td>\n      <td>6.0</td>\n      <td>...</td>\n      <td>NaN</td>\n      <td>Y</td>\n      <td>N</td>\n      <td>N</td>\n      <td>N</td>\n      <td>1735.0</td>\n      <td>57.833333</td>\n      <td>4.0</td>\n      <td>2021-07-20</td>\n      <td>5.0</td>\n    </tr>\n    <tr>\n      <th>92445</th>\n      <td>99999</td>\n      <td>16</td>\n      <td>1627.0</td>\n      <td>NaN</td>\n      <td>False</td>\n      <td>NaN</td>\n      <td>NaN</td>\n      <td>NaN</td>\n      <td>2018.0</td>\n      <td>6.0</td>\n      <td>...</td>\n      <td>NaN</td>\n      <td>Y</td>\n      <td>N</td>\n      <td>N</td>\n      <td>N</td>\n      <td>1004.0</td>\n      <td>33.466667</td>\n      <td>2.0</td>\n      <td>2021-07-20</td>\n      <td>5.0</td>\n    </tr>\n    <tr>\n      <th>92446</th>\n      <td>99999</td>\n      <td>16</td>\n      <td>1634.0</td>\n      <td>NaN</td>\n      <td>False</td>\n      <td>NaN</td>\n      <td>NaN</td>\n      <td>NaN</td>\n      <td>2015.0</td>\n      <td>10.0</td>\n      <td>...</td>\n      <td>NaN</td>\n      <td>Y</td>\n      <td>N</td>\n      <td>N</td>\n      <td>N</td>\n      <td>30.0</td>\n      <td>1.000000</td>\n      <td>0.0</td>\n      <td>2021-07-20</td>\n      <td>5.0</td>\n    </tr>\n  </tbody>\n</table>\n<p>92258 rows × 46 columns</p>\n</div>"
     },
     "execution_count": 572,
     "metadata": {},
     "output_type": "execute_result"
    }
   ],
   "source": [
    "# Filter out rows with NaN values in 'end_of_diagnosis_year' because Estimated_DOB is NaT\n",
    "df_hc_do_eol = df_hc_do_eol[(df_hc_do_eol['end_of_diagnosis_year'].notna()) & (df_hc_do_eol['age_diagnosis_years'].notna())]\n",
    "df_hc_do_eol"
   ],
   "metadata": {
    "collapsed": false
   }
  },
  {
   "cell_type": "code",
   "execution_count": 573,
   "outputs": [
    {
     "data": {
      "text/plain": "        dog_id  age_diagnosis_years  hs_condition  hs_condition_type\n0       100001                    0           0.0                  0\n1       100001                    1           0.0                  0\n2       100001                    2           0.0                  0\n3       100001                    3           0.0                  0\n4       100001                    4           0.0                  0\n...        ...                  ...           ...                ...\n886799   99999                    5           0.0                  0\n886803   99999                    3           0.0                  0\n886804   99999                    4        1306.0                 13\n886808   99999                    2        1627.0                 16\n886812   99999                    0        1634.0                 16\n\n[302959 rows x 4 columns]",
      "text/html": "<div>\n<style scoped>\n    .dataframe tbody tr th:only-of-type {\n        vertical-align: middle;\n    }\n\n    .dataframe tbody tr th {\n        vertical-align: top;\n    }\n\n    .dataframe thead th {\n        text-align: right;\n    }\n</style>\n<table border=\"1\" class=\"dataframe\">\n  <thead>\n    <tr style=\"text-align: right;\">\n      <th></th>\n      <th>dog_id</th>\n      <th>age_diagnosis_years</th>\n      <th>hs_condition</th>\n      <th>hs_condition_type</th>\n    </tr>\n  </thead>\n  <tbody>\n    <tr>\n      <th>0</th>\n      <td>100001</td>\n      <td>0</td>\n      <td>0.0</td>\n      <td>0</td>\n    </tr>\n    <tr>\n      <th>1</th>\n      <td>100001</td>\n      <td>1</td>\n      <td>0.0</td>\n      <td>0</td>\n    </tr>\n    <tr>\n      <th>2</th>\n      <td>100001</td>\n      <td>2</td>\n      <td>0.0</td>\n      <td>0</td>\n    </tr>\n    <tr>\n      <th>3</th>\n      <td>100001</td>\n      <td>3</td>\n      <td>0.0</td>\n      <td>0</td>\n    </tr>\n    <tr>\n      <th>4</th>\n      <td>100001</td>\n      <td>4</td>\n      <td>0.0</td>\n      <td>0</td>\n    </tr>\n    <tr>\n      <th>...</th>\n      <td>...</td>\n      <td>...</td>\n      <td>...</td>\n      <td>...</td>\n    </tr>\n    <tr>\n      <th>886799</th>\n      <td>99999</td>\n      <td>5</td>\n      <td>0.0</td>\n      <td>0</td>\n    </tr>\n    <tr>\n      <th>886803</th>\n      <td>99999</td>\n      <td>3</td>\n      <td>0.0</td>\n      <td>0</td>\n    </tr>\n    <tr>\n      <th>886804</th>\n      <td>99999</td>\n      <td>4</td>\n      <td>1306.0</td>\n      <td>13</td>\n    </tr>\n    <tr>\n      <th>886808</th>\n      <td>99999</td>\n      <td>2</td>\n      <td>1627.0</td>\n      <td>16</td>\n    </tr>\n    <tr>\n      <th>886812</th>\n      <td>99999</td>\n      <td>0</td>\n      <td>1634.0</td>\n      <td>16</td>\n    </tr>\n  </tbody>\n</table>\n<p>302959 rows × 4 columns</p>\n</div>"
     },
     "execution_count": 573,
     "metadata": {},
     "output_type": "execute_result"
    }
   ],
   "source": [
    "# Function to generate rows for each year of a dog's life\n",
    "def generate_rows(row):\n",
    "    dog_id = row['dog_id']\n",
    "    start_year = 0\n",
    "    end_year = int(row['end_of_diagnosis_year'])\n",
    "    diagnosis_year = int(row['age_diagnosis_years'])\n",
    "    hs_condition = row['hs_condition']\n",
    "    hs_condition_type = row['hs_condition_type']\n",
    "\n",
    "    rows = []\n",
    "    for year in range(start_year, end_year + 1):\n",
    "        if year == diagnosis_year:\n",
    "            rows.append([dog_id, year, end_year, hs_condition, hs_condition_type])\n",
    "        else:\n",
    "            rows.append([dog_id, year, end_year, 0, 0])\n",
    "    return rows\n",
    "\n",
    "# Apply the function to each row and flatten the resulting list of lists\n",
    "new_rows = [row for _, row in df_hc_do_eol.iterrows() for row in generate_rows(row)]\n",
    "\n",
    "# Create a new DataFrame from the generated rows\n",
    "columns = ['dog_id', 'age_diagnosis_years', 'end_of_diagnosis_year', 'hs_condition', 'hs_condition_type']\n",
    "extended_df = pd.DataFrame(new_rows, columns=columns)\n",
    "extended_df = extended_df.drop_duplicates()\n",
    "extended_df = extended_df.drop('end_of_diagnosis_year', axis=1)\n",
    "extended_df"
   ],
   "metadata": {
    "collapsed": false
   }
  },
  {
   "cell_type": "code",
   "execution_count": 574,
   "outputs": [],
   "source": [
    "#extended_df.groupby('dog_id')['end_of_diagnosis_year'].mean()"
   ],
   "metadata": {
    "collapsed": false
   }
  },
  {
   "cell_type": "code",
   "execution_count": 575,
   "outputs": [
    {
     "data": {
      "text/plain": "array([100001, 100004, 100005, ...,  99995,  99998,  99999])"
     },
     "execution_count": 575,
     "metadata": {},
     "output_type": "execute_result"
    }
   ],
   "source": [
    "extended_df['dog_id'].unique()"
   ],
   "metadata": {
    "collapsed": false
   }
  },
  {
   "cell_type": "code",
   "execution_count": 576,
   "outputs": [
    {
     "data": {
      "text/plain": "hs_condition_type\n0     212687\n3      13885\n4      13827\n18     11455\n16     11190\n11      7835\n7       5670\n1       5323\n2       4666\n17      4047\n9       3024\n5       2406\n12      1818\n6       1331\n8       1192\n13      1155\n10       786\n19       267\n15       208\n14       187\nName: count, dtype: int64"
     },
     "execution_count": 576,
     "metadata": {},
     "output_type": "execute_result"
    }
   ],
   "source": [
    "extended_df['hs_condition_type'].value_counts()"
   ],
   "metadata": {
    "collapsed": false
   }
  },
  {
   "cell_type": "code",
   "execution_count": 577,
   "outputs": [],
   "source": [
    "hs_condition_mapping = {\n",
    "    0: 'no_condition_diagnosis',\n",
    "    304: 'Dental calculus (yellow build-upon teeth',\n",
    "    305: 'Extracted teeth',\n",
    "    1801:'Trauma',\n",
    "    1617:'Giardia',\n",
    "    202:'Ear Infection',\n",
    "    426:'Seasonal allergies',\n",
    "    306:'Fractured teeth',\n",
    "    1113:'Osteoarthritis',\n",
    "    1817:'Snakebite',\n",
    "    1898:'Torn or broken toenail',\n",
    "    504:'Murmur',\n",
    "    1605:'Bordetella and/or parainfluenza(\"kennel cough\")',\n",
    "    1701:'Chocolate',\n",
    "    423:'Pruritis (itchy skin)',\n",
    "    102:'Cataracts',\n",
    "    1812:'Kicked by horse or other large animal',\n",
    "    1105:'Cruciate ligament rupture',\n",
    "    428:'Sebaceous cysts',\n",
    "    307:'Gingivitis (red, puffy gums)',\n",
    "    412:'Food or medicine allergies that affect the skin',\n",
    "}\n",
    "\n",
    "\n",
    "hs_condition_type_mapping = {\n",
    "    0: 'no_condition_type_diagnosis',\n",
    "    1: 'Eye',\n",
    "    2: 'Ear/Nose/Throat',\n",
    "    3: 'Mouth/Dental/Oral',\n",
    "    4: 'Skin',\n",
    "    5: 'Cardiac',\n",
    "    6: 'Respiratory',\n",
    "    7: 'Gastrointestinal',\n",
    "    8: 'Liver/Pancreas',\n",
    "    9: 'Kidney/Urinary',\n",
    "    10: 'Reproductive',\n",
    "    11: 'Bone/Orthopedic',\n",
    "    12: 'Brain/Neurologic',\n",
    "    13: 'Endocrine',\n",
    "    14: 'Hematopoietic',\n",
    "    15: 'Other Congenital Disorder',\n",
    "    16: 'Infection/Parasites',\n",
    "    17: 'Toxin Consumption',\n",
    "    18: 'Trauma',\n",
    "    19: 'Immune-mediated'\n",
    " }"
   ],
   "metadata": {
    "collapsed": false
   }
  },
  {
   "cell_type": "code",
   "execution_count": 578,
   "outputs": [
    {
     "data": {
      "text/plain": "        dog_id  age_diagnosis_years  hs_condition  hs_condition_type  \\\n0       100001                    0           0.0                  0   \n1       100001                    1           0.0                  0   \n2       100001                    2           0.0                  0   \n3       100001                    3           0.0                  0   \n4       100001                    4           0.0                  0   \n...        ...                  ...           ...                ...   \n886799   99999                    5           0.0                  0   \n886803   99999                    3           0.0                  0   \n886804   99999                    4        1306.0                 13   \n886808   99999                    2        1627.0                 16   \n886812   99999                    0        1634.0                 16   \n\n                     condition               condition_type  \n0       no_condition_diagnosis  no_condition_type_diagnosis  \n1       no_condition_diagnosis  no_condition_type_diagnosis  \n2       no_condition_diagnosis  no_condition_type_diagnosis  \n3       no_condition_diagnosis  no_condition_type_diagnosis  \n4       no_condition_diagnosis  no_condition_type_diagnosis  \n...                        ...                          ...  \n886799  no_condition_diagnosis  no_condition_type_diagnosis  \n886803  no_condition_diagnosis  no_condition_type_diagnosis  \n886804         Other_condition                    Endocrine  \n886808         Other_condition          Infection/Parasites  \n886812         Other_condition          Infection/Parasites  \n\n[302959 rows x 6 columns]",
      "text/html": "<div>\n<style scoped>\n    .dataframe tbody tr th:only-of-type {\n        vertical-align: middle;\n    }\n\n    .dataframe tbody tr th {\n        vertical-align: top;\n    }\n\n    .dataframe thead th {\n        text-align: right;\n    }\n</style>\n<table border=\"1\" class=\"dataframe\">\n  <thead>\n    <tr style=\"text-align: right;\">\n      <th></th>\n      <th>dog_id</th>\n      <th>age_diagnosis_years</th>\n      <th>hs_condition</th>\n      <th>hs_condition_type</th>\n      <th>condition</th>\n      <th>condition_type</th>\n    </tr>\n  </thead>\n  <tbody>\n    <tr>\n      <th>0</th>\n      <td>100001</td>\n      <td>0</td>\n      <td>0.0</td>\n      <td>0</td>\n      <td>no_condition_diagnosis</td>\n      <td>no_condition_type_diagnosis</td>\n    </tr>\n    <tr>\n      <th>1</th>\n      <td>100001</td>\n      <td>1</td>\n      <td>0.0</td>\n      <td>0</td>\n      <td>no_condition_diagnosis</td>\n      <td>no_condition_type_diagnosis</td>\n    </tr>\n    <tr>\n      <th>2</th>\n      <td>100001</td>\n      <td>2</td>\n      <td>0.0</td>\n      <td>0</td>\n      <td>no_condition_diagnosis</td>\n      <td>no_condition_type_diagnosis</td>\n    </tr>\n    <tr>\n      <th>3</th>\n      <td>100001</td>\n      <td>3</td>\n      <td>0.0</td>\n      <td>0</td>\n      <td>no_condition_diagnosis</td>\n      <td>no_condition_type_diagnosis</td>\n    </tr>\n    <tr>\n      <th>4</th>\n      <td>100001</td>\n      <td>4</td>\n      <td>0.0</td>\n      <td>0</td>\n      <td>no_condition_diagnosis</td>\n      <td>no_condition_type_diagnosis</td>\n    </tr>\n    <tr>\n      <th>...</th>\n      <td>...</td>\n      <td>...</td>\n      <td>...</td>\n      <td>...</td>\n      <td>...</td>\n      <td>...</td>\n    </tr>\n    <tr>\n      <th>886799</th>\n      <td>99999</td>\n      <td>5</td>\n      <td>0.0</td>\n      <td>0</td>\n      <td>no_condition_diagnosis</td>\n      <td>no_condition_type_diagnosis</td>\n    </tr>\n    <tr>\n      <th>886803</th>\n      <td>99999</td>\n      <td>3</td>\n      <td>0.0</td>\n      <td>0</td>\n      <td>no_condition_diagnosis</td>\n      <td>no_condition_type_diagnosis</td>\n    </tr>\n    <tr>\n      <th>886804</th>\n      <td>99999</td>\n      <td>4</td>\n      <td>1306.0</td>\n      <td>13</td>\n      <td>Other_condition</td>\n      <td>Endocrine</td>\n    </tr>\n    <tr>\n      <th>886808</th>\n      <td>99999</td>\n      <td>2</td>\n      <td>1627.0</td>\n      <td>16</td>\n      <td>Other_condition</td>\n      <td>Infection/Parasites</td>\n    </tr>\n    <tr>\n      <th>886812</th>\n      <td>99999</td>\n      <td>0</td>\n      <td>1634.0</td>\n      <td>16</td>\n      <td>Other_condition</td>\n      <td>Infection/Parasites</td>\n    </tr>\n  </tbody>\n</table>\n<p>302959 rows × 6 columns</p>\n</div>"
     },
     "execution_count": 578,
     "metadata": {},
     "output_type": "execute_result"
    }
   ],
   "source": [
    "extended_df['condition'] = extended_df['hs_condition'].map(hs_condition_mapping).fillna('Other_condition')\n",
    "extended_df['condition_type'] = extended_df['hs_condition_type'].map(hs_condition_type_mapping)\n",
    "extended_df"
   ],
   "metadata": {
    "collapsed": false
   }
  },
  {
   "cell_type": "code",
   "execution_count": 589,
   "outputs": [
    {
     "data": {
      "text/plain": "        dog_id  age_diagnosis_years               condition_type\n0       100001                    0  no_condition_type_diagnosis\n1       100001                    1  no_condition_type_diagnosis\n2       100001                    2  no_condition_type_diagnosis\n3       100001                    3  no_condition_type_diagnosis\n4       100001                    4  no_condition_type_diagnosis\n...        ...                  ...                          ...\n886799   99999                    5  no_condition_type_diagnosis\n886803   99999                    3  no_condition_type_diagnosis\n886804   99999                    4                    Endocrine\n886808   99999                    2          Infection/Parasites\n886812   99999                    0          Infection/Parasites\n\n[302959 rows x 3 columns]",
      "text/html": "<div>\n<style scoped>\n    .dataframe tbody tr th:only-of-type {\n        vertical-align: middle;\n    }\n\n    .dataframe tbody tr th {\n        vertical-align: top;\n    }\n\n    .dataframe thead th {\n        text-align: right;\n    }\n</style>\n<table border=\"1\" class=\"dataframe\">\n  <thead>\n    <tr style=\"text-align: right;\">\n      <th></th>\n      <th>dog_id</th>\n      <th>age_diagnosis_years</th>\n      <th>condition_type</th>\n    </tr>\n  </thead>\n  <tbody>\n    <tr>\n      <th>0</th>\n      <td>100001</td>\n      <td>0</td>\n      <td>no_condition_type_diagnosis</td>\n    </tr>\n    <tr>\n      <th>1</th>\n      <td>100001</td>\n      <td>1</td>\n      <td>no_condition_type_diagnosis</td>\n    </tr>\n    <tr>\n      <th>2</th>\n      <td>100001</td>\n      <td>2</td>\n      <td>no_condition_type_diagnosis</td>\n    </tr>\n    <tr>\n      <th>3</th>\n      <td>100001</td>\n      <td>3</td>\n      <td>no_condition_type_diagnosis</td>\n    </tr>\n    <tr>\n      <th>4</th>\n      <td>100001</td>\n      <td>4</td>\n      <td>no_condition_type_diagnosis</td>\n    </tr>\n    <tr>\n      <th>...</th>\n      <td>...</td>\n      <td>...</td>\n      <td>...</td>\n    </tr>\n    <tr>\n      <th>886799</th>\n      <td>99999</td>\n      <td>5</td>\n      <td>no_condition_type_diagnosis</td>\n    </tr>\n    <tr>\n      <th>886803</th>\n      <td>99999</td>\n      <td>3</td>\n      <td>no_condition_type_diagnosis</td>\n    </tr>\n    <tr>\n      <th>886804</th>\n      <td>99999</td>\n      <td>4</td>\n      <td>Endocrine</td>\n    </tr>\n    <tr>\n      <th>886808</th>\n      <td>99999</td>\n      <td>2</td>\n      <td>Infection/Parasites</td>\n    </tr>\n    <tr>\n      <th>886812</th>\n      <td>99999</td>\n      <td>0</td>\n      <td>Infection/Parasites</td>\n    </tr>\n  </tbody>\n</table>\n<p>302959 rows × 3 columns</p>\n</div>"
     },
     "execution_count": 589,
     "metadata": {},
     "output_type": "execute_result"
    }
   ],
   "source": [
    "extended_df[['dog_id', 'age_diagnosis_years', 'condition_type']]"
   ],
   "metadata": {
    "collapsed": false
   }
  },
  {
   "cell_type": "code",
   "execution_count": 582,
   "outputs": [
    {
     "data": {
      "text/plain": "<pandas.core.groupby.generic.DataFrameGroupBy object at 0x1290bfe90>"
     },
     "execution_count": 582,
     "metadata": {},
     "output_type": "execute_result"
    }
   ],
   "source": [
    "ext_group_dog_id = extended_df.groupby('dog_id')\n",
    "ext_group_dog_id"
   ],
   "metadata": {
    "collapsed": false
   }
  },
  {
   "cell_type": "code",
   "execution_count": 579,
   "outputs": [
    {
     "data": {
      "text/plain": "hs_condition\n0.0       212687\n304.0       4865\n305.0       4461\n1801.0      3496\n202.0       2296\n           ...  \n701.0          1\n1201.0         1\n903.0          1\n1402.0         1\n422.0          1\nName: count, Length: 314, dtype: int64"
     },
     "execution_count": 579,
     "metadata": {},
     "output_type": "execute_result"
    }
   ],
   "source": [
    "extended_df['hs_condition'].value_counts()"
   ],
   "metadata": {
    "collapsed": false
   }
  },
  {
   "cell_type": "code",
   "execution_count": 583,
   "outputs": [
    {
     "data": {
      "text/plain": "        dog_id  age_diagnosis_years  \\\n0       100001                    0   \n1       100001                    1   \n2       100001                    2   \n3       100001                    3   \n4       100001                    4   \n...        ...                  ...   \n886799   99999                    5   \n886803   99999                    3   \n886804   99999                    4   \n886808   99999                    2   \n886812   99999                    0   \n\n        condition_Bordetella and/or parainfluenza(\"kennel cough\")  \\\n0                                                   False           \n1                                                   False           \n2                                                   False           \n3                                                   False           \n4                                                   False           \n...                                                   ...           \n886799                                              False           \n886803                                              False           \n886804                                              False           \n886808                                              False           \n886812                                              False           \n\n        condition_Cataracts  condition_Chocolate  \\\n0                     False                False   \n1                     False                False   \n2                     False                False   \n3                     False                False   \n4                     False                False   \n...                     ...                  ...   \n886799                False                False   \n886803                False                False   \n886804                False                False   \n886808                False                False   \n886812                False                False   \n\n        condition_Cruciate ligament rupture  \\\n0                                     False   \n1                                     False   \n2                                     False   \n3                                     False   \n4                                     False   \n...                                     ...   \n886799                                False   \n886803                                False   \n886804                                False   \n886808                                False   \n886812                                False   \n\n        condition_Dental calculus (yellow build-upon teeth  \\\n0                                                   False    \n1                                                   False    \n2                                                   False    \n3                                                   False    \n4                                                   False    \n...                                                   ...    \n886799                                              False    \n886803                                              False    \n886804                                              False    \n886808                                              False    \n886812                                              False    \n\n        condition_Ear Infection  condition_Extracted teeth  \\\n0                         False                      False   \n1                         False                      False   \n2                         False                      False   \n3                         False                      False   \n4                         False                      False   \n...                         ...                        ...   \n886799                    False                      False   \n886803                    False                      False   \n886804                    False                      False   \n886808                    False                      False   \n886812                    False                      False   \n\n        condition_Food or medicine allergies that affect the skin  ...  \\\n0                                                   False          ...   \n1                                                   False          ...   \n2                                                   False          ...   \n3                                                   False          ...   \n4                                                   False          ...   \n...                                                   ...          ...   \n886799                                              False          ...   \n886803                                              False          ...   \n886804                                              False          ...   \n886808                                              False          ...   \n886812                                              False          ...   \n\n        condition_Murmur  condition_Osteoarthritis  condition_Other_condition  \\\n0                  False                     False                      False   \n1                  False                     False                      False   \n2                  False                     False                      False   \n3                  False                     False                      False   \n4                  False                     False                      False   \n...                  ...                       ...                        ...   \n886799             False                     False                      False   \n886803             False                     False                      False   \n886804             False                     False                       True   \n886808             False                     False                       True   \n886812             False                     False                       True   \n\n        condition_Pruritis (itchy skin)  condition_Seasonal allergies  \\\n0                                 False                         False   \n1                                 False                         False   \n2                                 False                         False   \n3                                 False                         False   \n4                                 False                         False   \n...                                 ...                           ...   \n886799                            False                         False   \n886803                            False                         False   \n886804                            False                         False   \n886808                            False                         False   \n886812                            False                         False   \n\n        condition_Sebaceous cysts  condition_Snakebite  \\\n0                           False                False   \n1                           False                False   \n2                           False                False   \n3                           False                False   \n4                           False                False   \n...                           ...                  ...   \n886799                      False                False   \n886803                      False                False   \n886804                      False                False   \n886808                      False                False   \n886812                      False                False   \n\n        condition_Torn or broken toenail  condition_Trauma  \\\n0                                  False             False   \n1                                  False             False   \n2                                  False             False   \n3                                  False             False   \n4                                  False             False   \n...                                  ...               ...   \n886799                             False             False   \n886803                             False             False   \n886804                             False             False   \n886808                             False             False   \n886812                             False             False   \n\n        condition_no_condition_diagnosis  \n0                                   True  \n1                                   True  \n2                                   True  \n3                                   True  \n4                                   True  \n...                                  ...  \n886799                              True  \n886803                              True  \n886804                             False  \n886808                             False  \n886812                             False  \n\n[302959 rows x 24 columns]",
      "text/html": "<div>\n<style scoped>\n    .dataframe tbody tr th:only-of-type {\n        vertical-align: middle;\n    }\n\n    .dataframe tbody tr th {\n        vertical-align: top;\n    }\n\n    .dataframe thead th {\n        text-align: right;\n    }\n</style>\n<table border=\"1\" class=\"dataframe\">\n  <thead>\n    <tr style=\"text-align: right;\">\n      <th></th>\n      <th>dog_id</th>\n      <th>age_diagnosis_years</th>\n      <th>condition_Bordetella and/or parainfluenza(\"kennel cough\")</th>\n      <th>condition_Cataracts</th>\n      <th>condition_Chocolate</th>\n      <th>condition_Cruciate ligament rupture</th>\n      <th>condition_Dental calculus (yellow build-upon teeth</th>\n      <th>condition_Ear Infection</th>\n      <th>condition_Extracted teeth</th>\n      <th>condition_Food or medicine allergies that affect the skin</th>\n      <th>...</th>\n      <th>condition_Murmur</th>\n      <th>condition_Osteoarthritis</th>\n      <th>condition_Other_condition</th>\n      <th>condition_Pruritis (itchy skin)</th>\n      <th>condition_Seasonal allergies</th>\n      <th>condition_Sebaceous cysts</th>\n      <th>condition_Snakebite</th>\n      <th>condition_Torn or broken toenail</th>\n      <th>condition_Trauma</th>\n      <th>condition_no_condition_diagnosis</th>\n    </tr>\n  </thead>\n  <tbody>\n    <tr>\n      <th>0</th>\n      <td>100001</td>\n      <td>0</td>\n      <td>False</td>\n      <td>False</td>\n      <td>False</td>\n      <td>False</td>\n      <td>False</td>\n      <td>False</td>\n      <td>False</td>\n      <td>False</td>\n      <td>...</td>\n      <td>False</td>\n      <td>False</td>\n      <td>False</td>\n      <td>False</td>\n      <td>False</td>\n      <td>False</td>\n      <td>False</td>\n      <td>False</td>\n      <td>False</td>\n      <td>True</td>\n    </tr>\n    <tr>\n      <th>1</th>\n      <td>100001</td>\n      <td>1</td>\n      <td>False</td>\n      <td>False</td>\n      <td>False</td>\n      <td>False</td>\n      <td>False</td>\n      <td>False</td>\n      <td>False</td>\n      <td>False</td>\n      <td>...</td>\n      <td>False</td>\n      <td>False</td>\n      <td>False</td>\n      <td>False</td>\n      <td>False</td>\n      <td>False</td>\n      <td>False</td>\n      <td>False</td>\n      <td>False</td>\n      <td>True</td>\n    </tr>\n    <tr>\n      <th>2</th>\n      <td>100001</td>\n      <td>2</td>\n      <td>False</td>\n      <td>False</td>\n      <td>False</td>\n      <td>False</td>\n      <td>False</td>\n      <td>False</td>\n      <td>False</td>\n      <td>False</td>\n      <td>...</td>\n      <td>False</td>\n      <td>False</td>\n      <td>False</td>\n      <td>False</td>\n      <td>False</td>\n      <td>False</td>\n      <td>False</td>\n      <td>False</td>\n      <td>False</td>\n      <td>True</td>\n    </tr>\n    <tr>\n      <th>3</th>\n      <td>100001</td>\n      <td>3</td>\n      <td>False</td>\n      <td>False</td>\n      <td>False</td>\n      <td>False</td>\n      <td>False</td>\n      <td>False</td>\n      <td>False</td>\n      <td>False</td>\n      <td>...</td>\n      <td>False</td>\n      <td>False</td>\n      <td>False</td>\n      <td>False</td>\n      <td>False</td>\n      <td>False</td>\n      <td>False</td>\n      <td>False</td>\n      <td>False</td>\n      <td>True</td>\n    </tr>\n    <tr>\n      <th>4</th>\n      <td>100001</td>\n      <td>4</td>\n      <td>False</td>\n      <td>False</td>\n      <td>False</td>\n      <td>False</td>\n      <td>False</td>\n      <td>False</td>\n      <td>False</td>\n      <td>False</td>\n      <td>...</td>\n      <td>False</td>\n      <td>False</td>\n      <td>False</td>\n      <td>False</td>\n      <td>False</td>\n      <td>False</td>\n      <td>False</td>\n      <td>False</td>\n      <td>False</td>\n      <td>True</td>\n    </tr>\n    <tr>\n      <th>...</th>\n      <td>...</td>\n      <td>...</td>\n      <td>...</td>\n      <td>...</td>\n      <td>...</td>\n      <td>...</td>\n      <td>...</td>\n      <td>...</td>\n      <td>...</td>\n      <td>...</td>\n      <td>...</td>\n      <td>...</td>\n      <td>...</td>\n      <td>...</td>\n      <td>...</td>\n      <td>...</td>\n      <td>...</td>\n      <td>...</td>\n      <td>...</td>\n      <td>...</td>\n      <td>...</td>\n    </tr>\n    <tr>\n      <th>886799</th>\n      <td>99999</td>\n      <td>5</td>\n      <td>False</td>\n      <td>False</td>\n      <td>False</td>\n      <td>False</td>\n      <td>False</td>\n      <td>False</td>\n      <td>False</td>\n      <td>False</td>\n      <td>...</td>\n      <td>False</td>\n      <td>False</td>\n      <td>False</td>\n      <td>False</td>\n      <td>False</td>\n      <td>False</td>\n      <td>False</td>\n      <td>False</td>\n      <td>False</td>\n      <td>True</td>\n    </tr>\n    <tr>\n      <th>886803</th>\n      <td>99999</td>\n      <td>3</td>\n      <td>False</td>\n      <td>False</td>\n      <td>False</td>\n      <td>False</td>\n      <td>False</td>\n      <td>False</td>\n      <td>False</td>\n      <td>False</td>\n      <td>...</td>\n      <td>False</td>\n      <td>False</td>\n      <td>False</td>\n      <td>False</td>\n      <td>False</td>\n      <td>False</td>\n      <td>False</td>\n      <td>False</td>\n      <td>False</td>\n      <td>True</td>\n    </tr>\n    <tr>\n      <th>886804</th>\n      <td>99999</td>\n      <td>4</td>\n      <td>False</td>\n      <td>False</td>\n      <td>False</td>\n      <td>False</td>\n      <td>False</td>\n      <td>False</td>\n      <td>False</td>\n      <td>False</td>\n      <td>...</td>\n      <td>False</td>\n      <td>False</td>\n      <td>True</td>\n      <td>False</td>\n      <td>False</td>\n      <td>False</td>\n      <td>False</td>\n      <td>False</td>\n      <td>False</td>\n      <td>False</td>\n    </tr>\n    <tr>\n      <th>886808</th>\n      <td>99999</td>\n      <td>2</td>\n      <td>False</td>\n      <td>False</td>\n      <td>False</td>\n      <td>False</td>\n      <td>False</td>\n      <td>False</td>\n      <td>False</td>\n      <td>False</td>\n      <td>...</td>\n      <td>False</td>\n      <td>False</td>\n      <td>True</td>\n      <td>False</td>\n      <td>False</td>\n      <td>False</td>\n      <td>False</td>\n      <td>False</td>\n      <td>False</td>\n      <td>False</td>\n    </tr>\n    <tr>\n      <th>886812</th>\n      <td>99999</td>\n      <td>0</td>\n      <td>False</td>\n      <td>False</td>\n      <td>False</td>\n      <td>False</td>\n      <td>False</td>\n      <td>False</td>\n      <td>False</td>\n      <td>False</td>\n      <td>...</td>\n      <td>False</td>\n      <td>False</td>\n      <td>True</td>\n      <td>False</td>\n      <td>False</td>\n      <td>False</td>\n      <td>False</td>\n      <td>False</td>\n      <td>False</td>\n      <td>False</td>\n    </tr>\n  </tbody>\n</table>\n<p>302959 rows × 24 columns</p>\n</div>"
     },
     "execution_count": 583,
     "metadata": {},
     "output_type": "execute_result"
    }
   ],
   "source": [
    "age_condition = extended_df[['dog_id', 'age_diagnosis_years', 'condition']]\n",
    "\n",
    "onehot_enc_condition = pd.get_dummies(age_condition['condition'], prefix='condition')\n",
    "\n",
    "# Concatenate the one-hot encoded DataFrame with the original DataFrame\n",
    "age_condition = pd.concat([age_condition, onehot_enc_condition], axis=1)\n",
    "\n",
    "# Drop the original 'condition' column since it has been one-hot encoded\n",
    "age_condition = age_condition.drop('condition', axis=1)\n",
    "age_condition"
   ],
   "metadata": {
    "collapsed": false
   }
  },
  {
   "cell_type": "code",
   "execution_count": 585,
   "outputs": [
    {
     "data": {
      "text/plain": "Index(['dog_id', 'age_diagnosis_years',\n       'condition_Bordetella and/or parainfluenza(\"kennel cough\")',\n       'condition_Cataracts', 'condition_Chocolate',\n       'condition_Cruciate ligament rupture',\n       'condition_Dental calculus (yellow build-upon teeth',\n       'condition_Ear Infection', 'condition_Extracted teeth',\n       'condition_Food or medicine allergies that affect the skin',\n       'condition_Fractured teeth', 'condition_Giardia',\n       'condition_Gingivitis (red, puffy gums)',\n       'condition_Kicked by horse or other large animal', 'condition_Murmur',\n       'condition_Osteoarthritis', 'condition_Other_condition',\n       'condition_Pruritis (itchy skin)', 'condition_Seasonal allergies',\n       'condition_Sebaceous cysts', 'condition_Snakebite',\n       'condition_Torn or broken toenail', 'condition_Trauma',\n       'condition_no_condition_diagnosis'],\n      dtype='object')"
     },
     "execution_count": 585,
     "metadata": {},
     "output_type": "execute_result"
    }
   ],
   "source": [
    "age_condition.columns"
   ],
   "metadata": {
    "collapsed": false
   }
  },
  {
   "cell_type": "code",
   "execution_count": 438,
   "outputs": [],
   "source": [
    "age_condition.to_pickle('../Common_Code/features/age_condition.pkl')\n",
    "age_condition.to_csv('../Common_Code/features/age_condition.csv', index=False)"
   ],
   "metadata": {
    "collapsed": false
   }
  },
  {
   "cell_type": "code",
   "execution_count": 439,
   "outputs": [
    {
     "data": {
      "text/plain": "        dog_id  age_diagnosis_years  condition_type_Bone/Orthopedic  \\\n0       100001                    0                           False   \n1       100001                    1                           False   \n2       100001                    2                           False   \n3       100001                    3                           False   \n4       100001                    4                           False   \n...        ...                  ...                             ...   \n886577   99999                    5                           False   \n886581   99999                    3                           False   \n886582   99999                    4                           False   \n886586   99999                    2                           False   \n886590   99999                    0                           False   \n\n        condition_type_Brain/Neurologic  condition_type_Cardiac  \\\n0                                 False                   False   \n1                                 False                   False   \n2                                 False                   False   \n3                                 False                   False   \n4                                 False                   False   \n...                                 ...                     ...   \n886577                            False                   False   \n886581                            False                   False   \n886582                            False                   False   \n886586                            False                   False   \n886590                            False                   False   \n\n        condition_type_Ear/Nose/Throat  condition_type_Endocrine  \\\n0                                False                     False   \n1                                False                     False   \n2                                False                     False   \n3                                False                     False   \n4                                False                     False   \n...                                ...                       ...   \n886577                           False                     False   \n886581                           False                     False   \n886582                           False                      True   \n886586                           False                     False   \n886590                           False                     False   \n\n        condition_type_Eye  condition_type_Gastrointestinal  \\\n0                    False                            False   \n1                    False                            False   \n2                    False                            False   \n3                    False                            False   \n4                    False                            False   \n...                    ...                              ...   \n886577               False                            False   \n886581               False                            False   \n886582               False                            False   \n886586               False                            False   \n886590               False                            False   \n\n        condition_type_Hematopoietic  ...  condition_type_Kidney/Urinary  \\\n0                              False  ...                          False   \n1                              False  ...                          False   \n2                              False  ...                          False   \n3                              False  ...                          False   \n4                              False  ...                          False   \n...                              ...  ...                            ...   \n886577                         False  ...                          False   \n886581                         False  ...                          False   \n886582                         False  ...                          False   \n886586                         False  ...                          False   \n886590                         False  ...                          False   \n\n        condition_type_Liver/Pancreas  condition_type_Mouth/Dental/Oral  \\\n0                               False                             False   \n1                               False                             False   \n2                               False                             False   \n3                               False                             False   \n4                               False                             False   \n...                               ...                               ...   \n886577                          False                             False   \n886581                          False                             False   \n886582                          False                             False   \n886586                          False                             False   \n886590                          False                             False   \n\n        condition_type_Other Congenital Disorder  condition_type_Reproductive  \\\n0                                          False                        False   \n1                                          False                        False   \n2                                          False                        False   \n3                                          False                        False   \n4                                          False                        False   \n...                                          ...                          ...   \n886577                                     False                        False   \n886581                                     False                        False   \n886582                                     False                        False   \n886586                                     False                        False   \n886590                                     False                        False   \n\n        condition_type_Respiratory  condition_type_Skin  \\\n0                            False                False   \n1                            False                False   \n2                            False                False   \n3                            False                False   \n4                            False                False   \n...                            ...                  ...   \n886577                       False                False   \n886581                       False                False   \n886582                       False                False   \n886586                       False                False   \n886590                       False                False   \n\n        condition_type_Toxin Consumption  condition_type_Trauma  \\\n0                                  False                  False   \n1                                  False                  False   \n2                                  False                  False   \n3                                  False                  False   \n4                                  False                  False   \n...                                  ...                    ...   \n886577                             False                  False   \n886581                             False                  False   \n886582                             False                  False   \n886586                             False                  False   \n886590                             False                  False   \n\n        condition_type_no_condition_type_diagnosis  \n0                                             True  \n1                                             True  \n2                                             True  \n3                                             True  \n4                                             True  \n...                                            ...  \n886577                                        True  \n886581                                        True  \n886582                                       False  \n886586                                       False  \n886590                                       False  \n\n[302922 rows x 22 columns]",
      "text/html": "<div>\n<style scoped>\n    .dataframe tbody tr th:only-of-type {\n        vertical-align: middle;\n    }\n\n    .dataframe tbody tr th {\n        vertical-align: top;\n    }\n\n    .dataframe thead th {\n        text-align: right;\n    }\n</style>\n<table border=\"1\" class=\"dataframe\">\n  <thead>\n    <tr style=\"text-align: right;\">\n      <th></th>\n      <th>dog_id</th>\n      <th>age_diagnosis_years</th>\n      <th>condition_type_Bone/Orthopedic</th>\n      <th>condition_type_Brain/Neurologic</th>\n      <th>condition_type_Cardiac</th>\n      <th>condition_type_Ear/Nose/Throat</th>\n      <th>condition_type_Endocrine</th>\n      <th>condition_type_Eye</th>\n      <th>condition_type_Gastrointestinal</th>\n      <th>condition_type_Hematopoietic</th>\n      <th>...</th>\n      <th>condition_type_Kidney/Urinary</th>\n      <th>condition_type_Liver/Pancreas</th>\n      <th>condition_type_Mouth/Dental/Oral</th>\n      <th>condition_type_Other Congenital Disorder</th>\n      <th>condition_type_Reproductive</th>\n      <th>condition_type_Respiratory</th>\n      <th>condition_type_Skin</th>\n      <th>condition_type_Toxin Consumption</th>\n      <th>condition_type_Trauma</th>\n      <th>condition_type_no_condition_type_diagnosis</th>\n    </tr>\n  </thead>\n  <tbody>\n    <tr>\n      <th>0</th>\n      <td>100001</td>\n      <td>0</td>\n      <td>False</td>\n      <td>False</td>\n      <td>False</td>\n      <td>False</td>\n      <td>False</td>\n      <td>False</td>\n      <td>False</td>\n      <td>False</td>\n      <td>...</td>\n      <td>False</td>\n      <td>False</td>\n      <td>False</td>\n      <td>False</td>\n      <td>False</td>\n      <td>False</td>\n      <td>False</td>\n      <td>False</td>\n      <td>False</td>\n      <td>True</td>\n    </tr>\n    <tr>\n      <th>1</th>\n      <td>100001</td>\n      <td>1</td>\n      <td>False</td>\n      <td>False</td>\n      <td>False</td>\n      <td>False</td>\n      <td>False</td>\n      <td>False</td>\n      <td>False</td>\n      <td>False</td>\n      <td>...</td>\n      <td>False</td>\n      <td>False</td>\n      <td>False</td>\n      <td>False</td>\n      <td>False</td>\n      <td>False</td>\n      <td>False</td>\n      <td>False</td>\n      <td>False</td>\n      <td>True</td>\n    </tr>\n    <tr>\n      <th>2</th>\n      <td>100001</td>\n      <td>2</td>\n      <td>False</td>\n      <td>False</td>\n      <td>False</td>\n      <td>False</td>\n      <td>False</td>\n      <td>False</td>\n      <td>False</td>\n      <td>False</td>\n      <td>...</td>\n      <td>False</td>\n      <td>False</td>\n      <td>False</td>\n      <td>False</td>\n      <td>False</td>\n      <td>False</td>\n      <td>False</td>\n      <td>False</td>\n      <td>False</td>\n      <td>True</td>\n    </tr>\n    <tr>\n      <th>3</th>\n      <td>100001</td>\n      <td>3</td>\n      <td>False</td>\n      <td>False</td>\n      <td>False</td>\n      <td>False</td>\n      <td>False</td>\n      <td>False</td>\n      <td>False</td>\n      <td>False</td>\n      <td>...</td>\n      <td>False</td>\n      <td>False</td>\n      <td>False</td>\n      <td>False</td>\n      <td>False</td>\n      <td>False</td>\n      <td>False</td>\n      <td>False</td>\n      <td>False</td>\n      <td>True</td>\n    </tr>\n    <tr>\n      <th>4</th>\n      <td>100001</td>\n      <td>4</td>\n      <td>False</td>\n      <td>False</td>\n      <td>False</td>\n      <td>False</td>\n      <td>False</td>\n      <td>False</td>\n      <td>False</td>\n      <td>False</td>\n      <td>...</td>\n      <td>False</td>\n      <td>False</td>\n      <td>False</td>\n      <td>False</td>\n      <td>False</td>\n      <td>False</td>\n      <td>False</td>\n      <td>False</td>\n      <td>False</td>\n      <td>True</td>\n    </tr>\n    <tr>\n      <th>...</th>\n      <td>...</td>\n      <td>...</td>\n      <td>...</td>\n      <td>...</td>\n      <td>...</td>\n      <td>...</td>\n      <td>...</td>\n      <td>...</td>\n      <td>...</td>\n      <td>...</td>\n      <td>...</td>\n      <td>...</td>\n      <td>...</td>\n      <td>...</td>\n      <td>...</td>\n      <td>...</td>\n      <td>...</td>\n      <td>...</td>\n      <td>...</td>\n      <td>...</td>\n      <td>...</td>\n    </tr>\n    <tr>\n      <th>886577</th>\n      <td>99999</td>\n      <td>5</td>\n      <td>False</td>\n      <td>False</td>\n      <td>False</td>\n      <td>False</td>\n      <td>False</td>\n      <td>False</td>\n      <td>False</td>\n      <td>False</td>\n      <td>...</td>\n      <td>False</td>\n      <td>False</td>\n      <td>False</td>\n      <td>False</td>\n      <td>False</td>\n      <td>False</td>\n      <td>False</td>\n      <td>False</td>\n      <td>False</td>\n      <td>True</td>\n    </tr>\n    <tr>\n      <th>886581</th>\n      <td>99999</td>\n      <td>3</td>\n      <td>False</td>\n      <td>False</td>\n      <td>False</td>\n      <td>False</td>\n      <td>False</td>\n      <td>False</td>\n      <td>False</td>\n      <td>False</td>\n      <td>...</td>\n      <td>False</td>\n      <td>False</td>\n      <td>False</td>\n      <td>False</td>\n      <td>False</td>\n      <td>False</td>\n      <td>False</td>\n      <td>False</td>\n      <td>False</td>\n      <td>True</td>\n    </tr>\n    <tr>\n      <th>886582</th>\n      <td>99999</td>\n      <td>4</td>\n      <td>False</td>\n      <td>False</td>\n      <td>False</td>\n      <td>False</td>\n      <td>True</td>\n      <td>False</td>\n      <td>False</td>\n      <td>False</td>\n      <td>...</td>\n      <td>False</td>\n      <td>False</td>\n      <td>False</td>\n      <td>False</td>\n      <td>False</td>\n      <td>False</td>\n      <td>False</td>\n      <td>False</td>\n      <td>False</td>\n      <td>False</td>\n    </tr>\n    <tr>\n      <th>886586</th>\n      <td>99999</td>\n      <td>2</td>\n      <td>False</td>\n      <td>False</td>\n      <td>False</td>\n      <td>False</td>\n      <td>False</td>\n      <td>False</td>\n      <td>False</td>\n      <td>False</td>\n      <td>...</td>\n      <td>False</td>\n      <td>False</td>\n      <td>False</td>\n      <td>False</td>\n      <td>False</td>\n      <td>False</td>\n      <td>False</td>\n      <td>False</td>\n      <td>False</td>\n      <td>False</td>\n    </tr>\n    <tr>\n      <th>886590</th>\n      <td>99999</td>\n      <td>0</td>\n      <td>False</td>\n      <td>False</td>\n      <td>False</td>\n      <td>False</td>\n      <td>False</td>\n      <td>False</td>\n      <td>False</td>\n      <td>False</td>\n      <td>...</td>\n      <td>False</td>\n      <td>False</td>\n      <td>False</td>\n      <td>False</td>\n      <td>False</td>\n      <td>False</td>\n      <td>False</td>\n      <td>False</td>\n      <td>False</td>\n      <td>False</td>\n    </tr>\n  </tbody>\n</table>\n<p>302922 rows × 22 columns</p>\n</div>"
     },
     "execution_count": 439,
     "metadata": {},
     "output_type": "execute_result"
    }
   ],
   "source": [
    "age_condition_type = extended_df[['dog_id', 'age_diagnosis_years', 'condition_type']]\n",
    "\n",
    "onehot_enc_condition = pd.get_dummies(age_condition_type['condition_type'], prefix='condition_type')\n",
    "\n",
    "# Concatenate the one-hot encoded DataFrame with the original DataFrame\n",
    "age_condition_type = pd.concat([age_condition_type, onehot_enc_condition], axis=1)\n",
    "\n",
    "# Drop the original 'condition' column since it has been one-hot encoded\n",
    "age_condition_type = age_condition_type.drop('condition_type', axis=1)\n",
    "age_condition_type"
   ],
   "metadata": {
    "collapsed": false
   }
  },
  {
   "cell_type": "code",
   "execution_count": 440,
   "outputs": [],
   "source": [
    "age_condition_type.to_pickle('../Common_Code/features/age_condition_type.pkl')\n",
    "age_condition_type.to_csv('../Common_Code/features/age_condition_type.csv', index=False)"
   ],
   "metadata": {
    "collapsed": false
   }
  },
  {
   "cell_type": "code",
   "execution_count": 441,
   "outputs": [
    {
     "data": {
      "text/plain": "        dog_id  age_diagnosis_years  condition_type_Bone/Orthopedic  \\\n0       100001                    0                           False   \n1       100001                    1                           False   \n2       100001                    2                           False   \n3       100001                    3                           False   \n4       100001                    4                           False   \n...        ...                  ...                             ...   \n886577   99999                    5                           False   \n886581   99999                    3                           False   \n886582   99999                    4                           False   \n886586   99999                    2                           False   \n886590   99999                    0                           False   \n\n        condition_type_Bone/Orthopedic  \n0                                False  \n1                                False  \n2                                False  \n3                                False  \n4                                False  \n...                                ...  \n886577                           False  \n886581                           False  \n886582                           False  \n886586                           False  \n886590                           False  \n\n[302922 rows x 4 columns]",
      "text/html": "<div>\n<style scoped>\n    .dataframe tbody tr th:only-of-type {\n        vertical-align: middle;\n    }\n\n    .dataframe tbody tr th {\n        vertical-align: top;\n    }\n\n    .dataframe thead th {\n        text-align: right;\n    }\n</style>\n<table border=\"1\" class=\"dataframe\">\n  <thead>\n    <tr style=\"text-align: right;\">\n      <th></th>\n      <th>dog_id</th>\n      <th>age_diagnosis_years</th>\n      <th>condition_type_Bone/Orthopedic</th>\n      <th>condition_type_Bone/Orthopedic</th>\n    </tr>\n  </thead>\n  <tbody>\n    <tr>\n      <th>0</th>\n      <td>100001</td>\n      <td>0</td>\n      <td>False</td>\n      <td>False</td>\n    </tr>\n    <tr>\n      <th>1</th>\n      <td>100001</td>\n      <td>1</td>\n      <td>False</td>\n      <td>False</td>\n    </tr>\n    <tr>\n      <th>2</th>\n      <td>100001</td>\n      <td>2</td>\n      <td>False</td>\n      <td>False</td>\n    </tr>\n    <tr>\n      <th>3</th>\n      <td>100001</td>\n      <td>3</td>\n      <td>False</td>\n      <td>False</td>\n    </tr>\n    <tr>\n      <th>4</th>\n      <td>100001</td>\n      <td>4</td>\n      <td>False</td>\n      <td>False</td>\n    </tr>\n    <tr>\n      <th>...</th>\n      <td>...</td>\n      <td>...</td>\n      <td>...</td>\n      <td>...</td>\n    </tr>\n    <tr>\n      <th>886577</th>\n      <td>99999</td>\n      <td>5</td>\n      <td>False</td>\n      <td>False</td>\n    </tr>\n    <tr>\n      <th>886581</th>\n      <td>99999</td>\n      <td>3</td>\n      <td>False</td>\n      <td>False</td>\n    </tr>\n    <tr>\n      <th>886582</th>\n      <td>99999</td>\n      <td>4</td>\n      <td>False</td>\n      <td>False</td>\n    </tr>\n    <tr>\n      <th>886586</th>\n      <td>99999</td>\n      <td>2</td>\n      <td>False</td>\n      <td>False</td>\n    </tr>\n    <tr>\n      <th>886590</th>\n      <td>99999</td>\n      <td>0</td>\n      <td>False</td>\n      <td>False</td>\n    </tr>\n  </tbody>\n</table>\n<p>302922 rows × 4 columns</p>\n</div>"
     },
     "execution_count": 441,
     "metadata": {},
     "output_type": "execute_result"
    }
   ],
   "source": [
    "age_condition_type[['dog_id', 'age_diagnosis_years', 'condition_type_Bone/Orthopedic', 'condition_type_Bone/Orthopedic']]"
   ],
   "metadata": {
    "collapsed": false
   }
  },
  {
   "cell_type": "code",
   "execution_count": 442,
   "outputs": [
    {
     "data": {
      "text/plain": "302922"
     },
     "execution_count": 442,
     "metadata": {},
     "output_type": "execute_result"
    }
   ],
   "source": [
    "age_condition_type['age_diagnosis_years'].value_counts().sum()"
   ],
   "metadata": {
    "collapsed": false
   }
  },
  {
   "cell_type": "code",
   "execution_count": null,
   "outputs": [],
   "source": [],
   "metadata": {
    "collapsed": false
   }
  }
 ],
 "metadata": {
  "kernelspec": {
   "display_name": "Python 3",
   "language": "python",
   "name": "python3"
  },
  "language_info": {
   "codemirror_mode": {
    "name": "ipython",
    "version": 2
   },
   "file_extension": ".py",
   "mimetype": "text/x-python",
   "name": "python",
   "nbconvert_exporter": "python",
   "pygments_lexer": "ipython2",
   "version": "2.7.6"
  }
 },
 "nbformat": 4,
 "nbformat_minor": 0
}
