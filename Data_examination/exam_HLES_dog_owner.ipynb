{
 "cells": [
  {
   "cell_type": "code",
   "execution_count": 2,
   "metadata": {
    "collapsed": true
   },
   "outputs": [],
   "source": [
    "import pandas as pd\n",
    "import os\n",
    "import numpy as np\n",
    "import matplotlib.pyplot as plt"
   ]
  },
  {
   "cell_type": "code",
   "execution_count": 21,
   "outputs": [],
   "source": [
    "file_path = '../Dataset/SurveyData/SurveyData_CSV_DAP_2021_HLES_dog_owner_v1.0.csv'"
   ],
   "metadata": {
    "collapsed": false
   }
  },
  {
   "cell_type": "code",
   "execution_count": 22,
   "outputs": [
    {
     "name": "stderr",
     "output_type": "stream",
     "text": [
      "/var/folders/zd/3_6frj8s08b9zb1f3y0xqr2r0000gn/T/ipykernel_45473/186637762.py:1: DtypeWarning: Columns (5,21,75,77,79,81,83,85,87,89,191,192,193,194,195,196,197,198,199,200,201,204,214,285,295,516,566) have mixed types. Specify dtype option on import or set low_memory=False.\n",
      "  df = pd.read_csv(file_path)\n"
     ]
    },
    {
     "data": {
      "text/plain": "       dog_id  owner_id st_hles_completion_date  dd_breed_pure_or_mixed  \\\n0       10509     14660              2020-10-17                       2   \n1       74227     16755              2020-10-26                       2   \n2       32487      8568              2020-09-07                       1   \n3       63150      5380              2020-08-21                       2   \n4       33369     15957              2020-10-23                       2   \n...       ...       ...                     ...                     ...   \n33167   91849     32736              2021-06-22                       2   \n33168   33783      9482              2020-09-15                       2   \n33169   98862     32312              2021-05-25                       2   \n33170   99462     32692              2021-06-18                       2   \n33171    6530     23713              2020-11-28                       2   \n\n       dd_breed_pure dd_breed_pure_non_akc  dd_breed_mixed_primary  \\\n0                NaN                   NaN                    16.0   \n1                NaN                   NaN                   133.0   \n2              159.0                   NaN                     NaN   \n3                NaN                   NaN                   999.0   \n4                NaN                   NaN                   230.0   \n...              ...                   ...                     ...   \n33167            NaN                   NaN                   276.0   \n33168            NaN                   NaN                   130.0   \n33169            NaN                   NaN                    60.0   \n33170            NaN                   NaN                   204.0   \n33171            NaN                   NaN                   261.0   \n\n       dd_breed_mixed_secondary  dd_age_years  dd_age_basis  ...  \\\n0                         999.0     16.333333             2  ...   \n1                          12.0      1.833333             1  ...   \n2                           NaN     13.000000             3  ...   \n3                         999.0     13.000000             3  ...   \n4                          82.0      2.166667             1  ...   \n...                         ...           ...           ...  ...   \n33167                       1.0     10.000000             3  ...   \n33168                     195.0      3.000000             3  ...   \n33169                      49.0      4.000000             3  ...   \n33170                      27.0      0.916667             1  ...   \n33171                     999.0     13.416667             2  ...   \n\n      oc_primary_residence_state oc_primary_residence_census_division  \\\n0                             MO                                  4.0   \n1                             MD                                  5.0   \n2                             VA                                  5.0   \n3                             CA                                  9.0   \n4                             OH                                  3.0   \n...                          ...                                  ...   \n33167                         CA                                  9.0   \n33168                         WA                                  9.0   \n33169                         AR                                  7.0   \n33170                         WA                                  9.0   \n33171                         IL                                  3.0   \n\n      oc_primary_residence_ownership  \\\n0                                  2   \n1                                  2   \n2                                  1   \n3                                  2   \n4                                  2   \n...                              ...   \n33167                              2   \n33168                              1   \n33169                              2   \n33170                              2   \n33171                              2   \n\n      oc_primary_residence_ownership_other_description  \\\n0                                                  NaN   \n1                                                  NaN   \n2                                                  NaN   \n3                                                  NaN   \n4                                                  NaN   \n...                                                ...   \n33167                                              NaN   \n33168                                              NaN   \n33169                                              NaN   \n33170                                              NaN   \n33171                                              NaN   \n\n      oc_primary_residence_time_percentage oc_secondary_residence  \\\n0                                      NaN                  False   \n1                                      NaN                  False   \n2                                      NaN                  False   \n3                                      NaN                  False   \n4                                      NaN                  False   \n...                                    ...                    ...   \n33167                                  5.0                   True   \n33168                                  NaN                  False   \n33169                                  NaN                  False   \n33170                                  NaN                  False   \n33171                                  NaN                  False   \n\n      oc_secondary_residence_state oc_secondary_residence_ownership  \\\n0                              NaN                              NaN   \n1                              NaN                              NaN   \n2                              NaN                              NaN   \n3                              NaN                              NaN   \n4                              NaN                              NaN   \n...                            ...                              ...   \n33167                           NH                              2.0   \n33168                          NaN                              NaN   \n33169                          NaN                              NaN   \n33170                          NaN                              NaN   \n33171                          NaN                              NaN   \n\n      oc_secondary_residence_ownership_other_description  \\\n0                                                    NaN   \n1                                                    NaN   \n2                                                    NaN   \n3                                                    NaN   \n4                                                    NaN   \n...                                                  ...   \n33167                                                NaN   \n33168                                                NaN   \n33169                                                NaN   \n33170                                                NaN   \n33171                                                NaN   \n\n      oc_secondary_residence_time_percentage  \n0                                        NaN  \n1                                        NaN  \n2                                        NaN  \n3                                        NaN  \n4                                        NaN  \n...                                      ...  \n33167                                    1.0  \n33168                                    NaN  \n33169                                    NaN  \n33170                                    NaN  \n33171                                    NaN  \n\n[33172 rows x 658 columns]",
      "text/html": "<div>\n<style scoped>\n    .dataframe tbody tr th:only-of-type {\n        vertical-align: middle;\n    }\n\n    .dataframe tbody tr th {\n        vertical-align: top;\n    }\n\n    .dataframe thead th {\n        text-align: right;\n    }\n</style>\n<table border=\"1\" class=\"dataframe\">\n  <thead>\n    <tr style=\"text-align: right;\">\n      <th></th>\n      <th>dog_id</th>\n      <th>owner_id</th>\n      <th>st_hles_completion_date</th>\n      <th>dd_breed_pure_or_mixed</th>\n      <th>dd_breed_pure</th>\n      <th>dd_breed_pure_non_akc</th>\n      <th>dd_breed_mixed_primary</th>\n      <th>dd_breed_mixed_secondary</th>\n      <th>dd_age_years</th>\n      <th>dd_age_basis</th>\n      <th>...</th>\n      <th>oc_primary_residence_state</th>\n      <th>oc_primary_residence_census_division</th>\n      <th>oc_primary_residence_ownership</th>\n      <th>oc_primary_residence_ownership_other_description</th>\n      <th>oc_primary_residence_time_percentage</th>\n      <th>oc_secondary_residence</th>\n      <th>oc_secondary_residence_state</th>\n      <th>oc_secondary_residence_ownership</th>\n      <th>oc_secondary_residence_ownership_other_description</th>\n      <th>oc_secondary_residence_time_percentage</th>\n    </tr>\n  </thead>\n  <tbody>\n    <tr>\n      <th>0</th>\n      <td>10509</td>\n      <td>14660</td>\n      <td>2020-10-17</td>\n      <td>2</td>\n      <td>NaN</td>\n      <td>NaN</td>\n      <td>16.0</td>\n      <td>999.0</td>\n      <td>16.333333</td>\n      <td>2</td>\n      <td>...</td>\n      <td>MO</td>\n      <td>4.0</td>\n      <td>2</td>\n      <td>NaN</td>\n      <td>NaN</td>\n      <td>False</td>\n      <td>NaN</td>\n      <td>NaN</td>\n      <td>NaN</td>\n      <td>NaN</td>\n    </tr>\n    <tr>\n      <th>1</th>\n      <td>74227</td>\n      <td>16755</td>\n      <td>2020-10-26</td>\n      <td>2</td>\n      <td>NaN</td>\n      <td>NaN</td>\n      <td>133.0</td>\n      <td>12.0</td>\n      <td>1.833333</td>\n      <td>1</td>\n      <td>...</td>\n      <td>MD</td>\n      <td>5.0</td>\n      <td>2</td>\n      <td>NaN</td>\n      <td>NaN</td>\n      <td>False</td>\n      <td>NaN</td>\n      <td>NaN</td>\n      <td>NaN</td>\n      <td>NaN</td>\n    </tr>\n    <tr>\n      <th>2</th>\n      <td>32487</td>\n      <td>8568</td>\n      <td>2020-09-07</td>\n      <td>1</td>\n      <td>159.0</td>\n      <td>NaN</td>\n      <td>NaN</td>\n      <td>NaN</td>\n      <td>13.000000</td>\n      <td>3</td>\n      <td>...</td>\n      <td>VA</td>\n      <td>5.0</td>\n      <td>1</td>\n      <td>NaN</td>\n      <td>NaN</td>\n      <td>False</td>\n      <td>NaN</td>\n      <td>NaN</td>\n      <td>NaN</td>\n      <td>NaN</td>\n    </tr>\n    <tr>\n      <th>3</th>\n      <td>63150</td>\n      <td>5380</td>\n      <td>2020-08-21</td>\n      <td>2</td>\n      <td>NaN</td>\n      <td>NaN</td>\n      <td>999.0</td>\n      <td>999.0</td>\n      <td>13.000000</td>\n      <td>3</td>\n      <td>...</td>\n      <td>CA</td>\n      <td>9.0</td>\n      <td>2</td>\n      <td>NaN</td>\n      <td>NaN</td>\n      <td>False</td>\n      <td>NaN</td>\n      <td>NaN</td>\n      <td>NaN</td>\n      <td>NaN</td>\n    </tr>\n    <tr>\n      <th>4</th>\n      <td>33369</td>\n      <td>15957</td>\n      <td>2020-10-23</td>\n      <td>2</td>\n      <td>NaN</td>\n      <td>NaN</td>\n      <td>230.0</td>\n      <td>82.0</td>\n      <td>2.166667</td>\n      <td>1</td>\n      <td>...</td>\n      <td>OH</td>\n      <td>3.0</td>\n      <td>2</td>\n      <td>NaN</td>\n      <td>NaN</td>\n      <td>False</td>\n      <td>NaN</td>\n      <td>NaN</td>\n      <td>NaN</td>\n      <td>NaN</td>\n    </tr>\n    <tr>\n      <th>...</th>\n      <td>...</td>\n      <td>...</td>\n      <td>...</td>\n      <td>...</td>\n      <td>...</td>\n      <td>...</td>\n      <td>...</td>\n      <td>...</td>\n      <td>...</td>\n      <td>...</td>\n      <td>...</td>\n      <td>...</td>\n      <td>...</td>\n      <td>...</td>\n      <td>...</td>\n      <td>...</td>\n      <td>...</td>\n      <td>...</td>\n      <td>...</td>\n      <td>...</td>\n      <td>...</td>\n    </tr>\n    <tr>\n      <th>33167</th>\n      <td>91849</td>\n      <td>32736</td>\n      <td>2021-06-22</td>\n      <td>2</td>\n      <td>NaN</td>\n      <td>NaN</td>\n      <td>276.0</td>\n      <td>1.0</td>\n      <td>10.000000</td>\n      <td>3</td>\n      <td>...</td>\n      <td>CA</td>\n      <td>9.0</td>\n      <td>2</td>\n      <td>NaN</td>\n      <td>5.0</td>\n      <td>True</td>\n      <td>NH</td>\n      <td>2.0</td>\n      <td>NaN</td>\n      <td>1.0</td>\n    </tr>\n    <tr>\n      <th>33168</th>\n      <td>33783</td>\n      <td>9482</td>\n      <td>2020-09-15</td>\n      <td>2</td>\n      <td>NaN</td>\n      <td>NaN</td>\n      <td>130.0</td>\n      <td>195.0</td>\n      <td>3.000000</td>\n      <td>3</td>\n      <td>...</td>\n      <td>WA</td>\n      <td>9.0</td>\n      <td>1</td>\n      <td>NaN</td>\n      <td>NaN</td>\n      <td>False</td>\n      <td>NaN</td>\n      <td>NaN</td>\n      <td>NaN</td>\n      <td>NaN</td>\n    </tr>\n    <tr>\n      <th>33169</th>\n      <td>98862</td>\n      <td>32312</td>\n      <td>2021-05-25</td>\n      <td>2</td>\n      <td>NaN</td>\n      <td>NaN</td>\n      <td>60.0</td>\n      <td>49.0</td>\n      <td>4.000000</td>\n      <td>3</td>\n      <td>...</td>\n      <td>AR</td>\n      <td>7.0</td>\n      <td>2</td>\n      <td>NaN</td>\n      <td>NaN</td>\n      <td>False</td>\n      <td>NaN</td>\n      <td>NaN</td>\n      <td>NaN</td>\n      <td>NaN</td>\n    </tr>\n    <tr>\n      <th>33170</th>\n      <td>99462</td>\n      <td>32692</td>\n      <td>2021-06-18</td>\n      <td>2</td>\n      <td>NaN</td>\n      <td>NaN</td>\n      <td>204.0</td>\n      <td>27.0</td>\n      <td>0.916667</td>\n      <td>1</td>\n      <td>...</td>\n      <td>WA</td>\n      <td>9.0</td>\n      <td>2</td>\n      <td>NaN</td>\n      <td>NaN</td>\n      <td>False</td>\n      <td>NaN</td>\n      <td>NaN</td>\n      <td>NaN</td>\n      <td>NaN</td>\n    </tr>\n    <tr>\n      <th>33171</th>\n      <td>6530</td>\n      <td>23713</td>\n      <td>2020-11-28</td>\n      <td>2</td>\n      <td>NaN</td>\n      <td>NaN</td>\n      <td>261.0</td>\n      <td>999.0</td>\n      <td>13.416667</td>\n      <td>2</td>\n      <td>...</td>\n      <td>IL</td>\n      <td>3.0</td>\n      <td>2</td>\n      <td>NaN</td>\n      <td>NaN</td>\n      <td>False</td>\n      <td>NaN</td>\n      <td>NaN</td>\n      <td>NaN</td>\n      <td>NaN</td>\n    </tr>\n  </tbody>\n</table>\n<p>33172 rows × 658 columns</p>\n</div>"
     },
     "execution_count": 22,
     "metadata": {},
     "output_type": "execute_result"
    }
   ],
   "source": [
    "df = pd.read_csv(file_path)\n",
    "df"
   ],
   "metadata": {
    "collapsed": false
   }
  },
  {
   "cell_type": "code",
   "execution_count": 23,
   "outputs": [
    {
     "data": {
      "text/plain": "dd_breed_pure\n153.0    1985\n120.0    1728\n114.0     759\n195.0     547\n18.0      543\n         ... \n198.0       1\n58.0        1\n170.0       1\n35.0        1\n178.0       1\nName: count, Length: 248, dtype: int64"
     },
     "execution_count": 23,
     "metadata": {},
     "output_type": "execute_result"
    }
   ],
   "source": [
    "df['dd_breed_pure'].value_counts()"
   ],
   "metadata": {
    "collapsed": false
   }
  },
  {
   "cell_type": "code",
   "execution_count": 24,
   "outputs": [
    {
     "data": {
      "text/plain": "658"
     },
     "execution_count": 24,
     "metadata": {},
     "output_type": "execute_result"
    }
   ],
   "source": [
    "len(df.columns)"
   ],
   "metadata": {
    "collapsed": false
   }
  },
  {
   "cell_type": "code",
   "execution_count": 25,
   "outputs": [
    {
     "data": {
      "text/plain": "522"
     },
     "execution_count": 25,
     "metadata": {},
     "output_type": "execute_result"
    }
   ],
   "source": [
    "# Get value counts for each column with a limited amount of possible values\n",
    "limited_value_counts = {col: df[col].value_counts() for col in df.columns if df[col].nunique() <= 10}\n",
    "len(limited_value_counts.keys())"
   ],
   "metadata": {
    "collapsed": false
   }
  },
  {
   "cell_type": "code",
   "execution_count": 26,
   "outputs": [
    {
     "data": {
      "text/plain": "16619"
     },
     "execution_count": 26,
     "metadata": {},
     "output_type": "execute_result"
    }
   ],
   "source": [
    "df[\"dd_breed_pure\"].value_counts().sum()"
   ],
   "metadata": {
    "collapsed": false
   }
  },
  {
   "cell_type": "code",
   "execution_count": 27,
   "outputs": [
    {
     "data": {
      "text/plain": "16553"
     },
     "execution_count": 27,
     "metadata": {},
     "output_type": "execute_result"
    }
   ],
   "source": [
    "df[\"dd_breed_pure\"].isna().sum()"
   ],
   "metadata": {
    "collapsed": false
   }
  },
  {
   "cell_type": "code",
   "execution_count": 28,
   "outputs": [
    {
     "data": {
      "text/plain": "       dog_id  dd_breed_mixed_primary  dd_breed_mixed_secondary\n0       10509                    16.0                     999.0\n1       74227                   133.0                      12.0\n2       32487                     NaN                       NaN\n3       63150                   999.0                     999.0\n4       33369                   230.0                      82.0\n...       ...                     ...                       ...\n33167   91849                   276.0                       1.0\n33168   33783                   130.0                     195.0\n33169   98862                    60.0                      49.0\n33170   99462                   204.0                      27.0\n33171    6530                   261.0                     999.0\n\n[33172 rows x 3 columns]",
      "text/html": "<div>\n<style scoped>\n    .dataframe tbody tr th:only-of-type {\n        vertical-align: middle;\n    }\n\n    .dataframe tbody tr th {\n        vertical-align: top;\n    }\n\n    .dataframe thead th {\n        text-align: right;\n    }\n</style>\n<table border=\"1\" class=\"dataframe\">\n  <thead>\n    <tr style=\"text-align: right;\">\n      <th></th>\n      <th>dog_id</th>\n      <th>dd_breed_mixed_primary</th>\n      <th>dd_breed_mixed_secondary</th>\n    </tr>\n  </thead>\n  <tbody>\n    <tr>\n      <th>0</th>\n      <td>10509</td>\n      <td>16.0</td>\n      <td>999.0</td>\n    </tr>\n    <tr>\n      <th>1</th>\n      <td>74227</td>\n      <td>133.0</td>\n      <td>12.0</td>\n    </tr>\n    <tr>\n      <th>2</th>\n      <td>32487</td>\n      <td>NaN</td>\n      <td>NaN</td>\n    </tr>\n    <tr>\n      <th>3</th>\n      <td>63150</td>\n      <td>999.0</td>\n      <td>999.0</td>\n    </tr>\n    <tr>\n      <th>4</th>\n      <td>33369</td>\n      <td>230.0</td>\n      <td>82.0</td>\n    </tr>\n    <tr>\n      <th>...</th>\n      <td>...</td>\n      <td>...</td>\n      <td>...</td>\n    </tr>\n    <tr>\n      <th>33167</th>\n      <td>91849</td>\n      <td>276.0</td>\n      <td>1.0</td>\n    </tr>\n    <tr>\n      <th>33168</th>\n      <td>33783</td>\n      <td>130.0</td>\n      <td>195.0</td>\n    </tr>\n    <tr>\n      <th>33169</th>\n      <td>98862</td>\n      <td>60.0</td>\n      <td>49.0</td>\n    </tr>\n    <tr>\n      <th>33170</th>\n      <td>99462</td>\n      <td>204.0</td>\n      <td>27.0</td>\n    </tr>\n    <tr>\n      <th>33171</th>\n      <td>6530</td>\n      <td>261.0</td>\n      <td>999.0</td>\n    </tr>\n  </tbody>\n</table>\n<p>33172 rows × 3 columns</p>\n</div>"
     },
     "execution_count": 28,
     "metadata": {},
     "output_type": "execute_result"
    }
   ],
   "source": [
    "df[[\"dog_id\",\"dd_breed_mixed_primary\", \"dd_breed_mixed_secondary\"]]"
   ],
   "metadata": {
    "collapsed": false
   }
  },
  {
   "cell_type": "code",
   "execution_count": 29,
   "outputs": [],
   "source": [
    "# new\n",
    "pure_breed_mapping = {999: 'Unknown',\n",
    " 1: 'Affenpinscher',\n",
    " 2: 'Afghan Hound',\n",
    " 3: 'Airedale Terrier',\n",
    " 4: 'Akita',\n",
    " 5: 'Alaskan Malamute',\n",
    " 6: 'American English Coonhound',\n",
    " 7: 'American Eskimo Dog',\n",
    " 8: 'American Foxhound',\n",
    " 9: 'American Hairless Terrier',\n",
    " 10: 'American Leopard Hound',\n",
    " 11: 'American Pitbull Terrier',\n",
    " 12: 'American Staffordshire Terrier',\n",
    " 13: 'American Water Spaniel',\n",
    " 14: 'Anatolian Shepherd Dog',\n",
    " 15: 'Appenzeller Sennenhund',\n",
    " 16: 'Australian Cattle Dog',\n",
    " 17: 'Australian Kelpie',\n",
    " 18: 'Australian Shepherd',\n",
    " 19: 'Australian Stumpy Tail Cattle Dog',\n",
    " 20: 'Australian Terrier',\n",
    " 21: 'Azawakh',\n",
    " 22: 'Barbet',\n",
    " 23: 'Basenji',\n",
    " 24: 'Basset Fauve de Bretagne',\n",
    " 25: 'Basset Hound',\n",
    " 26: 'Bavarian Mountain Scent Hound',\n",
    " 27: 'Beagle',\n",
    " 28: 'Bearded Collie',\n",
    " 29: 'Beauceron',\n",
    " 30: 'Bedlington Terrier',\n",
    " 31: 'Belgian Laekenois',\n",
    " 32: 'Belgian Malinois',\n",
    " 33: 'Belgian Sheepdog',\n",
    " 34: 'Belgian Tervuren',\n",
    " 35: 'Bergamasco',\n",
    " 36: 'Berger Picard',\n",
    " 37: 'Bernese Mountain Dog',\n",
    " 38: 'Bichon Frise',\n",
    " 39: 'Biewer Terrier',\n",
    " 40: 'Black and Tan Coonhound',\n",
    " 278: 'Black Mouth Cur',\n",
    " 41: 'Black Russian Terrier',\n",
    " 42: 'Bloodhound',\n",
    " 279: 'Blue Lacey',\n",
    " 43: 'Bluetick Coonhound',\n",
    " 44: 'Boerboel',\n",
    " 45: 'Bolognese',\n",
    " 46: 'Border Collie',\n",
    " 47: 'Border Terrier',\n",
    " 48: 'Borzoi',\n",
    " 49: 'Boston Terrier',\n",
    " 50: 'Bouvier des Flandres',\n",
    " 51: 'Boxer',\n",
    " 52: 'Boykin Spaniel',\n",
    " 53: 'Bracco Italiano',\n",
    " 54: 'Braque de Bourbonnais',\n",
    " 55: 'Braque Francais Pyrenean',\n",
    " 56: 'Briard',\n",
    " 57: 'Brittany',\n",
    " 58: 'Broholmer',\n",
    " 59: 'Brussels Griffon',\n",
    " 60: 'Bull Terrier',\n",
    " 61: 'Bulldog',\n",
    " 62: 'Bullmastiff',\n",
    " 63: 'Cairn Terrier',\n",
    " 64: 'Canaan Dog',\n",
    " 65: 'Cane Corso',\n",
    " 66: 'Cardigan Welsh Corgi',\n",
    " 67: 'Carolina Dog',\n",
    " 68: 'Catahoula Leopard Dog',\n",
    " 69: 'Caucasian Shepherd Dog',\n",
    " 70: 'Cavalier King Charles Spaniel',\n",
    " 71: 'Central Asian Shepherd Dog',\n",
    " 72: 'Cesky Terrier',\n",
    " 73: 'Chesapeake Bay Retriever',\n",
    " 74: 'Chihuahua',\n",
    " 75: 'Chinese Crested',\n",
    " 76: 'Chinese Shar-Pei',\n",
    " 77: 'Chinook',\n",
    " 78: 'Chow Chow',\n",
    " 79: \"Cirneco Dell'Etna\",\n",
    " 80: 'Clumber Spaniel',\n",
    " 81: 'Cocker Spaniel',\n",
    " 82: 'Collie',\n",
    " 83: 'Coton De Tulear',\n",
    " 84: 'Croatian Sheepdog',\n",
    " 85: 'Curly-Coated Retriever',\n",
    " 86: 'Czechoslovakian Vlack',\n",
    " 87: 'Dachshund',\n",
    " 88: 'Dalmatian',\n",
    " 89: 'Dandie Dinmont Terrier',\n",
    " 90: 'Danish-Swedish Farmdog',\n",
    " 91: 'Deutscher Wachtelhund',\n",
    " 92: 'Doberman Pinscher',\n",
    " 93: 'Dogo Argentino',\n",
    " 94: 'Dogue de Bordeaux',\n",
    " 95: 'Drentsche Patrijshond',\n",
    " 96: 'Drever',\n",
    " 97: 'Dutch Shepherd',\n",
    " 98: 'English Cocker Spaniel',\n",
    " 99: 'English Foxhound',\n",
    " 100: 'English Setter',\n",
    " 280: 'English Shepherd',\n",
    " 101: 'English Springer Spaniel',\n",
    " 102: 'English Toy Spaniel',\n",
    " 103: 'Entlebucher Mountain Dog',\n",
    " 104: 'Estrela Mountain Dog',\n",
    " 105: 'Eurasier',\n",
    " 106: 'Field Spaniel',\n",
    " 107: 'Finish Spitz',\n",
    " 108: 'Finnish Lapphund',\n",
    " 109: 'Flat-Coated Retriever',\n",
    " 110: 'French Bulldog',\n",
    " 111: 'French Spaniel',\n",
    " 112: 'German Longhaired Pointer',\n",
    " 113: 'German Pinscher',\n",
    " 114: 'German Shepherd Dog',\n",
    " 115: 'German Shorthaired Pointer',\n",
    " 116: 'German Spitz',\n",
    " 117: 'German Wirehaired Pointer',\n",
    " 118: 'Giant Schnauzer',\n",
    " 119: 'Glen of Imaal Terrier',\n",
    " 120: 'Golden Retriever',\n",
    " 121: 'Gordon Setter',\n",
    " 122: 'Grand Basset Griffon Vendeen',\n",
    " 123: 'Great Dane',\n",
    " 124: 'Great Pyrenees',\n",
    " 125: 'Greater Swiss Mountain Dog',\n",
    " 126: 'Greyhound',\n",
    " 127: 'Hamiltonstovare',\n",
    " 128: 'Hanoverian Scenthound',\n",
    " 129: 'Harrier',\n",
    " 130: 'Havanese',\n",
    " 131: 'Hokkaido',\n",
    " 132: 'Hovawart',\n",
    " 133: 'Ibizan Hound',\n",
    " 134: 'Icelandic Sheepdog',\n",
    " 135: 'Irish Red and White Setter',\n",
    " 136: 'Irish Setter',\n",
    " 137: 'Irish Terrier',\n",
    " 138: 'Irish Water Spaniel',\n",
    " 139: 'Irish Wolfhound',\n",
    " 140: 'Italian Greyhound',\n",
    " 141: 'Jack Russell Terrier',\n",
    " 142: 'Jagdterrier',\n",
    " 143: 'Japanese Chin',\n",
    " 144: 'Jindo',\n",
    " 145: 'Kai Ken',\n",
    " 146: 'Karelian Bear Dog',\n",
    " 147: 'Keeshond',\n",
    " 148: 'Kerry Blue Terrier',\n",
    " 149: 'Kishu Ken',\n",
    " 150: 'Komondor',\n",
    " 151: 'Kromfohrlander',\n",
    " 152: 'Kuvasz',\n",
    " 153: 'Labrador Retriever',\n",
    " 154: 'Lagotto Romagnolo',\n",
    " 155: 'Lakeland Terrier',\n",
    " 156: 'Lancashire Heeler',\n",
    " 157: 'Lapponian Herder',\n",
    " 158: 'Leonberger',\n",
    " 159: 'Lhasa Apso',\n",
    " 160: 'Lowchen',\n",
    " 161: 'Maltese',\n",
    " 162: 'Manchester Terrier',\n",
    " 164: 'Mastiff',\n",
    " 165: 'Miniature American Shepherd',\n",
    " 166: 'Miniature Bull Terrier',\n",
    " 167: 'Miniature Pinscher',\n",
    " 168: 'Miniature Schnauzer',\n",
    " 169: 'Mountain Cur',\n",
    " 170: 'Mudi',\n",
    " 171: 'Neapolitan Mastiff',\n",
    " 172: 'Nederlandse Kooikerhondje',\n",
    " 173: 'Newfoundland',\n",
    " 174: 'Norfolk Terrier',\n",
    " 175: 'Norrbottenspets',\n",
    " 176: 'Norwegian Buhund',\n",
    " 177: 'Norwegian Elkhound',\n",
    " 178: 'Norwegian Lundhund',\n",
    " 179: 'Norwich Terrier',\n",
    " 180: 'Nova Scotia Duck Tolling Retriever',\n",
    " 181: 'Old English Sheepdog',\n",
    " 182: 'Otterhound',\n",
    " 183: 'Papillon',\n",
    " 184: 'Parson Russell Terrier',\n",
    " 185: 'Pekingese',\n",
    " 186: 'Pembroke Welsh Corgi',\n",
    " 187: 'Perro de Presa Canario',\n",
    " 188: 'Peruvian Inca Orchid',\n",
    " 189: 'Petit Basset Griffon Vendeen',\n",
    " 190: 'Pharaoh Hound',\n",
    " 191: 'Plott',\n",
    " 192: 'Pointer',\n",
    " 193: 'Polish Lowland Sheepdog',\n",
    " 194: 'Pomeranian',\n",
    " 195: 'Poodle',\n",
    " 196: 'Poodle (Toy)',\n",
    " 197: 'Porcelaine',\n",
    " 198: 'Portuguese Podengo',\n",
    " 199: 'Portuguese Podengo Pequeno',\n",
    " 200: 'Portuguese Pointer',\n",
    " 201: 'Portuguese Sheepdog',\n",
    " 202: 'Portuguese Water Dog',\n",
    " 203: 'Pudelpointer',\n",
    " 204: 'Pug',\n",
    " 205: 'Puli',\n",
    " 206: 'Pumi',\n",
    " 207: 'Pyrenean Mastiff',\n",
    " 208: 'Pyrenean Shepherd',\n",
    " 209: 'Rafeiro de Alentejo',\n",
    " 210: 'Rat Terrier',\n",
    " 211: 'Redbone Coonhound',\n",
    " 212: 'Rhodesian Ridgeback',\n",
    " 213: 'Romanian Mioritic Shepherd Dog',\n",
    " 214: 'Rottweiler',\n",
    " 215: 'Russell Terrier',\n",
    " 216: 'Russian Toy',\n",
    " 217: 'Russian Tsvetnaya Bolonka',\n",
    " 218: 'Saluki',\n",
    " 219: 'Samoyed',\n",
    " 220: 'Schapendoes',\n",
    " 221: 'Schipperke',\n",
    " 222: 'Scottish Deerhound',\n",
    " 223: 'Scottish Terrier',\n",
    " 224: 'Sealyham Terrier',\n",
    " 225: 'Segugio Italiano',\n",
    " 226: 'Shetland Sheepdog',\n",
    " 227: 'Shiba Inu',\n",
    " 228: 'Shih Tzu',\n",
    " 229: 'Shikoku',\n",
    " 230: 'Siberian Husky',\n",
    " 281: 'Silken Windhound',\n",
    " 231: 'Silky Terrier',\n",
    " 232: 'Skye Terrier',\n",
    " 233: 'Sloughi',\n",
    " 234: 'Slovakian Wirehaired Pointer',\n",
    " 235: 'Slovensky Cuvac',\n",
    " 236: 'Slovensky Kopov',\n",
    " 237: 'Small Musterlander Pointer',\n",
    " 238: 'Smooth Fox Terrier',\n",
    " 239: 'Soft Coated Wheaten Terrier',\n",
    " 240: 'Spanish Mastiff',\n",
    " 241: 'Spanish Water Dog',\n",
    " 242: 'Spinone Italiano',\n",
    " 243: 'St. Bernard',\n",
    " 244: 'Stabyhoun',\n",
    " 245: 'Staffordshire Bull Terrier',\n",
    " 246: 'Standard Schnauzer',\n",
    " 247: 'Sussex Spaniel',\n",
    " 248: 'Swedish Lapphund',\n",
    " 249: 'Swedish Vallhund',\n",
    " 250: 'Taiwan Dog',\n",
    " 251: 'Teddy Roosevelt Terrier',\n",
    " 252: 'Thai Ridgeback',\n",
    " 253: 'Tibetan Mastiff',\n",
    " 254: 'Tibetan Spaniel',\n",
    " 255: 'Tibetan Terrier',\n",
    " 256: 'Tornjak',\n",
    " 257: 'Tosa',\n",
    " 258: 'Toy Fox Terrier',\n",
    " 259: 'Transylvanian Hound',\n",
    " 260: 'Treeing Tennessee Brindle',\n",
    " 261: 'Treeing Walker Coonhound',\n",
    " 262: 'Village Dog',\n",
    " 263: 'Vizsla',\n",
    " 264: 'Weimaraner',\n",
    " 265: 'Welsh Springer Spaniel',\n",
    " 266: 'Welsh Terrier',\n",
    " 267: 'West Highland White Terrier',\n",
    " 268: 'Whippet',\n",
    " 269: 'Wire Fox Terrier',\n",
    " 270: 'Wirehaired Pointing Griffon',\n",
    " 271: 'Wirehaired Vizsla',\n",
    " 272: 'Wolf-hybrid',\n",
    " 273: 'Working Kelpie',\n",
    " 274: 'Xoloitzcuintli',\n",
    " 275: 'Yakutian Laika',\n",
    " 276: 'Yorkshire Terrier',\n",
    " 277: 'My dog is a non-AKC purebred not listed here'}"
   ],
   "metadata": {
    "collapsed": false
   }
  },
  {
   "cell_type": "code",
   "execution_count": 30,
   "outputs": [
    {
     "data": {
      "text/plain": "       dog_id dd_breed_pure_non_akc dd_breed_pure    dd_breed_mixed_primary  \\\n0       10509                   NaN           NaN     Australian Cattle Dog   \n1       74227                   NaN           NaN              Ibizan Hound   \n2       32487                   NaN    Lhasa Apso                       NaN   \n3       63150                   NaN           NaN                   Unknown   \n4       33369                   NaN           NaN            Siberian Husky   \n...       ...                   ...           ...                       ...   \n33167   91849                   NaN           NaN         Yorkshire Terrier   \n33168   33783                   NaN           NaN                  Havanese   \n33169   98862                   NaN           NaN              Bull Terrier   \n33170   99462                   NaN           NaN                       Pug   \n33171    6530                   NaN           NaN  Treeing Walker Coonhound   \n\n             dd_breed_mixed_secondary  \n0                             Unknown  \n1      American Staffordshire Terrier  \n2                                 NaN  \n3                             Unknown  \n4                              Collie  \n...                               ...  \n33167                   Affenpinscher  \n33168                          Poodle  \n33169                  Boston Terrier  \n33170                          Beagle  \n33171                         Unknown  \n\n[33172 rows x 5 columns]",
      "text/html": "<div>\n<style scoped>\n    .dataframe tbody tr th:only-of-type {\n        vertical-align: middle;\n    }\n\n    .dataframe tbody tr th {\n        vertical-align: top;\n    }\n\n    .dataframe thead th {\n        text-align: right;\n    }\n</style>\n<table border=\"1\" class=\"dataframe\">\n  <thead>\n    <tr style=\"text-align: right;\">\n      <th></th>\n      <th>dog_id</th>\n      <th>dd_breed_pure_non_akc</th>\n      <th>dd_breed_pure</th>\n      <th>dd_breed_mixed_primary</th>\n      <th>dd_breed_mixed_secondary</th>\n    </tr>\n  </thead>\n  <tbody>\n    <tr>\n      <th>0</th>\n      <td>10509</td>\n      <td>NaN</td>\n      <td>NaN</td>\n      <td>Australian Cattle Dog</td>\n      <td>Unknown</td>\n    </tr>\n    <tr>\n      <th>1</th>\n      <td>74227</td>\n      <td>NaN</td>\n      <td>NaN</td>\n      <td>Ibizan Hound</td>\n      <td>American Staffordshire Terrier</td>\n    </tr>\n    <tr>\n      <th>2</th>\n      <td>32487</td>\n      <td>NaN</td>\n      <td>Lhasa Apso</td>\n      <td>NaN</td>\n      <td>NaN</td>\n    </tr>\n    <tr>\n      <th>3</th>\n      <td>63150</td>\n      <td>NaN</td>\n      <td>NaN</td>\n      <td>Unknown</td>\n      <td>Unknown</td>\n    </tr>\n    <tr>\n      <th>4</th>\n      <td>33369</td>\n      <td>NaN</td>\n      <td>NaN</td>\n      <td>Siberian Husky</td>\n      <td>Collie</td>\n    </tr>\n    <tr>\n      <th>...</th>\n      <td>...</td>\n      <td>...</td>\n      <td>...</td>\n      <td>...</td>\n      <td>...</td>\n    </tr>\n    <tr>\n      <th>33167</th>\n      <td>91849</td>\n      <td>NaN</td>\n      <td>NaN</td>\n      <td>Yorkshire Terrier</td>\n      <td>Affenpinscher</td>\n    </tr>\n    <tr>\n      <th>33168</th>\n      <td>33783</td>\n      <td>NaN</td>\n      <td>NaN</td>\n      <td>Havanese</td>\n      <td>Poodle</td>\n    </tr>\n    <tr>\n      <th>33169</th>\n      <td>98862</td>\n      <td>NaN</td>\n      <td>NaN</td>\n      <td>Bull Terrier</td>\n      <td>Boston Terrier</td>\n    </tr>\n    <tr>\n      <th>33170</th>\n      <td>99462</td>\n      <td>NaN</td>\n      <td>NaN</td>\n      <td>Pug</td>\n      <td>Beagle</td>\n    </tr>\n    <tr>\n      <th>33171</th>\n      <td>6530</td>\n      <td>NaN</td>\n      <td>NaN</td>\n      <td>Treeing Walker Coonhound</td>\n      <td>Unknown</td>\n    </tr>\n  </tbody>\n</table>\n<p>33172 rows × 5 columns</p>\n</div>"
     },
     "execution_count": 30,
     "metadata": {},
     "output_type": "execute_result"
    }
   ],
   "source": [
    "# Map the classification dict in helper.py to the 'Breed' column\n",
    "df['dd_breed_mixed_primary'] = df['dd_breed_mixed_primary'].map(lambda x: pure_breed_mapping.get(x, x))\n",
    "df['dd_breed_mixed_secondary'] = df['dd_breed_mixed_secondary'].map(lambda x: pure_breed_mapping.get(x, x))\n",
    "df['dd_breed_pure'] = df['dd_breed_pure'].map(lambda x: pure_breed_mapping.get(x, x))\n",
    "df[['dog_id','dd_breed_pure_non_akc', 'dd_breed_pure' ,'dd_breed_mixed_primary', 'dd_breed_mixed_secondary']]"
   ],
   "metadata": {
    "collapsed": false
   }
  },
  {
   "cell_type": "code",
   "execution_count": 31,
   "outputs": [
    {
     "data": {
      "text/plain": "dd_breed_pure_non_akc\nAlaskan Klee Kai                              5\nEnglish Shepherd                              4\nSilken Windhound                              4\nAmerican Bully                                4\nShiloh Shepherd                               3\nMaremma Sheepdog                              3\nAmerican Bulldog                              2\nBerger Blanc Suisse / White Swiss Shepherd    2\nJapanese Spitz                                2\nAustralian Labradoddle                        2\nAustralian Labradoodle                        2\nMiniature Australian Shepherd                 2\nAustrailian Labradoodle                       1\nAkbash                                        1\nJapanese Akita Inu                            1\nPODENCO                                       1\nLabradoodle                                   1\nlabradoodle                                   1\nMini Australian Shepherd                      1\nLarge Munsterlander                           1\nMiki                                          1\nPolish Tatra Mountain Sheepdog                1\nBasset Fauve de Bretagne                      1\nMcNab                                         1\nshiloh shepherd                               1\nAmerican English (aka Redtick) Coonhound      1\nOlde English Bulldog                          1\nDecker terrier                                1\nKarakachan                                    1\nBeauceron                                     1\nWhite Swiss shepard (Berger Blanc Suisse)     1\nGalgo (Spanish Sighthound)                    1\nPrague Ratter                                 1\nNortheast African Village dog                 1\nIndian Pariah                                 1\nAfrican Village Dog                           1\nWest Siberian Laika                           1\nMiniature Poodle                              1\nWindsprite                                    1\nKlee Kai                                      1\nEnglish Sheppard                              1\nNative American Village Dog                   1\nGolden Doodle                                 1\nNew Guinea Singing Dog                        1\nGoldendoodle                                  1\nAussie - Dor                                  1\nMiniature Dachshund                           1\nCimarron Uruguayo                             1\nEnglish Shepard                               1\nGalgo Espanol (Spanish greyhound)             1\nOld English Bulldogge                         1\nPekingese                                     1\nAmerican Indian Dog                           1\nTamaskan                                      1\nAmerican bulldog                              1\nRed Setter                                    1\nLlewellin Setter                              1\nMaremma                                       1\nToy Austrailan Shepherd                       1\nName: count, dtype: int64"
     },
     "execution_count": 31,
     "metadata": {},
     "output_type": "execute_result"
    }
   ],
   "source": [
    "df['dd_breed_pure_non_akc'].value_counts()"
   ],
   "metadata": {
    "collapsed": false
   }
  },
  {
   "cell_type": "code",
   "execution_count": 32,
   "outputs": [
    {
     "data": {
      "text/plain": "33172"
     },
     "execution_count": 32,
     "metadata": {},
     "output_type": "execute_result"
    }
   ],
   "source": [
    "df['dd_breed'] = df['dd_breed_pure'].fillna(df['dd_breed_mixed_primary'])\n",
    "df['dd_breed'].value_counts().sum()"
   ],
   "metadata": {
    "collapsed": false
   }
  },
  {
   "cell_type": "code",
   "execution_count": 33,
   "outputs": [
    {
     "data": {
      "text/plain": "{'Affenpinscher',\n 'Afghan Hound',\n 'Airedale Terrier',\n 'Akita',\n 'Alaskan Malamute',\n 'American English Coonhound',\n 'American Eskimo Dog',\n 'American Foxhound',\n 'American Hairless Terrier',\n 'American Leopard Hound',\n 'American Pitbull Terrier',\n 'American Staffordshire Terrier',\n 'American Water Spaniel',\n 'Anatolian Shepherd Dog',\n 'Appenzeller Sennenhund',\n 'Australian Cattle Dog',\n 'Australian Kelpie',\n 'Australian Shepherd',\n 'Australian Stumpy Tail Cattle Dog',\n 'Australian Terrier',\n 'Azawakh',\n 'Barbet',\n 'Basenji',\n 'Basset Fauve de Bretagne',\n 'Basset Hound',\n 'Bavarian Mountain Scent Hound',\n 'Beagle',\n 'Bearded Collie',\n 'Beauceron',\n 'Bedlington Terrier',\n 'Belgian Laekenois',\n 'Belgian Malinois',\n 'Belgian Sheepdog',\n 'Belgian Tervuren',\n 'Bergamasco',\n 'Berger Picard',\n 'Bernese Mountain Dog',\n 'Bichon Frise',\n 'Biewer Terrier',\n 'Black Mouth Cur',\n 'Black Russian Terrier',\n 'Black and Tan Coonhound',\n 'Bloodhound',\n 'Blue Lacey',\n 'Bluetick Coonhound',\n 'Boerboel',\n 'Bolognese',\n 'Border Collie',\n 'Border Terrier',\n 'Borzoi',\n 'Boston Terrier',\n 'Bouvier des Flandres',\n 'Boxer',\n 'Boykin Spaniel',\n 'Bracco Italiano',\n 'Braque Francais Pyrenean',\n 'Braque de Bourbonnais',\n 'Briard',\n 'Brittany',\n 'Broholmer',\n 'Brussels Griffon',\n 'Bull Terrier',\n 'Bulldog',\n 'Bullmastiff',\n 'Cairn Terrier',\n 'Canaan Dog',\n 'Cane Corso',\n 'Cardigan Welsh Corgi',\n 'Carolina Dog',\n 'Catahoula Leopard Dog',\n 'Caucasian Shepherd Dog',\n 'Cavalier King Charles Spaniel',\n 'Central Asian Shepherd Dog',\n 'Cesky Terrier',\n 'Chesapeake Bay Retriever',\n 'Chihuahua',\n 'Chinese Crested',\n 'Chinese Shar-Pei',\n 'Chinook',\n 'Chow Chow',\n \"Cirneco Dell'Etna\",\n 'Clumber Spaniel',\n 'Cocker Spaniel',\n 'Collie',\n 'Coton De Tulear',\n 'Curly-Coated Retriever',\n 'Czechoslovakian Vlack',\n 'Dachshund',\n 'Dalmatian',\n 'Dandie Dinmont Terrier',\n 'Doberman Pinscher',\n 'Dogo Argentino',\n 'Dogue de Bordeaux',\n 'Drentsche Patrijshond',\n 'Dutch Shepherd',\n 'English Cocker Spaniel',\n 'English Foxhound',\n 'English Setter',\n 'English Shepherd',\n 'English Springer Spaniel',\n 'English Toy Spaniel',\n 'Entlebucher Mountain Dog',\n 'Eurasier',\n 'Field Spaniel',\n 'Finish Spitz',\n 'Finnish Lapphund',\n 'Flat-Coated Retriever',\n 'French Bulldog',\n 'French Spaniel',\n 'German Pinscher',\n 'German Shepherd Dog',\n 'German Shorthaired Pointer',\n 'German Spitz',\n 'German Wirehaired Pointer',\n 'Giant Schnauzer',\n 'Glen of Imaal Terrier',\n 'Golden Retriever',\n 'Gordon Setter',\n 'Grand Basset Griffon Vendeen',\n 'Great Dane',\n 'Great Pyrenees',\n 'Greater Swiss Mountain Dog',\n 'Greyhound',\n 'Hamiltonstovare',\n 'Harrier',\n 'Havanese',\n 'Hokkaido',\n 'Hovawart',\n 'Ibizan Hound',\n 'Icelandic Sheepdog',\n 'Irish Red and White Setter',\n 'Irish Setter',\n 'Irish Terrier',\n 'Irish Water Spaniel',\n 'Irish Wolfhound',\n 'Italian Greyhound',\n 'Jack Russell Terrier',\n 'Jagdterrier',\n 'Japanese Chin',\n 'Jindo',\n 'Kai Ken',\n 'Karelian Bear Dog',\n 'Keeshond',\n 'Kerry Blue Terrier',\n 'Komondor',\n 'Kromfohrlander',\n 'Kuvasz',\n 'Labrador Retriever',\n 'Lagotto Romagnolo',\n 'Lakeland Terrier',\n 'Lancashire Heeler',\n 'Lapponian Herder',\n 'Leonberger',\n 'Lhasa Apso',\n 'Lowchen',\n 'Maltese',\n 'Manchester Terrier',\n 'Mastiff',\n 'Miniature American Shepherd',\n 'Miniature Bull Terrier',\n 'Miniature Pinscher',\n 'Miniature Schnauzer',\n 'Mountain Cur',\n 'Mudi',\n 'My dog is a non-AKC purebred not listed here',\n 'Neapolitan Mastiff',\n 'Nederlandse Kooikerhondje',\n 'Newfoundland',\n 'Norfolk Terrier',\n 'Norrbottenspets',\n 'Norwegian Buhund',\n 'Norwegian Elkhound',\n 'Norwegian Lundhund',\n 'Norwich Terrier',\n 'Nova Scotia Duck Tolling Retriever',\n 'Old English Sheepdog',\n 'Otterhound',\n 'Papillon',\n 'Parson Russell Terrier',\n 'Pekingese',\n 'Pembroke Welsh Corgi',\n 'Perro de Presa Canario',\n 'Peruvian Inca Orchid',\n 'Petit Basset Griffon Vendeen',\n 'Pharaoh Hound',\n 'Plott',\n 'Pointer',\n 'Polish Lowland Sheepdog',\n 'Pomeranian',\n 'Poodle',\n 'Poodle (Toy)',\n 'Portuguese Podengo',\n 'Portuguese Podengo Pequeno',\n 'Portuguese Water Dog',\n 'Pudelpointer',\n 'Pug',\n 'Puli',\n 'Pyrenean Shepherd',\n 'Rat Terrier',\n 'Redbone Coonhound',\n 'Rhodesian Ridgeback',\n 'Romanian Mioritic Shepherd Dog',\n 'Rottweiler',\n 'Russell Terrier',\n 'Russian Toy',\n 'Saluki',\n 'Samoyed',\n 'Schipperke',\n 'Scottish Deerhound',\n 'Scottish Terrier',\n 'Sealyham Terrier',\n 'Shetland Sheepdog',\n 'Shiba Inu',\n 'Shih Tzu',\n 'Shikoku',\n 'Siberian Husky',\n 'Silken Windhound',\n 'Silky Terrier',\n 'Skye Terrier',\n 'Slovakian Wirehaired Pointer',\n 'Slovensky Cuvac',\n 'Small Musterlander Pointer',\n 'Smooth Fox Terrier',\n 'Soft Coated Wheaten Terrier',\n 'Spanish Mastiff',\n 'Spanish Water Dog',\n 'Spinone Italiano',\n 'St. Bernard',\n 'Stabyhoun',\n 'Staffordshire Bull Terrier',\n 'Standard Schnauzer',\n 'Sussex Spaniel',\n 'Swedish Vallhund',\n 'Taiwan Dog',\n 'Teddy Roosevelt Terrier',\n 'Thai Ridgeback',\n 'Tibetan Mastiff',\n 'Tibetan Spaniel',\n 'Tibetan Terrier',\n 'Tosa',\n 'Toy Fox Terrier',\n 'Transylvanian Hound',\n 'Treeing Tennessee Brindle',\n 'Treeing Walker Coonhound',\n 'Unknown',\n 'Village Dog',\n 'Vizsla',\n 'Weimaraner',\n 'Welsh Springer Spaniel',\n 'Welsh Terrier',\n 'West Highland White Terrier',\n 'Whippet',\n 'Wire Fox Terrier',\n 'Wirehaired Pointing Griffon',\n 'Wirehaired Vizsla',\n 'Wolf-hybrid',\n 'Working Kelpie',\n 'Xoloitzcuintli',\n 'Yorkshire Terrier'}"
     },
     "execution_count": 33,
     "metadata": {},
     "output_type": "execute_result"
    }
   ],
   "source": [
    "df['dd_breed'] = df['dd_breed_pure'].fillna(df['dd_breed_mixed_primary'])\n",
    "set(df['dd_breed'])"
   ],
   "metadata": {
    "collapsed": false
   }
  },
  {
   "cell_type": "code",
   "execution_count": 34,
   "outputs": [
    {
     "data": {
      "text/plain": "{'Affenpinscher',\n 'Afghan Hound',\n 'Airedale Terrier',\n 'Akita',\n 'Alaskan Malamute',\n 'American English Coonhound',\n 'American Eskimo Dog',\n 'American Foxhound',\n 'American Hairless Terrier',\n 'American Leopard Hound',\n 'American Pitbull Terrier',\n 'American Staffordshire Terrier',\n 'American Water Spaniel',\n 'Anatolian Shepherd Dog',\n 'Appenzeller Sennenhund',\n 'Australian Cattle Dog',\n 'Australian Kelpie',\n 'Australian Shepherd',\n 'Australian Stumpy Tail Cattle Dog',\n 'Australian Terrier',\n 'Azawakh',\n 'Barbet',\n 'Basenji',\n 'Basset Fauve de Bretagne',\n 'Basset Hound',\n 'Bavarian Mountain Scent Hound',\n 'Beagle',\n 'Bearded Collie',\n 'Beauceron',\n 'Bedlington Terrier',\n 'Belgian Laekenois',\n 'Belgian Malinois',\n 'Belgian Sheepdog',\n 'Belgian Tervuren',\n 'Bergamasco',\n 'Berger Picard',\n 'Bernese Mountain Dog',\n 'Bichon Frise',\n 'Biewer Terrier',\n 'Black Mouth Cur',\n 'Black Russian Terrier',\n 'Black and Tan Coonhound',\n 'Bloodhound',\n 'Blue Lacey',\n 'Bluetick Coonhound',\n 'Boerboel',\n 'Bolognese',\n 'Border Collie',\n 'Border Terrier',\n 'Borzoi',\n 'Boston Terrier',\n 'Bouvier des Flandres',\n 'Boxer',\n 'Boykin Spaniel',\n 'Bracco Italiano',\n 'Braque Francais Pyrenean',\n 'Braque de Bourbonnais',\n 'Briard',\n 'Brittany',\n 'Broholmer',\n 'Brussels Griffon',\n 'Bull Terrier',\n 'Bulldog',\n 'Bullmastiff',\n 'Cairn Terrier',\n 'Canaan Dog',\n 'Cane Corso',\n 'Cardigan Welsh Corgi',\n 'Carolina Dog',\n 'Catahoula Leopard Dog',\n 'Caucasian Shepherd Dog',\n 'Cavalier King Charles Spaniel',\n 'Central Asian Shepherd Dog',\n 'Cesky Terrier',\n 'Chesapeake Bay Retriever',\n 'Chihuahua',\n 'Chinese Crested',\n 'Chinese Shar-Pei',\n 'Chinook',\n 'Chow Chow',\n \"Cirneco Dell'Etna\",\n 'Clumber Spaniel',\n 'Cocker Spaniel',\n 'Collie',\n 'Coton De Tulear',\n 'Croatian Sheepdog',\n 'Curly-Coated Retriever',\n 'Czechoslovakian Vlack',\n 'Dachshund',\n 'Dalmatian',\n 'Dandie Dinmont Terrier',\n 'Doberman Pinscher',\n 'Dogo Argentino',\n 'Dogue de Bordeaux',\n 'Drentsche Patrijshond',\n 'Dutch Shepherd',\n 'English Cocker Spaniel',\n 'English Foxhound',\n 'English Setter',\n 'English Shepherd',\n 'English Springer Spaniel',\n 'English Toy Spaniel',\n 'Entlebucher Mountain Dog',\n 'Eurasier',\n 'Field Spaniel',\n 'Finish Spitz',\n 'Finnish Lapphund',\n 'Flat-Coated Retriever',\n 'French Bulldog',\n 'French Spaniel',\n 'German Longhaired Pointer',\n 'German Pinscher',\n 'German Shepherd Dog',\n 'German Shorthaired Pointer',\n 'German Spitz',\n 'German Wirehaired Pointer',\n 'Giant Schnauzer',\n 'Glen of Imaal Terrier',\n 'Golden Retriever',\n 'Gordon Setter',\n 'Grand Basset Griffon Vendeen',\n 'Great Dane',\n 'Great Pyrenees',\n 'Greater Swiss Mountain Dog',\n 'Greyhound',\n 'Hamiltonstovare',\n 'Harrier',\n 'Havanese',\n 'Hokkaido',\n 'Hovawart',\n 'Ibizan Hound',\n 'Icelandic Sheepdog',\n 'Irish Red and White Setter',\n 'Irish Setter',\n 'Irish Terrier',\n 'Irish Water Spaniel',\n 'Irish Wolfhound',\n 'Italian Greyhound',\n 'Jack Russell Terrier',\n 'Jagdterrier',\n 'Japanese Chin',\n 'Jindo',\n 'Kai Ken',\n 'Karelian Bear Dog',\n 'Keeshond',\n 'Kerry Blue Terrier',\n 'Komondor',\n 'Kuvasz',\n 'Labrador Retriever',\n 'Lagotto Romagnolo',\n 'Lakeland Terrier',\n 'Lancashire Heeler',\n 'Lapponian Herder',\n 'Leonberger',\n 'Lhasa Apso',\n 'Lowchen',\n 'Maltese',\n 'Manchester Terrier',\n 'Mastiff',\n 'Miniature American Shepherd',\n 'Miniature Bull Terrier',\n 'Miniature Pinscher',\n 'Miniature Schnauzer',\n 'Mountain Cur',\n 'Mudi',\n 'My dog is a non-AKC purebred not listed here',\n 'Neapolitan Mastiff',\n 'Nederlandse Kooikerhondje',\n 'Newfoundland',\n 'Norfolk Terrier',\n 'Norrbottenspets',\n 'Norwegian Buhund',\n 'Norwegian Elkhound',\n 'Norwegian Lundhund',\n 'Norwich Terrier',\n 'Nova Scotia Duck Tolling Retriever',\n 'Old English Sheepdog',\n 'Otterhound',\n 'Papillon',\n 'Parson Russell Terrier',\n 'Pekingese',\n 'Pembroke Welsh Corgi',\n 'Perro de Presa Canario',\n 'Peruvian Inca Orchid',\n 'Petit Basset Griffon Vendeen',\n 'Pharaoh Hound',\n 'Plott',\n 'Pointer',\n 'Polish Lowland Sheepdog',\n 'Pomeranian',\n 'Poodle',\n 'Poodle (Toy)',\n 'Portuguese Podengo',\n 'Portuguese Podengo Pequeno',\n 'Portuguese Water Dog',\n 'Pudelpointer',\n 'Pug',\n 'Puli',\n 'Pyrenean Mastiff',\n 'Pyrenean Shepherd',\n 'Rat Terrier',\n 'Redbone Coonhound',\n 'Rhodesian Ridgeback',\n 'Romanian Mioritic Shepherd Dog',\n 'Rottweiler',\n 'Russell Terrier',\n 'Russian Toy',\n 'Saluki',\n 'Samoyed',\n 'Schipperke',\n 'Scottish Deerhound',\n 'Scottish Terrier',\n 'Sealyham Terrier',\n 'Shetland Sheepdog',\n 'Shiba Inu',\n 'Shih Tzu',\n 'Shikoku',\n 'Siberian Husky',\n 'Silken Windhound',\n 'Silky Terrier',\n 'Skye Terrier',\n 'Slovensky Cuvac',\n 'Small Musterlander Pointer',\n 'Smooth Fox Terrier',\n 'Soft Coated Wheaten Terrier',\n 'Spanish Mastiff',\n 'Spanish Water Dog',\n 'Spinone Italiano',\n 'St. Bernard',\n 'Stabyhoun',\n 'Staffordshire Bull Terrier',\n 'Standard Schnauzer',\n 'Sussex Spaniel',\n 'Swedish Lapphund',\n 'Swedish Vallhund',\n 'Taiwan Dog',\n 'Teddy Roosevelt Terrier',\n 'Thai Ridgeback',\n 'Tibetan Mastiff',\n 'Tibetan Spaniel',\n 'Tibetan Terrier',\n 'Tosa',\n 'Toy Fox Terrier',\n 'Transylvanian Hound',\n 'Treeing Tennessee Brindle',\n 'Treeing Walker Coonhound',\n 'Unknown',\n 'Village Dog',\n 'Vizsla',\n 'Weimaraner',\n 'Welsh Springer Spaniel',\n 'Welsh Terrier',\n 'West Highland White Terrier',\n 'Whippet',\n 'Wire Fox Terrier',\n 'Wirehaired Pointing Griffon',\n 'Wirehaired Vizsla',\n 'Wolf-hybrid',\n 'Working Kelpie',\n 'Xoloitzcuintli',\n 'Yorkshire Terrier'}"
     },
     "execution_count": 34,
     "metadata": {},
     "output_type": "execute_result"
    }
   ],
   "source": [
    "df['dd_breed_2'] = df['dd_breed_pure'].fillna(df['dd_breed_mixed_secondary'])\n",
    "set(df['dd_breed_2'])"
   ],
   "metadata": {
    "collapsed": false
   }
  },
  {
   "cell_type": "code",
   "execution_count": 35,
   "outputs": [
    {
     "data": {
      "text/plain": "263"
     },
     "execution_count": 35,
     "metadata": {},
     "output_type": "execute_result"
    }
   ],
   "source": [
    "# Create the 'dd_breed' column by filling NaN values with 'dd_breed_mixed_primary'\n",
    "df['dd_breed'] = df['dd_breed_pure'].fillna(df['dd_breed_mixed_primary'])\n",
    "\n",
    "# Create the set of unique values in 'dd_breed'\n",
    "unique_breeds_dd_breed = set(df['dd_breed'])\n",
    "\n",
    "# Create the 'dd_breed_2' column by filling NaN values with 'dd_breed_mixed_secondary'\n",
    "df['dd_breed_2'] = df['dd_breed_pure'].fillna(df['dd_breed_mixed_secondary'])\n",
    "\n",
    "# Create the set of unique values in 'dd_breed_2'\n",
    "unique_breeds_dd_breed_2 = set(df['dd_breed_2'])\n",
    "\n",
    "# Combine the sets using union\n",
    "combined_unique_breeds = unique_breeds_dd_breed.union(unique_breeds_dd_breed_2)\n",
    "len(combined_unique_breeds)"
   ],
   "metadata": {
    "collapsed": false
   }
  },
  {
   "cell_type": "code",
   "execution_count": 36,
   "outputs": [
    {
     "data": {
      "text/plain": "{'Kromfohrlander', 'Slovakian Wirehaired Pointer'}"
     },
     "execution_count": 36,
     "metadata": {},
     "output_type": "execute_result"
    }
   ],
   "source": [
    "unique_breeds_dd_breed - unique_breeds_dd_breed_2"
   ],
   "metadata": {
    "collapsed": false
   }
  },
  {
   "cell_type": "code",
   "execution_count": 37,
   "outputs": [
    {
     "data": {
      "text/plain": "{'Croatian Sheepdog',\n 'German Longhaired Pointer',\n 'Pyrenean Mastiff',\n 'Swedish Lapphund'}"
     },
     "execution_count": 37,
     "metadata": {},
     "output_type": "execute_result"
    }
   ],
   "source": [
    "unique_breeds_dd_breed_2 - unique_breeds_dd_breed"
   ],
   "metadata": {
    "collapsed": false
   }
  },
  {
   "cell_type": "code",
   "execution_count": 38,
   "outputs": [
    {
     "data": {
      "text/plain": "{999: 'Unknown',\n 1: 'Affenpinscher',\n 2: 'Afghan Hound',\n 3: 'Airedale Terrier',\n 4: 'Akita',\n 5: 'Alaskan Malamute',\n 6: 'American English Coonhound',\n 7: 'American Eskimo Dog',\n 8: 'American Foxhound',\n 9: 'American Hairless Terrier',\n 10: 'American Leopard Hound',\n 11: 'American Pitbull Terrier',\n 12: 'American Staffordshire Terrier',\n 13: 'American Water Spaniel',\n 14: 'Anatolian Shepherd Dog',\n 15: 'Appenzeller Sennenhund',\n 16: 'Australian Cattle Dog',\n 17: 'Australian Kelpie',\n 18: 'Australian Shepherd',\n 19: 'Australian Stumpy Tail Cattle Dog',\n 20: 'Australian Terrier',\n 21: 'Azawakh',\n 22: 'Barbet',\n 23: 'Basenji',\n 24: 'Basset Fauve de Bretagne',\n 25: 'Basset Hound',\n 26: 'Bavarian Mountain Scent Hound',\n 27: 'Beagle',\n 28: 'Bearded Collie',\n 29: 'Beauceron',\n 30: 'Bedlington Terrier',\n 31: 'Belgian Laekenois',\n 32: 'Belgian Malinois',\n 33: 'Belgian Sheepdog',\n 34: 'Belgian Tervuren',\n 35: 'Bergamasco',\n 36: 'Berger Picard',\n 37: 'Bernese Mountain Dog',\n 38: 'Bichon Frise',\n 39: 'Biewer Terrier',\n 40: 'Black and Tan Coonhound',\n 278: 'Black Mouth Cur',\n 41: 'Black Russian Terrier',\n 42: 'Bloodhound',\n 279: 'Blue Lacey',\n 43: 'Bluetick Coonhound',\n 44: 'Boerboel',\n 45: 'Bolognese',\n 46: 'Border Collie',\n 47: 'Border Terrier',\n 48: 'Borzoi',\n 49: 'Boston Terrier',\n 50: 'Bouvier des Flandres',\n 51: 'Boxer',\n 52: 'Boykin Spaniel',\n 53: 'Bracco Italiano',\n 54: 'Braque de Bourbonnais',\n 55: 'Braque Francais Pyrenean',\n 56: 'Briard',\n 57: 'Brittany',\n 58: 'Broholmer',\n 59: 'Brussels Griffon',\n 60: 'Bull Terrier',\n 61: 'Bulldog',\n 62: 'Bullmastiff',\n 63: 'Cairn Terrier',\n 64: 'Canaan Dog',\n 65: 'Cane Corso',\n 66: 'Cardigan Welsh Corgi',\n 67: 'Carolina Dog',\n 68: 'Catahoula Leopard Dog',\n 69: 'Caucasian Shepherd Dog',\n 70: 'Cavalier King Charles Spaniel',\n 71: 'Central Asian Shepherd Dog',\n 72: 'Cesky Terrier',\n 73: 'Chesapeake Bay Retriever',\n 74: 'Chihuahua',\n 75: 'Chinese Crested',\n 76: 'Chinese Shar-Pei',\n 77: 'Chinook',\n 78: 'Chow Chow',\n 79: \"Cirneco Dell'Etna\",\n 80: 'Clumber Spaniel',\n 81: 'Cocker Spaniel',\n 82: 'Collie',\n 83: 'Coton De Tulear',\n 84: 'Croatian Sheepdog',\n 85: 'Curly-Coated Retriever',\n 86: 'Czechoslovakian Vlack',\n 87: 'Dachshund',\n 88: 'Dalmatian',\n 89: 'Dandie Dinmont Terrier',\n 90: 'Danish-Swedish Farmdog',\n 91: 'Deutscher Wachtelhund',\n 92: 'Doberman Pinscher',\n 93: 'Dogo Argentino',\n 94: 'Dogue de Bordeaux',\n 95: 'Drentsche Patrijshond',\n 96: 'Drever',\n 97: 'Dutch Shepherd',\n 98: 'English Cocker Spaniel',\n 99: 'English Foxhound',\n 100: 'English Setter',\n 280: 'English Shepherd',\n 101: 'English Springer Spaniel',\n 102: 'English Toy Spaniel',\n 103: 'Entlebucher Mountain Dog',\n 104: 'Estrela Mountain Dog',\n 105: 'Eurasier',\n 106: 'Field Spaniel',\n 107: 'Finish Spitz',\n 108: 'Finnish Lapphund',\n 109: 'Flat-Coated Retriever',\n 110: 'French Bulldog',\n 111: 'French Spaniel',\n 112: 'German Longhaired Pointer',\n 113: 'German Pinscher',\n 114: 'German Shepherd Dog',\n 115: 'German Shorthaired Pointer',\n 116: 'German Spitz',\n 117: 'German Wirehaired Pointer',\n 118: 'Giant Schnauzer',\n 119: 'Glen of Imaal Terrier',\n 120: 'Golden Retriever',\n 121: 'Gordon Setter',\n 122: 'Grand Basset Griffon Vendeen',\n 123: 'Great Dane',\n 124: 'Great Pyrenees',\n 125: 'Greater Swiss Mountain Dog',\n 126: 'Greyhound',\n 127: 'Hamiltonstovare',\n 128: 'Hanoverian Scenthound',\n 129: 'Harrier',\n 130: 'Havanese',\n 131: 'Hokkaido',\n 132: 'Hovawart',\n 133: 'Ibizan Hound',\n 134: 'Icelandic Sheepdog',\n 135: 'Irish Red and White Setter',\n 136: 'Irish Setter',\n 137: 'Irish Terrier',\n 138: 'Irish Water Spaniel',\n 139: 'Irish Wolfhound',\n 140: 'Italian Greyhound',\n 141: 'Jack Russell Terrier',\n 142: 'Jagdterrier',\n 143: 'Japanese Chin',\n 144: 'Jindo',\n 145: 'Kai Ken',\n 146: 'Karelian Bear Dog',\n 147: 'Keeshond',\n 148: 'Kerry Blue Terrier',\n 149: 'Kishu Ken',\n 150: 'Komondor',\n 151: 'Kromfohrlander',\n 152: 'Kuvasz',\n 153: 'Labrador Retriever',\n 154: 'Lagotto Romagnolo',\n 155: 'Lakeland Terrier',\n 156: 'Lancashire Heeler',\n 157: 'Lapponian Herder',\n 158: 'Leonberger',\n 159: 'Lhasa Apso',\n 160: 'Lowchen',\n 161: 'Maltese',\n 162: 'Manchester Terrier',\n 164: 'Mastiff',\n 165: 'Miniature American Shepherd',\n 166: 'Miniature Bull Terrier',\n 167: 'Miniature Pinscher',\n 168: 'Miniature Schnauzer',\n 169: 'Mountain Cur',\n 170: 'Mudi',\n 171: 'Neapolitan Mastiff',\n 172: 'Nederlandse Kooikerhondje',\n 173: 'Newfoundland',\n 174: 'Norfolk Terrier',\n 175: 'Norrbottenspets',\n 176: 'Norwegian Buhund',\n 177: 'Norwegian Elkhound',\n 178: 'Norwegian Lundhund',\n 179: 'Norwich Terrier',\n 180: 'Nova Scotia Duck Tolling Retriever',\n 181: 'Old English Sheepdog',\n 182: 'Otterhound',\n 183: 'Papillon',\n 184: 'Parson Russell Terrier',\n 185: 'Pekingese',\n 186: 'Pembroke Welsh Corgi',\n 187: 'Perro de Presa Canario',\n 188: 'Peruvian Inca Orchid',\n 189: 'Petit Basset Griffon Vendeen',\n 190: 'Pharaoh Hound',\n 191: 'Plott',\n 192: 'Pointer',\n 193: 'Polish Lowland Sheepdog',\n 194: 'Pomeranian',\n 195: 'Poodle',\n 196: 'Poodle (Toy)',\n 197: 'Porcelaine',\n 198: 'Portuguese Podengo',\n 199: 'Portuguese Podengo Pequeno',\n 200: 'Portuguese Pointer',\n 201: 'Portuguese Sheepdog',\n 202: 'Portuguese Water Dog',\n 203: 'Pudelpointer',\n 204: 'Pug',\n 205: 'Puli',\n 206: 'Pumi',\n 207: 'Pyrenean Mastiff',\n 208: 'Pyrenean Shepherd',\n 209: 'Rafeiro de Alentejo',\n 210: 'Rat Terrier',\n 211: 'Redbone Coonhound',\n 212: 'Rhodesian Ridgeback',\n 213: 'Romanian Mioritic Shepherd Dog',\n 214: 'Rottweiler',\n 215: 'Russell Terrier',\n 216: 'Russian Toy',\n 217: 'Russian Tsvetnaya Bolonka',\n 218: 'Saluki',\n 219: 'Samoyed',\n 220: 'Schapendoes',\n 221: 'Schipperke',\n 222: 'Scottish Deerhound',\n 223: 'Scottish Terrier',\n 224: 'Sealyham Terrier',\n 225: 'Segugio Italiano',\n 226: 'Shetland Sheepdog',\n 227: 'Shiba Inu',\n 228: 'Shih Tzu',\n 229: 'Shikoku',\n 230: 'Siberian Husky',\n 281: 'Silken Windhound',\n 231: 'Silky Terrier',\n 232: 'Skye Terrier',\n 233: 'Sloughi',\n 234: 'Slovakian Wirehaired Pointer',\n 235: 'Slovensky Cuvac',\n 236: 'Slovensky Kopov',\n 237: 'Small Musterlander Pointer',\n 238: 'Smooth Fox Terrier',\n 239: 'Soft Coated Wheaten Terrier',\n 240: 'Spanish Mastiff',\n 241: 'Spanish Water Dog',\n 242: 'Spinone Italiano',\n 243: 'St. Bernard',\n 244: 'Stabyhoun',\n 245: 'Staffordshire Bull Terrier',\n 246: 'Standard Schnauzer',\n 247: 'Sussex Spaniel',\n 248: 'Swedish Lapphund',\n 249: 'Swedish Vallhund',\n 250: 'Taiwan Dog',\n 251: 'Teddy Roosevelt Terrier',\n 252: 'Thai Ridgeback',\n 253: 'Tibetan Mastiff',\n 254: 'Tibetan Spaniel',\n 255: 'Tibetan Terrier',\n 256: 'Tornjak',\n 257: 'Tosa',\n 258: 'Toy Fox Terrier',\n 259: 'Transylvanian Hound',\n 260: 'Treeing Tennessee Brindle',\n 261: 'Treeing Walker Coonhound',\n 262: 'Village Dog',\n 263: 'Vizsla',\n 264: 'Weimaraner',\n 265: 'Welsh Springer Spaniel',\n 266: 'Welsh Terrier',\n 267: 'West Highland White Terrier',\n 268: 'Whippet',\n 269: 'Wire Fox Terrier',\n 270: 'Wirehaired Pointing Griffon',\n 271: 'Wirehaired Vizsla',\n 272: 'Wolf-hybrid',\n 273: 'Working Kelpie',\n 274: 'Xoloitzcuintli',\n 275: 'Yakutian Laika',\n 276: 'Yorkshire Terrier',\n 277: 'My dog is a non-AKC purebred not listed here'}"
     },
     "execution_count": 38,
     "metadata": {},
     "output_type": "execute_result"
    }
   ],
   "source": [
    "pure_breed_mapping\n"
   ],
   "metadata": {
    "collapsed": false
   }
  },
  {
   "cell_type": "code",
   "execution_count": 39,
   "outputs": [
    {
     "data": {
      "text/plain": "            Breed Type          Sub Breed        Breed Group  \\\n0    Ancient and Spitz  Ancient and Spitz  Ancient and Spitz   \n1    Ancient and Spitz  Ancient and Spitz  Ancient and Spitz   \n2    Ancient and Spitz  Ancient and Spitz  Ancient and Spitz   \n3    Ancient and Spitz  Ancient and Spitz  Ancient and Spitz   \n4    Ancient and Spitz  Ancient and Spitz  Ancient and Spitz   \n..                 ...                ...                ...   \n558       Working dogs   Shepherd - Other           Shepherd   \n559       Working dogs   Shepherd - Other           Shepherd   \n560       Working dogs   Shepherd - Other           Shepherd   \n561       Working dogs   Shepherd - Other           Shepherd   \n562       Working dogs   Shepherd - Other           Shepherd   \n\n                   Breed  \n0               Ainu Dog  \n1                  Akita  \n2              Akita Mix  \n3          Alaskan Husky  \n4       Alaskan Klee Kai  \n..                   ...  \n558          Sarplaninac  \n559      Shiloh Shepherd  \n560      shiloh shepherd  \n561  Shiloh Shepherd Mix  \n562             Tervuren  \n\n[563 rows x 4 columns]",
      "text/html": "<div>\n<style scoped>\n    .dataframe tbody tr th:only-of-type {\n        vertical-align: middle;\n    }\n\n    .dataframe tbody tr th {\n        vertical-align: top;\n    }\n\n    .dataframe thead th {\n        text-align: right;\n    }\n</style>\n<table border=\"1\" class=\"dataframe\">\n  <thead>\n    <tr style=\"text-align: right;\">\n      <th></th>\n      <th>Breed Type</th>\n      <th>Sub Breed</th>\n      <th>Breed Group</th>\n      <th>Breed</th>\n    </tr>\n  </thead>\n  <tbody>\n    <tr>\n      <th>0</th>\n      <td>Ancient and Spitz</td>\n      <td>Ancient and Spitz</td>\n      <td>Ancient and Spitz</td>\n      <td>Ainu Dog</td>\n    </tr>\n    <tr>\n      <th>1</th>\n      <td>Ancient and Spitz</td>\n      <td>Ancient and Spitz</td>\n      <td>Ancient and Spitz</td>\n      <td>Akita</td>\n    </tr>\n    <tr>\n      <th>2</th>\n      <td>Ancient and Spitz</td>\n      <td>Ancient and Spitz</td>\n      <td>Ancient and Spitz</td>\n      <td>Akita Mix</td>\n    </tr>\n    <tr>\n      <th>3</th>\n      <td>Ancient and Spitz</td>\n      <td>Ancient and Spitz</td>\n      <td>Ancient and Spitz</td>\n      <td>Alaskan Husky</td>\n    </tr>\n    <tr>\n      <th>4</th>\n      <td>Ancient and Spitz</td>\n      <td>Ancient and Spitz</td>\n      <td>Ancient and Spitz</td>\n      <td>Alaskan Klee Kai</td>\n    </tr>\n    <tr>\n      <th>...</th>\n      <td>...</td>\n      <td>...</td>\n      <td>...</td>\n      <td>...</td>\n    </tr>\n    <tr>\n      <th>558</th>\n      <td>Working dogs</td>\n      <td>Shepherd - Other</td>\n      <td>Shepherd</td>\n      <td>Sarplaninac</td>\n    </tr>\n    <tr>\n      <th>559</th>\n      <td>Working dogs</td>\n      <td>Shepherd - Other</td>\n      <td>Shepherd</td>\n      <td>Shiloh Shepherd</td>\n    </tr>\n    <tr>\n      <th>560</th>\n      <td>Working dogs</td>\n      <td>Shepherd - Other</td>\n      <td>Shepherd</td>\n      <td>shiloh shepherd</td>\n    </tr>\n    <tr>\n      <th>561</th>\n      <td>Working dogs</td>\n      <td>Shepherd - Other</td>\n      <td>Shepherd</td>\n      <td>Shiloh Shepherd Mix</td>\n    </tr>\n    <tr>\n      <th>562</th>\n      <td>Working dogs</td>\n      <td>Shepherd - Other</td>\n      <td>Shepherd</td>\n      <td>Tervuren</td>\n    </tr>\n  </tbody>\n</table>\n<p>563 rows × 4 columns</p>\n</div>"
     },
     "execution_count": 39,
     "metadata": {},
     "output_type": "execute_result"
    }
   ],
   "source": [
    "file_path_breeds = \"../Dataset/Supplementary_data/breed_grouping.csv\"\n",
    "df_breeds = pd.read_csv(file_path_breeds, delimiter=\";\", encoding=\"ISO-8859-1\", index_col=None)\n",
    "df_breeds"
   ],
   "metadata": {
    "collapsed": false
   }
  },
  {
   "cell_type": "code",
   "execution_count": 40,
   "outputs": [
    {
     "data": {
      "text/plain": "30"
     },
     "execution_count": 40,
     "metadata": {},
     "output_type": "execute_result"
    }
   ],
   "source": [
    "# Create a set of unique values in the 'Breed' column of df_breeds\n",
    "unique_breeds_in_df_breeds = set(df_breeds['Breed'])\n",
    "\n",
    "# Create a set of unique values in the dictionary values\n",
    "unique_breeds_in_mapping = set(pure_breed_mapping.values())\n",
    "\n",
    "# Find the breeds that are in the dictionary but not in df_breeds\n",
    "breeds_not_in_df_breeds = unique_breeds_in_mapping - unique_breeds_in_df_breeds\n",
    "\n",
    "# Breeds in pure_breed_mapping but not in df_breeds\"\n",
    "len(breeds_not_in_df_breeds)"
   ],
   "metadata": {
    "collapsed": false
   }
  },
  {
   "cell_type": "code",
   "execution_count": 41,
   "outputs": [
    {
     "data": {
      "text/plain": "{'American Leopard Hound',\n 'Bavarian Mountain Scent Hound',\n 'Braque Francais Pyrenean',\n 'Braque de Bourbonnais',\n 'Broholmer',\n 'Croatian Sheepdog',\n 'Drentsche Patrijshond',\n 'Drever',\n 'Hamiltonstovare',\n 'Hanoverian Scenthound',\n 'Hokkaido',\n 'Jagdterrier',\n 'Kromfohrlander',\n 'Lapponian Herder',\n 'Lowchen',\n 'My dog is a non-AKC purebred not listed here',\n 'Norrbottenspets',\n 'Portuguese Sheepdog',\n 'Rafeiro de Alentejo',\n 'Russian Toy',\n 'Russian Tsvetnaya Bolonka',\n 'Slovakian Wirehaired Pointer',\n 'Slovensky Cuvac',\n 'Slovensky Kopov',\n 'Tornjak',\n 'Transylvanian Hound',\n 'Unknown',\n 'Village Dog',\n 'Wolf-hybrid',\n 'Yakutian Laika'}"
     },
     "execution_count": 41,
     "metadata": {},
     "output_type": "execute_result"
    }
   ],
   "source": [
    "breeds_not_in_df_breeds"
   ],
   "metadata": {
    "collapsed": false
   }
  },
  {
   "cell_type": "code",
   "execution_count": 48,
   "outputs": [
    {
     "data": {
      "text/plain": "0                 Ainu Dog\n1                    Akita\n2                Akita Mix\n3            Alaskan Husky\n4         Alaskan Klee Kai\n              ...         \n558            Sarplaninac\n559        Shiloh Shepherd\n560        shiloh shepherd\n561    Shiloh Shepherd Mix\n562               Tervuren\nName: Breed, Length: 563, dtype: object"
     },
     "execution_count": 48,
     "metadata": {},
     "output_type": "execute_result"
    }
   ],
   "source": [
    "df_breeds['Breed']"
   ],
   "metadata": {
    "collapsed": false
   }
  },
  {
   "cell_type": "markdown",
   "source": [
    "## Extending the breed_grouping.csv with \"Mix\" appended Breed-row for every Breed"
   ],
   "metadata": {
    "collapsed": false
   }
  },
  {
   "cell_type": "code",
   "execution_count": 27,
   "outputs": [],
   "source": [
    "# Assuming breeds_df is your DataFrame\n",
    "# Check if \"Mix\" is not present in the \"Breed\" column\n",
    "non_mix_breeds = df_breeds[~df_breeds['Breed'].str.contains('Mix')]\n",
    "\n",
    "# Create a copy of the rows where \"Mix\" is not present\n",
    "non_mix_breeds_copy = non_mix_breeds.copy()\n",
    "\n",
    "# Append \"Mix\" to the \"Breed\" column in the copied rows\n",
    "non_mix_breeds_copy['Breed'] = non_mix_breeds_copy['Breed'] + ' Mix'\n",
    "\n",
    "# Initialize an empty list to store the final result\n",
    "result_rows = []\n",
    "\n",
    "# Iterate through the original DataFrame and insert \"Mix\" appended rows\n",
    "for index, row in df_breeds.iterrows():\n",
    "    result_rows.append(row)\n",
    "\n",
    "    # Check if the current breed does not contain \"Mix\"\n",
    "    if all(substr not in row['Breed'] for substr in ['Mix', 'Poodle', 'Boxer']):\n",
    "        # Find the corresponding copied row\n",
    "        copied_row = non_mix_breeds_copy[non_mix_breeds_copy['Breed'] == row['Breed'] + ' Mix'].iloc[0]\n",
    "\n",
    "        # Insert the copied row directly under the original row\n",
    "        result_rows.append(copied_row)\n",
    "\n",
    "# Create a new DataFrame from the result_rows list\n",
    "result_df = pd.DataFrame(result_rows, columns=df_breeds.columns)\n",
    "\n",
    "# Reset the index\n",
    "result_df.reset_index(drop=True, inplace=True)\n",
    "\n",
    "# Drop duplicates based on all columns\n",
    "result_df = result_df.drop_duplicates()\n",
    "\n",
    "# Display the result DataFrame\n",
    "result_df"
   ],
   "metadata": {
    "collapsed": false
   }
  },
  {
   "cell_type": "code",
   "execution_count": 28,
   "outputs": [
    {
     "data": {
      "text/plain": "             Breed Type          Sub Breed        Breed Group  \\\n0     Ancient and Spitz  Ancient and Spitz  Ancient and Spitz   \n1     Ancient and Spitz  Ancient and Spitz  Ancient and Spitz   \n2     Ancient and Spitz  Ancient and Spitz  Ancient and Spitz   \n3     Ancient and Spitz  Ancient and Spitz  Ancient and Spitz   \n5     Ancient and Spitz  Ancient and Spitz  Ancient and Spitz   \n...                 ...                ...                ...   \n1022       Working dogs   Shepherd - Other           Shepherd   \n1023       Working dogs   Shepherd - Other           Shepherd   \n1024       Working dogs   Shepherd - Other           Shepherd   \n1026       Working dogs   Shepherd - Other           Shepherd   \n1027       Working dogs   Shepherd - Other           Shepherd   \n\n                    Breed  \n0                Ainu Dog  \n1            Ainu Dog Mix  \n2                   Akita  \n3               Akita Mix  \n5           Alaskan Husky  \n...                   ...  \n1022  Shiloh Shepherd Mix  \n1023      shiloh shepherd  \n1024  shiloh shepherd Mix  \n1026             Tervuren  \n1027         Tervuren Mix  \n\n[956 rows x 4 columns]",
      "text/html": "<div>\n<style scoped>\n    .dataframe tbody tr th:only-of-type {\n        vertical-align: middle;\n    }\n\n    .dataframe tbody tr th {\n        vertical-align: top;\n    }\n\n    .dataframe thead th {\n        text-align: right;\n    }\n</style>\n<table border=\"1\" class=\"dataframe\">\n  <thead>\n    <tr style=\"text-align: right;\">\n      <th></th>\n      <th>Breed Type</th>\n      <th>Sub Breed</th>\n      <th>Breed Group</th>\n      <th>Breed</th>\n    </tr>\n  </thead>\n  <tbody>\n    <tr>\n      <th>0</th>\n      <td>Ancient and Spitz</td>\n      <td>Ancient and Spitz</td>\n      <td>Ancient and Spitz</td>\n      <td>Ainu Dog</td>\n    </tr>\n    <tr>\n      <th>1</th>\n      <td>Ancient and Spitz</td>\n      <td>Ancient and Spitz</td>\n      <td>Ancient and Spitz</td>\n      <td>Ainu Dog Mix</td>\n    </tr>\n    <tr>\n      <th>2</th>\n      <td>Ancient and Spitz</td>\n      <td>Ancient and Spitz</td>\n      <td>Ancient and Spitz</td>\n      <td>Akita</td>\n    </tr>\n    <tr>\n      <th>3</th>\n      <td>Ancient and Spitz</td>\n      <td>Ancient and Spitz</td>\n      <td>Ancient and Spitz</td>\n      <td>Akita Mix</td>\n    </tr>\n    <tr>\n      <th>5</th>\n      <td>Ancient and Spitz</td>\n      <td>Ancient and Spitz</td>\n      <td>Ancient and Spitz</td>\n      <td>Alaskan Husky</td>\n    </tr>\n    <tr>\n      <th>...</th>\n      <td>...</td>\n      <td>...</td>\n      <td>...</td>\n      <td>...</td>\n    </tr>\n    <tr>\n      <th>1022</th>\n      <td>Working dogs</td>\n      <td>Shepherd - Other</td>\n      <td>Shepherd</td>\n      <td>Shiloh Shepherd Mix</td>\n    </tr>\n    <tr>\n      <th>1023</th>\n      <td>Working dogs</td>\n      <td>Shepherd - Other</td>\n      <td>Shepherd</td>\n      <td>shiloh shepherd</td>\n    </tr>\n    <tr>\n      <th>1024</th>\n      <td>Working dogs</td>\n      <td>Shepherd - Other</td>\n      <td>Shepherd</td>\n      <td>shiloh shepherd Mix</td>\n    </tr>\n    <tr>\n      <th>1026</th>\n      <td>Working dogs</td>\n      <td>Shepherd - Other</td>\n      <td>Shepherd</td>\n      <td>Tervuren</td>\n    </tr>\n    <tr>\n      <th>1027</th>\n      <td>Working dogs</td>\n      <td>Shepherd - Other</td>\n      <td>Shepherd</td>\n      <td>Tervuren Mix</td>\n    </tr>\n  </tbody>\n</table>\n<p>956 rows × 4 columns</p>\n</div>"
     },
     "execution_count": 28,
     "metadata": {},
     "output_type": "execute_result"
    }
   ],
   "source": [
    "result_df['Breed'].value_counts()"
   ],
   "metadata": {
    "collapsed": false
   }
  },
  {
   "cell_type": "code",
   "execution_count": 25,
   "outputs": [
    {
     "data": {
      "text/plain": "             Breed Type          Sub Breed        Breed Group  \\\n0     Ancient and Spitz  Ancient and Spitz  Ancient and Spitz   \n1     Ancient and Spitz  Ancient and Spitz  Ancient and Spitz   \n2     Ancient and Spitz  Ancient and Spitz  Ancient and Spitz   \n3     Ancient and Spitz  Ancient and Spitz  Ancient and Spitz   \n5     Ancient and Spitz  Ancient and Spitz  Ancient and Spitz   \n...                 ...                ...                ...   \n1022       Working dogs   Shepherd - Other           Shepherd   \n1023       Working dogs   Shepherd - Other           Shepherd   \n1024       Working dogs   Shepherd - Other           Shepherd   \n1026       Working dogs   Shepherd - Other           Shepherd   \n1027       Working dogs   Shepherd - Other           Shepherd   \n\n                    Breed  \n0                Ainu Dog  \n1            Ainu Dog Mix  \n2                   Akita  \n3               Akita Mix  \n5           Alaskan Husky  \n...                   ...  \n1022  Shiloh Shepherd Mix  \n1023      shiloh shepherd  \n1024  shiloh shepherd Mix  \n1026             Tervuren  \n1027         Tervuren Mix  \n\n[956 rows x 4 columns]",
      "text/html": "<div>\n<style scoped>\n    .dataframe tbody tr th:only-of-type {\n        vertical-align: middle;\n    }\n\n    .dataframe tbody tr th {\n        vertical-align: top;\n    }\n\n    .dataframe thead th {\n        text-align: right;\n    }\n</style>\n<table border=\"1\" class=\"dataframe\">\n  <thead>\n    <tr style=\"text-align: right;\">\n      <th></th>\n      <th>Breed Type</th>\n      <th>Sub Breed</th>\n      <th>Breed Group</th>\n      <th>Breed</th>\n    </tr>\n  </thead>\n  <tbody>\n    <tr>\n      <th>0</th>\n      <td>Ancient and Spitz</td>\n      <td>Ancient and Spitz</td>\n      <td>Ancient and Spitz</td>\n      <td>Ainu Dog</td>\n    </tr>\n    <tr>\n      <th>1</th>\n      <td>Ancient and Spitz</td>\n      <td>Ancient and Spitz</td>\n      <td>Ancient and Spitz</td>\n      <td>Ainu Dog Mix</td>\n    </tr>\n    <tr>\n      <th>2</th>\n      <td>Ancient and Spitz</td>\n      <td>Ancient and Spitz</td>\n      <td>Ancient and Spitz</td>\n      <td>Akita</td>\n    </tr>\n    <tr>\n      <th>3</th>\n      <td>Ancient and Spitz</td>\n      <td>Ancient and Spitz</td>\n      <td>Ancient and Spitz</td>\n      <td>Akita Mix</td>\n    </tr>\n    <tr>\n      <th>5</th>\n      <td>Ancient and Spitz</td>\n      <td>Ancient and Spitz</td>\n      <td>Ancient and Spitz</td>\n      <td>Alaskan Husky</td>\n    </tr>\n    <tr>\n      <th>...</th>\n      <td>...</td>\n      <td>...</td>\n      <td>...</td>\n      <td>...</td>\n    </tr>\n    <tr>\n      <th>1022</th>\n      <td>Working dogs</td>\n      <td>Shepherd - Other</td>\n      <td>Shepherd</td>\n      <td>Shiloh Shepherd Mix</td>\n    </tr>\n    <tr>\n      <th>1023</th>\n      <td>Working dogs</td>\n      <td>Shepherd - Other</td>\n      <td>Shepherd</td>\n      <td>shiloh shepherd</td>\n    </tr>\n    <tr>\n      <th>1024</th>\n      <td>Working dogs</td>\n      <td>Shepherd - Other</td>\n      <td>Shepherd</td>\n      <td>shiloh shepherd Mix</td>\n    </tr>\n    <tr>\n      <th>1026</th>\n      <td>Working dogs</td>\n      <td>Shepherd - Other</td>\n      <td>Shepherd</td>\n      <td>Tervuren</td>\n    </tr>\n    <tr>\n      <th>1027</th>\n      <td>Working dogs</td>\n      <td>Shepherd - Other</td>\n      <td>Shepherd</td>\n      <td>Tervuren Mix</td>\n    </tr>\n  </tbody>\n</table>\n<p>956 rows × 4 columns</p>\n</div>"
     },
     "execution_count": 25,
     "metadata": {},
     "output_type": "execute_result"
    }
   ],
   "source": [
    "# Save the result_df DataFrame to a CSV file\n",
    "result_df.to_csv(\"../Dataset/Supplementary_data/breed_grouping_HLES_extended.csv\", sep=\";\", encoding=\"ISO-8859-1\", index=False)\n",
    "result_df"
   ],
   "metadata": {
    "collapsed": false
   }
  },
  {
   "cell_type": "code",
   "execution_count": 25,
   "outputs": [],
   "source": [],
   "metadata": {
    "collapsed": false
   }
  },
  {
   "cell_type": "code",
   "execution_count": 26,
   "outputs": [
    {
     "data": {
      "text/plain": "       dd_weight_lbs  dd_weight_range\n0               33.0                4\n1               44.0                5\n2               20.0                2\n3               65.0                7\n4               34.8                4\n...              ...              ...\n33167           19.2                2\n33168           15.0                2\n33169           62.0                7\n33170           15.0                2\n33171           51.0                6\n\n[33172 rows x 2 columns]",
      "text/html": "<div>\n<style scoped>\n    .dataframe tbody tr th:only-of-type {\n        vertical-align: middle;\n    }\n\n    .dataframe tbody tr th {\n        vertical-align: top;\n    }\n\n    .dataframe thead th {\n        text-align: right;\n    }\n</style>\n<table border=\"1\" class=\"dataframe\">\n  <thead>\n    <tr style=\"text-align: right;\">\n      <th></th>\n      <th>dd_weight_lbs</th>\n      <th>dd_weight_range</th>\n    </tr>\n  </thead>\n  <tbody>\n    <tr>\n      <th>0</th>\n      <td>33.0</td>\n      <td>4</td>\n    </tr>\n    <tr>\n      <th>1</th>\n      <td>44.0</td>\n      <td>5</td>\n    </tr>\n    <tr>\n      <th>2</th>\n      <td>20.0</td>\n      <td>2</td>\n    </tr>\n    <tr>\n      <th>3</th>\n      <td>65.0</td>\n      <td>7</td>\n    </tr>\n    <tr>\n      <th>4</th>\n      <td>34.8</td>\n      <td>4</td>\n    </tr>\n    <tr>\n      <th>...</th>\n      <td>...</td>\n      <td>...</td>\n    </tr>\n    <tr>\n      <th>33167</th>\n      <td>19.2</td>\n      <td>2</td>\n    </tr>\n    <tr>\n      <th>33168</th>\n      <td>15.0</td>\n      <td>2</td>\n    </tr>\n    <tr>\n      <th>33169</th>\n      <td>62.0</td>\n      <td>7</td>\n    </tr>\n    <tr>\n      <th>33170</th>\n      <td>15.0</td>\n      <td>2</td>\n    </tr>\n    <tr>\n      <th>33171</th>\n      <td>51.0</td>\n      <td>6</td>\n    </tr>\n  </tbody>\n</table>\n<p>33172 rows × 2 columns</p>\n</div>"
     },
     "execution_count": 26,
     "metadata": {},
     "output_type": "execute_result"
    }
   ],
   "source": [
    "df[[\"dd_weight_lbs\", \"dd_weight_range\"]]"
   ],
   "metadata": {
    "collapsed": false
   }
  },
  {
   "cell_type": "code",
   "execution_count": 27,
   "outputs": [
    {
     "data": {
      "text/plain": "0"
     },
     "execution_count": 27,
     "metadata": {},
     "output_type": "execute_result"
    }
   ],
   "source": [
    "df[\"dd_weight_range\"].isna().sum()"
   ],
   "metadata": {
    "collapsed": false
   }
  },
  {
   "cell_type": "code",
   "execution_count": 28,
   "outputs": [
    {
     "ename": "TypeError",
     "evalue": "'numpy.ndarray' object is not callable",
     "output_type": "error",
     "traceback": [
      "\u001B[0;31m---------------------------------------------------------------------------\u001B[0m",
      "\u001B[0;31mTypeError\u001B[0m                                 Traceback (most recent call last)",
      "Cell \u001B[0;32mIn[28], line 1\u001B[0m\n\u001B[0;32m----> 1\u001B[0m count \u001B[38;5;241m=\u001B[39m \u001B[38;5;28msum\u001B[39m(\u001B[43mdf\u001B[49m\u001B[38;5;241;43m.\u001B[39;49m\u001B[43mvalues\u001B[49m\u001B[43m(\u001B[49m\u001B[43m)\u001B[49m)\n",
      "\u001B[0;31mTypeError\u001B[0m: 'numpy.ndarray' object is not callable"
     ]
    }
   ],
   "source": [
    "count = sum(df.values())"
   ],
   "metadata": {
    "collapsed": false
   }
  },
  {
   "cell_type": "code",
   "execution_count": null,
   "outputs": [],
   "source": [
    "df[\"dd_breed_mixed_primary\"]"
   ],
   "metadata": {
    "collapsed": false
   }
  },
  {
   "cell_type": "code",
   "execution_count": null,
   "outputs": [],
   "source": [
    "df[\"dd_breed_mixed_secondary\"]"
   ],
   "metadata": {
    "collapsed": false
   }
  },
  {
   "cell_type": "code",
   "execution_count": 45,
   "outputs": [
    {
     "data": {
      "text/plain": "<Figure size 1000x600 with 1 Axes>",
      "image/png": "[encoded data removed]"
     },
     "metadata": {},
     "output_type": "display_data"
    }
   ],
   "source": [
    "import matplotlib.pyplot as plt\n",
    "\n",
    "# Assuming 'dd_breed_pure' is the column containing dog breeds\n",
    "breed_pure_counts = df['dd_breed_pure'].value_counts()\n",
    "\n",
    "# Filter breeds with counts greater than 50\n",
    "popular_breeds = breed_pure_counts[breed_pure_counts > 50]\n",
    "\n",
    "# Plot the data\n",
    "plt.figure(figsize=(10, 6))\n",
    "popular_breeds.plot(kind='bar', color='skyblue')\n",
    "plt.title('Dog Breeds with Counts > 50')\n",
    "plt.xlabel('Dog Breed')\n",
    "plt.ylabel('Count')\n",
    "plt.xticks(rotation=45, ha='right')  # Rotate x-axis labels for better visibility\n",
    "plt.tight_layout()\n",
    "plt.show()\n"
   ],
   "metadata": {
    "collapsed": false
   }
  },
  {
   "cell_type": "code",
   "execution_count": 21,
   "outputs": [
    {
     "data": {
      "text/plain": "       dog_id  owner_id st_hles_completion_date  dd_breed_pure_or_mixed  \\\n32754     190     28121              2021-01-09                       2   \n\n       dd_breed_pure dd_breed_pure_non_akc  dd_breed_mixed_primary  \\\n32754            NaN                   NaN                   999.0   \n\n       dd_breed_mixed_secondary  dd_age_years  dd_age_basis  ...  \\\n32754                     999.0         12.25             1  ...   \n\n      oc_primary_residence_state oc_primary_residence_census_division  \\\n32754                         MN                                  4.0   \n\n      oc_primary_residence_ownership  \\\n32754                              2   \n\n      oc_primary_residence_ownership_other_description  \\\n32754                                              NaN   \n\n      oc_primary_residence_time_percentage oc_secondary_residence  \\\n32754                                  NaN                  False   \n\n      oc_secondary_residence_state oc_secondary_residence_ownership  \\\n32754                          NaN                              NaN   \n\n      oc_secondary_residence_ownership_other_description  \\\n32754                                                NaN   \n\n      oc_secondary_residence_time_percentage  \n32754                                    NaN  \n\n[1 rows x 658 columns]",
      "text/html": "<div>\n<style scoped>\n    .dataframe tbody tr th:only-of-type {\n        vertical-align: middle;\n    }\n\n    .dataframe tbody tr th {\n        vertical-align: top;\n    }\n\n    .dataframe thead th {\n        text-align: right;\n    }\n</style>\n<table border=\"1\" class=\"dataframe\">\n  <thead>\n    <tr style=\"text-align: right;\">\n      <th></th>\n      <th>dog_id</th>\n      <th>owner_id</th>\n      <th>st_hles_completion_date</th>\n      <th>dd_breed_pure_or_mixed</th>\n      <th>dd_breed_pure</th>\n      <th>dd_breed_pure_non_akc</th>\n      <th>dd_breed_mixed_primary</th>\n      <th>dd_breed_mixed_secondary</th>\n      <th>dd_age_years</th>\n      <th>dd_age_basis</th>\n      <th>...</th>\n      <th>oc_primary_residence_state</th>\n      <th>oc_primary_residence_census_division</th>\n      <th>oc_primary_residence_ownership</th>\n      <th>oc_primary_residence_ownership_other_description</th>\n      <th>oc_primary_residence_time_percentage</th>\n      <th>oc_secondary_residence</th>\n      <th>oc_secondary_residence_state</th>\n      <th>oc_secondary_residence_ownership</th>\n      <th>oc_secondary_residence_ownership_other_description</th>\n      <th>oc_secondary_residence_time_percentage</th>\n    </tr>\n  </thead>\n  <tbody>\n    <tr>\n      <th>32754</th>\n      <td>190</td>\n      <td>28121</td>\n      <td>2021-01-09</td>\n      <td>2</td>\n      <td>NaN</td>\n      <td>NaN</td>\n      <td>999.0</td>\n      <td>999.0</td>\n      <td>12.25</td>\n      <td>1</td>\n      <td>...</td>\n      <td>MN</td>\n      <td>4.0</td>\n      <td>2</td>\n      <td>NaN</td>\n      <td>NaN</td>\n      <td>False</td>\n      <td>NaN</td>\n      <td>NaN</td>\n      <td>NaN</td>\n      <td>NaN</td>\n    </tr>\n  </tbody>\n</table>\n<p>1 rows × 658 columns</p>\n</div>"
     },
     "execution_count": 21,
     "metadata": {},
     "output_type": "execute_result"
    }
   ],
   "source": [
    "df_1 = df[df[\"dog_id\"] == 190]\n",
    "df_1"
   ],
   "metadata": {
    "collapsed": false
   }
  },
  {
   "cell_type": "code",
   "execution_count": 46,
   "outputs": [
    {
     "name": "stdout",
     "output_type": "stream",
     "text": [
      "False\n"
     ]
    }
   ],
   "source": [
    "if \"Bearded Collie\" in breed_pure_counts:\n",
    "    print(\"True\")\n",
    "else:\n",
    "    print(\"False\")\n"
   ],
   "metadata": {
    "collapsed": false
   }
  },
  {
   "cell_type": "code",
   "execution_count": 10,
   "outputs": [
    {
     "data": {
      "text/plain": "       dog_id  hs_condition_type  hs_condition hs_condition_other_description  \\\n0      100001                  3         304.0                            NaN   \n1      100001                  3         305.0                            NaN   \n2      100001                  3         306.0                            NaN   \n3      100004                 16        1617.0                            NaN   \n4      100005                  1         102.0                            NaN   \n...       ...                ...           ...                            ...   \n92995   99999                 13        1306.0                            NaN   \n92996   99999                 16        1627.0                            NaN   \n92997   99999                 16        1634.0                            NaN   \n92998   82743                  4         404.0                            NaN   \n92999   82743                 17        1798.0                        Unknown   \n\n       hs_condition_is_congenital  hs_eye_condition_cause  \\\n0                           False                     NaN   \n1                           False                     NaN   \n2                           False                     NaN   \n3                           False                     NaN   \n4                           False                     NaN   \n...                           ...                     ...   \n92995                       False                     NaN   \n92996                       False                     NaN   \n92997                       False                     NaN   \n92998                       False                     NaN   \n92999                       False                     NaN   \n\n      hs_condition_cause_other_description  \\\n0                                      NaN   \n1                                      NaN   \n2                                      NaN   \n3                                      NaN   \n4                                      NaN   \n...                                    ...   \n92995                                  NaN   \n92996                                  NaN   \n92997                                  NaN   \n92998                                  NaN   \n92999                                  NaN   \n\n       hs_neurological_condition_vestibular_disease_type  hs_diagnosis_year  \\\n0                                                    NaN             2021.0   \n1                                                    NaN             2021.0   \n2                                                    NaN             2021.0   \n3                                                    NaN             2018.0   \n4                                                    NaN             2021.0   \n...                                                  ...                ...   \n92995                                                NaN             2020.0   \n92996                                                NaN             2018.0   \n92997                                                NaN             2015.0   \n92998                                                NaN             2013.0   \n92999                                                NaN             2015.0   \n\n       hs_diagnosis_month  hs_required_surgery_or_hospitalization  \\\n0                     1.0                                     1.0   \n1                     1.0                                     1.0   \n2                     1.0                                     1.0   \n3                     9.0                                     4.0   \n4                     2.0                                     4.0   \n...                   ...                                     ...   \n92995                 6.0                                     4.0   \n92996                 6.0                                     4.0   \n92997                10.0                                     4.0   \n92998                 7.0                                     4.0   \n92999                 7.0                                     4.0   \n\n      hs_follow_up_ongoing  \n0                    False  \n1                     True  \n2                     True  \n3                    False  \n4                    False  \n...                    ...  \n92995                 True  \n92996                False  \n92997                 True  \n92998                False  \n92999                False  \n\n[93000 rows x 12 columns]",
      "text/html": "<div>\n<style scoped>\n    .dataframe tbody tr th:only-of-type {\n        vertical-align: middle;\n    }\n\n    .dataframe tbody tr th {\n        vertical-align: top;\n    }\n\n    .dataframe thead th {\n        text-align: right;\n    }\n</style>\n<table border=\"1\" class=\"dataframe\">\n  <thead>\n    <tr style=\"text-align: right;\">\n      <th></th>\n      <th>dog_id</th>\n      <th>hs_condition_type</th>\n      <th>hs_condition</th>\n      <th>hs_condition_other_description</th>\n      <th>hs_condition_is_congenital</th>\n      <th>hs_eye_condition_cause</th>\n      <th>hs_condition_cause_other_description</th>\n      <th>hs_neurological_condition_vestibular_disease_type</th>\n      <th>hs_diagnosis_year</th>\n      <th>hs_diagnosis_month</th>\n      <th>hs_required_surgery_or_hospitalization</th>\n      <th>hs_follow_up_ongoing</th>\n    </tr>\n  </thead>\n  <tbody>\n    <tr>\n      <th>0</th>\n      <td>100001</td>\n      <td>3</td>\n      <td>304.0</td>\n      <td>NaN</td>\n      <td>False</td>\n      <td>NaN</td>\n      <td>NaN</td>\n      <td>NaN</td>\n      <td>2021.0</td>\n      <td>1.0</td>\n      <td>1.0</td>\n      <td>False</td>\n    </tr>\n    <tr>\n      <th>1</th>\n      <td>100001</td>\n      <td>3</td>\n      <td>305.0</td>\n      <td>NaN</td>\n      <td>False</td>\n      <td>NaN</td>\n      <td>NaN</td>\n      <td>NaN</td>\n      <td>2021.0</td>\n      <td>1.0</td>\n      <td>1.0</td>\n      <td>True</td>\n    </tr>\n    <tr>\n      <th>2</th>\n      <td>100001</td>\n      <td>3</td>\n      <td>306.0</td>\n      <td>NaN</td>\n      <td>False</td>\n      <td>NaN</td>\n      <td>NaN</td>\n      <td>NaN</td>\n      <td>2021.0</td>\n      <td>1.0</td>\n      <td>1.0</td>\n      <td>True</td>\n    </tr>\n    <tr>\n      <th>3</th>\n      <td>100004</td>\n      <td>16</td>\n      <td>1617.0</td>\n      <td>NaN</td>\n      <td>False</td>\n      <td>NaN</td>\n      <td>NaN</td>\n      <td>NaN</td>\n      <td>2018.0</td>\n      <td>9.0</td>\n      <td>4.0</td>\n      <td>False</td>\n    </tr>\n    <tr>\n      <th>4</th>\n      <td>100005</td>\n      <td>1</td>\n      <td>102.0</td>\n      <td>NaN</td>\n      <td>False</td>\n      <td>NaN</td>\n      <td>NaN</td>\n      <td>NaN</td>\n      <td>2021.0</td>\n      <td>2.0</td>\n      <td>4.0</td>\n      <td>False</td>\n    </tr>\n    <tr>\n      <th>...</th>\n      <td>...</td>\n      <td>...</td>\n      <td>...</td>\n      <td>...</td>\n      <td>...</td>\n      <td>...</td>\n      <td>...</td>\n      <td>...</td>\n      <td>...</td>\n      <td>...</td>\n      <td>...</td>\n      <td>...</td>\n    </tr>\n    <tr>\n      <th>92995</th>\n      <td>99999</td>\n      <td>13</td>\n      <td>1306.0</td>\n      <td>NaN</td>\n      <td>False</td>\n      <td>NaN</td>\n      <td>NaN</td>\n      <td>NaN</td>\n      <td>2020.0</td>\n      <td>6.0</td>\n      <td>4.0</td>\n      <td>True</td>\n    </tr>\n    <tr>\n      <th>92996</th>\n      <td>99999</td>\n      <td>16</td>\n      <td>1627.0</td>\n      <td>NaN</td>\n      <td>False</td>\n      <td>NaN</td>\n      <td>NaN</td>\n      <td>NaN</td>\n      <td>2018.0</td>\n      <td>6.0</td>\n      <td>4.0</td>\n      <td>False</td>\n    </tr>\n    <tr>\n      <th>92997</th>\n      <td>99999</td>\n      <td>16</td>\n      <td>1634.0</td>\n      <td>NaN</td>\n      <td>False</td>\n      <td>NaN</td>\n      <td>NaN</td>\n      <td>NaN</td>\n      <td>2015.0</td>\n      <td>10.0</td>\n      <td>4.0</td>\n      <td>True</td>\n    </tr>\n    <tr>\n      <th>92998</th>\n      <td>82743</td>\n      <td>4</td>\n      <td>404.0</td>\n      <td>NaN</td>\n      <td>False</td>\n      <td>NaN</td>\n      <td>NaN</td>\n      <td>NaN</td>\n      <td>2013.0</td>\n      <td>7.0</td>\n      <td>4.0</td>\n      <td>False</td>\n    </tr>\n    <tr>\n      <th>92999</th>\n      <td>82743</td>\n      <td>17</td>\n      <td>1798.0</td>\n      <td>Unknown</td>\n      <td>False</td>\n      <td>NaN</td>\n      <td>NaN</td>\n      <td>NaN</td>\n      <td>2015.0</td>\n      <td>7.0</td>\n      <td>4.0</td>\n      <td>False</td>\n    </tr>\n  </tbody>\n</table>\n<p>93000 rows × 12 columns</p>\n</div>"
     },
     "execution_count": 10,
     "metadata": {},
     "output_type": "execute_result"
    }
   ],
   "source": [
    "file_path_HLES_hc = '../Dataset/SurveyData/SurveyData_CSV_DAP_2021_HLES_health_conditions_v1.0.csv'\n",
    "df_HLES_hc = pd.read_csv(file_path_HLES_hc, delimiter=',')\n",
    "df_HLES_hc"
   ],
   "metadata": {
    "collapsed": false
   }
  },
  {
   "cell_type": "code",
   "execution_count": 11,
   "outputs": [
    {
     "data": {
      "text/plain": "dog_id\n41178    36\n36023    28\n64803    26\n66370    25\n5074     24\n         ..\n84814     1\n84808     1\n84802     1\n45703     1\n59310     1\nName: count, Length: 26702, dtype: int64"
     },
     "execution_count": 11,
     "metadata": {},
     "output_type": "execute_result"
    }
   ],
   "source": [
    "df_HLES_hc['dog_id'].value_counts()"
   ],
   "metadata": {
    "collapsed": false
   }
  },
  {
   "cell_type": "code",
   "execution_count": 12,
   "outputs": [
    {
     "data": {
      "text/plain": "dog_id                                                 int64\nhs_condition_type                                      int64\nhs_condition                                         float64\nhs_condition_other_description                        object\nhs_condition_is_congenital                              bool\nhs_eye_condition_cause                               float64\nhs_condition_cause_other_description                  object\nhs_neurological_condition_vestibular_disease_type    float64\nhs_diagnosis_year                                    float64\nhs_diagnosis_month                                   float64\nhs_required_surgery_or_hospitalization               float64\nhs_follow_up_ongoing                                  object\ndtype: object"
     },
     "execution_count": 12,
     "metadata": {},
     "output_type": "execute_result"
    }
   ],
   "source": [
    "df_HLES_hc.dtypes"
   ],
   "metadata": {
    "collapsed": false
   }
  },
  {
   "cell_type": "code",
   "execution_count": 14,
   "outputs": [],
   "source": [
    "float_columns = df_HLES_hc.select_dtypes(include='float64').columns"
   ],
   "metadata": {
    "collapsed": false
   }
  },
  {
   "cell_type": "code",
   "execution_count": 15,
   "outputs": [
    {
     "data": {
      "text/plain": "Index(['hs_condition', 'hs_eye_condition_cause',\n       'hs_neurological_condition_vestibular_disease_type',\n       'hs_diagnosis_year', 'hs_diagnosis_month',\n       'hs_required_surgery_or_hospitalization'],\n      dtype='object')"
     },
     "execution_count": 15,
     "metadata": {},
     "output_type": "execute_result"
    }
   ],
   "source": [
    "float_columns"
   ],
   "metadata": {
    "collapsed": false
   }
  },
  {
   "cell_type": "code",
   "execution_count": null,
   "outputs": [],
   "source": [],
   "metadata": {
    "collapsed": false
   }
  }
 ],
 "metadata": {
  "kernelspec": {
   "display_name": "Python 3",
   "language": "python",
   "name": "python3"
  },
  "language_info": {
   "codemirror_mode": {
    "name": "ipython",
    "version": 2
   },
   "file_extension": ".py",
   "mimetype": "text/x-python",
   "name": "python",
   "nbconvert_exporter": "python",
   "pygments_lexer": "ipython2",
   "version": "2.7.6"
  }
 },
 "nbformat": 4,
 "nbformat_minor": 0
}
