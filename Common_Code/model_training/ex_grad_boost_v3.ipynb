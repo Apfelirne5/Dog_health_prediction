{
 "cells": [
  {
   "cell_type": "code",
   "execution_count": 4,
   "metadata": {
    "collapsed": true
   },
   "outputs": [],
   "source": [
    "import pandas as pd\n",
    "import os\n",
    "import numpy as np\n",
    "import pandas as pd\n",
    "import joblib\n",
    "from joblib import dump\n",
    "from functools import reduce\n",
    "#from imblearn.over_sampling import RandomOverSampler\n",
    "\n",
    "from sklearn.model_selection import train_test_split, StratifiedShuffleSplit, StratifiedKFold\n",
    "from sklearn.metrics import roc_auc_score, classification_report\n",
    "from sklearn.multiclass import OneVsRestClassifier\n",
    "#from skmultilearn.model_selection import MultiLabelStratifiedKFold\n",
    "from iterstrat.ml_stratifiers import MultilabelStratifiedKFold\n",
    "from sklearn.preprocessing import MinMaxScaler\n",
    "from sklearn.preprocessing import StandardScaler\n",
    "\n",
    "# Models\n",
    "from sklearn.naive_bayes import MultinomialNB\n",
    "from sklearn.linear_model import LogisticRegression\n",
    "from sklearn.neural_network import MLPClassifier\n",
    "from sklearn.ensemble import GradientBoostingClassifier\n",
    "import xgboost as xgb\n",
    "from sklearn.ensemble import RandomForestClassifier"
   ]
  },
  {
   "cell_type": "code",
   "execution_count": 5,
   "outputs": [
    {
     "data": {
      "text/plain": "        dog_id  age_diagnosis_years  condition_type_Bone/Orthopedic  \\\n0       100001                    0                           False   \n1       100001                    1                           False   \n2       100001                    2                           False   \n3       100001                    3                           False   \n4       100001                    4                           False   \n...        ...                  ...                             ...   \n910915    3373                   10                           False   \n910929   14856                   10                           False   \n910936   58327                    6                           False   \n910945    3417                    1                           False   \n910962    2063                    7                           False   \n\n        condition_type_Brain/Neurologic  condition_type_Cardiac  \\\n0                                 False                   False   \n1                                 False                   False   \n2                                 False                   False   \n3                                 False                   False   \n4                                 False                   False   \n...                                 ...                     ...   \n910915                            False                   False   \n910929                            False                   False   \n910936                            False                   False   \n910945                            False                   False   \n910962                            False                   False   \n\n        condition_type_Ear/Nose/Throat  condition_type_Endocrine  \\\n0                                False                     False   \n1                                False                     False   \n2                                False                     False   \n3                                False                     False   \n4                                False                     False   \n...                                ...                       ...   \n910915                           False                     False   \n910929                           False                     False   \n910936                           False                     False   \n910945                           False                     False   \n910962                           False                     False   \n\n        condition_type_Eye  condition_type_Gastrointestinal  \\\n0                    False                            False   \n1                    False                            False   \n2                    False                            False   \n3                    False                            False   \n4                    False                            False   \n...                    ...                              ...   \n910915               False                            False   \n910929               False                            False   \n910936               False                            False   \n910945               False                            False   \n910962               False                            False   \n\n        condition_type_Hematopoietic  ...  condition_type_Kidney/Urinary  \\\n0                              False  ...                          False   \n1                              False  ...                          False   \n2                              False  ...                          False   \n3                              False  ...                          False   \n4                              False  ...                          False   \n...                              ...  ...                            ...   \n910915                         False  ...                          False   \n910929                         False  ...                          False   \n910936                         False  ...                          False   \n910945                         False  ...                          False   \n910962                         False  ...                          False   \n\n        condition_type_Liver/Pancreas  condition_type_Mouth/Dental/Oral  \\\n0                               False                             False   \n1                               False                             False   \n2                               False                             False   \n3                               False                             False   \n4                               False                             False   \n...                               ...                               ...   \n910915                          False                             False   \n910929                          False                             False   \n910936                          False                             False   \n910945                          False                             False   \n910962                          False                             False   \n\n        condition_type_Other Congenital Disorder  condition_type_Reproductive  \\\n0                                          False                        False   \n1                                          False                        False   \n2                                          False                        False   \n3                                          False                        False   \n4                                          False                        False   \n...                                          ...                          ...   \n910915                                     False                        False   \n910929                                     False                        False   \n910936                                     False                        False   \n910945                                     False                        False   \n910962                                     False                        False   \n\n        condition_type_Respiratory  condition_type_Skin  \\\n0                            False                False   \n1                            False                False   \n2                            False                False   \n3                            False                False   \n4                            False                False   \n...                            ...                  ...   \n910915                       False                False   \n910929                       False                False   \n910936                       False                False   \n910945                       False                False   \n910962                       False                False   \n\n        condition_type_Toxin Consumption  condition_type_Trauma  \\\n0                                  False                  False   \n1                                  False                  False   \n2                                  False                  False   \n3                                  False                  False   \n4                                  False                  False   \n...                                  ...                    ...   \n910915                             False                  False   \n910929                             False                  False   \n910936                             False                  False   \n910945                             False                  False   \n910962                             False                  False   \n\n        condition_type_cancer  \n0                       False  \n1                       False  \n2                       False  \n3                       False  \n4                       False  \n...                       ...  \n910915                   True  \n910929                   True  \n910936                   True  \n910945                   True  \n910962                   True  \n\n[306428 rows x 22 columns]",
      "text/html": "<div>\n<style scoped>\n    .dataframe tbody tr th:only-of-type {\n        vertical-align: middle;\n    }\n\n    .dataframe tbody tr th {\n        vertical-align: top;\n    }\n\n    .dataframe thead th {\n        text-align: right;\n    }\n</style>\n<table border=\"1\" class=\"dataframe\">\n  <thead>\n    <tr style=\"text-align: right;\">\n      <th></th>\n      <th>dog_id</th>\n      <th>age_diagnosis_years</th>\n      <th>condition_type_Bone/Orthopedic</th>\n      <th>condition_type_Brain/Neurologic</th>\n      <th>condition_type_Cardiac</th>\n      <th>condition_type_Ear/Nose/Throat</th>\n      <th>condition_type_Endocrine</th>\n      <th>condition_type_Eye</th>\n      <th>condition_type_Gastrointestinal</th>\n      <th>condition_type_Hematopoietic</th>\n      <th>...</th>\n      <th>condition_type_Kidney/Urinary</th>\n      <th>condition_type_Liver/Pancreas</th>\n      <th>condition_type_Mouth/Dental/Oral</th>\n      <th>condition_type_Other Congenital Disorder</th>\n      <th>condition_type_Reproductive</th>\n      <th>condition_type_Respiratory</th>\n      <th>condition_type_Skin</th>\n      <th>condition_type_Toxin Consumption</th>\n      <th>condition_type_Trauma</th>\n      <th>condition_type_cancer</th>\n    </tr>\n  </thead>\n  <tbody>\n    <tr>\n      <th>0</th>\n      <td>100001</td>\n      <td>0</td>\n      <td>False</td>\n      <td>False</td>\n      <td>False</td>\n      <td>False</td>\n      <td>False</td>\n      <td>False</td>\n      <td>False</td>\n      <td>False</td>\n      <td>...</td>\n      <td>False</td>\n      <td>False</td>\n      <td>False</td>\n      <td>False</td>\n      <td>False</td>\n      <td>False</td>\n      <td>False</td>\n      <td>False</td>\n      <td>False</td>\n      <td>False</td>\n    </tr>\n    <tr>\n      <th>1</th>\n      <td>100001</td>\n      <td>1</td>\n      <td>False</td>\n      <td>False</td>\n      <td>False</td>\n      <td>False</td>\n      <td>False</td>\n      <td>False</td>\n      <td>False</td>\n      <td>False</td>\n      <td>...</td>\n      <td>False</td>\n      <td>False</td>\n      <td>False</td>\n      <td>False</td>\n      <td>False</td>\n      <td>False</td>\n      <td>False</td>\n      <td>False</td>\n      <td>False</td>\n      <td>False</td>\n    </tr>\n    <tr>\n      <th>2</th>\n      <td>100001</td>\n      <td>2</td>\n      <td>False</td>\n      <td>False</td>\n      <td>False</td>\n      <td>False</td>\n      <td>False</td>\n      <td>False</td>\n      <td>False</td>\n      <td>False</td>\n      <td>...</td>\n      <td>False</td>\n      <td>False</td>\n      <td>False</td>\n      <td>False</td>\n      <td>False</td>\n      <td>False</td>\n      <td>False</td>\n      <td>False</td>\n      <td>False</td>\n      <td>False</td>\n    </tr>\n    <tr>\n      <th>3</th>\n      <td>100001</td>\n      <td>3</td>\n      <td>False</td>\n      <td>False</td>\n      <td>False</td>\n      <td>False</td>\n      <td>False</td>\n      <td>False</td>\n      <td>False</td>\n      <td>False</td>\n      <td>...</td>\n      <td>False</td>\n      <td>False</td>\n      <td>False</td>\n      <td>False</td>\n      <td>False</td>\n      <td>False</td>\n      <td>False</td>\n      <td>False</td>\n      <td>False</td>\n      <td>False</td>\n    </tr>\n    <tr>\n      <th>4</th>\n      <td>100001</td>\n      <td>4</td>\n      <td>False</td>\n      <td>False</td>\n      <td>False</td>\n      <td>False</td>\n      <td>False</td>\n      <td>False</td>\n      <td>False</td>\n      <td>False</td>\n      <td>...</td>\n      <td>False</td>\n      <td>False</td>\n      <td>False</td>\n      <td>False</td>\n      <td>False</td>\n      <td>False</td>\n      <td>False</td>\n      <td>False</td>\n      <td>False</td>\n      <td>False</td>\n    </tr>\n    <tr>\n      <th>...</th>\n      <td>...</td>\n      <td>...</td>\n      <td>...</td>\n      <td>...</td>\n      <td>...</td>\n      <td>...</td>\n      <td>...</td>\n      <td>...</td>\n      <td>...</td>\n      <td>...</td>\n      <td>...</td>\n      <td>...</td>\n      <td>...</td>\n      <td>...</td>\n      <td>...</td>\n      <td>...</td>\n      <td>...</td>\n      <td>...</td>\n      <td>...</td>\n      <td>...</td>\n      <td>...</td>\n    </tr>\n    <tr>\n      <th>910915</th>\n      <td>3373</td>\n      <td>10</td>\n      <td>False</td>\n      <td>False</td>\n      <td>False</td>\n      <td>False</td>\n      <td>False</td>\n      <td>False</td>\n      <td>False</td>\n      <td>False</td>\n      <td>...</td>\n      <td>False</td>\n      <td>False</td>\n      <td>False</td>\n      <td>False</td>\n      <td>False</td>\n      <td>False</td>\n      <td>False</td>\n      <td>False</td>\n      <td>False</td>\n      <td>True</td>\n    </tr>\n    <tr>\n      <th>910929</th>\n      <td>14856</td>\n      <td>10</td>\n      <td>False</td>\n      <td>False</td>\n      <td>False</td>\n      <td>False</td>\n      <td>False</td>\n      <td>False</td>\n      <td>False</td>\n      <td>False</td>\n      <td>...</td>\n      <td>False</td>\n      <td>False</td>\n      <td>False</td>\n      <td>False</td>\n      <td>False</td>\n      <td>False</td>\n      <td>False</td>\n      <td>False</td>\n      <td>False</td>\n      <td>True</td>\n    </tr>\n    <tr>\n      <th>910936</th>\n      <td>58327</td>\n      <td>6</td>\n      <td>False</td>\n      <td>False</td>\n      <td>False</td>\n      <td>False</td>\n      <td>False</td>\n      <td>False</td>\n      <td>False</td>\n      <td>False</td>\n      <td>...</td>\n      <td>False</td>\n      <td>False</td>\n      <td>False</td>\n      <td>False</td>\n      <td>False</td>\n      <td>False</td>\n      <td>False</td>\n      <td>False</td>\n      <td>False</td>\n      <td>True</td>\n    </tr>\n    <tr>\n      <th>910945</th>\n      <td>3417</td>\n      <td>1</td>\n      <td>False</td>\n      <td>False</td>\n      <td>False</td>\n      <td>False</td>\n      <td>False</td>\n      <td>False</td>\n      <td>False</td>\n      <td>False</td>\n      <td>...</td>\n      <td>False</td>\n      <td>False</td>\n      <td>False</td>\n      <td>False</td>\n      <td>False</td>\n      <td>False</td>\n      <td>False</td>\n      <td>False</td>\n      <td>False</td>\n      <td>True</td>\n    </tr>\n    <tr>\n      <th>910962</th>\n      <td>2063</td>\n      <td>7</td>\n      <td>False</td>\n      <td>False</td>\n      <td>False</td>\n      <td>False</td>\n      <td>False</td>\n      <td>False</td>\n      <td>False</td>\n      <td>False</td>\n      <td>...</td>\n      <td>False</td>\n      <td>False</td>\n      <td>False</td>\n      <td>False</td>\n      <td>False</td>\n      <td>False</td>\n      <td>False</td>\n      <td>False</td>\n      <td>False</td>\n      <td>True</td>\n    </tr>\n  </tbody>\n</table>\n<p>306428 rows × 22 columns</p>\n</div>"
     },
     "execution_count": 5,
     "metadata": {},
     "output_type": "execute_result"
    }
   ],
   "source": [
    "# breed\n",
    "feat_breed = pd.read_pickle('../features/breed.pkl')\n",
    "feat_breed_v2 = pd.read_pickle('../features/breed_v2.pkl')\n",
    "\n",
    "feat_breed_top50 = pd.read_pickle('../features/breed_top50.pkl')\n",
    "feat_breed_top50_v2 = pd.read_pickle('../features/breed_top50_v2.pkl')\n",
    "\n",
    "feat_breed_group = pd.read_pickle('../features/breed_group.pkl')\n",
    "feat_sub_breed = pd.read_pickle('../features/sub_breed.pkl')\n",
    "feat_breed_type = pd.read_pickle('../features/breed_type.pkl')\n",
    "\n",
    "feat_breed_pure_or_mix = pd.read_pickle('../features/breed_pure_or_mix.pkl')\n",
    "\n",
    "# age\n",
    "feat_age = pd.read_csv('../features/age_with_id.csv')\n",
    "\n",
    "# sex\n",
    "feat_sex = pd.read_csv('../features/one_hot_encoded_sex_with_id.csv')\n",
    "\n",
    "# weight\n",
    "feat_weight = pd.read_pickle('../features/weight.pkl')\n",
    "\n",
    "# Climate\n",
    "# feat_HotWheater = pd.read_csv('../features/one_hot_encoded_HotWheater_with_id.csv')\n",
    "# feat_ModerateWheather = pd.read_csv('../features/one_hot_encoded_ModerateWheather_with_id.csv')\n",
    "# feat_ColdWheater_with_id = pd.read_csv('../features/one_hot_encoded_ColdWheater_with_id.csv')\n",
    "feat_cold_month = pd.read_pickle('../features/ColdMonths.pkl')\n",
    "feat_hot_month = pd.read_pickle('../features/HotMonths.pkl')\n",
    "\n",
    "# Diet\n",
    "feat_diet = pd.read_pickle('../features/diet.pkl') # 5 columns\n",
    "\n",
    "# Physical Activity\n",
    "feat_pa_total_hours = pd.read_csv('../features/PhysicalActivity_total_hours.csv')\n",
    "feat_pa_surface = pd.read_csv('../features/PhysicalActivity_surface.csv')\n",
    "feat_pa_wheather = pd.read_csv('../features/PhysicalActivity_wheather.csv')\n",
    "\n",
    "# Owner Demographics\n",
    "feat_od_income = pd.read_pickle('../features/od_income.pkl')\n",
    "feat_od_education = pd.read_pickle('../features/od_education.pkl')\n",
    "\n",
    "# Residentual\n",
    "feat_prim_census_division = pd.read_pickle('../features/primary_residence_census_division.pkl')\n",
    "\n",
    "# disease\n",
    "feat_disease_input = pd.read_csv('../features/one_hot_encoded_disease_input.csv')\n",
    "feat_disease_output_binary = pd.read_csv('../features/disease_output_binary.csv')\n",
    "feat_disease_output = pd.read_csv('../features/disease_output.csv')\n",
    "\n",
    "# age_condition\n",
    "feat_age_condition = pd.read_pickle('../features/age_condition.pkl')\n",
    "feat_age_condition_type = pd.read_pickle('../features/age_condition_type.pkl')\n",
    "feat_age_condition_type_no_false = pd.read_pickle('../features/age_condition_type_no_false.pkl')\n",
    "\n",
    "\n",
    "features_list = [\n",
    "\n",
    "    # breed\n",
    "    #feat_breed,\n",
    "    #feat_breed_v2,\n",
    "    #feat_breed_top50,\n",
    "    #feat_breed_top50_v2,\n",
    "    #feat_breed_group,\n",
    "    #feat_sub_breed,\n",
    "    #feat_breed_type,\n",
    "    #feat_breed_pure_or_mix,\n",
    "\n",
    "    # age\n",
    "    #feat_age,   # 24881 dog_ids\n",
    "\n",
    "    # sex\n",
    "    #feat_sex,\n",
    "\n",
    "    # weight\n",
    "    #feat_weight\n",
    "\n",
    "    # diet\n",
    "    #feat_diet,  # 33141 dog_ids for df_diet_consistency\n",
    "\n",
    "    #feat_HotWheater,\n",
    "    #feat_ModerateWheather,\n",
    "    #feat_ColdWheater_with_id,\n",
    "\n",
    "    # Climate\n",
    "    #feat_hot_month,\n",
    "    #feat_cold_month,\n",
    "\n",
    "    # Physical Activity\n",
    "    #feat_pa_total_hours,\n",
    "    #feat_pa_surface,\n",
    "    #feat_pa_wheather,   # 26406 dog_ids\n",
    "\n",
    "    # Owner demographics\n",
    "    #feat_od_income,    # 29096 dog_ids\n",
    "    #feat_od_education\n",
    "\n",
    "    # Residentual\n",
    "    feat_prim_census_division,  # 33136 dog_ids\n",
    "\n",
    "    # disease\n",
    "    #feat_disease_input,\n",
    "    #feat_disease_output_binary,\n",
    "    #feat_disease_output\n",
    "]\n",
    "\n",
    "feat_age_condition_type"
   ],
   "metadata": {
    "collapsed": false
   }
  },
  {
   "cell_type": "code",
   "execution_count": 6,
   "outputs": [],
   "source": [
    "feat_age_condition_type_under16 = feat_age_condition_type[feat_age_condition_type['age_diagnosis_years'] < 16]\n",
    "\n",
    "feat_age_condition_type_no_false_under16 = feat_age_condition_type_no_false[feat_age_condition_type_no_false['age_diagnosis_years'] < 16]"
   ],
   "metadata": {
    "collapsed": false
   }
  },
  {
   "cell_type": "code",
   "execution_count": 7,
   "outputs": [],
   "source": [
    "exp1 = []\n",
    "exp2 = [feat_breed_top50_v2]\n",
    "exp3 = [feat_breed_group]\n",
    "exp4 = [feat_breed_type, feat_sub_breed, feat_breed_pure_or_mix]\n",
    "exp5 = [feat_breed_top50_v2, feat_breed_group, feat_breed_type, feat_sub_breed, feat_breed_pure_or_mix,\n",
    "        feat_age]\n",
    "exp6 = [feat_breed_top50_v2, feat_breed_group, feat_breed_type, feat_sub_breed, feat_breed_pure_or_mix,\n",
    "        feat_age, feat_sex]\n",
    "exp7 = [feat_breed_top50_v2, feat_breed_group, feat_breed_type, feat_sub_breed, feat_breed_pure_or_mix,\n",
    "        feat_age, feat_weight]\n",
    "exp8 = [feat_breed_top50_v2, feat_breed_group, feat_breed_type, feat_sub_breed, feat_breed_pure_or_mix,\n",
    "        feat_age, feat_sex, feat_weight, feat_hot_month, feat_cold_month]\n",
    "exp9 = [feat_breed_top50_v2, feat_breed_group, feat_breed_type, feat_sub_breed, feat_breed_pure_or_mix,\n",
    "        feat_age, feat_sex, feat_weight, feat_prim_census_division]\n",
    "exp10 = [feat_breed_top50_v2, feat_breed_group, feat_breed_type, feat_sub_breed, feat_breed_pure_or_mix,\n",
    "         feat_age, feat_sex, feat_weight, feat_cold_month, feat_hot_month, feat_prim_census_division]\n",
    "exp11 = [feat_breed_top50_v2, feat_breed_group, feat_breed_type, feat_sub_breed, feat_breed_pure_or_mix,\n",
    "         feat_age, feat_sex, feat_weight,\n",
    "         feat_cold_month, feat_hot_month,\n",
    "         feat_prim_census_division,\n",
    "         feat_pa_surface, feat_pa_total_hours]\n",
    "exp12 = [feat_breed_top50_v2, feat_breed_group, feat_breed_type, feat_sub_breed, feat_breed_pure_or_mix,\n",
    "         feat_age, feat_sex, feat_weight,\n",
    "         feat_cold_month, feat_hot_month,\n",
    "         feat_prim_census_division,\n",
    "         feat_diet]\n",
    "exp13 = [feat_breed_top50_v2, feat_breed_group, feat_breed_type, feat_sub_breed, feat_breed_pure_or_mix,\n",
    "         feat_age, feat_sex, feat_weight,\n",
    "         feat_cold_month, feat_hot_month,\n",
    "         feat_prim_census_division,\n",
    "         feat_pa_surface, feat_pa_total_hours,\n",
    "         feat_diet]\n",
    "exp14 = [feat_breed_top50_v2, feat_breed_group, feat_breed_type, feat_sub_breed, feat_breed_pure_or_mix,\n",
    "         feat_age, feat_sex, feat_weight,\n",
    "         feat_cold_month, feat_hot_month,\n",
    "         feat_prim_census_division,\n",
    "         feat_pa_surface, feat_pa_total_hours,\n",
    "         feat_diet,\n",
    "         feat_od_education, feat_od_income]\n",
    "exp15 = [feat_breed_top50_v2, feat_breed_group, feat_breed_type, feat_sub_breed, feat_breed_pure_or_mix,\n",
    "         feat_age, feat_sex,\n",
    "         feat_pa_surface, feat_pa_total_hours,\n",
    "         feat_diet\n",
    "         ]\n"
   ],
   "metadata": {
    "collapsed": false
   }
  },
  {
   "cell_type": "code",
   "execution_count": 8,
   "outputs": [],
   "source": [
    "experiments = {\n",
    "    #'exp1': exp1,\n",
    "    #'exp2': exp2,\n",
    "    #'exp3': exp3,\n",
    "    #'exp4': exp4,\n",
    "    #'exp5': exp5,\n",
    "    #'exp6': exp6,\n",
    "    #'exp7': exp7,\n",
    "    #'exp8': exp8,\n",
    "    #'exp9': exp9,\n",
    "    #'exp10': exp10,\n",
    "    #'exp11': exp11,\n",
    "    #'exp12': exp12,\n",
    "    'exp13': exp13,\n",
    "    #'exp14': exp14,\n",
    "    #'exp15': exp15,\n",
    "    #'exp16': exp16,\n",
    "    #'exp17': exp17,\n",
    "    #'exp18': exp18,\n",
    "    #'exp19': exp19,\n",
    "    #'exp20': exp20,\n",
    "    #'exp21': exp21\n",
    "}\n"
   ],
   "metadata": {
    "collapsed": false
   }
  },
  {
   "cell_type": "code",
   "execution_count": 9,
   "outputs": [],
   "source": [
    "def calculate_average_auc_scores(auc_scores_per_condition, sample_counts_per_condition):\n",
    "    num_folds = len(list(auc_scores_per_condition.values())[0])\n",
    "    average_auc_scores_per_fold = []\n",
    "\n",
    "    for fold in range(num_folds):\n",
    "        weighted_aucs = []\n",
    "\n",
    "        for condition_type in auc_scores_per_condition.keys():\n",
    "            auc_scores_fold = auc_scores_per_condition[condition_type][fold]\n",
    "            sample_counts_fold = sample_counts_per_condition[condition_type][fold]\n",
    "\n",
    "            weighted_auc = auc_scores_fold * sample_counts_fold\n",
    "            #print(auc_scores_fold, f\"sample_counts[{condition_type}][{fold}]\", sample_counts_fold)\n",
    "            weighted_aucs.append(weighted_auc)\n",
    "\n",
    "        total_weighted_auc = np.sum(weighted_aucs)\n",
    "        total_samples = np.sum([sample_counts_per_condition[condition_type][fold] for condition_type in auc_scores_per_condition.keys()])\n",
    "        average_auc_score_fold = total_weighted_auc / total_samples\n",
    "        average_auc_scores_per_fold.append(average_auc_score_fold)\n",
    "\n",
    "    return average_auc_scores_per_fold"
   ],
   "metadata": {
    "collapsed": false
   }
  },
  {
   "cell_type": "code",
   "execution_count": 10,
   "outputs": [
    {
     "name": "stdout",
     "output_type": "stream",
     "text": [
      "======================================================================================\n",
      "======================================================================================\n",
      "exp13================================================================================\n",
      "======================================================================================\n",
      "======================================================================================\n",
      "selected Extreme Gradient Boosting\n"
     ]
    },
    {
     "ename": "KeyboardInterrupt",
     "evalue": "",
     "output_type": "error",
     "traceback": [
      "\u001B[0;31m---------------------------------------------------------------------------\u001B[0m",
      "\u001B[0;31mKeyboardInterrupt\u001B[0m                         Traceback (most recent call last)",
      "Cell \u001B[0;32mIn[10], line 207\u001B[0m\n\u001B[1;32m    204\u001B[0m y_train, y_val \u001B[38;5;241m=\u001B[39m y_binary\u001B[38;5;241m.\u001B[39miloc[train_index], y_binary\u001B[38;5;241m.\u001B[39miloc[val_index]\n\u001B[1;32m    206\u001B[0m \u001B[38;5;66;03m# Train the model\u001B[39;00m\n\u001B[0;32m--> 207\u001B[0m \u001B[43movr_classifier\u001B[49m\u001B[38;5;241;43m.\u001B[39;49m\u001B[43mfit\u001B[49m\u001B[43m(\u001B[49m\u001B[43mX_train\u001B[49m\u001B[43m,\u001B[49m\u001B[43m \u001B[49m\u001B[43my_train\u001B[49m\u001B[43m)\u001B[49m\n\u001B[1;32m    209\u001B[0m \u001B[38;5;66;03m# Make predictions on the training set\u001B[39;00m\n\u001B[1;32m    210\u001B[0m y_train_pred_proba \u001B[38;5;241m=\u001B[39m ovr_classifier\u001B[38;5;241m.\u001B[39mpredict_proba(X_train)\n",
      "File \u001B[0;32m~/Desktop/Studium/Data_Science_2_code/Data_Science_alt_5/venv/lib/python3.11/site-packages/sklearn/base.py:1351\u001B[0m, in \u001B[0;36m_fit_context.<locals>.decorator.<locals>.wrapper\u001B[0;34m(estimator, *args, **kwargs)\u001B[0m\n\u001B[1;32m   1344\u001B[0m     estimator\u001B[38;5;241m.\u001B[39m_validate_params()\n\u001B[1;32m   1346\u001B[0m \u001B[38;5;28;01mwith\u001B[39;00m config_context(\n\u001B[1;32m   1347\u001B[0m     skip_parameter_validation\u001B[38;5;241m=\u001B[39m(\n\u001B[1;32m   1348\u001B[0m         prefer_skip_nested_validation \u001B[38;5;129;01mor\u001B[39;00m global_skip_validation\n\u001B[1;32m   1349\u001B[0m     )\n\u001B[1;32m   1350\u001B[0m ):\n\u001B[0;32m-> 1351\u001B[0m     \u001B[38;5;28;01mreturn\u001B[39;00m \u001B[43mfit_method\u001B[49m\u001B[43m(\u001B[49m\u001B[43mestimator\u001B[49m\u001B[43m,\u001B[49m\u001B[43m \u001B[49m\u001B[38;5;241;43m*\u001B[39;49m\u001B[43margs\u001B[49m\u001B[43m,\u001B[49m\u001B[43m \u001B[49m\u001B[38;5;241;43m*\u001B[39;49m\u001B[38;5;241;43m*\u001B[39;49m\u001B[43mkwargs\u001B[49m\u001B[43m)\u001B[49m\n",
      "File \u001B[0;32m~/Desktop/Studium/Data_Science_2_code/Data_Science_alt_5/venv/lib/python3.11/site-packages/sklearn/multiclass.py:366\u001B[0m, in \u001B[0;36mOneVsRestClassifier.fit\u001B[0;34m(self, X, y, **fit_params)\u001B[0m\n\u001B[1;32m    362\u001B[0m columns \u001B[38;5;241m=\u001B[39m (col\u001B[38;5;241m.\u001B[39mtoarray()\u001B[38;5;241m.\u001B[39mravel() \u001B[38;5;28;01mfor\u001B[39;00m col \u001B[38;5;129;01min\u001B[39;00m Y\u001B[38;5;241m.\u001B[39mT)\n\u001B[1;32m    363\u001B[0m \u001B[38;5;66;03m# In cases where individual estimators are very fast to train setting\u001B[39;00m\n\u001B[1;32m    364\u001B[0m \u001B[38;5;66;03m# n_jobs > 1 in can results in slower performance due to the overhead\u001B[39;00m\n\u001B[1;32m    365\u001B[0m \u001B[38;5;66;03m# of spawning threads.  See joblib issue #112.\u001B[39;00m\n\u001B[0;32m--> 366\u001B[0m \u001B[38;5;28mself\u001B[39m\u001B[38;5;241m.\u001B[39mestimators_ \u001B[38;5;241m=\u001B[39m \u001B[43mParallel\u001B[49m\u001B[43m(\u001B[49m\u001B[43mn_jobs\u001B[49m\u001B[38;5;241;43m=\u001B[39;49m\u001B[38;5;28;43mself\u001B[39;49m\u001B[38;5;241;43m.\u001B[39;49m\u001B[43mn_jobs\u001B[49m\u001B[43m,\u001B[49m\u001B[43m \u001B[49m\u001B[43mverbose\u001B[49m\u001B[38;5;241;43m=\u001B[39;49m\u001B[38;5;28;43mself\u001B[39;49m\u001B[38;5;241;43m.\u001B[39;49m\u001B[43mverbose\u001B[49m\u001B[43m)\u001B[49m\u001B[43m(\u001B[49m\n\u001B[1;32m    367\u001B[0m \u001B[43m    \u001B[49m\u001B[43mdelayed\u001B[49m\u001B[43m(\u001B[49m\u001B[43m_fit_binary\u001B[49m\u001B[43m)\u001B[49m\u001B[43m(\u001B[49m\n\u001B[1;32m    368\u001B[0m \u001B[43m        \u001B[49m\u001B[38;5;28;43mself\u001B[39;49m\u001B[38;5;241;43m.\u001B[39;49m\u001B[43mestimator\u001B[49m\u001B[43m,\u001B[49m\n\u001B[1;32m    369\u001B[0m \u001B[43m        \u001B[49m\u001B[43mX\u001B[49m\u001B[43m,\u001B[49m\n\u001B[1;32m    370\u001B[0m \u001B[43m        \u001B[49m\u001B[43mcolumn\u001B[49m\u001B[43m,\u001B[49m\n\u001B[1;32m    371\u001B[0m \u001B[43m        \u001B[49m\u001B[43mfit_params\u001B[49m\u001B[38;5;241;43m=\u001B[39;49m\u001B[43mrouted_params\u001B[49m\u001B[38;5;241;43m.\u001B[39;49m\u001B[43mestimator\u001B[49m\u001B[38;5;241;43m.\u001B[39;49m\u001B[43mfit\u001B[49m\u001B[43m,\u001B[49m\n\u001B[1;32m    372\u001B[0m \u001B[43m        \u001B[49m\u001B[43mclasses\u001B[49m\u001B[38;5;241;43m=\u001B[39;49m\u001B[43m[\u001B[49m\n\u001B[1;32m    373\u001B[0m \u001B[43m            \u001B[49m\u001B[38;5;124;43m\"\u001B[39;49m\u001B[38;5;124;43mnot \u001B[39;49m\u001B[38;5;132;43;01m%s\u001B[39;49;00m\u001B[38;5;124;43m\"\u001B[39;49m\u001B[43m \u001B[49m\u001B[38;5;241;43m%\u001B[39;49m\u001B[43m \u001B[49m\u001B[38;5;28;43mself\u001B[39;49m\u001B[38;5;241;43m.\u001B[39;49m\u001B[43mlabel_binarizer_\u001B[49m\u001B[38;5;241;43m.\u001B[39;49m\u001B[43mclasses_\u001B[49m\u001B[43m[\u001B[49m\u001B[43mi\u001B[49m\u001B[43m]\u001B[49m\u001B[43m,\u001B[49m\n\u001B[1;32m    374\u001B[0m \u001B[43m            \u001B[49m\u001B[38;5;28;43mself\u001B[39;49m\u001B[38;5;241;43m.\u001B[39;49m\u001B[43mlabel_binarizer_\u001B[49m\u001B[38;5;241;43m.\u001B[39;49m\u001B[43mclasses_\u001B[49m\u001B[43m[\u001B[49m\u001B[43mi\u001B[49m\u001B[43m]\u001B[49m\u001B[43m,\u001B[49m\n\u001B[1;32m    375\u001B[0m \u001B[43m        \u001B[49m\u001B[43m]\u001B[49m\u001B[43m,\u001B[49m\n\u001B[1;32m    376\u001B[0m \u001B[43m    \u001B[49m\u001B[43m)\u001B[49m\n\u001B[1;32m    377\u001B[0m \u001B[43m    \u001B[49m\u001B[38;5;28;43;01mfor\u001B[39;49;00m\u001B[43m \u001B[49m\u001B[43mi\u001B[49m\u001B[43m,\u001B[49m\u001B[43m \u001B[49m\u001B[43mcolumn\u001B[49m\u001B[43m \u001B[49m\u001B[38;5;129;43;01min\u001B[39;49;00m\u001B[43m \u001B[49m\u001B[38;5;28;43menumerate\u001B[39;49m\u001B[43m(\u001B[49m\u001B[43mcolumns\u001B[49m\u001B[43m)\u001B[49m\n\u001B[1;32m    378\u001B[0m \u001B[43m\u001B[49m\u001B[43m)\u001B[49m\n\u001B[1;32m    380\u001B[0m \u001B[38;5;28;01mif\u001B[39;00m \u001B[38;5;28mhasattr\u001B[39m(\u001B[38;5;28mself\u001B[39m\u001B[38;5;241m.\u001B[39mestimators_[\u001B[38;5;241m0\u001B[39m], \u001B[38;5;124m\"\u001B[39m\u001B[38;5;124mn_features_in_\u001B[39m\u001B[38;5;124m\"\u001B[39m):\n\u001B[1;32m    381\u001B[0m     \u001B[38;5;28mself\u001B[39m\u001B[38;5;241m.\u001B[39mn_features_in_ \u001B[38;5;241m=\u001B[39m \u001B[38;5;28mself\u001B[39m\u001B[38;5;241m.\u001B[39mestimators_[\u001B[38;5;241m0\u001B[39m]\u001B[38;5;241m.\u001B[39mn_features_in_\n",
      "File \u001B[0;32m~/Desktop/Studium/Data_Science_2_code/Data_Science_alt_5/venv/lib/python3.11/site-packages/sklearn/utils/parallel.py:67\u001B[0m, in \u001B[0;36mParallel.__call__\u001B[0;34m(self, iterable)\u001B[0m\n\u001B[1;32m     62\u001B[0m config \u001B[38;5;241m=\u001B[39m get_config()\n\u001B[1;32m     63\u001B[0m iterable_with_config \u001B[38;5;241m=\u001B[39m (\n\u001B[1;32m     64\u001B[0m     (_with_config(delayed_func, config), args, kwargs)\n\u001B[1;32m     65\u001B[0m     \u001B[38;5;28;01mfor\u001B[39;00m delayed_func, args, kwargs \u001B[38;5;129;01min\u001B[39;00m iterable\n\u001B[1;32m     66\u001B[0m )\n\u001B[0;32m---> 67\u001B[0m \u001B[38;5;28;01mreturn\u001B[39;00m \u001B[38;5;28;43msuper\u001B[39;49m\u001B[43m(\u001B[49m\u001B[43m)\u001B[49m\u001B[38;5;241;43m.\u001B[39;49m\u001B[38;5;21;43m__call__\u001B[39;49m\u001B[43m(\u001B[49m\u001B[43miterable_with_config\u001B[49m\u001B[43m)\u001B[49m\n",
      "File \u001B[0;32m~/Desktop/Studium/Data_Science_2_code/Data_Science_alt_5/venv/lib/python3.11/site-packages/joblib/parallel.py:1863\u001B[0m, in \u001B[0;36mParallel.__call__\u001B[0;34m(self, iterable)\u001B[0m\n\u001B[1;32m   1861\u001B[0m     output \u001B[38;5;241m=\u001B[39m \u001B[38;5;28mself\u001B[39m\u001B[38;5;241m.\u001B[39m_get_sequential_output(iterable)\n\u001B[1;32m   1862\u001B[0m     \u001B[38;5;28mnext\u001B[39m(output)\n\u001B[0;32m-> 1863\u001B[0m     \u001B[38;5;28;01mreturn\u001B[39;00m output \u001B[38;5;28;01mif\u001B[39;00m \u001B[38;5;28mself\u001B[39m\u001B[38;5;241m.\u001B[39mreturn_generator \u001B[38;5;28;01melse\u001B[39;00m \u001B[38;5;28;43mlist\u001B[39;49m\u001B[43m(\u001B[49m\u001B[43moutput\u001B[49m\u001B[43m)\u001B[49m\n\u001B[1;32m   1865\u001B[0m \u001B[38;5;66;03m# Let's create an ID that uniquely identifies the current call. If the\u001B[39;00m\n\u001B[1;32m   1866\u001B[0m \u001B[38;5;66;03m# call is interrupted early and that the same instance is immediately\u001B[39;00m\n\u001B[1;32m   1867\u001B[0m \u001B[38;5;66;03m# re-used, this id will be used to prevent workers that were\u001B[39;00m\n\u001B[1;32m   1868\u001B[0m \u001B[38;5;66;03m# concurrently finalizing a task from the previous call to run the\u001B[39;00m\n\u001B[1;32m   1869\u001B[0m \u001B[38;5;66;03m# callback.\u001B[39;00m\n\u001B[1;32m   1870\u001B[0m \u001B[38;5;28;01mwith\u001B[39;00m \u001B[38;5;28mself\u001B[39m\u001B[38;5;241m.\u001B[39m_lock:\n",
      "File \u001B[0;32m~/Desktop/Studium/Data_Science_2_code/Data_Science_alt_5/venv/lib/python3.11/site-packages/joblib/parallel.py:1792\u001B[0m, in \u001B[0;36mParallel._get_sequential_output\u001B[0;34m(self, iterable)\u001B[0m\n\u001B[1;32m   1790\u001B[0m \u001B[38;5;28mself\u001B[39m\u001B[38;5;241m.\u001B[39mn_dispatched_batches \u001B[38;5;241m+\u001B[39m\u001B[38;5;241m=\u001B[39m \u001B[38;5;241m1\u001B[39m\n\u001B[1;32m   1791\u001B[0m \u001B[38;5;28mself\u001B[39m\u001B[38;5;241m.\u001B[39mn_dispatched_tasks \u001B[38;5;241m+\u001B[39m\u001B[38;5;241m=\u001B[39m \u001B[38;5;241m1\u001B[39m\n\u001B[0;32m-> 1792\u001B[0m res \u001B[38;5;241m=\u001B[39m \u001B[43mfunc\u001B[49m\u001B[43m(\u001B[49m\u001B[38;5;241;43m*\u001B[39;49m\u001B[43margs\u001B[49m\u001B[43m,\u001B[49m\u001B[43m \u001B[49m\u001B[38;5;241;43m*\u001B[39;49m\u001B[38;5;241;43m*\u001B[39;49m\u001B[43mkwargs\u001B[49m\u001B[43m)\u001B[49m\n\u001B[1;32m   1793\u001B[0m \u001B[38;5;28mself\u001B[39m\u001B[38;5;241m.\u001B[39mn_completed_tasks \u001B[38;5;241m+\u001B[39m\u001B[38;5;241m=\u001B[39m \u001B[38;5;241m1\u001B[39m\n\u001B[1;32m   1794\u001B[0m \u001B[38;5;28mself\u001B[39m\u001B[38;5;241m.\u001B[39mprint_progress()\n",
      "File \u001B[0;32m~/Desktop/Studium/Data_Science_2_code/Data_Science_alt_5/venv/lib/python3.11/site-packages/sklearn/utils/parallel.py:129\u001B[0m, in \u001B[0;36m_FuncWrapper.__call__\u001B[0;34m(self, *args, **kwargs)\u001B[0m\n\u001B[1;32m    127\u001B[0m     config \u001B[38;5;241m=\u001B[39m {}\n\u001B[1;32m    128\u001B[0m \u001B[38;5;28;01mwith\u001B[39;00m config_context(\u001B[38;5;241m*\u001B[39m\u001B[38;5;241m*\u001B[39mconfig):\n\u001B[0;32m--> 129\u001B[0m     \u001B[38;5;28;01mreturn\u001B[39;00m \u001B[38;5;28;43mself\u001B[39;49m\u001B[38;5;241;43m.\u001B[39;49m\u001B[43mfunction\u001B[49m\u001B[43m(\u001B[49m\u001B[38;5;241;43m*\u001B[39;49m\u001B[43margs\u001B[49m\u001B[43m,\u001B[49m\u001B[43m \u001B[49m\u001B[38;5;241;43m*\u001B[39;49m\u001B[38;5;241;43m*\u001B[39;49m\u001B[43mkwargs\u001B[49m\u001B[43m)\u001B[49m\n",
      "File \u001B[0;32m~/Desktop/Studium/Data_Science_2_code/Data_Science_alt_5/venv/lib/python3.11/site-packages/sklearn/multiclass.py:96\u001B[0m, in \u001B[0;36m_fit_binary\u001B[0;34m(estimator, X, y, fit_params, classes)\u001B[0m\n\u001B[1;32m     94\u001B[0m \u001B[38;5;28;01melse\u001B[39;00m:\n\u001B[1;32m     95\u001B[0m     estimator \u001B[38;5;241m=\u001B[39m clone(estimator)\n\u001B[0;32m---> 96\u001B[0m     \u001B[43mestimator\u001B[49m\u001B[38;5;241;43m.\u001B[39;49m\u001B[43mfit\u001B[49m\u001B[43m(\u001B[49m\u001B[43mX\u001B[49m\u001B[43m,\u001B[49m\u001B[43m \u001B[49m\u001B[43my\u001B[49m\u001B[43m,\u001B[49m\u001B[43m \u001B[49m\u001B[38;5;241;43m*\u001B[39;49m\u001B[38;5;241;43m*\u001B[39;49m\u001B[43mfit_params\u001B[49m\u001B[43m)\u001B[49m\n\u001B[1;32m     97\u001B[0m \u001B[38;5;28;01mreturn\u001B[39;00m estimator\n",
      "File \u001B[0;32m~/Desktop/Studium/Data_Science_2_code/Data_Science_alt_5/venv/lib/python3.11/site-packages/xgboost/core.py:730\u001B[0m, in \u001B[0;36mrequire_keyword_args.<locals>.throw_if.<locals>.inner_f\u001B[0;34m(*args, **kwargs)\u001B[0m\n\u001B[1;32m    728\u001B[0m \u001B[38;5;28;01mfor\u001B[39;00m k, arg \u001B[38;5;129;01min\u001B[39;00m \u001B[38;5;28mzip\u001B[39m(sig\u001B[38;5;241m.\u001B[39mparameters, args):\n\u001B[1;32m    729\u001B[0m     kwargs[k] \u001B[38;5;241m=\u001B[39m arg\n\u001B[0;32m--> 730\u001B[0m \u001B[38;5;28;01mreturn\u001B[39;00m \u001B[43mfunc\u001B[49m\u001B[43m(\u001B[49m\u001B[38;5;241;43m*\u001B[39;49m\u001B[38;5;241;43m*\u001B[39;49m\u001B[43mkwargs\u001B[49m\u001B[43m)\u001B[49m\n",
      "File \u001B[0;32m~/Desktop/Studium/Data_Science_2_code/Data_Science_alt_5/venv/lib/python3.11/site-packages/xgboost/sklearn.py:1519\u001B[0m, in \u001B[0;36mXGBClassifier.fit\u001B[0;34m(self, X, y, sample_weight, base_margin, eval_set, eval_metric, early_stopping_rounds, verbose, xgb_model, sample_weight_eval_set, base_margin_eval_set, feature_weights, callbacks)\u001B[0m\n\u001B[1;32m   1491\u001B[0m (\n\u001B[1;32m   1492\u001B[0m     model,\n\u001B[1;32m   1493\u001B[0m     metric,\n\u001B[0;32m   (...)\u001B[0m\n\u001B[1;32m   1498\u001B[0m     xgb_model, eval_metric, params, early_stopping_rounds, callbacks\n\u001B[1;32m   1499\u001B[0m )\n\u001B[1;32m   1500\u001B[0m train_dmatrix, evals \u001B[38;5;241m=\u001B[39m _wrap_evaluation_matrices(\n\u001B[1;32m   1501\u001B[0m     missing\u001B[38;5;241m=\u001B[39m\u001B[38;5;28mself\u001B[39m\u001B[38;5;241m.\u001B[39mmissing,\n\u001B[1;32m   1502\u001B[0m     X\u001B[38;5;241m=\u001B[39mX,\n\u001B[0;32m   (...)\u001B[0m\n\u001B[1;32m   1516\u001B[0m     feature_types\u001B[38;5;241m=\u001B[39m\u001B[38;5;28mself\u001B[39m\u001B[38;5;241m.\u001B[39mfeature_types,\n\u001B[1;32m   1517\u001B[0m )\n\u001B[0;32m-> 1519\u001B[0m \u001B[38;5;28mself\u001B[39m\u001B[38;5;241m.\u001B[39m_Booster \u001B[38;5;241m=\u001B[39m \u001B[43mtrain\u001B[49m\u001B[43m(\u001B[49m\n\u001B[1;32m   1520\u001B[0m \u001B[43m    \u001B[49m\u001B[43mparams\u001B[49m\u001B[43m,\u001B[49m\n\u001B[1;32m   1521\u001B[0m \u001B[43m    \u001B[49m\u001B[43mtrain_dmatrix\u001B[49m\u001B[43m,\u001B[49m\n\u001B[1;32m   1522\u001B[0m \u001B[43m    \u001B[49m\u001B[38;5;28;43mself\u001B[39;49m\u001B[38;5;241;43m.\u001B[39;49m\u001B[43mget_num_boosting_rounds\u001B[49m\u001B[43m(\u001B[49m\u001B[43m)\u001B[49m\u001B[43m,\u001B[49m\n\u001B[1;32m   1523\u001B[0m \u001B[43m    \u001B[49m\u001B[43mevals\u001B[49m\u001B[38;5;241;43m=\u001B[39;49m\u001B[43mevals\u001B[49m\u001B[43m,\u001B[49m\n\u001B[1;32m   1524\u001B[0m \u001B[43m    \u001B[49m\u001B[43mearly_stopping_rounds\u001B[49m\u001B[38;5;241;43m=\u001B[39;49m\u001B[43mearly_stopping_rounds\u001B[49m\u001B[43m,\u001B[49m\n\u001B[1;32m   1525\u001B[0m \u001B[43m    \u001B[49m\u001B[43mevals_result\u001B[49m\u001B[38;5;241;43m=\u001B[39;49m\u001B[43mevals_result\u001B[49m\u001B[43m,\u001B[49m\n\u001B[1;32m   1526\u001B[0m \u001B[43m    \u001B[49m\u001B[43mobj\u001B[49m\u001B[38;5;241;43m=\u001B[39;49m\u001B[43mobj\u001B[49m\u001B[43m,\u001B[49m\n\u001B[1;32m   1527\u001B[0m \u001B[43m    \u001B[49m\u001B[43mcustom_metric\u001B[49m\u001B[38;5;241;43m=\u001B[39;49m\u001B[43mmetric\u001B[49m\u001B[43m,\u001B[49m\n\u001B[1;32m   1528\u001B[0m \u001B[43m    \u001B[49m\u001B[43mverbose_eval\u001B[49m\u001B[38;5;241;43m=\u001B[39;49m\u001B[43mverbose\u001B[49m\u001B[43m,\u001B[49m\n\u001B[1;32m   1529\u001B[0m \u001B[43m    \u001B[49m\u001B[43mxgb_model\u001B[49m\u001B[38;5;241;43m=\u001B[39;49m\u001B[43mmodel\u001B[49m\u001B[43m,\u001B[49m\n\u001B[1;32m   1530\u001B[0m \u001B[43m    \u001B[49m\u001B[43mcallbacks\u001B[49m\u001B[38;5;241;43m=\u001B[39;49m\u001B[43mcallbacks\u001B[49m\u001B[43m,\u001B[49m\n\u001B[1;32m   1531\u001B[0m \u001B[43m\u001B[49m\u001B[43m)\u001B[49m\n\u001B[1;32m   1533\u001B[0m \u001B[38;5;28;01mif\u001B[39;00m \u001B[38;5;129;01mnot\u001B[39;00m \u001B[38;5;28mcallable\u001B[39m(\u001B[38;5;28mself\u001B[39m\u001B[38;5;241m.\u001B[39mobjective):\n\u001B[1;32m   1534\u001B[0m     \u001B[38;5;28mself\u001B[39m\u001B[38;5;241m.\u001B[39mobjective \u001B[38;5;241m=\u001B[39m params[\u001B[38;5;124m\"\u001B[39m\u001B[38;5;124mobjective\u001B[39m\u001B[38;5;124m\"\u001B[39m]\n",
      "File \u001B[0;32m~/Desktop/Studium/Data_Science_2_code/Data_Science_alt_5/venv/lib/python3.11/site-packages/xgboost/core.py:730\u001B[0m, in \u001B[0;36mrequire_keyword_args.<locals>.throw_if.<locals>.inner_f\u001B[0;34m(*args, **kwargs)\u001B[0m\n\u001B[1;32m    728\u001B[0m \u001B[38;5;28;01mfor\u001B[39;00m k, arg \u001B[38;5;129;01min\u001B[39;00m \u001B[38;5;28mzip\u001B[39m(sig\u001B[38;5;241m.\u001B[39mparameters, args):\n\u001B[1;32m    729\u001B[0m     kwargs[k] \u001B[38;5;241m=\u001B[39m arg\n\u001B[0;32m--> 730\u001B[0m \u001B[38;5;28;01mreturn\u001B[39;00m \u001B[43mfunc\u001B[49m\u001B[43m(\u001B[49m\u001B[38;5;241;43m*\u001B[39;49m\u001B[38;5;241;43m*\u001B[39;49m\u001B[43mkwargs\u001B[49m\u001B[43m)\u001B[49m\n",
      "File \u001B[0;32m~/Desktop/Studium/Data_Science_2_code/Data_Science_alt_5/venv/lib/python3.11/site-packages/xgboost/training.py:181\u001B[0m, in \u001B[0;36mtrain\u001B[0;34m(params, dtrain, num_boost_round, evals, obj, feval, maximize, early_stopping_rounds, evals_result, verbose_eval, xgb_model, callbacks, custom_metric)\u001B[0m\n\u001B[1;32m    179\u001B[0m \u001B[38;5;28;01mif\u001B[39;00m cb_container\u001B[38;5;241m.\u001B[39mbefore_iteration(bst, i, dtrain, evals):\n\u001B[1;32m    180\u001B[0m     \u001B[38;5;28;01mbreak\u001B[39;00m\n\u001B[0;32m--> 181\u001B[0m \u001B[43mbst\u001B[49m\u001B[38;5;241;43m.\u001B[39;49m\u001B[43mupdate\u001B[49m\u001B[43m(\u001B[49m\u001B[43mdtrain\u001B[49m\u001B[43m,\u001B[49m\u001B[43m \u001B[49m\u001B[43mi\u001B[49m\u001B[43m,\u001B[49m\u001B[43m \u001B[49m\u001B[43mobj\u001B[49m\u001B[43m)\u001B[49m\n\u001B[1;32m    182\u001B[0m \u001B[38;5;28;01mif\u001B[39;00m cb_container\u001B[38;5;241m.\u001B[39mafter_iteration(bst, i, dtrain, evals):\n\u001B[1;32m    183\u001B[0m     \u001B[38;5;28;01mbreak\u001B[39;00m\n",
      "File \u001B[0;32m~/Desktop/Studium/Data_Science_2_code/Data_Science_alt_5/venv/lib/python3.11/site-packages/xgboost/core.py:2051\u001B[0m, in \u001B[0;36mBooster.update\u001B[0;34m(self, dtrain, iteration, fobj)\u001B[0m\n\u001B[1;32m   2047\u001B[0m \u001B[38;5;28mself\u001B[39m\u001B[38;5;241m.\u001B[39m_assign_dmatrix_features(dtrain)\n\u001B[1;32m   2049\u001B[0m \u001B[38;5;28;01mif\u001B[39;00m fobj \u001B[38;5;129;01mis\u001B[39;00m \u001B[38;5;28;01mNone\u001B[39;00m:\n\u001B[1;32m   2050\u001B[0m     _check_call(\n\u001B[0;32m-> 2051\u001B[0m         \u001B[43m_LIB\u001B[49m\u001B[38;5;241;43m.\u001B[39;49m\u001B[43mXGBoosterUpdateOneIter\u001B[49m\u001B[43m(\u001B[49m\n\u001B[1;32m   2052\u001B[0m \u001B[43m            \u001B[49m\u001B[38;5;28;43mself\u001B[39;49m\u001B[38;5;241;43m.\u001B[39;49m\u001B[43mhandle\u001B[49m\u001B[43m,\u001B[49m\u001B[43m \u001B[49m\u001B[43mctypes\u001B[49m\u001B[38;5;241;43m.\u001B[39;49m\u001B[43mc_int\u001B[49m\u001B[43m(\u001B[49m\u001B[43miteration\u001B[49m\u001B[43m)\u001B[49m\u001B[43m,\u001B[49m\u001B[43m \u001B[49m\u001B[43mdtrain\u001B[49m\u001B[38;5;241;43m.\u001B[39;49m\u001B[43mhandle\u001B[49m\n\u001B[1;32m   2053\u001B[0m \u001B[43m        \u001B[49m\u001B[43m)\u001B[49m\n\u001B[1;32m   2054\u001B[0m     )\n\u001B[1;32m   2055\u001B[0m \u001B[38;5;28;01melse\u001B[39;00m:\n\u001B[1;32m   2056\u001B[0m     pred \u001B[38;5;241m=\u001B[39m \u001B[38;5;28mself\u001B[39m\u001B[38;5;241m.\u001B[39mpredict(dtrain, output_margin\u001B[38;5;241m=\u001B[39m\u001B[38;5;28;01mTrue\u001B[39;00m, training\u001B[38;5;241m=\u001B[39m\u001B[38;5;28;01mTrue\u001B[39;00m)\n",
      "\u001B[0;31mKeyboardInterrupt\u001B[0m: "
     ]
    }
   ],
   "source": [
    "results_auc_train = {}\n",
    "results_auc_val = {}\n",
    "results_accuracy = {}\n",
    "results_auc_train_vega = {}\n",
    "results_auc_val_vega = {}\n",
    "results_accuracy_vega = {}\n",
    "\n",
    "for exp_name, exp_features in experiments.items():\n",
    "\n",
    "    print(\"======================================================================================\")\n",
    "    print(\"======================================================================================\")\n",
    "    print(f\"{exp_name}================================================================================\")\n",
    "    print(\"======================================================================================\")\n",
    "    print(\"======================================================================================\")\n",
    "\n",
    "    if exp_name!=\"exp1\":\n",
    "\n",
    "        # List of DataFrames to be merged\n",
    "        list_input_features = features_list  # Add more DataFrames as needed\n",
    "\n",
    "        # Merge DataFrames iteratively using reduce\n",
    "        input_features = reduce(lambda left, right: pd.merge(left, right, on='dog_id'), exp_features)\n",
    "\n",
    "        # Merge with disease output feature\n",
    "        # data = pd.merge(input_features, feat_disease_output_binary, on='dog_id')\n",
    "\n",
    "        #data = pd.merge(feat_age_condition_type, input_features, on='dog_id')\n",
    "        data = pd.merge(feat_age_condition_type, input_features, on='dog_id')\n",
    "    else:\n",
    "        data = feat_age_condition_type\n",
    "\n",
    "    # Normalize the specified features in one line and save in the same columns\n",
    "    #features_to_normalize = ['dd_weight_lbs', 'age_diagnosis_years', 'rounded_age_years', 'df_diet_consistency', 'df_feedings_per_day', 'total_active_hours_y', 'pa_hot_weather_months_per_year', 'pa_cold_weather_months_per_year', 'od_max_education', 'od_annual_income_range_usd', 'pa_moderate_weather_daily_hours_outside', 'pa_cold_weather_daily_hours_outside', 'pa_cold_weather_daily_hours_outside']\n",
    "\n",
    "    # select features that are in data\n",
    "    #features_to_normalize_in_data = [feature for feature in features_to_normalize if feature in data.columns]\n",
    "\n",
    "    ## Initialize MinMaxScaler\n",
    "    #scaler = MinMaxScaler()\n",
    "\n",
    "    # Normalize\n",
    "    #if features_to_normalize_in_data:\n",
    "    #    data[features_to_normalize_in_data] = scaler.fit_transform(data[features_to_normalize_in_data])\n",
    "        # print(data[features_to_normalize_in_data])\n",
    "\n",
    "    #dump(scaler, '../models/scaler.joblib')\n",
    "\n",
    "    X = data.drop(['dog_id'] + ['condition_type_' + condition_type for condition_type in [\n",
    "    'Eye', 'Ear/Nose/Throat', 'Mouth/Dental/Oral', 'Skin', 'Cardiac', 'Respiratory',\n",
    "    'Gastrointestinal', 'Liver/Pancreas', 'Kidney/Urinary', 'Reproductive', 'Bone/Orthopedic',\n",
    "    'Brain/Neurologic', 'Endocrine', 'Hematopoietic', 'Other Congenital Disorder',\n",
    "    'Infection/Parasites', 'Toxin Consumption', 'Trauma', 'Immune-mediated', 'cancer'\n",
    "    ]], axis=1)\n",
    "\n",
    "    y_columns = ['condition_type_' + condition_type for condition_type in [\n",
    "    'Eye', 'Ear/Nose/Throat', 'Mouth/Dental/Oral', 'Skin', 'Cardiac', 'Respiratory',\n",
    "    'Gastrointestinal', 'Liver/Pancreas', 'Kidney/Urinary', 'Reproductive', 'Bone/Orthopedic',\n",
    "    'Brain/Neurologic', 'Endocrine', 'Hematopoietic', 'Other Congenital Disorder',\n",
    "    'Infection/Parasites', 'Toxin Consumption', 'Trauma', 'Immune-mediated', 'cancer'\n",
    "    ]]\n",
    "\n",
    "    y = data[y_columns]\n",
    "\n",
    "    # Convert y to a binary format\n",
    "    y_binary = (y == 1)\n",
    "\n",
    "    # Select all features for normalization\n",
    "    features_to_normalize_columns = X.columns\n",
    "\n",
    "    #print(len(features_to_normalize_columns))\n",
    "\n",
    "    # Remove the target variable if it's present in the list\n",
    "    features_to_normalize = [feature for feature in features_to_normalize_columns]\n",
    "\n",
    "    # Initialize MinMaxScaler\n",
    "    scaler = MinMaxScaler()\n",
    "    #scaler = StandardScaler()\n",
    "\n",
    "\n",
    "    # Normalize\n",
    "    if features_to_normalize:\n",
    "        X[features_to_normalize] = scaler.fit_transform(data[features_to_normalize])\n",
    "        # print(data[features_to_normalize])\n",
    "\n",
    "    #dump(scaler, '../models/scaler.joblib')\n",
    "    #dump(scaler, '../models/standard_scaler.joblib')\n",
    "\n",
    "    ############################################################################################################################\n",
    "    ######## SELECT MODEL ######################################################################################################\n",
    "    ############################################################################################################################\n",
    "\n",
    "    #select_model = \"Naive Bayes\"\n",
    "    #select_model = \"Logistic Regression\"\n",
    "    #select_model = \"MLP\"\n",
    "    #select_model = \"Gradient Boosting\"\n",
    "    select_model = \"Extreme Gradient Boosting\"\n",
    "    #select_model = \"Random Forest\"\n",
    "\n",
    "\n",
    "    if select_model==\"Naive Bayes\":\n",
    "        print(\"selected Naive Bayer\")\n",
    "    # ========== Naive Bayes ========\n",
    "        # Initialize the Naive Bayes model\n",
    "        nb_model = MultinomialNB()\n",
    "\n",
    "        # Wrap the model with OneVsRestClassifier\n",
    "        ovr_classifier = OneVsRestClassifier(nb_model)\n",
    "\n",
    "    elif select_model==\"Logistic Regression\":\n",
    "        print(\"selected Logistic Regression\")\n",
    "        # Initialize the Logistic Regression model\n",
    "        lr_model = LogisticRegression()\n",
    "\n",
    "        # Wrap the model with OneVsRestClassifier\n",
    "        ovr_classifier = OneVsRestClassifier(lr_model)\n",
    "\n",
    "    elif select_model==\"MLP\":\n",
    "        print(\"selected MLP\")\n",
    "    # ========= MLP ==========\n",
    "        # normalize features\n",
    "        scaler = StandardScaler()\n",
    "        X_scaled = scaler.fit_transform(X)\n",
    "\n",
    "        num_features = X.shape[1]\n",
    "        if num_features <= 100:\n",
    "                hidden_layer_sizes = (60,)\n",
    "        elif num_features <= 200:\n",
    "                hidden_layer_sizes = (60, 40)\n",
    "        else:\n",
    "            hidden_layer_sizes = (80, 60, 40)\n",
    "\n",
    "        # Initialize the MLP model\n",
    "        #mlp_model = MLPClassifier(hidden_layer_sizes=hidden_layer_sizes, max_iter=1000, alpha=0.01, early_stopping=True, random_state=42)\n",
    "        # Wrap the model with OneVsRestClassifier\n",
    "\n",
    "        mlp_model = MLPClassifier(activation='tanh', max_iter=1000, alpha=0.0072035384049426625, hidden_layer_sizes=(50,), learning_rate='constant', solver='adam')\n",
    "\n",
    "        ovr_classifier = OneVsRestClassifier(mlp_model)\n",
    "\n",
    "    elif select_model==\"Gradient Boosting\":\n",
    "        print(\"selected Gradient Boosting\")\n",
    "        model = GradientBoostingClassifier(\n",
    "            max_depth=3,\n",
    "            learning_rate=0.1,\n",
    "            n_estimators=100,\n",
    "            subsample=0.8,\n",
    "            min_samples_split=2,\n",
    "            min_samples_leaf=1,\n",
    "            max_features=None,\n",
    "            random_state=42\n",
    "        )\n",
    "\n",
    "        # Wrap the model with OneVsRestClassifier\n",
    "        ovr_classifier = OneVsRestClassifier(model)\n",
    "\n",
    "    elif select_model==\"Extreme Gradient Boosting\":\n",
    "        print(\"selected Extreme Gradient Boosting\")\n",
    "        # Initialize the Extreme Gradient Boosting model\n",
    "        #model = xgb.XGBClassifier()\n",
    "        #model = xgb.XGBClassifier(max_depth=3, learning_rate=0.1, n_estimators=100, reg_lambda=1, reg_alpha=0.1, subsample=0.8, colsample_bytree=0.8)\n",
    "        model = xgb.XGBClassifier(max_depth=4, learning_rate=0.035946819442848624,  n_estimators=296, reg_alpha=0.11651624822206069, reg_lambda=0.4010754420205409, subsample=0.8, colsample_bytree=0.8)\n",
    "\n",
    "\n",
    "        # Wrap the model with OneVsRestClassifier\n",
    "        ovr_classifier = OneVsRestClassifier(model)\n",
    "\n",
    "    elif select_model==\"Random Forest\":\n",
    "        print(\"selected Random Forest\")\n",
    "        # Create a Random Forest Classifier\n",
    "        model = RandomForestClassifier(\n",
    "            n_estimators=100,\n",
    "            #max_depth=None,  # You can set this to a specific value if needed\n",
    "            min_samples_split=2,\n",
    "            min_samples_leaf=1,\n",
    "            max_features='sqrt',  # You can adjust this based on your data\n",
    "            random_state=42  # Set a random state for reproducibility\n",
    "        )\n",
    "\n",
    "        # Wrap the model with OneVsRestClassifier\n",
    "        ovr_classifier = OneVsRestClassifier(model)\n",
    "\n",
    "    # Initialize MultilabelStratifiedKFold\n",
    "    n_splits = 5  # You can adjust the number of splits as needed\n",
    "    ml_stratified_kfold = MultilabelStratifiedKFold(n_splits=n_splits, shuffle=True, random_state=42)\n",
    "\n",
    "    # Lists to store AUC scores and sample counts\n",
    "    auc_scores_train_per_condition = {condition: [] for condition in y_columns}\n",
    "    auc_scores_val_per_condition = {condition: [] for condition in y_columns}\n",
    "    sample_counts_train_per_condition = {condition: [] for condition in y_columns}\n",
    "    sample_counts_val_per_condition = {condition: [] for condition in y_columns}\n",
    "    auc_scores_val_per_fold = []\n",
    "    auc_scores_train_per_fold = []\n",
    "\n",
    "    accuracy_scores_per_fold = []\n",
    "    auc_scores_per_fold_train = []\n",
    "    auc_scores_per_fold_val = []\n",
    "    # Lists to store AUC scores and sample counts\n",
    "    auc_scores_per_condition = {condition: [] for condition in y_columns}\n",
    "    sample_counts_per_condition = {condition: [] for condition in y_columns}\n",
    "\n",
    "    # Iterate through the splits\n",
    "    for fold, (train_index, val_index) in enumerate(ml_stratified_kfold.split(X, y_binary)):\n",
    "        X_train, X_val = X.iloc[train_index], X.iloc[val_index]\n",
    "        y_train, y_val = y_binary.iloc[train_index], y_binary.iloc[val_index]\n",
    "\n",
    "        # Train the model\n",
    "        ovr_classifier.fit(X_train, y_train)\n",
    "\n",
    "        # Make predictions on the training set\n",
    "        y_train_pred_proba = ovr_classifier.predict_proba(X_train)\n",
    "\n",
    "        # Make predictions on the validation set\n",
    "        y_val_pred_proba = ovr_classifier.predict_proba(X_val)\n",
    "\n",
    "\n",
    "        # Calculate the AUC score for each disease\n",
    "        auc_scores_train = [roc_auc_score(y_train[column], y_train_pred_proba[:, i]) for i, column in enumerate(y_train.columns)]\n",
    "        auc_scores_val = [roc_auc_score(y_val[column], y_val_pred_proba[:, i]) for i, column in enumerate(y_val.columns)]\n",
    "\n",
    "        # Calculate AUC score for each disease\n",
    "        fold_auc_val = roc_auc_score(y_val.values.ravel(), y_val_pred_proba.ravel())\n",
    "        auc_scores_val_per_fold.append(fold_auc_val)\n",
    "\n",
    "        fold_auc_train = roc_auc_score(y_train.values.ravel(), y_train_pred_proba.ravel())\n",
    "        auc_scores_train_per_fold.append(fold_auc_train)\n",
    "\n",
    "        # Vega auc calc\n",
    "        auc_scores_per_fold_train.append(np.mean(auc_scores_train))\n",
    "        auc_scores_per_fold_val.append(np.mean(auc_scores_val))\n",
    "\n",
    "        # get sample counts\n",
    "        for i, condition in enumerate(y_columns):\n",
    "            sample_count = y_train[condition].sum()  # Count of positive samples for the condition\n",
    "            sample_counts_train_per_condition[condition].append(sample_count)\n",
    "\n",
    "        for i, condition in enumerate(y_columns):\n",
    "            sample_count = y_val[condition].sum()  # Count of positive samples for the condition\n",
    "            sample_counts_val_per_condition[condition].append(sample_count)\n",
    "\n",
    "        print(\"EXPERIMENT: \", exp_name)\n",
    "        print(f\"Fold {fold+1} ========================================\")\n",
    "        #print(f\"\\nFold {fold+1} AUC Scores for Diseases TRAINING-set:\")\n",
    "        for i, auc_score in enumerate(auc_scores_train, start=1):\n",
    "            #print(f\"{y_train.columns[i-1]}: {auc_score}\")\n",
    "            auc_scores_train_per_condition[y_train.columns[i-1]].append(auc_score)\n",
    "\n",
    "        #print(f\"\\nFold {fold+1} AUC Scores for Diseases VALIDATION-set:\")\n",
    "        for i, auc_score in enumerate(auc_scores_val, start=1):\n",
    "            #print(f\"{y_val.columns[i-1]}: {auc_score}\")\n",
    "            auc_scores_val_per_condition[y_val.columns[i-1]].append(auc_score)\n",
    "\n",
    "        if exp_name == 'exp20':\n",
    "            exp20_auc_scores_per_condition = auc_scores_per_condition.copy()\n",
    "\n",
    "    # Vega\n",
    "\n",
    "    average_auc_score_train = np.mean(auc_scores_per_fold_train)\n",
    "    average_auc_score_val = np.mean(auc_scores_per_fold_val)\n",
    "    results_auc_train_vega[exp_name] = average_auc_score_train\n",
    "    results_auc_val_vega[exp_name] = average_auc_score_val\n",
    "\n",
    "    # Print the results\n",
    "    print(\"Training Set AUC Scores:\")\n",
    "    for exp_name, auc_score in results_auc_train_vega.items():\n",
    "        print(f\"{exp_name}: Average AUC = {auc_score:.4f}\")\n",
    "\n",
    "    print(\"\\nValidation Set AUC Scores:\")\n",
    "    for exp_name, auc_score in results_auc_val_vega.items():\n",
    "        print(f\"{exp_name}: Average AUC = {auc_score:.4f}\")\n",
    "\n",
    "\n",
    "    # Calculate average AUC scores for training and validation sets\n",
    "    average_auc_scores_per_fold_train = calculate_average_auc_scores(auc_scores_train_per_condition, sample_counts_train_per_condition)\n",
    "    #print(\"==========\")\n",
    "    average_auc_scores_per_fold_val = calculate_average_auc_scores(auc_scores_val_per_condition, sample_counts_val_per_condition)\n",
    "\n",
    "    # Print the results\n",
    "    #for i, average_auc in enumerate(average_auc_scores_per_fold_train, start=1):\n",
    "        #print(f'AUC-Score Train Fold-{i}: {average_auc}')\n",
    "\n",
    "    #for i, average_auc in enumerate(average_auc_scores_per_fold_val, start=1):\n",
    "        #print(f'AUC-Score Val Fold-{i}: {average_auc}')\n",
    "\n",
    "    # Calculate and print the total average AUC score and the maximum difference for training set\n",
    "    total_average_auc_train = np.mean(average_auc_scores_per_fold_train)\n",
    "    max_difference_train = np.max(np.abs(average_auc_scores_per_fold_train - total_average_auc_train))\n",
    "    #print(f'Total Average AUC Score train: {total_average_auc_train * 100:.2f} ± {max_difference_train * 100:.2f}%')\n",
    "\n",
    "    # Calculate and print the total average AUC score and the maximum difference for validation set\n",
    "    total_average_auc_val = np.mean(average_auc_scores_per_fold_val)\n",
    "    max_difference_val = np.max(np.abs(average_auc_scores_per_fold_val - total_average_auc_val))\n",
    "    #print(f'Total Average AUC Score val: {total_average_auc_val * 100:.2f} ± {max_difference_val * 100:.2f}%')\n",
    "\n",
    "\n",
    "    # Calculate average AUC per condition for VAL\n",
    "    average_auc_val_per_condition = {\n",
    "        condition: sum(auc_scores) / len(auc_scores) for condition, auc_scores in auc_scores_val_per_condition.items()\n",
    "    }\n",
    "    # Calculate overall average AUC weighted by the number of samples\n",
    "    overall_average_auc_val_sum = 0\n",
    "    for auc_scores, sample_counts in zip(auc_scores_val_per_condition.values(), sample_counts_val_per_condition.values()):\n",
    "        weighted_sum = sum(auc * sample_count for auc, sample_count in zip(auc_scores, sample_counts))\n",
    "        overall_average_auc_val_sum += weighted_sum / sum(sample_counts)\n",
    "\n",
    "    overall_average_auc_val = overall_average_auc_val_sum / len(auc_scores_val_per_condition)  # divide by the number of conditions\n",
    "\n",
    "    # Calculate average AUC per condition for TRAIN\n",
    "    average_auc_train_per_condition = {\n",
    "        condition: sum(auc_scores) / len(auc_scores) for condition, auc_scores in auc_scores_train_per_condition.items()\n",
    "    }\n",
    "    # Calculate overall average AUC weighted by the number of samples\n",
    "    overall_average_auc_train_sum = 0\n",
    "    for auc_scores, sample_counts in zip(auc_scores_train_per_condition.values(), sample_counts_train_per_condition.values()):\n",
    "        weighted_sum = sum(auc * sample_count for auc, sample_count in zip(auc_scores, sample_counts))\n",
    "        overall_average_auc_train_sum += weighted_sum / sum(sample_counts)\n",
    "\n",
    "    overall_average_auc_train = overall_average_auc_train_sum / len(auc_scores_train_per_condition)  # divide by the number of conditions\n",
    "\n",
    "\n",
    "    # Average AUC-score per condition\n",
    "    #print(\"\\n Average AUC train-score per condition:\")\n",
    "    #for condition, avg_auc in average_auc_train_per_condition.items():\n",
    "    #    print(f\"{condition}: {avg_auc}\")\n",
    "\n",
    "    print(\"\\n Average AUC val-score per condition:\")\n",
    "    for condition, avg_auc in average_auc_val_per_condition.items():\n",
    "        print(f\"{condition}: {avg_auc}\")\n",
    "\n",
    "    # Get average AUC values as a list\n",
    "    average_auc_val_list = list(average_auc_val_per_condition.values())\n",
    "    average_auc_train_list = list(average_auc_train_per_condition.values())\n",
    "\n",
    "    # Print average AUC scores\n",
    "    print(\"\\nWeighted Average AUC Score:\")\n",
    "    #print(f\"Overall: {overall_average_auc}\")\n",
    "    print(f\"Train: {overall_average_auc_train * 100:.2f} ± {max_difference_train * 100:.2f}%\")\n",
    "    print(f\"Val: {overall_average_auc_val * 100:.2f} ± {max_difference_val * 100:.2f}%\")\n",
    "\n",
    "    results_auc_train[exp_name] = f\"Train: {overall_average_auc_train * 100:.2f} ± {max_difference_train * 100:.2f}%\"\n",
    "    results_auc_val[exp_name] = f\"Val: {overall_average_auc_val * 100:.2f} ± {max_difference_val * 100:.2f}%\""
   ],
   "metadata": {
    "collapsed": false
   }
  },
  {
   "cell_type": "code",
   "execution_count": 63,
   "outputs": [
    {
     "name": "stdout",
     "output_type": "stream",
     "text": [
      "Training Set AUC Scores:\n",
      "exp13: Average AUC = Train: 80.58 ± 0.05%\n",
      "\n",
      "Validation Set AUC Scores:\n",
      "exp13: Average AUC = Val: 70.66 ± 0.15%\n"
     ]
    }
   ],
   "source": [
    "# Print the results\n",
    "print(\"Training Set AUC Scores:\")\n",
    "for exp_name, auc_score in results_auc_train.items():\n",
    "    print(f\"{exp_name}: Average AUC = {auc_score}\")\n",
    "\n",
    "print(\"\\nValidation Set AUC Scores:\")\n",
    "for exp_name, auc_score in results_auc_val.items():\n",
    "    print(f\"{exp_name}: Average AUC = {auc_score}\")\n",
    "\n",
    "# for exp_name, accuracy_score in results_accuracy.items():\n",
    "#     print(f\"{exp_name}: Average Accuracy = {accuracy_score:.4f}\")\n"
   ],
   "metadata": {
    "collapsed": false
   }
  },
  {
   "cell_type": "code",
   "execution_count": 64,
   "outputs": [],
   "source": [
    "#.70.52 ± 0.28%."
   ],
   "metadata": {
    "collapsed": false
   }
  },
  {
   "cell_type": "code",
   "execution_count": 65,
   "outputs": [
    {
     "data": {
      "text/plain": "['../models/extreme_gradient_boosting_v3.joblib']"
     },
     "execution_count": 65,
     "metadata": {},
     "output_type": "execute_result"
    }
   ],
   "source": [
    "model_filepath = '../models/extreme_gradient_boosting_v3.joblib'\n",
    "joblib.dump(ovr_classifier, model_filepath)"
   ],
   "metadata": {
    "collapsed": false
   }
  },
  {
   "cell_type": "code",
   "execution_count": 254,
   "outputs": [],
   "source": [
    "# mit allem: 70,4\n",
    "# ohne od : 70,2\n",
    "# ohne_weather: 70.46 ± 0.41%\n",
    "# ohne od und weather:Train: 76.43 ± 0.06%\n",
    "# Val: 70.49 ± 0.23%\n",
    "# ohne od und weather und prim_cens:70.52 ± 0.28%\n",
    "#exp15 = [feat_breed_top50_v2, feat_breed_group, feat_breed_type, feat_sub_breed, feat_breed_pure_or_mix,\n",
    "#         feat_age, feat_sex, feat_weight,\n",
    "#         feat_pa_surface, feat_pa_total_hours,\n",
    "#         feat_diet\n",
    "#         ] 70.59\\\n",
    "#"
   ],
   "metadata": {
    "collapsed": false
   }
  },
  {
   "cell_type": "code",
   "execution_count": 12,
   "outputs": [],
   "source": [
    "loaded_model_filepath = '../models/extreme_gradient_boosting_gridsearched.joblib'\n",
    "loaded_ovr_classifier = joblib.load(loaded_model_filepath)"
   ],
   "metadata": {
    "collapsed": false
   }
  },
  {
   "cell_type": "markdown",
   "source": [
    "## Test model"
   ],
   "metadata": {
    "collapsed": false
   }
  },
  {
   "cell_type": "code",
   "execution_count": 59,
   "outputs": [],
   "source": [
    "from joblib import load\n",
    "loaded_scaler = load('../models/scaler.joblib')"
   ],
   "metadata": {
    "collapsed": false
   }
  },
  {
   "cell_type": "code",
   "execution_count": 91,
   "outputs": [
    {
     "data": {
      "text/plain": "        age_diagnosis_years  breeds_American Pitbull Terrier  \\\n0                         0                                0   \n1                         1                                0   \n2                         2                                0   \n3                         3                                0   \n4                         4                                0   \n...                     ...                              ...   \n240750                    4                                0   \n240751                    4                                0   \n240752                   10                                0   \n240753                   10                                0   \n240754                    6                                0   \n\n        breeds_American Staffordshire Terrier  breeds_Australian Cattle Dog  \\\n0                                           0                             0   \n1                                           0                             0   \n2                                           0                             0   \n3                                           0                             0   \n4                                           0                             0   \n...                                       ...                           ...   \n240750                                      0                             0   \n240751                                      0                             0   \n240752                                      0                             0   \n240753                                      0                             0   \n240754                                      0                             0   \n\n        breeds_Australian Shepherd  breeds_Basset Hound  breeds_Beagle  \\\n0                                0                    0              0   \n1                                0                    0              0   \n2                                0                    0              0   \n3                                0                    0              0   \n4                                0                    0              0   \n...                            ...                  ...            ...   \n240750                           0                    0              0   \n240751                           0                    0              0   \n240752                           0                    0              0   \n240753                           0                    0              0   \n240754                           0                    0              0   \n\n        breeds_Bernese Mountain Dog  breeds_Bichon Frise  \\\n0                                 0                    0   \n1                                 0                    0   \n2                                 0                    0   \n3                                 0                    0   \n4                                 0                    0   \n...                             ...                  ...   \n240750                            0                    0   \n240751                            0                    0   \n240752                            0                    0   \n240753                            0                    0   \n240754                            0                    0   \n\n        breeds_Border Collie  ...  grass_dirt  gravel   sand  astroturf  \\\n0                          0  ...        True    True  False      False   \n1                          0  ...        True    True  False      False   \n2                          0  ...        True    True  False      False   \n3                          0  ...        True    True  False      False   \n4                          0  ...        True    True  False      False   \n...                      ...  ...         ...     ...    ...        ...   \n240750                     1  ...        True   False  False      False   \n240751                     0  ...        True    True  False      False   \n240752                     0  ...        True    True  False      False   \n240753                     0  ...        True   False   True       True   \n240754                     0  ...        True   False  False      False   \n\n        total_active_hours  df_feedings_per_day  df_diet_consistency  \\\n0                      2.0                    2                  1.0   \n1                      2.0                    2                  1.0   \n2                      2.0                    2                  1.0   \n3                      2.0                    2                  1.0   \n4                      2.0                    2                  1.0   \n...                    ...                  ...                  ...   \n240750                 0.0                    1                  1.0   \n240751                 1.0                    2                  1.0   \n240752                 3.0                    2                  1.0   \n240753                 4.0                    2                  1.0   \n240754                 0.1                    2                  1.0   \n\n        df_supplements  df_primary_diet_component_organic  \\\n0                 True                              False   \n1                 True                              False   \n2                 True                              False   \n3                 True                              False   \n4                 True                              False   \n...                ...                                ...   \n240750           False                              False   \n240751           False                              False   \n240752            True                              False   \n240753            True                              False   \n240754           False                              False   \n\n        df_primary_diet_component_grain_free  \n0                                       True  \n1                                       True  \n2                                       True  \n3                                       True  \n4                                       True  \n...                                      ...  \n240750                                 False  \n240751                                  True  \n240752                                 False  \n240753                                  True  \n240754                                 False  \n\n[240755 rows x 140 columns]",
      "text/html": "<div>\n<style scoped>\n    .dataframe tbody tr th:only-of-type {\n        vertical-align: middle;\n    }\n\n    .dataframe tbody tr th {\n        vertical-align: top;\n    }\n\n    .dataframe thead th {\n        text-align: right;\n    }\n</style>\n<table border=\"1\" class=\"dataframe\">\n  <thead>\n    <tr style=\"text-align: right;\">\n      <th></th>\n      <th>age_diagnosis_years</th>\n      <th>breeds_American Pitbull Terrier</th>\n      <th>breeds_American Staffordshire Terrier</th>\n      <th>breeds_Australian Cattle Dog</th>\n      <th>breeds_Australian Shepherd</th>\n      <th>breeds_Basset Hound</th>\n      <th>breeds_Beagle</th>\n      <th>breeds_Bernese Mountain Dog</th>\n      <th>breeds_Bichon Frise</th>\n      <th>breeds_Border Collie</th>\n      <th>...</th>\n      <th>grass_dirt</th>\n      <th>gravel</th>\n      <th>sand</th>\n      <th>astroturf</th>\n      <th>total_active_hours</th>\n      <th>df_feedings_per_day</th>\n      <th>df_diet_consistency</th>\n      <th>df_supplements</th>\n      <th>df_primary_diet_component_organic</th>\n      <th>df_primary_diet_component_grain_free</th>\n    </tr>\n  </thead>\n  <tbody>\n    <tr>\n      <th>0</th>\n      <td>0</td>\n      <td>0</td>\n      <td>0</td>\n      <td>0</td>\n      <td>0</td>\n      <td>0</td>\n      <td>0</td>\n      <td>0</td>\n      <td>0</td>\n      <td>0</td>\n      <td>...</td>\n      <td>True</td>\n      <td>True</td>\n      <td>False</td>\n      <td>False</td>\n      <td>2.0</td>\n      <td>2</td>\n      <td>1.0</td>\n      <td>True</td>\n      <td>False</td>\n      <td>True</td>\n    </tr>\n    <tr>\n      <th>1</th>\n      <td>1</td>\n      <td>0</td>\n      <td>0</td>\n      <td>0</td>\n      <td>0</td>\n      <td>0</td>\n      <td>0</td>\n      <td>0</td>\n      <td>0</td>\n      <td>0</td>\n      <td>...</td>\n      <td>True</td>\n      <td>True</td>\n      <td>False</td>\n      <td>False</td>\n      <td>2.0</td>\n      <td>2</td>\n      <td>1.0</td>\n      <td>True</td>\n      <td>False</td>\n      <td>True</td>\n    </tr>\n    <tr>\n      <th>2</th>\n      <td>2</td>\n      <td>0</td>\n      <td>0</td>\n      <td>0</td>\n      <td>0</td>\n      <td>0</td>\n      <td>0</td>\n      <td>0</td>\n      <td>0</td>\n      <td>0</td>\n      <td>...</td>\n      <td>True</td>\n      <td>True</td>\n      <td>False</td>\n      <td>False</td>\n      <td>2.0</td>\n      <td>2</td>\n      <td>1.0</td>\n      <td>True</td>\n      <td>False</td>\n      <td>True</td>\n    </tr>\n    <tr>\n      <th>3</th>\n      <td>3</td>\n      <td>0</td>\n      <td>0</td>\n      <td>0</td>\n      <td>0</td>\n      <td>0</td>\n      <td>0</td>\n      <td>0</td>\n      <td>0</td>\n      <td>0</td>\n      <td>...</td>\n      <td>True</td>\n      <td>True</td>\n      <td>False</td>\n      <td>False</td>\n      <td>2.0</td>\n      <td>2</td>\n      <td>1.0</td>\n      <td>True</td>\n      <td>False</td>\n      <td>True</td>\n    </tr>\n    <tr>\n      <th>4</th>\n      <td>4</td>\n      <td>0</td>\n      <td>0</td>\n      <td>0</td>\n      <td>0</td>\n      <td>0</td>\n      <td>0</td>\n      <td>0</td>\n      <td>0</td>\n      <td>0</td>\n      <td>...</td>\n      <td>True</td>\n      <td>True</td>\n      <td>False</td>\n      <td>False</td>\n      <td>2.0</td>\n      <td>2</td>\n      <td>1.0</td>\n      <td>True</td>\n      <td>False</td>\n      <td>True</td>\n    </tr>\n    <tr>\n      <th>...</th>\n      <td>...</td>\n      <td>...</td>\n      <td>...</td>\n      <td>...</td>\n      <td>...</td>\n      <td>...</td>\n      <td>...</td>\n      <td>...</td>\n      <td>...</td>\n      <td>...</td>\n      <td>...</td>\n      <td>...</td>\n      <td>...</td>\n      <td>...</td>\n      <td>...</td>\n      <td>...</td>\n      <td>...</td>\n      <td>...</td>\n      <td>...</td>\n      <td>...</td>\n      <td>...</td>\n    </tr>\n    <tr>\n      <th>240750</th>\n      <td>4</td>\n      <td>0</td>\n      <td>0</td>\n      <td>0</td>\n      <td>0</td>\n      <td>0</td>\n      <td>0</td>\n      <td>0</td>\n      <td>0</td>\n      <td>1</td>\n      <td>...</td>\n      <td>True</td>\n      <td>False</td>\n      <td>False</td>\n      <td>False</td>\n      <td>0.0</td>\n      <td>1</td>\n      <td>1.0</td>\n      <td>False</td>\n      <td>False</td>\n      <td>False</td>\n    </tr>\n    <tr>\n      <th>240751</th>\n      <td>4</td>\n      <td>0</td>\n      <td>0</td>\n      <td>0</td>\n      <td>0</td>\n      <td>0</td>\n      <td>0</td>\n      <td>0</td>\n      <td>0</td>\n      <td>0</td>\n      <td>...</td>\n      <td>True</td>\n      <td>True</td>\n      <td>False</td>\n      <td>False</td>\n      <td>1.0</td>\n      <td>2</td>\n      <td>1.0</td>\n      <td>False</td>\n      <td>False</td>\n      <td>True</td>\n    </tr>\n    <tr>\n      <th>240752</th>\n      <td>10</td>\n      <td>0</td>\n      <td>0</td>\n      <td>0</td>\n      <td>0</td>\n      <td>0</td>\n      <td>0</td>\n      <td>0</td>\n      <td>0</td>\n      <td>0</td>\n      <td>...</td>\n      <td>True</td>\n      <td>True</td>\n      <td>False</td>\n      <td>False</td>\n      <td>3.0</td>\n      <td>2</td>\n      <td>1.0</td>\n      <td>True</td>\n      <td>False</td>\n      <td>False</td>\n    </tr>\n    <tr>\n      <th>240753</th>\n      <td>10</td>\n      <td>0</td>\n      <td>0</td>\n      <td>0</td>\n      <td>0</td>\n      <td>0</td>\n      <td>0</td>\n      <td>0</td>\n      <td>0</td>\n      <td>0</td>\n      <td>...</td>\n      <td>True</td>\n      <td>False</td>\n      <td>True</td>\n      <td>True</td>\n      <td>4.0</td>\n      <td>2</td>\n      <td>1.0</td>\n      <td>True</td>\n      <td>False</td>\n      <td>True</td>\n    </tr>\n    <tr>\n      <th>240754</th>\n      <td>6</td>\n      <td>0</td>\n      <td>0</td>\n      <td>0</td>\n      <td>0</td>\n      <td>0</td>\n      <td>0</td>\n      <td>0</td>\n      <td>0</td>\n      <td>0</td>\n      <td>...</td>\n      <td>True</td>\n      <td>False</td>\n      <td>False</td>\n      <td>False</td>\n      <td>0.1</td>\n      <td>2</td>\n      <td>1.0</td>\n      <td>False</td>\n      <td>False</td>\n      <td>False</td>\n    </tr>\n  </tbody>\n</table>\n<p>240755 rows × 140 columns</p>\n</div>"
     },
     "execution_count": 91,
     "metadata": {},
     "output_type": "execute_result"
    }
   ],
   "source": [
    "# Assuming X_val is your validation set DataFrame\n",
    "\n",
    "# Merge DataFrames iteratively using reduce\n",
    "input_features = reduce(lambda left, right: pd.merge(left, right, on='dog_id'), exp13)\n",
    "\n",
    "# Merge with disease output feature\n",
    "# data = pd.merge(input_features, feat_disease_output_binary, on='dog_id')\n",
    "\n",
    "# Select a random row (Datapoint) from X_val\n",
    "data = pd.merge(feat_age_condition_type, input_features, on='dog_id')\n",
    "test_X = data.drop(['dog_id'] + ['condition_type_' + condition_type for condition_type in [\n",
    "    'Eye', 'Ear/Nose/Throat', 'Mouth/Dental/Oral', 'Skin', 'Cardiac', 'Respiratory',\n",
    "    'Gastrointestinal', 'Liver/Pancreas', 'Kidney/Urinary', 'Reproductive', 'Bone/Orthopedic',\n",
    "    'Brain/Neurologic', 'Endocrine', 'Hematopoietic', 'Other Congenital Disorder',\n",
    "    'Infection/Parasites', 'Toxin Consumption', 'Trauma', 'Immune-mediated', 'cancer'\n",
    "    ]], axis=1)\n",
    "test_X"
   ],
   "metadata": {
    "collapsed": false
   }
  },
  {
   "cell_type": "code",
   "execution_count": 97,
   "outputs": [
    {
     "data": {
      "text/plain": "array([[0, 0, 0, 0, 1, 0, 0, 0, 0, 0, 0, 0, 0, 0, 0, 0, 0, 0, 0, 0, 0, 0,\n        0, 0, 0, 0, 0, 0, 0, 0, 0, 0, 0, 0, 0, 0, 0, 0, 0, 0, 0, 0, 0, 0,\n        0, 0, 0, 0, 0, 0, 0, False, True, False, False, False, False,\n        False, False, False, False, False, False, False, False, False,\n        False, False, False, False, False, False, True, False, False,\n        False, False, False, False, False, False, False, False, True,\n        False, False, False, False, False, False, False, False, False,\n        False, False, False, False, False, False, False, False, False,\n        False, False, False, False, False, False, False, False, False, 0,\n        7.0, False, True, 21.0, 2, 2, False, False, False, False, True,\n        False, False, False, False, False, False, False, True, True,\n        False, False, 2.0, 2, 1.0, False, False, False]], dtype=object)"
     },
     "execution_count": 97,
     "metadata": {},
     "output_type": "execute_result"
    }
   ],
   "source": [
    "random_index = np.random.choice(test_X.index)\n",
    "random_data_point = test_X.loc[random_index]\n",
    "random_data_point_reshaped = random_data_point.values.reshape(1, -1)\n",
    "random_data_point_reshaped"
   ],
   "metadata": {
    "collapsed": false
   }
  },
  {
   "cell_type": "code",
   "execution_count": 98,
   "outputs": [
    {
     "name": "stdout",
     "output_type": "stream",
     "text": [
      "(1, 140)\n"
     ]
    },
    {
     "name": "stderr",
     "output_type": "stream",
     "text": [
      "/Users/thanushnavaratnam/Desktop/Studium/Data_Science_2_code/Data_Science_2_alt_4/Data_Science_2/venv/lib/python3.11/site-packages/sklearn/base.py:493: UserWarning: X does not have valid feature names, but MinMaxScaler was fitted with feature names\n",
      "  warnings.warn(\n"
     ]
    },
    {
     "data": {
      "text/plain": "   age_diagnosis_years  breeds_American Pitbull Terrier  \\\n0                  0.0                              0.0   \n\n   breeds_American Staffordshire Terrier  breeds_Australian Cattle Dog  \\\n0                                    0.0                           0.0   \n\n   breeds_Australian Shepherd  breeds_Basset Hound  breeds_Beagle  \\\n0                         1.0                  0.0            0.0   \n\n   breeds_Bernese Mountain Dog  breeds_Bichon Frise  breeds_Border Collie  \\\n0                          0.0                  0.0                   0.0   \n\n   ...  grass_dirt  gravel  sand  astroturf  total_active_hours  \\\n0  ...         1.0     1.0   0.0        0.0            0.246914   \n\n   df_feedings_per_day  df_diet_consistency  df_supplements  \\\n0             0.333333                  0.0             0.0   \n\n   df_primary_diet_component_organic  df_primary_diet_component_grain_free  \n0                                0.0                                   0.0  \n\n[1 rows x 140 columns]",
      "text/html": "<div>\n<style scoped>\n    .dataframe tbody tr th:only-of-type {\n        vertical-align: middle;\n    }\n\n    .dataframe tbody tr th {\n        vertical-align: top;\n    }\n\n    .dataframe thead th {\n        text-align: right;\n    }\n</style>\n<table border=\"1\" class=\"dataframe\">\n  <thead>\n    <tr style=\"text-align: right;\">\n      <th></th>\n      <th>age_diagnosis_years</th>\n      <th>breeds_American Pitbull Terrier</th>\n      <th>breeds_American Staffordshire Terrier</th>\n      <th>breeds_Australian Cattle Dog</th>\n      <th>breeds_Australian Shepherd</th>\n      <th>breeds_Basset Hound</th>\n      <th>breeds_Beagle</th>\n      <th>breeds_Bernese Mountain Dog</th>\n      <th>breeds_Bichon Frise</th>\n      <th>breeds_Border Collie</th>\n      <th>...</th>\n      <th>grass_dirt</th>\n      <th>gravel</th>\n      <th>sand</th>\n      <th>astroturf</th>\n      <th>total_active_hours</th>\n      <th>df_feedings_per_day</th>\n      <th>df_diet_consistency</th>\n      <th>df_supplements</th>\n      <th>df_primary_diet_component_organic</th>\n      <th>df_primary_diet_component_grain_free</th>\n    </tr>\n  </thead>\n  <tbody>\n    <tr>\n      <th>0</th>\n      <td>0.0</td>\n      <td>0.0</td>\n      <td>0.0</td>\n      <td>0.0</td>\n      <td>1.0</td>\n      <td>0.0</td>\n      <td>0.0</td>\n      <td>0.0</td>\n      <td>0.0</td>\n      <td>0.0</td>\n      <td>...</td>\n      <td>1.0</td>\n      <td>1.0</td>\n      <td>0.0</td>\n      <td>0.0</td>\n      <td>0.246914</td>\n      <td>0.333333</td>\n      <td>0.0</td>\n      <td>0.0</td>\n      <td>0.0</td>\n      <td>0.0</td>\n    </tr>\n  </tbody>\n</table>\n<p>1 rows × 140 columns</p>\n</div>"
     },
     "execution_count": 98,
     "metadata": {},
     "output_type": "execute_result"
    }
   ],
   "source": [
    "random_data_point_transformed = loaded_scaler.transform(random_data_point_reshaped)\n",
    "print(random_data_point_transformed.shape)\n",
    "random_data_point_df = pd.DataFrame(random_data_point_transformed, columns=test_X.columns)\n",
    "random_data_point_df = random_data_point_df.astype(float)\n",
    "random_data_point_df"
   ],
   "metadata": {
    "collapsed": false
   }
  },
  {
   "cell_type": "code",
   "execution_count": 99,
   "outputs": [
    {
     "data": {
      "text/plain": "   age_diagnosis_years  breeds_American Pitbull Terrier  \\\n0                  0.5                              0.0   \n\n   breeds_American Staffordshire Terrier  breeds_Australian Cattle Dog  \\\n0                                    0.0                           0.0   \n\n   breeds_Australian Shepherd  breeds_Basset Hound  breeds_Beagle  \\\n0                         1.0                  0.0            0.0   \n\n   breeds_Bernese Mountain Dog  breeds_Bichon Frise  breeds_Border Collie  \\\n0                          0.0                  0.0                   0.0   \n\n   ...  grass_dirt  gravel  sand  astroturf  total_active_hours  \\\n0  ...         1.0     1.0   0.0        0.0            0.246914   \n\n   df_feedings_per_day  df_diet_consistency  df_supplements  \\\n0             0.333333                  0.0             0.0   \n\n   df_primary_diet_component_organic  df_primary_diet_component_grain_free  \n0                                0.0                                   0.0  \n\n[1 rows x 140 columns]",
      "text/html": "<div>\n<style scoped>\n    .dataframe tbody tr th:only-of-type {\n        vertical-align: middle;\n    }\n\n    .dataframe tbody tr th {\n        vertical-align: top;\n    }\n\n    .dataframe thead th {\n        text-align: right;\n    }\n</style>\n<table border=\"1\" class=\"dataframe\">\n  <thead>\n    <tr style=\"text-align: right;\">\n      <th></th>\n      <th>age_diagnosis_years</th>\n      <th>breeds_American Pitbull Terrier</th>\n      <th>breeds_American Staffordshire Terrier</th>\n      <th>breeds_Australian Cattle Dog</th>\n      <th>breeds_Australian Shepherd</th>\n      <th>breeds_Basset Hound</th>\n      <th>breeds_Beagle</th>\n      <th>breeds_Bernese Mountain Dog</th>\n      <th>breeds_Bichon Frise</th>\n      <th>breeds_Border Collie</th>\n      <th>...</th>\n      <th>grass_dirt</th>\n      <th>gravel</th>\n      <th>sand</th>\n      <th>astroturf</th>\n      <th>total_active_hours</th>\n      <th>df_feedings_per_day</th>\n      <th>df_diet_consistency</th>\n      <th>df_supplements</th>\n      <th>df_primary_diet_component_organic</th>\n      <th>df_primary_diet_component_grain_free</th>\n    </tr>\n  </thead>\n  <tbody>\n    <tr>\n      <th>0</th>\n      <td>0.5</td>\n      <td>0.0</td>\n      <td>0.0</td>\n      <td>0.0</td>\n      <td>1.0</td>\n      <td>0.0</td>\n      <td>0.0</td>\n      <td>0.0</td>\n      <td>0.0</td>\n      <td>0.0</td>\n      <td>...</td>\n      <td>1.0</td>\n      <td>1.0</td>\n      <td>0.0</td>\n      <td>0.0</td>\n      <td>0.246914</td>\n      <td>0.333333</td>\n      <td>0.0</td>\n      <td>0.0</td>\n      <td>0.0</td>\n      <td>0.0</td>\n    </tr>\n  </tbody>\n</table>\n<p>1 rows × 140 columns</p>\n</div>"
     },
     "execution_count": 99,
     "metadata": {},
     "output_type": "execute_result"
    }
   ],
   "source": [
    "# Make a copy of the original DataFrame to avoid modifying it directly\n",
    "random_data_point_mod = random_data_point_df.copy()\n",
    "\n",
    "# Modify the first value of the 'age_diagnosis_years' column\n",
    "random_data_point_mod.at[0, 'age_diagnosis_years'] = 0.5  # Replace new_value with the desired value\n",
    "\n",
    "# Print the modified DataFrame\n",
    "random_data_point_mod"
   ],
   "metadata": {
    "collapsed": false
   }
  },
  {
   "cell_type": "code",
   "execution_count": 111,
   "outputs": [
    {
     "data": {
      "text/plain": "numpy.ndarray"
     },
     "execution_count": 111,
     "metadata": {},
     "output_type": "execute_result"
    }
   ],
   "source": [
    "# Make predictions on the reshaped data point using the loaded model\n",
    "condition_type_prob = loaded_ovr_classifier.predict_proba(random_data_point_df)\n",
    "type(condition_type_prob)"
   ],
   "metadata": {
    "collapsed": false
   }
  },
  {
   "cell_type": "code",
   "execution_count": 96,
   "outputs": [
    {
     "data": {
      "text/plain": "array([[5.9249282e-02, 5.3092618e-02, 1.0106167e-01, 3.9636962e-02,\n        3.8917903e-02, 1.9362358e-02, 1.3908793e-02, 7.4535813e-03,\n        1.1226385e-02, 7.6617853e-04, 3.9124954e-02, 9.2703644e-03,\n        8.6733820e-03, 3.1628431e-04, 8.5867985e-05, 5.6234188e-03,\n        5.3638662e-03, 1.8683743e-02, 6.7006052e-04, 8.3149411e-03]],\n      dtype=float32)"
     },
     "execution_count": 96,
     "metadata": {},
     "output_type": "execute_result"
    }
   ],
   "source": [
    "# Make predictions on the reshaped data point using the loaded model\n",
    "condition_type_prob_mod = loaded_ovr_classifier.predict_proba(random_data_point_mod)\n",
    "condition_type_prob_mod"
   ],
   "metadata": {
    "collapsed": false
   }
  },
  {
   "cell_type": "code",
   "execution_count": 40,
   "outputs": [
    {
     "data": {
      "text/plain": "<Figure size 1000x600 with 1 Axes>",
      "image/png": "[encoded data removed]"
     },
     "metadata": {},
     "output_type": "display_data"
    }
   ],
   "source": [
    "import matplotlib.pyplot as plt\n",
    "\n",
    "# Extracting the indices for the x-axis (assuming each index represents a category)\n",
    "indices = np.arange(len(condition_type_prob[0]))\n",
    "\n",
    "# Create the bar chart\n",
    "plt.figure(figsize=(10, 6))\n",
    "plt.bar(indices, condition_type_prob[0])\n",
    "\n",
    "# Adding labels and title\n",
    "plt.xlabel('Category Index')\n",
    "plt.ylabel('Probability')\n",
    "plt.title('Probability Distribution')\n",
    "\n",
    "# Show the plot\n",
    "plt.show()"
   ],
   "metadata": {
    "collapsed": false
   }
  },
  {
   "cell_type": "code",
   "execution_count": 41,
   "outputs": [
    {
     "data": {
      "text/plain": "<Figure size 1000x600 with 1 Axes>",
      "image/png": "[encoded data removed]"
     },
     "metadata": {},
     "output_type": "display_data"
    }
   ],
   "source": [
    "# Extracting the indices for the x-axis (assuming each index represents a category)\n",
    "indices = np.arange(len(condition_type_prob_mod[0]))\n",
    "\n",
    "# Create the bar chart\n",
    "plt.figure(figsize=(10, 6))\n",
    "plt.bar(indices, condition_type_prob_mod[0])\n",
    "\n",
    "# Adding labels and title\n",
    "plt.xlabel('Category Index')\n",
    "plt.ylabel('Probability')\n",
    "plt.title('Probability Distribution')\n",
    "\n",
    "# Show the plot\n",
    "plt.show()"
   ],
   "metadata": {
    "collapsed": false
   }
  },
  {
   "cell_type": "code",
   "execution_count": null,
   "outputs": [],
   "source": [
    "# Extracting the indices for the x-axis (assuming each index represents a category)\n",
    "#indices = np.arange(len(new_data_predictions_proba[0]))\n",
    "\n",
    "# Create the bar chart\n",
    "plt.figure(figsize=(10, 6))\n",
    "#plt.bar(indices, new_data_predictions_proba[0])\n",
    "\n",
    "# Adding labels and title\n",
    "plt.xlabel('Category Index')\n",
    "plt.ylabel('Probability')\n",
    "plt.title('Probability Distribution')\n",
    "\n",
    "# Show the plot\n",
    "plt.show()"
   ],
   "metadata": {
    "collapsed": false
   }
  },
  {
   "cell_type": "code",
   "execution_count": 182,
   "outputs": [
    {
     "name": "stdout",
     "output_type": "stream",
     "text": [
      "[[0.         0.         0.         0.         0.         0.\n",
      "  0.         0.         0.         0.         0.         0.\n",
      "  0.         0.         0.         0.         1.         0.\n",
      "  0.         0.         0.         0.         0.         0.\n",
      "  0.         0.         0.         0.         0.         0.\n",
      "  0.         0.         0.         0.         0.         0.\n",
      "  0.         0.         0.         0.         0.         0.\n",
      "  0.         0.         0.         0.         0.         0.\n",
      "  0.         0.         0.         0.         0.         1.\n",
      "  0.         0.         0.         0.         0.         0.\n",
      "  0.         0.         0.         0.         0.         0.\n",
      "  0.         0.         0.         0.         0.         0.\n",
      "  0.         0.         0.         0.         0.         0.\n",
      "  0.         1.         0.         0.         0.         0.\n",
      "  0.         1.         0.         0.         0.         0.\n",
      "  0.         0.         0.         0.         0.         0.\n",
      "  0.         0.         0.         0.         0.         0.\n",
      "  0.         0.         0.         0.         0.         0.\n",
      "  0.         0.         0.         0.         0.23076923 0.\n",
      "  1.         0.02956298 0.16666667 0.33333333 0.         0.\n",
      "  0.         0.         0.         0.         1.         0.\n",
      "  0.         1.         0.         0.         1.         1.\n",
      "  1.         0.         0.24691358 0.         0.         1.\n",
      "  0.         0.        ]]\n"
     ]
    }
   ],
   "source": [
    "# Reshape the data point to a 2D array\n",
    "#random_data_point_reshaped = random_data_point.values.reshape(1, -1)\n",
    "random_data_point_transformed = random_data_point_df\n",
    "#random_data_point_transformed_modified[0,0] = 0.\n",
    "print(random_data_point_transformed)"
   ],
   "metadata": {
    "collapsed": false
   }
  },
  {
   "cell_type": "code",
   "execution_count": 183,
   "outputs": [
    {
     "data": {
      "text/plain": "array([[0.04152895, 0.01036901, 0.17226458, 0.05649809, 0.01227743,\n        0.01065463, 0.04146024, 0.00540617, 0.02027092, 0.01425008,\n        0.04255968, 0.00449754, 0.00052739, 0.00087788, 0.00511235,\n        0.3251211 , 0.06315198, 0.04571452, 0.00063962, 0.00111311]],\n      dtype=float32)"
     },
     "execution_count": 183,
     "metadata": {},
     "output_type": "execute_result"
    }
   ],
   "source": [
    "# Make predictions on the reshaped data point using the loaded model\n",
    "new_data_predictions_proba = loaded_ovr_classifier.predict_proba(random_data_point_transformed)\n",
    "new_data_predictions_proba"
   ],
   "metadata": {
    "collapsed": false
   }
  },
  {
   "cell_type": "code",
   "execution_count": 310,
   "outputs": [
    {
     "data": {
      "text/plain": "age_diagnosis_years                          2\nbreeds_American Pitbull Terrier              0\nbreeds_American Staffordshire Terrier        0\nbreeds_Australian Cattle Dog                 0\nbreeds_Australian Shepherd                   0\nbreeds_Basset Hound                          0\nbreeds_Beagle                                0\nbreeds_Bernese Mountain Dog                  0\nbreeds_Bichon Frise                          0\nbreeds_Border Collie                         0\nbreeds_Boston Terrier                        0\nbreeds_Boxer                                 0\nbreeds_Bulldog                               0\nbreeds_Cairn Terrier                         0\nbreeds_Catahoula Leopard Dog                 0\nbreeds_Cavalier King Charles Spaniel         0\nbreeds_Chihuahua                             0\nbreeds_Chow Chow                             0\nbreeds_Cocker Spaniel                        0\nbreeds_Collie                                0\nbreeds_Dachshund                             0\nbreeds_Doberman Pinscher                     0\nbreeds_English Springer Spaniel              0\nbreeds_French Bulldog                        0\nbreeds_German Shepherd Dog                   0\nbreeds_German Shorthaired Pointer            0\nbreeds_Golden Retriever                      0\nbreeds_Great Dane                            0\nbreeds_Great Pyrenees                        0\nbreeds_Greyhound                             0\nbreeds_Havanese                              0\nbreeds_Jack Russell Terrier                  0\nbreeds_Labrador Retriever                    0\nbreeds_Maltese                               1\nbreeds_Miniature Pinscher                    0\nbreeds_Miniature Schnauzer                   0\nbreeds_Newfoundland                          0\nbreeds_Other                                 0\nbreeds_Pembroke Welsh Corgi                  0\nbreeds_Pomeranian                            0\nbreeds_Poodle                                0\nbreeds_Poodle (Toy)                          0\nbreeds_Pug                                   0\nbreeds_Rat Terrier                           0\nbreeds_Rhodesian Ridgeback                   0\nbreeds_Rottweiler                            0\nbreeds_Shetland Sheepdog                     0\nbreeds_Shih Tzu                              0\nbreeds_Siberian Husky                        0\nbreeds_West Highland White Terrier           0\nbreeds_Yorkshire Terrier                     1\nbreed_group_Ancient and Spitz            False\nbreed_group_Australian-like              False\nbreed_group_Chihuahua                    False\nbreed_group_Dachshund                    False\nbreed_group_Golden                       False\nbreed_group_Herding dogs - Other         False\nbreed_group_Hound                        False\nbreed_group_Labs                         False\nbreed_group_Mastiff-like Group 1         False\nbreed_group_Mastiff-like Group 2         False\nbreed_group_Mixed Lab and Golden         False\nbreed_group_Mixed Large                  False\nbreed_group_Mixed Medium                 False\nbreed_group_Mixed Other                  False\nbreed_group_Mixed Small                  False\nbreed_group_Shepherd                     False\nbreed_group_Spaniels                     False\nbreed_group_Terriers                      True\nbreed_group_Toy - Other                  False\nbreed_group_Working dogs - Non-sport     False\nbreed_type_Ancient and Spitz             False\nbreed_type_Herding dogs                  False\nbreed_type_Mastiff-Like                  False\nbreed_type_Mixed                         False\nbreed_type_Retriever                     False\nbreed_type_Scent Hounds                  False\nbreed_type_Spaniels                      False\nbreed_type_Terriers                       True\nbreed_type_Toy dogs                      False\nbreed_type_Working dogs                  False\nsub_breed_\"True\" Mastiffs                False\nsub_breed_Ancient and Spitz              False\nsub_breed_Australian                     False\nsub_breed_Bulldogs                       False\nsub_breed_Chihuahua                      False\nsub_breed_Collie, Corgi, Sheepdog        False\nsub_breed_Dachshund                      False\nsub_breed_Golden                         False\nsub_breed_Golden mix                     False\nsub_breed_Herding-other                  False\nsub_breed_Hound                          False\nsub_breed_Lab mix                        False\nsub_breed_Labs                           False\nsub_breed_Large                          False\nsub_breed_Large Terriers                 False\nsub_breed_Maltese                        False\nsub_breed_Medium                         False\nsub_breed_Non-sport                      False\nsub_breed_Other                          False\nsub_breed_Pointer                        False\nsub_breed_Setter                         False\nsub_breed_Shepherd                       False\nsub_breed_Shepherd - Other               False\nsub_breed_Shih Tzu                       False\nsub_breed_Sight Hounds                   False\nsub_breed_Similar to retrievers          False\nsub_breed_Small                          False\nsub_breed_Small Terriers                  True\nsub_breed_Sporting                       False\nsub_breed_Toy - Other                    False\ndd_breed_pure_or_mixed                       1\nrounded_age_years                          5.0\nsex_1                                     True\nsex_2                                    False\ndd_weight_lbs                              9.0\npa_cold_weather_months_per_year              2\npa_hot_weather_months_per_year               0\noc_primary_census_division__1.0          False\noc_primary_census_division__2.0          False\noc_primary_census_division__3.0          False\noc_primary_census_division__4.0          False\noc_primary_census_division__5.0          False\noc_primary_census_division__6.0          False\noc_primary_census_division__7.0          False\noc_primary_census_division__8.0          False\noc_primary_census_division__9.0           True\nconcrete                                 False\nwood                                      True\nother_hard                               False\ngrass_dirt                                True\ngravel                                   False\nsand                                     False\nastroturf                                False\ntotal_active_hours                         3.0\ndf_feedings_per_day                          2\ndf_diet_consistency                        1.0\ndf_supplements                            True\ndf_primary_diet_component_organic         True\ndf_primary_diet_component_grain_free      True\nName: 170897, dtype: object"
     },
     "execution_count": 310,
     "metadata": {},
     "output_type": "execute_result"
    }
   ],
   "source": [
    "import pandas as pd\n",
    "\n",
    "pd.set_option('display.max_rows', None)\n",
    "\n",
    "random_data_point = test_X.loc[random_index]\n",
    "random_data_point"
   ],
   "metadata": {
    "collapsed": false
   }
  },
  {
   "cell_type": "code",
   "execution_count": null,
   "outputs": [],
   "source": [],
   "metadata": {
    "collapsed": false
   }
  },
  {
   "cell_type": "code",
   "execution_count": 303,
   "outputs": [],
   "source": [],
   "metadata": {
    "collapsed": false
   }
  }
 ],
 "metadata": {
  "kernelspec": {
   "display_name": "Python 3",
   "language": "python",
   "name": "python3"
  },
  "language_info": {
   "codemirror_mode": {
    "name": "ipython",
    "version": 2
   },
   "file_extension": ".py",
   "mimetype": "text/x-python",
   "name": "python",
   "nbconvert_exporter": "python",
   "pygments_lexer": "ipython2",
   "version": "2.7.6"
  }
 },
 "nbformat": 4,
 "nbformat_minor": 0
}
