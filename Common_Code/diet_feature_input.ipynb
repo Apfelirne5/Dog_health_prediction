{
 "cells": [
  {
   "cell_type": "code",
   "execution_count": 3,
   "id": "b53f0efa",
   "metadata": {},
   "outputs": [
    {
     "name": "stderr",
     "output_type": "stream",
     "text": [
      "/var/folders/zd/3_6frj8s08b9zb1f3y0xqr2r0000gn/T/ipykernel_7002/3636265617.py:8: DtypeWarning: Columns (5,21,75,77,79,81,83,85,87,89,191,192,193,194,195,196,197,198,199,200,201,204,214,285,295,516,566) have mixed types. Specify dtype option on import or set low_memory=False.\n",
      "  dog_health_data = pd.read_csv(file_path, delimiter=',')  # Assuming tab-delimited format based on the file extension\n",
      "/var/folders/zd/3_6frj8s08b9zb1f3y0xqr2r0000gn/T/ipykernel_7002/3636265617.py:9: DtypeWarning: Columns (5,21,75,77,79,81,83,85,87,89,191,192,193,194,195,196,197,198,199,200,201,204,214,285,295,516,566) have mixed types. Specify dtype option on import or set low_memory=False.\n",
      "  dog_health = pd.read_csv(file_path, delimiter=',')\n"
     ]
    },
    {
     "data": {
      "text/plain": "   dog_id  owner_id st_hles_completion_date  dd_breed_pure_or_mixed  \\\n0   10509     14660              2020-10-17                       2   \n1   74227     16755              2020-10-26                       2   \n2   32487      8568              2020-09-07                       1   \n3   63150      5380              2020-08-21                       2   \n4   33369     15957              2020-10-23                       2   \n\n   dd_breed_pure dd_breed_pure_non_akc  dd_breed_mixed_primary  \\\n0            NaN                   NaN                    16.0   \n1            NaN                   NaN                   133.0   \n2          159.0                   NaN                     NaN   \n3            NaN                   NaN                   999.0   \n4            NaN                   NaN                   230.0   \n\n   dd_breed_mixed_secondary  dd_age_years  dd_age_basis  ...  \\\n0                     999.0     16.333333             2  ...   \n1                      12.0      1.833333             1  ...   \n2                       NaN     13.000000             3  ...   \n3                     999.0     13.000000             3  ...   \n4                      82.0      2.166667             1  ...   \n\n  oc_primary_residence_state oc_primary_residence_census_division  \\\n0                         MO                                  4.0   \n1                         MD                                  5.0   \n2                         VA                                  5.0   \n3                         CA                                  9.0   \n4                         OH                                  3.0   \n\n  oc_primary_residence_ownership  \\\n0                              2   \n1                              2   \n2                              1   \n3                              2   \n4                              2   \n\n  oc_primary_residence_ownership_other_description  \\\n0                                              NaN   \n1                                              NaN   \n2                                              NaN   \n3                                              NaN   \n4                                              NaN   \n\n  oc_primary_residence_time_percentage oc_secondary_residence  \\\n0                                  NaN                  False   \n1                                  NaN                  False   \n2                                  NaN                  False   \n3                                  NaN                  False   \n4                                  NaN                  False   \n\n  oc_secondary_residence_state oc_secondary_residence_ownership  \\\n0                          NaN                              NaN   \n1                          NaN                              NaN   \n2                          NaN                              NaN   \n3                          NaN                              NaN   \n4                          NaN                              NaN   \n\n  oc_secondary_residence_ownership_other_description  \\\n0                                                NaN   \n1                                                NaN   \n2                                                NaN   \n3                                                NaN   \n4                                                NaN   \n\n  oc_secondary_residence_time_percentage  \n0                                    NaN  \n1                                    NaN  \n2                                    NaN  \n3                                    NaN  \n4                                    NaN  \n\n[5 rows x 658 columns]",
      "text/html": "<div>\n<style scoped>\n    .dataframe tbody tr th:only-of-type {\n        vertical-align: middle;\n    }\n\n    .dataframe tbody tr th {\n        vertical-align: top;\n    }\n\n    .dataframe thead th {\n        text-align: right;\n    }\n</style>\n<table border=\"1\" class=\"dataframe\">\n  <thead>\n    <tr style=\"text-align: right;\">\n      <th></th>\n      <th>dog_id</th>\n      <th>owner_id</th>\n      <th>st_hles_completion_date</th>\n      <th>dd_breed_pure_or_mixed</th>\n      <th>dd_breed_pure</th>\n      <th>dd_breed_pure_non_akc</th>\n      <th>dd_breed_mixed_primary</th>\n      <th>dd_breed_mixed_secondary</th>\n      <th>dd_age_years</th>\n      <th>dd_age_basis</th>\n      <th>...</th>\n      <th>oc_primary_residence_state</th>\n      <th>oc_primary_residence_census_division</th>\n      <th>oc_primary_residence_ownership</th>\n      <th>oc_primary_residence_ownership_other_description</th>\n      <th>oc_primary_residence_time_percentage</th>\n      <th>oc_secondary_residence</th>\n      <th>oc_secondary_residence_state</th>\n      <th>oc_secondary_residence_ownership</th>\n      <th>oc_secondary_residence_ownership_other_description</th>\n      <th>oc_secondary_residence_time_percentage</th>\n    </tr>\n  </thead>\n  <tbody>\n    <tr>\n      <th>0</th>\n      <td>10509</td>\n      <td>14660</td>\n      <td>2020-10-17</td>\n      <td>2</td>\n      <td>NaN</td>\n      <td>NaN</td>\n      <td>16.0</td>\n      <td>999.0</td>\n      <td>16.333333</td>\n      <td>2</td>\n      <td>...</td>\n      <td>MO</td>\n      <td>4.0</td>\n      <td>2</td>\n      <td>NaN</td>\n      <td>NaN</td>\n      <td>False</td>\n      <td>NaN</td>\n      <td>NaN</td>\n      <td>NaN</td>\n      <td>NaN</td>\n    </tr>\n    <tr>\n      <th>1</th>\n      <td>74227</td>\n      <td>16755</td>\n      <td>2020-10-26</td>\n      <td>2</td>\n      <td>NaN</td>\n      <td>NaN</td>\n      <td>133.0</td>\n      <td>12.0</td>\n      <td>1.833333</td>\n      <td>1</td>\n      <td>...</td>\n      <td>MD</td>\n      <td>5.0</td>\n      <td>2</td>\n      <td>NaN</td>\n      <td>NaN</td>\n      <td>False</td>\n      <td>NaN</td>\n      <td>NaN</td>\n      <td>NaN</td>\n      <td>NaN</td>\n    </tr>\n    <tr>\n      <th>2</th>\n      <td>32487</td>\n      <td>8568</td>\n      <td>2020-09-07</td>\n      <td>1</td>\n      <td>159.0</td>\n      <td>NaN</td>\n      <td>NaN</td>\n      <td>NaN</td>\n      <td>13.000000</td>\n      <td>3</td>\n      <td>...</td>\n      <td>VA</td>\n      <td>5.0</td>\n      <td>1</td>\n      <td>NaN</td>\n      <td>NaN</td>\n      <td>False</td>\n      <td>NaN</td>\n      <td>NaN</td>\n      <td>NaN</td>\n      <td>NaN</td>\n    </tr>\n    <tr>\n      <th>3</th>\n      <td>63150</td>\n      <td>5380</td>\n      <td>2020-08-21</td>\n      <td>2</td>\n      <td>NaN</td>\n      <td>NaN</td>\n      <td>999.0</td>\n      <td>999.0</td>\n      <td>13.000000</td>\n      <td>3</td>\n      <td>...</td>\n      <td>CA</td>\n      <td>9.0</td>\n      <td>2</td>\n      <td>NaN</td>\n      <td>NaN</td>\n      <td>False</td>\n      <td>NaN</td>\n      <td>NaN</td>\n      <td>NaN</td>\n      <td>NaN</td>\n    </tr>\n    <tr>\n      <th>4</th>\n      <td>33369</td>\n      <td>15957</td>\n      <td>2020-10-23</td>\n      <td>2</td>\n      <td>NaN</td>\n      <td>NaN</td>\n      <td>230.0</td>\n      <td>82.0</td>\n      <td>2.166667</td>\n      <td>1</td>\n      <td>...</td>\n      <td>OH</td>\n      <td>3.0</td>\n      <td>2</td>\n      <td>NaN</td>\n      <td>NaN</td>\n      <td>False</td>\n      <td>NaN</td>\n      <td>NaN</td>\n      <td>NaN</td>\n      <td>NaN</td>\n    </tr>\n  </tbody>\n</table>\n<p>5 rows × 658 columns</p>\n</div>"
     },
     "execution_count": 3,
     "metadata": {},
     "output_type": "execute_result"
    }
   ],
   "source": [
    "import numpy as np\n",
    "# First, let's load the provided dataset to understand its structure and content.\n",
    "import pandas as pd\n",
    "from sklearn.preprocessing import MinMaxScaler\n",
    "\n",
    "# Load the dataset\n",
    "file_path = r'../Dataset/SurveyData/SurveyData_CSV_DAP_2021_HLES_dog_owner_v1.0.csv'\n",
    "dog_health_data = pd.read_csv(file_path, delimiter=',')  # Assuming tab-delimited format based on the file extension\n",
    "dog_health = pd.read_csv(file_path, delimiter=',')\n",
    "\n",
    "dog_health_data.head()"
   ]
  },
  {
   "cell_type": "code",
   "execution_count": 4,
   "id": "6a47b4ea",
   "metadata": {},
   "outputs": [
    {
     "name": "stdout",
     "output_type": "stream",
     "text": [
      "Column: df_feedings_per_day\n",
      "df_feedings_per_day\n",
      "2    24421\n",
      "4     3533\n",
      "3     2715\n",
      "1     2503\n",
      "Name: count, dtype: int64\n",
      "\n",
      "\n",
      "Column: df_diet_consistency\n",
      "df_diet_consistency\n",
      "1     29601\n",
      "2      3312\n",
      "3       228\n",
      "98       31\n",
      "Name: count, dtype: int64\n",
      "\n",
      "\n",
      "Column: df_infrequent_supplements\n",
      "df_infrequent_supplements\n",
      "False    29553\n",
      "True      3619\n",
      "Name: count, dtype: int64\n",
      "\n",
      "\n",
      "Column: df_daily_supplements\n",
      "df_daily_supplements\n",
      "False    18089\n",
      "True     15083\n",
      "Name: count, dtype: int64\n",
      "\n",
      "\n",
      "Column: df_primary_diet_component_organic\n",
      "df_primary_diet_component_organic\n",
      "False    26576\n",
      "True      6596\n",
      "Name: count, dtype: int64\n",
      "\n",
      "\n",
      "Column: df_primary_diet_component_grain_free\n",
      "df_primary_diet_component_grain_free\n",
      "False    19492\n",
      "True     13680\n",
      "Name: count, dtype: int64\n",
      "\n",
      "\n"
     ]
    }
   ],
   "source": [
    "columns_to_preserve = ['df_feedings_per_day', 'df_diet_consistency', \n",
    "                       'df_infrequent_supplements', 'df_daily_supplements', \n",
    "                       'df_primary_diet_component_organic', 'df_primary_diet_component_grain_free']\n",
    "\n",
    "# 选择需要统计的列\n",
    "columns_to_count = dog_health[columns_to_preserve]\n",
    "\n",
    "# 统计每个值的数量\n",
    "counts_dict = {}\n",
    "\n",
    "for column in columns_to_count:\n",
    "    counts = dog_health[column].value_counts()\n",
    "    counts_dict[column] = counts\n",
    "\n",
    "# 输出结果\n",
    "for column, counts in counts_dict.items():\n",
    "    print(f\"Column: {column}\")\n",
    "    print(counts)\n",
    "    print(\"\\n\")\n"
   ]
  },
  {
   "cell_type": "code",
   "execution_count": 5,
   "outputs": [
    {
     "data": {
      "text/plain": "df_supplements\nFalse    17029\nTrue     16143\nName: count, dtype: int64"
     },
     "execution_count": 5,
     "metadata": {},
     "output_type": "execute_result"
    }
   ],
   "source": [
    "#dog_health['df_infrequent_supplements'].value_counts()\n",
    "dog_health['df_supplements'] = ~(dog_health['df_daily_supplements'] | dog_health['df_infrequent_supplements'])\n",
    "dog_health['df_supplements'].value_counts()"
   ],
   "metadata": {
    "collapsed": false
   }
  },
  {
   "cell_type": "code",
   "execution_count": 6,
   "id": "8dc609f6",
   "metadata": {},
   "outputs": [
    {
     "name": "stderr",
     "output_type": "stream",
     "text": [
      "/var/folders/zd/3_6frj8s08b9zb1f3y0xqr2r0000gn/T/ipykernel_7002/239063219.py:8: SettingWithCopyWarning: \n",
      "A value is trying to be set on a copy of a slice from a DataFrame.\n",
      "Try using .loc[row_indexer,col_indexer] = value instead\n",
      "\n",
      "See the caveats in the documentation: https://pandas.pydata.org/pandas-docs/stable/user_guide/indexing.html#returning-a-view-versus-a-copy\n",
      "  filtered_dog_health['df_diet_consistency'] = filtered_dog_health['df_diet_consistency'].replace(98, np.nan)\n"
     ]
    },
    {
     "data": {
      "text/plain": "       dog_id  df_feedings_per_day  df_diet_consistency  df_supplements  \\\n0       10509                    2                  1.0            True   \n1       74227                    2                  1.0            True   \n2       32487                    2                  1.0           False   \n3       63150                    2                  1.0           False   \n4       33369                    2                  1.0            True   \n...       ...                  ...                  ...             ...   \n33167   91849                    2                  1.0            True   \n33168   33783                    2                  1.0            True   \n33169   98862                    2                  1.0            True   \n33170   99462                    2                  1.0           False   \n33171    6530                    2                  1.0           False   \n\n       df_primary_diet_component_organic  df_primary_diet_component_grain_free  \n0                                  False                                  True  \n1                                  False                                  True  \n2                                  False                                  True  \n3                                   True                                  True  \n4                                  False                                 False  \n...                                  ...                                   ...  \n33167                              False                                 False  \n33168                               True                                  True  \n33169                              False                                 False  \n33170                              False                                  True  \n33171                              False                                 False  \n\n[33172 rows x 6 columns]",
      "text/html": "<div>\n<style scoped>\n    .dataframe tbody tr th:only-of-type {\n        vertical-align: middle;\n    }\n\n    .dataframe tbody tr th {\n        vertical-align: top;\n    }\n\n    .dataframe thead th {\n        text-align: right;\n    }\n</style>\n<table border=\"1\" class=\"dataframe\">\n  <thead>\n    <tr style=\"text-align: right;\">\n      <th></th>\n      <th>dog_id</th>\n      <th>df_feedings_per_day</th>\n      <th>df_diet_consistency</th>\n      <th>df_supplements</th>\n      <th>df_primary_diet_component_organic</th>\n      <th>df_primary_diet_component_grain_free</th>\n    </tr>\n  </thead>\n  <tbody>\n    <tr>\n      <th>0</th>\n      <td>10509</td>\n      <td>2</td>\n      <td>1.0</td>\n      <td>True</td>\n      <td>False</td>\n      <td>True</td>\n    </tr>\n    <tr>\n      <th>1</th>\n      <td>74227</td>\n      <td>2</td>\n      <td>1.0</td>\n      <td>True</td>\n      <td>False</td>\n      <td>True</td>\n    </tr>\n    <tr>\n      <th>2</th>\n      <td>32487</td>\n      <td>2</td>\n      <td>1.0</td>\n      <td>False</td>\n      <td>False</td>\n      <td>True</td>\n    </tr>\n    <tr>\n      <th>3</th>\n      <td>63150</td>\n      <td>2</td>\n      <td>1.0</td>\n      <td>False</td>\n      <td>True</td>\n      <td>True</td>\n    </tr>\n    <tr>\n      <th>4</th>\n      <td>33369</td>\n      <td>2</td>\n      <td>1.0</td>\n      <td>True</td>\n      <td>False</td>\n      <td>False</td>\n    </tr>\n    <tr>\n      <th>...</th>\n      <td>...</td>\n      <td>...</td>\n      <td>...</td>\n      <td>...</td>\n      <td>...</td>\n      <td>...</td>\n    </tr>\n    <tr>\n      <th>33167</th>\n      <td>91849</td>\n      <td>2</td>\n      <td>1.0</td>\n      <td>True</td>\n      <td>False</td>\n      <td>False</td>\n    </tr>\n    <tr>\n      <th>33168</th>\n      <td>33783</td>\n      <td>2</td>\n      <td>1.0</td>\n      <td>True</td>\n      <td>True</td>\n      <td>True</td>\n    </tr>\n    <tr>\n      <th>33169</th>\n      <td>98862</td>\n      <td>2</td>\n      <td>1.0</td>\n      <td>True</td>\n      <td>False</td>\n      <td>False</td>\n    </tr>\n    <tr>\n      <th>33170</th>\n      <td>99462</td>\n      <td>2</td>\n      <td>1.0</td>\n      <td>False</td>\n      <td>False</td>\n      <td>True</td>\n    </tr>\n    <tr>\n      <th>33171</th>\n      <td>6530</td>\n      <td>2</td>\n      <td>1.0</td>\n      <td>False</td>\n      <td>False</td>\n      <td>False</td>\n    </tr>\n  </tbody>\n</table>\n<p>33172 rows × 6 columns</p>\n</div>"
     },
     "execution_count": 6,
     "metadata": {},
     "output_type": "execute_result"
    }
   ],
   "source": [
    "# Merge 'df_diet_consistency' and 'df_infrequent_supplements' into a new column 'df_supplements'\n",
    "dog_health['df_supplements'] = ~(dog_health['df_daily_supplements'] | dog_health['df_infrequent_supplements'])\n",
    "\n",
    "filtered_dog_health = dog_health[['dog_id', 'df_feedings_per_day', 'df_diet_consistency',\n",
    "                       'df_supplements', 'df_primary_diet_component_organic', 'df_primary_diet_component_grain_free']]\n",
    "\n",
    "# Replace values of 98 with np.nan in 'df_diet_consistency'\n",
    "filtered_dog_health['df_diet_consistency'] = filtered_dog_health['df_diet_consistency'].replace(98, np.nan)\n",
    "\n",
    "# Columns to preserve\n",
    "columns_to_preserve = ['dog_id', 'df_feedings_per_day', 'df_diet_consistency',\n",
    "                       'df_supplements', 'df_primary_diet_component_organic', 'df_primary_diet_component_grain_free']\n",
    "\n",
    "# Save the new DataFrame to a CSV file\n",
    "#filtered_dog_health.to_csv('one_hot_encoded_diet_input.csv', index=False)\n",
    "\n",
    "# Display the new DataFrame\n",
    "filtered_dog_health"
   ]
  },
  {
   "cell_type": "code",
   "execution_count": 7,
   "outputs": [
    {
     "data": {
      "text/plain": "df_primary_diet_component_grain_free\nFalse    19492\nTrue     13680\nName: count, dtype: int64"
     },
     "execution_count": 7,
     "metadata": {},
     "output_type": "execute_result"
    }
   ],
   "source": [
    "filtered_dog_health['df_primary_diet_component_grain_free'].value_counts()"
   ],
   "metadata": {
    "collapsed": false
   }
  },
  {
   "cell_type": "code",
   "execution_count": 8,
   "outputs": [],
   "source": [
    "filtered_dog_health = filtered_dog_health[filtered_dog_health['df_diet_consistency'].notna()]"
   ],
   "metadata": {
    "collapsed": false
   }
  },
  {
   "cell_type": "code",
   "execution_count": 9,
   "outputs": [],
   "source": [
    "# Normalize the specified features in one line and save in the same columns\n",
    "#features_to_normalize = ['df_feedings_per_day', 'df_diet_consistency']\n",
    "\n",
    "# Initialize MinMaxScaler\n",
    "#scaler = MinMaxScaler()\n",
    "\n",
    "# Normalize\n",
    "#filtered_dog_health[features_to_normalize] = scaler.fit_transform(filtered_dog_health[features_to_normalize])\n",
    "#filtered_dog_health"
   ],
   "metadata": {
    "collapsed": false
   }
  },
  {
   "cell_type": "code",
   "execution_count": 10,
   "outputs": [],
   "source": [
    "# make a new pickle file can load by our model\n",
    "filtered_dog_health.to_pickle('features/diet.pkl')\n",
    "filtered_dog_health.to_csv('features/diet.csv', index=False)"
   ],
   "metadata": {
    "collapsed": false
   }
  },
  {
   "cell_type": "code",
   "execution_count": null,
   "outputs": [],
   "source": [],
   "metadata": {
    "collapsed": false
   }
  }
 ],
 "metadata": {
  "kernelspec": {
   "display_name": "Python 3 (ipykernel)",
   "language": "python",
   "name": "python3"
  },
  "language_info": {
   "codemirror_mode": {
    "name": "ipython",
    "version": 3
   },
   "file_extension": ".py",
   "mimetype": "text/x-python",
   "name": "python",
   "nbconvert_exporter": "python",
   "pygments_lexer": "ipython3",
   "version": "3.11.5"
  }
 },
 "nbformat": 4,
 "nbformat_minor": 5
}
