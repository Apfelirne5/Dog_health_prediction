{
 "cells": [
  {
   "cell_type": "code",
   "execution_count": 9,
   "id": "ec2eed9f",
   "metadata": {
    "scrolled": true
   },
   "outputs": [
    {
     "name": "stdout",
     "output_type": "stream",
     "text": [
      "       dog_id  df_feedings_per_day  diet_score\n",
      "0       10509                    2           4\n",
      "1       74227                    2           4\n",
      "2       32487                    2           3\n",
      "3       63150                    2           4\n",
      "4       33369                    2           3\n",
      "...       ...                  ...         ...\n",
      "33167   91849                    2           3\n",
      "33168   33783                    2           5\n",
      "33169   98862                    2           3\n",
      "33170   99462                    2           3\n",
      "33171    6530                    2           2\n",
      "\n",
      "[33172 rows x 3 columns]\n"
     ]
    }
   ],
   "source": [
    "import pandas as pd\n",
    "\n",
    "# 读取 CSV 文件\n",
    "file_path = r'C:\\Users\\jinga\\Desktop\\DS2\\Common_Code\\one_hot_encoded_diet_input.csv'\n",
    "df = pd.read_csv(file_path, delimiter=',')\n",
    "\n",
    "# 创建新列 diet_score，根据条件更新值\n",
    "df['diet_score'] = 0\n",
    "df['diet_score'] += 2 * (df['df_diet_consistency'] == 1)\n",
    "df['diet_score'] += (df['df_diet_consistency'] == 2)\n",
    "df['diet_score'] += df['df_supplements'].astype(int)\n",
    "df['diet_score'] += df['df_primary_diet_component_organic'].astype(int)\n",
    "df['diet_score'] += df['df_primary_diet_component_grain_free'].astype(int)\n",
    "\n",
    "# 选择需要的列\n",
    "selected_columns = ['dog_id', 'df_feedings_per_day', 'diet_score']\n",
    "\n",
    "# 创建新的 DataFrame\n",
    "diet_merged = df[selected_columns]\n",
    "\n",
    "# 保存 DataFrame 到 pkl 文件，路径为 C:\\Users\\jinga\\Desktop\\DS2\\features\\diet_merged.pkl\n",
    "save_path = r'C:\\Users\\jinga\\Desktop\\DS2\\features\\diet_merged.pkl'\n",
    "diet_merged.to_pickle(save_path)\n",
    "\n",
    "# 打印结果\n",
    "print(diet_merged)\n",
    "\n"
   ]
  },
  {
   "cell_type": "code",
   "execution_count": null,
   "id": "f770892c",
   "metadata": {},
   "outputs": [],
   "source": []
  }
 ],
 "metadata": {
  "kernelspec": {
   "display_name": "Python 3 (ipykernel)",
   "language": "python",
   "name": "python3"
  },
  "language_info": {
   "codemirror_mode": {
    "name": "ipython",
    "version": 3
   },
   "file_extension": ".py",
   "mimetype": "text/x-python",
   "name": "python",
   "nbconvert_exporter": "python",
   "pygments_lexer": "ipython3",
   "version": "3.11.5"
  }
 },
 "nbformat": 4,
 "nbformat_minor": 5
}
