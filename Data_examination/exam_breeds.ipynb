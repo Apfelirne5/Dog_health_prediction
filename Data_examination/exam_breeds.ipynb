{
 "cells": [
  {
   "cell_type": "code",
   "execution_count": 34,
   "metadata": {
    "collapsed": true
   },
   "outputs": [],
   "source": [
    "import pandas as pd\n",
    "import os\n",
    "import numpy as np\n",
    "import matplotlib.pyplot as plt"
   ]
  },
  {
   "cell_type": "code",
   "execution_count": 35,
   "outputs": [
    {
     "data": {
      "text/plain": "       dog_id DAP_Pack_Date    Cohort Cohort_Enroll_Date Estimated_DOB  \\\n0           8    2020-08-12  DAP Pack                NaN    2011-02-15   \n1           9    2020-10-28  DAP Pack                NaN    2008-04-15   \n2          11    2020-08-31  DAP Pack                NaN    2011-04-15   \n3          12    2020-09-15  DAP Pack                NaN    2013-08-15   \n4          13    2020-11-22  DAP Pack                NaN    2018-03-15   \n...       ...           ...       ...                ...           ...   \n33167  103633    2021-12-29  DAP Pack                NaN    2014-09-15   \n33168  103637    2021-12-29  DAP Pack                NaN    2019-12-15   \n33169  103643    2021-12-30  DAP Pack                NaN    2020-04-15   \n33170  103647    2021-12-31  DAP Pack                NaN    2016-08-15   \n33171  103658    2021-12-31  DAP Pack                NaN    2010-12-31   \n\n       Estimated_Age_Years_at_HLES  \\\n0                              9.5   \n1                             12.5   \n2                              9.4   \n3                              7.1   \n4                              2.7   \n...                            ...   \n33167                          7.3   \n33168                          2.0   \n33169                          1.7   \n33170                          5.4   \n33171                         11.0   \n\n                                AgeDOB_Estimation_Method  \\\n0      Estimated using owner-reported birth year and ...   \n1      Estimated using owner-reported birth year and ...   \n2      Estimated using owner-reported birth year and ...   \n3      Estimated using owner-reported birth year and ...   \n4      Estimated using owner-reported birth year and ...   \n...                                                  ...   \n33167  Estimated using owner-reported birth year and ...   \n33168  Estimated using owner-reported birth year and ...   \n33169  Estimated using owner-reported birth year and ...   \n33170  Estimated using owner-reported birth year and ...   \n33171                 Estimated using owner-reported age   \n\n      Dog_Reported_Deceased  DOD Breed_Status  ... LifeStage_Class_at_HLES  \\\n0                         N  NaN  Mixed breed  ...            Mature Adult   \n1                         N  NaN     Purebred  ...                  Senior   \n2                         N  NaN     Purebred  ...            Mature Adult   \n3                         N  NaN  Mixed breed  ...            Mature Adult   \n4                         N  NaN     Purebred  ...             Young Adult   \n...                     ...  ...          ...  ...                     ...   \n33167                     N  NaN     Purebred  ...            Mature Adult   \n33168                     N  NaN  Mixed breed  ...             Young Adult   \n33169                     N  NaN  Mixed breed  ...             Young Adult   \n33170                     N  NaN     Purebred  ...            Mature Adult   \n33171                     N  NaN  Mixed breed  ...            Mature Adult   \n\n      CSLB_2020_Complete CSLB_2021_Complete AFUS_2021_Complete EOLS_Complete  \\\n0                      N                  N        NNNNNNNNNNN             N   \n1                      N                  N        NNNNNNNNNNN             N   \n2                      N                  N        NNNNNNNNNNN             N   \n3                      Y                  N        NNNNNNNNNNN             N   \n4                      Y                  Y        NNNNNNNNNNN             N   \n...                  ...                ...                ...           ...   \n33167                  N                  N        NNNNNNNNNNN             N   \n33168                  N                  N        NNNNNNNNNNN             N   \n33169                  N                  N        NNNNNNNNNNN             N   \n33170                  N                  N        NNNNNNNNNNN             N   \n33171                  N                  N        NNNNNNNNNNN             N   \n\n      DNA_Swab_ID PrimaryAddress_HLES SecondaryAddress_HLES  \\\n0             NaN                   Y                     N   \n1             NaN                   Y                     N   \n2             NaN                   Y                     N   \n3             NaN                   Y                     N   \n4             NaN                   Y                     N   \n...           ...                 ...                   ...   \n33167         NaN                   N                     N   \n33168         NaN                   N                     N   \n33169         NaN                   N                     N   \n33170         NaN                   N                     N   \n33171         NaN                   N                     N   \n\n      PrimaryAddress_AFUS2021 SecondaryAddress_AFUS2021  \n0                           N                         N  \n1                           N                         N  \n2                           N                         N  \n3                           N                         N  \n4                           N                         N  \n...                       ...                       ...  \n33167                       N                         N  \n33168                       N                         N  \n33169                       N                         N  \n33170                       N                         N  \n33171                       N                         N  \n\n[33172 rows x 27 columns]",
      "text/html": "<div>\n<style scoped>\n    .dataframe tbody tr th:only-of-type {\n        vertical-align: middle;\n    }\n\n    .dataframe tbody tr th {\n        vertical-align: top;\n    }\n\n    .dataframe thead th {\n        text-align: right;\n    }\n</style>\n<table border=\"1\" class=\"dataframe\">\n  <thead>\n    <tr style=\"text-align: right;\">\n      <th></th>\n      <th>dog_id</th>\n      <th>DAP_Pack_Date</th>\n      <th>Cohort</th>\n      <th>Cohort_Enroll_Date</th>\n      <th>Estimated_DOB</th>\n      <th>Estimated_Age_Years_at_HLES</th>\n      <th>AgeDOB_Estimation_Method</th>\n      <th>Dog_Reported_Deceased</th>\n      <th>DOD</th>\n      <th>Breed_Status</th>\n      <th>...</th>\n      <th>LifeStage_Class_at_HLES</th>\n      <th>CSLB_2020_Complete</th>\n      <th>CSLB_2021_Complete</th>\n      <th>AFUS_2021_Complete</th>\n      <th>EOLS_Complete</th>\n      <th>DNA_Swab_ID</th>\n      <th>PrimaryAddress_HLES</th>\n      <th>SecondaryAddress_HLES</th>\n      <th>PrimaryAddress_AFUS2021</th>\n      <th>SecondaryAddress_AFUS2021</th>\n    </tr>\n  </thead>\n  <tbody>\n    <tr>\n      <th>0</th>\n      <td>8</td>\n      <td>2020-08-12</td>\n      <td>DAP Pack</td>\n      <td>NaN</td>\n      <td>2011-02-15</td>\n      <td>9.5</td>\n      <td>Estimated using owner-reported birth year and ...</td>\n      <td>N</td>\n      <td>NaN</td>\n      <td>Mixed breed</td>\n      <td>...</td>\n      <td>Mature Adult</td>\n      <td>N</td>\n      <td>N</td>\n      <td>NNNNNNNNNNN</td>\n      <td>N</td>\n      <td>NaN</td>\n      <td>Y</td>\n      <td>N</td>\n      <td>N</td>\n      <td>N</td>\n    </tr>\n    <tr>\n      <th>1</th>\n      <td>9</td>\n      <td>2020-10-28</td>\n      <td>DAP Pack</td>\n      <td>NaN</td>\n      <td>2008-04-15</td>\n      <td>12.5</td>\n      <td>Estimated using owner-reported birth year and ...</td>\n      <td>N</td>\n      <td>NaN</td>\n      <td>Purebred</td>\n      <td>...</td>\n      <td>Senior</td>\n      <td>N</td>\n      <td>N</td>\n      <td>NNNNNNNNNNN</td>\n      <td>N</td>\n      <td>NaN</td>\n      <td>Y</td>\n      <td>N</td>\n      <td>N</td>\n      <td>N</td>\n    </tr>\n    <tr>\n      <th>2</th>\n      <td>11</td>\n      <td>2020-08-31</td>\n      <td>DAP Pack</td>\n      <td>NaN</td>\n      <td>2011-04-15</td>\n      <td>9.4</td>\n      <td>Estimated using owner-reported birth year and ...</td>\n      <td>N</td>\n      <td>NaN</td>\n      <td>Purebred</td>\n      <td>...</td>\n      <td>Mature Adult</td>\n      <td>N</td>\n      <td>N</td>\n      <td>NNNNNNNNNNN</td>\n      <td>N</td>\n      <td>NaN</td>\n      <td>Y</td>\n      <td>N</td>\n      <td>N</td>\n      <td>N</td>\n    </tr>\n    <tr>\n      <th>3</th>\n      <td>12</td>\n      <td>2020-09-15</td>\n      <td>DAP Pack</td>\n      <td>NaN</td>\n      <td>2013-08-15</td>\n      <td>7.1</td>\n      <td>Estimated using owner-reported birth year and ...</td>\n      <td>N</td>\n      <td>NaN</td>\n      <td>Mixed breed</td>\n      <td>...</td>\n      <td>Mature Adult</td>\n      <td>Y</td>\n      <td>N</td>\n      <td>NNNNNNNNNNN</td>\n      <td>N</td>\n      <td>NaN</td>\n      <td>Y</td>\n      <td>N</td>\n      <td>N</td>\n      <td>N</td>\n    </tr>\n    <tr>\n      <th>4</th>\n      <td>13</td>\n      <td>2020-11-22</td>\n      <td>DAP Pack</td>\n      <td>NaN</td>\n      <td>2018-03-15</td>\n      <td>2.7</td>\n      <td>Estimated using owner-reported birth year and ...</td>\n      <td>N</td>\n      <td>NaN</td>\n      <td>Purebred</td>\n      <td>...</td>\n      <td>Young Adult</td>\n      <td>Y</td>\n      <td>Y</td>\n      <td>NNNNNNNNNNN</td>\n      <td>N</td>\n      <td>NaN</td>\n      <td>Y</td>\n      <td>N</td>\n      <td>N</td>\n      <td>N</td>\n    </tr>\n    <tr>\n      <th>...</th>\n      <td>...</td>\n      <td>...</td>\n      <td>...</td>\n      <td>...</td>\n      <td>...</td>\n      <td>...</td>\n      <td>...</td>\n      <td>...</td>\n      <td>...</td>\n      <td>...</td>\n      <td>...</td>\n      <td>...</td>\n      <td>...</td>\n      <td>...</td>\n      <td>...</td>\n      <td>...</td>\n      <td>...</td>\n      <td>...</td>\n      <td>...</td>\n      <td>...</td>\n      <td>...</td>\n    </tr>\n    <tr>\n      <th>33167</th>\n      <td>103633</td>\n      <td>2021-12-29</td>\n      <td>DAP Pack</td>\n      <td>NaN</td>\n      <td>2014-09-15</td>\n      <td>7.3</td>\n      <td>Estimated using owner-reported birth year and ...</td>\n      <td>N</td>\n      <td>NaN</td>\n      <td>Purebred</td>\n      <td>...</td>\n      <td>Mature Adult</td>\n      <td>N</td>\n      <td>N</td>\n      <td>NNNNNNNNNNN</td>\n      <td>N</td>\n      <td>NaN</td>\n      <td>N</td>\n      <td>N</td>\n      <td>N</td>\n      <td>N</td>\n    </tr>\n    <tr>\n      <th>33168</th>\n      <td>103637</td>\n      <td>2021-12-29</td>\n      <td>DAP Pack</td>\n      <td>NaN</td>\n      <td>2019-12-15</td>\n      <td>2.0</td>\n      <td>Estimated using owner-reported birth year and ...</td>\n      <td>N</td>\n      <td>NaN</td>\n      <td>Mixed breed</td>\n      <td>...</td>\n      <td>Young Adult</td>\n      <td>N</td>\n      <td>N</td>\n      <td>NNNNNNNNNNN</td>\n      <td>N</td>\n      <td>NaN</td>\n      <td>N</td>\n      <td>N</td>\n      <td>N</td>\n      <td>N</td>\n    </tr>\n    <tr>\n      <th>33169</th>\n      <td>103643</td>\n      <td>2021-12-30</td>\n      <td>DAP Pack</td>\n      <td>NaN</td>\n      <td>2020-04-15</td>\n      <td>1.7</td>\n      <td>Estimated using owner-reported birth year and ...</td>\n      <td>N</td>\n      <td>NaN</td>\n      <td>Mixed breed</td>\n      <td>...</td>\n      <td>Young Adult</td>\n      <td>N</td>\n      <td>N</td>\n      <td>NNNNNNNNNNN</td>\n      <td>N</td>\n      <td>NaN</td>\n      <td>N</td>\n      <td>N</td>\n      <td>N</td>\n      <td>N</td>\n    </tr>\n    <tr>\n      <th>33170</th>\n      <td>103647</td>\n      <td>2021-12-31</td>\n      <td>DAP Pack</td>\n      <td>NaN</td>\n      <td>2016-08-15</td>\n      <td>5.4</td>\n      <td>Estimated using owner-reported birth year and ...</td>\n      <td>N</td>\n      <td>NaN</td>\n      <td>Purebred</td>\n      <td>...</td>\n      <td>Mature Adult</td>\n      <td>N</td>\n      <td>N</td>\n      <td>NNNNNNNNNNN</td>\n      <td>N</td>\n      <td>NaN</td>\n      <td>N</td>\n      <td>N</td>\n      <td>N</td>\n      <td>N</td>\n    </tr>\n    <tr>\n      <th>33171</th>\n      <td>103658</td>\n      <td>2021-12-31</td>\n      <td>DAP Pack</td>\n      <td>NaN</td>\n      <td>2010-12-31</td>\n      <td>11.0</td>\n      <td>Estimated using owner-reported age</td>\n      <td>N</td>\n      <td>NaN</td>\n      <td>Mixed breed</td>\n      <td>...</td>\n      <td>Mature Adult</td>\n      <td>N</td>\n      <td>N</td>\n      <td>NNNNNNNNNNN</td>\n      <td>N</td>\n      <td>NaN</td>\n      <td>N</td>\n      <td>N</td>\n      <td>N</td>\n      <td>N</td>\n    </tr>\n  </tbody>\n</table>\n<p>33172 rows × 27 columns</p>\n</div>"
     },
     "execution_count": 35,
     "metadata": {},
     "output_type": "execute_result"
    }
   ],
   "source": [
    "file_path_DogOverview = \"../Dataset/DogOverview/DogOverview_CSV_DAP_2021_DogOverview_v1.0.csv\"\n",
    "df_DogOV = pd.read_csv(file_path_DogOverview)\n",
    "df_DogOV"
   ],
   "metadata": {
    "collapsed": false
   }
  },
  {
   "cell_type": "code",
   "execution_count": 36,
   "outputs": [
    {
     "data": {
      "text/plain": "0           Labrador Retriever\n1            Italian Greyhound\n2           Labrador Retriever\n3               Siberian Husky\n4             Golden Retriever\n                 ...          \n33167    Australian Cattle Dog\n33168         Golden Retriever\n33169                   Poodle\n33170            Border Collie\n33171            Border Collie\nName: Breed, Length: 33172, dtype: object"
     },
     "execution_count": 36,
     "metadata": {},
     "output_type": "execute_result"
    }
   ],
   "source": [
    "# added Step of taking the first breed label if 2 are given with a / inbetween\n",
    "df_DogOV['Breed'] = df_DogOV['Breed'].str.split('/').str[0]\n",
    "df_DogOV['Breed']"
   ],
   "metadata": {
    "collapsed": false
   }
  },
  {
   "cell_type": "code",
   "execution_count": 37,
   "outputs": [],
   "source": [
    "file_path_breeds = \"breed_grouping.csv\"\n",
    "df_breeds = pd.read_csv(\"../Dataset/Supplementary_data/breed_grouping.csv\", delimiter=\";\", encoding=\"ISO-8859-1\")"
   ],
   "metadata": {
    "collapsed": false
   }
  },
  {
   "cell_type": "code",
   "execution_count": 38,
   "outputs": [
    {
     "data": {
      "text/plain": "            Breed Type          Sub Breed        Breed Group  \\\n0    Ancient and Spitz  Ancient and Spitz  Ancient and Spitz   \n1    Ancient and Spitz  Ancient and Spitz  Ancient and Spitz   \n2    Ancient and Spitz  Ancient and Spitz  Ancient and Spitz   \n3    Ancient and Spitz  Ancient and Spitz  Ancient and Spitz   \n4    Ancient and Spitz  Ancient and Spitz  Ancient and Spitz   \n..                 ...                ...                ...   \n551       Working dogs   Shepherd - Other           Shepherd   \n552       Working dogs   Shepherd - Other           Shepherd   \n553       Working dogs   Shepherd - Other           Shepherd   \n554       Working dogs   Shepherd - Other           Shepherd   \n555       Working dogs   Shepherd - Other           Shepherd   \n\n                   Breed  \n0               Ainu Dog  \n1                  Akita  \n2              Akita Mix  \n3          Alaskan Husky  \n4       Alaskan Klee Kai  \n..                   ...  \n551          Sarplaninac  \n552      Shiloh Shepherd  \n553      shiloh shepherd  \n554  Shiloh Shepherd Mix  \n555             Tervuren  \n\n[556 rows x 4 columns]",
      "text/html": "<div>\n<style scoped>\n    .dataframe tbody tr th:only-of-type {\n        vertical-align: middle;\n    }\n\n    .dataframe tbody tr th {\n        vertical-align: top;\n    }\n\n    .dataframe thead th {\n        text-align: right;\n    }\n</style>\n<table border=\"1\" class=\"dataframe\">\n  <thead>\n    <tr style=\"text-align: right;\">\n      <th></th>\n      <th>Breed Type</th>\n      <th>Sub Breed</th>\n      <th>Breed Group</th>\n      <th>Breed</th>\n    </tr>\n  </thead>\n  <tbody>\n    <tr>\n      <th>0</th>\n      <td>Ancient and Spitz</td>\n      <td>Ancient and Spitz</td>\n      <td>Ancient and Spitz</td>\n      <td>Ainu Dog</td>\n    </tr>\n    <tr>\n      <th>1</th>\n      <td>Ancient and Spitz</td>\n      <td>Ancient and Spitz</td>\n      <td>Ancient and Spitz</td>\n      <td>Akita</td>\n    </tr>\n    <tr>\n      <th>2</th>\n      <td>Ancient and Spitz</td>\n      <td>Ancient and Spitz</td>\n      <td>Ancient and Spitz</td>\n      <td>Akita Mix</td>\n    </tr>\n    <tr>\n      <th>3</th>\n      <td>Ancient and Spitz</td>\n      <td>Ancient and Spitz</td>\n      <td>Ancient and Spitz</td>\n      <td>Alaskan Husky</td>\n    </tr>\n    <tr>\n      <th>4</th>\n      <td>Ancient and Spitz</td>\n      <td>Ancient and Spitz</td>\n      <td>Ancient and Spitz</td>\n      <td>Alaskan Klee Kai</td>\n    </tr>\n    <tr>\n      <th>...</th>\n      <td>...</td>\n      <td>...</td>\n      <td>...</td>\n      <td>...</td>\n    </tr>\n    <tr>\n      <th>551</th>\n      <td>Working dogs</td>\n      <td>Shepherd - Other</td>\n      <td>Shepherd</td>\n      <td>Sarplaninac</td>\n    </tr>\n    <tr>\n      <th>552</th>\n      <td>Working dogs</td>\n      <td>Shepherd - Other</td>\n      <td>Shepherd</td>\n      <td>Shiloh Shepherd</td>\n    </tr>\n    <tr>\n      <th>553</th>\n      <td>Working dogs</td>\n      <td>Shepherd - Other</td>\n      <td>Shepherd</td>\n      <td>shiloh shepherd</td>\n    </tr>\n    <tr>\n      <th>554</th>\n      <td>Working dogs</td>\n      <td>Shepherd - Other</td>\n      <td>Shepherd</td>\n      <td>Shiloh Shepherd Mix</td>\n    </tr>\n    <tr>\n      <th>555</th>\n      <td>Working dogs</td>\n      <td>Shepherd - Other</td>\n      <td>Shepherd</td>\n      <td>Tervuren</td>\n    </tr>\n  </tbody>\n</table>\n<p>556 rows × 4 columns</p>\n</div>"
     },
     "execution_count": 38,
     "metadata": {},
     "output_type": "execute_result"
    }
   ],
   "source": [
    "df_breeds"
   ],
   "metadata": {
    "collapsed": false
   }
  },
  {
   "cell_type": "code",
   "execution_count": 39,
   "outputs": [
    {
     "data": {
      "text/plain": "             Breed Type          Sub Breed        Breed Group  \\\n0     Ancient and Spitz  Ancient and Spitz  Ancient and Spitz   \n1     Ancient and Spitz  Ancient and Spitz  Ancient and Spitz   \n2     Ancient and Spitz  Ancient and Spitz  Ancient and Spitz   \n3     Ancient and Spitz  Ancient and Spitz  Ancient and Spitz   \n5     Ancient and Spitz  Ancient and Spitz  Ancient and Spitz   \n...                 ...                ...                ...   \n1018       Working dogs   Shepherd - Other           Shepherd   \n1019       Working dogs   Shepherd - Other           Shepherd   \n1020       Working dogs   Shepherd - Other           Shepherd   \n1022       Working dogs   Shepherd - Other           Shepherd   \n1023       Working dogs   Shepherd - Other           Shepherd   \n\n                    Breed  \n0                Ainu Dog  \n1            Ainu Dog Mix  \n2                   Akita  \n3               Akita Mix  \n5           Alaskan Husky  \n...                   ...  \n1018  Shiloh Shepherd Mix  \n1019      shiloh shepherd  \n1020  shiloh shepherd Mix  \n1022             Tervuren  \n1023         Tervuren Mix  \n\n[952 rows x 4 columns]",
      "text/html": "<div>\n<style scoped>\n    .dataframe tbody tr th:only-of-type {\n        vertical-align: middle;\n    }\n\n    .dataframe tbody tr th {\n        vertical-align: top;\n    }\n\n    .dataframe thead th {\n        text-align: right;\n    }\n</style>\n<table border=\"1\" class=\"dataframe\">\n  <thead>\n    <tr style=\"text-align: right;\">\n      <th></th>\n      <th>Breed Type</th>\n      <th>Sub Breed</th>\n      <th>Breed Group</th>\n      <th>Breed</th>\n    </tr>\n  </thead>\n  <tbody>\n    <tr>\n      <th>0</th>\n      <td>Ancient and Spitz</td>\n      <td>Ancient and Spitz</td>\n      <td>Ancient and Spitz</td>\n      <td>Ainu Dog</td>\n    </tr>\n    <tr>\n      <th>1</th>\n      <td>Ancient and Spitz</td>\n      <td>Ancient and Spitz</td>\n      <td>Ancient and Spitz</td>\n      <td>Ainu Dog Mix</td>\n    </tr>\n    <tr>\n      <th>2</th>\n      <td>Ancient and Spitz</td>\n      <td>Ancient and Spitz</td>\n      <td>Ancient and Spitz</td>\n      <td>Akita</td>\n    </tr>\n    <tr>\n      <th>3</th>\n      <td>Ancient and Spitz</td>\n      <td>Ancient and Spitz</td>\n      <td>Ancient and Spitz</td>\n      <td>Akita Mix</td>\n    </tr>\n    <tr>\n      <th>5</th>\n      <td>Ancient and Spitz</td>\n      <td>Ancient and Spitz</td>\n      <td>Ancient and Spitz</td>\n      <td>Alaskan Husky</td>\n    </tr>\n    <tr>\n      <th>...</th>\n      <td>...</td>\n      <td>...</td>\n      <td>...</td>\n      <td>...</td>\n    </tr>\n    <tr>\n      <th>1018</th>\n      <td>Working dogs</td>\n      <td>Shepherd - Other</td>\n      <td>Shepherd</td>\n      <td>Shiloh Shepherd Mix</td>\n    </tr>\n    <tr>\n      <th>1019</th>\n      <td>Working dogs</td>\n      <td>Shepherd - Other</td>\n      <td>Shepherd</td>\n      <td>shiloh shepherd</td>\n    </tr>\n    <tr>\n      <th>1020</th>\n      <td>Working dogs</td>\n      <td>Shepherd - Other</td>\n      <td>Shepherd</td>\n      <td>shiloh shepherd Mix</td>\n    </tr>\n    <tr>\n      <th>1022</th>\n      <td>Working dogs</td>\n      <td>Shepherd - Other</td>\n      <td>Shepherd</td>\n      <td>Tervuren</td>\n    </tr>\n    <tr>\n      <th>1023</th>\n      <td>Working dogs</td>\n      <td>Shepherd - Other</td>\n      <td>Shepherd</td>\n      <td>Tervuren Mix</td>\n    </tr>\n  </tbody>\n</table>\n<p>952 rows × 4 columns</p>\n</div>"
     },
     "execution_count": 39,
     "metadata": {},
     "output_type": "execute_result"
    }
   ],
   "source": [
    "import pandas as pd\n",
    "\n",
    "# Assuming breeds_df is your DataFrame\n",
    "# Check if \"Mix\" is not present in the \"Breed\" column\n",
    "non_mix_breeds = df_breeds[~df_breeds['Breed'].str.contains('Mix')]\n",
    "\n",
    "# Create a copy of the rows where \"Mix\" is not present\n",
    "non_mix_breeds_copy = non_mix_breeds.copy()\n",
    "\n",
    "# Append \"Mix\" to the \"Breed\" column in the copied rows\n",
    "non_mix_breeds_copy['Breed'] = non_mix_breeds_copy['Breed'] + ' Mix'\n",
    "\n",
    "# Initialize an empty list to store the final result\n",
    "result_rows = []\n",
    "\n",
    "# Iterate through the original DataFrame and insert \"Mix\" appended rows\n",
    "for index, row in df_breeds.iterrows():\n",
    "    result_rows.append(row)\n",
    "\n",
    "    # Check if the current breed does not contain \"Mix\"\n",
    "    if 'Mix' not in row['Breed']:\n",
    "        # Find the corresponding copied row\n",
    "        copied_row = non_mix_breeds_copy[non_mix_breeds_copy['Breed'] == row['Breed'] + ' Mix'].iloc[0]\n",
    "\n",
    "        # Insert the copied row directly under the original row\n",
    "        result_rows.append(copied_row)\n",
    "\n",
    "# Create a new DataFrame from the result_rows list\n",
    "result_df = pd.DataFrame(result_rows, columns=df_breeds.columns)\n",
    "\n",
    "# Reset the index\n",
    "result_df.reset_index(drop=True, inplace=True)\n",
    "\n",
    "# Drop duplicates based on all columns\n",
    "result_df = result_df.drop_duplicates()\n",
    "\n",
    "# Display the result DataFrame\n",
    "result_df"
   ],
   "metadata": {
    "collapsed": false
   }
  },
  {
   "cell_type": "code",
   "execution_count": 41,
   "outputs": [
    {
     "data": {
      "text/plain": "             Breed Type          Sub Breed        Breed Group  \\\n0     Ancient and Spitz  Ancient and Spitz  Ancient and Spitz   \n1     Ancient and Spitz  Ancient and Spitz  Ancient and Spitz   \n2     Ancient and Spitz  Ancient and Spitz  Ancient and Spitz   \n3     Ancient and Spitz  Ancient and Spitz  Ancient and Spitz   \n5     Ancient and Spitz  Ancient and Spitz  Ancient and Spitz   \n...                 ...                ...                ...   \n1018       Working dogs   Shepherd - Other           Shepherd   \n1019       Working dogs   Shepherd - Other           Shepherd   \n1020       Working dogs   Shepherd - Other           Shepherd   \n1022       Working dogs   Shepherd - Other           Shepherd   \n1023       Working dogs   Shepherd - Other           Shepherd   \n\n                    Breed  \n0                Ainu Dog  \n1            Ainu Dog Mix  \n2                   Akita  \n3               Akita Mix  \n5           Alaskan Husky  \n...                   ...  \n1018  Shiloh Shepherd Mix  \n1019      shiloh shepherd  \n1020  shiloh shepherd Mix  \n1022             Tervuren  \n1023         Tervuren Mix  \n\n[952 rows x 4 columns]",
      "text/html": "<div>\n<style scoped>\n    .dataframe tbody tr th:only-of-type {\n        vertical-align: middle;\n    }\n\n    .dataframe tbody tr th {\n        vertical-align: top;\n    }\n\n    .dataframe thead th {\n        text-align: right;\n    }\n</style>\n<table border=\"1\" class=\"dataframe\">\n  <thead>\n    <tr style=\"text-align: right;\">\n      <th></th>\n      <th>Breed Type</th>\n      <th>Sub Breed</th>\n      <th>Breed Group</th>\n      <th>Breed</th>\n    </tr>\n  </thead>\n  <tbody>\n    <tr>\n      <th>0</th>\n      <td>Ancient and Spitz</td>\n      <td>Ancient and Spitz</td>\n      <td>Ancient and Spitz</td>\n      <td>Ainu Dog</td>\n    </tr>\n    <tr>\n      <th>1</th>\n      <td>Ancient and Spitz</td>\n      <td>Ancient and Spitz</td>\n      <td>Ancient and Spitz</td>\n      <td>Ainu Dog Mix</td>\n    </tr>\n    <tr>\n      <th>2</th>\n      <td>Ancient and Spitz</td>\n      <td>Ancient and Spitz</td>\n      <td>Ancient and Spitz</td>\n      <td>Akita</td>\n    </tr>\n    <tr>\n      <th>3</th>\n      <td>Ancient and Spitz</td>\n      <td>Ancient and Spitz</td>\n      <td>Ancient and Spitz</td>\n      <td>Akita Mix</td>\n    </tr>\n    <tr>\n      <th>5</th>\n      <td>Ancient and Spitz</td>\n      <td>Ancient and Spitz</td>\n      <td>Ancient and Spitz</td>\n      <td>Alaskan Husky</td>\n    </tr>\n    <tr>\n      <th>...</th>\n      <td>...</td>\n      <td>...</td>\n      <td>...</td>\n      <td>...</td>\n    </tr>\n    <tr>\n      <th>1018</th>\n      <td>Working dogs</td>\n      <td>Shepherd - Other</td>\n      <td>Shepherd</td>\n      <td>Shiloh Shepherd Mix</td>\n    </tr>\n    <tr>\n      <th>1019</th>\n      <td>Working dogs</td>\n      <td>Shepherd - Other</td>\n      <td>Shepherd</td>\n      <td>shiloh shepherd</td>\n    </tr>\n    <tr>\n      <th>1020</th>\n      <td>Working dogs</td>\n      <td>Shepherd - Other</td>\n      <td>Shepherd</td>\n      <td>shiloh shepherd Mix</td>\n    </tr>\n    <tr>\n      <th>1022</th>\n      <td>Working dogs</td>\n      <td>Shepherd - Other</td>\n      <td>Shepherd</td>\n      <td>Tervuren</td>\n    </tr>\n    <tr>\n      <th>1023</th>\n      <td>Working dogs</td>\n      <td>Shepherd - Other</td>\n      <td>Shepherd</td>\n      <td>Tervuren Mix</td>\n    </tr>\n  </tbody>\n</table>\n<p>952 rows × 4 columns</p>\n</div>"
     },
     "execution_count": 41,
     "metadata": {},
     "output_type": "execute_result"
    }
   ],
   "source": [
    "# Save the result_df DataFrame to a CSV file\n",
    "result_df.to_csv(\"../Dataset/Supplementary_data/breed_grouping_extended.csv\", sep=\";\", encoding=\"ISO-8859-1\")\n",
    "result_df"
   ],
   "metadata": {
    "collapsed": false
   }
  },
  {
   "cell_type": "code",
   "execution_count": null,
   "outputs": [],
   "source": [
    "df_breeds = pd.read_csv(\"../Dataset/Supplementary_data/breed_grouping.csv\")"
   ],
   "metadata": {
    "collapsed": false
   }
  },
  {
   "cell_type": "code",
   "execution_count": 10,
   "outputs": [
    {
     "data": {
      "text/plain": "2                     Akita Mix\n8           American Eskimo Mix\n14                Chow Chow Mix\n16          Coton De Tulear Mix\n36                 Malamute Mix\n                 ...           \n507    Portuguese Water Dog Mix\n519        Belgian Shepherd Mix\n528    Bouvier Des Flandres Mix\n534         German Shepherd Mix\n549         Shiloh Shepherd Mix\nName: Breed, Length: 88, dtype: object"
     },
     "execution_count": 10,
     "metadata": {},
     "output_type": "execute_result"
    }
   ],
   "source": [
    "df_breeds[\"Breed\"][df_breeds[\"Breed\"].str.contains(\"Mix\")]"
   ],
   "metadata": {
    "collapsed": false
   }
  },
  {
   "cell_type": "code",
   "execution_count": 10,
   "outputs": [],
   "source": [
    "# Merge the two DataFrames based on the 'breed' column\n",
    "merged_DogOV_breeds = pd.merge(df_DogOV, df_breeds, on='Breed', how='left')"
   ],
   "metadata": {
    "collapsed": false
   }
  },
  {
   "cell_type": "code",
   "execution_count": 7,
   "outputs": [
    {
     "data": {
      "text/plain": "       dog_id DAP_Pack_Date    Cohort Cohort_Enroll_Date Estimated_DOB  \\\n0           8    2020-08-12  DAP Pack                NaN    2011-02-15   \n1           9    2020-10-28  DAP Pack                NaN    2008-04-15   \n2          11    2020-08-31  DAP Pack                NaN    2011-04-15   \n3          12    2020-09-15  DAP Pack                NaN    2013-08-15   \n4          13    2020-11-22  DAP Pack                NaN    2018-03-15   \n...       ...           ...       ...                ...           ...   \n33172  103633    2021-12-29  DAP Pack                NaN    2014-09-15   \n33173  103637    2021-12-29  DAP Pack                NaN    2019-12-15   \n33174  103643    2021-12-30  DAP Pack                NaN    2020-04-15   \n33175  103647    2021-12-31  DAP Pack                NaN    2016-08-15   \n33176  103658    2021-12-31  DAP Pack                NaN    2010-12-31   \n\n       Estimated_Age_Years_at_HLES  \\\n0                              9.5   \n1                             12.5   \n2                              9.4   \n3                              7.1   \n4                              2.7   \n...                            ...   \n33172                          7.3   \n33173                          2.0   \n33174                          1.7   \n33175                          5.4   \n33176                         11.0   \n\n                                AgeDOB_Estimation_Method  \\\n0      Estimated using owner-reported birth year and ...   \n1      Estimated using owner-reported birth year and ...   \n2      Estimated using owner-reported birth year and ...   \n3      Estimated using owner-reported birth year and ...   \n4      Estimated using owner-reported birth year and ...   \n...                                                  ...   \n33172  Estimated using owner-reported birth year and ...   \n33173  Estimated using owner-reported birth year and ...   \n33174  Estimated using owner-reported birth year and ...   \n33175  Estimated using owner-reported birth year and ...   \n33176                 Estimated using owner-reported age   \n\n      Dog_Reported_Deceased  DOD Breed_Status  ... AFUS_2021_Complete  \\\n0                         N  NaN  Mixed breed  ...        NNNNNNNNNNN   \n1                         N  NaN     Purebred  ...        NNNNNNNNNNN   \n2                         N  NaN     Purebred  ...        NNNNNNNNNNN   \n3                         N  NaN  Mixed breed  ...        NNNNNNNNNNN   \n4                         N  NaN     Purebred  ...        NNNNNNNNNNN   \n...                     ...  ...          ...  ...                ...   \n33172                     N  NaN     Purebred  ...        NNNNNNNNNNN   \n33173                     N  NaN  Mixed breed  ...        NNNNNNNNNNN   \n33174                     N  NaN  Mixed breed  ...        NNNNNNNNNNN   \n33175                     N  NaN     Purebred  ...        NNNNNNNNNNN   \n33176                     N  NaN  Mixed breed  ...        NNNNNNNNNNN   \n\n      EOLS_Complete DNA_Swab_ID PrimaryAddress_HLES SecondaryAddress_HLES  \\\n0                 N         NaN                   Y                     N   \n1                 N         NaN                   Y                     N   \n2                 N         NaN                   Y                     N   \n3                 N         NaN                   Y                     N   \n4                 N         NaN                   Y                     N   \n...             ...         ...                 ...                   ...   \n33172             N         NaN                   N                     N   \n33173             N         NaN                   N                     N   \n33174             N         NaN                   N                     N   \n33175             N         NaN                   N                     N   \n33176             N         NaN                   N                     N   \n\n      PrimaryAddress_AFUS2021 SecondaryAddress_AFUS2021         Breed Type  \\\n0                           N                         N          Retriever   \n1                           N                         N       Herding dogs   \n2                           N                         N          Retriever   \n3                           N                         N  Ancient and Spitz   \n4                           N                         N          Retriever   \n...                       ...                       ...                ...   \n33172                       N                         N       Herding dogs   \n33173                       N                         N          Retriever   \n33174                       N                         N       Working dogs   \n33175                       N                         N       Herding dogs   \n33176                       N                         N       Herding dogs   \n\n                     Sub Breed               Breed Group  \n0                         Labs                      Labs  \n1                 Sight Hounds      Herding dogs - Other  \n2                         Labs                      Labs  \n3            Ancient and Spitz         Ancient and Spitz  \n4                       Golden                    Golden  \n...                        ...                       ...  \n33172               Australian           Australian-like  \n33173                   Golden                    Golden  \n33174                Non-sport  Working dogs - Non-sport  \n33175  Collie, Corgi, Sheepdog           Australian-like  \n33176  Collie, Corgi, Sheepdog           Australian-like  \n\n[33172 rows x 30 columns]",
      "text/html": "<div>\n<style scoped>\n    .dataframe tbody tr th:only-of-type {\n        vertical-align: middle;\n    }\n\n    .dataframe tbody tr th {\n        vertical-align: top;\n    }\n\n    .dataframe thead th {\n        text-align: right;\n    }\n</style>\n<table border=\"1\" class=\"dataframe\">\n  <thead>\n    <tr style=\"text-align: right;\">\n      <th></th>\n      <th>dog_id</th>\n      <th>DAP_Pack_Date</th>\n      <th>Cohort</th>\n      <th>Cohort_Enroll_Date</th>\n      <th>Estimated_DOB</th>\n      <th>Estimated_Age_Years_at_HLES</th>\n      <th>AgeDOB_Estimation_Method</th>\n      <th>Dog_Reported_Deceased</th>\n      <th>DOD</th>\n      <th>Breed_Status</th>\n      <th>...</th>\n      <th>AFUS_2021_Complete</th>\n      <th>EOLS_Complete</th>\n      <th>DNA_Swab_ID</th>\n      <th>PrimaryAddress_HLES</th>\n      <th>SecondaryAddress_HLES</th>\n      <th>PrimaryAddress_AFUS2021</th>\n      <th>SecondaryAddress_AFUS2021</th>\n      <th>Breed Type</th>\n      <th>Sub Breed</th>\n      <th>Breed Group</th>\n    </tr>\n  </thead>\n  <tbody>\n    <tr>\n      <th>0</th>\n      <td>8</td>\n      <td>2020-08-12</td>\n      <td>DAP Pack</td>\n      <td>NaN</td>\n      <td>2011-02-15</td>\n      <td>9.5</td>\n      <td>Estimated using owner-reported birth year and ...</td>\n      <td>N</td>\n      <td>NaN</td>\n      <td>Mixed breed</td>\n      <td>...</td>\n      <td>NNNNNNNNNNN</td>\n      <td>N</td>\n      <td>NaN</td>\n      <td>Y</td>\n      <td>N</td>\n      <td>N</td>\n      <td>N</td>\n      <td>Retriever</td>\n      <td>Labs</td>\n      <td>Labs</td>\n    </tr>\n    <tr>\n      <th>1</th>\n      <td>9</td>\n      <td>2020-10-28</td>\n      <td>DAP Pack</td>\n      <td>NaN</td>\n      <td>2008-04-15</td>\n      <td>12.5</td>\n      <td>Estimated using owner-reported birth year and ...</td>\n      <td>N</td>\n      <td>NaN</td>\n      <td>Purebred</td>\n      <td>...</td>\n      <td>NNNNNNNNNNN</td>\n      <td>N</td>\n      <td>NaN</td>\n      <td>Y</td>\n      <td>N</td>\n      <td>N</td>\n      <td>N</td>\n      <td>Herding dogs</td>\n      <td>Sight Hounds</td>\n      <td>Herding dogs - Other</td>\n    </tr>\n    <tr>\n      <th>2</th>\n      <td>11</td>\n      <td>2020-08-31</td>\n      <td>DAP Pack</td>\n      <td>NaN</td>\n      <td>2011-04-15</td>\n      <td>9.4</td>\n      <td>Estimated using owner-reported birth year and ...</td>\n      <td>N</td>\n      <td>NaN</td>\n      <td>Purebred</td>\n      <td>...</td>\n      <td>NNNNNNNNNNN</td>\n      <td>N</td>\n      <td>NaN</td>\n      <td>Y</td>\n      <td>N</td>\n      <td>N</td>\n      <td>N</td>\n      <td>Retriever</td>\n      <td>Labs</td>\n      <td>Labs</td>\n    </tr>\n    <tr>\n      <th>3</th>\n      <td>12</td>\n      <td>2020-09-15</td>\n      <td>DAP Pack</td>\n      <td>NaN</td>\n      <td>2013-08-15</td>\n      <td>7.1</td>\n      <td>Estimated using owner-reported birth year and ...</td>\n      <td>N</td>\n      <td>NaN</td>\n      <td>Mixed breed</td>\n      <td>...</td>\n      <td>NNNNNNNNNNN</td>\n      <td>N</td>\n      <td>NaN</td>\n      <td>Y</td>\n      <td>N</td>\n      <td>N</td>\n      <td>N</td>\n      <td>Ancient and Spitz</td>\n      <td>Ancient and Spitz</td>\n      <td>Ancient and Spitz</td>\n    </tr>\n    <tr>\n      <th>4</th>\n      <td>13</td>\n      <td>2020-11-22</td>\n      <td>DAP Pack</td>\n      <td>NaN</td>\n      <td>2018-03-15</td>\n      <td>2.7</td>\n      <td>Estimated using owner-reported birth year and ...</td>\n      <td>N</td>\n      <td>NaN</td>\n      <td>Purebred</td>\n      <td>...</td>\n      <td>NNNNNNNNNNN</td>\n      <td>N</td>\n      <td>NaN</td>\n      <td>Y</td>\n      <td>N</td>\n      <td>N</td>\n      <td>N</td>\n      <td>Retriever</td>\n      <td>Golden</td>\n      <td>Golden</td>\n    </tr>\n    <tr>\n      <th>...</th>\n      <td>...</td>\n      <td>...</td>\n      <td>...</td>\n      <td>...</td>\n      <td>...</td>\n      <td>...</td>\n      <td>...</td>\n      <td>...</td>\n      <td>...</td>\n      <td>...</td>\n      <td>...</td>\n      <td>...</td>\n      <td>...</td>\n      <td>...</td>\n      <td>...</td>\n      <td>...</td>\n      <td>...</td>\n      <td>...</td>\n      <td>...</td>\n      <td>...</td>\n      <td>...</td>\n    </tr>\n    <tr>\n      <th>33172</th>\n      <td>103633</td>\n      <td>2021-12-29</td>\n      <td>DAP Pack</td>\n      <td>NaN</td>\n      <td>2014-09-15</td>\n      <td>7.3</td>\n      <td>Estimated using owner-reported birth year and ...</td>\n      <td>N</td>\n      <td>NaN</td>\n      <td>Purebred</td>\n      <td>...</td>\n      <td>NNNNNNNNNNN</td>\n      <td>N</td>\n      <td>NaN</td>\n      <td>N</td>\n      <td>N</td>\n      <td>N</td>\n      <td>N</td>\n      <td>Herding dogs</td>\n      <td>Australian</td>\n      <td>Australian-like</td>\n    </tr>\n    <tr>\n      <th>33173</th>\n      <td>103637</td>\n      <td>2021-12-29</td>\n      <td>DAP Pack</td>\n      <td>NaN</td>\n      <td>2019-12-15</td>\n      <td>2.0</td>\n      <td>Estimated using owner-reported birth year and ...</td>\n      <td>N</td>\n      <td>NaN</td>\n      <td>Mixed breed</td>\n      <td>...</td>\n      <td>NNNNNNNNNNN</td>\n      <td>N</td>\n      <td>NaN</td>\n      <td>N</td>\n      <td>N</td>\n      <td>N</td>\n      <td>N</td>\n      <td>Retriever</td>\n      <td>Golden</td>\n      <td>Golden</td>\n    </tr>\n    <tr>\n      <th>33174</th>\n      <td>103643</td>\n      <td>2021-12-30</td>\n      <td>DAP Pack</td>\n      <td>NaN</td>\n      <td>2020-04-15</td>\n      <td>1.7</td>\n      <td>Estimated using owner-reported birth year and ...</td>\n      <td>N</td>\n      <td>NaN</td>\n      <td>Mixed breed</td>\n      <td>...</td>\n      <td>NNNNNNNNNNN</td>\n      <td>N</td>\n      <td>NaN</td>\n      <td>N</td>\n      <td>N</td>\n      <td>N</td>\n      <td>N</td>\n      <td>Working dogs</td>\n      <td>Non-sport</td>\n      <td>Working dogs - Non-sport</td>\n    </tr>\n    <tr>\n      <th>33175</th>\n      <td>103647</td>\n      <td>2021-12-31</td>\n      <td>DAP Pack</td>\n      <td>NaN</td>\n      <td>2016-08-15</td>\n      <td>5.4</td>\n      <td>Estimated using owner-reported birth year and ...</td>\n      <td>N</td>\n      <td>NaN</td>\n      <td>Purebred</td>\n      <td>...</td>\n      <td>NNNNNNNNNNN</td>\n      <td>N</td>\n      <td>NaN</td>\n      <td>N</td>\n      <td>N</td>\n      <td>N</td>\n      <td>N</td>\n      <td>Herding dogs</td>\n      <td>Collie, Corgi, Sheepdog</td>\n      <td>Australian-like</td>\n    </tr>\n    <tr>\n      <th>33176</th>\n      <td>103658</td>\n      <td>2021-12-31</td>\n      <td>DAP Pack</td>\n      <td>NaN</td>\n      <td>2010-12-31</td>\n      <td>11.0</td>\n      <td>Estimated using owner-reported age</td>\n      <td>N</td>\n      <td>NaN</td>\n      <td>Mixed breed</td>\n      <td>...</td>\n      <td>NNNNNNNNNNN</td>\n      <td>N</td>\n      <td>NaN</td>\n      <td>N</td>\n      <td>N</td>\n      <td>N</td>\n      <td>N</td>\n      <td>Herding dogs</td>\n      <td>Collie, Corgi, Sheepdog</td>\n      <td>Australian-like</td>\n    </tr>\n  </tbody>\n</table>\n<p>33172 rows × 30 columns</p>\n</div>"
     },
     "execution_count": 7,
     "metadata": {},
     "output_type": "execute_result"
    }
   ],
   "source": [
    "merged_DogOV_breeds.drop_duplicates(inplace=True)\n",
    "merged_DogOV_breeds"
   ],
   "metadata": {
    "collapsed": false
   }
  },
  {
   "cell_type": "markdown",
   "source": [
    "## Merge DogOverview extended with Breed Type, Sub Breed, Breed Group, Breed with AFUS"
   ],
   "metadata": {
    "collapsed": false
   }
  },
  {
   "cell_type": "code",
   "execution_count": null,
   "outputs": [],
   "source": [
    "file_path_AFUSdo = 'Dataset/SurveyData/SurveyData_CSV_DAP_2021_AFUS_dog_owner_v1.0.csv'\n",
    "df_AFUSdo = pd.read_csv(file_path_AFUSdo)\n",
    "df_AFUSdo"
   ],
   "metadata": {
    "collapsed": false
   }
  },
  {
   "cell_type": "code",
   "execution_count": null,
   "outputs": [],
   "source": [
    "merged_DogOV_breeds_AFUSdo = pd.merge(df_AFUSdo, merged_DogOV_breeds, on='dog_id', how='left')\n",
    "merged_DogOV_breeds_AFUSdo"
   ],
   "metadata": {
    "collapsed": false
   }
  }
 ],
 "metadata": {
  "kernelspec": {
   "display_name": "Python 3",
   "language": "python",
   "name": "python3"
  },
  "language_info": {
   "codemirror_mode": {
    "name": "ipython",
    "version": 2
   },
   "file_extension": ".py",
   "mimetype": "text/x-python",
   "name": "python",
   "nbconvert_exporter": "python",
   "pygments_lexer": "ipython2",
   "version": "2.7.6"
  }
 },
 "nbformat": 4,
 "nbformat_minor": 0
}
