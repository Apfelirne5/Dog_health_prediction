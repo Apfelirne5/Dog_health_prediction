{
 "cells": [
  {
   "cell_type": "code",
   "execution_count": 2,
   "metadata": {},
   "outputs": [],
   "source": [
    "import pandas as pd\n",
    "import numpy as np \n"
   ]
  },
  {
   "cell_type": "code",
   "execution_count": 3,
   "metadata": {},
   "outputs": [],
   "source": [
    "file_path1 = \"../Dataset/SurveyData/SurveyData_CSV_DAP_2021_AFUS_dog_owner_v1.0.csv\"\n",
    "file_path2 = \"../Dataset/SurveyData/SurveyData_CSV_DAP_2021_AFUS_cancer_conditions_v1.0.csv\"\n",
    "file_path3 = \"../Dataset/SurveyData/SurveyData_CSV_DAP_2021_AFUS_health_conditions_v1.0.csv\""
   ]
  },
  {
   "cell_type": "code",
   "execution_count": 4,
   "metadata": {},
   "outputs": [
    {
     "name": "stderr",
     "output_type": "stream",
     "text": [
      "/var/folders/lf/7fvgcgnd1fx26qng25slv7tw0000gn/T/ipykernel_1895/1106903183.py:1: DtypeWarning: Columns (36,38,40,42,44,46,48,50,52,54,56,67,70,73,74,75,80,99,195,199,202,207,209,212,348,354,360,366,521,561,735,743) have mixed types. Specify dtype option on import or set low_memory=False.\n",
      "  dog_owner = pd.read_csv(file_path1)\n"
     ]
    }
   ],
   "source": [
    "dog_owner = pd.read_csv(file_path1)\n",
    "cancer_condition = pd.read_csv(file_path2)\n",
    "health_condition = pd.read_csv(file_path3)"
   ]
  },
  {
   "cell_type": "code",
   "execution_count": 26,
   "metadata": {},
   "outputs": [
    {
     "data": {
      "text/html": [
       "<div>\n",
       "<style scoped>\n",
       "    .dataframe tbody tr th:only-of-type {\n",
       "        vertical-align: middle;\n",
       "    }\n",
       "\n",
       "    .dataframe tbody tr th {\n",
       "        vertical-align: top;\n",
       "    }\n",
       "\n",
       "    .dataframe thead th {\n",
       "        text-align: right;\n",
       "    }\n",
       "</style>\n",
       "<table border=\"1\" class=\"dataframe\">\n",
       "  <thead>\n",
       "    <tr style=\"text-align: right;\">\n",
       "      <th></th>\n",
       "      <th>dog_id</th>\n",
       "      <th>afus_dd_activities_companion_animal</th>\n",
       "      <th>afus_dd_activities_obedience</th>\n",
       "      <th>afus_dd_activities_show</th>\n",
       "      <th>afus_dd_activities_breeding</th>\n",
       "      <th>afus_dd_activities_agility</th>\n",
       "      <th>afus_dd_activities_hunting</th>\n",
       "      <th>afus_dd_activities_working</th>\n",
       "    </tr>\n",
       "  </thead>\n",
       "  <tbody>\n",
       "  </tbody>\n",
       "</table>\n",
       "</div>"
      ],
      "text/plain": [
       "Empty DataFrame\n",
       "Columns: [dog_id, afus_dd_activities_companion_animal, afus_dd_activities_obedience, afus_dd_activities_show, afus_dd_activities_breeding, afus_dd_activities_agility, afus_dd_activities_hunting, afus_dd_activities_working]\n",
       "Index: []"
      ]
     },
     "execution_count": 26,
     "metadata": {},
     "output_type": "execute_result"
    }
   ],
   "source": [
    "dog_role = dog_owner[['dog_id', \n",
    "                      'afus_dd_activities_companion_animal', \n",
    "                      'afus_dd_activities_obedience', \n",
    "                      'afus_dd_activities_show', \n",
    "                      'afus_dd_activities_breeding', \n",
    "                      'afus_dd_activities_agility', \n",
    "                      'afus_dd_activities_hunting', \n",
    "                      'afus_dd_activities_working', \n",
    "                    #   'afus_dd_activities_field_trials', \n",
    "                    #   'afus_dd_activities_search_and_rescue', \n",
    "                    #   'afus_dd_activities_service', \n",
    "                    #   'afus_dd_activities_assistance_or_therapy'\n",
    "                    ]]\n",
    "dog_role = dog_role.dropna()\n",
    "dog_role"
   ]
  },
  {
   "cell_type": "code",
   "execution_count": null,
   "metadata": {},
   "outputs": [],
   "source": []
  }
 ],
 "metadata": {
  "kernelspec": {
   "display_name": "base",
   "language": "python",
   "name": "python3"
  },
  "language_info": {
   "codemirror_mode": {
    "name": "ipython",
    "version": 3
   },
   "file_extension": ".py",
   "mimetype": "text/x-python",
   "name": "python",
   "nbconvert_exporter": "python",
   "pygments_lexer": "ipython3",
   "version": "3.9.12"
  }
 },
 "nbformat": 4,
 "nbformat_minor": 2
}
